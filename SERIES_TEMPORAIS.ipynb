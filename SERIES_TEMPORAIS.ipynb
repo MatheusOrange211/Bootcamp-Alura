{
  "nbformat": 4,
  "nbformat_minor": 0,
  "metadata": {
    "colab": {
      "name": "SERIES TEMPORAIS",
      "provenance": [],
      "collapsed_sections": [],
      "authorship_tag": "ABX9TyNM7brUx2ebDLoCHo+S6zWc",
      "include_colab_link": true
    },
    "kernelspec": {
      "name": "python3",
      "display_name": "Python 3"
    }
  },
  "cells": [
    {
      "cell_type": "markdown",
      "metadata": {
        "id": "view-in-github",
        "colab_type": "text"
      },
      "source": [
        "<a href=\"https://colab.research.google.com/github/MatheusOrange211/Bootcamp-Alura/blob/main/SERIES_TEMPORAIS.ipynb\" target=\"_parent\"><img src=\"https://colab.research.google.com/assets/colab-badge.svg\" alt=\"Open In Colab\"/></a>"
      ]
    },
    {
      "cell_type": "markdown",
      "metadata": {
        "id": "FDZpDPiaaN9d"
      },
      "source": [
        "# 📙 **MÓDULO 4 - ANÁLISE DE SÉRIES TEMPORAIS USANDO O DATASUS**\r\n",
        "---"
      ]
    },
    {
      "cell_type": "markdown",
      "metadata": {
        "id": "SdL_vWB2DsZn"
      },
      "source": [
        "#importação dos dados e bibliotecas"
      ]
    },
    {
      "cell_type": "code",
      "metadata": {
        "id": "yQ-yLhcJdSiT"
      },
      "source": [
        "import pandas as pd\r\n",
        "import seaborn as sns\r\n",
        "import matplotlib.pyplot as plt\r\n",
        "import matplotlib.ticker as ticker\r\n",
        "import datetime\r\n",
        "\r\n",
        "# sns.set() #transformar o plot no formato de seaborn"
      ],
      "execution_count": 1,
      "outputs": []
    },
    {
      "cell_type": "code",
      "metadata": {
        "id": "II12bHQuaKZY"
      },
      "source": [
        "url = \"https://raw.githubusercontent.com/alura-cursos/serie_temporal_bootcamp/main/tuberculose_ano_mes_diagnostico.csv\""
      ],
      "execution_count": 2,
      "outputs": []
    },
    {
      "cell_type": "markdown",
      "metadata": {
        "id": "VRpirw6-D4cf"
      },
      "source": [
        "#O que são séries temporais?\r\n",
        "\r\n",
        "Em estatística, econometria, matemática aplicada e processamento de sinais, uma série temporal é uma coleção de observações feitas sequencialmente ao longo do tempo."
      ]
    },
    {
      "cell_type": "code",
      "metadata": {
        "id": "F77dKlMAddYo",
        "colab": {
          "base_uri": "https://localhost:8080/",
          "height": 638
        },
        "outputId": "c5e5ca2e-24cd-480d-d715-d8df5eceb3bd"
      },
      "source": [
        "dados_temporais = pd.read_csv(url,encoding=\"ISO-8859-1\",sep=\";\",skiprows=3,skipfooter=17,engine='python')\r\n",
        "dados_temporais.drop(\"Total\",axis=1,inplace=True)\r\n",
        "dados_temporais"
      ],
      "execution_count": 3,
      "outputs": [
        {
          "output_type": "execute_result",
          "data": {
            "text/html": [
              "<div>\n",
              "<style scoped>\n",
              "    .dataframe tbody tr th:only-of-type {\n",
              "        vertical-align: middle;\n",
              "    }\n",
              "\n",
              "    .dataframe tbody tr th {\n",
              "        vertical-align: top;\n",
              "    }\n",
              "\n",
              "    .dataframe thead th {\n",
              "        text-align: right;\n",
              "    }\n",
              "</style>\n",
              "<table border=\"1\" class=\"dataframe\">\n",
              "  <thead>\n",
              "    <tr style=\"text-align: right;\">\n",
              "      <th></th>\n",
              "      <th>Ano Diagnóstico</th>\n",
              "      <th>Jan</th>\n",
              "      <th>Fev</th>\n",
              "      <th>Mar</th>\n",
              "      <th>Abr</th>\n",
              "      <th>Mai</th>\n",
              "      <th>Jun</th>\n",
              "      <th>Jul</th>\n",
              "      <th>Ago</th>\n",
              "      <th>Set</th>\n",
              "      <th>Out</th>\n",
              "      <th>Nov</th>\n",
              "      <th>Dez</th>\n",
              "    </tr>\n",
              "  </thead>\n",
              "  <tbody>\n",
              "    <tr>\n",
              "      <th>0</th>\n",
              "      <td>2001</td>\n",
              "      <td>8088</td>\n",
              "      <td>6542</td>\n",
              "      <td>8095</td>\n",
              "      <td>7305</td>\n",
              "      <td>7656</td>\n",
              "      <td>6805</td>\n",
              "      <td>6987</td>\n",
              "      <td>8065</td>\n",
              "      <td>6697</td>\n",
              "      <td>7524</td>\n",
              "      <td>6874</td>\n",
              "      <td>6627</td>\n",
              "    </tr>\n",
              "    <tr>\n",
              "      <th>1</th>\n",
              "      <td>2002</td>\n",
              "      <td>8013</td>\n",
              "      <td>7346</td>\n",
              "      <td>7961</td>\n",
              "      <td>8771</td>\n",
              "      <td>7784</td>\n",
              "      <td>6713</td>\n",
              "      <td>7746</td>\n",
              "      <td>8330</td>\n",
              "      <td>7654</td>\n",
              "      <td>8200</td>\n",
              "      <td>7532</td>\n",
              "      <td>6809</td>\n",
              "    </tr>\n",
              "    <tr>\n",
              "      <th>2</th>\n",
              "      <td>2003</td>\n",
              "      <td>8115</td>\n",
              "      <td>7985</td>\n",
              "      <td>7474</td>\n",
              "      <td>7975</td>\n",
              "      <td>8024</td>\n",
              "      <td>7082</td>\n",
              "      <td>7949</td>\n",
              "      <td>7585</td>\n",
              "      <td>8136</td>\n",
              "      <td>8521</td>\n",
              "      <td>7624</td>\n",
              "      <td>7303</td>\n",
              "    </tr>\n",
              "    <tr>\n",
              "      <th>3</th>\n",
              "      <td>2004</td>\n",
              "      <td>7574</td>\n",
              "      <td>6743</td>\n",
              "      <td>8574</td>\n",
              "      <td>8089</td>\n",
              "      <td>7763</td>\n",
              "      <td>7314</td>\n",
              "      <td>7825</td>\n",
              "      <td>8232</td>\n",
              "      <td>7901</td>\n",
              "      <td>8016</td>\n",
              "      <td>7753</td>\n",
              "      <td>7196</td>\n",
              "    </tr>\n",
              "    <tr>\n",
              "      <th>4</th>\n",
              "      <td>2005</td>\n",
              "      <td>7432</td>\n",
              "      <td>6748</td>\n",
              "      <td>8441</td>\n",
              "      <td>7958</td>\n",
              "      <td>8019</td>\n",
              "      <td>7781</td>\n",
              "      <td>7282</td>\n",
              "      <td>8391</td>\n",
              "      <td>7690</td>\n",
              "      <td>7186</td>\n",
              "      <td>7587</td>\n",
              "      <td>7541</td>\n",
              "    </tr>\n",
              "    <tr>\n",
              "      <th>5</th>\n",
              "      <td>2006</td>\n",
              "      <td>7385</td>\n",
              "      <td>6687</td>\n",
              "      <td>8132</td>\n",
              "      <td>6804</td>\n",
              "      <td>7593</td>\n",
              "      <td>6984</td>\n",
              "      <td>7101</td>\n",
              "      <td>7722</td>\n",
              "      <td>6793</td>\n",
              "      <td>7005</td>\n",
              "      <td>6674</td>\n",
              "      <td>6151</td>\n",
              "    </tr>\n",
              "    <tr>\n",
              "      <th>6</th>\n",
              "      <td>2007</td>\n",
              "      <td>7342</td>\n",
              "      <td>6204</td>\n",
              "      <td>8115</td>\n",
              "      <td>7266</td>\n",
              "      <td>7368</td>\n",
              "      <td>6591</td>\n",
              "      <td>7184</td>\n",
              "      <td>7564</td>\n",
              "      <td>6712</td>\n",
              "      <td>7465</td>\n",
              "      <td>6695</td>\n",
              "      <td>6094</td>\n",
              "    </tr>\n",
              "    <tr>\n",
              "      <th>7</th>\n",
              "      <td>2008</td>\n",
              "      <td>7355</td>\n",
              "      <td>6646</td>\n",
              "      <td>7278</td>\n",
              "      <td>7612</td>\n",
              "      <td>6895</td>\n",
              "      <td>6929</td>\n",
              "      <td>7688</td>\n",
              "      <td>7797</td>\n",
              "      <td>7631</td>\n",
              "      <td>7564</td>\n",
              "      <td>6799</td>\n",
              "      <td>6574</td>\n",
              "    </tr>\n",
              "    <tr>\n",
              "      <th>8</th>\n",
              "      <td>2009</td>\n",
              "      <td>7113</td>\n",
              "      <td>6452</td>\n",
              "      <td>8146</td>\n",
              "      <td>7514</td>\n",
              "      <td>7168</td>\n",
              "      <td>6702</td>\n",
              "      <td>7443</td>\n",
              "      <td>7368</td>\n",
              "      <td>7388</td>\n",
              "      <td>7285</td>\n",
              "      <td>7016</td>\n",
              "      <td>6723</td>\n",
              "    </tr>\n",
              "    <tr>\n",
              "      <th>9</th>\n",
              "      <td>2010</td>\n",
              "      <td>6912</td>\n",
              "      <td>6403</td>\n",
              "      <td>8308</td>\n",
              "      <td>7049</td>\n",
              "      <td>6973</td>\n",
              "      <td>6621</td>\n",
              "      <td>7128</td>\n",
              "      <td>7389</td>\n",
              "      <td>7165</td>\n",
              "      <td>7210</td>\n",
              "      <td>7047</td>\n",
              "      <td>7176</td>\n",
              "    </tr>\n",
              "    <tr>\n",
              "      <th>10</th>\n",
              "      <td>2011</td>\n",
              "      <td>7112</td>\n",
              "      <td>7269</td>\n",
              "      <td>7484</td>\n",
              "      <td>7558</td>\n",
              "      <td>7688</td>\n",
              "      <td>6940</td>\n",
              "      <td>7079</td>\n",
              "      <td>7992</td>\n",
              "      <td>7386</td>\n",
              "      <td>6994</td>\n",
              "      <td>7375</td>\n",
              "      <td>6936</td>\n",
              "    </tr>\n",
              "    <tr>\n",
              "      <th>11</th>\n",
              "      <td>2012</td>\n",
              "      <td>7375</td>\n",
              "      <td>6774</td>\n",
              "      <td>7882</td>\n",
              "      <td>6927</td>\n",
              "      <td>7586</td>\n",
              "      <td>6787</td>\n",
              "      <td>7255</td>\n",
              "      <td>8014</td>\n",
              "      <td>6734</td>\n",
              "      <td>7606</td>\n",
              "      <td>6941</td>\n",
              "      <td>6302</td>\n",
              "    </tr>\n",
              "    <tr>\n",
              "      <th>12</th>\n",
              "      <td>2013</td>\n",
              "      <td>7502</td>\n",
              "      <td>6209</td>\n",
              "      <td>7102</td>\n",
              "      <td>7696</td>\n",
              "      <td>6996</td>\n",
              "      <td>6953</td>\n",
              "      <td>7379</td>\n",
              "      <td>7931</td>\n",
              "      <td>7377</td>\n",
              "      <td>7789</td>\n",
              "      <td>6939</td>\n",
              "      <td>6335</td>\n",
              "    </tr>\n",
              "    <tr>\n",
              "      <th>13</th>\n",
              "      <td>2014</td>\n",
              "      <td>7670</td>\n",
              "      <td>7040</td>\n",
              "      <td>6754</td>\n",
              "      <td>7260</td>\n",
              "      <td>7177</td>\n",
              "      <td>6322</td>\n",
              "      <td>7516</td>\n",
              "      <td>7124</td>\n",
              "      <td>7505</td>\n",
              "      <td>7470</td>\n",
              "      <td>6905</td>\n",
              "      <td>6470</td>\n",
              "    </tr>\n",
              "    <tr>\n",
              "      <th>14</th>\n",
              "      <td>2015</td>\n",
              "      <td>7111</td>\n",
              "      <td>6160</td>\n",
              "      <td>7833</td>\n",
              "      <td>6880</td>\n",
              "      <td>6893</td>\n",
              "      <td>6916</td>\n",
              "      <td>7531</td>\n",
              "      <td>7463</td>\n",
              "      <td>7189</td>\n",
              "      <td>7345</td>\n",
              "      <td>7287</td>\n",
              "      <td>6844</td>\n",
              "    </tr>\n",
              "    <tr>\n",
              "      <th>15</th>\n",
              "      <td>2016</td>\n",
              "      <td>7116</td>\n",
              "      <td>6800</td>\n",
              "      <td>8067</td>\n",
              "      <td>7360</td>\n",
              "      <td>7315</td>\n",
              "      <td>7527</td>\n",
              "      <td>6991</td>\n",
              "      <td>7702</td>\n",
              "      <td>7030</td>\n",
              "      <td>6588</td>\n",
              "      <td>7039</td>\n",
              "      <td>6672</td>\n",
              "    </tr>\n",
              "    <tr>\n",
              "      <th>16</th>\n",
              "      <td>2017</td>\n",
              "      <td>7481</td>\n",
              "      <td>6803</td>\n",
              "      <td>8680</td>\n",
              "      <td>6780</td>\n",
              "      <td>8091</td>\n",
              "      <td>7394</td>\n",
              "      <td>7225</td>\n",
              "      <td>8110</td>\n",
              "      <td>7447</td>\n",
              "      <td>7809</td>\n",
              "      <td>7451</td>\n",
              "      <td>7020</td>\n",
              "    </tr>\n",
              "    <tr>\n",
              "      <th>17</th>\n",
              "      <td>2018</td>\n",
              "      <td>7881</td>\n",
              "      <td>6821</td>\n",
              "      <td>7901</td>\n",
              "      <td>8121</td>\n",
              "      <td>7892</td>\n",
              "      <td>7720</td>\n",
              "      <td>8109</td>\n",
              "      <td>8934</td>\n",
              "      <td>7663</td>\n",
              "      <td>8701</td>\n",
              "      <td>7711</td>\n",
              "      <td>6900</td>\n",
              "    </tr>\n",
              "    <tr>\n",
              "      <th>18</th>\n",
              "      <td>2019</td>\n",
              "      <td>8392</td>\n",
              "      <td>7754</td>\n",
              "      <td>7648</td>\n",
              "      <td>8274</td>\n",
              "      <td>8383</td>\n",
              "      <td>7363</td>\n",
              "      <td>8382</td>\n",
              "      <td>8239</td>\n",
              "      <td>8143</td>\n",
              "      <td>8592</td>\n",
              "      <td>7615</td>\n",
              "      <td>7220</td>\n",
              "    </tr>\n",
              "  </tbody>\n",
              "</table>\n",
              "</div>"
            ],
            "text/plain": [
              "    Ano Diagnóstico   Jan   Fev   Mar   Abr  ...   Ago   Set   Out   Nov   Dez\n",
              "0              2001  8088  6542  8095  7305  ...  8065  6697  7524  6874  6627\n",
              "1              2002  8013  7346  7961  8771  ...  8330  7654  8200  7532  6809\n",
              "2              2003  8115  7985  7474  7975  ...  7585  8136  8521  7624  7303\n",
              "3              2004  7574  6743  8574  8089  ...  8232  7901  8016  7753  7196\n",
              "4              2005  7432  6748  8441  7958  ...  8391  7690  7186  7587  7541\n",
              "5              2006  7385  6687  8132  6804  ...  7722  6793  7005  6674  6151\n",
              "6              2007  7342  6204  8115  7266  ...  7564  6712  7465  6695  6094\n",
              "7              2008  7355  6646  7278  7612  ...  7797  7631  7564  6799  6574\n",
              "8              2009  7113  6452  8146  7514  ...  7368  7388  7285  7016  6723\n",
              "9              2010  6912  6403  8308  7049  ...  7389  7165  7210  7047  7176\n",
              "10             2011  7112  7269  7484  7558  ...  7992  7386  6994  7375  6936\n",
              "11             2012  7375  6774  7882  6927  ...  8014  6734  7606  6941  6302\n",
              "12             2013  7502  6209  7102  7696  ...  7931  7377  7789  6939  6335\n",
              "13             2014  7670  7040  6754  7260  ...  7124  7505  7470  6905  6470\n",
              "14             2015  7111  6160  7833  6880  ...  7463  7189  7345  7287  6844\n",
              "15             2016  7116  6800  8067  7360  ...  7702  7030  6588  7039  6672\n",
              "16             2017  7481  6803  8680  6780  ...  8110  7447  7809  7451  7020\n",
              "17             2018  7881  6821  7901  8121  ...  8934  7663  8701  7711  6900\n",
              "18             2019  8392  7754  7648  8274  ...  8239  8143  8592  7615  7220\n",
              "\n",
              "[19 rows x 13 columns]"
            ]
          },
          "metadata": {
            "tags": []
          },
          "execution_count": 3
        }
      ]
    },
    {
      "cell_type": "markdown",
      "metadata": {
        "id": "HO5_tN13uoR6"
      },
      "source": [
        "## 📗 AULA 4 - DESAFIO 01 :Transformar os dados em uma série temporal Ano-Mês\r\n"
      ]
    },
    {
      "cell_type": "markdown",
      "metadata": {
        "id": "btiQfHdR576Q"
      },
      "source": [
        "\r\n",
        "A ideia é criar, a partir do dataset original um novo dataframe no estilo ano-mês.\r\n",
        "\r\n",
        "````\r\n",
        "ano-mes | valor\r\n",
        "2015.1  | 4895\r\n",
        "2015.2  | 8952\r\n",
        "2015.3  | 2435\r\n",
        "2015.4  | 9390\r\n",
        "````\r\n",
        "\r\n",
        "Para isso, primeiro copiamos o dataframe diretamente da url, removemos o campo de total que não será necessário e assim temos os dados originais"
      ]
    },
    {
      "cell_type": "code",
      "metadata": {
        "id": "9v3U0GhcdgIE",
        "colab": {
          "base_uri": "https://localhost:8080/",
          "height": 235
        },
        "outputId": "793c7d7c-7c58-44fb-a295-1bdf19f29b0b"
      },
      "source": [
        "dados_temporais_desafio = pd.read_csv(url,encoding=\"ISO-8859-1\",sep=\";\",skiprows=3,skipfooter=17,engine='python')\r\n",
        "dados_temporais_desafio = dados_temporais_desafio.drop(\"Total\",axis=1)\r\n",
        "dados_temporais_desafio = dados_temporais_desafio.set_index(\"Ano Diagnóstico\")\r\n",
        "dados_temporais_desafio.head()"
      ],
      "execution_count": 4,
      "outputs": [
        {
          "output_type": "execute_result",
          "data": {
            "text/html": [
              "<div>\n",
              "<style scoped>\n",
              "    .dataframe tbody tr th:only-of-type {\n",
              "        vertical-align: middle;\n",
              "    }\n",
              "\n",
              "    .dataframe tbody tr th {\n",
              "        vertical-align: top;\n",
              "    }\n",
              "\n",
              "    .dataframe thead th {\n",
              "        text-align: right;\n",
              "    }\n",
              "</style>\n",
              "<table border=\"1\" class=\"dataframe\">\n",
              "  <thead>\n",
              "    <tr style=\"text-align: right;\">\n",
              "      <th></th>\n",
              "      <th>Jan</th>\n",
              "      <th>Fev</th>\n",
              "      <th>Mar</th>\n",
              "      <th>Abr</th>\n",
              "      <th>Mai</th>\n",
              "      <th>Jun</th>\n",
              "      <th>Jul</th>\n",
              "      <th>Ago</th>\n",
              "      <th>Set</th>\n",
              "      <th>Out</th>\n",
              "      <th>Nov</th>\n",
              "      <th>Dez</th>\n",
              "    </tr>\n",
              "    <tr>\n",
              "      <th>Ano Diagnóstico</th>\n",
              "      <th></th>\n",
              "      <th></th>\n",
              "      <th></th>\n",
              "      <th></th>\n",
              "      <th></th>\n",
              "      <th></th>\n",
              "      <th></th>\n",
              "      <th></th>\n",
              "      <th></th>\n",
              "      <th></th>\n",
              "      <th></th>\n",
              "      <th></th>\n",
              "    </tr>\n",
              "  </thead>\n",
              "  <tbody>\n",
              "    <tr>\n",
              "      <th>2001</th>\n",
              "      <td>8088</td>\n",
              "      <td>6542</td>\n",
              "      <td>8095</td>\n",
              "      <td>7305</td>\n",
              "      <td>7656</td>\n",
              "      <td>6805</td>\n",
              "      <td>6987</td>\n",
              "      <td>8065</td>\n",
              "      <td>6697</td>\n",
              "      <td>7524</td>\n",
              "      <td>6874</td>\n",
              "      <td>6627</td>\n",
              "    </tr>\n",
              "    <tr>\n",
              "      <th>2002</th>\n",
              "      <td>8013</td>\n",
              "      <td>7346</td>\n",
              "      <td>7961</td>\n",
              "      <td>8771</td>\n",
              "      <td>7784</td>\n",
              "      <td>6713</td>\n",
              "      <td>7746</td>\n",
              "      <td>8330</td>\n",
              "      <td>7654</td>\n",
              "      <td>8200</td>\n",
              "      <td>7532</td>\n",
              "      <td>6809</td>\n",
              "    </tr>\n",
              "    <tr>\n",
              "      <th>2003</th>\n",
              "      <td>8115</td>\n",
              "      <td>7985</td>\n",
              "      <td>7474</td>\n",
              "      <td>7975</td>\n",
              "      <td>8024</td>\n",
              "      <td>7082</td>\n",
              "      <td>7949</td>\n",
              "      <td>7585</td>\n",
              "      <td>8136</td>\n",
              "      <td>8521</td>\n",
              "      <td>7624</td>\n",
              "      <td>7303</td>\n",
              "    </tr>\n",
              "    <tr>\n",
              "      <th>2004</th>\n",
              "      <td>7574</td>\n",
              "      <td>6743</td>\n",
              "      <td>8574</td>\n",
              "      <td>8089</td>\n",
              "      <td>7763</td>\n",
              "      <td>7314</td>\n",
              "      <td>7825</td>\n",
              "      <td>8232</td>\n",
              "      <td>7901</td>\n",
              "      <td>8016</td>\n",
              "      <td>7753</td>\n",
              "      <td>7196</td>\n",
              "    </tr>\n",
              "    <tr>\n",
              "      <th>2005</th>\n",
              "      <td>7432</td>\n",
              "      <td>6748</td>\n",
              "      <td>8441</td>\n",
              "      <td>7958</td>\n",
              "      <td>8019</td>\n",
              "      <td>7781</td>\n",
              "      <td>7282</td>\n",
              "      <td>8391</td>\n",
              "      <td>7690</td>\n",
              "      <td>7186</td>\n",
              "      <td>7587</td>\n",
              "      <td>7541</td>\n",
              "    </tr>\n",
              "  </tbody>\n",
              "</table>\n",
              "</div>"
            ],
            "text/plain": [
              "                  Jan   Fev   Mar   Abr   Mai  ...   Ago   Set   Out   Nov   Dez\n",
              "Ano Diagnóstico                                ...                              \n",
              "2001             8088  6542  8095  7305  7656  ...  8065  6697  7524  6874  6627\n",
              "2002             8013  7346  7961  8771  7784  ...  8330  7654  8200  7532  6809\n",
              "2003             8115  7985  7474  7975  8024  ...  7585  8136  8521  7624  7303\n",
              "2004             7574  6743  8574  8089  7763  ...  8232  7901  8016  7753  7196\n",
              "2005             7432  6748  8441  7958  8019  ...  8391  7690  7186  7587  7541\n",
              "\n",
              "[5 rows x 12 columns]"
            ]
          },
          "metadata": {
            "tags": []
          },
          "execution_count": 4
        }
      ]
    },
    {
      "cell_type": "markdown",
      "metadata": {
        "id": "WLmeEXpY6kpe"
      },
      "source": [
        "Foi criado então duas variáveis com **list comprehension**. Na `ano_mes` concatenamos os anos com os meses, formando `2007.1` (preferi transformar os nomes dos meses em números mesmo, por isso o uso do `range`no laço `for` *j*).\r\n",
        "\r\n",
        "<br>\r\n",
        "Crio então, uma segunda list comprehension que comportará nossa matriz de valores. Os dois laços `for`criarão a seguinte combinação:\r\n",
        "\r\n",
        "onde temos que :\r\n",
        "* i para as linhas;\r\n",
        "* j para as colunas\r\n",
        "\r\n",
        "Para sabermos quantas linhas temos, basta dar um `len(dados_temporais_desafio.values)` . Para saber as colunas, pegamos a primeira linha, e lemos seu comprimento:\r\n",
        "`len(dados_temporais_desafio.values[0])`. Assim no laço temos:\r\n",
        "\r\n",
        "```\r\n",
        "dados_temporais_desafio.value[i][j]\r\n",
        "```\r\n",
        "\r\n",
        "\r\n"
      ]
    },
    {
      "cell_type": "code",
      "metadata": {
        "id": "9mDEt300wlyO"
      },
      "source": [
        "ano_mes = [ f\"{i}.{j}\"for i in dados_temporais_desafio.index\r\n",
        "                      for j in range(1,len(dados_temporais_desafio.columns)+1)]\r\n",
        "\r\n",
        "valores =  [dados_temporais_desafio.values[i][j] for i in range(0,len(dados_temporais_desafio.values))\r\n",
        "                                                 for j in range(0,len(dados_temporais_desafio.values[0]))]\r\n",
        "\r\n"
      ],
      "execution_count": 5,
      "outputs": []
    },
    {
      "cell_type": "markdown",
      "metadata": {
        "id": "BSfE-Hmi8aeA"
      },
      "source": [
        "`ano_mes` e `valores` tem os mesmo valores de comprimento. Logo, deu tudo certo, e cada valor está no seu respectivo ano-mês dado a forma como construimos. Agora basta criar duas colunas em novo dataframe e adiciona nossas listas."
      ]
    },
    {
      "cell_type": "code",
      "metadata": {
        "colab": {
          "base_uri": "https://localhost:8080/"
        },
        "id": "aDFBZ7Pu0WRb",
        "outputId": "fa3b38d6-6aae-4bf5-e830-8521e181ed9e"
      },
      "source": [
        "print(len(ano_mes),len(valores))"
      ],
      "execution_count": 6,
      "outputs": [
        {
          "output_type": "stream",
          "text": [
            "228 228\n"
          ],
          "name": "stdout"
        }
      ]
    },
    {
      "cell_type": "code",
      "metadata": {
        "id": "Gdmz-HJ4yat4"
      },
      "source": [
        "dataframe_solucao = pd.DataFrame([])\r\n",
        "\r\n",
        "dataframe_solucao[\"ano_mes\"] = ano_mes\r\n",
        "dataframe_solucao[\"ano_mes_valores\"] = valores"
      ],
      "execution_count": 7,
      "outputs": []
    },
    {
      "cell_type": "code",
      "metadata": {
        "colab": {
          "base_uri": "https://localhost:8080/",
          "height": 419
        },
        "id": "JwR5SuFx3_ka",
        "outputId": "eb3b8a71-bf07-4bcf-e041-8f34ee2fc674"
      },
      "source": [
        "dataframe_solucao"
      ],
      "execution_count": 8,
      "outputs": [
        {
          "output_type": "execute_result",
          "data": {
            "text/html": [
              "<div>\n",
              "<style scoped>\n",
              "    .dataframe tbody tr th:only-of-type {\n",
              "        vertical-align: middle;\n",
              "    }\n",
              "\n",
              "    .dataframe tbody tr th {\n",
              "        vertical-align: top;\n",
              "    }\n",
              "\n",
              "    .dataframe thead th {\n",
              "        text-align: right;\n",
              "    }\n",
              "</style>\n",
              "<table border=\"1\" class=\"dataframe\">\n",
              "  <thead>\n",
              "    <tr style=\"text-align: right;\">\n",
              "      <th></th>\n",
              "      <th>ano_mes</th>\n",
              "      <th>ano_mes_valores</th>\n",
              "    </tr>\n",
              "  </thead>\n",
              "  <tbody>\n",
              "    <tr>\n",
              "      <th>0</th>\n",
              "      <td>2001.1</td>\n",
              "      <td>8088</td>\n",
              "    </tr>\n",
              "    <tr>\n",
              "      <th>1</th>\n",
              "      <td>2001.2</td>\n",
              "      <td>6542</td>\n",
              "    </tr>\n",
              "    <tr>\n",
              "      <th>2</th>\n",
              "      <td>2001.3</td>\n",
              "      <td>8095</td>\n",
              "    </tr>\n",
              "    <tr>\n",
              "      <th>3</th>\n",
              "      <td>2001.4</td>\n",
              "      <td>7305</td>\n",
              "    </tr>\n",
              "    <tr>\n",
              "      <th>4</th>\n",
              "      <td>2001.5</td>\n",
              "      <td>7656</td>\n",
              "    </tr>\n",
              "    <tr>\n",
              "      <th>...</th>\n",
              "      <td>...</td>\n",
              "      <td>...</td>\n",
              "    </tr>\n",
              "    <tr>\n",
              "      <th>223</th>\n",
              "      <td>2019.8</td>\n",
              "      <td>8239</td>\n",
              "    </tr>\n",
              "    <tr>\n",
              "      <th>224</th>\n",
              "      <td>2019.9</td>\n",
              "      <td>8143</td>\n",
              "    </tr>\n",
              "    <tr>\n",
              "      <th>225</th>\n",
              "      <td>2019.10</td>\n",
              "      <td>8592</td>\n",
              "    </tr>\n",
              "    <tr>\n",
              "      <th>226</th>\n",
              "      <td>2019.11</td>\n",
              "      <td>7615</td>\n",
              "    </tr>\n",
              "    <tr>\n",
              "      <th>227</th>\n",
              "      <td>2019.12</td>\n",
              "      <td>7220</td>\n",
              "    </tr>\n",
              "  </tbody>\n",
              "</table>\n",
              "<p>228 rows × 2 columns</p>\n",
              "</div>"
            ],
            "text/plain": [
              "     ano_mes  ano_mes_valores\n",
              "0     2001.1             8088\n",
              "1     2001.2             6542\n",
              "2     2001.3             8095\n",
              "3     2001.4             7305\n",
              "4     2001.5             7656\n",
              "..       ...              ...\n",
              "223   2019.8             8239\n",
              "224   2019.9             8143\n",
              "225  2019.10             8592\n",
              "226  2019.11             7615\n",
              "227  2019.12             7220\n",
              "\n",
              "[228 rows x 2 columns]"
            ]
          },
          "metadata": {
            "tags": []
          },
          "execution_count": 8
        }
      ]
    },
    {
      "cell_type": "markdown",
      "metadata": {
        "id": "ZWpbS5HnCCvE"
      },
      "source": [
        "## 📒 AULA 4 - SOLUÇÃO 01 :Transformar os dados em uma série temporal Ano-Mês"
      ]
    },
    {
      "cell_type": "markdown",
      "metadata": {
        "id": "_pBE5JyQCaNA"
      },
      "source": [
        "uma outra forma de também fazer\r\n"
      ]
    },
    {
      "cell_type": "code",
      "metadata": {
        "colab": {
          "base_uri": "https://localhost:8080/",
          "height": 419
        },
        "id": "5RfApR_PB4C9",
        "outputId": "7698c941-648d-4953-f141-b492b4fed071"
      },
      "source": [
        "dados_st_solucao = dados_temporais.melt(id_vars=\"Ano Diagnóstico\",value_name=\"Casos\",var_name=\"Mês\")\r\n",
        "dados_st_solucao[\"Data\"] = dados_st_solucao[\"Ano Diagnóstico\"].apply(str) + \"-\"+ dados_st_solucao[\"Mês\"]\r\n",
        "dados_st_solucao"
      ],
      "execution_count": 9,
      "outputs": [
        {
          "output_type": "execute_result",
          "data": {
            "text/html": [
              "<div>\n",
              "<style scoped>\n",
              "    .dataframe tbody tr th:only-of-type {\n",
              "        vertical-align: middle;\n",
              "    }\n",
              "\n",
              "    .dataframe tbody tr th {\n",
              "        vertical-align: top;\n",
              "    }\n",
              "\n",
              "    .dataframe thead th {\n",
              "        text-align: right;\n",
              "    }\n",
              "</style>\n",
              "<table border=\"1\" class=\"dataframe\">\n",
              "  <thead>\n",
              "    <tr style=\"text-align: right;\">\n",
              "      <th></th>\n",
              "      <th>Ano Diagnóstico</th>\n",
              "      <th>Mês</th>\n",
              "      <th>Casos</th>\n",
              "      <th>Data</th>\n",
              "    </tr>\n",
              "  </thead>\n",
              "  <tbody>\n",
              "    <tr>\n",
              "      <th>0</th>\n",
              "      <td>2001</td>\n",
              "      <td>Jan</td>\n",
              "      <td>8088</td>\n",
              "      <td>2001-Jan</td>\n",
              "    </tr>\n",
              "    <tr>\n",
              "      <th>1</th>\n",
              "      <td>2002</td>\n",
              "      <td>Jan</td>\n",
              "      <td>8013</td>\n",
              "      <td>2002-Jan</td>\n",
              "    </tr>\n",
              "    <tr>\n",
              "      <th>2</th>\n",
              "      <td>2003</td>\n",
              "      <td>Jan</td>\n",
              "      <td>8115</td>\n",
              "      <td>2003-Jan</td>\n",
              "    </tr>\n",
              "    <tr>\n",
              "      <th>3</th>\n",
              "      <td>2004</td>\n",
              "      <td>Jan</td>\n",
              "      <td>7574</td>\n",
              "      <td>2004-Jan</td>\n",
              "    </tr>\n",
              "    <tr>\n",
              "      <th>4</th>\n",
              "      <td>2005</td>\n",
              "      <td>Jan</td>\n",
              "      <td>7432</td>\n",
              "      <td>2005-Jan</td>\n",
              "    </tr>\n",
              "    <tr>\n",
              "      <th>...</th>\n",
              "      <td>...</td>\n",
              "      <td>...</td>\n",
              "      <td>...</td>\n",
              "      <td>...</td>\n",
              "    </tr>\n",
              "    <tr>\n",
              "      <th>223</th>\n",
              "      <td>2015</td>\n",
              "      <td>Dez</td>\n",
              "      <td>6844</td>\n",
              "      <td>2015-Dez</td>\n",
              "    </tr>\n",
              "    <tr>\n",
              "      <th>224</th>\n",
              "      <td>2016</td>\n",
              "      <td>Dez</td>\n",
              "      <td>6672</td>\n",
              "      <td>2016-Dez</td>\n",
              "    </tr>\n",
              "    <tr>\n",
              "      <th>225</th>\n",
              "      <td>2017</td>\n",
              "      <td>Dez</td>\n",
              "      <td>7020</td>\n",
              "      <td>2017-Dez</td>\n",
              "    </tr>\n",
              "    <tr>\n",
              "      <th>226</th>\n",
              "      <td>2018</td>\n",
              "      <td>Dez</td>\n",
              "      <td>6900</td>\n",
              "      <td>2018-Dez</td>\n",
              "    </tr>\n",
              "    <tr>\n",
              "      <th>227</th>\n",
              "      <td>2019</td>\n",
              "      <td>Dez</td>\n",
              "      <td>7220</td>\n",
              "      <td>2019-Dez</td>\n",
              "    </tr>\n",
              "  </tbody>\n",
              "</table>\n",
              "<p>228 rows × 4 columns</p>\n",
              "</div>"
            ],
            "text/plain": [
              "     Ano Diagnóstico  Mês  Casos      Data\n",
              "0               2001  Jan   8088  2001-Jan\n",
              "1               2002  Jan   8013  2002-Jan\n",
              "2               2003  Jan   8115  2003-Jan\n",
              "3               2004  Jan   7574  2004-Jan\n",
              "4               2005  Jan   7432  2005-Jan\n",
              "..               ...  ...    ...       ...\n",
              "223             2015  Dez   6844  2015-Dez\n",
              "224             2016  Dez   6672  2016-Dez\n",
              "225             2017  Dez   7020  2017-Dez\n",
              "226             2018  Dez   6900  2018-Dez\n",
              "227             2019  Dez   7220  2019-Dez\n",
              "\n",
              "[228 rows x 4 columns]"
            ]
          },
          "metadata": {
            "tags": []
          },
          "execution_count": 9
        }
      ]
    },
    {
      "cell_type": "code",
      "metadata": {
        "colab": {
          "base_uri": "https://localhost:8080/",
          "height": 372
        },
        "id": "lKTbX00hCmTz",
        "outputId": "3a4db344-4eb9-4cfe-bfd0-46b5a007f684"
      },
      "source": [
        "plt.figure(figsize=(15,5))\r\n",
        "sns.lineplot(data=dados_st_solucao,x=\"Data\",y=\"Casos\",)\r\n",
        "plt.xticks(rotation=90)\r\n",
        "plt.show()"
      ],
      "execution_count": 10,
      "outputs": [
        {
          "output_type": "display_data",
          "data": {
            "image/png": "[encoded data removed]",
            "text/plain": [
              "<Figure size 1080x360 with 1 Axes>"
            ]
          },
          "metadata": {
            "tags": [],
            "needs_background": "light"
          }
        }
      ]
    },
    {
      "cell_type": "markdown",
      "metadata": {
        "id": "AN3BpqyLIekb"
      },
      "source": [
        "## 📒 AULA 4 - DESAFIO 02 :Converter a data (String) em Datetime"
      ]
    },
    {
      "cell_type": "markdown",
      "metadata": {
        "id": "fCy50p_Rca7o"
      },
      "source": [
        "Temos que transformar esta coluna Data"
      ]
    },
    {
      "cell_type": "code",
      "metadata": {
        "colab": {
          "base_uri": "https://localhost:8080/",
          "height": 419
        },
        "id": "mhgGZYcUIpsm",
        "outputId": "bb680031-8cec-47cc-b3ad-d19447f1a2c1"
      },
      "source": [
        "dados_st_solucao"
      ],
      "execution_count": 11,
      "outputs": [
        {
          "output_type": "execute_result",
          "data": {
            "text/html": [
              "<div>\n",
              "<style scoped>\n",
              "    .dataframe tbody tr th:only-of-type {\n",
              "        vertical-align: middle;\n",
              "    }\n",
              "\n",
              "    .dataframe tbody tr th {\n",
              "        vertical-align: top;\n",
              "    }\n",
              "\n",
              "    .dataframe thead th {\n",
              "        text-align: right;\n",
              "    }\n",
              "</style>\n",
              "<table border=\"1\" class=\"dataframe\">\n",
              "  <thead>\n",
              "    <tr style=\"text-align: right;\">\n",
              "      <th></th>\n",
              "      <th>Ano Diagnóstico</th>\n",
              "      <th>Mês</th>\n",
              "      <th>Casos</th>\n",
              "      <th>Data</th>\n",
              "    </tr>\n",
              "  </thead>\n",
              "  <tbody>\n",
              "    <tr>\n",
              "      <th>0</th>\n",
              "      <td>2001</td>\n",
              "      <td>Jan</td>\n",
              "      <td>8088</td>\n",
              "      <td>2001-Jan</td>\n",
              "    </tr>\n",
              "    <tr>\n",
              "      <th>1</th>\n",
              "      <td>2002</td>\n",
              "      <td>Jan</td>\n",
              "      <td>8013</td>\n",
              "      <td>2002-Jan</td>\n",
              "    </tr>\n",
              "    <tr>\n",
              "      <th>2</th>\n",
              "      <td>2003</td>\n",
              "      <td>Jan</td>\n",
              "      <td>8115</td>\n",
              "      <td>2003-Jan</td>\n",
              "    </tr>\n",
              "    <tr>\n",
              "      <th>3</th>\n",
              "      <td>2004</td>\n",
              "      <td>Jan</td>\n",
              "      <td>7574</td>\n",
              "      <td>2004-Jan</td>\n",
              "    </tr>\n",
              "    <tr>\n",
              "      <th>4</th>\n",
              "      <td>2005</td>\n",
              "      <td>Jan</td>\n",
              "      <td>7432</td>\n",
              "      <td>2005-Jan</td>\n",
              "    </tr>\n",
              "    <tr>\n",
              "      <th>...</th>\n",
              "      <td>...</td>\n",
              "      <td>...</td>\n",
              "      <td>...</td>\n",
              "      <td>...</td>\n",
              "    </tr>\n",
              "    <tr>\n",
              "      <th>223</th>\n",
              "      <td>2015</td>\n",
              "      <td>Dez</td>\n",
              "      <td>6844</td>\n",
              "      <td>2015-Dez</td>\n",
              "    </tr>\n",
              "    <tr>\n",
              "      <th>224</th>\n",
              "      <td>2016</td>\n",
              "      <td>Dez</td>\n",
              "      <td>6672</td>\n",
              "      <td>2016-Dez</td>\n",
              "    </tr>\n",
              "    <tr>\n",
              "      <th>225</th>\n",
              "      <td>2017</td>\n",
              "      <td>Dez</td>\n",
              "      <td>7020</td>\n",
              "      <td>2017-Dez</td>\n",
              "    </tr>\n",
              "    <tr>\n",
              "      <th>226</th>\n",
              "      <td>2018</td>\n",
              "      <td>Dez</td>\n",
              "      <td>6900</td>\n",
              "      <td>2018-Dez</td>\n",
              "    </tr>\n",
              "    <tr>\n",
              "      <th>227</th>\n",
              "      <td>2019</td>\n",
              "      <td>Dez</td>\n",
              "      <td>7220</td>\n",
              "      <td>2019-Dez</td>\n",
              "    </tr>\n",
              "  </tbody>\n",
              "</table>\n",
              "<p>228 rows × 4 columns</p>\n",
              "</div>"
            ],
            "text/plain": [
              "     Ano Diagnóstico  Mês  Casos      Data\n",
              "0               2001  Jan   8088  2001-Jan\n",
              "1               2002  Jan   8013  2002-Jan\n",
              "2               2003  Jan   8115  2003-Jan\n",
              "3               2004  Jan   7574  2004-Jan\n",
              "4               2005  Jan   7432  2005-Jan\n",
              "..               ...  ...    ...       ...\n",
              "223             2015  Dez   6844  2015-Dez\n",
              "224             2016  Dez   6672  2016-Dez\n",
              "225             2017  Dez   7020  2017-Dez\n",
              "226             2018  Dez   6900  2018-Dez\n",
              "227             2019  Dez   7220  2019-Dez\n",
              "\n",
              "[228 rows x 4 columns]"
            ]
          },
          "metadata": {
            "tags": []
          },
          "execution_count": 11
        }
      ]
    },
    {
      "cell_type": "markdown",
      "metadata": {
        "id": "OxftaYQpcjxf"
      },
      "source": [
        "crio um dicionário com os valores que tenho e o que eu quero por no lugar"
      ]
    },
    {
      "cell_type": "code",
      "metadata": {
        "id": "1-zhaSZxIrvQ"
      },
      "source": [
        "meses = {\"Jan\":\"1\",\"Fev\":\"2\",\"Mar\":\"3\",\"Abr\":\"4\",\"Mai\":\"5\",\"Jun\":\"6\",\r\n",
        "         \"Jul\":\"7\",\"Ago\":\"8\",\"Set\":\"9\",\r\n",
        "         \"Out\":\"10\",\"Nov\":\"11\",\"Dez\":\"12\"}"
      ],
      "execution_count": 12,
      "outputs": []
    },
    {
      "cell_type": "markdown",
      "metadata": {
        "id": "KggKVpWocv5H"
      },
      "source": [
        "com uma lista vazia, passaremos os resultados formatados. No laço for que percorre os valores da coluna data, ire primeiro, para cada valor, dar um replace em \"-\" para no lugar por um espaço em branco (\" \"). Com a variável x, armazenarei um split de cada valor, pegando então o segundo valor da lista que é criada quando passamos um split (valor.split()[1]====> [\"2020\",\"Jan\"]). Passo outro replace que substitui o que tem na posição 1 da variável valor e no lugar, com a ajuda do dicionário que recebe a nossa chave, o novo valor que subtituirá o nome do mês pelo número (no caso em tipo string). Adicionamos no final a concatenação da primeira palavra de nosso split (o ano, que não é modificado) com um traço mais o nosso número que substitui o nome do mês."
      ]
    },
    {
      "cell_type": "code",
      "metadata": {
        "id": "hMiCR4bHSI8g"
      },
      "source": [
        "valor_formatado = []\r\n",
        "for i  in dados_st_solucao[\"Data\"]:\r\n",
        "  valor = i.replace(\"-\", \" \")\r\n",
        "  x = valor.split()[1].replace(valor.split()[1],meses[valor.split()[1]])\r\n",
        "  valor_formatado.append(str(valor.split()[0] +\"-\" +  x))"
      ],
      "execution_count": 13,
      "outputs": []
    },
    {
      "cell_type": "markdown",
      "metadata": {
        "id": "XvwAjeoxd1V6"
      },
      "source": [
        "Atribuio na coluna data, a nova formatação."
      ]
    },
    {
      "cell_type": "code",
      "metadata": {
        "colab": {
          "base_uri": "https://localhost:8080/"
        },
        "id": "JzmHV2rQSg14",
        "outputId": "639fa17f-8bee-48a6-f5e7-cd8997720eb8"
      },
      "source": [
        "dados_st_solucao[\"Data\"] = valor_formatado\r\n",
        "dados_st_solucao[\"Data\"]"
      ],
      "execution_count": 14,
      "outputs": [
        {
          "output_type": "execute_result",
          "data": {
            "text/plain": [
              "0       2001-1\n",
              "1       2002-1\n",
              "2       2003-1\n",
              "3       2004-1\n",
              "4       2005-1\n",
              "        ...   \n",
              "223    2015-12\n",
              "224    2016-12\n",
              "225    2017-12\n",
              "226    2018-12\n",
              "227    2019-12\n",
              "Name: Data, Length: 228, dtype: object"
            ]
          },
          "metadata": {
            "tags": []
          },
          "execution_count": 14
        }
      ]
    },
    {
      "cell_type": "markdown",
      "metadata": {
        "id": "6t0O5Jdxd6JH"
      },
      "source": [
        "com o datetime, transformaremos o tipo e o formato de posição, pondo o mês na frente e o ano atrás."
      ]
    },
    {
      "cell_type": "code",
      "metadata": {
        "colab": {
          "base_uri": "https://localhost:8080/"
        },
        "id": "1xzYV9hIViAc",
        "outputId": "74b2de23-eebf-40ed-81de-15fa214f7560"
      },
      "source": [
        "dados_st_solucao[\"Data\"] = pd.to_datetime(dados_st_solucao[\"Data\"])\r\n",
        "dados_st_solucao[\"Data\"].dt.strftime('%Y/%m')"
      ],
      "execution_count": 20,
      "outputs": [
        {
          "output_type": "execute_result",
          "data": {
            "text/plain": [
              "0      2001/01\n",
              "1      2002/01\n",
              "2      2003/01\n",
              "3      2004/01\n",
              "4      2005/01\n",
              "        ...   \n",
              "223    2015/12\n",
              "224    2016/12\n",
              "225    2017/12\n",
              "226    2018/12\n",
              "227    2019/12\n",
              "Name: Data, Length: 228, dtype: object"
            ]
          },
          "metadata": {
            "tags": []
          },
          "execution_count": 20
        }
      ]
    },
    {
      "cell_type": "markdown",
      "metadata": {
        "id": "sXeUu3HmeEyf"
      },
      "source": [
        "ficando então desta forma o Dtype == datetime64[ns]"
      ]
    },
    {
      "cell_type": "code",
      "metadata": {
        "colab": {
          "base_uri": "https://localhost:8080/"
        },
        "id": "yE9lhK1WaHgQ",
        "outputId": "814266d5-e538-4722-d303-f60c4b90e304"
      },
      "source": [
        "dados_st_solucao.info()"
      ],
      "execution_count": 16,
      "outputs": [
        {
          "output_type": "stream",
          "text": [
            "<class 'pandas.core.frame.DataFrame'>\n",
            "RangeIndex: 228 entries, 0 to 227\n",
            "Data columns (total 4 columns):\n",
            " #   Column           Non-Null Count  Dtype         \n",
            "---  ------           --------------  -----         \n",
            " 0   Ano Diagnóstico  228 non-null    int64         \n",
            " 1   Mês              228 non-null    object        \n",
            " 2   Casos            228 non-null    int64         \n",
            " 3   Data             228 non-null    datetime64[ns]\n",
            "dtypes: datetime64[ns](1), int64(2), object(1)\n",
            "memory usage: 7.2+ KB\n"
          ],
          "name": "stdout"
        }
      ]
    },
    {
      "cell_type": "markdown",
      "metadata": {
        "id": "zVGv_S7mfxif"
      },
      "source": [
        "organizo no fim as datas para ter certeza que fica tudo certinho"
      ]
    },
    {
      "cell_type": "code",
      "metadata": {
        "id": "oONWr36HewR2"
      },
      "source": [
        "dados_st_solucao.sort_values(by=\"Data\",inplace=True)"
      ],
      "execution_count": 25,
      "outputs": []
    },
    {
      "cell_type": "code",
      "metadata": {
        "colab": {
          "base_uri": "https://localhost:8080/",
          "height": 365
        },
        "id": "ux3FBQ5OWxet",
        "outputId": "d74c09bc-4b8f-4b20-9997-0d7c64509c43"
      },
      "source": [
        "plt.figure(figsize=(15,5))\r\n",
        "sns.lineplot(data=dados_st_solucao,x=\"Data\",y=\"Casos\",)\r\n",
        "plt.xticks(rotation=90)\r\n",
        "plt.title(\"SÉRIE TEMPORAL\")\r\n",
        "plt.show()"
      ],
      "execution_count": 31,
      "outputs": [
        {
          "output_type": "display_data",
          "data": {
            "image/png": "[encoded data removed]",
            "text/plain": [
              "<Figure size 1080x360 with 1 Axes>"
            ]
          },
          "metadata": {
            "tags": [],
            "needs_background": "light"
          }
        }
      ]
    },
    {
      "cell_type": "markdown",
      "metadata": {
        "id": "r60bb48qf85P"
      },
      "source": [
        "como fica nosso dataset final"
      ]
    },
    {
      "cell_type": "code",
      "metadata": {
        "colab": {
          "base_uri": "https://localhost:8080/",
          "height": 204
        },
        "id": "hVacYs_Wf4rH",
        "outputId": "bdfc4830-87ef-4c00-d078-36e3a5d68dca"
      },
      "source": [
        "dados_st_solucao.head()"
      ],
      "execution_count": 33,
      "outputs": [
        {
          "output_type": "execute_result",
          "data": {
            "text/html": [
              "<div>\n",
              "<style scoped>\n",
              "    .dataframe tbody tr th:only-of-type {\n",
              "        vertical-align: middle;\n",
              "    }\n",
              "\n",
              "    .dataframe tbody tr th {\n",
              "        vertical-align: top;\n",
              "    }\n",
              "\n",
              "    .dataframe thead th {\n",
              "        text-align: right;\n",
              "    }\n",
              "</style>\n",
              "<table border=\"1\" class=\"dataframe\">\n",
              "  <thead>\n",
              "    <tr style=\"text-align: right;\">\n",
              "      <th></th>\n",
              "      <th>Ano Diagnóstico</th>\n",
              "      <th>Mês</th>\n",
              "      <th>Casos</th>\n",
              "      <th>Data</th>\n",
              "    </tr>\n",
              "  </thead>\n",
              "  <tbody>\n",
              "    <tr>\n",
              "      <th>0</th>\n",
              "      <td>2001</td>\n",
              "      <td>Jan</td>\n",
              "      <td>8088</td>\n",
              "      <td>2001-01-01</td>\n",
              "    </tr>\n",
              "    <tr>\n",
              "      <th>19</th>\n",
              "      <td>2001</td>\n",
              "      <td>Fev</td>\n",
              "      <td>6542</td>\n",
              "      <td>2001-02-01</td>\n",
              "    </tr>\n",
              "    <tr>\n",
              "      <th>38</th>\n",
              "      <td>2001</td>\n",
              "      <td>Mar</td>\n",
              "      <td>8095</td>\n",
              "      <td>2001-03-01</td>\n",
              "    </tr>\n",
              "    <tr>\n",
              "      <th>57</th>\n",
              "      <td>2001</td>\n",
              "      <td>Abr</td>\n",
              "      <td>7305</td>\n",
              "      <td>2001-04-01</td>\n",
              "    </tr>\n",
              "    <tr>\n",
              "      <th>76</th>\n",
              "      <td>2001</td>\n",
              "      <td>Mai</td>\n",
              "      <td>7656</td>\n",
              "      <td>2001-05-01</td>\n",
              "    </tr>\n",
              "  </tbody>\n",
              "</table>\n",
              "</div>"
            ],
            "text/plain": [
              "    Ano Diagnóstico  Mês  Casos       Data\n",
              "0              2001  Jan   8088 2001-01-01\n",
              "19             2001  Fev   6542 2001-02-01\n",
              "38             2001  Mar   8095 2001-03-01\n",
              "57             2001  Abr   7305 2001-04-01\n",
              "76             2001  Mai   7656 2001-05-01"
            ]
          },
          "metadata": {
            "tags": []
          },
          "execution_count": 33
        }
      ]
    },
    {
      "cell_type": "code",
      "metadata": {
        "id": "ETXR6800f762"
      },
      "source": [
        ""
      ],
      "execution_count": null,
      "outputs": []
    }
  ]
}