{
  "nbformat": 4,
  "nbformat_minor": 0,
  "metadata": {
    "colab": {
      "name": "Modulo 6 - Machine Learning: Modelos, Métricas e Validação Progresso ",
      "provenance": [],
      "collapsed_sections": [],
      "authorship_tag": "ABX9TyOiIwA8VOD/r4w1SZUCUGmw",
      "include_colab_link": true
    },
    "kernelspec": {
      "name": "python3",
      "display_name": "Python 3"
    }
  },
  "cells": [
    {
      "cell_type": "markdown",
      "metadata": {
        "id": "view-in-github",
        "colab_type": "text"
      },
      "source": [
        "<a href=\"https://colab.research.google.com/github/MatheusOrange211/Bootcamp-Alura/blob/main/Modulo_6_Machine_Learning_Modelos%2C_M%C3%A9tricas_e_Valida%C3%A7%C3%A3o_Progresso.ipynb\" target=\"_parent\"><img src=\"https://colab.research.google.com/assets/colab-badge.svg\" alt=\"Open In Colab\"/></a>"
      ]
    },
    {
      "cell_type": "markdown",
      "metadata": {
        "id": "qn1xAEE2NA7a"
      },
      "source": [
        "No sexto e último módulo, iremos continuar os trabalhos desenvolvidos com os dados do Sírio Libanês que foram apresentados no Módulo 5 e que estão presentes no notebook do [Kaggle](https://www.kaggle.com/matheusnaranjo/modulo-5-machine-learning) (mesmo que não completos). Entenderemos mais sobre os modelos, as formas de medir sua capacidade, suas pontuações, seus parâmetros, métodos e outras coisas importantes para decidir em uma criação de modelo."
      ]
    },
    {
      "cell_type": "markdown",
      "metadata": {
        "id": "VP9ghPDLNjeD"
      },
      "source": [
        "# IMPORTANDO BIBLIOTECAS"
      ]
    },
    {
      "cell_type": "code",
      "metadata": {
        "id": "RJLW7RFBM3bM"
      },
      "source": [
        "import pandas as pd\r\n",
        "import numpy as np\r\n",
        "import matplotlib.pyplot as plt\r\n",
        "import seaborn as sns\r\n",
        "sns.set()"
      ],
      "execution_count": 1,
      "outputs": []
    },
    {
      "cell_type": "markdown",
      "metadata": {
        "id": "LkK08_24Nxby"
      },
      "source": [
        "#DADOS"
      ]
    },
    {
      "cell_type": "code",
      "metadata": {
        "colab": {
          "base_uri": "https://localhost:8080/",
          "height": 287
        },
        "id": "BB-iw0axNxgb",
        "outputId": "2c1c90fc-8ba8-4c93-eb09-8cd43fcb9d9d"
      },
      "source": [
        "dados = pd.read_excel(\"https://github.com/alura-cursos/covid-19-clinical/blob/main/Kaggle_Sirio_Libanes_ICU_Prediction.xlsx?raw=true\")\r\n",
        "dados.head()"
      ],
      "execution_count": 2,
      "outputs": [
        {
          "output_type": "execute_result",
          "data": {
            "text/html": [
              "<div>\n",
              "<style scoped>\n",
              "    .dataframe tbody tr th:only-of-type {\n",
              "        vertical-align: middle;\n",
              "    }\n",
              "\n",
              "    .dataframe tbody tr th {\n",
              "        vertical-align: top;\n",
              "    }\n",
              "\n",
              "    .dataframe thead th {\n",
              "        text-align: right;\n",
              "    }\n",
              "</style>\n",
              "<table border=\"1\" class=\"dataframe\">\n",
              "  <thead>\n",
              "    <tr style=\"text-align: right;\">\n",
              "      <th></th>\n",
              "      <th>PATIENT_VISIT_IDENTIFIER</th>\n",
              "      <th>AGE_ABOVE65</th>\n",
              "      <th>AGE_PERCENTIL</th>\n",
              "      <th>GENDER</th>\n",
              "      <th>DISEASE GROUPING 1</th>\n",
              "      <th>DISEASE GROUPING 2</th>\n",
              "      <th>DISEASE GROUPING 3</th>\n",
              "      <th>DISEASE GROUPING 4</th>\n",
              "      <th>DISEASE GROUPING 5</th>\n",
              "      <th>DISEASE GROUPING 6</th>\n",
              "      <th>HTN</th>\n",
              "      <th>IMMUNOCOMPROMISED</th>\n",
              "      <th>OTHER</th>\n",
              "      <th>ALBUMIN_MEDIAN</th>\n",
              "      <th>ALBUMIN_MEAN</th>\n",
              "      <th>ALBUMIN_MIN</th>\n",
              "      <th>ALBUMIN_MAX</th>\n",
              "      <th>ALBUMIN_DIFF</th>\n",
              "      <th>BE_ARTERIAL_MEDIAN</th>\n",
              "      <th>BE_ARTERIAL_MEAN</th>\n",
              "      <th>BE_ARTERIAL_MIN</th>\n",
              "      <th>BE_ARTERIAL_MAX</th>\n",
              "      <th>BE_ARTERIAL_DIFF</th>\n",
              "      <th>BE_VENOUS_MEDIAN</th>\n",
              "      <th>BE_VENOUS_MEAN</th>\n",
              "      <th>BE_VENOUS_MIN</th>\n",
              "      <th>BE_VENOUS_MAX</th>\n",
              "      <th>BE_VENOUS_DIFF</th>\n",
              "      <th>BIC_ARTERIAL_MEDIAN</th>\n",
              "      <th>BIC_ARTERIAL_MEAN</th>\n",
              "      <th>BIC_ARTERIAL_MIN</th>\n",
              "      <th>BIC_ARTERIAL_MAX</th>\n",
              "      <th>BIC_ARTERIAL_DIFF</th>\n",
              "      <th>BIC_VENOUS_MEDIAN</th>\n",
              "      <th>BIC_VENOUS_MEAN</th>\n",
              "      <th>BIC_VENOUS_MIN</th>\n",
              "      <th>BIC_VENOUS_MAX</th>\n",
              "      <th>BIC_VENOUS_DIFF</th>\n",
              "      <th>BILLIRUBIN_MEDIAN</th>\n",
              "      <th>BILLIRUBIN_MEAN</th>\n",
              "      <th>...</th>\n",
              "      <th>DIMER_MAX</th>\n",
              "      <th>DIMER_DIFF</th>\n",
              "      <th>BLOODPRESSURE_DIASTOLIC_MEAN</th>\n",
              "      <th>BLOODPRESSURE_SISTOLIC_MEAN</th>\n",
              "      <th>HEART_RATE_MEAN</th>\n",
              "      <th>RESPIRATORY_RATE_MEAN</th>\n",
              "      <th>TEMPERATURE_MEAN</th>\n",
              "      <th>OXYGEN_SATURATION_MEAN</th>\n",
              "      <th>BLOODPRESSURE_DIASTOLIC_MEDIAN</th>\n",
              "      <th>BLOODPRESSURE_SISTOLIC_MEDIAN</th>\n",
              "      <th>HEART_RATE_MEDIAN</th>\n",
              "      <th>RESPIRATORY_RATE_MEDIAN</th>\n",
              "      <th>TEMPERATURE_MEDIAN</th>\n",
              "      <th>OXYGEN_SATURATION_MEDIAN</th>\n",
              "      <th>BLOODPRESSURE_DIASTOLIC_MIN</th>\n",
              "      <th>BLOODPRESSURE_SISTOLIC_MIN</th>\n",
              "      <th>HEART_RATE_MIN</th>\n",
              "      <th>RESPIRATORY_RATE_MIN</th>\n",
              "      <th>TEMPERATURE_MIN</th>\n",
              "      <th>OXYGEN_SATURATION_MIN</th>\n",
              "      <th>BLOODPRESSURE_DIASTOLIC_MAX</th>\n",
              "      <th>BLOODPRESSURE_SISTOLIC_MAX</th>\n",
              "      <th>HEART_RATE_MAX</th>\n",
              "      <th>RESPIRATORY_RATE_MAX</th>\n",
              "      <th>TEMPERATURE_MAX</th>\n",
              "      <th>OXYGEN_SATURATION_MAX</th>\n",
              "      <th>BLOODPRESSURE_DIASTOLIC_DIFF</th>\n",
              "      <th>BLOODPRESSURE_SISTOLIC_DIFF</th>\n",
              "      <th>HEART_RATE_DIFF</th>\n",
              "      <th>RESPIRATORY_RATE_DIFF</th>\n",
              "      <th>TEMPERATURE_DIFF</th>\n",
              "      <th>OXYGEN_SATURATION_DIFF</th>\n",
              "      <th>BLOODPRESSURE_DIASTOLIC_DIFF_REL</th>\n",
              "      <th>BLOODPRESSURE_SISTOLIC_DIFF_REL</th>\n",
              "      <th>HEART_RATE_DIFF_REL</th>\n",
              "      <th>RESPIRATORY_RATE_DIFF_REL</th>\n",
              "      <th>TEMPERATURE_DIFF_REL</th>\n",
              "      <th>OXYGEN_SATURATION_DIFF_REL</th>\n",
              "      <th>WINDOW</th>\n",
              "      <th>ICU</th>\n",
              "    </tr>\n",
              "  </thead>\n",
              "  <tbody>\n",
              "    <tr>\n",
              "      <th>0</th>\n",
              "      <td>0</td>\n",
              "      <td>1</td>\n",
              "      <td>60th</td>\n",
              "      <td>0</td>\n",
              "      <td>0.0</td>\n",
              "      <td>0.0</td>\n",
              "      <td>0.0</td>\n",
              "      <td>0.0</td>\n",
              "      <td>1.0</td>\n",
              "      <td>1.0</td>\n",
              "      <td>0.0</td>\n",
              "      <td>0.0</td>\n",
              "      <td>1.0</td>\n",
              "      <td>NaN</td>\n",
              "      <td>NaN</td>\n",
              "      <td>NaN</td>\n",
              "      <td>NaN</td>\n",
              "      <td>NaN</td>\n",
              "      <td>NaN</td>\n",
              "      <td>NaN</td>\n",
              "      <td>NaN</td>\n",
              "      <td>NaN</td>\n",
              "      <td>NaN</td>\n",
              "      <td>NaN</td>\n",
              "      <td>NaN</td>\n",
              "      <td>NaN</td>\n",
              "      <td>NaN</td>\n",
              "      <td>NaN</td>\n",
              "      <td>NaN</td>\n",
              "      <td>NaN</td>\n",
              "      <td>NaN</td>\n",
              "      <td>NaN</td>\n",
              "      <td>NaN</td>\n",
              "      <td>NaN</td>\n",
              "      <td>NaN</td>\n",
              "      <td>NaN</td>\n",
              "      <td>NaN</td>\n",
              "      <td>NaN</td>\n",
              "      <td>NaN</td>\n",
              "      <td>NaN</td>\n",
              "      <td>...</td>\n",
              "      <td>NaN</td>\n",
              "      <td>NaN</td>\n",
              "      <td>0.086420</td>\n",
              "      <td>-0.230769</td>\n",
              "      <td>-0.283019</td>\n",
              "      <td>-0.593220</td>\n",
              "      <td>-0.285714</td>\n",
              "      <td>0.736842</td>\n",
              "      <td>0.086420</td>\n",
              "      <td>-0.230769</td>\n",
              "      <td>-0.283019</td>\n",
              "      <td>-0.586207</td>\n",
              "      <td>-0.285714</td>\n",
              "      <td>0.736842</td>\n",
              "      <td>0.237113</td>\n",
              "      <td>0.0000</td>\n",
              "      <td>-0.162393</td>\n",
              "      <td>-0.500000</td>\n",
              "      <td>0.208791</td>\n",
              "      <td>0.898990</td>\n",
              "      <td>-0.247863</td>\n",
              "      <td>-0.459459</td>\n",
              "      <td>-0.432836</td>\n",
              "      <td>-0.636364</td>\n",
              "      <td>-0.420290</td>\n",
              "      <td>0.736842</td>\n",
              "      <td>-1.00000</td>\n",
              "      <td>-1.000000</td>\n",
              "      <td>-1.000000</td>\n",
              "      <td>-1.000000</td>\n",
              "      <td>-1.000000</td>\n",
              "      <td>-1.000000</td>\n",
              "      <td>-1.000000</td>\n",
              "      <td>-1.000000</td>\n",
              "      <td>-1.000000</td>\n",
              "      <td>-1.000000</td>\n",
              "      <td>-1.000000</td>\n",
              "      <td>-1.000000</td>\n",
              "      <td>0-2</td>\n",
              "      <td>0</td>\n",
              "    </tr>\n",
              "    <tr>\n",
              "      <th>1</th>\n",
              "      <td>0</td>\n",
              "      <td>1</td>\n",
              "      <td>60th</td>\n",
              "      <td>0</td>\n",
              "      <td>0.0</td>\n",
              "      <td>0.0</td>\n",
              "      <td>0.0</td>\n",
              "      <td>0.0</td>\n",
              "      <td>1.0</td>\n",
              "      <td>1.0</td>\n",
              "      <td>0.0</td>\n",
              "      <td>0.0</td>\n",
              "      <td>1.0</td>\n",
              "      <td>NaN</td>\n",
              "      <td>NaN</td>\n",
              "      <td>NaN</td>\n",
              "      <td>NaN</td>\n",
              "      <td>NaN</td>\n",
              "      <td>NaN</td>\n",
              "      <td>NaN</td>\n",
              "      <td>NaN</td>\n",
              "      <td>NaN</td>\n",
              "      <td>NaN</td>\n",
              "      <td>NaN</td>\n",
              "      <td>NaN</td>\n",
              "      <td>NaN</td>\n",
              "      <td>NaN</td>\n",
              "      <td>NaN</td>\n",
              "      <td>NaN</td>\n",
              "      <td>NaN</td>\n",
              "      <td>NaN</td>\n",
              "      <td>NaN</td>\n",
              "      <td>NaN</td>\n",
              "      <td>NaN</td>\n",
              "      <td>NaN</td>\n",
              "      <td>NaN</td>\n",
              "      <td>NaN</td>\n",
              "      <td>NaN</td>\n",
              "      <td>NaN</td>\n",
              "      <td>NaN</td>\n",
              "      <td>...</td>\n",
              "      <td>NaN</td>\n",
              "      <td>NaN</td>\n",
              "      <td>0.333333</td>\n",
              "      <td>-0.230769</td>\n",
              "      <td>-0.132075</td>\n",
              "      <td>-0.593220</td>\n",
              "      <td>0.535714</td>\n",
              "      <td>0.578947</td>\n",
              "      <td>0.333333</td>\n",
              "      <td>-0.230769</td>\n",
              "      <td>-0.132075</td>\n",
              "      <td>-0.586207</td>\n",
              "      <td>0.535714</td>\n",
              "      <td>0.578947</td>\n",
              "      <td>0.443299</td>\n",
              "      <td>0.0000</td>\n",
              "      <td>-0.025641</td>\n",
              "      <td>-0.500000</td>\n",
              "      <td>0.714286</td>\n",
              "      <td>0.838384</td>\n",
              "      <td>-0.076923</td>\n",
              "      <td>-0.459459</td>\n",
              "      <td>-0.313433</td>\n",
              "      <td>-0.636364</td>\n",
              "      <td>0.246377</td>\n",
              "      <td>0.578947</td>\n",
              "      <td>-1.00000</td>\n",
              "      <td>-1.000000</td>\n",
              "      <td>-1.000000</td>\n",
              "      <td>-1.000000</td>\n",
              "      <td>-1.000000</td>\n",
              "      <td>-1.000000</td>\n",
              "      <td>-1.000000</td>\n",
              "      <td>-1.000000</td>\n",
              "      <td>-1.000000</td>\n",
              "      <td>-1.000000</td>\n",
              "      <td>-1.000000</td>\n",
              "      <td>-1.000000</td>\n",
              "      <td>2-4</td>\n",
              "      <td>0</td>\n",
              "    </tr>\n",
              "    <tr>\n",
              "      <th>2</th>\n",
              "      <td>0</td>\n",
              "      <td>1</td>\n",
              "      <td>60th</td>\n",
              "      <td>0</td>\n",
              "      <td>0.0</td>\n",
              "      <td>0.0</td>\n",
              "      <td>0.0</td>\n",
              "      <td>0.0</td>\n",
              "      <td>1.0</td>\n",
              "      <td>1.0</td>\n",
              "      <td>0.0</td>\n",
              "      <td>0.0</td>\n",
              "      <td>1.0</td>\n",
              "      <td>0.605263</td>\n",
              "      <td>0.605263</td>\n",
              "      <td>0.605263</td>\n",
              "      <td>0.605263</td>\n",
              "      <td>-1.0</td>\n",
              "      <td>-1.000000</td>\n",
              "      <td>-1.000000</td>\n",
              "      <td>-1.000000</td>\n",
              "      <td>-1.000000</td>\n",
              "      <td>-1.0</td>\n",
              "      <td>-1.000000</td>\n",
              "      <td>-1.000000</td>\n",
              "      <td>-1.000000</td>\n",
              "      <td>-1.000000</td>\n",
              "      <td>-1.0</td>\n",
              "      <td>-0.317073</td>\n",
              "      <td>-0.317073</td>\n",
              "      <td>-0.317073</td>\n",
              "      <td>-0.317073</td>\n",
              "      <td>-1.0</td>\n",
              "      <td>-0.317073</td>\n",
              "      <td>-0.317073</td>\n",
              "      <td>-0.317073</td>\n",
              "      <td>-0.317073</td>\n",
              "      <td>-1.0</td>\n",
              "      <td>-0.938950</td>\n",
              "      <td>-0.938950</td>\n",
              "      <td>...</td>\n",
              "      <td>-0.994912</td>\n",
              "      <td>-1.0</td>\n",
              "      <td>NaN</td>\n",
              "      <td>NaN</td>\n",
              "      <td>NaN</td>\n",
              "      <td>NaN</td>\n",
              "      <td>NaN</td>\n",
              "      <td>NaN</td>\n",
              "      <td>NaN</td>\n",
              "      <td>NaN</td>\n",
              "      <td>NaN</td>\n",
              "      <td>NaN</td>\n",
              "      <td>NaN</td>\n",
              "      <td>NaN</td>\n",
              "      <td>NaN</td>\n",
              "      <td>NaN</td>\n",
              "      <td>NaN</td>\n",
              "      <td>NaN</td>\n",
              "      <td>NaN</td>\n",
              "      <td>NaN</td>\n",
              "      <td>NaN</td>\n",
              "      <td>NaN</td>\n",
              "      <td>NaN</td>\n",
              "      <td>NaN</td>\n",
              "      <td>NaN</td>\n",
              "      <td>NaN</td>\n",
              "      <td>NaN</td>\n",
              "      <td>NaN</td>\n",
              "      <td>NaN</td>\n",
              "      <td>NaN</td>\n",
              "      <td>NaN</td>\n",
              "      <td>NaN</td>\n",
              "      <td>NaN</td>\n",
              "      <td>NaN</td>\n",
              "      <td>NaN</td>\n",
              "      <td>NaN</td>\n",
              "      <td>NaN</td>\n",
              "      <td>NaN</td>\n",
              "      <td>4-6</td>\n",
              "      <td>0</td>\n",
              "    </tr>\n",
              "    <tr>\n",
              "      <th>3</th>\n",
              "      <td>0</td>\n",
              "      <td>1</td>\n",
              "      <td>60th</td>\n",
              "      <td>0</td>\n",
              "      <td>0.0</td>\n",
              "      <td>0.0</td>\n",
              "      <td>0.0</td>\n",
              "      <td>0.0</td>\n",
              "      <td>1.0</td>\n",
              "      <td>1.0</td>\n",
              "      <td>0.0</td>\n",
              "      <td>0.0</td>\n",
              "      <td>1.0</td>\n",
              "      <td>NaN</td>\n",
              "      <td>NaN</td>\n",
              "      <td>NaN</td>\n",
              "      <td>NaN</td>\n",
              "      <td>NaN</td>\n",
              "      <td>NaN</td>\n",
              "      <td>NaN</td>\n",
              "      <td>NaN</td>\n",
              "      <td>NaN</td>\n",
              "      <td>NaN</td>\n",
              "      <td>NaN</td>\n",
              "      <td>NaN</td>\n",
              "      <td>NaN</td>\n",
              "      <td>NaN</td>\n",
              "      <td>NaN</td>\n",
              "      <td>NaN</td>\n",
              "      <td>NaN</td>\n",
              "      <td>NaN</td>\n",
              "      <td>NaN</td>\n",
              "      <td>NaN</td>\n",
              "      <td>NaN</td>\n",
              "      <td>NaN</td>\n",
              "      <td>NaN</td>\n",
              "      <td>NaN</td>\n",
              "      <td>NaN</td>\n",
              "      <td>NaN</td>\n",
              "      <td>NaN</td>\n",
              "      <td>...</td>\n",
              "      <td>NaN</td>\n",
              "      <td>NaN</td>\n",
              "      <td>NaN</td>\n",
              "      <td>NaN</td>\n",
              "      <td>NaN</td>\n",
              "      <td>NaN</td>\n",
              "      <td>-0.107143</td>\n",
              "      <td>0.736842</td>\n",
              "      <td>NaN</td>\n",
              "      <td>NaN</td>\n",
              "      <td>NaN</td>\n",
              "      <td>NaN</td>\n",
              "      <td>-0.107143</td>\n",
              "      <td>0.736842</td>\n",
              "      <td>NaN</td>\n",
              "      <td>NaN</td>\n",
              "      <td>NaN</td>\n",
              "      <td>NaN</td>\n",
              "      <td>0.318681</td>\n",
              "      <td>0.898990</td>\n",
              "      <td>NaN</td>\n",
              "      <td>NaN</td>\n",
              "      <td>NaN</td>\n",
              "      <td>NaN</td>\n",
              "      <td>-0.275362</td>\n",
              "      <td>0.736842</td>\n",
              "      <td>NaN</td>\n",
              "      <td>NaN</td>\n",
              "      <td>NaN</td>\n",
              "      <td>NaN</td>\n",
              "      <td>-1.000000</td>\n",
              "      <td>-1.000000</td>\n",
              "      <td>NaN</td>\n",
              "      <td>NaN</td>\n",
              "      <td>NaN</td>\n",
              "      <td>NaN</td>\n",
              "      <td>-1.000000</td>\n",
              "      <td>-1.000000</td>\n",
              "      <td>6-12</td>\n",
              "      <td>0</td>\n",
              "    </tr>\n",
              "    <tr>\n",
              "      <th>4</th>\n",
              "      <td>0</td>\n",
              "      <td>1</td>\n",
              "      <td>60th</td>\n",
              "      <td>0</td>\n",
              "      <td>0.0</td>\n",
              "      <td>0.0</td>\n",
              "      <td>0.0</td>\n",
              "      <td>0.0</td>\n",
              "      <td>1.0</td>\n",
              "      <td>1.0</td>\n",
              "      <td>0.0</td>\n",
              "      <td>0.0</td>\n",
              "      <td>1.0</td>\n",
              "      <td>0.000000</td>\n",
              "      <td>0.000000</td>\n",
              "      <td>0.000000</td>\n",
              "      <td>0.000000</td>\n",
              "      <td>-1.0</td>\n",
              "      <td>-0.871658</td>\n",
              "      <td>-0.871658</td>\n",
              "      <td>-0.871658</td>\n",
              "      <td>-0.871658</td>\n",
              "      <td>-1.0</td>\n",
              "      <td>-0.863874</td>\n",
              "      <td>-0.863874</td>\n",
              "      <td>-0.863874</td>\n",
              "      <td>-0.863874</td>\n",
              "      <td>-1.0</td>\n",
              "      <td>-0.317073</td>\n",
              "      <td>-0.317073</td>\n",
              "      <td>-0.317073</td>\n",
              "      <td>-0.317073</td>\n",
              "      <td>-1.0</td>\n",
              "      <td>-0.414634</td>\n",
              "      <td>-0.414634</td>\n",
              "      <td>-0.414634</td>\n",
              "      <td>-0.414634</td>\n",
              "      <td>-1.0</td>\n",
              "      <td>-0.979069</td>\n",
              "      <td>-0.979069</td>\n",
              "      <td>...</td>\n",
              "      <td>-0.996762</td>\n",
              "      <td>-1.0</td>\n",
              "      <td>-0.243021</td>\n",
              "      <td>-0.338537</td>\n",
              "      <td>-0.213031</td>\n",
              "      <td>-0.317859</td>\n",
              "      <td>0.033779</td>\n",
              "      <td>0.665932</td>\n",
              "      <td>-0.283951</td>\n",
              "      <td>-0.376923</td>\n",
              "      <td>-0.188679</td>\n",
              "      <td>-0.379310</td>\n",
              "      <td>0.035714</td>\n",
              "      <td>0.631579</td>\n",
              "      <td>-0.340206</td>\n",
              "      <td>-0.4875</td>\n",
              "      <td>-0.572650</td>\n",
              "      <td>-0.857143</td>\n",
              "      <td>0.098901</td>\n",
              "      <td>0.797980</td>\n",
              "      <td>-0.076923</td>\n",
              "      <td>0.286486</td>\n",
              "      <td>0.298507</td>\n",
              "      <td>0.272727</td>\n",
              "      <td>0.362319</td>\n",
              "      <td>0.947368</td>\n",
              "      <td>-0.33913</td>\n",
              "      <td>0.325153</td>\n",
              "      <td>0.114504</td>\n",
              "      <td>0.176471</td>\n",
              "      <td>-0.238095</td>\n",
              "      <td>-0.818182</td>\n",
              "      <td>-0.389967</td>\n",
              "      <td>0.407558</td>\n",
              "      <td>-0.230462</td>\n",
              "      <td>0.096774</td>\n",
              "      <td>-0.242282</td>\n",
              "      <td>-0.814433</td>\n",
              "      <td>ABOVE_12</td>\n",
              "      <td>1</td>\n",
              "    </tr>\n",
              "  </tbody>\n",
              "</table>\n",
              "<p>5 rows × 231 columns</p>\n",
              "</div>"
            ],
            "text/plain": [
              "   PATIENT_VISIT_IDENTIFIER  AGE_ABOVE65  ...    WINDOW  ICU\n",
              "0                         0            1  ...       0-2    0\n",
              "1                         0            1  ...       2-4    0\n",
              "2                         0            1  ...       4-6    0\n",
              "3                         0            1  ...      6-12    0\n",
              "4                         0            1  ...  ABOVE_12    1\n",
              "\n",
              "[5 rows x 231 columns]"
            ]
          },
          "metadata": {
            "tags": []
          },
          "execution_count": 2
        }
      ]
    },
    {
      "cell_type": "markdown",
      "metadata": {
        "id": "xw0G9zI-No9J"
      },
      "source": [
        "#AULA 1 : WORKFLOW DE MACHINE LEARNING\r\n",
        "---"
      ]
    },
    {
      "cell_type": "markdown",
      "metadata": {
        "id": "nmCUOWUPS_uK"
      },
      "source": [
        "Abaixo, importaremos alguns códigos usados no módulo passado que contêm as informações que já trabalhamos anteriormente."
      ]
    },
    {
      "cell_type": "markdown",
      "metadata": {
        "id": "8nxwLTxhZ9DM"
      },
      "source": [
        "Essa função era a responsável por preencher as coluns com dados faltantes pelos os dados anteriores e posteriores para cada grupo de paciente, dado que dados clinicos não mudam com muita variancia."
      ]
    },
    {
      "cell_type": "code",
      "metadata": {
        "id": "2ahrPfXSNlOt"
      },
      "source": [
        "def preenche_tabela(dados):\r\n",
        "    features_continuas_colunas = dados.iloc[:, 13:-2].columns\r\n",
        "    features_continuas = dados.groupby(\"PATIENT_VISIT_IDENTIFIER\", as_index=False)[features_continuas_colunas].fillna(method='bfill').fillna(method='ffill')\r\n",
        "    features_categoricas = dados.iloc[:, :13]\r\n",
        "    saida = dados.iloc[:, -2:]\r\n",
        "    dados_finais = pd.concat([features_categoricas, features_continuas, saida], ignore_index=True,axis=1)\r\n",
        "    dados_finais.columns = dados.columns\r\n",
        "    return dados_finais"
      ],
      "execution_count": 3,
      "outputs": []
    },
    {
      "cell_type": "markdown",
      "metadata": {
        "id": "cI-1sDR4aHwj"
      },
      "source": [
        "Essa coluna removia todas as linhas que possuiam valores onde a janela era de até duas horas e o valor para ICU era igual a 1. Ainda dropava dados NaN restantes que fossem gerados."
      ]
    },
    {
      "cell_type": "code",
      "metadata": {
        "colab": {
          "base_uri": "https://localhost:8080/",
          "height": 380
        },
        "id": "kdJSmTWNTRAP",
        "outputId": "1e72433b-b1c4-43e3-d59f-0a7ed0a3a1da"
      },
      "source": [
        "dados_limpos = preenche_tabela(dados)\r\n",
        "a_remover = dados_limpos.query(\"WINDOW=='0-2' and ICU==1\")['PATIENT_VISIT_IDENTIFIER'].values\r\n",
        "dados_limpos = dados_limpos.query(\"PATIENT_VISIT_IDENTIFIER not in @a_remover\")\r\n",
        "dados_limpos = dados_limpos.dropna()\r\n",
        "dados_limpos.describe()"
      ],
      "execution_count": 4,
      "outputs": [
        {
          "output_type": "execute_result",
          "data": {
            "text/html": [
              "<div>\n",
              "<style scoped>\n",
              "    .dataframe tbody tr th:only-of-type {\n",
              "        vertical-align: middle;\n",
              "    }\n",
              "\n",
              "    .dataframe tbody tr th {\n",
              "        vertical-align: top;\n",
              "    }\n",
              "\n",
              "    .dataframe thead th {\n",
              "        text-align: right;\n",
              "    }\n",
              "</style>\n",
              "<table border=\"1\" class=\"dataframe\">\n",
              "  <thead>\n",
              "    <tr style=\"text-align: right;\">\n",
              "      <th></th>\n",
              "      <th>PATIENT_VISIT_IDENTIFIER</th>\n",
              "      <th>AGE_ABOVE65</th>\n",
              "      <th>GENDER</th>\n",
              "      <th>DISEASE GROUPING 1</th>\n",
              "      <th>DISEASE GROUPING 2</th>\n",
              "      <th>DISEASE GROUPING 3</th>\n",
              "      <th>DISEASE GROUPING 4</th>\n",
              "      <th>DISEASE GROUPING 5</th>\n",
              "      <th>DISEASE GROUPING 6</th>\n",
              "      <th>HTN</th>\n",
              "      <th>IMMUNOCOMPROMISED</th>\n",
              "      <th>OTHER</th>\n",
              "      <th>ALBUMIN_MEDIAN</th>\n",
              "      <th>ALBUMIN_MEAN</th>\n",
              "      <th>ALBUMIN_MIN</th>\n",
              "      <th>ALBUMIN_MAX</th>\n",
              "      <th>ALBUMIN_DIFF</th>\n",
              "      <th>BE_ARTERIAL_MEDIAN</th>\n",
              "      <th>BE_ARTERIAL_MEAN</th>\n",
              "      <th>BE_ARTERIAL_MIN</th>\n",
              "      <th>BE_ARTERIAL_MAX</th>\n",
              "      <th>BE_ARTERIAL_DIFF</th>\n",
              "      <th>BE_VENOUS_MEDIAN</th>\n",
              "      <th>BE_VENOUS_MEAN</th>\n",
              "      <th>BE_VENOUS_MIN</th>\n",
              "      <th>BE_VENOUS_MAX</th>\n",
              "      <th>BE_VENOUS_DIFF</th>\n",
              "      <th>BIC_ARTERIAL_MEDIAN</th>\n",
              "      <th>BIC_ARTERIAL_MEAN</th>\n",
              "      <th>BIC_ARTERIAL_MIN</th>\n",
              "      <th>BIC_ARTERIAL_MAX</th>\n",
              "      <th>BIC_ARTERIAL_DIFF</th>\n",
              "      <th>BIC_VENOUS_MEDIAN</th>\n",
              "      <th>BIC_VENOUS_MEAN</th>\n",
              "      <th>BIC_VENOUS_MIN</th>\n",
              "      <th>BIC_VENOUS_MAX</th>\n",
              "      <th>BIC_VENOUS_DIFF</th>\n",
              "      <th>BILLIRUBIN_MEDIAN</th>\n",
              "      <th>BILLIRUBIN_MEAN</th>\n",
              "      <th>BILLIRUBIN_MIN</th>\n",
              "      <th>...</th>\n",
              "      <th>DIMER_MIN</th>\n",
              "      <th>DIMER_MAX</th>\n",
              "      <th>DIMER_DIFF</th>\n",
              "      <th>BLOODPRESSURE_DIASTOLIC_MEAN</th>\n",
              "      <th>BLOODPRESSURE_SISTOLIC_MEAN</th>\n",
              "      <th>HEART_RATE_MEAN</th>\n",
              "      <th>RESPIRATORY_RATE_MEAN</th>\n",
              "      <th>TEMPERATURE_MEAN</th>\n",
              "      <th>OXYGEN_SATURATION_MEAN</th>\n",
              "      <th>BLOODPRESSURE_DIASTOLIC_MEDIAN</th>\n",
              "      <th>BLOODPRESSURE_SISTOLIC_MEDIAN</th>\n",
              "      <th>HEART_RATE_MEDIAN</th>\n",
              "      <th>RESPIRATORY_RATE_MEDIAN</th>\n",
              "      <th>TEMPERATURE_MEDIAN</th>\n",
              "      <th>OXYGEN_SATURATION_MEDIAN</th>\n",
              "      <th>BLOODPRESSURE_DIASTOLIC_MIN</th>\n",
              "      <th>BLOODPRESSURE_SISTOLIC_MIN</th>\n",
              "      <th>HEART_RATE_MIN</th>\n",
              "      <th>RESPIRATORY_RATE_MIN</th>\n",
              "      <th>TEMPERATURE_MIN</th>\n",
              "      <th>OXYGEN_SATURATION_MIN</th>\n",
              "      <th>BLOODPRESSURE_DIASTOLIC_MAX</th>\n",
              "      <th>BLOODPRESSURE_SISTOLIC_MAX</th>\n",
              "      <th>HEART_RATE_MAX</th>\n",
              "      <th>RESPIRATORY_RATE_MAX</th>\n",
              "      <th>TEMPERATURE_MAX</th>\n",
              "      <th>OXYGEN_SATURATION_MAX</th>\n",
              "      <th>BLOODPRESSURE_DIASTOLIC_DIFF</th>\n",
              "      <th>BLOODPRESSURE_SISTOLIC_DIFF</th>\n",
              "      <th>HEART_RATE_DIFF</th>\n",
              "      <th>RESPIRATORY_RATE_DIFF</th>\n",
              "      <th>TEMPERATURE_DIFF</th>\n",
              "      <th>OXYGEN_SATURATION_DIFF</th>\n",
              "      <th>BLOODPRESSURE_DIASTOLIC_DIFF_REL</th>\n",
              "      <th>BLOODPRESSURE_SISTOLIC_DIFF_REL</th>\n",
              "      <th>HEART_RATE_DIFF_REL</th>\n",
              "      <th>RESPIRATORY_RATE_DIFF_REL</th>\n",
              "      <th>TEMPERATURE_DIFF_REL</th>\n",
              "      <th>OXYGEN_SATURATION_DIFF_REL</th>\n",
              "      <th>ICU</th>\n",
              "    </tr>\n",
              "  </thead>\n",
              "  <tbody>\n",
              "    <tr>\n",
              "      <th>count</th>\n",
              "      <td>1760.000000</td>\n",
              "      <td>1760.000000</td>\n",
              "      <td>1760.000000</td>\n",
              "      <td>1760.00000</td>\n",
              "      <td>1760.000000</td>\n",
              "      <td>1760.000000</td>\n",
              "      <td>1760.000000</td>\n",
              "      <td>1760.000000</td>\n",
              "      <td>1760.000000</td>\n",
              "      <td>1760.000000</td>\n",
              "      <td>1760.000000</td>\n",
              "      <td>1760.000000</td>\n",
              "      <td>1760.000000</td>\n",
              "      <td>1760.000000</td>\n",
              "      <td>1760.000000</td>\n",
              "      <td>1760.000000</td>\n",
              "      <td>1760.0</td>\n",
              "      <td>1760.000000</td>\n",
              "      <td>1760.000000</td>\n",
              "      <td>1760.000000</td>\n",
              "      <td>1760.000000</td>\n",
              "      <td>1760.0</td>\n",
              "      <td>1760.000000</td>\n",
              "      <td>1760.000000</td>\n",
              "      <td>1760.000000</td>\n",
              "      <td>1760.000000</td>\n",
              "      <td>1760.0</td>\n",
              "      <td>1760.000000</td>\n",
              "      <td>1760.000000</td>\n",
              "      <td>1760.000000</td>\n",
              "      <td>1760.000000</td>\n",
              "      <td>1760.0</td>\n",
              "      <td>1760.000000</td>\n",
              "      <td>1760.000000</td>\n",
              "      <td>1760.000000</td>\n",
              "      <td>1760.000000</td>\n",
              "      <td>1760.0</td>\n",
              "      <td>1760.000000</td>\n",
              "      <td>1760.000000</td>\n",
              "      <td>1760.000000</td>\n",
              "      <td>...</td>\n",
              "      <td>1760.000000</td>\n",
              "      <td>1760.000000</td>\n",
              "      <td>1760.0</td>\n",
              "      <td>1760.000000</td>\n",
              "      <td>1760.000000</td>\n",
              "      <td>1760.000000</td>\n",
              "      <td>1760.000000</td>\n",
              "      <td>1760.000000</td>\n",
              "      <td>1760.000000</td>\n",
              "      <td>1760.000000</td>\n",
              "      <td>1760.000000</td>\n",
              "      <td>1760.000000</td>\n",
              "      <td>1760.000000</td>\n",
              "      <td>1760.000000</td>\n",
              "      <td>1760.000000</td>\n",
              "      <td>1760.000000</td>\n",
              "      <td>1760.000000</td>\n",
              "      <td>1760.000000</td>\n",
              "      <td>1760.000000</td>\n",
              "      <td>1760.000000</td>\n",
              "      <td>1760.000000</td>\n",
              "      <td>1760.000000</td>\n",
              "      <td>1760.000000</td>\n",
              "      <td>1760.000000</td>\n",
              "      <td>1760.000000</td>\n",
              "      <td>1760.000000</td>\n",
              "      <td>1760.000000</td>\n",
              "      <td>1760.000000</td>\n",
              "      <td>1760.000000</td>\n",
              "      <td>1760.000000</td>\n",
              "      <td>1760.000000</td>\n",
              "      <td>1760.000000</td>\n",
              "      <td>1760.000000</td>\n",
              "      <td>1760.000000</td>\n",
              "      <td>1760.000000</td>\n",
              "      <td>1760.000000</td>\n",
              "      <td>1760.000000</td>\n",
              "      <td>1760.000000</td>\n",
              "      <td>1760.000000</td>\n",
              "      <td>1760.000000</td>\n",
              "    </tr>\n",
              "    <tr>\n",
              "      <th>mean</th>\n",
              "      <td>192.818182</td>\n",
              "      <td>0.457386</td>\n",
              "      <td>0.380682</td>\n",
              "      <td>0.11250</td>\n",
              "      <td>0.026136</td>\n",
              "      <td>0.101705</td>\n",
              "      <td>0.021591</td>\n",
              "      <td>0.132955</td>\n",
              "      <td>0.049432</td>\n",
              "      <td>0.212500</td>\n",
              "      <td>0.163636</td>\n",
              "      <td>0.828977</td>\n",
              "      <td>0.517913</td>\n",
              "      <td>0.517913</td>\n",
              "      <td>0.517913</td>\n",
              "      <td>0.517913</td>\n",
              "      <td>-1.0</td>\n",
              "      <td>-0.958386</td>\n",
              "      <td>-0.958386</td>\n",
              "      <td>-0.958386</td>\n",
              "      <td>-0.958386</td>\n",
              "      <td>-1.0</td>\n",
              "      <td>-0.926916</td>\n",
              "      <td>-0.926916</td>\n",
              "      <td>-0.926916</td>\n",
              "      <td>-0.926916</td>\n",
              "      <td>-1.0</td>\n",
              "      <td>-0.306430</td>\n",
              "      <td>-0.306430</td>\n",
              "      <td>-0.306430</td>\n",
              "      <td>-0.306430</td>\n",
              "      <td>-1.0</td>\n",
              "      <td>-0.305377</td>\n",
              "      <td>-0.305377</td>\n",
              "      <td>-0.305377</td>\n",
              "      <td>-0.305377</td>\n",
              "      <td>-1.0</td>\n",
              "      <td>-0.945935</td>\n",
              "      <td>-0.945935</td>\n",
              "      <td>-0.945935</td>\n",
              "      <td>...</td>\n",
              "      <td>-0.955277</td>\n",
              "      <td>-0.955277</td>\n",
              "      <td>-1.0</td>\n",
              "      <td>-0.073908</td>\n",
              "      <td>-0.339631</td>\n",
              "      <td>-0.267838</td>\n",
              "      <td>-0.458545</td>\n",
              "      <td>0.067973</td>\n",
              "      <td>0.747996</td>\n",
              "      <td>-0.078023</td>\n",
              "      <td>-0.344698</td>\n",
              "      <td>-0.270867</td>\n",
              "      <td>-0.452606</td>\n",
              "      <td>0.064864</td>\n",
              "      <td>0.751914</td>\n",
              "      <td>-0.001207</td>\n",
              "      <td>-0.187010</td>\n",
              "      <td>-0.243988</td>\n",
              "      <td>-0.469278</td>\n",
              "      <td>0.350887</td>\n",
              "      <td>0.841908</td>\n",
              "      <td>-0.248728</td>\n",
              "      <td>-0.432592</td>\n",
              "      <td>-0.313034</td>\n",
              "      <td>-0.381784</td>\n",
              "      <td>-0.017968</td>\n",
              "      <td>0.808029</td>\n",
              "      <td>-0.799862</td>\n",
              "      <td>-0.785938</td>\n",
              "      <td>-0.804580</td>\n",
              "      <td>-0.778209</td>\n",
              "      <td>-0.823458</td>\n",
              "      <td>-0.915593</td>\n",
              "      <td>-0.828593</td>\n",
              "      <td>-0.774857</td>\n",
              "      <td>-0.854690</td>\n",
              "      <td>-0.788155</td>\n",
              "      <td>-0.824412</td>\n",
              "      <td>-0.915552</td>\n",
              "      <td>0.201705</td>\n",
              "    </tr>\n",
              "    <tr>\n",
              "      <th>std</th>\n",
              "      <td>110.637724</td>\n",
              "      <td>0.498322</td>\n",
              "      <td>0.485692</td>\n",
              "      <td>0.31607</td>\n",
              "      <td>0.159586</td>\n",
              "      <td>0.302345</td>\n",
              "      <td>0.145385</td>\n",
              "      <td>0.339622</td>\n",
              "      <td>0.216829</td>\n",
              "      <td>0.409193</td>\n",
              "      <td>0.370050</td>\n",
              "      <td>0.376636</td>\n",
              "      <td>0.235219</td>\n",
              "      <td>0.235219</td>\n",
              "      <td>0.235219</td>\n",
              "      <td>0.235219</td>\n",
              "      <td>0.0</td>\n",
              "      <td>0.182797</td>\n",
              "      <td>0.182797</td>\n",
              "      <td>0.182797</td>\n",
              "      <td>0.182797</td>\n",
              "      <td>0.0</td>\n",
              "      <td>0.178947</td>\n",
              "      <td>0.178947</td>\n",
              "      <td>0.178947</td>\n",
              "      <td>0.178947</td>\n",
              "      <td>0.0</td>\n",
              "      <td>0.107783</td>\n",
              "      <td>0.107783</td>\n",
              "      <td>0.107783</td>\n",
              "      <td>0.107783</td>\n",
              "      <td>0.0</td>\n",
              "      <td>0.120988</td>\n",
              "      <td>0.120988</td>\n",
              "      <td>0.120988</td>\n",
              "      <td>0.120988</td>\n",
              "      <td>0.0</td>\n",
              "      <td>0.088861</td>\n",
              "      <td>0.088861</td>\n",
              "      <td>0.088861</td>\n",
              "      <td>...</td>\n",
              "      <td>0.125227</td>\n",
              "      <td>0.125227</td>\n",
              "      <td>0.0</td>\n",
              "      <td>0.248552</td>\n",
              "      <td>0.261409</td>\n",
              "      <td>0.241648</td>\n",
              "      <td>0.207736</td>\n",
              "      <td>0.239760</td>\n",
              "      <td>0.119912</td>\n",
              "      <td>0.254493</td>\n",
              "      <td>0.264516</td>\n",
              "      <td>0.247132</td>\n",
              "      <td>0.218765</td>\n",
              "      <td>0.247949</td>\n",
              "      <td>0.119985</td>\n",
              "      <td>0.270201</td>\n",
              "      <td>0.261183</td>\n",
              "      <td>0.260190</td>\n",
              "      <td>0.252147</td>\n",
              "      <td>0.193029</td>\n",
              "      <td>0.236797</td>\n",
              "      <td>0.246389</td>\n",
              "      <td>0.258776</td>\n",
              "      <td>0.274449</td>\n",
              "      <td>0.356890</td>\n",
              "      <td>0.262440</td>\n",
              "      <td>0.132323</td>\n",
              "      <td>0.322680</td>\n",
              "      <td>0.356078</td>\n",
              "      <td>0.324716</td>\n",
              "      <td>0.411909</td>\n",
              "      <td>0.276279</td>\n",
              "      <td>0.247695</td>\n",
              "      <td>0.287696</td>\n",
              "      <td>0.368311</td>\n",
              "      <td>0.240338</td>\n",
              "      <td>0.384405</td>\n",
              "      <td>0.274953</td>\n",
              "      <td>0.248093</td>\n",
              "      <td>0.401387</td>\n",
              "    </tr>\n",
              "    <tr>\n",
              "      <th>min</th>\n",
              "      <td>0.000000</td>\n",
              "      <td>0.000000</td>\n",
              "      <td>0.000000</td>\n",
              "      <td>0.00000</td>\n",
              "      <td>0.000000</td>\n",
              "      <td>0.000000</td>\n",
              "      <td>0.000000</td>\n",
              "      <td>0.000000</td>\n",
              "      <td>0.000000</td>\n",
              "      <td>0.000000</td>\n",
              "      <td>0.000000</td>\n",
              "      <td>0.000000</td>\n",
              "      <td>-1.000000</td>\n",
              "      <td>-1.000000</td>\n",
              "      <td>-1.000000</td>\n",
              "      <td>-1.000000</td>\n",
              "      <td>-1.0</td>\n",
              "      <td>-1.000000</td>\n",
              "      <td>-1.000000</td>\n",
              "      <td>-1.000000</td>\n",
              "      <td>-1.000000</td>\n",
              "      <td>-1.0</td>\n",
              "      <td>-1.000000</td>\n",
              "      <td>-1.000000</td>\n",
              "      <td>-1.000000</td>\n",
              "      <td>-1.000000</td>\n",
              "      <td>-1.0</td>\n",
              "      <td>-1.000000</td>\n",
              "      <td>-1.000000</td>\n",
              "      <td>-1.000000</td>\n",
              "      <td>-1.000000</td>\n",
              "      <td>-1.0</td>\n",
              "      <td>-1.000000</td>\n",
              "      <td>-1.000000</td>\n",
              "      <td>-1.000000</td>\n",
              "      <td>-1.000000</td>\n",
              "      <td>-1.0</td>\n",
              "      <td>-1.000000</td>\n",
              "      <td>-1.000000</td>\n",
              "      <td>-1.000000</td>\n",
              "      <td>...</td>\n",
              "      <td>-1.000000</td>\n",
              "      <td>-1.000000</td>\n",
              "      <td>-1.0</td>\n",
              "      <td>-1.000000</td>\n",
              "      <td>-1.000000</td>\n",
              "      <td>-1.000000</td>\n",
              "      <td>-1.000000</td>\n",
              "      <td>-0.578571</td>\n",
              "      <td>-1.000000</td>\n",
              "      <td>-1.000000</td>\n",
              "      <td>-1.000000</td>\n",
              "      <td>-1.000000</td>\n",
              "      <td>-1.000000</td>\n",
              "      <td>-0.607143</td>\n",
              "      <td>-1.000000</td>\n",
              "      <td>-1.000000</td>\n",
              "      <td>-1.000000</td>\n",
              "      <td>-1.000000</td>\n",
              "      <td>-1.000000</td>\n",
              "      <td>-0.340659</td>\n",
              "      <td>-1.000000</td>\n",
              "      <td>-1.000000</td>\n",
              "      <td>-1.000000</td>\n",
              "      <td>-1.000000</td>\n",
              "      <td>-1.000000</td>\n",
              "      <td>-0.652174</td>\n",
              "      <td>-1.000000</td>\n",
              "      <td>-1.000000</td>\n",
              "      <td>-1.000000</td>\n",
              "      <td>-1.000000</td>\n",
              "      <td>-1.000000</td>\n",
              "      <td>-1.000000</td>\n",
              "      <td>-1.000000</td>\n",
              "      <td>-1.000000</td>\n",
              "      <td>-1.000000</td>\n",
              "      <td>-1.000000</td>\n",
              "      <td>-1.000000</td>\n",
              "      <td>-1.000000</td>\n",
              "      <td>-1.000000</td>\n",
              "      <td>0.000000</td>\n",
              "    </tr>\n",
              "    <tr>\n",
              "      <th>25%</th>\n",
              "      <td>97.750000</td>\n",
              "      <td>0.000000</td>\n",
              "      <td>0.000000</td>\n",
              "      <td>0.00000</td>\n",
              "      <td>0.000000</td>\n",
              "      <td>0.000000</td>\n",
              "      <td>0.000000</td>\n",
              "      <td>0.000000</td>\n",
              "      <td>0.000000</td>\n",
              "      <td>0.000000</td>\n",
              "      <td>0.000000</td>\n",
              "      <td>1.000000</td>\n",
              "      <td>0.605263</td>\n",
              "      <td>0.605263</td>\n",
              "      <td>0.605263</td>\n",
              "      <td>0.605263</td>\n",
              "      <td>-1.0</td>\n",
              "      <td>-1.000000</td>\n",
              "      <td>-1.000000</td>\n",
              "      <td>-1.000000</td>\n",
              "      <td>-1.000000</td>\n",
              "      <td>-1.0</td>\n",
              "      <td>-1.000000</td>\n",
              "      <td>-1.000000</td>\n",
              "      <td>-1.000000</td>\n",
              "      <td>-1.000000</td>\n",
              "      <td>-1.0</td>\n",
              "      <td>-0.317073</td>\n",
              "      <td>-0.317073</td>\n",
              "      <td>-0.317073</td>\n",
              "      <td>-0.317073</td>\n",
              "      <td>-1.0</td>\n",
              "      <td>-0.317073</td>\n",
              "      <td>-0.317073</td>\n",
              "      <td>-0.317073</td>\n",
              "      <td>-0.317073</td>\n",
              "      <td>-1.0</td>\n",
              "      <td>-0.968603</td>\n",
              "      <td>-0.968603</td>\n",
              "      <td>-0.968603</td>\n",
              "      <td>...</td>\n",
              "      <td>-0.980958</td>\n",
              "      <td>-0.980958</td>\n",
              "      <td>-1.0</td>\n",
              "      <td>-0.234568</td>\n",
              "      <td>-0.523077</td>\n",
              "      <td>-0.427645</td>\n",
              "      <td>-0.570621</td>\n",
              "      <td>-0.107143</td>\n",
              "      <td>0.684211</td>\n",
              "      <td>-0.234568</td>\n",
              "      <td>-0.538462</td>\n",
              "      <td>-0.433962</td>\n",
              "      <td>-0.586207</td>\n",
              "      <td>-0.107143</td>\n",
              "      <td>0.684211</td>\n",
              "      <td>-0.175258</td>\n",
              "      <td>-0.375000</td>\n",
              "      <td>-0.418803</td>\n",
              "      <td>-0.571429</td>\n",
              "      <td>0.230769</td>\n",
              "      <td>0.838384</td>\n",
              "      <td>-0.418803</td>\n",
              "      <td>-0.600000</td>\n",
              "      <td>-0.492537</td>\n",
              "      <td>-0.575758</td>\n",
              "      <td>-0.217391</td>\n",
              "      <td>0.736842</td>\n",
              "      <td>-1.000000</td>\n",
              "      <td>-1.000000</td>\n",
              "      <td>-1.000000</td>\n",
              "      <td>-1.000000</td>\n",
              "      <td>-1.000000</td>\n",
              "      <td>-1.000000</td>\n",
              "      <td>-1.000000</td>\n",
              "      <td>-1.000000</td>\n",
              "      <td>-1.000000</td>\n",
              "      <td>-1.000000</td>\n",
              "      <td>-1.000000</td>\n",
              "      <td>-1.000000</td>\n",
              "      <td>0.000000</td>\n",
              "    </tr>\n",
              "    <tr>\n",
              "      <th>50%</th>\n",
              "      <td>191.500000</td>\n",
              "      <td>0.000000</td>\n",
              "      <td>0.000000</td>\n",
              "      <td>0.00000</td>\n",
              "      <td>0.000000</td>\n",
              "      <td>0.000000</td>\n",
              "      <td>0.000000</td>\n",
              "      <td>0.000000</td>\n",
              "      <td>0.000000</td>\n",
              "      <td>0.000000</td>\n",
              "      <td>0.000000</td>\n",
              "      <td>1.000000</td>\n",
              "      <td>0.605263</td>\n",
              "      <td>0.605263</td>\n",
              "      <td>0.605263</td>\n",
              "      <td>0.605263</td>\n",
              "      <td>-1.0</td>\n",
              "      <td>-1.000000</td>\n",
              "      <td>-1.000000</td>\n",
              "      <td>-1.000000</td>\n",
              "      <td>-1.000000</td>\n",
              "      <td>-1.0</td>\n",
              "      <td>-1.000000</td>\n",
              "      <td>-1.000000</td>\n",
              "      <td>-1.000000</td>\n",
              "      <td>-1.000000</td>\n",
              "      <td>-1.0</td>\n",
              "      <td>-0.317073</td>\n",
              "      <td>-0.317073</td>\n",
              "      <td>-0.317073</td>\n",
              "      <td>-0.317073</td>\n",
              "      <td>-1.0</td>\n",
              "      <td>-0.317073</td>\n",
              "      <td>-0.317073</td>\n",
              "      <td>-0.317073</td>\n",
              "      <td>-0.317073</td>\n",
              "      <td>-1.0</td>\n",
              "      <td>-0.938950</td>\n",
              "      <td>-0.938950</td>\n",
              "      <td>-0.938950</td>\n",
              "      <td>...</td>\n",
              "      <td>-0.978029</td>\n",
              "      <td>-0.978029</td>\n",
              "      <td>-1.0</td>\n",
              "      <td>-0.078189</td>\n",
              "      <td>-0.384615</td>\n",
              "      <td>-0.292453</td>\n",
              "      <td>-0.525424</td>\n",
              "      <td>0.035714</td>\n",
              "      <td>0.750000</td>\n",
              "      <td>-0.111111</td>\n",
              "      <td>-0.384615</td>\n",
              "      <td>-0.292453</td>\n",
              "      <td>-0.517241</td>\n",
              "      <td>0.035714</td>\n",
              "      <td>0.736842</td>\n",
              "      <td>0.030928</td>\n",
              "      <td>-0.225000</td>\n",
              "      <td>-0.264957</td>\n",
              "      <td>-0.500000</td>\n",
              "      <td>0.340659</td>\n",
              "      <td>0.878788</td>\n",
              "      <td>-0.247863</td>\n",
              "      <td>-0.459459</td>\n",
              "      <td>-0.358209</td>\n",
              "      <td>-0.515152</td>\n",
              "      <td>-0.072464</td>\n",
              "      <td>0.842105</td>\n",
              "      <td>-1.000000</td>\n",
              "      <td>-1.000000</td>\n",
              "      <td>-1.000000</td>\n",
              "      <td>-1.000000</td>\n",
              "      <td>-1.000000</td>\n",
              "      <td>-1.000000</td>\n",
              "      <td>-1.000000</td>\n",
              "      <td>-1.000000</td>\n",
              "      <td>-1.000000</td>\n",
              "      <td>-1.000000</td>\n",
              "      <td>-1.000000</td>\n",
              "      <td>-1.000000</td>\n",
              "      <td>0.000000</td>\n",
              "    </tr>\n",
              "    <tr>\n",
              "      <th>75%</th>\n",
              "      <td>289.250000</td>\n",
              "      <td>1.000000</td>\n",
              "      <td>1.000000</td>\n",
              "      <td>0.00000</td>\n",
              "      <td>0.000000</td>\n",
              "      <td>0.000000</td>\n",
              "      <td>0.000000</td>\n",
              "      <td>0.000000</td>\n",
              "      <td>0.000000</td>\n",
              "      <td>0.000000</td>\n",
              "      <td>0.000000</td>\n",
              "      <td>1.000000</td>\n",
              "      <td>0.605263</td>\n",
              "      <td>0.605263</td>\n",
              "      <td>0.605263</td>\n",
              "      <td>0.605263</td>\n",
              "      <td>-1.0</td>\n",
              "      <td>-1.000000</td>\n",
              "      <td>-1.000000</td>\n",
              "      <td>-1.000000</td>\n",
              "      <td>-1.000000</td>\n",
              "      <td>-1.0</td>\n",
              "      <td>-0.958115</td>\n",
              "      <td>-0.958115</td>\n",
              "      <td>-0.958115</td>\n",
              "      <td>-0.958115</td>\n",
              "      <td>-1.0</td>\n",
              "      <td>-0.317073</td>\n",
              "      <td>-0.317073</td>\n",
              "      <td>-0.317073</td>\n",
              "      <td>-0.317073</td>\n",
              "      <td>-1.0</td>\n",
              "      <td>-0.317073</td>\n",
              "      <td>-0.317073</td>\n",
              "      <td>-0.317073</td>\n",
              "      <td>-0.317073</td>\n",
              "      <td>-1.0</td>\n",
              "      <td>-0.938950</td>\n",
              "      <td>-0.938950</td>\n",
              "      <td>-0.938950</td>\n",
              "      <td>...</td>\n",
              "      <td>-0.970878</td>\n",
              "      <td>-0.970878</td>\n",
              "      <td>-1.0</td>\n",
              "      <td>0.086420</td>\n",
              "      <td>-0.200000</td>\n",
              "      <td>-0.132075</td>\n",
              "      <td>-0.389831</td>\n",
              "      <td>0.214286</td>\n",
              "      <td>0.824901</td>\n",
              "      <td>0.086420</td>\n",
              "      <td>-0.230769</td>\n",
              "      <td>-0.132075</td>\n",
              "      <td>-0.379310</td>\n",
              "      <td>0.214286</td>\n",
              "      <td>0.842105</td>\n",
              "      <td>0.237113</td>\n",
              "      <td>0.000000</td>\n",
              "      <td>-0.089744</td>\n",
              "      <td>-0.357143</td>\n",
              "      <td>0.494505</td>\n",
              "      <td>0.919192</td>\n",
              "      <td>-0.076923</td>\n",
              "      <td>-0.305405</td>\n",
              "      <td>-0.179104</td>\n",
              "      <td>-0.333333</td>\n",
              "      <td>0.159420</td>\n",
              "      <td>0.894737</td>\n",
              "      <td>-0.652174</td>\n",
              "      <td>-0.656442</td>\n",
              "      <td>-0.709924</td>\n",
              "      <td>-0.764706</td>\n",
              "      <td>-0.738095</td>\n",
              "      <td>-0.919192</td>\n",
              "      <td>-0.726087</td>\n",
              "      <td>-0.651942</td>\n",
              "      <td>-0.771625</td>\n",
              "      <td>-0.756272</td>\n",
              "      <td>-0.736640</td>\n",
              "      <td>-0.920103</td>\n",
              "      <td>0.000000</td>\n",
              "    </tr>\n",
              "    <tr>\n",
              "      <th>max</th>\n",
              "      <td>384.000000</td>\n",
              "      <td>1.000000</td>\n",
              "      <td>1.000000</td>\n",
              "      <td>1.00000</td>\n",
              "      <td>1.000000</td>\n",
              "      <td>1.000000</td>\n",
              "      <td>1.000000</td>\n",
              "      <td>1.000000</td>\n",
              "      <td>1.000000</td>\n",
              "      <td>1.000000</td>\n",
              "      <td>1.000000</td>\n",
              "      <td>1.000000</td>\n",
              "      <td>1.000000</td>\n",
              "      <td>1.000000</td>\n",
              "      <td>1.000000</td>\n",
              "      <td>1.000000</td>\n",
              "      <td>-1.0</td>\n",
              "      <td>1.000000</td>\n",
              "      <td>1.000000</td>\n",
              "      <td>1.000000</td>\n",
              "      <td>1.000000</td>\n",
              "      <td>-1.0</td>\n",
              "      <td>1.000000</td>\n",
              "      <td>1.000000</td>\n",
              "      <td>1.000000</td>\n",
              "      <td>1.000000</td>\n",
              "      <td>-1.0</td>\n",
              "      <td>1.000000</td>\n",
              "      <td>1.000000</td>\n",
              "      <td>1.000000</td>\n",
              "      <td>1.000000</td>\n",
              "      <td>-1.0</td>\n",
              "      <td>1.000000</td>\n",
              "      <td>1.000000</td>\n",
              "      <td>1.000000</td>\n",
              "      <td>1.000000</td>\n",
              "      <td>-1.0</td>\n",
              "      <td>1.000000</td>\n",
              "      <td>1.000000</td>\n",
              "      <td>1.000000</td>\n",
              "      <td>...</td>\n",
              "      <td>1.000000</td>\n",
              "      <td>1.000000</td>\n",
              "      <td>-1.0</td>\n",
              "      <td>1.000000</td>\n",
              "      <td>1.000000</td>\n",
              "      <td>1.000000</td>\n",
              "      <td>1.000000</td>\n",
              "      <td>0.964286</td>\n",
              "      <td>1.000000</td>\n",
              "      <td>1.000000</td>\n",
              "      <td>1.000000</td>\n",
              "      <td>1.000000</td>\n",
              "      <td>1.000000</td>\n",
              "      <td>0.964286</td>\n",
              "      <td>1.000000</td>\n",
              "      <td>1.000000</td>\n",
              "      <td>1.000000</td>\n",
              "      <td>1.000000</td>\n",
              "      <td>1.000000</td>\n",
              "      <td>0.978022</td>\n",
              "      <td>1.000000</td>\n",
              "      <td>1.000000</td>\n",
              "      <td>0.632432</td>\n",
              "      <td>1.000000</td>\n",
              "      <td>1.000000</td>\n",
              "      <td>1.000000</td>\n",
              "      <td>1.000000</td>\n",
              "      <td>1.000000</td>\n",
              "      <td>0.914110</td>\n",
              "      <td>1.000000</td>\n",
              "      <td>1.000000</td>\n",
              "      <td>0.333333</td>\n",
              "      <td>1.000000</td>\n",
              "      <td>1.000000</td>\n",
              "      <td>1.000000</td>\n",
              "      <td>1.000000</td>\n",
              "      <td>1.000000</td>\n",
              "      <td>0.329660</td>\n",
              "      <td>1.000000</td>\n",
              "      <td>1.000000</td>\n",
              "    </tr>\n",
              "  </tbody>\n",
              "</table>\n",
              "<p>8 rows × 229 columns</p>\n",
              "</div>"
            ],
            "text/plain": [
              "       PATIENT_VISIT_IDENTIFIER  ...          ICU\n",
              "count               1760.000000  ...  1760.000000\n",
              "mean                 192.818182  ...     0.201705\n",
              "std                  110.637724  ...     0.401387\n",
              "min                    0.000000  ...     0.000000\n",
              "25%                   97.750000  ...     0.000000\n",
              "50%                  191.500000  ...     0.000000\n",
              "75%                  289.250000  ...     0.000000\n",
              "max                  384.000000  ...     1.000000\n",
              "\n",
              "[8 rows x 229 columns]"
            ]
          },
          "metadata": {
            "tags": []
          },
          "execution_count": 4
        }
      ]
    },
    {
      "cell_type": "markdown",
      "metadata": {
        "id": "TcO6Rq96aTmL"
      },
      "source": [
        "Essa função agrupa todos os grupos de dados de um paciente e atribui o valor ICU == 1 na janela de até duas horas para assim pordemos trabalhar apenas com pacientes do quadro de até duas horas. Eis o motivo de termos jogado fora dados de pacientes com ICU = 1 e WINDOW = 0-2 logo de cara. Se a pessoa já entrou no hospital precisando de UTI, seus dados não servirão para o modelo."
      ]
    },
    {
      "cell_type": "code",
      "metadata": {
        "colab": {
          "base_uri": "https://localhost:8080/",
          "height": 318
        },
        "id": "eYucOBdhTRCm",
        "outputId": "c75e61c4-87cd-4858-b940-524a1a612157"
      },
      "source": [
        "def prepare_window(rows):\r\n",
        "    if(np.any(rows[\"ICU\"])):\r\n",
        "        rows.loc[rows[\"WINDOW\"]==\"0-2\", \"ICU\"] = 1\r\n",
        "    return rows.loc[rows[\"WINDOW\"] == \"0-2\"]\r\n",
        "\r\n",
        "dados_limpos = dados_limpos.groupby(\"PATIENT_VISIT_IDENTIFIER\").apply(prepare_window)\r\n",
        "dados_limpos.AGE_PERCENTIL = dados_limpos.AGE_PERCENTIL.astype(\"category\").cat.codes #transformar dados do tipo String para categóricos \r\n",
        "dados_limpos.head()"
      ],
      "execution_count": 5,
      "outputs": [
        {
          "output_type": "execute_result",
          "data": {
            "text/html": [
              "<div>\n",
              "<style scoped>\n",
              "    .dataframe tbody tr th:only-of-type {\n",
              "        vertical-align: middle;\n",
              "    }\n",
              "\n",
              "    .dataframe tbody tr th {\n",
              "        vertical-align: top;\n",
              "    }\n",
              "\n",
              "    .dataframe thead th {\n",
              "        text-align: right;\n",
              "    }\n",
              "</style>\n",
              "<table border=\"1\" class=\"dataframe\">\n",
              "  <thead>\n",
              "    <tr style=\"text-align: right;\">\n",
              "      <th></th>\n",
              "      <th></th>\n",
              "      <th>PATIENT_VISIT_IDENTIFIER</th>\n",
              "      <th>AGE_ABOVE65</th>\n",
              "      <th>AGE_PERCENTIL</th>\n",
              "      <th>GENDER</th>\n",
              "      <th>DISEASE GROUPING 1</th>\n",
              "      <th>DISEASE GROUPING 2</th>\n",
              "      <th>DISEASE GROUPING 3</th>\n",
              "      <th>DISEASE GROUPING 4</th>\n",
              "      <th>DISEASE GROUPING 5</th>\n",
              "      <th>DISEASE GROUPING 6</th>\n",
              "      <th>HTN</th>\n",
              "      <th>IMMUNOCOMPROMISED</th>\n",
              "      <th>OTHER</th>\n",
              "      <th>ALBUMIN_MEDIAN</th>\n",
              "      <th>ALBUMIN_MEAN</th>\n",
              "      <th>ALBUMIN_MIN</th>\n",
              "      <th>ALBUMIN_MAX</th>\n",
              "      <th>ALBUMIN_DIFF</th>\n",
              "      <th>BE_ARTERIAL_MEDIAN</th>\n",
              "      <th>BE_ARTERIAL_MEAN</th>\n",
              "      <th>BE_ARTERIAL_MIN</th>\n",
              "      <th>BE_ARTERIAL_MAX</th>\n",
              "      <th>BE_ARTERIAL_DIFF</th>\n",
              "      <th>BE_VENOUS_MEDIAN</th>\n",
              "      <th>BE_VENOUS_MEAN</th>\n",
              "      <th>BE_VENOUS_MIN</th>\n",
              "      <th>BE_VENOUS_MAX</th>\n",
              "      <th>BE_VENOUS_DIFF</th>\n",
              "      <th>BIC_ARTERIAL_MEDIAN</th>\n",
              "      <th>BIC_ARTERIAL_MEAN</th>\n",
              "      <th>BIC_ARTERIAL_MIN</th>\n",
              "      <th>BIC_ARTERIAL_MAX</th>\n",
              "      <th>BIC_ARTERIAL_DIFF</th>\n",
              "      <th>BIC_VENOUS_MEDIAN</th>\n",
              "      <th>BIC_VENOUS_MEAN</th>\n",
              "      <th>BIC_VENOUS_MIN</th>\n",
              "      <th>BIC_VENOUS_MAX</th>\n",
              "      <th>BIC_VENOUS_DIFF</th>\n",
              "      <th>BILLIRUBIN_MEDIAN</th>\n",
              "      <th>BILLIRUBIN_MEAN</th>\n",
              "      <th>...</th>\n",
              "      <th>DIMER_MAX</th>\n",
              "      <th>DIMER_DIFF</th>\n",
              "      <th>BLOODPRESSURE_DIASTOLIC_MEAN</th>\n",
              "      <th>BLOODPRESSURE_SISTOLIC_MEAN</th>\n",
              "      <th>HEART_RATE_MEAN</th>\n",
              "      <th>RESPIRATORY_RATE_MEAN</th>\n",
              "      <th>TEMPERATURE_MEAN</th>\n",
              "      <th>OXYGEN_SATURATION_MEAN</th>\n",
              "      <th>BLOODPRESSURE_DIASTOLIC_MEDIAN</th>\n",
              "      <th>BLOODPRESSURE_SISTOLIC_MEDIAN</th>\n",
              "      <th>HEART_RATE_MEDIAN</th>\n",
              "      <th>RESPIRATORY_RATE_MEDIAN</th>\n",
              "      <th>TEMPERATURE_MEDIAN</th>\n",
              "      <th>OXYGEN_SATURATION_MEDIAN</th>\n",
              "      <th>BLOODPRESSURE_DIASTOLIC_MIN</th>\n",
              "      <th>BLOODPRESSURE_SISTOLIC_MIN</th>\n",
              "      <th>HEART_RATE_MIN</th>\n",
              "      <th>RESPIRATORY_RATE_MIN</th>\n",
              "      <th>TEMPERATURE_MIN</th>\n",
              "      <th>OXYGEN_SATURATION_MIN</th>\n",
              "      <th>BLOODPRESSURE_DIASTOLIC_MAX</th>\n",
              "      <th>BLOODPRESSURE_SISTOLIC_MAX</th>\n",
              "      <th>HEART_RATE_MAX</th>\n",
              "      <th>RESPIRATORY_RATE_MAX</th>\n",
              "      <th>TEMPERATURE_MAX</th>\n",
              "      <th>OXYGEN_SATURATION_MAX</th>\n",
              "      <th>BLOODPRESSURE_DIASTOLIC_DIFF</th>\n",
              "      <th>BLOODPRESSURE_SISTOLIC_DIFF</th>\n",
              "      <th>HEART_RATE_DIFF</th>\n",
              "      <th>RESPIRATORY_RATE_DIFF</th>\n",
              "      <th>TEMPERATURE_DIFF</th>\n",
              "      <th>OXYGEN_SATURATION_DIFF</th>\n",
              "      <th>BLOODPRESSURE_DIASTOLIC_DIFF_REL</th>\n",
              "      <th>BLOODPRESSURE_SISTOLIC_DIFF_REL</th>\n",
              "      <th>HEART_RATE_DIFF_REL</th>\n",
              "      <th>RESPIRATORY_RATE_DIFF_REL</th>\n",
              "      <th>TEMPERATURE_DIFF_REL</th>\n",
              "      <th>OXYGEN_SATURATION_DIFF_REL</th>\n",
              "      <th>WINDOW</th>\n",
              "      <th>ICU</th>\n",
              "    </tr>\n",
              "    <tr>\n",
              "      <th>PATIENT_VISIT_IDENTIFIER</th>\n",
              "      <th></th>\n",
              "      <th></th>\n",
              "      <th></th>\n",
              "      <th></th>\n",
              "      <th></th>\n",
              "      <th></th>\n",
              "      <th></th>\n",
              "      <th></th>\n",
              "      <th></th>\n",
              "      <th></th>\n",
              "      <th></th>\n",
              "      <th></th>\n",
              "      <th></th>\n",
              "      <th></th>\n",
              "      <th></th>\n",
              "      <th></th>\n",
              "      <th></th>\n",
              "      <th></th>\n",
              "      <th></th>\n",
              "      <th></th>\n",
              "      <th></th>\n",
              "      <th></th>\n",
              "      <th></th>\n",
              "      <th></th>\n",
              "      <th></th>\n",
              "      <th></th>\n",
              "      <th></th>\n",
              "      <th></th>\n",
              "      <th></th>\n",
              "      <th></th>\n",
              "      <th></th>\n",
              "      <th></th>\n",
              "      <th></th>\n",
              "      <th></th>\n",
              "      <th></th>\n",
              "      <th></th>\n",
              "      <th></th>\n",
              "      <th></th>\n",
              "      <th></th>\n",
              "      <th></th>\n",
              "      <th></th>\n",
              "      <th></th>\n",
              "      <th></th>\n",
              "      <th></th>\n",
              "      <th></th>\n",
              "      <th></th>\n",
              "      <th></th>\n",
              "      <th></th>\n",
              "      <th></th>\n",
              "      <th></th>\n",
              "      <th></th>\n",
              "      <th></th>\n",
              "      <th></th>\n",
              "      <th></th>\n",
              "      <th></th>\n",
              "      <th></th>\n",
              "      <th></th>\n",
              "      <th></th>\n",
              "      <th></th>\n",
              "      <th></th>\n",
              "      <th></th>\n",
              "      <th></th>\n",
              "      <th></th>\n",
              "      <th></th>\n",
              "      <th></th>\n",
              "      <th></th>\n",
              "      <th></th>\n",
              "      <th></th>\n",
              "      <th></th>\n",
              "      <th></th>\n",
              "      <th></th>\n",
              "      <th></th>\n",
              "      <th></th>\n",
              "      <th></th>\n",
              "      <th></th>\n",
              "      <th></th>\n",
              "      <th></th>\n",
              "      <th></th>\n",
              "      <th></th>\n",
              "      <th></th>\n",
              "      <th></th>\n",
              "      <th></th>\n",
              "    </tr>\n",
              "  </thead>\n",
              "  <tbody>\n",
              "    <tr>\n",
              "      <th>0</th>\n",
              "      <th>0</th>\n",
              "      <td>0</td>\n",
              "      <td>1</td>\n",
              "      <td>5</td>\n",
              "      <td>0</td>\n",
              "      <td>0.0</td>\n",
              "      <td>0.0</td>\n",
              "      <td>0.0</td>\n",
              "      <td>0.0</td>\n",
              "      <td>1.0</td>\n",
              "      <td>1.0</td>\n",
              "      <td>0.0</td>\n",
              "      <td>0.0</td>\n",
              "      <td>1.0</td>\n",
              "      <td>0.605263</td>\n",
              "      <td>0.605263</td>\n",
              "      <td>0.605263</td>\n",
              "      <td>0.605263</td>\n",
              "      <td>-1.0</td>\n",
              "      <td>-1.0</td>\n",
              "      <td>-1.0</td>\n",
              "      <td>-1.0</td>\n",
              "      <td>-1.0</td>\n",
              "      <td>-1.0</td>\n",
              "      <td>-1.0</td>\n",
              "      <td>-1.0</td>\n",
              "      <td>-1.0</td>\n",
              "      <td>-1.0</td>\n",
              "      <td>-1.0</td>\n",
              "      <td>-0.317073</td>\n",
              "      <td>-0.317073</td>\n",
              "      <td>-0.317073</td>\n",
              "      <td>-0.317073</td>\n",
              "      <td>-1.0</td>\n",
              "      <td>-0.317073</td>\n",
              "      <td>-0.317073</td>\n",
              "      <td>-0.317073</td>\n",
              "      <td>-0.317073</td>\n",
              "      <td>-1.0</td>\n",
              "      <td>-0.938950</td>\n",
              "      <td>-0.938950</td>\n",
              "      <td>...</td>\n",
              "      <td>-0.994912</td>\n",
              "      <td>-1.0</td>\n",
              "      <td>0.086420</td>\n",
              "      <td>-0.230769</td>\n",
              "      <td>-0.283019</td>\n",
              "      <td>-0.593220</td>\n",
              "      <td>-0.285714</td>\n",
              "      <td>0.736842</td>\n",
              "      <td>0.086420</td>\n",
              "      <td>-0.230769</td>\n",
              "      <td>-0.283019</td>\n",
              "      <td>-0.586207</td>\n",
              "      <td>-0.285714</td>\n",
              "      <td>0.736842</td>\n",
              "      <td>0.237113</td>\n",
              "      <td>0.0000</td>\n",
              "      <td>-0.162393</td>\n",
              "      <td>-0.500000</td>\n",
              "      <td>0.208791</td>\n",
              "      <td>0.898990</td>\n",
              "      <td>-0.247863</td>\n",
              "      <td>-0.459459</td>\n",
              "      <td>-0.432836</td>\n",
              "      <td>-0.636364</td>\n",
              "      <td>-0.420290</td>\n",
              "      <td>0.736842</td>\n",
              "      <td>-1.000000</td>\n",
              "      <td>-1.000000</td>\n",
              "      <td>-1.000000</td>\n",
              "      <td>-1.000000</td>\n",
              "      <td>-1.000000</td>\n",
              "      <td>-1.000000</td>\n",
              "      <td>-1.000000</td>\n",
              "      <td>-1.000000</td>\n",
              "      <td>-1.000000</td>\n",
              "      <td>-1.000000</td>\n",
              "      <td>-1.000000</td>\n",
              "      <td>-1.000000</td>\n",
              "      <td>0-2</td>\n",
              "      <td>1</td>\n",
              "    </tr>\n",
              "    <tr>\n",
              "      <th>2</th>\n",
              "      <th>10</th>\n",
              "      <td>2</td>\n",
              "      <td>0</td>\n",
              "      <td>0</td>\n",
              "      <td>0</td>\n",
              "      <td>0.0</td>\n",
              "      <td>0.0</td>\n",
              "      <td>0.0</td>\n",
              "      <td>0.0</td>\n",
              "      <td>0.0</td>\n",
              "      <td>0.0</td>\n",
              "      <td>0.0</td>\n",
              "      <td>0.0</td>\n",
              "      <td>1.0</td>\n",
              "      <td>0.605263</td>\n",
              "      <td>0.605263</td>\n",
              "      <td>0.605263</td>\n",
              "      <td>0.605263</td>\n",
              "      <td>-1.0</td>\n",
              "      <td>-1.0</td>\n",
              "      <td>-1.0</td>\n",
              "      <td>-1.0</td>\n",
              "      <td>-1.0</td>\n",
              "      <td>-1.0</td>\n",
              "      <td>-1.0</td>\n",
              "      <td>-1.0</td>\n",
              "      <td>-1.0</td>\n",
              "      <td>-1.0</td>\n",
              "      <td>-1.0</td>\n",
              "      <td>-0.317073</td>\n",
              "      <td>-0.317073</td>\n",
              "      <td>-0.317073</td>\n",
              "      <td>-0.317073</td>\n",
              "      <td>-1.0</td>\n",
              "      <td>-0.317073</td>\n",
              "      <td>-0.317073</td>\n",
              "      <td>-0.317073</td>\n",
              "      <td>-0.317073</td>\n",
              "      <td>-1.0</td>\n",
              "      <td>-0.938950</td>\n",
              "      <td>-0.938950</td>\n",
              "      <td>...</td>\n",
              "      <td>-0.978029</td>\n",
              "      <td>-1.0</td>\n",
              "      <td>-0.489712</td>\n",
              "      <td>-0.685470</td>\n",
              "      <td>-0.048218</td>\n",
              "      <td>-0.645951</td>\n",
              "      <td>0.357143</td>\n",
              "      <td>0.935673</td>\n",
              "      <td>-0.506173</td>\n",
              "      <td>-0.815385</td>\n",
              "      <td>-0.056604</td>\n",
              "      <td>-0.517241</td>\n",
              "      <td>0.357143</td>\n",
              "      <td>0.947368</td>\n",
              "      <td>-0.525773</td>\n",
              "      <td>-0.5125</td>\n",
              "      <td>-0.111111</td>\n",
              "      <td>-0.714286</td>\n",
              "      <td>0.604396</td>\n",
              "      <td>0.959596</td>\n",
              "      <td>-0.435897</td>\n",
              "      <td>-0.491892</td>\n",
              "      <td>0.000000</td>\n",
              "      <td>-0.575758</td>\n",
              "      <td>0.101449</td>\n",
              "      <td>1.000000</td>\n",
              "      <td>-0.547826</td>\n",
              "      <td>-0.533742</td>\n",
              "      <td>-0.603053</td>\n",
              "      <td>-0.764706</td>\n",
              "      <td>-1.000000</td>\n",
              "      <td>-0.959596</td>\n",
              "      <td>-0.515528</td>\n",
              "      <td>-0.351328</td>\n",
              "      <td>-0.747001</td>\n",
              "      <td>-0.756272</td>\n",
              "      <td>-1.000000</td>\n",
              "      <td>-0.961262</td>\n",
              "      <td>0-2</td>\n",
              "      <td>1</td>\n",
              "    </tr>\n",
              "    <tr>\n",
              "      <th>3</th>\n",
              "      <th>15</th>\n",
              "      <td>3</td>\n",
              "      <td>0</td>\n",
              "      <td>3</td>\n",
              "      <td>1</td>\n",
              "      <td>0.0</td>\n",
              "      <td>0.0</td>\n",
              "      <td>0.0</td>\n",
              "      <td>0.0</td>\n",
              "      <td>0.0</td>\n",
              "      <td>0.0</td>\n",
              "      <td>0.0</td>\n",
              "      <td>1.0</td>\n",
              "      <td>1.0</td>\n",
              "      <td>-0.263158</td>\n",
              "      <td>-0.263158</td>\n",
              "      <td>-0.263158</td>\n",
              "      <td>-0.263158</td>\n",
              "      <td>-1.0</td>\n",
              "      <td>-1.0</td>\n",
              "      <td>-1.0</td>\n",
              "      <td>-1.0</td>\n",
              "      <td>-1.0</td>\n",
              "      <td>-1.0</td>\n",
              "      <td>-1.0</td>\n",
              "      <td>-1.0</td>\n",
              "      <td>-1.0</td>\n",
              "      <td>-1.0</td>\n",
              "      <td>-1.0</td>\n",
              "      <td>-0.317073</td>\n",
              "      <td>-0.317073</td>\n",
              "      <td>-0.317073</td>\n",
              "      <td>-0.317073</td>\n",
              "      <td>-1.0</td>\n",
              "      <td>-0.317073</td>\n",
              "      <td>-0.317073</td>\n",
              "      <td>-0.317073</td>\n",
              "      <td>-0.317073</td>\n",
              "      <td>-1.0</td>\n",
              "      <td>-0.972789</td>\n",
              "      <td>-0.972789</td>\n",
              "      <td>...</td>\n",
              "      <td>-0.978029</td>\n",
              "      <td>-1.0</td>\n",
              "      <td>0.012346</td>\n",
              "      <td>-0.369231</td>\n",
              "      <td>-0.528302</td>\n",
              "      <td>-0.457627</td>\n",
              "      <td>-0.285714</td>\n",
              "      <td>0.684211</td>\n",
              "      <td>0.012346</td>\n",
              "      <td>-0.369231</td>\n",
              "      <td>-0.528302</td>\n",
              "      <td>-0.448276</td>\n",
              "      <td>-0.285714</td>\n",
              "      <td>0.684211</td>\n",
              "      <td>0.175258</td>\n",
              "      <td>-0.1125</td>\n",
              "      <td>-0.384615</td>\n",
              "      <td>-0.357143</td>\n",
              "      <td>0.208791</td>\n",
              "      <td>0.878788</td>\n",
              "      <td>-0.299145</td>\n",
              "      <td>-0.556757</td>\n",
              "      <td>-0.626866</td>\n",
              "      <td>-0.515152</td>\n",
              "      <td>-0.420290</td>\n",
              "      <td>0.684211</td>\n",
              "      <td>-1.000000</td>\n",
              "      <td>-1.000000</td>\n",
              "      <td>-1.000000</td>\n",
              "      <td>-1.000000</td>\n",
              "      <td>-1.000000</td>\n",
              "      <td>-1.000000</td>\n",
              "      <td>-1.000000</td>\n",
              "      <td>-1.000000</td>\n",
              "      <td>-1.000000</td>\n",
              "      <td>-1.000000</td>\n",
              "      <td>-1.000000</td>\n",
              "      <td>-1.000000</td>\n",
              "      <td>0-2</td>\n",
              "      <td>0</td>\n",
              "    </tr>\n",
              "    <tr>\n",
              "      <th>4</th>\n",
              "      <th>20</th>\n",
              "      <td>4</td>\n",
              "      <td>0</td>\n",
              "      <td>0</td>\n",
              "      <td>0</td>\n",
              "      <td>0.0</td>\n",
              "      <td>0.0</td>\n",
              "      <td>0.0</td>\n",
              "      <td>0.0</td>\n",
              "      <td>0.0</td>\n",
              "      <td>0.0</td>\n",
              "      <td>0.0</td>\n",
              "      <td>0.0</td>\n",
              "      <td>1.0</td>\n",
              "      <td>0.605263</td>\n",
              "      <td>0.605263</td>\n",
              "      <td>0.605263</td>\n",
              "      <td>0.605263</td>\n",
              "      <td>-1.0</td>\n",
              "      <td>-1.0</td>\n",
              "      <td>-1.0</td>\n",
              "      <td>-1.0</td>\n",
              "      <td>-1.0</td>\n",
              "      <td>-1.0</td>\n",
              "      <td>-1.0</td>\n",
              "      <td>-1.0</td>\n",
              "      <td>-1.0</td>\n",
              "      <td>-1.0</td>\n",
              "      <td>-1.0</td>\n",
              "      <td>-0.317073</td>\n",
              "      <td>-0.317073</td>\n",
              "      <td>-0.317073</td>\n",
              "      <td>-0.317073</td>\n",
              "      <td>-1.0</td>\n",
              "      <td>-0.317073</td>\n",
              "      <td>-0.317073</td>\n",
              "      <td>-0.317073</td>\n",
              "      <td>-0.317073</td>\n",
              "      <td>-1.0</td>\n",
              "      <td>-0.935113</td>\n",
              "      <td>-0.935113</td>\n",
              "      <td>...</td>\n",
              "      <td>-1.000000</td>\n",
              "      <td>-1.0</td>\n",
              "      <td>0.333333</td>\n",
              "      <td>-0.153846</td>\n",
              "      <td>0.160377</td>\n",
              "      <td>-0.593220</td>\n",
              "      <td>0.285714</td>\n",
              "      <td>0.868421</td>\n",
              "      <td>0.333333</td>\n",
              "      <td>-0.153846</td>\n",
              "      <td>0.160377</td>\n",
              "      <td>-0.586207</td>\n",
              "      <td>0.285714</td>\n",
              "      <td>0.868421</td>\n",
              "      <td>0.443299</td>\n",
              "      <td>0.0000</td>\n",
              "      <td>0.196581</td>\n",
              "      <td>-0.571429</td>\n",
              "      <td>0.538462</td>\n",
              "      <td>0.939394</td>\n",
              "      <td>-0.076923</td>\n",
              "      <td>-0.351351</td>\n",
              "      <td>-0.044776</td>\n",
              "      <td>-0.575758</td>\n",
              "      <td>0.072464</td>\n",
              "      <td>0.894737</td>\n",
              "      <td>-1.000000</td>\n",
              "      <td>-0.877301</td>\n",
              "      <td>-0.923664</td>\n",
              "      <td>-0.882353</td>\n",
              "      <td>-0.952381</td>\n",
              "      <td>-0.979798</td>\n",
              "      <td>-1.000000</td>\n",
              "      <td>-0.883669</td>\n",
              "      <td>-0.956805</td>\n",
              "      <td>-0.870968</td>\n",
              "      <td>-0.953536</td>\n",
              "      <td>-0.980333</td>\n",
              "      <td>0-2</td>\n",
              "      <td>0</td>\n",
              "    </tr>\n",
              "    <tr>\n",
              "      <th>5</th>\n",
              "      <th>25</th>\n",
              "      <td>5</td>\n",
              "      <td>0</td>\n",
              "      <td>0</td>\n",
              "      <td>0</td>\n",
              "      <td>0.0</td>\n",
              "      <td>0.0</td>\n",
              "      <td>0.0</td>\n",
              "      <td>0.0</td>\n",
              "      <td>0.0</td>\n",
              "      <td>0.0</td>\n",
              "      <td>0.0</td>\n",
              "      <td>0.0</td>\n",
              "      <td>1.0</td>\n",
              "      <td>0.605263</td>\n",
              "      <td>0.605263</td>\n",
              "      <td>0.605263</td>\n",
              "      <td>0.605263</td>\n",
              "      <td>-1.0</td>\n",
              "      <td>-1.0</td>\n",
              "      <td>-1.0</td>\n",
              "      <td>-1.0</td>\n",
              "      <td>-1.0</td>\n",
              "      <td>-1.0</td>\n",
              "      <td>-1.0</td>\n",
              "      <td>-1.0</td>\n",
              "      <td>-1.0</td>\n",
              "      <td>-1.0</td>\n",
              "      <td>-1.0</td>\n",
              "      <td>-0.317073</td>\n",
              "      <td>-0.317073</td>\n",
              "      <td>-0.317073</td>\n",
              "      <td>-0.317073</td>\n",
              "      <td>-1.0</td>\n",
              "      <td>-0.317073</td>\n",
              "      <td>-0.317073</td>\n",
              "      <td>-0.317073</td>\n",
              "      <td>-0.317073</td>\n",
              "      <td>-1.0</td>\n",
              "      <td>-0.938950</td>\n",
              "      <td>-0.938950</td>\n",
              "      <td>...</td>\n",
              "      <td>-1.000000</td>\n",
              "      <td>-1.0</td>\n",
              "      <td>-0.037037</td>\n",
              "      <td>-0.538462</td>\n",
              "      <td>-0.537736</td>\n",
              "      <td>-0.525424</td>\n",
              "      <td>-0.196429</td>\n",
              "      <td>0.815789</td>\n",
              "      <td>-0.037037</td>\n",
              "      <td>-0.538462</td>\n",
              "      <td>-0.537736</td>\n",
              "      <td>-0.517241</td>\n",
              "      <td>-0.196429</td>\n",
              "      <td>0.815789</td>\n",
              "      <td>0.030928</td>\n",
              "      <td>-0.3750</td>\n",
              "      <td>-0.401709</td>\n",
              "      <td>-0.428571</td>\n",
              "      <td>0.252747</td>\n",
              "      <td>0.919192</td>\n",
              "      <td>-0.247863</td>\n",
              "      <td>-0.567568</td>\n",
              "      <td>-0.626866</td>\n",
              "      <td>-0.575758</td>\n",
              "      <td>-0.333333</td>\n",
              "      <td>0.842105</td>\n",
              "      <td>-0.826087</td>\n",
              "      <td>-0.754601</td>\n",
              "      <td>-0.984733</td>\n",
              "      <td>-1.000000</td>\n",
              "      <td>-0.976190</td>\n",
              "      <td>-0.979798</td>\n",
              "      <td>-0.860870</td>\n",
              "      <td>-0.714460</td>\n",
              "      <td>-0.986481</td>\n",
              "      <td>-1.000000</td>\n",
              "      <td>-0.975891</td>\n",
              "      <td>-0.980129</td>\n",
              "      <td>0-2</td>\n",
              "      <td>0</td>\n",
              "    </tr>\n",
              "  </tbody>\n",
              "</table>\n",
              "<p>5 rows × 231 columns</p>\n",
              "</div>"
            ],
            "text/plain": [
              "                             PATIENT_VISIT_IDENTIFIER  AGE_ABOVE65  ...  WINDOW  ICU\n",
              "PATIENT_VISIT_IDENTIFIER                                            ...             \n",
              "0                        0                          0            1  ...     0-2    1\n",
              "2                        10                         2            0  ...     0-2    1\n",
              "3                        15                         3            0  ...     0-2    0\n",
              "4                        20                         4            0  ...     0-2    0\n",
              "5                        25                         5            0  ...     0-2    0\n",
              "\n",
              "[5 rows x 231 columns]"
            ]
          },
          "metadata": {
            "tags": []
          },
          "execution_count": 5
        }
      ]
    },
    {
      "cell_type": "markdown",
      "metadata": {
        "id": "9E3JyoN4at6k"
      },
      "source": [
        "Iniciamos a importação e treinamento de dados, dropando do  modelo as colunas ICU e WINDOW"
      ]
    },
    {
      "cell_type": "code",
      "metadata": {
        "colab": {
          "base_uri": "https://localhost:8080/"
        },
        "id": "rZYsOunMTRE3",
        "outputId": "abd3bda6-4cf4-4869-b7f5-664472d5d610"
      },
      "source": [
        "from sklearn.model_selection import train_test_split\r\n",
        "from sklearn.linear_model import LogisticRegression\r\n",
        "from sklearn.dummy import DummyClassifier\r\n",
        "from sklearn.metrics import accuracy_score\r\n",
        "\r\n",
        "np.random.seed(73246)\r\n",
        "\r\n",
        "\r\n",
        "x_columns = dados.columns\r\n",
        "y = dados_limpos[\"ICU\"]\r\n",
        "x = dados_limpos[x_columns].drop([\"ICU\",\"WINDOW\"], axis=1)\r\n",
        "x_train, x_test, y_train, y_test = train_test_split(x, y, stratify=y)\r\n",
        "modelo = DummyClassifier()\r\n",
        "modelo.fit(x_train, y_train)\r\n",
        "\r\n",
        "y_prediction = modelo.predict(x_test)\r\n",
        "accuracy_score(y_test, y_prediction)"
      ],
      "execution_count": 6,
      "outputs": [
        {
          "output_type": "stream",
          "text": [
            "/usr/local/lib/python3.6/dist-packages/sklearn/dummy.py:132: FutureWarning: The default value of strategy will change from stratified to prior in 0.24.\n",
            "  \"stratified to prior in 0.24.\", FutureWarning)\n"
          ],
          "name": "stderr"
        },
        {
          "output_type": "execute_result",
          "data": {
            "text/plain": [
              "0.48863636363636365"
            ]
          },
          "metadata": {
            "tags": []
          },
          "execution_count": 6
        }
      ]
    },
    {
      "cell_type": "markdown",
      "metadata": {
        "id": "EDIj04Fua3JC"
      },
      "source": [
        "A acurácia deste primeiro treinamento"
      ]
    },
    {
      "cell_type": "code",
      "metadata": {
        "colab": {
          "base_uri": "https://localhost:8080/"
        },
        "id": "-dEoKnn1UoH3",
        "outputId": "4ff29f9a-c354-4896-fa30-1631d9b61a7a"
      },
      "source": [
        "modelo = LogisticRegression(max_iter=10000)\r\n",
        "modelo.fit(x_train, y_train)\r\n",
        "\r\n",
        "y_prediction = modelo.predict(x_test)\r\n",
        "acuracia_logistico =accuracy_score(y_test, y_prediction)\r\n",
        "\r\n",
        "print(f\"MODELO LOGISTIC CLASSIFIER - ACCURACY {(acuracia_logistico*100 ):.2f} % \")"
      ],
      "execution_count": 7,
      "outputs": [
        {
          "output_type": "stream",
          "text": [
            "MODELO LOGISTIC CLASSIFIER - ACCURACY 68.18 % \n"
          ],
          "name": "stdout"
        }
      ]
    },
    {
      "cell_type": "markdown",
      "metadata": {
        "id": "AoJ-1lIja7vi"
      },
      "source": [
        "Colunas que possuem valores do tipo STRING. Precisarão ser transformados pra float de algum modo"
      ]
    },
    {
      "cell_type": "code",
      "metadata": {
        "colab": {
          "base_uri": "https://localhost:8080/"
        },
        "id": "HtINsGoSUoKQ",
        "outputId": "07981b3a-0022-44f1-804d-02c264e65841"
      },
      "source": [
        "dados_describe_columns = dados.describe().columns\r\n",
        "\r\n",
        "for coluna in dados.columns:\r\n",
        "    if coluna not in dados_describe_columns:\r\n",
        "        print(coluna)"
      ],
      "execution_count": 8,
      "outputs": [
        {
          "output_type": "stream",
          "text": [
            "AGE_PERCENTIL\n",
            "WINDOW\n"
          ],
          "name": "stdout"
        }
      ]
    },
    {
      "cell_type": "markdown",
      "metadata": {
        "id": "vlJ652PjbRaC"
      },
      "source": [
        "### 📒 Desafio 01 :Transformar a coluna AGE_PERCENTIL em dados categóricos, mas utilizando outro método"
      ]
    },
    {
      "cell_type": "markdown",
      "metadata": {
        "id": "kVcCuTvnbWyL"
      },
      "source": [
        "Uma outra forma de transformar nossos dados para categóricos é usando o **pd.get_dummies()**. Cada valor de uma coluna se transformará em uma coluna onde teremos valores :\r\n",
        "* 0 - aquela linha não possui este valor\r\n",
        "* 1 - aquela linha possui este valor"
      ]
    },
    {
      "cell_type": "code",
      "metadata": {
        "colab": {
          "base_uri": "https://localhost:8080/",
          "height": 173
        },
        "id": "mRrhhAqVdnH5",
        "outputId": "cb8ad86f-ae50-4acd-bf01-9d8171d3e4ee"
      },
      "source": [
        "exemplo = pd.DataFrame({\"mes\":['jan','Fev','Jan','Mar'],\"valor\":[1000,5000,2000,6000]})\r\n",
        "exemplo"
      ],
      "execution_count": 9,
      "outputs": [
        {
          "output_type": "execute_result",
          "data": {
            "text/html": [
              "<div>\n",
              "<style scoped>\n",
              "    .dataframe tbody tr th:only-of-type {\n",
              "        vertical-align: middle;\n",
              "    }\n",
              "\n",
              "    .dataframe tbody tr th {\n",
              "        vertical-align: top;\n",
              "    }\n",
              "\n",
              "    .dataframe thead th {\n",
              "        text-align: right;\n",
              "    }\n",
              "</style>\n",
              "<table border=\"1\" class=\"dataframe\">\n",
              "  <thead>\n",
              "    <tr style=\"text-align: right;\">\n",
              "      <th></th>\n",
              "      <th>mes</th>\n",
              "      <th>valor</th>\n",
              "    </tr>\n",
              "  </thead>\n",
              "  <tbody>\n",
              "    <tr>\n",
              "      <th>0</th>\n",
              "      <td>jan</td>\n",
              "      <td>1000</td>\n",
              "    </tr>\n",
              "    <tr>\n",
              "      <th>1</th>\n",
              "      <td>Fev</td>\n",
              "      <td>5000</td>\n",
              "    </tr>\n",
              "    <tr>\n",
              "      <th>2</th>\n",
              "      <td>Jan</td>\n",
              "      <td>2000</td>\n",
              "    </tr>\n",
              "    <tr>\n",
              "      <th>3</th>\n",
              "      <td>Mar</td>\n",
              "      <td>6000</td>\n",
              "    </tr>\n",
              "  </tbody>\n",
              "</table>\n",
              "</div>"
            ],
            "text/plain": [
              "   mes  valor\n",
              "0  jan   1000\n",
              "1  Fev   5000\n",
              "2  Jan   2000\n",
              "3  Mar   6000"
            ]
          },
          "metadata": {
            "tags": []
          },
          "execution_count": 9
        }
      ]
    },
    {
      "cell_type": "markdown",
      "metadata": {
        "id": "zIrcCkmbd--Z"
      },
      "source": [
        "Ficando assim:"
      ]
    },
    {
      "cell_type": "code",
      "metadata": {
        "colab": {
          "base_uri": "https://localhost:8080/",
          "height": 173
        },
        "id": "5FGnT5GDd4uh",
        "outputId": "8f0009de-28ac-4a17-ad9d-7236c4a91a25"
      },
      "source": [
        "pd.get_dummies(exemplo)"
      ],
      "execution_count": 10,
      "outputs": [
        {
          "output_type": "execute_result",
          "data": {
            "text/html": [
              "<div>\n",
              "<style scoped>\n",
              "    .dataframe tbody tr th:only-of-type {\n",
              "        vertical-align: middle;\n",
              "    }\n",
              "\n",
              "    .dataframe tbody tr th {\n",
              "        vertical-align: top;\n",
              "    }\n",
              "\n",
              "    .dataframe thead th {\n",
              "        text-align: right;\n",
              "    }\n",
              "</style>\n",
              "<table border=\"1\" class=\"dataframe\">\n",
              "  <thead>\n",
              "    <tr style=\"text-align: right;\">\n",
              "      <th></th>\n",
              "      <th>valor</th>\n",
              "      <th>mes_Fev</th>\n",
              "      <th>mes_Jan</th>\n",
              "      <th>mes_Mar</th>\n",
              "      <th>mes_jan</th>\n",
              "    </tr>\n",
              "  </thead>\n",
              "  <tbody>\n",
              "    <tr>\n",
              "      <th>0</th>\n",
              "      <td>1000</td>\n",
              "      <td>0</td>\n",
              "      <td>0</td>\n",
              "      <td>0</td>\n",
              "      <td>1</td>\n",
              "    </tr>\n",
              "    <tr>\n",
              "      <th>1</th>\n",
              "      <td>5000</td>\n",
              "      <td>1</td>\n",
              "      <td>0</td>\n",
              "      <td>0</td>\n",
              "      <td>0</td>\n",
              "    </tr>\n",
              "    <tr>\n",
              "      <th>2</th>\n",
              "      <td>2000</td>\n",
              "      <td>0</td>\n",
              "      <td>1</td>\n",
              "      <td>0</td>\n",
              "      <td>0</td>\n",
              "    </tr>\n",
              "    <tr>\n",
              "      <th>3</th>\n",
              "      <td>6000</td>\n",
              "      <td>0</td>\n",
              "      <td>0</td>\n",
              "      <td>1</td>\n",
              "      <td>0</td>\n",
              "    </tr>\n",
              "  </tbody>\n",
              "</table>\n",
              "</div>"
            ],
            "text/plain": [
              "   valor  mes_Fev  mes_Jan  mes_Mar  mes_jan\n",
              "0   1000        0        0        0        1\n",
              "1   5000        1        0        0        0\n",
              "2   2000        0        1        0        0\n",
              "3   6000        0        0        1        0"
            ]
          },
          "metadata": {
            "tags": []
          },
          "execution_count": 10
        }
      ]
    },
    {
      "cell_type": "markdown",
      "metadata": {
        "id": "b85AA9ZtdDwz"
      },
      "source": [
        "Uma outra forma é usar a Biblioteca Sklearn. Importando preprocessing e dele a classe LabelEncoder, você primeiramente instancia e aplica fit_transform nos dados que deseja categorizar."
      ]
    },
    {
      "cell_type": "code",
      "metadata": {
        "colab": {
          "base_uri": "https://localhost:8080/",
          "height": 173
        },
        "id": "ZUMOyElTdKZ6",
        "outputId": "074bc8a7-73c5-4d01-a161-a2051d3ab32a"
      },
      "source": [
        "from sklearn.preprocessing import LabelEncoder\r\n",
        "label_encoder = LabelEncoder()\r\n",
        "x_teste_exemplo = exemplo.mes\r\n",
        "y_teste_exemplo = label_encoder.fit_transform(x_teste_exemplo)\r\n",
        "exemplo.mes = y_teste_exemplo\r\n",
        "exemplo"
      ],
      "execution_count": 11,
      "outputs": [
        {
          "output_type": "execute_result",
          "data": {
            "text/html": [
              "<div>\n",
              "<style scoped>\n",
              "    .dataframe tbody tr th:only-of-type {\n",
              "        vertical-align: middle;\n",
              "    }\n",
              "\n",
              "    .dataframe tbody tr th {\n",
              "        vertical-align: top;\n",
              "    }\n",
              "\n",
              "    .dataframe thead th {\n",
              "        text-align: right;\n",
              "    }\n",
              "</style>\n",
              "<table border=\"1\" class=\"dataframe\">\n",
              "  <thead>\n",
              "    <tr style=\"text-align: right;\">\n",
              "      <th></th>\n",
              "      <th>mes</th>\n",
              "      <th>valor</th>\n",
              "    </tr>\n",
              "  </thead>\n",
              "  <tbody>\n",
              "    <tr>\n",
              "      <th>0</th>\n",
              "      <td>3</td>\n",
              "      <td>1000</td>\n",
              "    </tr>\n",
              "    <tr>\n",
              "      <th>1</th>\n",
              "      <td>0</td>\n",
              "      <td>5000</td>\n",
              "    </tr>\n",
              "    <tr>\n",
              "      <th>2</th>\n",
              "      <td>1</td>\n",
              "      <td>2000</td>\n",
              "    </tr>\n",
              "    <tr>\n",
              "      <th>3</th>\n",
              "      <td>2</td>\n",
              "      <td>6000</td>\n",
              "    </tr>\n",
              "  </tbody>\n",
              "</table>\n",
              "</div>"
            ],
            "text/plain": [
              "   mes  valor\n",
              "0    3   1000\n",
              "1    0   5000\n",
              "2    1   2000\n",
              "3    2   6000"
            ]
          },
          "metadata": {
            "tags": []
          },
          "execution_count": 11
        }
      ]
    },
    {
      "cell_type": "markdown",
      "metadata": {
        "id": "X4aNew3BeduJ"
      },
      "source": [
        "#AULA 2 : MÉTRICAS DE AVALIAÇÃO\r\n",
        "---"
      ]
    },
    {
      "cell_type": "markdown",
      "metadata": {
        "id": "_ALHUvbRqX5b"
      },
      "source": [
        "##Matriz de confusão"
      ]
    },
    {
      "cell_type": "markdown",
      "metadata": {
        "id": "I2leuGnSsU7A"
      },
      "source": [
        "vamos usar outro modelo para predição. Até agora, usamos  o **LOGISTIC REGRESSION**, agora vamos usar o **DECISION TREE CLASSIFIER**"
      ]
    },
    {
      "cell_type": "code",
      "metadata": {
        "id": "VJoC-T6XdLAC",
        "colab": {
          "base_uri": "https://localhost:8080/"
        },
        "outputId": "51f16a36-88b0-487b-c586-2e2e56526ad9"
      },
      "source": [
        "from sklearn.tree import DecisionTreeClassifier\r\n",
        "\r\n",
        "modelo_arvore = DecisionTreeClassifier()                           #instancio o modelo de ML\r\n",
        "modelo_arvore.fit(x_train,y_train)                                 # Treino os dados que temos com os resultados de treino\r\n",
        "predicao_arvore = modelo_arvore.predict(x_test)                    #tento predizer com os nossos dados de teste\r\n",
        "acuracia_arvore = accuracy_score(y_test,predicao_arvore)           #Avalio a acurácia dos valores de teste reais com os da minha predição\r\n",
        "\r\n",
        "print(f\"MODELO DECISION TREE CLASSIFIER - ACCURACY {(acuracia_arvore*100 ):.2f} % \")"
      ],
      "execution_count": 12,
      "outputs": [
        {
          "output_type": "stream",
          "text": [
            "MODELO DECISION TREE CLASSIFIER - ACCURACY 65.91 % \n"
          ],
          "name": "stdout"
        }
      ]
    },
    {
      "cell_type": "markdown",
      "metadata": {
        "id": "vtJNjZuou8EJ"
      },
      "source": [
        "Aparentemente, o modelo de Logistic está sendo melhor. Mas só temos uma métrica pra decidir isso, que é a acurácia. Não sabemos como os modelos estão tratando a questão dos valores precisamente. Não temos como avaliar propriamente as coisas apenas por essa métrica. Talvez, com uma matriz de confusão, podemos compreender melhor.\r\n",
        ">Em análise preditiva, a matriz de confusão (às vezes também chamada de 'matriz de erro' ou 'tabela de confusão' ) é uma tabela com duas linhas e duas colunas que relata o número de falsos positivos , falsos negativos , verdadeiros positivos e verdadeiros negativos . Isso permite uma análise mais detalhada do que a mera proporção de classificações corretas (precisão). A precisão produzirá resultados enganosos se o conjunto de dados estiver desequilibrado; isto é, quando o número de observações em diferentes classes variam muito. "
      ]
    },
    {
      "cell_type": "code",
      "metadata": {
        "colab": {
          "base_uri": "https://localhost:8080/",
          "height": 302
        },
        "id": "WM0fofT0tQTV",
        "outputId": "1d46a430-5efd-4b18-fd42-596efa4cf4ab"
      },
      "source": [
        "from sklearn.metrics import plot_confusion_matrix\r\n",
        "\r\n",
        "plot_confusion_matrix(modelo_arvore,x_test,y_test)"
      ],
      "execution_count": 13,
      "outputs": [
        {
          "output_type": "execute_result",
          "data": {
            "text/plain": [
              "<sklearn.metrics._plot.confusion_matrix.ConfusionMatrixDisplay at 0x7fd5d6653d68>"
            ]
          },
          "metadata": {
            "tags": []
          },
          "execution_count": 13
        },
        {
          "output_type": "display_data",
          "data": {
            "image/png": "[encoded data removed]",
            "text/plain": [
              "<Figure size 432x288 with 2 Axes>"
            ]
          },
          "metadata": {
            "tags": [],
            "needs_background": "light"
          }
        }
      ]
    },
    {
      "cell_type": "markdown",
      "metadata": {
        "id": "oUCCKeXbxMDI"
      },
      "source": [
        "* VERDADEIRO POSITIVO (a pessoa precisa de UTI e o modelo acertou) **(VP)** = 24<br>\r\n",
        "* VERDADEIRO NEGATIVO (Acerto quando a pessoa não precisa de UTI)**(VN)** = 34<br> \r\n",
        "* FALSO POSITIVO (Quando minha label é zero mas meu modelo diz que é 1) **(FP)** = 13<br>\r\n",
        "* FALSO NEGATIVO (Quando minha label é um mas meu modelo diz que é 0) **(FN)** = 17"
      ]
    },
    {
      "cell_type": "markdown",
      "metadata": {
        "id": "BaDWZwKEzDGJ"
      },
      "source": [
        "A partir disso, podemos utilizar em várias métricas para nos aprofundarmos mais e buscar uma precisão melhor e uma avaliação melhor como faremos agora."
      ]
    },
    {
      "cell_type": "markdown",
      "metadata": {
        "id": "8iCTs_oB_YID"
      },
      "source": [
        "<img src=\"https://miro.medium.com/max/550/1*t1vf-ofJrJqtmam0KSn3EQ.png\">"
      ]
    },
    {
      "cell_type": "markdown",
      "metadata": {
        "id": "r6P1mByzGeJf"
      },
      "source": [
        "[link para leitura](https://medium.com/@vitorborbarodrigues/m%C3%A9tricas-de-avalia%C3%A7%C3%A3o-acur%C3%A1cia-precis%C3%A3o-recall-quais-as-diferen%C3%A7as-c8f05e0a513c#:~:text=O%20recall%20pode%20ser%20usada,prejudiciais%20que%20os%20Falsos%20Positivos.&text=O%20F1%2DScore%20%C3%A9%20simplesmente,e%20recall%20em%20alguma%20situa%C3%A7%C3%A3o.) Sobre Métricas de Avaliação e qual é a melhor para diferentes casos."
      ]
    },
    {
      "cell_type": "markdown",
      "metadata": {
        "id": "7H7UHAcG_2jF"
      },
      "source": [
        "fazendo as contas na mao, temos:"
      ]
    },
    {
      "cell_type": "code",
      "metadata": {
        "id": "6gFLbq60_9SN"
      },
      "source": [
        "vp = 24\r\n",
        "vn = 34\r\n",
        "fp = 13\r\n",
        "fn = 17"
      ],
      "execution_count": 14,
      "outputs": []
    },
    {
      "cell_type": "code",
      "metadata": {
        "colab": {
          "base_uri": "https://localhost:8080/"
        },
        "id": "Fp0jQIdZ_2He",
        "outputId": "bd609b77-9ccf-4f32-947c-de292593198f"
      },
      "source": [
        "ACURACIA = ( vp + vn )/ (vp + fp + vn + fn)\r\n",
        "PRECISAO = vp / (vp + fp)\r\n",
        "RECALL = vp /(vp + fn)\r\n",
        "F1_SCORE = (2 *(PRECISAO * RECALL))/ (PRECISAO + RECALL)\r\n",
        "\r\n",
        "\r\n",
        "print(f\"Acuracia:{ACURACIA*100}\\tPrecisao: {PRECISAO*100}\\n\\\r\n",
        "Recall:{RECALL*100}\\tF1 Score: {F1_SCORE*100}\")"
      ],
      "execution_count": 15,
      "outputs": [
        {
          "output_type": "stream",
          "text": [
            "Acuracia:65.9090909090909\tPrecisao: 64.86486486486487\n",
            "Recall:58.536585365853654\tF1 Score: 61.53846153846153\n"
          ],
          "name": "stdout"
        }
      ]
    },
    {
      "cell_type": "markdown",
      "metadata": {
        "id": "sGKmCmb2C1im"
      },
      "source": [
        "Usando o Sklearn, temos:"
      ]
    },
    {
      "cell_type": "code",
      "metadata": {
        "colab": {
          "base_uri": "https://localhost:8080/"
        },
        "id": "zvyiHFb3vbHO",
        "outputId": "6ec099a5-ddc8-427c-be52-c49555c7fd32"
      },
      "source": [
        "from sklearn.metrics import classification_report\r\n",
        "\r\n",
        "print(classification_report(y_test,predicao_arvore)) #TREE"
      ],
      "execution_count": 16,
      "outputs": [
        {
          "output_type": "stream",
          "text": [
            "              precision    recall  f1-score   support\n",
            "\n",
            "           0       0.67      0.72      0.69        47\n",
            "           1       0.65      0.59      0.62        41\n",
            "\n",
            "    accuracy                           0.66        88\n",
            "   macro avg       0.66      0.65      0.65        88\n",
            "weighted avg       0.66      0.66      0.66        88\n",
            "\n"
          ],
          "name": "stdout"
        }
      ]
    },
    {
      "cell_type": "code",
      "metadata": {
        "colab": {
          "base_uri": "https://localhost:8080/"
        },
        "id": "T0266_F-FvWK",
        "outputId": "b8db402b-59e4-40d4-e32d-3195f15ef5bb"
      },
      "source": [
        "print(classification_report(y_test,y_prediction)) #LOGISTIC"
      ],
      "execution_count": 17,
      "outputs": [
        {
          "output_type": "stream",
          "text": [
            "              precision    recall  f1-score   support\n",
            "\n",
            "           0       0.69      0.74      0.71        47\n",
            "           1       0.68      0.61      0.64        41\n",
            "\n",
            "    accuracy                           0.68        88\n",
            "   macro avg       0.68      0.68      0.68        88\n",
            "weighted avg       0.68      0.68      0.68        88\n",
            "\n"
          ],
          "name": "stdout"
        }
      ]
    },
    {
      "cell_type": "markdown",
      "metadata": {
        "id": "z8kxRD-7GyKX"
      },
      "source": [
        "##Curvas ROC e AOC"
      ]
    },
    {
      "cell_type": "code",
      "metadata": {
        "colab": {
          "base_uri": "https://localhost:8080/"
        },
        "id": "9Qys36sHGby9",
        "outputId": "3a4427a9-dbff-4b79-9c50-e58d396cfc62"
      },
      "source": [
        "from sklearn.metrics import roc_auc_score\r\n",
        "\r\n",
        "proba_arvore = modelo_arvore.predict_proba(x_test)\r\n",
        "roc_auc_score(y_test,proba_arvore[:,1])"
      ],
      "execution_count": 18,
      "outputs": [
        {
          "output_type": "execute_result",
          "data": {
            "text/plain": [
              "0.6543850544888428"
            ]
          },
          "metadata": {
            "tags": []
          },
          "execution_count": 18
        }
      ]
    },
    {
      "cell_type": "markdown",
      "metadata": {
        "id": "8sXmH-K_VYtb"
      },
      "source": [
        "Vamos definir um modelo para separar os dados em treino e teste e o modelo usado."
      ]
    },
    {
      "cell_type": "code",
      "metadata": {
        "id": "kOpmKD5KJECa"
      },
      "source": [
        "def roda_modelo(modelo, dados):\r\n",
        "\r\n",
        "  x_columns = dados.columns\r\n",
        "  y = dados[\"ICU\"]\r\n",
        "  x = dados[x_columns].drop([\"ICU\",\"WINDOW\"], axis=1)\r\n",
        "\r\n",
        "  x_train, x_test, y_train, y_test = train_test_split(x, y, stratify=y)\r\n",
        "\r\n",
        "  \r\n",
        "  modelo.fit(x_train, y_train)\r\n",
        "\r\n",
        "  predicao = modelo.predict(x_test)\r\n",
        "  prob_predic = modelo.predict_proba(x_test)\r\n",
        "  \r\n",
        "  auc = roc_auc_score(y_test,prob_predic[:,1])\r\n",
        "  print(f\"AUC: {auc}\")\r\n",
        "  print(\"\\nClassification Report\")\r\n",
        "  print(classification_report(y_test,predicao))"
      ],
      "execution_count": 19,
      "outputs": []
    },
    {
      "cell_type": "code",
      "metadata": {
        "colab": {
          "base_uri": "https://localhost:8080/"
        },
        "id": "pIh56RBcWvgc",
        "outputId": "8fa9f532-63f7-44f6-e6f8-35d98e905294"
      },
      "source": [
        "roda_modelo(modelo_arvore,dados_limpos)"
      ],
      "execution_count": 20,
      "outputs": [
        {
          "output_type": "stream",
          "text": [
            "AUC: 0.6193565127140633\n",
            "\n",
            "Classification Report\n",
            "              precision    recall  f1-score   support\n",
            "\n",
            "           0       0.63      0.70      0.67        47\n",
            "           1       0.61      0.54      0.57        41\n",
            "\n",
            "    accuracy                           0.62        88\n",
            "   macro avg       0.62      0.62      0.62        88\n",
            "weighted avg       0.62      0.62      0.62        88\n",
            "\n"
          ],
          "name": "stdout"
        }
      ]
    },
    {
      "cell_type": "code",
      "metadata": {
        "colab": {
          "base_uri": "https://localhost:8080/"
        },
        "id": "OAzxlZBYW1K6",
        "outputId": "01460e9e-528d-41d1-81f1-6f59df48ced2"
      },
      "source": [
        "roda_modelo(modelo,dados_limpos)"
      ],
      "execution_count": 21,
      "outputs": [
        {
          "output_type": "stream",
          "text": [
            "AUC: 0.7410482615464452\n",
            "\n",
            "Classification Report\n",
            "              precision    recall  f1-score   support\n",
            "\n",
            "           0       0.64      0.81      0.72        47\n",
            "           1       0.69      0.49      0.57        41\n",
            "\n",
            "    accuracy                           0.66        88\n",
            "   macro avg       0.67      0.65      0.64        88\n",
            "weighted avg       0.67      0.66      0.65        88\n",
            "\n"
          ],
          "name": "stdout"
        }
      ]
    },
    {
      "cell_type": "markdown",
      "metadata": {
        "id": "XE37tLC0ZqCH"
      },
      "source": [
        "### 📒 Desafio 02: Verificar o impacto da mudança nos resultados."
      ]
    },
    {
      "cell_type": "markdown",
      "metadata": {
        "id": "DWQ9da9fZu88"
      },
      "source": [
        "### 📒 Desafio 03: Pesquisar sobre F-score."
      ]
    },
    {
      "cell_type": "markdown",
      "metadata": {
        "id": "mXVwLC4XaEoE"
      },
      "source": [
        "> O F1-Score é simplesmente uma maneira de observar somente 1 métrica ao invés de duas (precisão e recall) em alguma situação. É uma média harmônica entre as duas, que está muito mais próxima dos menores valores do que uma média aritmética simples. Ou seja, quando tem-se um F1-Score baixo, é um indicativo de que ou a precisão ou o recall está baixo.\r\n",
        "\r\n",
        "<img src=\"https://miro.medium.com/max/2400/1*V_TXxdVdDofCXEw9yB-JUg.png\">\r\n",
        "\r\n",
        "<img src=\"https://upload.wikimedia.org/wikipedia/commons/thumb/2/26/Precisionrecall.svg/350px-Precisionrecall.svg.png\">"
      ]
    },
    {
      "cell_type": "markdown",
      "metadata": {
        "id": "HCHr28xbaU77"
      },
      "source": [
        ""
      ]
    },
    {
      "cell_type": "markdown",
      "metadata": {
        "id": "suDEftzzZy8V"
      },
      "source": [
        "### 📒 Desafio 04: Pesquisar e plotar a arvore de decisão criada pelo modelo."
      ]
    },
    {
      "cell_type": "code",
      "metadata": {
        "colab": {
          "base_uri": "https://localhost:8080/",
          "height": 1000
        },
        "id": "vz9FYRGXbEnP",
        "outputId": "8fb5f694-99ab-4f3e-90ef-7550e37e3690"
      },
      "source": [
        "from sklearn.tree import  export_graphviz\r\n",
        "import pydotplus\r\n",
        "import graphviz\r\n",
        "from google.colab import files\r\n",
        "\r\n",
        "fig = plt.figure(figsize=(12,5))\r\n",
        "dot_data = export_graphviz(modelo_arvore,out_file=None,\r\n",
        "                           class_names=['NO_ICU','GO_ICU'],\r\n",
        "                           filled=True)\r\n",
        "\r\n",
        "\r\n",
        " \r\n",
        "# fig.savefig(\"decistion_tree.png\")\r\n",
        "graph = graphviz.Source(dot_data, format=\"svg\")\r\n",
        "graph.render(\"decision_tree_graphivz\")\r\n",
        "graph"
      ],
      "execution_count": 22,
      "outputs": [
        {
          "output_type": "execute_result",
          "data": {
            "text/plain": [
              "<graphviz.files.Source at 0x7fd5d5b4c9b0>"
            ],
            "image/svg+xml": "<?xml version=\"1.0\" encoding=\"UTF-8\" standalone=\"no\"?>\n<!DOCTYPE svg PUBLIC \"-//W3C//DTD SVG 1.1//EN\"\n \"http://www.w3.org/Graphics/SVG/1.1/DTD/svg11.dtd\">\n<!-- Generated by graphviz version 2.40.1 (20161225.0304)\n -->\n<!-- Title: Tree Pages: 1 -->\n<svg width=\"2096pt\" height=\"1623pt\"\n viewBox=\"0.00 0.00 2096.00 1623.00\" xmlns=\"http://www.w3.org/2000/svg\" xmlns:xlink=\"http://www.w3.org/1999/xlink\">\n<g id=\"graph0\" class=\"graph\" transform=\"scale(1 1) rotate(0) translate(4 1619)\">\n<title>Tree</title>\n<polygon fill=\"#ffffff\" stroke=\"transparent\" points=\"-4,4 -4,-1619 2092,-1619 2092,4 -4,4\"/>\n<!-- 0 -->\n<g id=\"node1\" class=\"node\">\n<title>0</title>\n<polygon fill=\"#fbede3\" stroke=\"#000000\" points=\"924.5,-1615 799.5,-1615 799.5,-1532 924.5,-1532 924.5,-1615\"/>\n<text text-anchor=\"middle\" x=\"862\" y=\"-1599.8\" font-family=\"Times,serif\" font-size=\"14.00\" fill=\"#000000\">X[128] &lt;= &#45;0.705</text>\n<text text-anchor=\"middle\" x=\"862\" y=\"-1584.8\" font-family=\"Times,serif\" font-size=\"14.00\" fill=\"#000000\">gini = 0.497</text>\n<text text-anchor=\"middle\" x=\"862\" y=\"-1569.8\" font-family=\"Times,serif\" font-size=\"14.00\" fill=\"#000000\">samples = 264</text>\n<text text-anchor=\"middle\" x=\"862\" y=\"-1554.8\" font-family=\"Times,serif\" font-size=\"14.00\" fill=\"#000000\">value = [142, 122]</text>\n<text text-anchor=\"middle\" x=\"862\" y=\"-1539.8\" font-family=\"Times,serif\" font-size=\"14.00\" fill=\"#000000\">class = NO_ICU</text>\n</g>\n<!-- 1 -->\n<g id=\"node2\" class=\"node\">\n<title>1</title>\n<polygon fill=\"#f3c7a7\" stroke=\"#000000\" points=\"853.5,-1496 736.5,-1496 736.5,-1413 853.5,-1413 853.5,-1496\"/>\n<text text-anchor=\"middle\" x=\"795\" y=\"-1480.8\" font-family=\"Times,serif\" font-size=\"14.00\" fill=\"#000000\">X[2] &lt;= 6.5</text>\n<text text-anchor=\"middle\" x=\"795\" y=\"-1465.8\" font-family=\"Times,serif\" font-size=\"14.00\" fill=\"#000000\">gini = 0.46</text>\n<text text-anchor=\"middle\" x=\"795\" y=\"-1450.8\" font-family=\"Times,serif\" font-size=\"14.00\" fill=\"#000000\">samples = 204</text>\n<text text-anchor=\"middle\" x=\"795\" y=\"-1435.8\" font-family=\"Times,serif\" font-size=\"14.00\" fill=\"#000000\">value = [131, 73]</text>\n<text text-anchor=\"middle\" x=\"795\" y=\"-1420.8\" font-family=\"Times,serif\" font-size=\"14.00\" fill=\"#000000\">class = NO_ICU</text>\n</g>\n<!-- 0&#45;&gt;1 -->\n<g id=\"edge1\" class=\"edge\">\n<title>0&#45;&gt;1</title>\n<path fill=\"none\" stroke=\"#000000\" d=\"M838.5667,-1531.8796C833.6987,-1523.2335 828.5181,-1514.0322 823.4914,-1505.1042\"/>\n<polygon fill=\"#000000\" stroke=\"#000000\" points=\"826.4893,-1503.2947 818.5334,-1496.2981 820.3897,-1506.729 826.4893,-1503.2947\"/>\n<text text-anchor=\"middle\" x=\"811.8022\" y=\"-1516.6749\" font-family=\"Times,serif\" font-size=\"14.00\" fill=\"#000000\">True</text>\n</g>\n<!-- 64 -->\n<g id=\"node65\" class=\"node\">\n<title>64</title>\n<polygon fill=\"#65b3eb\" stroke=\"#000000\" points=\"1207,-1496 1095,-1496 1095,-1413 1207,-1413 1207,-1496\"/>\n<text text-anchor=\"middle\" x=\"1151\" y=\"-1480.8\" font-family=\"Times,serif\" font-size=\"14.00\" fill=\"#000000\">X[0] &lt;= 10.5</text>\n<text text-anchor=\"middle\" x=\"1151\" y=\"-1465.8\" font-family=\"Times,serif\" font-size=\"14.00\" fill=\"#000000\">gini = 0.299</text>\n<text text-anchor=\"middle\" x=\"1151\" y=\"-1450.8\" font-family=\"Times,serif\" font-size=\"14.00\" fill=\"#000000\">samples = 60</text>\n<text text-anchor=\"middle\" x=\"1151\" y=\"-1435.8\" font-family=\"Times,serif\" font-size=\"14.00\" fill=\"#000000\">value = [11, 49]</text>\n<text text-anchor=\"middle\" x=\"1151\" y=\"-1420.8\" font-family=\"Times,serif\" font-size=\"14.00\" fill=\"#000000\">class = GO_ICU</text>\n</g>\n<!-- 0&#45;&gt;64 -->\n<g id=\"edge64\" class=\"edge\">\n<title>0&#45;&gt;64</title>\n<path fill=\"none\" stroke=\"#000000\" d=\"M924.7087,-1547.6788C972.1772,-1528.1329 1037.2042,-1501.3571 1085.3729,-1481.5229\"/>\n<polygon fill=\"#000000\" stroke=\"#000000\" points=\"1086.8575,-1484.6968 1094.7717,-1477.6528 1084.1922,-1478.224 1086.8575,-1484.6968\"/>\n<text text-anchor=\"middle\" x=\"1085.1563\" y=\"-1497.0298\" font-family=\"Times,serif\" font-size=\"14.00\" fill=\"#000000\">False</text>\n</g>\n<!-- 2 -->\n<g id=\"node3\" class=\"node\">\n<title>2</title>\n<polygon fill=\"#eda978\" stroke=\"#000000\" points=\"652,-1377 536,-1377 536,-1294 652,-1294 652,-1377\"/>\n<text text-anchor=\"middle\" x=\"594\" y=\"-1361.8\" font-family=\"Times,serif\" font-size=\"14.00\" fill=\"#000000\">X[53] &lt;= &#45;0.812</text>\n<text text-anchor=\"middle\" x=\"594\" y=\"-1346.8\" font-family=\"Times,serif\" font-size=\"14.00\" fill=\"#000000\">gini = 0.367</text>\n<text text-anchor=\"middle\" x=\"594\" y=\"-1331.8\" font-family=\"Times,serif\" font-size=\"14.00\" fill=\"#000000\">samples = 153</text>\n<text text-anchor=\"middle\" x=\"594\" y=\"-1316.8\" font-family=\"Times,serif\" font-size=\"14.00\" fill=\"#000000\">value = [116, 37]</text>\n<text text-anchor=\"middle\" x=\"594\" y=\"-1301.8\" font-family=\"Times,serif\" font-size=\"14.00\" fill=\"#000000\">class = NO_ICU</text>\n</g>\n<!-- 1&#45;&gt;2 -->\n<g id=\"edge2\" class=\"edge\">\n<title>1&#45;&gt;2</title>\n<path fill=\"none\" stroke=\"#000000\" d=\"M736.3221,-1419.7604C712.6891,-1405.7687 685.3007,-1389.5537 660.8989,-1375.1068\"/>\n<polygon fill=\"#000000\" stroke=\"#000000\" points=\"662.4445,-1371.9545 652.0564,-1369.8717 658.8783,-1377.978 662.4445,-1371.9545\"/>\n</g>\n<!-- 45 -->\n<g id=\"node46\" class=\"node\">\n<title>45</title>\n<polygon fill=\"#8bc6f0\" stroke=\"#000000\" points=\"855.5,-1377 734.5,-1377 734.5,-1294 855.5,-1294 855.5,-1377\"/>\n<text text-anchor=\"middle\" x=\"795\" y=\"-1361.8\" font-family=\"Times,serif\" font-size=\"14.00\" fill=\"#000000\">X[130] &lt;= &#45;0.989</text>\n<text text-anchor=\"middle\" x=\"795\" y=\"-1346.8\" font-family=\"Times,serif\" font-size=\"14.00\" fill=\"#000000\">gini = 0.415</text>\n<text text-anchor=\"middle\" x=\"795\" y=\"-1331.8\" font-family=\"Times,serif\" font-size=\"14.00\" fill=\"#000000\">samples = 51</text>\n<text text-anchor=\"middle\" x=\"795\" y=\"-1316.8\" font-family=\"Times,serif\" font-size=\"14.00\" fill=\"#000000\">value = [15, 36]</text>\n<text text-anchor=\"middle\" x=\"795\" y=\"-1301.8\" font-family=\"Times,serif\" font-size=\"14.00\" fill=\"#000000\">class = GO_ICU</text>\n</g>\n<!-- 1&#45;&gt;45 -->\n<g id=\"edge45\" class=\"edge\">\n<title>1&#45;&gt;45</title>\n<path fill=\"none\" stroke=\"#000000\" d=\"M795,-1412.8796C795,-1404.6838 795,-1395.9891 795,-1387.5013\"/>\n<polygon fill=\"#000000\" stroke=\"#000000\" points=\"798.5001,-1387.298 795,-1377.2981 791.5001,-1387.2981 798.5001,-1387.298\"/>\n</g>\n<!-- 3 -->\n<g id=\"node4\" class=\"node\">\n<title>3</title>\n<polygon fill=\"#eca26c\" stroke=\"#000000\" points=\"518,-1258 402,-1258 402,-1175 518,-1175 518,-1258\"/>\n<text text-anchor=\"middle\" x=\"460\" y=\"-1242.8\" font-family=\"Times,serif\" font-size=\"14.00\" fill=\"#000000\">X[199] &lt;= &#45;0.42</text>\n<text text-anchor=\"middle\" x=\"460\" y=\"-1227.8\" font-family=\"Times,serif\" font-size=\"14.00\" fill=\"#000000\">gini = 0.327</text>\n<text text-anchor=\"middle\" x=\"460\" y=\"-1212.8\" font-family=\"Times,serif\" font-size=\"14.00\" fill=\"#000000\">samples = 146</text>\n<text text-anchor=\"middle\" x=\"460\" y=\"-1197.8\" font-family=\"Times,serif\" font-size=\"14.00\" fill=\"#000000\">value = [116, 30]</text>\n<text text-anchor=\"middle\" x=\"460\" y=\"-1182.8\" font-family=\"Times,serif\" font-size=\"14.00\" fill=\"#000000\">class = NO_ICU</text>\n</g>\n<!-- 2&#45;&gt;3 -->\n<g id=\"edge3\" class=\"edge\">\n<title>2&#45;&gt;3</title>\n<path fill=\"none\" stroke=\"#000000\" d=\"M547.1333,-1293.8796C536.6875,-1284.6031 525.5219,-1274.6874 514.789,-1265.1559\"/>\n<polygon fill=\"#000000\" stroke=\"#000000\" points=\"516.868,-1262.3213 507.0667,-1258.2981 512.2199,-1267.5553 516.868,-1262.3213\"/>\n</g>\n<!-- 44 -->\n<g id=\"node45\" class=\"node\">\n<title>44</title>\n<polygon fill=\"#399de5\" stroke=\"#000000\" points=\"650,-1250.5 538,-1250.5 538,-1182.5 650,-1182.5 650,-1250.5\"/>\n<text text-anchor=\"middle\" x=\"594\" y=\"-1235.3\" font-family=\"Times,serif\" font-size=\"14.00\" fill=\"#000000\">gini = 0.0</text>\n<text text-anchor=\"middle\" x=\"594\" y=\"-1220.3\" font-family=\"Times,serif\" font-size=\"14.00\" fill=\"#000000\">samples = 7</text>\n<text text-anchor=\"middle\" x=\"594\" y=\"-1205.3\" font-family=\"Times,serif\" font-size=\"14.00\" fill=\"#000000\">value = [0, 7]</text>\n<text text-anchor=\"middle\" x=\"594\" y=\"-1190.3\" font-family=\"Times,serif\" font-size=\"14.00\" fill=\"#000000\">class = GO_ICU</text>\n</g>\n<!-- 2&#45;&gt;44 -->\n<g id=\"edge44\" class=\"edge\">\n<title>2&#45;&gt;44</title>\n<path fill=\"none\" stroke=\"#000000\" d=\"M594,-1293.8796C594,-1283.2134 594,-1271.7021 594,-1260.9015\"/>\n<polygon fill=\"#000000\" stroke=\"#000000\" points=\"597.5001,-1260.8149 594,-1250.8149 590.5001,-1260.815 597.5001,-1260.8149\"/>\n</g>\n<!-- 4 -->\n<g id=\"node5\" class=\"node\">\n<title>4</title>\n<polygon fill=\"#399de5\" stroke=\"#000000\" points=\"384,-1131.5 272,-1131.5 272,-1063.5 384,-1063.5 384,-1131.5\"/>\n<text text-anchor=\"middle\" x=\"328\" y=\"-1116.3\" font-family=\"Times,serif\" font-size=\"14.00\" fill=\"#000000\">gini = 0.0</text>\n<text text-anchor=\"middle\" x=\"328\" y=\"-1101.3\" font-family=\"Times,serif\" font-size=\"14.00\" fill=\"#000000\">samples = 5</text>\n<text text-anchor=\"middle\" x=\"328\" y=\"-1086.3\" font-family=\"Times,serif\" font-size=\"14.00\" fill=\"#000000\">value = [0, 5]</text>\n<text text-anchor=\"middle\" x=\"328\" y=\"-1071.3\" font-family=\"Times,serif\" font-size=\"14.00\" fill=\"#000000\">class = GO_ICU</text>\n</g>\n<!-- 3&#45;&gt;4 -->\n<g id=\"edge4\" class=\"edge\">\n<title>3&#45;&gt;4</title>\n<path fill=\"none\" stroke=\"#000000\" d=\"M413.8328,-1174.8796C400.7817,-1163.1138 386.5899,-1150.3197 373.5739,-1138.5855\"/>\n<polygon fill=\"#000000\" stroke=\"#000000\" points=\"375.8346,-1135.9113 366.0636,-1131.8149 371.1474,-1141.1104 375.8346,-1135.9113\"/>\n</g>\n<!-- 5 -->\n<g id=\"node6\" class=\"node\">\n<title>5</title>\n<polygon fill=\"#eb9c64\" stroke=\"#000000\" points=\"518,-1139 402,-1139 402,-1056 518,-1056 518,-1139\"/>\n<text text-anchor=\"middle\" x=\"460\" y=\"-1123.8\" font-family=\"Times,serif\" font-size=\"14.00\" fill=\"#000000\">X[209] &lt;= 0.615</text>\n<text text-anchor=\"middle\" x=\"460\" y=\"-1108.8\" font-family=\"Times,serif\" font-size=\"14.00\" fill=\"#000000\">gini = 0.292</text>\n<text text-anchor=\"middle\" x=\"460\" y=\"-1093.8\" font-family=\"Times,serif\" font-size=\"14.00\" fill=\"#000000\">samples = 141</text>\n<text text-anchor=\"middle\" x=\"460\" y=\"-1078.8\" font-family=\"Times,serif\" font-size=\"14.00\" fill=\"#000000\">value = [116, 25]</text>\n<text text-anchor=\"middle\" x=\"460\" y=\"-1063.8\" font-family=\"Times,serif\" font-size=\"14.00\" fill=\"#000000\">class = NO_ICU</text>\n</g>\n<!-- 3&#45;&gt;5 -->\n<g id=\"edge5\" class=\"edge\">\n<title>3&#45;&gt;5</title>\n<path fill=\"none\" stroke=\"#000000\" d=\"M460,-1174.8796C460,-1166.6838 460,-1157.9891 460,-1149.5013\"/>\n<polygon fill=\"#000000\" stroke=\"#000000\" points=\"463.5001,-1149.298 460,-1139.2981 456.5001,-1149.2981 463.5001,-1149.298\"/>\n</g>\n<!-- 6 -->\n<g id=\"node7\" class=\"node\">\n<title>6</title>\n<polygon fill=\"#e99558\" stroke=\"#000000\" points=\"380.5,-1020 259.5,-1020 259.5,-937 380.5,-937 380.5,-1020\"/>\n<text text-anchor=\"middle\" x=\"320\" y=\"-1004.8\" font-family=\"Times,serif\" font-size=\"14.00\" fill=\"#000000\">X[164] &lt;= &#45;0.457</text>\n<text text-anchor=\"middle\" x=\"320\" y=\"-989.8\" font-family=\"Times,serif\" font-size=\"14.00\" fill=\"#000000\">gini = 0.233</text>\n<text text-anchor=\"middle\" x=\"320\" y=\"-974.8\" font-family=\"Times,serif\" font-size=\"14.00\" fill=\"#000000\">samples = 126</text>\n<text text-anchor=\"middle\" x=\"320\" y=\"-959.8\" font-family=\"Times,serif\" font-size=\"14.00\" fill=\"#000000\">value = [109, 17]</text>\n<text text-anchor=\"middle\" x=\"320\" y=\"-944.8\" font-family=\"Times,serif\" font-size=\"14.00\" fill=\"#000000\">class = NO_ICU</text>\n</g>\n<!-- 5&#45;&gt;6 -->\n<g id=\"edge6\" class=\"edge\">\n<title>5&#45;&gt;6</title>\n<path fill=\"none\" stroke=\"#000000\" d=\"M411.0348,-1055.8796C400.0153,-1046.513 388.2291,-1036.4948 376.9158,-1026.8784\"/>\n<polygon fill=\"#000000\" stroke=\"#000000\" points=\"379.0604,-1024.1078 369.1742,-1020.2981 374.5268,-1029.4414 379.0604,-1024.1078\"/>\n</g>\n<!-- 37 -->\n<g id=\"node38\" class=\"node\">\n<title>37</title>\n<polygon fill=\"#e6f3fc\" stroke=\"#000000\" points=\"520.5,-1020 399.5,-1020 399.5,-937 520.5,-937 520.5,-1020\"/>\n<text text-anchor=\"middle\" x=\"460\" y=\"-1004.8\" font-family=\"Times,serif\" font-size=\"14.00\" fill=\"#000000\">X[190] &lt;= &#45;0.981</text>\n<text text-anchor=\"middle\" x=\"460\" y=\"-989.8\" font-family=\"Times,serif\" font-size=\"14.00\" fill=\"#000000\">gini = 0.498</text>\n<text text-anchor=\"middle\" x=\"460\" y=\"-974.8\" font-family=\"Times,serif\" font-size=\"14.00\" fill=\"#000000\">samples = 15</text>\n<text text-anchor=\"middle\" x=\"460\" y=\"-959.8\" font-family=\"Times,serif\" font-size=\"14.00\" fill=\"#000000\">value = [7, 8]</text>\n<text text-anchor=\"middle\" x=\"460\" y=\"-944.8\" font-family=\"Times,serif\" font-size=\"14.00\" fill=\"#000000\">class = GO_ICU</text>\n</g>\n<!-- 5&#45;&gt;37 -->\n<g id=\"edge37\" class=\"edge\">\n<title>5&#45;&gt;37</title>\n<path fill=\"none\" stroke=\"#000000\" d=\"M460,-1055.8796C460,-1047.6838 460,-1038.9891 460,-1030.5013\"/>\n<polygon fill=\"#000000\" stroke=\"#000000\" points=\"463.5001,-1030.298 460,-1020.2981 456.5001,-1030.2981 463.5001,-1030.298\"/>\n</g>\n<!-- 7 -->\n<g id=\"node8\" class=\"node\">\n<title>7</title>\n<polygon fill=\"#7bbeee\" stroke=\"#000000\" points=\"242,-901 130,-901 130,-818 242,-818 242,-901\"/>\n<text text-anchor=\"middle\" x=\"186\" y=\"-885.8\" font-family=\"Times,serif\" font-size=\"14.00\" fill=\"#000000\">X[2] &lt;= 4.5</text>\n<text text-anchor=\"middle\" x=\"186\" y=\"-870.8\" font-family=\"Times,serif\" font-size=\"14.00\" fill=\"#000000\">gini = 0.375</text>\n<text text-anchor=\"middle\" x=\"186\" y=\"-855.8\" font-family=\"Times,serif\" font-size=\"14.00\" fill=\"#000000\">samples = 4</text>\n<text text-anchor=\"middle\" x=\"186\" y=\"-840.8\" font-family=\"Times,serif\" font-size=\"14.00\" fill=\"#000000\">value = [1, 3]</text>\n<text text-anchor=\"middle\" x=\"186\" y=\"-825.8\" font-family=\"Times,serif\" font-size=\"14.00\" fill=\"#000000\">class = GO_ICU</text>\n</g>\n<!-- 6&#45;&gt;7 -->\n<g id=\"edge7\" class=\"edge\">\n<title>6&#45;&gt;7</title>\n<path fill=\"none\" stroke=\"#000000\" d=\"M273.1333,-936.8796C262.6875,-927.6031 251.5219,-917.6874 240.789,-908.1559\"/>\n<polygon fill=\"#000000\" stroke=\"#000000\" points=\"242.868,-905.3213 233.0667,-901.2981 238.2199,-910.5553 242.868,-905.3213\"/>\n</g>\n<!-- 10 -->\n<g id=\"node11\" class=\"node\">\n<title>10</title>\n<polygon fill=\"#e89153\" stroke=\"#000000\" points=\"378.5,-901 261.5,-901 261.5,-818 378.5,-818 378.5,-901\"/>\n<text text-anchor=\"middle\" x=\"320\" y=\"-885.8\" font-family=\"Times,serif\" font-size=\"14.00\" fill=\"#000000\">X[209] &lt;= 0.11</text>\n<text text-anchor=\"middle\" x=\"320\" y=\"-870.8\" font-family=\"Times,serif\" font-size=\"14.00\" fill=\"#000000\">gini = 0.203</text>\n<text text-anchor=\"middle\" x=\"320\" y=\"-855.8\" font-family=\"Times,serif\" font-size=\"14.00\" fill=\"#000000\">samples = 122</text>\n<text text-anchor=\"middle\" x=\"320\" y=\"-840.8\" font-family=\"Times,serif\" font-size=\"14.00\" fill=\"#000000\">value = [108, 14]</text>\n<text text-anchor=\"middle\" x=\"320\" y=\"-825.8\" font-family=\"Times,serif\" font-size=\"14.00\" fill=\"#000000\">class = NO_ICU</text>\n</g>\n<!-- 6&#45;&gt;10 -->\n<g id=\"edge10\" class=\"edge\">\n<title>6&#45;&gt;10</title>\n<path fill=\"none\" stroke=\"#000000\" d=\"M320,-936.8796C320,-928.6838 320,-919.9891 320,-911.5013\"/>\n<polygon fill=\"#000000\" stroke=\"#000000\" points=\"323.5001,-911.298 320,-901.2981 316.5001,-911.2981 323.5001,-911.298\"/>\n</g>\n<!-- 8 -->\n<g id=\"node9\" class=\"node\">\n<title>8</title>\n<polygon fill=\"#399de5\" stroke=\"#000000\" points=\"112,-774.5 0,-774.5 0,-706.5 112,-706.5 112,-774.5\"/>\n<text text-anchor=\"middle\" x=\"56\" y=\"-759.3\" font-family=\"Times,serif\" font-size=\"14.00\" fill=\"#000000\">gini = 0.0</text>\n<text text-anchor=\"middle\" x=\"56\" y=\"-744.3\" font-family=\"Times,serif\" font-size=\"14.00\" fill=\"#000000\">samples = 3</text>\n<text text-anchor=\"middle\" x=\"56\" y=\"-729.3\" font-family=\"Times,serif\" font-size=\"14.00\" fill=\"#000000\">value = [0, 3]</text>\n<text text-anchor=\"middle\" x=\"56\" y=\"-714.3\" font-family=\"Times,serif\" font-size=\"14.00\" fill=\"#000000\">class = GO_ICU</text>\n</g>\n<!-- 7&#45;&gt;8 -->\n<g id=\"edge8\" class=\"edge\">\n<title>7&#45;&gt;8</title>\n<path fill=\"none\" stroke=\"#000000\" d=\"M140.5323,-817.8796C127.6789,-806.1138 113.7021,-793.3197 100.8834,-781.5855\"/>\n<polygon fill=\"#000000\" stroke=\"#000000\" points=\"103.2264,-778.9854 93.4869,-774.8149 98.4999,-784.1488 103.2264,-778.9854\"/>\n</g>\n<!-- 9 -->\n<g id=\"node10\" class=\"node\">\n<title>9</title>\n<polygon fill=\"#e58139\" stroke=\"#000000\" points=\"242,-774.5 130,-774.5 130,-706.5 242,-706.5 242,-774.5\"/>\n<text text-anchor=\"middle\" x=\"186\" y=\"-759.3\" font-family=\"Times,serif\" font-size=\"14.00\" fill=\"#000000\">gini = 0.0</text>\n<text text-anchor=\"middle\" x=\"186\" y=\"-744.3\" font-family=\"Times,serif\" font-size=\"14.00\" fill=\"#000000\">samples = 1</text>\n<text text-anchor=\"middle\" x=\"186\" y=\"-729.3\" font-family=\"Times,serif\" font-size=\"14.00\" fill=\"#000000\">value = [1, 0]</text>\n<text text-anchor=\"middle\" x=\"186\" y=\"-714.3\" font-family=\"Times,serif\" font-size=\"14.00\" fill=\"#000000\">class = NO_ICU</text>\n</g>\n<!-- 7&#45;&gt;9 -->\n<g id=\"edge9\" class=\"edge\">\n<title>7&#45;&gt;9</title>\n<path fill=\"none\" stroke=\"#000000\" d=\"M186,-817.8796C186,-807.2134 186,-795.7021 186,-784.9015\"/>\n<polygon fill=\"#000000\" stroke=\"#000000\" points=\"189.5001,-784.8149 186,-774.8149 182.5001,-784.815 189.5001,-784.8149\"/>\n</g>\n<!-- 11 -->\n<g id=\"node12\" class=\"node\">\n<title>11</title>\n<polygon fill=\"#399de5\" stroke=\"#000000\" points=\"372,-774.5 260,-774.5 260,-706.5 372,-706.5 372,-774.5\"/>\n<text text-anchor=\"middle\" x=\"316\" y=\"-759.3\" font-family=\"Times,serif\" font-size=\"14.00\" fill=\"#000000\">gini = 0.0</text>\n<text text-anchor=\"middle\" x=\"316\" y=\"-744.3\" font-family=\"Times,serif\" font-size=\"14.00\" fill=\"#000000\">samples = 2</text>\n<text text-anchor=\"middle\" x=\"316\" y=\"-729.3\" font-family=\"Times,serif\" font-size=\"14.00\" fill=\"#000000\">value = [0, 2]</text>\n<text text-anchor=\"middle\" x=\"316\" y=\"-714.3\" font-family=\"Times,serif\" font-size=\"14.00\" fill=\"#000000\">class = GO_ICU</text>\n</g>\n<!-- 10&#45;&gt;11 -->\n<g id=\"edge11\" class=\"edge\">\n<title>10&#45;&gt;11</title>\n<path fill=\"none\" stroke=\"#000000\" d=\"M318.601,-817.8796C318.2425,-807.2134 317.8555,-795.7021 317.4925,-784.9015\"/>\n<polygon fill=\"#000000\" stroke=\"#000000\" points=\"320.9875,-784.6917 317.1534,-774.8149 313.9915,-784.9269 320.9875,-784.6917\"/>\n</g>\n<!-- 12 -->\n<g id=\"node13\" class=\"node\">\n<title>12</title>\n<polygon fill=\"#e88f4f\" stroke=\"#000000\" points=\"511.5,-782 390.5,-782 390.5,-699 511.5,-699 511.5,-782\"/>\n<text text-anchor=\"middle\" x=\"451\" y=\"-766.8\" font-family=\"Times,serif\" font-size=\"14.00\" fill=\"#000000\">X[101] &lt;= &#45;0.835</text>\n<text text-anchor=\"middle\" x=\"451\" y=\"-751.8\" font-family=\"Times,serif\" font-size=\"14.00\" fill=\"#000000\">gini = 0.18</text>\n<text text-anchor=\"middle\" x=\"451\" y=\"-736.8\" font-family=\"Times,serif\" font-size=\"14.00\" fill=\"#000000\">samples = 120</text>\n<text text-anchor=\"middle\" x=\"451\" y=\"-721.8\" font-family=\"Times,serif\" font-size=\"14.00\" fill=\"#000000\">value = [108, 12]</text>\n<text text-anchor=\"middle\" x=\"451\" y=\"-706.8\" font-family=\"Times,serif\" font-size=\"14.00\" fill=\"#000000\">class = NO_ICU</text>\n</g>\n<!-- 10&#45;&gt;12 -->\n<g id=\"edge12\" class=\"edge\">\n<title>10&#45;&gt;12</title>\n<path fill=\"none\" stroke=\"#000000\" d=\"M365.8174,-817.8796C376.0294,-808.6031 386.945,-798.6874 397.4376,-789.1559\"/>\n<polygon fill=\"#000000\" stroke=\"#000000\" points=\"399.9384,-791.6127 404.987,-782.2981 395.2316,-786.4313 399.9384,-791.6127\"/>\n</g>\n<!-- 13 -->\n<g id=\"node14\" class=\"node\">\n<title>13</title>\n<polygon fill=\"#efb286\" stroke=\"#000000\" points=\"383.5,-663 262.5,-663 262.5,-580 383.5,-580 383.5,-663\"/>\n<text text-anchor=\"middle\" x=\"323\" y=\"-647.8\" font-family=\"Times,serif\" font-size=\"14.00\" fill=\"#000000\">X[203] &lt;= &#45;0.196</text>\n<text text-anchor=\"middle\" x=\"323\" y=\"-632.8\" font-family=\"Times,serif\" font-size=\"14.00\" fill=\"#000000\">gini = 0.403</text>\n<text text-anchor=\"middle\" x=\"323\" y=\"-617.8\" font-family=\"Times,serif\" font-size=\"14.00\" fill=\"#000000\">samples = 25</text>\n<text text-anchor=\"middle\" x=\"323\" y=\"-602.8\" font-family=\"Times,serif\" font-size=\"14.00\" fill=\"#000000\">value = [18, 7]</text>\n<text text-anchor=\"middle\" x=\"323\" y=\"-587.8\" font-family=\"Times,serif\" font-size=\"14.00\" fill=\"#000000\">class = NO_ICU</text>\n</g>\n<!-- 12&#45;&gt;13 -->\n<g id=\"edge13\" class=\"edge\">\n<title>12&#45;&gt;13</title>\n<path fill=\"none\" stroke=\"#000000\" d=\"M406.2318,-698.8796C396.2537,-689.6031 385.5881,-679.6874 375.3358,-670.1559\"/>\n<polygon fill=\"#000000\" stroke=\"#000000\" points=\"377.6663,-667.5436 367.9593,-663.2981 372.9,-672.6704 377.6663,-667.5436\"/>\n</g>\n<!-- 22 -->\n<g id=\"node23\" class=\"node\">\n<title>22</title>\n<polygon fill=\"#e68844\" stroke=\"#000000\" points=\"514,-663 402,-663 402,-580 514,-580 514,-663\"/>\n<text text-anchor=\"middle\" x=\"458\" y=\"-647.8\" font-family=\"Times,serif\" font-size=\"14.00\" fill=\"#000000\">X[48] &lt;= 0.112</text>\n<text text-anchor=\"middle\" x=\"458\" y=\"-632.8\" font-family=\"Times,serif\" font-size=\"14.00\" fill=\"#000000\">gini = 0.1</text>\n<text text-anchor=\"middle\" x=\"458\" y=\"-617.8\" font-family=\"Times,serif\" font-size=\"14.00\" fill=\"#000000\">samples = 95</text>\n<text text-anchor=\"middle\" x=\"458\" y=\"-602.8\" font-family=\"Times,serif\" font-size=\"14.00\" fill=\"#000000\">value = [90, 5]</text>\n<text text-anchor=\"middle\" x=\"458\" y=\"-587.8\" font-family=\"Times,serif\" font-size=\"14.00\" fill=\"#000000\">class = NO_ICU</text>\n</g>\n<!-- 12&#45;&gt;22 -->\n<g id=\"edge22\" class=\"edge\">\n<title>12&#45;&gt;22</title>\n<path fill=\"none\" stroke=\"#000000\" d=\"M453.4483,-698.8796C453.9304,-690.6838 454.4418,-681.9891 454.9411,-673.5013\"/>\n<polygon fill=\"#000000\" stroke=\"#000000\" points=\"458.4479,-673.4864 455.5413,-663.2981 451.46,-673.0753 458.4479,-673.4864\"/>\n</g>\n<!-- 14 -->\n<g id=\"node15\" class=\"node\">\n<title>14</title>\n<polygon fill=\"#399de5\" stroke=\"#000000\" points=\"251,-536.5 139,-536.5 139,-468.5 251,-468.5 251,-536.5\"/>\n<text text-anchor=\"middle\" x=\"195\" y=\"-521.3\" font-family=\"Times,serif\" font-size=\"14.00\" fill=\"#000000\">gini = 0.0</text>\n<text text-anchor=\"middle\" x=\"195\" y=\"-506.3\" font-family=\"Times,serif\" font-size=\"14.00\" fill=\"#000000\">samples = 3</text>\n<text text-anchor=\"middle\" x=\"195\" y=\"-491.3\" font-family=\"Times,serif\" font-size=\"14.00\" fill=\"#000000\">value = [0, 3]</text>\n<text text-anchor=\"middle\" x=\"195\" y=\"-476.3\" font-family=\"Times,serif\" font-size=\"14.00\" fill=\"#000000\">class = GO_ICU</text>\n</g>\n<!-- 13&#45;&gt;14 -->\n<g id=\"edge14\" class=\"edge\">\n<title>13&#45;&gt;14</title>\n<path fill=\"none\" stroke=\"#000000\" d=\"M278.2318,-579.8796C265.6944,-568.2237 252.0716,-555.5587 239.547,-543.9148\"/>\n<polygon fill=\"#000000\" stroke=\"#000000\" points=\"241.6172,-541.0605 231.9102,-536.8149 236.8509,-546.1872 241.6172,-541.0605\"/>\n</g>\n<!-- 15 -->\n<g id=\"node16\" class=\"node\">\n<title>15</title>\n<polygon fill=\"#eb9d65\" stroke=\"#000000\" points=\"381,-544 269,-544 269,-461 381,-461 381,-544\"/>\n<text text-anchor=\"middle\" x=\"325\" y=\"-528.8\" font-family=\"Times,serif\" font-size=\"14.00\" fill=\"#000000\">X[80] &lt;= 0.012</text>\n<text text-anchor=\"middle\" x=\"325\" y=\"-513.8\" font-family=\"Times,serif\" font-size=\"14.00\" fill=\"#000000\">gini = 0.298</text>\n<text text-anchor=\"middle\" x=\"325\" y=\"-498.8\" font-family=\"Times,serif\" font-size=\"14.00\" fill=\"#000000\">samples = 22</text>\n<text text-anchor=\"middle\" x=\"325\" y=\"-483.8\" font-family=\"Times,serif\" font-size=\"14.00\" fill=\"#000000\">value = [18, 4]</text>\n<text text-anchor=\"middle\" x=\"325\" y=\"-468.8\" font-family=\"Times,serif\" font-size=\"14.00\" fill=\"#000000\">class = NO_ICU</text>\n</g>\n<!-- 13&#45;&gt;15 -->\n<g id=\"edge15\" class=\"edge\">\n<title>13&#45;&gt;15</title>\n<path fill=\"none\" stroke=\"#000000\" d=\"M323.6995,-579.8796C323.8372,-571.6838 323.9834,-562.9891 324.126,-554.5013\"/>\n<polygon fill=\"#000000\" stroke=\"#000000\" points=\"327.6289,-554.3555 324.2975,-544.2981 320.6299,-554.2378 327.6289,-554.3555\"/>\n</g>\n<!-- 16 -->\n<g id=\"node17\" class=\"node\">\n<title>16</title>\n<polygon fill=\"#e58139\" stroke=\"#000000\" points=\"252,-417.5 140,-417.5 140,-349.5 252,-349.5 252,-417.5\"/>\n<text text-anchor=\"middle\" x=\"196\" y=\"-402.3\" font-family=\"Times,serif\" font-size=\"14.00\" fill=\"#000000\">gini = 0.0</text>\n<text text-anchor=\"middle\" x=\"196\" y=\"-387.3\" font-family=\"Times,serif\" font-size=\"14.00\" fill=\"#000000\">samples = 13</text>\n<text text-anchor=\"middle\" x=\"196\" y=\"-372.3\" font-family=\"Times,serif\" font-size=\"14.00\" fill=\"#000000\">value = [13, 0]</text>\n<text text-anchor=\"middle\" x=\"196\" y=\"-357.3\" font-family=\"Times,serif\" font-size=\"14.00\" fill=\"#000000\">class = NO_ICU</text>\n</g>\n<!-- 15&#45;&gt;16 -->\n<g id=\"edge16\" class=\"edge\">\n<title>15&#45;&gt;16</title>\n<path fill=\"none\" stroke=\"#000000\" d=\"M279.8821,-460.8796C267.2467,-449.2237 253.5174,-436.5587 240.895,-424.9148\"/>\n<polygon fill=\"#000000\" stroke=\"#000000\" points=\"242.922,-422.0228 233.1985,-417.8149 238.1756,-427.168 242.922,-422.0228\"/>\n</g>\n<!-- 17 -->\n<g id=\"node18\" class=\"node\">\n<title>17</title>\n<polygon fill=\"#fae6d7\" stroke=\"#000000\" points=\"382,-425 270,-425 270,-342 382,-342 382,-425\"/>\n<text text-anchor=\"middle\" x=\"326\" y=\"-409.8\" font-family=\"Times,serif\" font-size=\"14.00\" fill=\"#000000\">X[56] &lt;= &#45;0.91</text>\n<text text-anchor=\"middle\" x=\"326\" y=\"-394.8\" font-family=\"Times,serif\" font-size=\"14.00\" fill=\"#000000\">gini = 0.494</text>\n<text text-anchor=\"middle\" x=\"326\" y=\"-379.8\" font-family=\"Times,serif\" font-size=\"14.00\" fill=\"#000000\">samples = 9</text>\n<text text-anchor=\"middle\" x=\"326\" y=\"-364.8\" font-family=\"Times,serif\" font-size=\"14.00\" fill=\"#000000\">value = [5, 4]</text>\n<text text-anchor=\"middle\" x=\"326\" y=\"-349.8\" font-family=\"Times,serif\" font-size=\"14.00\" fill=\"#000000\">class = NO_ICU</text>\n</g>\n<!-- 15&#45;&gt;17 -->\n<g id=\"edge17\" class=\"edge\">\n<title>15&#45;&gt;17</title>\n<path fill=\"none\" stroke=\"#000000\" d=\"M325.3498,-460.8796C325.4186,-452.6838 325.4917,-443.9891 325.563,-435.5013\"/>\n<polygon fill=\"#000000\" stroke=\"#000000\" points=\"329.0645,-435.3272 325.6488,-425.2981 322.0648,-435.2683 329.0645,-435.3272\"/>\n</g>\n<!-- 18 -->\n<g id=\"node19\" class=\"node\">\n<title>18</title>\n<polygon fill=\"#6ab6ec\" stroke=\"#000000\" points=\"253.5,-306 132.5,-306 132.5,-223 253.5,-223 253.5,-306\"/>\n<text text-anchor=\"middle\" x=\"193\" y=\"-290.8\" font-family=\"Times,serif\" font-size=\"14.00\" fill=\"#000000\">X[190] &lt;= &#45;0.978</text>\n<text text-anchor=\"middle\" x=\"193\" y=\"-275.8\" font-family=\"Times,serif\" font-size=\"14.00\" fill=\"#000000\">gini = 0.32</text>\n<text text-anchor=\"middle\" x=\"193\" y=\"-260.8\" font-family=\"Times,serif\" font-size=\"14.00\" fill=\"#000000\">samples = 5</text>\n<text text-anchor=\"middle\" x=\"193\" y=\"-245.8\" font-family=\"Times,serif\" font-size=\"14.00\" fill=\"#000000\">value = [1, 4]</text>\n<text text-anchor=\"middle\" x=\"193\" y=\"-230.8\" font-family=\"Times,serif\" font-size=\"14.00\" fill=\"#000000\">class = GO_ICU</text>\n</g>\n<!-- 17&#45;&gt;18 -->\n<g id=\"edge18\" class=\"edge\">\n<title>17&#45;&gt;18</title>\n<path fill=\"none\" stroke=\"#000000\" d=\"M279.4831,-341.8796C269.1152,-332.6031 258.0329,-322.6874 247.3801,-313.1559\"/>\n<polygon fill=\"#000000\" stroke=\"#000000\" points=\"249.5017,-310.3577 239.7155,-306.2981 244.8341,-315.5744 249.5017,-310.3577\"/>\n</g>\n<!-- 21 -->\n<g id=\"node22\" class=\"node\">\n<title>21</title>\n<polygon fill=\"#e58139\" stroke=\"#000000\" points=\"384,-298.5 272,-298.5 272,-230.5 384,-230.5 384,-298.5\"/>\n<text text-anchor=\"middle\" x=\"328\" y=\"-283.3\" font-family=\"Times,serif\" font-size=\"14.00\" fill=\"#000000\">gini = 0.0</text>\n<text text-anchor=\"middle\" x=\"328\" y=\"-268.3\" font-family=\"Times,serif\" font-size=\"14.00\" fill=\"#000000\">samples = 4</text>\n<text text-anchor=\"middle\" x=\"328\" y=\"-253.3\" font-family=\"Times,serif\" font-size=\"14.00\" fill=\"#000000\">value = [4, 0]</text>\n<text text-anchor=\"middle\" x=\"328\" y=\"-238.3\" font-family=\"Times,serif\" font-size=\"14.00\" fill=\"#000000\">class = NO_ICU</text>\n</g>\n<!-- 17&#45;&gt;21 -->\n<g id=\"edge21\" class=\"edge\">\n<title>17&#45;&gt;21</title>\n<path fill=\"none\" stroke=\"#000000\" d=\"M326.6995,-341.8796C326.8788,-331.2134 327.0722,-319.7021 327.2538,-308.9015\"/>\n<polygon fill=\"#000000\" stroke=\"#000000\" points=\"330.7546,-308.8724 327.4233,-298.8149 323.7556,-308.7547 330.7546,-308.8724\"/>\n</g>\n<!-- 19 -->\n<g id=\"node20\" class=\"node\">\n<title>19</title>\n<polygon fill=\"#399de5\" stroke=\"#000000\" points=\"184,-179.5 72,-179.5 72,-111.5 184,-111.5 184,-179.5\"/>\n<text text-anchor=\"middle\" x=\"128\" y=\"-164.3\" font-family=\"Times,serif\" font-size=\"14.00\" fill=\"#000000\">gini = 0.0</text>\n<text text-anchor=\"middle\" x=\"128\" y=\"-149.3\" font-family=\"Times,serif\" font-size=\"14.00\" fill=\"#000000\">samples = 4</text>\n<text text-anchor=\"middle\" x=\"128\" y=\"-134.3\" font-family=\"Times,serif\" font-size=\"14.00\" fill=\"#000000\">value = [0, 4]</text>\n<text text-anchor=\"middle\" x=\"128\" y=\"-119.3\" font-family=\"Times,serif\" font-size=\"14.00\" fill=\"#000000\">class = GO_ICU</text>\n</g>\n<!-- 18&#45;&gt;19 -->\n<g id=\"edge19\" class=\"edge\">\n<title>18&#45;&gt;19</title>\n<path fill=\"none\" stroke=\"#000000\" d=\"M170.2662,-222.8796C164.2599,-211.8835 157.763,-199.9893 151.7067,-188.9015\"/>\n<polygon fill=\"#000000\" stroke=\"#000000\" points=\"154.6088,-186.9133 146.7435,-179.8149 148.4655,-190.2689 154.6088,-186.9133\"/>\n</g>\n<!-- 20 -->\n<g id=\"node21\" class=\"node\">\n<title>20</title>\n<polygon fill=\"#e58139\" stroke=\"#000000\" points=\"314,-179.5 202,-179.5 202,-111.5 314,-111.5 314,-179.5\"/>\n<text text-anchor=\"middle\" x=\"258\" y=\"-164.3\" font-family=\"Times,serif\" font-size=\"14.00\" fill=\"#000000\">gini = 0.0</text>\n<text text-anchor=\"middle\" x=\"258\" y=\"-149.3\" font-family=\"Times,serif\" font-size=\"14.00\" fill=\"#000000\">samples = 1</text>\n<text text-anchor=\"middle\" x=\"258\" y=\"-134.3\" font-family=\"Times,serif\" font-size=\"14.00\" fill=\"#000000\">value = [1, 0]</text>\n<text text-anchor=\"middle\" x=\"258\" y=\"-119.3\" font-family=\"Times,serif\" font-size=\"14.00\" fill=\"#000000\">class = NO_ICU</text>\n</g>\n<!-- 18&#45;&gt;20 -->\n<g id=\"edge20\" class=\"edge\">\n<title>18&#45;&gt;20</title>\n<path fill=\"none\" stroke=\"#000000\" d=\"M215.7338,-222.8796C221.7401,-211.8835 228.237,-199.9893 234.2933,-188.9015\"/>\n<polygon fill=\"#000000\" stroke=\"#000000\" points=\"237.5345,-190.2689 239.2565,-179.8149 231.3912,-186.9133 237.5345,-190.2689\"/>\n</g>\n<!-- 23 -->\n<g id=\"node24\" class=\"node\">\n<title>23</title>\n<polygon fill=\"#399de5\" stroke=\"#000000\" points=\"513,-536.5 401,-536.5 401,-468.5 513,-468.5 513,-536.5\"/>\n<text text-anchor=\"middle\" x=\"457\" y=\"-521.3\" font-family=\"Times,serif\" font-size=\"14.00\" fill=\"#000000\">gini = 0.0</text>\n<text text-anchor=\"middle\" x=\"457\" y=\"-506.3\" font-family=\"Times,serif\" font-size=\"14.00\" fill=\"#000000\">samples = 1</text>\n<text text-anchor=\"middle\" x=\"457\" y=\"-491.3\" font-family=\"Times,serif\" font-size=\"14.00\" fill=\"#000000\">value = [0, 1]</text>\n<text text-anchor=\"middle\" x=\"457\" y=\"-476.3\" font-family=\"Times,serif\" font-size=\"14.00\" fill=\"#000000\">class = GO_ICU</text>\n</g>\n<!-- 22&#45;&gt;23 -->\n<g id=\"edge23\" class=\"edge\">\n<title>22&#45;&gt;23</title>\n<path fill=\"none\" stroke=\"#000000\" d=\"M457.6502,-579.8796C457.5606,-569.2134 457.4639,-557.7021 457.3731,-546.9015\"/>\n<polygon fill=\"#000000\" stroke=\"#000000\" points=\"460.8724,-546.7851 457.2884,-536.8149 453.8726,-546.844 460.8724,-546.7851\"/>\n</g>\n<!-- 24 -->\n<g id=\"node25\" class=\"node\">\n<title>24</title>\n<polygon fill=\"#e68742\" stroke=\"#000000\" points=\"652.5,-544 531.5,-544 531.5,-461 652.5,-461 652.5,-544\"/>\n<text text-anchor=\"middle\" x=\"592\" y=\"-528.8\" font-family=\"Times,serif\" font-size=\"14.00\" fill=\"#000000\">X[128] &lt;= &#45;0.997</text>\n<text text-anchor=\"middle\" x=\"592\" y=\"-513.8\" font-family=\"Times,serif\" font-size=\"14.00\" fill=\"#000000\">gini = 0.081</text>\n<text text-anchor=\"middle\" x=\"592\" y=\"-498.8\" font-family=\"Times,serif\" font-size=\"14.00\" fill=\"#000000\">samples = 94</text>\n<text text-anchor=\"middle\" x=\"592\" y=\"-483.8\" font-family=\"Times,serif\" font-size=\"14.00\" fill=\"#000000\">value = [90, 4]</text>\n<text text-anchor=\"middle\" x=\"592\" y=\"-468.8\" font-family=\"Times,serif\" font-size=\"14.00\" fill=\"#000000\">class = NO_ICU</text>\n</g>\n<!-- 22&#45;&gt;24 -->\n<g id=\"edge24\" class=\"edge\">\n<title>22&#45;&gt;24</title>\n<path fill=\"none\" stroke=\"#000000\" d=\"M504.8667,-579.8796C515.3125,-570.6031 526.4781,-560.6874 537.211,-551.1559\"/>\n<polygon fill=\"#000000\" stroke=\"#000000\" points=\"539.7801,-553.5553 544.9333,-544.2981 535.132,-548.3213 539.7801,-553.5553\"/>\n</g>\n<!-- 25 -->\n<g id=\"node26\" class=\"node\">\n<title>25</title>\n<polygon fill=\"#efb388\" stroke=\"#000000\" points=\"649,-425 533,-425 533,-342 649,-342 649,-425\"/>\n<text text-anchor=\"middle\" x=\"591\" y=\"-409.8\" font-family=\"Times,serif\" font-size=\"14.00\" fill=\"#000000\">X[203] &lt;= 0.125</text>\n<text text-anchor=\"middle\" x=\"591\" y=\"-394.8\" font-family=\"Times,serif\" font-size=\"14.00\" fill=\"#000000\">gini = 0.408</text>\n<text text-anchor=\"middle\" x=\"591\" y=\"-379.8\" font-family=\"Times,serif\" font-size=\"14.00\" fill=\"#000000\">samples = 7</text>\n<text text-anchor=\"middle\" x=\"591\" y=\"-364.8\" font-family=\"Times,serif\" font-size=\"14.00\" fill=\"#000000\">value = [5, 2]</text>\n<text text-anchor=\"middle\" x=\"591\" y=\"-349.8\" font-family=\"Times,serif\" font-size=\"14.00\" fill=\"#000000\">class = NO_ICU</text>\n</g>\n<!-- 24&#45;&gt;25 -->\n<g id=\"edge25\" class=\"edge\">\n<title>24&#45;&gt;25</title>\n<path fill=\"none\" stroke=\"#000000\" d=\"M591.6502,-460.8796C591.5814,-452.6838 591.5083,-443.9891 591.437,-435.5013\"/>\n<polygon fill=\"#000000\" stroke=\"#000000\" points=\"594.9352,-435.2683 591.3512,-425.2981 587.9355,-435.3272 594.9352,-435.2683\"/>\n</g>\n<!-- 28 -->\n<g id=\"node29\" class=\"node\">\n<title>28</title>\n<polygon fill=\"#e6843e\" stroke=\"#000000\" points=\"788.5,-425 667.5,-425 667.5,-342 788.5,-342 788.5,-425\"/>\n<text text-anchor=\"middle\" x=\"728\" y=\"-409.8\" font-family=\"Times,serif\" font-size=\"14.00\" fill=\"#000000\">X[126] &lt;= &#45;0.656</text>\n<text text-anchor=\"middle\" x=\"728\" y=\"-394.8\" font-family=\"Times,serif\" font-size=\"14.00\" fill=\"#000000\">gini = 0.045</text>\n<text text-anchor=\"middle\" x=\"728\" y=\"-379.8\" font-family=\"Times,serif\" font-size=\"14.00\" fill=\"#000000\">samples = 87</text>\n<text text-anchor=\"middle\" x=\"728\" y=\"-364.8\" font-family=\"Times,serif\" font-size=\"14.00\" fill=\"#000000\">value = [85, 2]</text>\n<text text-anchor=\"middle\" x=\"728\" y=\"-349.8\" font-family=\"Times,serif\" font-size=\"14.00\" fill=\"#000000\">class = NO_ICU</text>\n</g>\n<!-- 24&#45;&gt;28 -->\n<g id=\"edge28\" class=\"edge\">\n<title>24&#45;&gt;28</title>\n<path fill=\"none\" stroke=\"#000000\" d=\"M639.5662,-460.8796C650.1679,-451.6031 661.5002,-441.6874 672.3933,-432.1559\"/>\n<polygon fill=\"#000000\" stroke=\"#000000\" points=\"675.0098,-434.5172 680.2308,-425.2981 670.4002,-429.2491 675.0098,-434.5172\"/>\n</g>\n<!-- 26 -->\n<g id=\"node27\" class=\"node\">\n<title>26</title>\n<polygon fill=\"#e58139\" stroke=\"#000000\" points=\"519,-298.5 407,-298.5 407,-230.5 519,-230.5 519,-298.5\"/>\n<text text-anchor=\"middle\" x=\"463\" y=\"-283.3\" font-family=\"Times,serif\" font-size=\"14.00\" fill=\"#000000\">gini = 0.0</text>\n<text text-anchor=\"middle\" x=\"463\" y=\"-268.3\" font-family=\"Times,serif\" font-size=\"14.00\" fill=\"#000000\">samples = 5</text>\n<text text-anchor=\"middle\" x=\"463\" y=\"-253.3\" font-family=\"Times,serif\" font-size=\"14.00\" fill=\"#000000\">value = [5, 0]</text>\n<text text-anchor=\"middle\" x=\"463\" y=\"-238.3\" font-family=\"Times,serif\" font-size=\"14.00\" fill=\"#000000\">class = NO_ICU</text>\n</g>\n<!-- 25&#45;&gt;26 -->\n<g id=\"edge26\" class=\"edge\">\n<title>25&#45;&gt;26</title>\n<path fill=\"none\" stroke=\"#000000\" d=\"M546.2318,-341.8796C533.6944,-330.2237 520.0716,-317.5587 507.547,-305.9148\"/>\n<polygon fill=\"#000000\" stroke=\"#000000\" points=\"509.6172,-303.0605 499.9102,-298.8149 504.8509,-308.1872 509.6172,-303.0605\"/>\n</g>\n<!-- 27 -->\n<g id=\"node28\" class=\"node\">\n<title>27</title>\n<polygon fill=\"#399de5\" stroke=\"#000000\" points=\"649,-298.5 537,-298.5 537,-230.5 649,-230.5 649,-298.5\"/>\n<text text-anchor=\"middle\" x=\"593\" y=\"-283.3\" font-family=\"Times,serif\" font-size=\"14.00\" fill=\"#000000\">gini = 0.0</text>\n<text text-anchor=\"middle\" x=\"593\" y=\"-268.3\" font-family=\"Times,serif\" font-size=\"14.00\" fill=\"#000000\">samples = 2</text>\n<text text-anchor=\"middle\" x=\"593\" y=\"-253.3\" font-family=\"Times,serif\" font-size=\"14.00\" fill=\"#000000\">value = [0, 2]</text>\n<text text-anchor=\"middle\" x=\"593\" y=\"-238.3\" font-family=\"Times,serif\" font-size=\"14.00\" fill=\"#000000\">class = GO_ICU</text>\n</g>\n<!-- 25&#45;&gt;27 -->\n<g id=\"edge27\" class=\"edge\">\n<title>25&#45;&gt;27</title>\n<path fill=\"none\" stroke=\"#000000\" d=\"M591.6995,-341.8796C591.8788,-331.2134 592.0722,-319.7021 592.2538,-308.9015\"/>\n<polygon fill=\"#000000\" stroke=\"#000000\" points=\"595.7546,-308.8724 592.4233,-298.8149 588.7556,-308.7547 595.7546,-308.8724\"/>\n</g>\n<!-- 29 -->\n<g id=\"node30\" class=\"node\">\n<title>29</title>\n<polygon fill=\"#e5823b\" stroke=\"#000000\" points=\"783.5,-306 670.5,-306 670.5,-223 783.5,-223 783.5,-306\"/>\n<text text-anchor=\"middle\" x=\"727\" y=\"-290.8\" font-family=\"Times,serif\" font-size=\"14.00\" fill=\"#000000\">X[70] &lt;= &#45;0.804</text>\n<text text-anchor=\"middle\" x=\"727\" y=\"-275.8\" font-family=\"Times,serif\" font-size=\"14.00\" fill=\"#000000\">gini = 0.023</text>\n<text text-anchor=\"middle\" x=\"727\" y=\"-260.8\" font-family=\"Times,serif\" font-size=\"14.00\" fill=\"#000000\">samples = 85</text>\n<text text-anchor=\"middle\" x=\"727\" y=\"-245.8\" font-family=\"Times,serif\" font-size=\"14.00\" fill=\"#000000\">value = [84, 1]</text>\n<text text-anchor=\"middle\" x=\"727\" y=\"-230.8\" font-family=\"Times,serif\" font-size=\"14.00\" fill=\"#000000\">class = NO_ICU</text>\n</g>\n<!-- 28&#45;&gt;29 -->\n<g id=\"edge29\" class=\"edge\">\n<title>28&#45;&gt;29</title>\n<path fill=\"none\" stroke=\"#000000\" d=\"M727.6502,-341.8796C727.5814,-333.6838 727.5083,-324.9891 727.437,-316.5013\"/>\n<polygon fill=\"#000000\" stroke=\"#000000\" points=\"730.9352,-316.2683 727.3512,-306.2981 723.9355,-316.3272 730.9352,-316.2683\"/>\n</g>\n<!-- 34 -->\n<g id=\"node35\" class=\"node\">\n<title>34</title>\n<polygon fill=\"#ffffff\" stroke=\"#000000\" points=\"922.5,-306 801.5,-306 801.5,-223 922.5,-223 922.5,-306\"/>\n<text text-anchor=\"middle\" x=\"862\" y=\"-290.8\" font-family=\"Times,serif\" font-size=\"14.00\" fill=\"#000000\">X[160] &lt;= &#45;0.346</text>\n<text text-anchor=\"middle\" x=\"862\" y=\"-275.8\" font-family=\"Times,serif\" font-size=\"14.00\" fill=\"#000000\">gini = 0.5</text>\n<text text-anchor=\"middle\" x=\"862\" y=\"-260.8\" font-family=\"Times,serif\" font-size=\"14.00\" fill=\"#000000\">samples = 2</text>\n<text text-anchor=\"middle\" x=\"862\" y=\"-245.8\" font-family=\"Times,serif\" font-size=\"14.00\" fill=\"#000000\">value = [1, 1]</text>\n<text text-anchor=\"middle\" x=\"862\" y=\"-230.8\" font-family=\"Times,serif\" font-size=\"14.00\" fill=\"#000000\">class = NO_ICU</text>\n</g>\n<!-- 28&#45;&gt;34 -->\n<g id=\"edge34\" class=\"edge\">\n<title>28&#45;&gt;34</title>\n<path fill=\"none\" stroke=\"#000000\" d=\"M774.8667,-341.8796C785.3125,-332.6031 796.4781,-322.6874 807.211,-313.1559\"/>\n<polygon fill=\"#000000\" stroke=\"#000000\" points=\"809.7801,-315.5553 814.9333,-306.2981 805.132,-310.3213 809.7801,-315.5553\"/>\n</g>\n<!-- 30 -->\n<g id=\"node31\" class=\"node\">\n<title>30</title>\n<polygon fill=\"#e58139\" stroke=\"#000000\" points=\"648,-179.5 536,-179.5 536,-111.5 648,-111.5 648,-179.5\"/>\n<text text-anchor=\"middle\" x=\"592\" y=\"-164.3\" font-family=\"Times,serif\" font-size=\"14.00\" fill=\"#000000\">gini = 0.0</text>\n<text text-anchor=\"middle\" x=\"592\" y=\"-149.3\" font-family=\"Times,serif\" font-size=\"14.00\" fill=\"#000000\">samples = 79</text>\n<text text-anchor=\"middle\" x=\"592\" y=\"-134.3\" font-family=\"Times,serif\" font-size=\"14.00\" fill=\"#000000\">value = [79, 0]</text>\n<text text-anchor=\"middle\" x=\"592\" y=\"-119.3\" font-family=\"Times,serif\" font-size=\"14.00\" fill=\"#000000\">class = NO_ICU</text>\n</g>\n<!-- 29&#45;&gt;30 -->\n<g id=\"edge30\" class=\"edge\">\n<title>29&#45;&gt;30</title>\n<path fill=\"none\" stroke=\"#000000\" d=\"M679.7836,-222.8796C666.4358,-211.1138 651.9215,-198.3197 638.6096,-186.5855\"/>\n<polygon fill=\"#000000\" stroke=\"#000000\" points=\"640.7448,-183.8019 630.9287,-179.8149 636.116,-189.0531 640.7448,-183.8019\"/>\n</g>\n<!-- 31 -->\n<g id=\"node32\" class=\"node\">\n<title>31</title>\n<polygon fill=\"#ea9a61\" stroke=\"#000000\" points=\"787.5,-187 666.5,-187 666.5,-104 787.5,-104 787.5,-187\"/>\n<text text-anchor=\"middle\" x=\"727\" y=\"-171.8\" font-family=\"Times,serif\" font-size=\"14.00\" fill=\"#000000\">X[194] &lt;= &#45;0.569</text>\n<text text-anchor=\"middle\" x=\"727\" y=\"-156.8\" font-family=\"Times,serif\" font-size=\"14.00\" fill=\"#000000\">gini = 0.278</text>\n<text text-anchor=\"middle\" x=\"727\" y=\"-141.8\" font-family=\"Times,serif\" font-size=\"14.00\" fill=\"#000000\">samples = 6</text>\n<text text-anchor=\"middle\" x=\"727\" y=\"-126.8\" font-family=\"Times,serif\" font-size=\"14.00\" fill=\"#000000\">value = [5, 1]</text>\n<text text-anchor=\"middle\" x=\"727\" y=\"-111.8\" font-family=\"Times,serif\" font-size=\"14.00\" fill=\"#000000\">class = NO_ICU</text>\n</g>\n<!-- 29&#45;&gt;31 -->\n<g id=\"edge31\" class=\"edge\">\n<title>29&#45;&gt;31</title>\n<path fill=\"none\" stroke=\"#000000\" d=\"M727,-222.8796C727,-214.6838 727,-205.9891 727,-197.5013\"/>\n<polygon fill=\"#000000\" stroke=\"#000000\" points=\"730.5001,-197.298 727,-187.2981 723.5001,-197.2981 730.5001,-197.298\"/>\n</g>\n<!-- 32 -->\n<g id=\"node33\" class=\"node\">\n<title>32</title>\n<polygon fill=\"#399de5\" stroke=\"#000000\" points=\"718,-68 606,-68 606,0 718,0 718,-68\"/>\n<text text-anchor=\"middle\" x=\"662\" y=\"-52.8\" font-family=\"Times,serif\" font-size=\"14.00\" fill=\"#000000\">gini = 0.0</text>\n<text text-anchor=\"middle\" x=\"662\" y=\"-37.8\" font-family=\"Times,serif\" font-size=\"14.00\" fill=\"#000000\">samples = 1</text>\n<text text-anchor=\"middle\" x=\"662\" y=\"-22.8\" font-family=\"Times,serif\" font-size=\"14.00\" fill=\"#000000\">value = [0, 1]</text>\n<text text-anchor=\"middle\" x=\"662\" y=\"-7.8\" font-family=\"Times,serif\" font-size=\"14.00\" fill=\"#000000\">class = GO_ICU</text>\n</g>\n<!-- 31&#45;&gt;32 -->\n<g id=\"edge32\" class=\"edge\">\n<title>31&#45;&gt;32</title>\n<path fill=\"none\" stroke=\"#000000\" d=\"M702.7964,-103.9815C697.6529,-95.1585 692.2123,-85.8258 687.0384,-76.9506\"/>\n<polygon fill=\"#000000\" stroke=\"#000000\" points=\"690.0344,-75.1402 681.9743,-68.2637 683.987,-78.6656 690.0344,-75.1402\"/>\n</g>\n<!-- 33 -->\n<g id=\"node34\" class=\"node\">\n<title>33</title>\n<polygon fill=\"#e58139\" stroke=\"#000000\" points=\"848,-68 736,-68 736,0 848,0 848,-68\"/>\n<text text-anchor=\"middle\" x=\"792\" y=\"-52.8\" font-family=\"Times,serif\" font-size=\"14.00\" fill=\"#000000\">gini = 0.0</text>\n<text text-anchor=\"middle\" x=\"792\" y=\"-37.8\" font-family=\"Times,serif\" font-size=\"14.00\" fill=\"#000000\">samples = 5</text>\n<text text-anchor=\"middle\" x=\"792\" y=\"-22.8\" font-family=\"Times,serif\" font-size=\"14.00\" fill=\"#000000\">value = [5, 0]</text>\n<text text-anchor=\"middle\" x=\"792\" y=\"-7.8\" font-family=\"Times,serif\" font-size=\"14.00\" fill=\"#000000\">class = NO_ICU</text>\n</g>\n<!-- 31&#45;&gt;33 -->\n<g id=\"edge33\" class=\"edge\">\n<title>31&#45;&gt;33</title>\n<path fill=\"none\" stroke=\"#000000\" d=\"M751.2036,-103.9815C756.3471,-95.1585 761.7877,-85.8258 766.9616,-76.9506\"/>\n<polygon fill=\"#000000\" stroke=\"#000000\" points=\"770.013,-78.6656 772.0257,-68.2637 763.9656,-75.1402 770.013,-78.6656\"/>\n</g>\n<!-- 35 -->\n<g id=\"node36\" class=\"node\">\n<title>35</title>\n<polygon fill=\"#399de5\" stroke=\"#000000\" points=\"918,-179.5 806,-179.5 806,-111.5 918,-111.5 918,-179.5\"/>\n<text text-anchor=\"middle\" x=\"862\" y=\"-164.3\" font-family=\"Times,serif\" font-size=\"14.00\" fill=\"#000000\">gini = 0.0</text>\n<text text-anchor=\"middle\" x=\"862\" y=\"-149.3\" font-family=\"Times,serif\" font-size=\"14.00\" fill=\"#000000\">samples = 1</text>\n<text text-anchor=\"middle\" x=\"862\" y=\"-134.3\" font-family=\"Times,serif\" font-size=\"14.00\" fill=\"#000000\">value = [0, 1]</text>\n<text text-anchor=\"middle\" x=\"862\" y=\"-119.3\" font-family=\"Times,serif\" font-size=\"14.00\" fill=\"#000000\">class = GO_ICU</text>\n</g>\n<!-- 34&#45;&gt;35 -->\n<g id=\"edge35\" class=\"edge\">\n<title>34&#45;&gt;35</title>\n<path fill=\"none\" stroke=\"#000000\" d=\"M862,-222.8796C862,-212.2134 862,-200.7021 862,-189.9015\"/>\n<polygon fill=\"#000000\" stroke=\"#000000\" points=\"865.5001,-189.8149 862,-179.8149 858.5001,-189.815 865.5001,-189.8149\"/>\n</g>\n<!-- 36 -->\n<g id=\"node37\" class=\"node\">\n<title>36</title>\n<polygon fill=\"#e58139\" stroke=\"#000000\" points=\"1048,-179.5 936,-179.5 936,-111.5 1048,-111.5 1048,-179.5\"/>\n<text text-anchor=\"middle\" x=\"992\" y=\"-164.3\" font-family=\"Times,serif\" font-size=\"14.00\" fill=\"#000000\">gini = 0.0</text>\n<text text-anchor=\"middle\" x=\"992\" y=\"-149.3\" font-family=\"Times,serif\" font-size=\"14.00\" fill=\"#000000\">samples = 1</text>\n<text text-anchor=\"middle\" x=\"992\" y=\"-134.3\" font-family=\"Times,serif\" font-size=\"14.00\" fill=\"#000000\">value = [1, 0]</text>\n<text text-anchor=\"middle\" x=\"992\" y=\"-119.3\" font-family=\"Times,serif\" font-size=\"14.00\" fill=\"#000000\">class = NO_ICU</text>\n</g>\n<!-- 34&#45;&gt;36 -->\n<g id=\"edge36\" class=\"edge\">\n<title>34&#45;&gt;36</title>\n<path fill=\"none\" stroke=\"#000000\" d=\"M907.4677,-222.8796C920.3211,-211.1138 934.2979,-198.3197 947.1166,-186.5855\"/>\n<polygon fill=\"#000000\" stroke=\"#000000\" points=\"949.5001,-189.1488 954.5131,-179.8149 944.7736,-183.9854 949.5001,-189.1488\"/>\n</g>\n<!-- 38 -->\n<g id=\"node39\" class=\"node\">\n<title>38</title>\n<polygon fill=\"#399de5\" stroke=\"#000000\" points=\"512,-893.5 400,-893.5 400,-825.5 512,-825.5 512,-893.5\"/>\n<text text-anchor=\"middle\" x=\"456\" y=\"-878.3\" font-family=\"Times,serif\" font-size=\"14.00\" fill=\"#000000\">gini = 0.0</text>\n<text text-anchor=\"middle\" x=\"456\" y=\"-863.3\" font-family=\"Times,serif\" font-size=\"14.00\" fill=\"#000000\">samples = 5</text>\n<text text-anchor=\"middle\" x=\"456\" y=\"-848.3\" font-family=\"Times,serif\" font-size=\"14.00\" fill=\"#000000\">value = [0, 5]</text>\n<text text-anchor=\"middle\" x=\"456\" y=\"-833.3\" font-family=\"Times,serif\" font-size=\"14.00\" fill=\"#000000\">class = GO_ICU</text>\n</g>\n<!-- 37&#45;&gt;38 -->\n<g id=\"edge38\" class=\"edge\">\n<title>37&#45;&gt;38</title>\n<path fill=\"none\" stroke=\"#000000\" d=\"M458.601,-936.8796C458.2425,-926.2134 457.8555,-914.7021 457.4925,-903.9015\"/>\n<polygon fill=\"#000000\" stroke=\"#000000\" points=\"460.9875,-903.6917 457.1534,-893.8149 453.9915,-903.9269 460.9875,-903.6917\"/>\n</g>\n<!-- 39 -->\n<g id=\"node40\" class=\"node\">\n<title>39</title>\n<polygon fill=\"#f0b78e\" stroke=\"#000000\" points=\"651.5,-901 530.5,-901 530.5,-818 651.5,-818 651.5,-901\"/>\n<text text-anchor=\"middle\" x=\"591\" y=\"-885.8\" font-family=\"Times,serif\" font-size=\"14.00\" fill=\"#000000\">X[103] &lt;= &#45;0.831</text>\n<text text-anchor=\"middle\" x=\"591\" y=\"-870.8\" font-family=\"Times,serif\" font-size=\"14.00\" fill=\"#000000\">gini = 0.42</text>\n<text text-anchor=\"middle\" x=\"591\" y=\"-855.8\" font-family=\"Times,serif\" font-size=\"14.00\" fill=\"#000000\">samples = 10</text>\n<text text-anchor=\"middle\" x=\"591\" y=\"-840.8\" font-family=\"Times,serif\" font-size=\"14.00\" fill=\"#000000\">value = [7, 3]</text>\n<text text-anchor=\"middle\" x=\"591\" y=\"-825.8\" font-family=\"Times,serif\" font-size=\"14.00\" fill=\"#000000\">class = NO_ICU</text>\n</g>\n<!-- 37&#45;&gt;39 -->\n<g id=\"edge39\" class=\"edge\">\n<title>37&#45;&gt;39</title>\n<path fill=\"none\" stroke=\"#000000\" d=\"M505.8174,-936.8796C516.0294,-927.6031 526.945,-917.6874 537.4376,-908.1559\"/>\n<polygon fill=\"#000000\" stroke=\"#000000\" points=\"539.9384,-910.6127 544.987,-901.2981 535.2316,-905.4313 539.9384,-910.6127\"/>\n</g>\n<!-- 40 -->\n<g id=\"node41\" class=\"node\">\n<title>40</title>\n<polygon fill=\"#e58139\" stroke=\"#000000\" points=\"642,-774.5 530,-774.5 530,-706.5 642,-706.5 642,-774.5\"/>\n<text text-anchor=\"middle\" x=\"586\" y=\"-759.3\" font-family=\"Times,serif\" font-size=\"14.00\" fill=\"#000000\">gini = 0.0</text>\n<text text-anchor=\"middle\" x=\"586\" y=\"-744.3\" font-family=\"Times,serif\" font-size=\"14.00\" fill=\"#000000\">samples = 6</text>\n<text text-anchor=\"middle\" x=\"586\" y=\"-729.3\" font-family=\"Times,serif\" font-size=\"14.00\" fill=\"#000000\">value = [6, 0]</text>\n<text text-anchor=\"middle\" x=\"586\" y=\"-714.3\" font-family=\"Times,serif\" font-size=\"14.00\" fill=\"#000000\">class = NO_ICU</text>\n</g>\n<!-- 39&#45;&gt;40 -->\n<g id=\"edge40\" class=\"edge\">\n<title>39&#45;&gt;40</title>\n<path fill=\"none\" stroke=\"#000000\" d=\"M589.2512,-817.8796C588.8031,-807.2134 588.3194,-795.7021 587.8656,-784.9015\"/>\n<polygon fill=\"#000000\" stroke=\"#000000\" points=\"591.3586,-784.6592 587.4418,-774.8149 584.3648,-784.9531 591.3586,-784.6592\"/>\n</g>\n<!-- 41 -->\n<g id=\"node42\" class=\"node\">\n<title>41</title>\n<polygon fill=\"#7bbeee\" stroke=\"#000000\" points=\"780,-782 660,-782 660,-699 780,-699 780,-782\"/>\n<text text-anchor=\"middle\" x=\"720\" y=\"-766.8\" font-family=\"Times,serif\" font-size=\"14.00\" fill=\"#000000\">X[149] &lt;= &#45;0.611</text>\n<text text-anchor=\"middle\" x=\"720\" y=\"-751.8\" font-family=\"Times,serif\" font-size=\"14.00\" fill=\"#000000\">gini = 0.375</text>\n<text text-anchor=\"middle\" x=\"720\" y=\"-736.8\" font-family=\"Times,serif\" font-size=\"14.00\" fill=\"#000000\">samples = 4</text>\n<text text-anchor=\"middle\" x=\"720\" y=\"-721.8\" font-family=\"Times,serif\" font-size=\"14.00\" fill=\"#000000\">value = [1, 3]</text>\n<text text-anchor=\"middle\" x=\"720\" y=\"-706.8\" font-family=\"Times,serif\" font-size=\"14.00\" fill=\"#000000\">class = GO_ICU</text>\n</g>\n<!-- 39&#45;&gt;41 -->\n<g id=\"edge41\" class=\"edge\">\n<title>39&#45;&gt;41</title>\n<path fill=\"none\" stroke=\"#000000\" d=\"M636.1179,-817.8796C646.174,-808.6031 656.923,-798.6874 667.2554,-789.1559\"/>\n<polygon fill=\"#000000\" stroke=\"#000000\" points=\"669.7124,-791.6511 674.6895,-782.2981 664.9661,-786.506 669.7124,-791.6511\"/>\n</g>\n<!-- 42 -->\n<g id=\"node43\" class=\"node\">\n<title>42</title>\n<polygon fill=\"#e58139\" stroke=\"#000000\" points=\"648,-655.5 536,-655.5 536,-587.5 648,-587.5 648,-655.5\"/>\n<text text-anchor=\"middle\" x=\"592\" y=\"-640.3\" font-family=\"Times,serif\" font-size=\"14.00\" fill=\"#000000\">gini = 0.0</text>\n<text text-anchor=\"middle\" x=\"592\" y=\"-625.3\" font-family=\"Times,serif\" font-size=\"14.00\" fill=\"#000000\">samples = 1</text>\n<text text-anchor=\"middle\" x=\"592\" y=\"-610.3\" font-family=\"Times,serif\" font-size=\"14.00\" fill=\"#000000\">value = [1, 0]</text>\n<text text-anchor=\"middle\" x=\"592\" y=\"-595.3\" font-family=\"Times,serif\" font-size=\"14.00\" fill=\"#000000\">class = NO_ICU</text>\n</g>\n<!-- 41&#45;&gt;42 -->\n<g id=\"edge42\" class=\"edge\">\n<title>41&#45;&gt;42</title>\n<path fill=\"none\" stroke=\"#000000\" d=\"M675.2318,-698.8796C662.6944,-687.2237 649.0716,-674.5587 636.547,-662.9148\"/>\n<polygon fill=\"#000000\" stroke=\"#000000\" points=\"638.6172,-660.0605 628.9102,-655.8149 633.8509,-665.1872 638.6172,-660.0605\"/>\n</g>\n<!-- 43 -->\n<g id=\"node44\" class=\"node\">\n<title>43</title>\n<polygon fill=\"#399de5\" stroke=\"#000000\" points=\"778,-655.5 666,-655.5 666,-587.5 778,-587.5 778,-655.5\"/>\n<text text-anchor=\"middle\" x=\"722\" y=\"-640.3\" font-family=\"Times,serif\" font-size=\"14.00\" fill=\"#000000\">gini = 0.0</text>\n<text text-anchor=\"middle\" x=\"722\" y=\"-625.3\" font-family=\"Times,serif\" font-size=\"14.00\" fill=\"#000000\">samples = 3</text>\n<text text-anchor=\"middle\" x=\"722\" y=\"-610.3\" font-family=\"Times,serif\" font-size=\"14.00\" fill=\"#000000\">value = [0, 3]</text>\n<text text-anchor=\"middle\" x=\"722\" y=\"-595.3\" font-family=\"Times,serif\" font-size=\"14.00\" fill=\"#000000\">class = GO_ICU</text>\n</g>\n<!-- 41&#45;&gt;43 -->\n<g id=\"edge43\" class=\"edge\">\n<title>41&#45;&gt;43</title>\n<path fill=\"none\" stroke=\"#000000\" d=\"M720.6995,-698.8796C720.8788,-688.2134 721.0722,-676.7021 721.2538,-665.9015\"/>\n<polygon fill=\"#000000\" stroke=\"#000000\" points=\"724.7546,-665.8724 721.4233,-655.8149 717.7556,-665.7547 724.7546,-665.8724\"/>\n</g>\n<!-- 46 -->\n<g id=\"node47\" class=\"node\">\n<title>46</title>\n<polygon fill=\"#f2c09c\" stroke=\"#000000\" points=\"783.5,-1258 670.5,-1258 670.5,-1175 783.5,-1175 783.5,-1258\"/>\n<text text-anchor=\"middle\" x=\"727\" y=\"-1242.8\" font-family=\"Times,serif\" font-size=\"14.00\" fill=\"#000000\">X[69] &lt;= &#45;0.862</text>\n<text text-anchor=\"middle\" x=\"727\" y=\"-1227.8\" font-family=\"Times,serif\" font-size=\"14.00\" fill=\"#000000\">gini = 0.444</text>\n<text text-anchor=\"middle\" x=\"727\" y=\"-1212.8\" font-family=\"Times,serif\" font-size=\"14.00\" fill=\"#000000\">samples = 12</text>\n<text text-anchor=\"middle\" x=\"727\" y=\"-1197.8\" font-family=\"Times,serif\" font-size=\"14.00\" fill=\"#000000\">value = [8, 4]</text>\n<text text-anchor=\"middle\" x=\"727\" y=\"-1182.8\" font-family=\"Times,serif\" font-size=\"14.00\" fill=\"#000000\">class = NO_ICU</text>\n</g>\n<!-- 45&#45;&gt;46 -->\n<g id=\"edge46\" class=\"edge\">\n<title>45&#45;&gt;46</title>\n<path fill=\"none\" stroke=\"#000000\" d=\"M771.2169,-1293.8796C766.2763,-1285.2335 761.0184,-1276.0322 755.9167,-1267.1042\"/>\n<polygon fill=\"#000000\" stroke=\"#000000\" points=\"758.8849,-1265.244 750.8846,-1258.2981 752.8072,-1268.717 758.8849,-1265.244\"/>\n</g>\n<!-- 51 -->\n<g id=\"node52\" class=\"node\">\n<title>51</title>\n<polygon fill=\"#64b2eb\" stroke=\"#000000\" points=\"983.5,-1258 862.5,-1258 862.5,-1175 983.5,-1175 983.5,-1258\"/>\n<text text-anchor=\"middle\" x=\"923\" y=\"-1242.8\" font-family=\"Times,serif\" font-size=\"14.00\" fill=\"#000000\">X[191] &lt;= &#45;0.881</text>\n<text text-anchor=\"middle\" x=\"923\" y=\"-1227.8\" font-family=\"Times,serif\" font-size=\"14.00\" fill=\"#000000\">gini = 0.295</text>\n<text text-anchor=\"middle\" x=\"923\" y=\"-1212.8\" font-family=\"Times,serif\" font-size=\"14.00\" fill=\"#000000\">samples = 39</text>\n<text text-anchor=\"middle\" x=\"923\" y=\"-1197.8\" font-family=\"Times,serif\" font-size=\"14.00\" fill=\"#000000\">value = [7, 32]</text>\n<text text-anchor=\"middle\" x=\"923\" y=\"-1182.8\" font-family=\"Times,serif\" font-size=\"14.00\" fill=\"#000000\">class = GO_ICU</text>\n</g>\n<!-- 45&#45;&gt;51 -->\n<g id=\"edge51\" class=\"edge\">\n<title>45&#45;&gt;51</title>\n<path fill=\"none\" stroke=\"#000000\" d=\"M839.7682,-1293.8796C849.7463,-1284.6031 860.4119,-1274.6874 870.6642,-1265.1559\"/>\n<polygon fill=\"#000000\" stroke=\"#000000\" points=\"873.1,-1267.6704 878.0407,-1258.2981 868.3337,-1262.5436 873.1,-1267.6704\"/>\n</g>\n<!-- 47 -->\n<g id=\"node48\" class=\"node\">\n<title>47</title>\n<polygon fill=\"#e58139\" stroke=\"#000000\" points=\"653,-1131.5 541,-1131.5 541,-1063.5 653,-1063.5 653,-1131.5\"/>\n<text text-anchor=\"middle\" x=\"597\" y=\"-1116.3\" font-family=\"Times,serif\" font-size=\"14.00\" fill=\"#000000\">gini = 0.0</text>\n<text text-anchor=\"middle\" x=\"597\" y=\"-1101.3\" font-family=\"Times,serif\" font-size=\"14.00\" fill=\"#000000\">samples = 7</text>\n<text text-anchor=\"middle\" x=\"597\" y=\"-1086.3\" font-family=\"Times,serif\" font-size=\"14.00\" fill=\"#000000\">value = [7, 0]</text>\n<text text-anchor=\"middle\" x=\"597\" y=\"-1071.3\" font-family=\"Times,serif\" font-size=\"14.00\" fill=\"#000000\">class = NO_ICU</text>\n</g>\n<!-- 46&#45;&gt;47 -->\n<g id=\"edge47\" class=\"edge\">\n<title>46&#45;&gt;47</title>\n<path fill=\"none\" stroke=\"#000000\" d=\"M681.5323,-1174.8796C668.6789,-1163.1138 654.7021,-1150.3197 641.8834,-1138.5855\"/>\n<polygon fill=\"#000000\" stroke=\"#000000\" points=\"644.2264,-1135.9854 634.4869,-1131.8149 639.4999,-1141.1488 644.2264,-1135.9854\"/>\n</g>\n<!-- 48 -->\n<g id=\"node49\" class=\"node\">\n<title>48</title>\n<polygon fill=\"#6ab6ec\" stroke=\"#000000\" points=\"783,-1139 671,-1139 671,-1056 783,-1056 783,-1139\"/>\n<text text-anchor=\"middle\" x=\"727\" y=\"-1123.8\" font-family=\"Times,serif\" font-size=\"14.00\" fill=\"#000000\">X[79] &lt;= &#45;0.11</text>\n<text text-anchor=\"middle\" x=\"727\" y=\"-1108.8\" font-family=\"Times,serif\" font-size=\"14.00\" fill=\"#000000\">gini = 0.32</text>\n<text text-anchor=\"middle\" x=\"727\" y=\"-1093.8\" font-family=\"Times,serif\" font-size=\"14.00\" fill=\"#000000\">samples = 5</text>\n<text text-anchor=\"middle\" x=\"727\" y=\"-1078.8\" font-family=\"Times,serif\" font-size=\"14.00\" fill=\"#000000\">value = [1, 4]</text>\n<text text-anchor=\"middle\" x=\"727\" y=\"-1063.8\" font-family=\"Times,serif\" font-size=\"14.00\" fill=\"#000000\">class = GO_ICU</text>\n</g>\n<!-- 46&#45;&gt;48 -->\n<g id=\"edge48\" class=\"edge\">\n<title>46&#45;&gt;48</title>\n<path fill=\"none\" stroke=\"#000000\" d=\"M727,-1174.8796C727,-1166.6838 727,-1157.9891 727,-1149.5013\"/>\n<polygon fill=\"#000000\" stroke=\"#000000\" points=\"730.5001,-1149.298 727,-1139.2981 723.5001,-1149.2981 730.5001,-1149.298\"/>\n</g>\n<!-- 49 -->\n<g id=\"node50\" class=\"node\">\n<title>49</title>\n<polygon fill=\"#399de5\" stroke=\"#000000\" points=\"653,-1012.5 541,-1012.5 541,-944.5 653,-944.5 653,-1012.5\"/>\n<text text-anchor=\"middle\" x=\"597\" y=\"-997.3\" font-family=\"Times,serif\" font-size=\"14.00\" fill=\"#000000\">gini = 0.0</text>\n<text text-anchor=\"middle\" x=\"597\" y=\"-982.3\" font-family=\"Times,serif\" font-size=\"14.00\" fill=\"#000000\">samples = 4</text>\n<text text-anchor=\"middle\" x=\"597\" y=\"-967.3\" font-family=\"Times,serif\" font-size=\"14.00\" fill=\"#000000\">value = [0, 4]</text>\n<text text-anchor=\"middle\" x=\"597\" y=\"-952.3\" font-family=\"Times,serif\" font-size=\"14.00\" fill=\"#000000\">class = GO_ICU</text>\n</g>\n<!-- 48&#45;&gt;49 -->\n<g id=\"edge49\" class=\"edge\">\n<title>48&#45;&gt;49</title>\n<path fill=\"none\" stroke=\"#000000\" d=\"M681.5323,-1055.8796C668.6789,-1044.1138 654.7021,-1031.3197 641.8834,-1019.5855\"/>\n<polygon fill=\"#000000\" stroke=\"#000000\" points=\"644.2264,-1016.9854 634.4869,-1012.8149 639.4999,-1022.1488 644.2264,-1016.9854\"/>\n</g>\n<!-- 50 -->\n<g id=\"node51\" class=\"node\">\n<title>50</title>\n<polygon fill=\"#e58139\" stroke=\"#000000\" points=\"783,-1012.5 671,-1012.5 671,-944.5 783,-944.5 783,-1012.5\"/>\n<text text-anchor=\"middle\" x=\"727\" y=\"-997.3\" font-family=\"Times,serif\" font-size=\"14.00\" fill=\"#000000\">gini = 0.0</text>\n<text text-anchor=\"middle\" x=\"727\" y=\"-982.3\" font-family=\"Times,serif\" font-size=\"14.00\" fill=\"#000000\">samples = 1</text>\n<text text-anchor=\"middle\" x=\"727\" y=\"-967.3\" font-family=\"Times,serif\" font-size=\"14.00\" fill=\"#000000\">value = [1, 0]</text>\n<text text-anchor=\"middle\" x=\"727\" y=\"-952.3\" font-family=\"Times,serif\" font-size=\"14.00\" fill=\"#000000\">class = NO_ICU</text>\n</g>\n<!-- 48&#45;&gt;50 -->\n<g id=\"edge50\" class=\"edge\">\n<title>48&#45;&gt;50</title>\n<path fill=\"none\" stroke=\"#000000\" d=\"M727,-1055.8796C727,-1045.2134 727,-1033.7021 727,-1022.9015\"/>\n<polygon fill=\"#000000\" stroke=\"#000000\" points=\"730.5001,-1022.8149 727,-1012.8149 723.5001,-1022.815 730.5001,-1022.8149\"/>\n</g>\n<!-- 52 -->\n<g id=\"node53\" class=\"node\">\n<title>52</title>\n<polygon fill=\"#4ca6e8\" stroke=\"#000000\" points=\"981,-1139 865,-1139 865,-1056 981,-1056 981,-1139\"/>\n<text text-anchor=\"middle\" x=\"923\" y=\"-1123.8\" font-family=\"Times,serif\" font-size=\"14.00\" fill=\"#000000\">X[209] &lt;= 0.637</text>\n<text text-anchor=\"middle\" x=\"923\" y=\"-1108.8\" font-family=\"Times,serif\" font-size=\"14.00\" fill=\"#000000\">gini = 0.161</text>\n<text text-anchor=\"middle\" x=\"923\" y=\"-1093.8\" font-family=\"Times,serif\" font-size=\"14.00\" fill=\"#000000\">samples = 34</text>\n<text text-anchor=\"middle\" x=\"923\" y=\"-1078.8\" font-family=\"Times,serif\" font-size=\"14.00\" fill=\"#000000\">value = [3, 31]</text>\n<text text-anchor=\"middle\" x=\"923\" y=\"-1063.8\" font-family=\"Times,serif\" font-size=\"14.00\" fill=\"#000000\">class = GO_ICU</text>\n</g>\n<!-- 51&#45;&gt;52 -->\n<g id=\"edge52\" class=\"edge\">\n<title>51&#45;&gt;52</title>\n<path fill=\"none\" stroke=\"#000000\" d=\"M923,-1174.8796C923,-1166.6838 923,-1157.9891 923,-1149.5013\"/>\n<polygon fill=\"#000000\" stroke=\"#000000\" points=\"926.5001,-1149.298 923,-1139.2981 919.5001,-1149.2981 926.5001,-1149.298\"/>\n</g>\n<!-- 61 -->\n<g id=\"node62\" class=\"node\">\n<title>61</title>\n<polygon fill=\"#eca06a\" stroke=\"#000000\" points=\"1181.5,-1139 1060.5,-1139 1060.5,-1056 1181.5,-1056 1181.5,-1139\"/>\n<text text-anchor=\"middle\" x=\"1121\" y=\"-1123.8\" font-family=\"Times,serif\" font-size=\"14.00\" fill=\"#000000\">X[101] &lt;= &#45;0.823</text>\n<text text-anchor=\"middle\" x=\"1121\" y=\"-1108.8\" font-family=\"Times,serif\" font-size=\"14.00\" fill=\"#000000\">gini = 0.32</text>\n<text text-anchor=\"middle\" x=\"1121\" y=\"-1093.8\" font-family=\"Times,serif\" font-size=\"14.00\" fill=\"#000000\">samples = 5</text>\n<text text-anchor=\"middle\" x=\"1121\" y=\"-1078.8\" font-family=\"Times,serif\" font-size=\"14.00\" fill=\"#000000\">value = [4, 1]</text>\n<text text-anchor=\"middle\" x=\"1121\" y=\"-1063.8\" font-family=\"Times,serif\" font-size=\"14.00\" fill=\"#000000\">class = NO_ICU</text>\n</g>\n<!-- 51&#45;&gt;61 -->\n<g id=\"edge61\" class=\"edge\">\n<title>51&#45;&gt;61</title>\n<path fill=\"none\" stroke=\"#000000\" d=\"M983.7521,-1179.9874C1005.2283,-1167.0799 1029.5422,-1152.4671 1051.6756,-1139.1647\"/>\n<polygon fill=\"#000000\" stroke=\"#000000\" points=\"1053.5946,-1142.0949 1060.3628,-1133.9436 1049.9887,-1136.0951 1053.5946,-1142.0949\"/>\n</g>\n<!-- 53 -->\n<g id=\"node54\" class=\"node\">\n<title>53</title>\n<polygon fill=\"#46a3e7\" stroke=\"#000000\" points=\"917,-1020 801,-1020 801,-937 917,-937 917,-1020\"/>\n<text text-anchor=\"middle\" x=\"859\" y=\"-1004.8\" font-family=\"Times,serif\" font-size=\"14.00\" fill=\"#000000\">X[199] &lt;= 0.395</text>\n<text text-anchor=\"middle\" x=\"859\" y=\"-989.8\" font-family=\"Times,serif\" font-size=\"14.00\" fill=\"#000000\">gini = 0.114</text>\n<text text-anchor=\"middle\" x=\"859\" y=\"-974.8\" font-family=\"Times,serif\" font-size=\"14.00\" fill=\"#000000\">samples = 33</text>\n<text text-anchor=\"middle\" x=\"859\" y=\"-959.8\" font-family=\"Times,serif\" font-size=\"14.00\" fill=\"#000000\">value = [2, 31]</text>\n<text text-anchor=\"middle\" x=\"859\" y=\"-944.8\" font-family=\"Times,serif\" font-size=\"14.00\" fill=\"#000000\">class = GO_ICU</text>\n</g>\n<!-- 52&#45;&gt;53 -->\n<g id=\"edge53\" class=\"edge\">\n<title>52&#45;&gt;53</title>\n<path fill=\"none\" stroke=\"#000000\" d=\"M900.6159,-1055.8796C896.0144,-1047.3236 891.1204,-1038.2238 886.3658,-1029.3833\"/>\n<polygon fill=\"#000000\" stroke=\"#000000\" points=\"889.2988,-1027.4473 881.4796,-1020.2981 883.1338,-1030.763 889.2988,-1027.4473\"/>\n</g>\n<!-- 60 -->\n<g id=\"node61\" class=\"node\">\n<title>60</title>\n<polygon fill=\"#e58139\" stroke=\"#000000\" points=\"1047,-1012.5 935,-1012.5 935,-944.5 1047,-944.5 1047,-1012.5\"/>\n<text text-anchor=\"middle\" x=\"991\" y=\"-997.3\" font-family=\"Times,serif\" font-size=\"14.00\" fill=\"#000000\">gini = 0.0</text>\n<text text-anchor=\"middle\" x=\"991\" y=\"-982.3\" font-family=\"Times,serif\" font-size=\"14.00\" fill=\"#000000\">samples = 1</text>\n<text text-anchor=\"middle\" x=\"991\" y=\"-967.3\" font-family=\"Times,serif\" font-size=\"14.00\" fill=\"#000000\">value = [1, 0]</text>\n<text text-anchor=\"middle\" x=\"991\" y=\"-952.3\" font-family=\"Times,serif\" font-size=\"14.00\" fill=\"#000000\">class = NO_ICU</text>\n</g>\n<!-- 52&#45;&gt;60 -->\n<g id=\"edge60\" class=\"edge\">\n<title>52&#45;&gt;60</title>\n<path fill=\"none\" stroke=\"#000000\" d=\"M946.7831,-1055.8796C953.1294,-1044.7735 959.9993,-1032.7513 966.3891,-1021.5691\"/>\n<polygon fill=\"#000000\" stroke=\"#000000\" points=\"969.4689,-1023.2339 971.3915,-1012.8149 963.3912,-1019.7609 969.4689,-1023.2339\"/>\n</g>\n<!-- 54 -->\n<g id=\"node55\" class=\"node\">\n<title>54</title>\n<polygon fill=\"#3fa0e6\" stroke=\"#000000\" points=\"919.5,-901 798.5,-901 798.5,-818 919.5,-818 919.5,-901\"/>\n<text text-anchor=\"middle\" x=\"859\" y=\"-885.8\" font-family=\"Times,serif\" font-size=\"14.00\" fill=\"#000000\">X[168] &lt;= &#45;0.998</text>\n<text text-anchor=\"middle\" x=\"859\" y=\"-870.8\" font-family=\"Times,serif\" font-size=\"14.00\" fill=\"#000000\">gini = 0.061</text>\n<text text-anchor=\"middle\" x=\"859\" y=\"-855.8\" font-family=\"Times,serif\" font-size=\"14.00\" fill=\"#000000\">samples = 32</text>\n<text text-anchor=\"middle\" x=\"859\" y=\"-840.8\" font-family=\"Times,serif\" font-size=\"14.00\" fill=\"#000000\">value = [1, 31]</text>\n<text text-anchor=\"middle\" x=\"859\" y=\"-825.8\" font-family=\"Times,serif\" font-size=\"14.00\" fill=\"#000000\">class = GO_ICU</text>\n</g>\n<!-- 53&#45;&gt;54 -->\n<g id=\"edge54\" class=\"edge\">\n<title>53&#45;&gt;54</title>\n<path fill=\"none\" stroke=\"#000000\" d=\"M859,-936.8796C859,-928.6838 859,-919.9891 859,-911.5013\"/>\n<polygon fill=\"#000000\" stroke=\"#000000\" points=\"862.5001,-911.298 859,-901.2981 855.5001,-911.2981 862.5001,-911.298\"/>\n</g>\n<!-- 59 -->\n<g id=\"node60\" class=\"node\">\n<title>59</title>\n<polygon fill=\"#e58139\" stroke=\"#000000\" points=\"1050,-893.5 938,-893.5 938,-825.5 1050,-825.5 1050,-893.5\"/>\n<text text-anchor=\"middle\" x=\"994\" y=\"-878.3\" font-family=\"Times,serif\" font-size=\"14.00\" fill=\"#000000\">gini = 0.0</text>\n<text text-anchor=\"middle\" x=\"994\" y=\"-863.3\" font-family=\"Times,serif\" font-size=\"14.00\" fill=\"#000000\">samples = 1</text>\n<text text-anchor=\"middle\" x=\"994\" y=\"-848.3\" font-family=\"Times,serif\" font-size=\"14.00\" fill=\"#000000\">value = [1, 0]</text>\n<text text-anchor=\"middle\" x=\"994\" y=\"-833.3\" font-family=\"Times,serif\" font-size=\"14.00\" fill=\"#000000\">class = NO_ICU</text>\n</g>\n<!-- 53&#45;&gt;59 -->\n<g id=\"edge59\" class=\"edge\">\n<title>53&#45;&gt;59</title>\n<path fill=\"none\" stroke=\"#000000\" d=\"M906.2164,-936.8796C919.5642,-925.1138 934.0785,-912.3197 947.3904,-900.5855\"/>\n<polygon fill=\"#000000\" stroke=\"#000000\" points=\"949.884,-903.0531 955.0713,-893.8149 945.2552,-897.8019 949.884,-903.0531\"/>\n</g>\n<!-- 55 -->\n<g id=\"node56\" class=\"node\">\n<title>55</title>\n<polygon fill=\"#ffffff\" stroke=\"#000000\" points=\"919.5,-782 798.5,-782 798.5,-699 919.5,-699 919.5,-782\"/>\n<text text-anchor=\"middle\" x=\"859\" y=\"-766.8\" font-family=\"Times,serif\" font-size=\"14.00\" fill=\"#000000\">X[197] &lt;= &#45;0.036</text>\n<text text-anchor=\"middle\" x=\"859\" y=\"-751.8\" font-family=\"Times,serif\" font-size=\"14.00\" fill=\"#000000\">gini = 0.5</text>\n<text text-anchor=\"middle\" x=\"859\" y=\"-736.8\" font-family=\"Times,serif\" font-size=\"14.00\" fill=\"#000000\">samples = 2</text>\n<text text-anchor=\"middle\" x=\"859\" y=\"-721.8\" font-family=\"Times,serif\" font-size=\"14.00\" fill=\"#000000\">value = [1, 1]</text>\n<text text-anchor=\"middle\" x=\"859\" y=\"-706.8\" font-family=\"Times,serif\" font-size=\"14.00\" fill=\"#000000\">class = NO_ICU</text>\n</g>\n<!-- 54&#45;&gt;55 -->\n<g id=\"edge55\" class=\"edge\">\n<title>54&#45;&gt;55</title>\n<path fill=\"none\" stroke=\"#000000\" d=\"M859,-817.8796C859,-809.6838 859,-800.9891 859,-792.5013\"/>\n<polygon fill=\"#000000\" stroke=\"#000000\" points=\"862.5001,-792.298 859,-782.2981 855.5001,-792.2981 862.5001,-792.298\"/>\n</g>\n<!-- 58 -->\n<g id=\"node59\" class=\"node\">\n<title>58</title>\n<polygon fill=\"#399de5\" stroke=\"#000000\" points=\"1050,-774.5 938,-774.5 938,-706.5 1050,-706.5 1050,-774.5\"/>\n<text text-anchor=\"middle\" x=\"994\" y=\"-759.3\" font-family=\"Times,serif\" font-size=\"14.00\" fill=\"#000000\">gini = 0.0</text>\n<text text-anchor=\"middle\" x=\"994\" y=\"-744.3\" font-family=\"Times,serif\" font-size=\"14.00\" fill=\"#000000\">samples = 30</text>\n<text text-anchor=\"middle\" x=\"994\" y=\"-729.3\" font-family=\"Times,serif\" font-size=\"14.00\" fill=\"#000000\">value = [0, 30]</text>\n<text text-anchor=\"middle\" x=\"994\" y=\"-714.3\" font-family=\"Times,serif\" font-size=\"14.00\" fill=\"#000000\">class = GO_ICU</text>\n</g>\n<!-- 54&#45;&gt;58 -->\n<g id=\"edge58\" class=\"edge\">\n<title>54&#45;&gt;58</title>\n<path fill=\"none\" stroke=\"#000000\" d=\"M906.2164,-817.8796C919.5642,-806.1138 934.0785,-793.3197 947.3904,-781.5855\"/>\n<polygon fill=\"#000000\" stroke=\"#000000\" points=\"949.884,-784.0531 955.0713,-774.8149 945.2552,-778.8019 949.884,-784.0531\"/>\n</g>\n<!-- 56 -->\n<g id=\"node57\" class=\"node\">\n<title>56</title>\n<polygon fill=\"#399de5\" stroke=\"#000000\" points=\"912,-655.5 800,-655.5 800,-587.5 912,-587.5 912,-655.5\"/>\n<text text-anchor=\"middle\" x=\"856\" y=\"-640.3\" font-family=\"Times,serif\" font-size=\"14.00\" fill=\"#000000\">gini = 0.0</text>\n<text text-anchor=\"middle\" x=\"856\" y=\"-625.3\" font-family=\"Times,serif\" font-size=\"14.00\" fill=\"#000000\">samples = 1</text>\n<text text-anchor=\"middle\" x=\"856\" y=\"-610.3\" font-family=\"Times,serif\" font-size=\"14.00\" fill=\"#000000\">value = [0, 1]</text>\n<text text-anchor=\"middle\" x=\"856\" y=\"-595.3\" font-family=\"Times,serif\" font-size=\"14.00\" fill=\"#000000\">class = GO_ICU</text>\n</g>\n<!-- 55&#45;&gt;56 -->\n<g id=\"edge56\" class=\"edge\">\n<title>55&#45;&gt;56</title>\n<path fill=\"none\" stroke=\"#000000\" d=\"M857.9507,-698.8796C857.6818,-688.2134 857.3916,-676.7021 857.1194,-665.9015\"/>\n<polygon fill=\"#000000\" stroke=\"#000000\" points=\"860.6161,-665.7235 856.8651,-655.8149 853.6183,-665.9 860.6161,-665.7235\"/>\n</g>\n<!-- 57 -->\n<g id=\"node58\" class=\"node\">\n<title>57</title>\n<polygon fill=\"#e58139\" stroke=\"#000000\" points=\"1042,-655.5 930,-655.5 930,-587.5 1042,-587.5 1042,-655.5\"/>\n<text text-anchor=\"middle\" x=\"986\" y=\"-640.3\" font-family=\"Times,serif\" font-size=\"14.00\" fill=\"#000000\">gini = 0.0</text>\n<text text-anchor=\"middle\" x=\"986\" y=\"-625.3\" font-family=\"Times,serif\" font-size=\"14.00\" fill=\"#000000\">samples = 1</text>\n<text text-anchor=\"middle\" x=\"986\" y=\"-610.3\" font-family=\"Times,serif\" font-size=\"14.00\" fill=\"#000000\">value = [1, 0]</text>\n<text text-anchor=\"middle\" x=\"986\" y=\"-595.3\" font-family=\"Times,serif\" font-size=\"14.00\" fill=\"#000000\">class = NO_ICU</text>\n</g>\n<!-- 55&#45;&gt;57 -->\n<g id=\"edge57\" class=\"edge\">\n<title>55&#45;&gt;57</title>\n<path fill=\"none\" stroke=\"#000000\" d=\"M903.4184,-698.8796C915.8579,-687.2237 929.3743,-674.5587 941.801,-662.9148\"/>\n<polygon fill=\"#000000\" stroke=\"#000000\" points=\"944.4741,-665.2065 949.3782,-655.8149 939.6879,-660.0985 944.4741,-665.2065\"/>\n</g>\n<!-- 62 -->\n<g id=\"node63\" class=\"node\">\n<title>62</title>\n<polygon fill=\"#399de5\" stroke=\"#000000\" points=\"1177,-1012.5 1065,-1012.5 1065,-944.5 1177,-944.5 1177,-1012.5\"/>\n<text text-anchor=\"middle\" x=\"1121\" y=\"-997.3\" font-family=\"Times,serif\" font-size=\"14.00\" fill=\"#000000\">gini = 0.0</text>\n<text text-anchor=\"middle\" x=\"1121\" y=\"-982.3\" font-family=\"Times,serif\" font-size=\"14.00\" fill=\"#000000\">samples = 1</text>\n<text text-anchor=\"middle\" x=\"1121\" y=\"-967.3\" font-family=\"Times,serif\" font-size=\"14.00\" fill=\"#000000\">value = [0, 1]</text>\n<text text-anchor=\"middle\" x=\"1121\" y=\"-952.3\" font-family=\"Times,serif\" font-size=\"14.00\" fill=\"#000000\">class = GO_ICU</text>\n</g>\n<!-- 61&#45;&gt;62 -->\n<g id=\"edge62\" class=\"edge\">\n<title>61&#45;&gt;62</title>\n<path fill=\"none\" stroke=\"#000000\" d=\"M1121,-1055.8796C1121,-1045.2134 1121,-1033.7021 1121,-1022.9015\"/>\n<polygon fill=\"#000000\" stroke=\"#000000\" points=\"1124.5001,-1022.8149 1121,-1012.8149 1117.5001,-1022.815 1124.5001,-1022.8149\"/>\n</g>\n<!-- 63 -->\n<g id=\"node64\" class=\"node\">\n<title>63</title>\n<polygon fill=\"#e58139\" stroke=\"#000000\" points=\"1307,-1012.5 1195,-1012.5 1195,-944.5 1307,-944.5 1307,-1012.5\"/>\n<text text-anchor=\"middle\" x=\"1251\" y=\"-997.3\" font-family=\"Times,serif\" font-size=\"14.00\" fill=\"#000000\">gini = 0.0</text>\n<text text-anchor=\"middle\" x=\"1251\" y=\"-982.3\" font-family=\"Times,serif\" font-size=\"14.00\" fill=\"#000000\">samples = 4</text>\n<text text-anchor=\"middle\" x=\"1251\" y=\"-967.3\" font-family=\"Times,serif\" font-size=\"14.00\" fill=\"#000000\">value = [4, 0]</text>\n<text text-anchor=\"middle\" x=\"1251\" y=\"-952.3\" font-family=\"Times,serif\" font-size=\"14.00\" fill=\"#000000\">class = NO_ICU</text>\n</g>\n<!-- 61&#45;&gt;63 -->\n<g id=\"edge63\" class=\"edge\">\n<title>61&#45;&gt;63</title>\n<path fill=\"none\" stroke=\"#000000\" d=\"M1166.4677,-1055.8796C1179.3211,-1044.1138 1193.2979,-1031.3197 1206.1166,-1019.5855\"/>\n<polygon fill=\"#000000\" stroke=\"#000000\" points=\"1208.5001,-1022.1488 1213.5131,-1012.8149 1203.7736,-1016.9854 1208.5001,-1022.1488\"/>\n</g>\n<!-- 65 -->\n<g id=\"node66\" class=\"node\">\n<title>65</title>\n<polygon fill=\"#e58139\" stroke=\"#000000\" points=\"1207,-1369.5 1095,-1369.5 1095,-1301.5 1207,-1301.5 1207,-1369.5\"/>\n<text text-anchor=\"middle\" x=\"1151\" y=\"-1354.3\" font-family=\"Times,serif\" font-size=\"14.00\" fill=\"#000000\">gini = 0.0</text>\n<text text-anchor=\"middle\" x=\"1151\" y=\"-1339.3\" font-family=\"Times,serif\" font-size=\"14.00\" fill=\"#000000\">samples = 2</text>\n<text text-anchor=\"middle\" x=\"1151\" y=\"-1324.3\" font-family=\"Times,serif\" font-size=\"14.00\" fill=\"#000000\">value = [2, 0]</text>\n<text text-anchor=\"middle\" x=\"1151\" y=\"-1309.3\" font-family=\"Times,serif\" font-size=\"14.00\" fill=\"#000000\">class = NO_ICU</text>\n</g>\n<!-- 64&#45;&gt;65 -->\n<g id=\"edge65\" class=\"edge\">\n<title>64&#45;&gt;65</title>\n<path fill=\"none\" stroke=\"#000000\" d=\"M1151,-1412.8796C1151,-1402.2134 1151,-1390.7021 1151,-1379.9015\"/>\n<polygon fill=\"#000000\" stroke=\"#000000\" points=\"1154.5001,-1379.8149 1151,-1369.8149 1147.5001,-1379.815 1154.5001,-1379.8149\"/>\n</g>\n<!-- 66 -->\n<g id=\"node67\" class=\"node\">\n<title>66</title>\n<polygon fill=\"#5dafea\" stroke=\"#000000\" points=\"1632.5,-1377 1511.5,-1377 1511.5,-1294 1632.5,-1294 1632.5,-1377\"/>\n<text text-anchor=\"middle\" x=\"1572\" y=\"-1361.8\" font-family=\"Times,serif\" font-size=\"14.00\" fill=\"#000000\">X[146] &lt;= &#45;0.427</text>\n<text text-anchor=\"middle\" x=\"1572\" y=\"-1346.8\" font-family=\"Times,serif\" font-size=\"14.00\" fill=\"#000000\">gini = 0.262</text>\n<text text-anchor=\"middle\" x=\"1572\" y=\"-1331.8\" font-family=\"Times,serif\" font-size=\"14.00\" fill=\"#000000\">samples = 58</text>\n<text text-anchor=\"middle\" x=\"1572\" y=\"-1316.8\" font-family=\"Times,serif\" font-size=\"14.00\" fill=\"#000000\">value = [9, 49]</text>\n<text text-anchor=\"middle\" x=\"1572\" y=\"-1301.8\" font-family=\"Times,serif\" font-size=\"14.00\" fill=\"#000000\">class = GO_ICU</text>\n</g>\n<!-- 64&#45;&gt;66 -->\n<g id=\"edge66\" class=\"edge\">\n<title>64&#45;&gt;66</title>\n<path fill=\"none\" stroke=\"#000000\" d=\"M1207.3411,-1438.5746C1283.3447,-1417.0914 1418.7016,-1378.8314 1501.4056,-1355.4542\"/>\n<polygon fill=\"#000000\" stroke=\"#000000\" points=\"1502.552,-1358.7674 1511.223,-1352.6793 1500.648,-1352.0313 1502.552,-1358.7674\"/>\n</g>\n<!-- 67 -->\n<g id=\"node68\" class=\"node\">\n<title>67</title>\n<polygon fill=\"#48a4e7\" stroke=\"#000000\" points=\"1630,-1258 1514,-1258 1514,-1175 1630,-1175 1630,-1258\"/>\n<text text-anchor=\"middle\" x=\"1572\" y=\"-1242.8\" font-family=\"Times,serif\" font-size=\"14.00\" fill=\"#000000\">X[193] &lt;= 0.519</text>\n<text text-anchor=\"middle\" x=\"1572\" y=\"-1227.8\" font-family=\"Times,serif\" font-size=\"14.00\" fill=\"#000000\">gini = 0.13</text>\n<text text-anchor=\"middle\" x=\"1572\" y=\"-1212.8\" font-family=\"Times,serif\" font-size=\"14.00\" fill=\"#000000\">samples = 43</text>\n<text text-anchor=\"middle\" x=\"1572\" y=\"-1197.8\" font-family=\"Times,serif\" font-size=\"14.00\" fill=\"#000000\">value = [3, 40]</text>\n<text text-anchor=\"middle\" x=\"1572\" y=\"-1182.8\" font-family=\"Times,serif\" font-size=\"14.00\" fill=\"#000000\">class = GO_ICU</text>\n</g>\n<!-- 66&#45;&gt;67 -->\n<g id=\"edge67\" class=\"edge\">\n<title>66&#45;&gt;67</title>\n<path fill=\"none\" stroke=\"#000000\" d=\"M1572,-1293.8796C1572,-1285.6838 1572,-1276.9891 1572,-1268.5013\"/>\n<polygon fill=\"#000000\" stroke=\"#000000\" points=\"1575.5001,-1268.298 1572,-1258.2981 1568.5001,-1268.2981 1575.5001,-1268.298\"/>\n</g>\n<!-- 74 -->\n<g id=\"node75\" class=\"node\">\n<title>74</title>\n<polygon fill=\"#bddef6\" stroke=\"#000000\" points=\"1832.5,-1258 1711.5,-1258 1711.5,-1175 1832.5,-1175 1832.5,-1258\"/>\n<text text-anchor=\"middle\" x=\"1772\" y=\"-1242.8\" font-family=\"Times,serif\" font-size=\"14.00\" fill=\"#000000\">X[131] &lt;= &#45;0.551</text>\n<text text-anchor=\"middle\" x=\"1772\" y=\"-1227.8\" font-family=\"Times,serif\" font-size=\"14.00\" fill=\"#000000\">gini = 0.48</text>\n<text text-anchor=\"middle\" x=\"1772\" y=\"-1212.8\" font-family=\"Times,serif\" font-size=\"14.00\" fill=\"#000000\">samples = 15</text>\n<text text-anchor=\"middle\" x=\"1772\" y=\"-1197.8\" font-family=\"Times,serif\" font-size=\"14.00\" fill=\"#000000\">value = [6, 9]</text>\n<text text-anchor=\"middle\" x=\"1772\" y=\"-1182.8\" font-family=\"Times,serif\" font-size=\"14.00\" fill=\"#000000\">class = GO_ICU</text>\n</g>\n<!-- 66&#45;&gt;74 -->\n<g id=\"edge74\" class=\"edge\">\n<title>66&#45;&gt;74</title>\n<path fill=\"none\" stroke=\"#000000\" d=\"M1632.5493,-1299.4731C1654.6718,-1286.3103 1679.8621,-1271.3221 1702.6897,-1257.7396\"/>\n<polygon fill=\"#000000\" stroke=\"#000000\" points=\"1704.5074,-1260.7308 1711.3116,-1252.6096 1700.9281,-1254.7151 1704.5074,-1260.7308\"/>\n</g>\n<!-- 68 -->\n<g id=\"node69\" class=\"node\">\n<title>68</title>\n<polygon fill=\"#3ea0e6\" stroke=\"#000000\" points=\"1566.5,-1139 1453.5,-1139 1453.5,-1056 1566.5,-1056 1566.5,-1139\"/>\n<text text-anchor=\"middle\" x=\"1510\" y=\"-1123.8\" font-family=\"Times,serif\" font-size=\"14.00\" fill=\"#000000\">X[86] &lt;= &#45;0.857</text>\n<text text-anchor=\"middle\" x=\"1510\" y=\"-1108.8\" font-family=\"Times,serif\" font-size=\"14.00\" fill=\"#000000\">gini = 0.049</text>\n<text text-anchor=\"middle\" x=\"1510\" y=\"-1093.8\" font-family=\"Times,serif\" font-size=\"14.00\" fill=\"#000000\">samples = 40</text>\n<text text-anchor=\"middle\" x=\"1510\" y=\"-1078.8\" font-family=\"Times,serif\" font-size=\"14.00\" fill=\"#000000\">value = [1, 39]</text>\n<text text-anchor=\"middle\" x=\"1510\" y=\"-1063.8\" font-family=\"Times,serif\" font-size=\"14.00\" fill=\"#000000\">class = GO_ICU</text>\n</g>\n<!-- 67&#45;&gt;68 -->\n<g id=\"edge68\" class=\"edge\">\n<title>67&#45;&gt;68</title>\n<path fill=\"none\" stroke=\"#000000\" d=\"M1550.3154,-1174.8796C1545.8577,-1166.3236 1541.1166,-1157.2238 1536.5106,-1148.3833\"/>\n<polygon fill=\"#000000\" stroke=\"#000000\" points=\"1539.5017,-1146.5494 1531.7771,-1139.2981 1533.2938,-1149.7838 1539.5017,-1146.5494\"/>\n</g>\n<!-- 71 -->\n<g id=\"node72\" class=\"node\">\n<title>71</title>\n<polygon fill=\"#f2c09c\" stroke=\"#000000\" points=\"1697.5,-1139 1584.5,-1139 1584.5,-1056 1697.5,-1056 1697.5,-1139\"/>\n<text text-anchor=\"middle\" x=\"1641\" y=\"-1123.8\" font-family=\"Times,serif\" font-size=\"14.00\" fill=\"#000000\">X[40] &lt;= &#45;0.958</text>\n<text text-anchor=\"middle\" x=\"1641\" y=\"-1108.8\" font-family=\"Times,serif\" font-size=\"14.00\" fill=\"#000000\">gini = 0.444</text>\n<text text-anchor=\"middle\" x=\"1641\" y=\"-1093.8\" font-family=\"Times,serif\" font-size=\"14.00\" fill=\"#000000\">samples = 3</text>\n<text text-anchor=\"middle\" x=\"1641\" y=\"-1078.8\" font-family=\"Times,serif\" font-size=\"14.00\" fill=\"#000000\">value = [2, 1]</text>\n<text text-anchor=\"middle\" x=\"1641\" y=\"-1063.8\" font-family=\"Times,serif\" font-size=\"14.00\" fill=\"#000000\">class = NO_ICU</text>\n</g>\n<!-- 67&#45;&gt;71 -->\n<g id=\"edge71\" class=\"edge\">\n<title>67&#45;&gt;71</title>\n<path fill=\"none\" stroke=\"#000000\" d=\"M1596.1329,-1174.8796C1601.1461,-1166.2335 1606.4813,-1157.0322 1611.6581,-1148.1042\"/>\n<polygon fill=\"#000000\" stroke=\"#000000\" points=\"1614.7758,-1149.7047 1616.7641,-1139.2981 1608.7202,-1146.1934 1614.7758,-1149.7047\"/>\n</g>\n<!-- 69 -->\n<g id=\"node70\" class=\"node\">\n<title>69</title>\n<polygon fill=\"#399de5\" stroke=\"#000000\" points=\"1437,-1012.5 1325,-1012.5 1325,-944.5 1437,-944.5 1437,-1012.5\"/>\n<text text-anchor=\"middle\" x=\"1381\" y=\"-997.3\" font-family=\"Times,serif\" font-size=\"14.00\" fill=\"#000000\">gini = 0.0</text>\n<text text-anchor=\"middle\" x=\"1381\" y=\"-982.3\" font-family=\"Times,serif\" font-size=\"14.00\" fill=\"#000000\">samples = 39</text>\n<text text-anchor=\"middle\" x=\"1381\" y=\"-967.3\" font-family=\"Times,serif\" font-size=\"14.00\" fill=\"#000000\">value = [0, 39]</text>\n<text text-anchor=\"middle\" x=\"1381\" y=\"-952.3\" font-family=\"Times,serif\" font-size=\"14.00\" fill=\"#000000\">class = GO_ICU</text>\n</g>\n<!-- 68&#45;&gt;69 -->\n<g id=\"edge69\" class=\"edge\">\n<title>68&#45;&gt;69</title>\n<path fill=\"none\" stroke=\"#000000\" d=\"M1464.8821,-1055.8796C1452.2467,-1044.2237 1438.5174,-1031.5587 1425.895,-1019.9148\"/>\n<polygon fill=\"#000000\" stroke=\"#000000\" points=\"1427.922,-1017.0228 1418.1985,-1012.8149 1423.1756,-1022.168 1427.922,-1017.0228\"/>\n</g>\n<!-- 70 -->\n<g id=\"node71\" class=\"node\">\n<title>70</title>\n<polygon fill=\"#e58139\" stroke=\"#000000\" points=\"1567,-1012.5 1455,-1012.5 1455,-944.5 1567,-944.5 1567,-1012.5\"/>\n<text text-anchor=\"middle\" x=\"1511\" y=\"-997.3\" font-family=\"Times,serif\" font-size=\"14.00\" fill=\"#000000\">gini = 0.0</text>\n<text text-anchor=\"middle\" x=\"1511\" y=\"-982.3\" font-family=\"Times,serif\" font-size=\"14.00\" fill=\"#000000\">samples = 1</text>\n<text text-anchor=\"middle\" x=\"1511\" y=\"-967.3\" font-family=\"Times,serif\" font-size=\"14.00\" fill=\"#000000\">value = [1, 0]</text>\n<text text-anchor=\"middle\" x=\"1511\" y=\"-952.3\" font-family=\"Times,serif\" font-size=\"14.00\" fill=\"#000000\">class = NO_ICU</text>\n</g>\n<!-- 68&#45;&gt;70 -->\n<g id=\"edge70\" class=\"edge\">\n<title>68&#45;&gt;70</title>\n<path fill=\"none\" stroke=\"#000000\" d=\"M1510.3498,-1055.8796C1510.4394,-1045.2134 1510.5361,-1033.7021 1510.6269,-1022.9015\"/>\n<polygon fill=\"#000000\" stroke=\"#000000\" points=\"1514.1274,-1022.844 1510.7116,-1012.8149 1507.1276,-1022.7851 1514.1274,-1022.844\"/>\n</g>\n<!-- 72 -->\n<g id=\"node73\" class=\"node\">\n<title>72</title>\n<polygon fill=\"#399de5\" stroke=\"#000000\" points=\"1697,-1012.5 1585,-1012.5 1585,-944.5 1697,-944.5 1697,-1012.5\"/>\n<text text-anchor=\"middle\" x=\"1641\" y=\"-997.3\" font-family=\"Times,serif\" font-size=\"14.00\" fill=\"#000000\">gini = 0.0</text>\n<text text-anchor=\"middle\" x=\"1641\" y=\"-982.3\" font-family=\"Times,serif\" font-size=\"14.00\" fill=\"#000000\">samples = 1</text>\n<text text-anchor=\"middle\" x=\"1641\" y=\"-967.3\" font-family=\"Times,serif\" font-size=\"14.00\" fill=\"#000000\">value = [0, 1]</text>\n<text text-anchor=\"middle\" x=\"1641\" y=\"-952.3\" font-family=\"Times,serif\" font-size=\"14.00\" fill=\"#000000\">class = GO_ICU</text>\n</g>\n<!-- 71&#45;&gt;72 -->\n<g id=\"edge72\" class=\"edge\">\n<title>71&#45;&gt;72</title>\n<path fill=\"none\" stroke=\"#000000\" d=\"M1641,-1055.8796C1641,-1045.2134 1641,-1033.7021 1641,-1022.9015\"/>\n<polygon fill=\"#000000\" stroke=\"#000000\" points=\"1644.5001,-1022.8149 1641,-1012.8149 1637.5001,-1022.815 1644.5001,-1022.8149\"/>\n</g>\n<!-- 73 -->\n<g id=\"node74\" class=\"node\">\n<title>73</title>\n<polygon fill=\"#e58139\" stroke=\"#000000\" points=\"1827,-1012.5 1715,-1012.5 1715,-944.5 1827,-944.5 1827,-1012.5\"/>\n<text text-anchor=\"middle\" x=\"1771\" y=\"-997.3\" font-family=\"Times,serif\" font-size=\"14.00\" fill=\"#000000\">gini = 0.0</text>\n<text text-anchor=\"middle\" x=\"1771\" y=\"-982.3\" font-family=\"Times,serif\" font-size=\"14.00\" fill=\"#000000\">samples = 2</text>\n<text text-anchor=\"middle\" x=\"1771\" y=\"-967.3\" font-family=\"Times,serif\" font-size=\"14.00\" fill=\"#000000\">value = [2, 0]</text>\n<text text-anchor=\"middle\" x=\"1771\" y=\"-952.3\" font-family=\"Times,serif\" font-size=\"14.00\" fill=\"#000000\">class = NO_ICU</text>\n</g>\n<!-- 71&#45;&gt;73 -->\n<g id=\"edge73\" class=\"edge\">\n<title>71&#45;&gt;73</title>\n<path fill=\"none\" stroke=\"#000000\" d=\"M1686.4677,-1055.8796C1699.3211,-1044.1138 1713.2979,-1031.3197 1726.1166,-1019.5855\"/>\n<polygon fill=\"#000000\" stroke=\"#000000\" points=\"1728.5001,-1022.1488 1733.5131,-1012.8149 1723.7736,-1016.9854 1728.5001,-1022.1488\"/>\n</g>\n<!-- 75 -->\n<g id=\"node76\" class=\"node\">\n<title>75</title>\n<polygon fill=\"#e58139\" stroke=\"#000000\" points=\"1828,-1131.5 1716,-1131.5 1716,-1063.5 1828,-1063.5 1828,-1131.5\"/>\n<text text-anchor=\"middle\" x=\"1772\" y=\"-1116.3\" font-family=\"Times,serif\" font-size=\"14.00\" fill=\"#000000\">gini = 0.0</text>\n<text text-anchor=\"middle\" x=\"1772\" y=\"-1101.3\" font-family=\"Times,serif\" font-size=\"14.00\" fill=\"#000000\">samples = 5</text>\n<text text-anchor=\"middle\" x=\"1772\" y=\"-1086.3\" font-family=\"Times,serif\" font-size=\"14.00\" fill=\"#000000\">value = [5, 0]</text>\n<text text-anchor=\"middle\" x=\"1772\" y=\"-1071.3\" font-family=\"Times,serif\" font-size=\"14.00\" fill=\"#000000\">class = NO_ICU</text>\n</g>\n<!-- 74&#45;&gt;75 -->\n<g id=\"edge75\" class=\"edge\">\n<title>74&#45;&gt;75</title>\n<path fill=\"none\" stroke=\"#000000\" d=\"M1772,-1174.8796C1772,-1164.2134 1772,-1152.7021 1772,-1141.9015\"/>\n<polygon fill=\"#000000\" stroke=\"#000000\" points=\"1775.5001,-1141.8149 1772,-1131.8149 1768.5001,-1141.815 1775.5001,-1141.8149\"/>\n</g>\n<!-- 76 -->\n<g id=\"node77\" class=\"node\">\n<title>76</title>\n<polygon fill=\"#4fa8e8\" stroke=\"#000000\" points=\"1959.5,-1139 1846.5,-1139 1846.5,-1056 1959.5,-1056 1959.5,-1139\"/>\n<text text-anchor=\"middle\" x=\"1903\" y=\"-1123.8\" font-family=\"Times,serif\" font-size=\"14.00\" fill=\"#000000\">X[94] &lt;= &#45;0.321</text>\n<text text-anchor=\"middle\" x=\"1903\" y=\"-1108.8\" font-family=\"Times,serif\" font-size=\"14.00\" fill=\"#000000\">gini = 0.18</text>\n<text text-anchor=\"middle\" x=\"1903\" y=\"-1093.8\" font-family=\"Times,serif\" font-size=\"14.00\" fill=\"#000000\">samples = 10</text>\n<text text-anchor=\"middle\" x=\"1903\" y=\"-1078.8\" font-family=\"Times,serif\" font-size=\"14.00\" fill=\"#000000\">value = [1, 9]</text>\n<text text-anchor=\"middle\" x=\"1903\" y=\"-1063.8\" font-family=\"Times,serif\" font-size=\"14.00\" fill=\"#000000\">class = GO_ICU</text>\n</g>\n<!-- 74&#45;&gt;76 -->\n<g id=\"edge76\" class=\"edge\">\n<title>74&#45;&gt;76</title>\n<path fill=\"none\" stroke=\"#000000\" d=\"M1817.8174,-1174.8796C1828.0294,-1165.6031 1838.945,-1155.6874 1849.4376,-1146.1559\"/>\n<polygon fill=\"#000000\" stroke=\"#000000\" points=\"1851.9384,-1148.6127 1856.987,-1139.2981 1847.2316,-1143.4313 1851.9384,-1148.6127\"/>\n</g>\n<!-- 77 -->\n<g id=\"node78\" class=\"node\">\n<title>77</title>\n<polygon fill=\"#399de5\" stroke=\"#000000\" points=\"1958,-1012.5 1846,-1012.5 1846,-944.5 1958,-944.5 1958,-1012.5\"/>\n<text text-anchor=\"middle\" x=\"1902\" y=\"-997.3\" font-family=\"Times,serif\" font-size=\"14.00\" fill=\"#000000\">gini = 0.0</text>\n<text text-anchor=\"middle\" x=\"1902\" y=\"-982.3\" font-family=\"Times,serif\" font-size=\"14.00\" fill=\"#000000\">samples = 9</text>\n<text text-anchor=\"middle\" x=\"1902\" y=\"-967.3\" font-family=\"Times,serif\" font-size=\"14.00\" fill=\"#000000\">value = [0, 9]</text>\n<text text-anchor=\"middle\" x=\"1902\" y=\"-952.3\" font-family=\"Times,serif\" font-size=\"14.00\" fill=\"#000000\">class = GO_ICU</text>\n</g>\n<!-- 76&#45;&gt;77 -->\n<g id=\"edge77\" class=\"edge\">\n<title>76&#45;&gt;77</title>\n<path fill=\"none\" stroke=\"#000000\" d=\"M1902.6502,-1055.8796C1902.5606,-1045.2134 1902.4639,-1033.7021 1902.3731,-1022.9015\"/>\n<polygon fill=\"#000000\" stroke=\"#000000\" points=\"1905.8724,-1022.7851 1902.2884,-1012.8149 1898.8726,-1022.844 1905.8724,-1022.7851\"/>\n</g>\n<!-- 78 -->\n<g id=\"node79\" class=\"node\">\n<title>78</title>\n<polygon fill=\"#e58139\" stroke=\"#000000\" points=\"2088,-1012.5 1976,-1012.5 1976,-944.5 2088,-944.5 2088,-1012.5\"/>\n<text text-anchor=\"middle\" x=\"2032\" y=\"-997.3\" font-family=\"Times,serif\" font-size=\"14.00\" fill=\"#000000\">gini = 0.0</text>\n<text text-anchor=\"middle\" x=\"2032\" y=\"-982.3\" font-family=\"Times,serif\" font-size=\"14.00\" fill=\"#000000\">samples = 1</text>\n<text text-anchor=\"middle\" x=\"2032\" y=\"-967.3\" font-family=\"Times,serif\" font-size=\"14.00\" fill=\"#000000\">value = [1, 0]</text>\n<text text-anchor=\"middle\" x=\"2032\" y=\"-952.3\" font-family=\"Times,serif\" font-size=\"14.00\" fill=\"#000000\">class = NO_ICU</text>\n</g>\n<!-- 76&#45;&gt;78 -->\n<g id=\"edge78\" class=\"edge\">\n<title>76&#45;&gt;78</title>\n<path fill=\"none\" stroke=\"#000000\" d=\"M1948.1179,-1055.8796C1960.7533,-1044.2237 1974.4826,-1031.5587 1987.105,-1019.9148\"/>\n<polygon fill=\"#000000\" stroke=\"#000000\" points=\"1989.8244,-1022.168 1994.8015,-1012.8149 1985.078,-1017.0228 1989.8244,-1022.168\"/>\n</g>\n</g>\n</svg>\n"
          },
          "metadata": {
            "tags": []
          },
          "execution_count": 22
        },
        {
          "output_type": "display_data",
          "data": {
            "text/plain": [
              "<Figure size 864x360 with 0 Axes>"
            ]
          },
          "metadata": {
            "tags": []
          }
        }
      ]
    },
    {
      "cell_type": "markdown",
      "metadata": {
        "id": "h_u1RZGmZy_E"
      },
      "source": [
        "### 📒 Desafio 05: Criar uma função que gere a curva ROC."
      ]
    },
    {
      "cell_type": "code",
      "metadata": {
        "id": "0TbXuaAi6Rs1"
      },
      "source": [
        "import sklearn.metrics as metrics\r\n",
        "\r\n",
        "def roc_plot(modelo_lista,x_test,y_test):\r\n",
        "  for modelo in modelo_lista:\r\n",
        "    probs = modelo.predict_proba(x_test)\r\n",
        "    preds = probs[:,1]\r\n",
        "    fpr, tpr, threshold = metrics.roc_curve(y_test,preds)\r\n",
        "    #tpr = true positive rate Taxa de verdadeiro positivo (True Positive Rate),\r\n",
        "    #que é dado por true positives / (true positives + false negatives)\r\n",
        "\r\n",
        "    #fpr = Taxa de falso positivo (False Positive Rate), \r\n",
        "    #que é dado por false positives / (false positives + true negatives)\r\n",
        "\r\n",
        "    roc_auc = metrics.auc(fpr,tpr)\r\n",
        "\r\n",
        "    plt.figure(figsize=(12,6))    \r\n",
        "    plt.title(f\"ROC - {modelo.__class__.__name__}\")\r\n",
        "    plt.plot(fpr,tpr,'b',label=f'MODELO {modelo.__class__.__name__} - AUC = {roc_auc:.2f}')\r\n",
        "    plt.legend(loc='lower right')\r\n",
        "    plt.plot([0,1],[0,1],'r--')\r\n",
        "    plt.ylim([0,1])\r\n",
        "    plt.xlim([0,1])\r\n",
        "    plt.ylabel('TRUE POSITIVE RATE')\r\n",
        "    plt.xlabel('FALSE POSITIVE RATE')\r\n",
        "   "
      ],
      "execution_count": 23,
      "outputs": []
    },
    {
      "cell_type": "code",
      "metadata": {
        "colab": {
          "base_uri": "https://localhost:8080/",
          "height": 803
        },
        "id": "5iy7NIF99XlP",
        "outputId": "c4f7965b-1ca2-40b8-c9f0-3d0a8a682291"
      },
      "source": [
        "lista = [modelo, modelo_arvore]\r\n",
        "roc_plot(lista,x_test,y_test)"
      ],
      "execution_count": 24,
      "outputs": [
        {
          "output_type": "display_data",
          "data": {
            "image/png": "[encoded data removed]",
            "text/plain": [
              "<Figure size 864x432 with 1 Axes>"
            ]
          },
          "metadata": {
            "tags": [],
            "needs_background": "light"
          }
        },
        {
          "output_type": "display_data",
          "data": {
            "image/png": "[encoded data removed]",
            "text/plain": [
              "<Figure size 864x432 with 1 Axes>"
            ]
          },
          "metadata": {
            "tags": [],
            "needs_background": "light"
          }
        }
      ]
    },
    {
      "cell_type": "markdown",
      "metadata": {
        "id": "_XlSbqjlZ720"
      },
      "source": [
        "### 📒 Desafio 06: Pensar e tentar diminuir o efeito de aleatoriedade nas previsões.\r\n",
        "\r\n"
      ]
    },
    {
      "cell_type": "markdown",
      "metadata": {
        "id": "5EvBl6nxCJmo"
      },
      "source": [
        "#AULA 3 : ALEATORIEDADE DE MODELOS\r\n",
        "---"
      ]
    },
    {
      "cell_type": "markdown",
      "metadata": {
        "id": "YLJTmjzOO_Ef"
      },
      "source": [
        "vamos buscar então reduzir a aleatoriedade dos modelos\r\n",
        "O que acontece é que temos um problema em relação a aletoriedade de quantos porcento nosso modelo está indo bem. Com essa função, podemo visualizar como nosso modelo irá performar após rodar n vezes. Ainda teremos um invertavalo, do valor minimo até o valor máximo que aquele modelo está indo. Diminuimos assim a discrepancia de aleatoriedade"
      ]
    },
    {
      "cell_type": "code",
      "metadata": {
        "id": "RWuZAWmfCWo7"
      },
      "source": [
        "def roda_n_modelos(modelo, dados,n):\r\n",
        "\r\n",
        "  x_columns = dados.columns\r\n",
        "  y = dados[\"ICU\"]\r\n",
        "  x = dados[x_columns].drop([\"ICU\",\"WINDOW\"], axis=1)\r\n",
        "\r\n",
        "  auc_list = []\r\n",
        "\r\n",
        "  for _ in range(0,n):\r\n",
        "    x_train, x_test, y_train, y_test = train_test_split(x, y, stratify=y)\r\n",
        "    modelo.fit(x_train, y_train)\r\n",
        "    prob_predic = modelo.predict_proba(x_test)\r\n",
        "    auc = roc_auc_score(y_test,prob_predic[:,1])\r\n",
        "    auc_list.append(auc)\r\n",
        "\r\n",
        "  auc_medio = np.mean(auc_list)\r\n",
        "  auc_std = np.std(auc_list)\r\n",
        "  print(f\"AUC: {auc_medio}\\t STD: {auc_std}\\n\\nINTERVALO: {auc_medio - 2 * auc_std} - {auc_medio + 2 * auc_std} \")\r\n"
      ],
      "execution_count": 25,
      "outputs": []
    },
    {
      "cell_type": "markdown",
      "metadata": {
        "id": "OqS9B8oKTAAO"
      },
      "source": [
        "Modelo de arvore"
      ]
    },
    {
      "cell_type": "code",
      "metadata": {
        "colab": {
          "base_uri": "https://localhost:8080/"
        },
        "id": "ByH9b42PQpuA",
        "outputId": "3f8b0a5e-c7af-406a-ab32-0a1fd10ae8bb"
      },
      "source": [
        "roda_n_modelos(modelo_arvore,dados_limpos,50)"
      ],
      "execution_count": 26,
      "outputs": [
        {
          "output_type": "stream",
          "text": [
            "AUC: 0.6309289050337312\t STD: 0.04787978644401745\n",
            "\n",
            "INTERVALO: 0.5351693321456963 - 0.7266884779217662 \n"
          ],
          "name": "stdout"
        }
      ]
    },
    {
      "cell_type": "code",
      "metadata": {
        "colab": {
          "base_uri": "https://localhost:8080/"
        },
        "id": "jJklyt1bQ814",
        "outputId": "2e0e865f-249d-414d-e88c-f95b3274fd78"
      },
      "source": [
        "roda_n_modelos(modelo_arvore,dados_limpos,50)"
      ],
      "execution_count": 27,
      "outputs": [
        {
          "output_type": "stream",
          "text": [
            "AUC: 0.6297145822522056\t STD: 0.03778534021832129\n",
            "\n",
            "INTERVALO: 0.554143901815563 - 0.7052852626888482 \n"
          ],
          "name": "stdout"
        }
      ]
    },
    {
      "cell_type": "markdown",
      "metadata": {
        "id": "FuI-25LZTCTs"
      },
      "source": [
        "Modelo logistico - É mais longo que o de arvore"
      ]
    },
    {
      "cell_type": "code",
      "metadata": {
        "colab": {
          "base_uri": "https://localhost:8080/"
        },
        "id": "17reWbZgShAD",
        "outputId": "8175c573-94d6-4579-eb8d-47ad96262223"
      },
      "source": [
        "roda_n_modelos(modelo,dados_limpos,50)"
      ],
      "execution_count": 28,
      "outputs": [
        {
          "output_type": "stream",
          "text": [
            "AUC: 0.7537934613388687\t STD: 0.041036963996394976\n",
            "\n",
            "INTERVALO: 0.6717195333460788 - 0.8358673893316586 \n"
          ],
          "name": "stdout"
        }
      ]
    },
    {
      "cell_type": "code",
      "metadata": {
        "colab": {
          "base_uri": "https://localhost:8080/"
        },
        "id": "bdSH__arTFBm",
        "outputId": "7a9b1ee9-3ad4-40c2-cdab-bd7e076856c8"
      },
      "source": [
        "roda_n_modelos(modelo,dados_limpos,50)"
      ],
      "execution_count": 29,
      "outputs": [
        {
          "output_type": "stream",
          "text": [
            "AUC: 0.7639750908147378\t STD: 0.043914912700793736\n",
            "\n",
            "INTERVALO: 0.6761452654131503 - 0.8518049162163253 \n"
          ],
          "name": "stdout"
        }
      ]
    },
    {
      "cell_type": "markdown",
      "metadata": {
        "id": "GMm3Eet1UkDk"
      },
      "source": [
        "### 📒 Desafio 07: Estudar a documentação do sklearn e testar outros modelos."
      ]
    },
    {
      "cell_type": "code",
      "metadata": {
        "id": "QsXqng64TGii"
      },
      "source": [
        ""
      ],
      "execution_count": 29,
      "outputs": []
    },
    {
      "cell_type": "markdown",
      "metadata": {
        "id": "LfhJOKuZUqPS"
      },
      "source": [
        "#AULA 4 : VALIDAÇÃO CRUZADA\r\n",
        "---"
      ]
    },
    {
      "cell_type": "markdown",
      "metadata": {
        "id": "uVMxYvA6X43z"
      },
      "source": [
        "Estamos treinando as coisas e tudo parece ir muito bem. Contudo, há uma questão que pode passar despercebida que é o fator de azar.\r\n",
        "<br>Quando separamos nossos dados em x_train e y_train por exemplo, podemos acabar passando dados que auxiliariam bem em determinado modelo e por ai vai. Utilizando a chamada **validação cruzada**, podemos treinar todo muito e testar todo mundo com um unico dataset.<br>\r\n",
        " A ideia é dividir nosso conjunto de dados em n-fatias, onde, por exemplo, de 5 fatias, a primeira será a de teste e as demais de treino. Depois, a segunda fatia será a de teste, e as demais de treino, depois a terceira de teste e as demais de treino e por ai vai, até chegar na quinta de teste e as demais fatias de treino.<br>\r\n",
        "Cada fatia irá gerar um resultado, seja acurácia, precisão, recall, etc. Caberá a nós, descobrir o que fazer com isso, mas ainda assim, teremos treinado e testado todo mundo certinho. vamos ver:"
      ]
    },
    {
      "cell_type": "code",
      "metadata": {
        "colab": {
          "base_uri": "https://localhost:8080/"
        },
        "id": "ZU8YS1fmU8iN",
        "outputId": "9453894d-a98f-41f3-d0e0-75bb1be48721"
      },
      "source": [
        "from sklearn.model_selection import cross_validate\r\n",
        "from sklearn.model_selection import StratifiedKFold\r\n",
        "\r\n",
        "cv = StratifiedKFold(n_splits=5,shuffle=True) #ele irá embaralhar os dados, pra assim, tudo ser separado aleatoriamente\r\n",
        "cross_validate(modelo, x, y, cv=cv) #cv = numero de divisoes que queremos"
      ],
      "execution_count": 30,
      "outputs": [
        {
          "output_type": "execute_result",
          "data": {
            "text/plain": [
              "{'fit_time': array([0.56757975, 0.31389618, 0.17460489, 0.64975286, 0.56927276]),\n",
              " 'score_time': array([0.00255704, 0.00229764, 0.00224376, 0.00227046, 0.00228882]),\n",
              " 'test_score': array([0.64788732, 0.70422535, 0.67142857, 0.77142857, 0.75714286])}"
            ]
          },
          "metadata": {
            "tags": []
          },
          "execution_count": 30
        }
      ]
    },
    {
      "cell_type": "markdown",
      "metadata": {
        "id": "gQJl8VutSf-p"
      },
      "source": [
        "Podemos também realizar um processo semelhante ao de repetir n vezes o nosso modelo para assim diminuir uma aleatoriedade que possa surgir. Usaremos abaixo:"
      ]
    },
    {
      "cell_type": "code",
      "metadata": {
        "id": "VYpHZm8wbp31",
        "colab": {
          "base_uri": "https://localhost:8080/"
        },
        "outputId": "ba03683b-1313-4071-8db7-ced249cd8da7"
      },
      "source": [
        "from sklearn.model_selection import RepeatedStratifiedKFold\r\n",
        "\r\n",
        "\r\n",
        "cv = RepeatedStratifiedKFold(n_splits=5,n_repeats=10)\r\n",
        "cross_validate(modelo, x, y, cv=cv)"
      ],
      "execution_count": 31,
      "outputs": [
        {
          "output_type": "execute_result",
          "data": {
            "text/plain": [
              "{'fit_time': array([0.23548055, 0.22202754, 0.53410387, 0.16065097, 0.56039858,\n",
              "        0.1949017 , 0.21838117, 0.18661833, 0.57467961, 0.50674796,\n",
              "        0.64294362, 0.59286761, 0.52313852, 0.5185461 , 0.56066656,\n",
              "        0.50710988, 0.50986481, 0.26410651, 0.18949842, 0.53701091,\n",
              "        0.57142496, 0.61120558, 0.53185129, 0.47201204, 0.58460784,\n",
              "        0.56055117, 0.57406521, 0.60750103, 0.65541077, 0.23790741,\n",
              "        0.2013855 , 0.54497528, 0.24278498, 0.45389223, 0.21422577,\n",
              "        0.50701928, 0.56720757, 0.25977921, 0.49564934, 0.20846272,\n",
              "        0.56943846, 0.32574582, 0.51486182, 0.69141936, 0.5485158 ,\n",
              "        0.66444182, 0.24481559, 0.54845285, 0.25264549, 0.64966917]),\n",
              " 'score_time': array([0.00230432, 0.00230145, 0.00236535, 0.00229764, 0.00234532,\n",
              "        0.00236654, 0.00234795, 0.00225306, 0.00222754, 0.00233459,\n",
              "        0.00244164, 0.00257587, 0.00244927, 0.00259876, 0.00233221,\n",
              "        0.00233603, 0.0022552 , 0.00229621, 0.00228214, 0.00277352,\n",
              "        0.0024519 , 0.00254059, 0.0022521 , 0.00235868, 0.00231338,\n",
              "        0.0023191 , 0.00228047, 0.00232315, 0.00253057, 0.00229359,\n",
              "        0.00229692, 0.00226784, 0.00730085, 0.00236058, 0.00235224,\n",
              "        0.00238037, 0.00244427, 0.00225282, 0.00269938, 0.00227594,\n",
              "        0.00229073, 0.00248861, 0.00227523, 0.00231528, 0.0023334 ,\n",
              "        0.00288343, 0.0023098 , 0.00224829, 0.00244355, 0.00229979]),\n",
              " 'test_score': array([0.73239437, 0.8028169 , 0.7       , 0.6       , 0.7       ,\n",
              "        0.71830986, 0.73239437, 0.65714286, 0.7       , 0.72857143,\n",
              "        0.71830986, 0.69014085, 0.68571429, 0.65714286, 0.7       ,\n",
              "        0.73239437, 0.73239437, 0.68571429, 0.8       , 0.55714286,\n",
              "        0.73239437, 0.71830986, 0.7       , 0.71428571, 0.65714286,\n",
              "        0.71830986, 0.69014085, 0.8       , 0.67142857, 0.68571429,\n",
              "        0.76056338, 0.66197183, 0.72857143, 0.62857143, 0.71428571,\n",
              "        0.70422535, 0.78873239, 0.64285714, 0.68571429, 0.68571429,\n",
              "        0.69014085, 0.74647887, 0.72857143, 0.78571429, 0.68571429,\n",
              "        0.64788732, 0.73239437, 0.68571429, 0.68571429, 0.8       ])}"
            ]
          },
          "metadata": {
            "tags": []
          },
          "execution_count": 31
        }
      ]
    },
    {
      "cell_type": "markdown",
      "metadata": {
        "id": "jOUniOcRThPk"
      },
      "source": [
        "Adaptaremos a função roda modelo para uma nova"
      ]
    },
    {
      "cell_type": "code",
      "metadata": {
        "id": "yyuYxNOQSues"
      },
      "source": [
        "def roda_modelo_cv(modelo, dados,n_splits,n_repeats):\r\n",
        "\r\n",
        "\r\n",
        "  np.random.seed(434876)\r\n",
        "  #como não temos a opção shuffle aqui,\r\n",
        "  #está se torna uma forma de embaralhar dados\r\n",
        "  dados = dados.sample(frac=1).reset_index(drop=True) #reseta index gerados\r\n",
        "\r\n",
        "\r\n",
        "  x_columns = dados.columns\r\n",
        "  y = dados[\"ICU\"]\r\n",
        "  x = dados[x_columns].drop([\"ICU\",\"WINDOW\"], axis=1)\r\n",
        "\r\n",
        "  cv = RepeatedStratifiedKFold(n_splits = n_splits, n_repeats = n_repeats)\r\n",
        "  resultados = cross_validate(modelo, x, y, cv=cv,scoring='roc_auc',return_train_score=True)\r\n",
        "\r\n",
        "  auc_medio = np.mean(resultados['test_score'])\r\n",
        "  auc_medio_treino = np.mean(resultados['train_score'])\r\n",
        "  auc_std = np.std(resultados['test_score'])\r\n",
        "  \r\n",
        "  print(f\"AUC: {auc_medio} -  {auc_medio_treino}\")\r\n",
        "  return auc_medio, auc_medio_treino\r\n",
        "  # print(f\"AUC: {auc_medio}\\\r\n",
        "  # \\nIntervalo: {auc_medio - (2 * auc_std)} - {auc_medio + (2 * auc_std)}\")\r\n",
        "  "
      ],
      "execution_count": 32,
      "outputs": []
    },
    {
      "cell_type": "markdown",
      "metadata": {
        "id": "Yu9quGSrVhWQ"
      },
      "source": [
        "**Modelo LOGISTIC REGRESSION**"
      ]
    },
    {
      "cell_type": "markdown",
      "metadata": {
        "id": "KS_a-6T0VvEP"
      },
      "source": [
        "> com cross - validation e Repeated Stratified K-Fold"
      ]
    },
    {
      "cell_type": "code",
      "metadata": {
        "colab": {
          "base_uri": "https://localhost:8080/"
        },
        "id": "rxnSQ7KDUyQt",
        "outputId": "7397cfcd-c14d-4dac-928e-88f00feb0604"
      },
      "source": [
        "roda_modelo_cv(modelo,dados_limpos,5,10)"
      ],
      "execution_count": 33,
      "outputs": [
        {
          "output_type": "stream",
          "text": [
            "AUC: 0.7591737116901591 -  0.8649421285546367\n"
          ],
          "name": "stdout"
        },
        {
          "output_type": "execute_result",
          "data": {
            "text/plain": [
              "(0.7591737116901591, 0.8649421285546367)"
            ]
          },
          "metadata": {
            "tags": []
          },
          "execution_count": 33
        }
      ]
    },
    {
      "cell_type": "markdown",
      "metadata": {
        "id": "pjlOTnfMV2I-"
      },
      "source": [
        "> com fit , predict, roc_auc_score"
      ]
    },
    {
      "cell_type": "code",
      "metadata": {
        "colab": {
          "base_uri": "https://localhost:8080/"
        },
        "id": "aRY44CtgVm3n",
        "outputId": "57968bd5-9ea9-46d2-9869-5d4ae2299873"
      },
      "source": [
        "roda_n_modelos(modelo,dados_limpos,50)"
      ],
      "execution_count": 34,
      "outputs": [
        {
          "output_type": "stream",
          "text": [
            "AUC: 0.7530150492994292\t STD: 0.03940161642914456\n",
            "\n",
            "INTERVALO: 0.67421181644114 - 0.8318182821577184 \n"
          ],
          "name": "stdout"
        }
      ]
    },
    {
      "cell_type": "markdown",
      "metadata": {
        "id": "jg1eEleEVkpu"
      },
      "source": [
        "Modelo ARVORE"
      ]
    },
    {
      "cell_type": "markdown",
      "metadata": {
        "id": "VAd7ROrwWHTX"
      },
      "source": [
        "> com cross - validation e Repeated Stratified K-Fold"
      ]
    },
    {
      "cell_type": "code",
      "metadata": {
        "colab": {
          "base_uri": "https://localhost:8080/"
        },
        "id": "szSTBxrcVYZY",
        "outputId": "730252fe-25fb-4ee6-baf5-20939bef04cf"
      },
      "source": [
        "roda_modelo_cv(modelo_arvore,dados_limpos,5,10)"
      ],
      "execution_count": 35,
      "outputs": [
        {
          "output_type": "stream",
          "text": [
            "AUC: 0.6250049571102202 -  1.0\n"
          ],
          "name": "stdout"
        },
        {
          "output_type": "execute_result",
          "data": {
            "text/plain": [
              "(0.6250049571102202, 1.0)"
            ]
          },
          "metadata": {
            "tags": []
          },
          "execution_count": 35
        }
      ]
    },
    {
      "cell_type": "markdown",
      "metadata": {
        "id": "bwT5sdB_WJ6O"
      },
      "source": [
        "> com fit , predict, roc_auc_score"
      ]
    },
    {
      "cell_type": "code",
      "metadata": {
        "colab": {
          "base_uri": "https://localhost:8080/"
        },
        "id": "GzQZsNhuVbtE",
        "outputId": "8dca35ef-0ea9-4126-deb5-deb4e06fa758"
      },
      "source": [
        "roda_n_modelos(modelo_arvore,dados_limpos,50)"
      ],
      "execution_count": 36,
      "outputs": [
        {
          "output_type": "stream",
          "text": [
            "AUC: 0.6379968863518424\t STD: 0.044693728115295185\n",
            "\n",
            "INTERVALO: 0.548609430121252 - 0.7273843425824328 \n"
          ],
          "name": "stdout"
        }
      ]
    },
    {
      "cell_type": "markdown",
      "metadata": {
        "id": "Ltblq8ZBYf1f"
      },
      "source": [
        ""
      ]
    },
    {
      "cell_type": "markdown",
      "metadata": {
        "id": "ZwbIheGaYf5Z"
      },
      "source": [
        "### 📒 Desafio 08: Testar outros splitter classes e observar as diferenças."
      ]
    },
    {
      "cell_type": "markdown",
      "metadata": {
        "id": "Odw256bHYm3w"
      },
      "source": [
        "#AULA 5 : DESAFIOS EM MACHINE LEARNING\r\n",
        "---"
      ]
    },
    {
      "cell_type": "code",
      "metadata": {
        "id": "yEdtChghYmTv",
        "colab": {
          "base_uri": "https://localhost:8080/"
        },
        "outputId": "2af35554-0974-42b2-c655-c39fb6f59fba"
      },
      "source": [
        "from sklearn.tree import DecisionTreeClassifier\r\n",
        "\r\n",
        "teste_lista = []\r\n",
        "treino_lista = []\r\n",
        "for i in range(1,15):\r\n",
        "  modelo_arvore = DecisionTreeClassifier(max_depth=i)\r\n",
        "  teste,treino = roda_modelo_cv(modelo_arvore,dados_limpos,5,10)\r\n",
        "  teste_lista.append(teste)\r\n",
        "  treino_lista.append(treino)\r\n"
      ],
      "execution_count": 37,
      "outputs": [
        {
          "output_type": "stream",
          "text": [
            "AUC: 0.5753627580930213 -  0.6462702868167568\n",
            "AUC: 0.6547482178649942 -  0.7540090621608231\n",
            "AUC: 0.6708181858593043 -  0.8254718012694471\n",
            "AUC: 0.6670769012134143 -  0.8852336545445912\n",
            "AUC: 0.6408893365554549 -  0.9301090648573542\n",
            "AUC: 0.6311601254364413 -  0.9574896547099648\n",
            "AUC: 0.6103239094357515 -  0.9744039246449021\n",
            "AUC: 0.5928434752036725 -  0.984075879002609\n",
            "AUC: 0.5931051715591189 -  0.9900051874708217\n",
            "AUC: 0.5881909376481745 -  0.993956725128006\n",
            "AUC: 0.6049288964502781 -  0.9970944428025339\n",
            "AUC: 0.614950664629941 -  0.9987030180629718\n",
            "AUC: 0.6231154696861934 -  0.9995326605684471\n",
            "AUC: 0.6250192559485321 -  0.9999323195007601\n"
          ],
          "name": "stdout"
        }
      ]
    },
    {
      "cell_type": "code",
      "metadata": {
        "colab": {
          "base_uri": "https://localhost:8080/",
          "height": 393
        },
        "id": "NhToxNhlGJCR",
        "outputId": "a89d9e7f-31e7-4cdf-d554-0238a36b5101"
      },
      "source": [
        "x = range(1,15)\r\n",
        "\r\n",
        "plt.figure(figsize=(12,6))\r\n",
        "plt.plot(x,teste_lista)\r\n",
        "plt.plot(x,treino_lista)\r\n",
        "plt.legend(['TESTE','TREINO'])\r\n",
        "plt.title(\"AUC MÉDIO - curva sobre a área : TESTE X TREINO\")\r\n",
        "# plt.ylim(0,1)\r\n",
        "plt.show()"
      ],
      "execution_count": 38,
      "outputs": [
        {
          "output_type": "display_data",
          "data": {
            "image/png": "[encoded data removed]",
            "text/plain": [
              "<Figure size 864x432 with 1 Axes>"
            ]
          },
          "metadata": {
            "tags": [],
            "needs_background": "light"
          }
        }
      ]
    },
    {
      "cell_type": "markdown",
      "metadata": {
        "id": "XtiINqd6LUx3"
      },
      "source": [
        "Ao que tudo indica, temos um **overfiting**. Significa que nossos dados ficaram tão bons para treino que quando generalizados, acabaram não indo muito bem"
      ]
    },
    {
      "cell_type": "code",
      "metadata": {
        "colab": {
          "base_uri": "https://localhost:8080/"
        },
        "id": "6z7Oh0WJJupr",
        "outputId": "f199e08c-f44c-414a-9794-faa41caf3844"
      },
      "source": [
        "from sklearn.ensemble import RandomForestClassifier\r\n",
        "\r\n",
        "teste_lista = []\r\n",
        "treino_lista = []\r\n",
        "for i in range(1,15):\r\n",
        "  modelo_random = RandomForestClassifier(max_depth=i)\r\n",
        "  teste,treino = roda_modelo_cv(modelo_random,dados_limpos,5,10)\r\n",
        "  teste_lista.append(teste)\r\n",
        "  treino_lista.append(treino)"
      ],
      "execution_count": 39,
      "outputs": [
        {
          "output_type": "stream",
          "text": [
            "AUC: 0.7747846620543989 -  0.8548634678781238\n",
            "AUC: 0.7837516299193931 -  0.8977908116650604\n",
            "AUC: 0.7890382128540022 -  0.9397243510263293\n",
            "AUC: 0.7909859530583216 -  0.9706763644907691\n",
            "AUC: 0.793447899155136 -  0.9879102951611647\n",
            "AUC: 0.7914095973964395 -  0.9959117818861474\n",
            "AUC: 0.7911027280270702 -  0.9989893030608237\n",
            "AUC: 0.7895684081210398 -  0.9998268109176044\n",
            "AUC: 0.7922168250786672 -  0.9999757189913765\n",
            "AUC: 0.7878131735204102 -  0.999998987854251\n",
            "AUC: 0.7910251384757965 -  1.0\n",
            "AUC: 0.7887270935708436 -  1.0\n",
            "AUC: 0.789928182518643 -  1.0\n",
            "AUC: 0.7895406186689081 -  1.0\n"
          ],
          "name": "stdout"
        }
      ]
    },
    {
      "cell_type": "code",
      "metadata": {
        "colab": {
          "base_uri": "https://localhost:8080/",
          "height": 393
        },
        "id": "AxHeXmV1Rpvk",
        "outputId": "eacf30e2-d0fa-4754-90cb-2048148c4021"
      },
      "source": [
        "x = range(1,15)\r\n",
        "\r\n",
        "plt.figure(figsize=(12,6))\r\n",
        "plt.plot(x,teste_lista)\r\n",
        "plt.plot(x,treino_lista)\r\n",
        "plt.legend(['TESTE','TREINO'])\r\n",
        "plt.title(\"AUC MÉDIO - curva sobre a área : TESTE X TREINO\")\r\n",
        "# plt.ylim(0,1)\r\n",
        "plt.show()"
      ],
      "execution_count": 40,
      "outputs": [
        {
          "output_type": "display_data",
          "data": {
            "image/png": "[encoded data removed]",
            "text/plain": [
              "<Figure size 864x432 with 1 Axes>"
            ]
          },
          "metadata": {
            "tags": [],
            "needs_background": "light"
          }
        }
      ]
    },
    {
      "cell_type": "markdown",
      "metadata": {
        "id": "63BaxSEcTVjB"
      },
      "source": [
        "procurar n_estimador"
      ]
    },
    {
      "cell_type": "code",
      "metadata": {
        "colab": {
          "base_uri": "https://localhost:8080/"
        },
        "id": "eITcMK9dRygn",
        "outputId": "f3bedc06-783c-4409-efa1-c7bb36e759cc"
      },
      "source": [
        "  modelo_random = RandomForestClassifier(n_estimators=10)\r\n",
        "  teste,treino = roda_modelo_cv(modelo_random,dados_limpos,5,10)"
      ],
      "execution_count": 41,
      "outputs": [
        {
          "output_type": "stream",
          "text": [
            "AUC: 0.7444428773869564 -  0.9991880101534882\n"
          ],
          "name": "stdout"
        }
      ]
    },
    {
      "cell_type": "code",
      "metadata": {
        "colab": {
          "base_uri": "https://localhost:8080/"
        },
        "id": "_Uei1sbLTadi",
        "outputId": "261da1d2-4aa5-43f7-9d92-9f180f8c06e6"
      },
      "source": [
        "  modelo_random = RandomForestClassifier(n_estimators=100)\r\n",
        "  teste,treino = roda_modelo_cv(modelo_random,dados_limpos,5,10)"
      ],
      "execution_count": 42,
      "outputs": [
        {
          "output_type": "stream",
          "text": [
            "AUC: 0.7888795516509332 -  1.0\n"
          ],
          "name": "stdout"
        }
      ]
    },
    {
      "cell_type": "markdown",
      "metadata": {
        "id": "TfJLakoZU3-l"
      },
      "source": [
        "### 📒 Desafio 09: Deixar o gráfico de AUC bonitão."
      ]
    },
    {
      "cell_type": "code",
      "metadata": {
        "colab": {
          "base_uri": "https://localhost:8080/",
          "height": 393
        },
        "id": "vYCPsQ3kZoM1",
        "outputId": "dbb48276-4bca-45b4-d2e2-828dcf413545"
      },
      "source": [
        "x = range(1,15)\r\n",
        "\r\n",
        "plt.figure(figsize=(12,6))\r\n",
        "plt.plot(x,teste_lista)\r\n",
        "plt.plot(x,treino_lista)\r\n",
        "plt.legend(['TESTE','TREINO'])\r\n",
        "plt.title(\"AUC MÉDIO - curva sobre a área : TESTE X TREINO\")\r\n",
        "# plt.ylim(0,1)\r\n",
        "plt.show()"
      ],
      "execution_count": 43,
      "outputs": [
        {
          "output_type": "display_data",
          "data": {
            "image/png": "[encoded data removed]",
            "text/plain": [
              "<Figure size 864x432 with 1 Axes>"
            ]
          },
          "metadata": {
            "tags": [],
            "needs_background": "light"
          }
        }
      ]
    },
    {
      "cell_type": "markdown",
      "metadata": {
        "id": "dowL8ILCU4BJ"
      },
      "source": [
        "### 📒 Desafio 10: Criar um sobreajuste com outra base de dados, outro modelo de ML e plotar o gráfico para análise. (Dica: Base do titanic)."
      ]
    },
    {
      "cell_type": "markdown",
      "metadata": {
        "id": "c0BsxcFDU4Gf"
      },
      "source": [
        "### 📒 Desafio 11: Estudar um pouco mais sobre overfit e underfit."
      ]
    },
    {
      "cell_type": "markdown",
      "metadata": {
        "id": "f4U04HhdU4D5"
      },
      "source": [
        "### 📒 Desafio 12: Escolha um modelo de ML, estude os hiperparâmetros desse modelo e teste vários hiperparâmetros."
      ]
    },
    {
      "cell_type": "code",
      "metadata": {
        "colab": {
          "base_uri": "https://localhost:8080/"
        },
        "id": "rsiVEglnavnA",
        "outputId": "58824f5e-4614-4f09-af91-5ba3098ca60c"
      },
      "source": [
        "from xgboost import XGBClassifier\r\n",
        "\r\n",
        "teste_lista = []\r\n",
        "treino_lista = []\r\n",
        "for i in range(1,15):\r\n",
        "  modelo_XGBClassifier = XGBClassifier(max_depth=i)\r\n",
        "  teste,treino = roda_modelo_cv(modelo_XGBClassifier,dados_limpos,5,10)\r\n",
        "  teste_lista.append(teste)\r\n",
        "  treino_lista.append(treino)"
      ],
      "execution_count": 44,
      "outputs": [
        {
          "output_type": "stream",
          "text": [
            "AUC: 0.7665045503038925 -  0.9169913989357553\n",
            "AUC: 0.7836546968619337 -  0.9910765798960152\n",
            "AUC: 0.7877704319151689 -  0.9999675038329628\n",
            "AUC: 0.7876470295055821 -  1.0\n",
            "AUC: 0.7884932540195697 -  1.0\n",
            "AUC: 0.7854901612138455 -  1.0\n",
            "AUC: 0.7874718603172549 -  1.0\n",
            "AUC: 0.7874253200568988 -  1.0\n",
            "AUC: 0.7864063644984697 -  1.0\n",
            "AUC: 0.7859017899478424 -  1.0\n",
            "AUC: 0.7866068041725938 -  1.0\n",
            "AUC: 0.7870470575240313 -  1.0\n",
            "AUC: 0.7861466819690505 -  1.0\n",
            "AUC: 0.7864816101987155 -  1.0\n"
          ],
          "name": "stdout"
        }
      ]
    },
    {
      "cell_type": "code",
      "metadata": {
        "colab": {
          "base_uri": "https://localhost:8080/",
          "height": 393
        },
        "id": "Qhsdcut_bCCu",
        "outputId": "1053589e-4951-42cd-bc11-28495cd7e61d"
      },
      "source": [
        "x = range(1,15)\r\n",
        "\r\n",
        "plt.figure(figsize=(12,6))\r\n",
        "plt.plot(x,teste_lista)\r\n",
        "plt.plot(x,treino_lista)\r\n",
        "plt.legend(['TESTE','TREINO'])\r\n",
        "plt.title(\"AUC MÉDIO - curva sobre a área : TESTE X TREINO\")\r\n",
        "# plt.ylim(0,1)\r\n",
        "plt.show()"
      ],
      "execution_count": 45,
      "outputs": [
        {
          "output_type": "display_data",
          "data": {
            "image/png": "[encoded data removed]",
            "text/plain": [
              "<Figure size 864x432 with 1 Axes>"
            ]
          },
          "metadata": {
            "tags": [],
            "needs_background": "light"
          }
        }
      ]
    },
    {
      "cell_type": "markdown",
      "metadata": {
        "id": "eyUPI3RaVENW"
      },
      "source": [
        "### 📒 Desafio 13: Pesquisar como salvar um modelo treinado."
      ]
    },
    {
      "cell_type": "markdown",
      "metadata": {
        "id": "4va0ZK5FVOse"
      },
      "source": [
        "#AULA 6 : FINALIZANDO A VALIDAÇÃO\r\n",
        "---"
      ]
    },
    {
      "cell_type": "markdown",
      "metadata": {
        "id": "IfIM8M3VlNwR"
      },
      "source": [
        "removendo features com alta correlação"
      ]
    },
    {
      "cell_type": "code",
      "metadata": {
        "colab": {
          "base_uri": "https://localhost:8080/"
        },
        "id": "ZoKKY0F2l1Ix",
        "outputId": "8d5c19a2-eeaa-407c-d71c-237b66ea86cc"
      },
      "source": [
        "dados_limpos.info()"
      ],
      "execution_count": 46,
      "outputs": [
        {
          "output_type": "stream",
          "text": [
            "<class 'pandas.core.frame.DataFrame'>\n",
            "MultiIndex: 352 entries, (0, 0) to (384, 1920)\n",
            "Columns: 231 entries, PATIENT_VISIT_IDENTIFIER to ICU\n",
            "dtypes: float64(225), int64(4), int8(1), object(1)\n",
            "memory usage: 659.8+ KB\n"
          ],
          "name": "stdout"
        }
      ]
    },
    {
      "cell_type": "code",
      "metadata": {
        "colab": {
          "base_uri": "https://localhost:8080/",
          "height": 450
        },
        "id": "q41opIEvmG_a",
        "outputId": "344616eb-e32b-4fc8-ea43-32cf67fc6062"
      },
      "source": [
        "dados_limpos.select_dtypes(exclude='float64')"
      ],
      "execution_count": 47,
      "outputs": [
        {
          "output_type": "execute_result",
          "data": {
            "text/html": [
              "<div>\n",
              "<style scoped>\n",
              "    .dataframe tbody tr th:only-of-type {\n",
              "        vertical-align: middle;\n",
              "    }\n",
              "\n",
              "    .dataframe tbody tr th {\n",
              "        vertical-align: top;\n",
              "    }\n",
              "\n",
              "    .dataframe thead th {\n",
              "        text-align: right;\n",
              "    }\n",
              "</style>\n",
              "<table border=\"1\" class=\"dataframe\">\n",
              "  <thead>\n",
              "    <tr style=\"text-align: right;\">\n",
              "      <th></th>\n",
              "      <th></th>\n",
              "      <th>PATIENT_VISIT_IDENTIFIER</th>\n",
              "      <th>AGE_ABOVE65</th>\n",
              "      <th>AGE_PERCENTIL</th>\n",
              "      <th>GENDER</th>\n",
              "      <th>WINDOW</th>\n",
              "      <th>ICU</th>\n",
              "    </tr>\n",
              "    <tr>\n",
              "      <th>PATIENT_VISIT_IDENTIFIER</th>\n",
              "      <th></th>\n",
              "      <th></th>\n",
              "      <th></th>\n",
              "      <th></th>\n",
              "      <th></th>\n",
              "      <th></th>\n",
              "      <th></th>\n",
              "    </tr>\n",
              "  </thead>\n",
              "  <tbody>\n",
              "    <tr>\n",
              "      <th>0</th>\n",
              "      <th>0</th>\n",
              "      <td>0</td>\n",
              "      <td>1</td>\n",
              "      <td>5</td>\n",
              "      <td>0</td>\n",
              "      <td>0-2</td>\n",
              "      <td>1</td>\n",
              "    </tr>\n",
              "    <tr>\n",
              "      <th>2</th>\n",
              "      <th>10</th>\n",
              "      <td>2</td>\n",
              "      <td>0</td>\n",
              "      <td>0</td>\n",
              "      <td>0</td>\n",
              "      <td>0-2</td>\n",
              "      <td>1</td>\n",
              "    </tr>\n",
              "    <tr>\n",
              "      <th>3</th>\n",
              "      <th>15</th>\n",
              "      <td>3</td>\n",
              "      <td>0</td>\n",
              "      <td>3</td>\n",
              "      <td>1</td>\n",
              "      <td>0-2</td>\n",
              "      <td>0</td>\n",
              "    </tr>\n",
              "    <tr>\n",
              "      <th>4</th>\n",
              "      <th>20</th>\n",
              "      <td>4</td>\n",
              "      <td>0</td>\n",
              "      <td>0</td>\n",
              "      <td>0</td>\n",
              "      <td>0-2</td>\n",
              "      <td>0</td>\n",
              "    </tr>\n",
              "    <tr>\n",
              "      <th>5</th>\n",
              "      <th>25</th>\n",
              "      <td>5</td>\n",
              "      <td>0</td>\n",
              "      <td>0</td>\n",
              "      <td>0</td>\n",
              "      <td>0-2</td>\n",
              "      <td>0</td>\n",
              "    </tr>\n",
              "    <tr>\n",
              "      <th>...</th>\n",
              "      <th>...</th>\n",
              "      <td>...</td>\n",
              "      <td>...</td>\n",
              "      <td>...</td>\n",
              "      <td>...</td>\n",
              "      <td>...</td>\n",
              "      <td>...</td>\n",
              "    </tr>\n",
              "    <tr>\n",
              "      <th>380</th>\n",
              "      <th>1900</th>\n",
              "      <td>380</td>\n",
              "      <td>0</td>\n",
              "      <td>3</td>\n",
              "      <td>1</td>\n",
              "      <td>0-2</td>\n",
              "      <td>1</td>\n",
              "    </tr>\n",
              "    <tr>\n",
              "      <th>381</th>\n",
              "      <th>1905</th>\n",
              "      <td>381</td>\n",
              "      <td>1</td>\n",
              "      <td>9</td>\n",
              "      <td>0</td>\n",
              "      <td>0-2</td>\n",
              "      <td>0</td>\n",
              "    </tr>\n",
              "    <tr>\n",
              "      <th>382</th>\n",
              "      <th>1910</th>\n",
              "      <td>382</td>\n",
              "      <td>0</td>\n",
              "      <td>4</td>\n",
              "      <td>0</td>\n",
              "      <td>0-2</td>\n",
              "      <td>1</td>\n",
              "    </tr>\n",
              "    <tr>\n",
              "      <th>383</th>\n",
              "      <th>1915</th>\n",
              "      <td>383</td>\n",
              "      <td>0</td>\n",
              "      <td>3</td>\n",
              "      <td>1</td>\n",
              "      <td>0-2</td>\n",
              "      <td>0</td>\n",
              "    </tr>\n",
              "    <tr>\n",
              "      <th>384</th>\n",
              "      <th>1920</th>\n",
              "      <td>384</td>\n",
              "      <td>0</td>\n",
              "      <td>4</td>\n",
              "      <td>1</td>\n",
              "      <td>0-2</td>\n",
              "      <td>0</td>\n",
              "    </tr>\n",
              "  </tbody>\n",
              "</table>\n",
              "<p>352 rows × 6 columns</p>\n",
              "</div>"
            ],
            "text/plain": [
              "                               PATIENT_VISIT_IDENTIFIER  ...  ICU\n",
              "PATIENT_VISIT_IDENTIFIER                                 ...     \n",
              "0                        0                            0  ...    1\n",
              "2                        10                           2  ...    1\n",
              "3                        15                           3  ...    0\n",
              "4                        20                           4  ...    0\n",
              "5                        25                           5  ...    0\n",
              "...                                                 ...  ...  ...\n",
              "380                      1900                       380  ...    1\n",
              "381                      1905                       381  ...    0\n",
              "382                      1910                       382  ...    1\n",
              "383                      1915                       383  ...    0\n",
              "384                      1920                       384  ...    0\n",
              "\n",
              "[352 rows x 6 columns]"
            ]
          },
          "metadata": {
            "tags": []
          },
          "execution_count": 47
        }
      ]
    },
    {
      "cell_type": "code",
      "metadata": {
        "id": "thUqZgWnVV9p"
      },
      "source": [
        "alta_corr = 0.95\r\n",
        "matriz_corr = dados_limpos.iloc[:,4:-2].corr().abs()\r\n",
        "excluir  = [ coluna for coluna in matriz_corr.columns if any(matriz_corr[coluna] > alta_corr)]"
      ],
      "execution_count": 48,
      "outputs": []
    },
    {
      "cell_type": "markdown",
      "metadata": {
        "id": "n3Jd_IZOlhQQ"
      },
      "source": [
        "buscaremos escolher as colunas com alta correlação e que serão removidas"
      ]
    },
    {
      "cell_type": "code",
      "metadata": {
        "colab": {
          "base_uri": "https://localhost:8080/"
        },
        "id": "9XzVpwk1lfUR",
        "outputId": "fe7af88b-9ff8-4bdc-c93a-ab6be3e78109"
      },
      "source": [
        "excluir"
      ],
      "execution_count": 49,
      "outputs": [
        {
          "output_type": "execute_result",
          "data": {
            "text/plain": [
              "['DISEASE GROUPING 1',\n",
              " 'DISEASE GROUPING 2',\n",
              " 'DISEASE GROUPING 3',\n",
              " 'DISEASE GROUPING 4',\n",
              " 'DISEASE GROUPING 5',\n",
              " 'DISEASE GROUPING 6',\n",
              " 'HTN',\n",
              " 'IMMUNOCOMPROMISED',\n",
              " 'OTHER',\n",
              " 'ALBUMIN_MEDIAN',\n",
              " 'ALBUMIN_MEAN',\n",
              " 'ALBUMIN_MIN',\n",
              " 'ALBUMIN_MAX',\n",
              " 'BE_ARTERIAL_MEDIAN',\n",
              " 'BE_ARTERIAL_MEAN',\n",
              " 'BE_ARTERIAL_MIN',\n",
              " 'BE_ARTERIAL_MAX',\n",
              " 'BE_VENOUS_MEDIAN',\n",
              " 'BE_VENOUS_MEAN',\n",
              " 'BE_VENOUS_MIN',\n",
              " 'BE_VENOUS_MAX',\n",
              " 'BIC_ARTERIAL_MEDIAN',\n",
              " 'BIC_ARTERIAL_MEAN',\n",
              " 'BIC_ARTERIAL_MIN',\n",
              " 'BIC_ARTERIAL_MAX',\n",
              " 'BIC_VENOUS_MEDIAN',\n",
              " 'BIC_VENOUS_MEAN',\n",
              " 'BIC_VENOUS_MIN',\n",
              " 'BIC_VENOUS_MAX',\n",
              " 'BILLIRUBIN_MEDIAN',\n",
              " 'BILLIRUBIN_MEAN',\n",
              " 'BILLIRUBIN_MIN',\n",
              " 'BILLIRUBIN_MAX',\n",
              " 'BLAST_MEDIAN',\n",
              " 'BLAST_MEAN',\n",
              " 'BLAST_MIN',\n",
              " 'BLAST_MAX',\n",
              " 'CALCIUM_MEDIAN',\n",
              " 'CALCIUM_MEAN',\n",
              " 'CALCIUM_MIN',\n",
              " 'CALCIUM_MAX',\n",
              " 'CREATININ_MEDIAN',\n",
              " 'CREATININ_MEAN',\n",
              " 'CREATININ_MIN',\n",
              " 'CREATININ_MAX',\n",
              " 'FFA_MEDIAN',\n",
              " 'FFA_MEAN',\n",
              " 'FFA_MIN',\n",
              " 'FFA_MAX',\n",
              " 'GGT_MEDIAN',\n",
              " 'GGT_MEAN',\n",
              " 'GGT_MIN',\n",
              " 'GGT_MAX',\n",
              " 'GLUCOSE_MEDIAN',\n",
              " 'GLUCOSE_MEAN',\n",
              " 'GLUCOSE_MIN',\n",
              " 'GLUCOSE_MAX',\n",
              " 'HEMATOCRITE_MEDIAN',\n",
              " 'HEMATOCRITE_MEAN',\n",
              " 'HEMATOCRITE_MIN',\n",
              " 'HEMATOCRITE_MAX',\n",
              " 'HEMOGLOBIN_MEDIAN',\n",
              " 'HEMOGLOBIN_MEAN',\n",
              " 'HEMOGLOBIN_MIN',\n",
              " 'HEMOGLOBIN_MAX',\n",
              " 'INR_MEDIAN',\n",
              " 'INR_MEAN',\n",
              " 'INR_MIN',\n",
              " 'INR_MAX',\n",
              " 'LACTATE_MEDIAN',\n",
              " 'LACTATE_MEAN',\n",
              " 'LACTATE_MIN',\n",
              " 'LACTATE_MAX',\n",
              " 'LEUKOCYTES_MEDIAN',\n",
              " 'LEUKOCYTES_MEAN',\n",
              " 'LEUKOCYTES_MIN',\n",
              " 'LEUKOCYTES_MAX',\n",
              " 'LINFOCITOS_MEDIAN',\n",
              " 'LINFOCITOS_MEAN',\n",
              " 'LINFOCITOS_MIN',\n",
              " 'LINFOCITOS_MAX',\n",
              " 'NEUTROPHILES_MEDIAN',\n",
              " 'NEUTROPHILES_MEAN',\n",
              " 'NEUTROPHILES_MIN',\n",
              " 'NEUTROPHILES_MAX',\n",
              " 'P02_ARTERIAL_MEDIAN',\n",
              " 'P02_ARTERIAL_MEAN',\n",
              " 'P02_ARTERIAL_MIN',\n",
              " 'P02_ARTERIAL_MAX',\n",
              " 'P02_VENOUS_MEDIAN',\n",
              " 'P02_VENOUS_MEAN',\n",
              " 'P02_VENOUS_MIN',\n",
              " 'P02_VENOUS_MAX',\n",
              " 'PC02_ARTERIAL_MEDIAN',\n",
              " 'PC02_ARTERIAL_MEAN',\n",
              " 'PC02_ARTERIAL_MIN',\n",
              " 'PC02_ARTERIAL_MAX',\n",
              " 'PC02_VENOUS_MEDIAN',\n",
              " 'PC02_VENOUS_MEAN',\n",
              " 'PC02_VENOUS_MIN',\n",
              " 'PC02_VENOUS_MAX',\n",
              " 'PCR_MEDIAN',\n",
              " 'PCR_MEAN',\n",
              " 'PCR_MIN',\n",
              " 'PCR_MAX',\n",
              " 'PH_ARTERIAL_MEDIAN',\n",
              " 'PH_ARTERIAL_MEAN',\n",
              " 'PH_ARTERIAL_MIN',\n",
              " 'PH_ARTERIAL_MAX',\n",
              " 'PH_VENOUS_MEDIAN',\n",
              " 'PH_VENOUS_MEAN',\n",
              " 'PH_VENOUS_MIN',\n",
              " 'PH_VENOUS_MAX',\n",
              " 'PLATELETS_MEDIAN',\n",
              " 'PLATELETS_MEAN',\n",
              " 'PLATELETS_MIN',\n",
              " 'PLATELETS_MAX',\n",
              " 'POTASSIUM_MEDIAN',\n",
              " 'POTASSIUM_MEAN',\n",
              " 'POTASSIUM_MIN',\n",
              " 'POTASSIUM_MAX',\n",
              " 'SAT02_ARTERIAL_MEDIAN',\n",
              " 'SAT02_ARTERIAL_MEAN',\n",
              " 'SAT02_ARTERIAL_MIN',\n",
              " 'SAT02_ARTERIAL_MAX',\n",
              " 'SAT02_VENOUS_MEDIAN',\n",
              " 'SAT02_VENOUS_MEAN',\n",
              " 'SAT02_VENOUS_MIN',\n",
              " 'SAT02_VENOUS_MAX',\n",
              " 'SODIUM_MEDIAN',\n",
              " 'SODIUM_MEAN',\n",
              " 'SODIUM_MIN',\n",
              " 'SODIUM_MAX',\n",
              " 'TGO_MEDIAN',\n",
              " 'TGO_MEAN',\n",
              " 'TGO_MIN',\n",
              " 'TGO_MAX',\n",
              " 'TGP_MEDIAN',\n",
              " 'TGP_MEAN',\n",
              " 'TGP_MIN',\n",
              " 'TGP_MAX',\n",
              " 'TTPA_MEDIAN',\n",
              " 'TTPA_MEAN',\n",
              " 'TTPA_MIN',\n",
              " 'TTPA_MAX',\n",
              " 'UREA_MEDIAN',\n",
              " 'UREA_MEAN',\n",
              " 'UREA_MIN',\n",
              " 'UREA_MAX',\n",
              " 'DIMER_MEDIAN',\n",
              " 'DIMER_MEAN',\n",
              " 'DIMER_MIN',\n",
              " 'DIMER_MAX',\n",
              " 'BLOODPRESSURE_DIASTOLIC_MEAN',\n",
              " 'BLOODPRESSURE_SISTOLIC_MEAN',\n",
              " 'HEART_RATE_MEAN',\n",
              " 'RESPIRATORY_RATE_MEAN',\n",
              " 'TEMPERATURE_MEAN',\n",
              " 'OXYGEN_SATURATION_MEAN',\n",
              " 'BLOODPRESSURE_DIASTOLIC_MEDIAN',\n",
              " 'BLOODPRESSURE_SISTOLIC_MEDIAN',\n",
              " 'HEART_RATE_MEDIAN',\n",
              " 'RESPIRATORY_RATE_MEDIAN',\n",
              " 'TEMPERATURE_MEDIAN',\n",
              " 'OXYGEN_SATURATION_MEDIAN',\n",
              " 'BLOODPRESSURE_DIASTOLIC_MIN',\n",
              " 'BLOODPRESSURE_SISTOLIC_MIN',\n",
              " 'HEART_RATE_MIN',\n",
              " 'RESPIRATORY_RATE_MIN',\n",
              " 'TEMPERATURE_MIN',\n",
              " 'OXYGEN_SATURATION_MIN',\n",
              " 'BLOODPRESSURE_DIASTOLIC_MAX',\n",
              " 'BLOODPRESSURE_SISTOLIC_MAX',\n",
              " 'HEART_RATE_MAX',\n",
              " 'RESPIRATORY_RATE_MAX',\n",
              " 'TEMPERATURE_MAX',\n",
              " 'OXYGEN_SATURATION_MAX',\n",
              " 'BLOODPRESSURE_DIASTOLIC_DIFF',\n",
              " 'BLOODPRESSURE_SISTOLIC_DIFF',\n",
              " 'HEART_RATE_DIFF',\n",
              " 'RESPIRATORY_RATE_DIFF',\n",
              " 'TEMPERATURE_DIFF',\n",
              " 'OXYGEN_SATURATION_DIFF',\n",
              " 'BLOODPRESSURE_DIASTOLIC_DIFF_REL',\n",
              " 'BLOODPRESSURE_SISTOLIC_DIFF_REL',\n",
              " 'HEART_RATE_DIFF_REL',\n",
              " 'RESPIRATORY_RATE_DIFF_REL',\n",
              " 'TEMPERATURE_DIFF_REL',\n",
              " 'OXYGEN_SATURATION_DIFF_REL']"
            ]
          },
          "metadata": {
            "tags": []
          },
          "execution_count": 49
        }
      ]
    },
    {
      "cell_type": "markdown",
      "metadata": {
        "id": "VtKhAad_uB2X"
      },
      "source": [
        "O problema é que fazendo isso, desse modo apenas, iremos excluir basicamente todo o conjunto de dados. Ainda há o fato de que a matriz gerada possuir na diagonal ,valores iguais a um, e de serem espelhados. Uma outra abordagem, mas ainda com a mesma ideia, deve ser feita pra resolver isso."
      ]
    },
    {
      "cell_type": "code",
      "metadata": {
        "colab": {
          "base_uri": "https://localhost:8080/"
        },
        "id": "NITtSiXMpVpd",
        "outputId": "9f3f8168-8ac4-451d-ac8d-d7d004f75bd4"
      },
      "source": [
        "matriz_corr.shape"
      ],
      "execution_count": 50,
      "outputs": [
        {
          "output_type": "execute_result",
          "data": {
            "text/plain": [
              "(225, 225)"
            ]
          },
          "metadata": {
            "tags": []
          },
          "execution_count": 50
        }
      ]
    },
    {
      "cell_type": "markdown",
      "metadata": {
        "id": "xuVpVYHMugIw"
      },
      "source": [
        "Vamos criar uma matriz com o numpy"
      ]
    },
    {
      "cell_type": "code",
      "metadata": {
        "colab": {
          "base_uri": "https://localhost:8080/"
        },
        "id": "rI7SyeYQuc47",
        "outputId": "45dd26fb-5447-480c-80a5-074212ab9cef"
      },
      "source": [
        "np.ones(matriz_corr.shape)"
      ],
      "execution_count": 51,
      "outputs": [
        {
          "output_type": "execute_result",
          "data": {
            "text/plain": [
              "array([[1., 1., 1., ..., 1., 1., 1.],\n",
              "       [1., 1., 1., ..., 1., 1., 1.],\n",
              "       [1., 1., 1., ..., 1., 1., 1.],\n",
              "       ...,\n",
              "       [1., 1., 1., ..., 1., 1., 1.],\n",
              "       [1., 1., 1., ..., 1., 1., 1.],\n",
              "       [1., 1., 1., ..., 1., 1., 1.]])"
            ]
          },
          "metadata": {
            "tags": []
          },
          "execution_count": 51
        }
      ]
    },
    {
      "cell_type": "markdown",
      "metadata": {
        "id": "sxBK57AQvX22"
      },
      "source": [
        "Vamos excluir a diagonal principal e o triangulo inferior"
      ]
    },
    {
      "cell_type": "code",
      "metadata": {
        "colab": {
          "base_uri": "https://localhost:8080/"
        },
        "id": "5fyqBUM5veAP",
        "outputId": "4731da9f-b50c-4f66-beae-e4afff6f1370"
      },
      "source": [
        "np.triu(np.ones(matriz_corr.shape),k=1)"
      ],
      "execution_count": 52,
      "outputs": [
        {
          "output_type": "execute_result",
          "data": {
            "text/plain": [
              "array([[0., 1., 1., ..., 1., 1., 1.],\n",
              "       [0., 0., 1., ..., 1., 1., 1.],\n",
              "       [0., 0., 0., ..., 1., 1., 1.],\n",
              "       ...,\n",
              "       [0., 0., 0., ..., 0., 1., 1.],\n",
              "       [0., 0., 0., ..., 0., 0., 1.],\n",
              "       [0., 0., 0., ..., 0., 0., 0.]])"
            ]
          },
          "metadata": {
            "tags": []
          },
          "execution_count": 52
        }
      ]
    },
    {
      "cell_type": "markdown",
      "metadata": {
        "id": "RT7Zw0-muojs"
      },
      "source": [
        "em python, 1 == True, lembre-se"
      ]
    },
    {
      "cell_type": "code",
      "metadata": {
        "colab": {
          "base_uri": "https://localhost:8080/"
        },
        "id": "X1jmS3txun2_",
        "outputId": "d13f7cb2-9ddf-4a55-f5ed-f7ca26d3d6cd"
      },
      "source": [
        "np.triu(np.ones(matriz_corr.shape),k=1).astype(np.bool)"
      ],
      "execution_count": 53,
      "outputs": [
        {
          "output_type": "execute_result",
          "data": {
            "text/plain": [
              "array([[False,  True,  True, ...,  True,  True,  True],\n",
              "       [False, False,  True, ...,  True,  True,  True],\n",
              "       [False, False, False, ...,  True,  True,  True],\n",
              "       ...,\n",
              "       [False, False, False, ..., False,  True,  True],\n",
              "       [False, False, False, ..., False, False,  True],\n",
              "       [False, False, False, ..., False, False, False]])"
            ]
          },
          "metadata": {
            "tags": []
          },
          "execution_count": 53
        }
      ]
    },
    {
      "cell_type": "markdown",
      "metadata": {
        "id": "-UPKgATgvva2"
      },
      "source": [
        "agora aplica a função `where`do python e assim, pega-se apenas os valores True"
      ]
    },
    {
      "cell_type": "code",
      "metadata": {
        "colab": {
          "base_uri": "https://localhost:8080/",
          "height": 473
        },
        "id": "VbbkkJqOuz6x",
        "outputId": "c3debb94-887d-4c6e-e57e-686076c22603"
      },
      "source": [
        "matriz_corr.where(np.triu(np.ones(matriz_corr.shape),k=1).astype(np.bool))"
      ],
      "execution_count": 54,
      "outputs": [
        {
          "output_type": "execute_result",
          "data": {
            "text/html": [
              "<div>\n",
              "<style scoped>\n",
              "    .dataframe tbody tr th:only-of-type {\n",
              "        vertical-align: middle;\n",
              "    }\n",
              "\n",
              "    .dataframe tbody tr th {\n",
              "        vertical-align: top;\n",
              "    }\n",
              "\n",
              "    .dataframe thead th {\n",
              "        text-align: right;\n",
              "    }\n",
              "</style>\n",
              "<table border=\"1\" class=\"dataframe\">\n",
              "  <thead>\n",
              "    <tr style=\"text-align: right;\">\n",
              "      <th></th>\n",
              "      <th>DISEASE GROUPING 1</th>\n",
              "      <th>DISEASE GROUPING 2</th>\n",
              "      <th>DISEASE GROUPING 3</th>\n",
              "      <th>DISEASE GROUPING 4</th>\n",
              "      <th>DISEASE GROUPING 5</th>\n",
              "      <th>DISEASE GROUPING 6</th>\n",
              "      <th>HTN</th>\n",
              "      <th>IMMUNOCOMPROMISED</th>\n",
              "      <th>OTHER</th>\n",
              "      <th>ALBUMIN_MEDIAN</th>\n",
              "      <th>ALBUMIN_MEAN</th>\n",
              "      <th>ALBUMIN_MIN</th>\n",
              "      <th>ALBUMIN_MAX</th>\n",
              "      <th>ALBUMIN_DIFF</th>\n",
              "      <th>BE_ARTERIAL_MEDIAN</th>\n",
              "      <th>BE_ARTERIAL_MEAN</th>\n",
              "      <th>BE_ARTERIAL_MIN</th>\n",
              "      <th>BE_ARTERIAL_MAX</th>\n",
              "      <th>BE_ARTERIAL_DIFF</th>\n",
              "      <th>BE_VENOUS_MEDIAN</th>\n",
              "      <th>BE_VENOUS_MEAN</th>\n",
              "      <th>BE_VENOUS_MIN</th>\n",
              "      <th>BE_VENOUS_MAX</th>\n",
              "      <th>BE_VENOUS_DIFF</th>\n",
              "      <th>BIC_ARTERIAL_MEDIAN</th>\n",
              "      <th>BIC_ARTERIAL_MEAN</th>\n",
              "      <th>BIC_ARTERIAL_MIN</th>\n",
              "      <th>BIC_ARTERIAL_MAX</th>\n",
              "      <th>BIC_ARTERIAL_DIFF</th>\n",
              "      <th>BIC_VENOUS_MEDIAN</th>\n",
              "      <th>BIC_VENOUS_MEAN</th>\n",
              "      <th>BIC_VENOUS_MIN</th>\n",
              "      <th>BIC_VENOUS_MAX</th>\n",
              "      <th>BIC_VENOUS_DIFF</th>\n",
              "      <th>BILLIRUBIN_MEDIAN</th>\n",
              "      <th>BILLIRUBIN_MEAN</th>\n",
              "      <th>BILLIRUBIN_MIN</th>\n",
              "      <th>BILLIRUBIN_MAX</th>\n",
              "      <th>BILLIRUBIN_DIFF</th>\n",
              "      <th>BLAST_MEDIAN</th>\n",
              "      <th>...</th>\n",
              "      <th>DIMER_MEAN</th>\n",
              "      <th>DIMER_MIN</th>\n",
              "      <th>DIMER_MAX</th>\n",
              "      <th>DIMER_DIFF</th>\n",
              "      <th>BLOODPRESSURE_DIASTOLIC_MEAN</th>\n",
              "      <th>BLOODPRESSURE_SISTOLIC_MEAN</th>\n",
              "      <th>HEART_RATE_MEAN</th>\n",
              "      <th>RESPIRATORY_RATE_MEAN</th>\n",
              "      <th>TEMPERATURE_MEAN</th>\n",
              "      <th>OXYGEN_SATURATION_MEAN</th>\n",
              "      <th>BLOODPRESSURE_DIASTOLIC_MEDIAN</th>\n",
              "      <th>BLOODPRESSURE_SISTOLIC_MEDIAN</th>\n",
              "      <th>HEART_RATE_MEDIAN</th>\n",
              "      <th>RESPIRATORY_RATE_MEDIAN</th>\n",
              "      <th>TEMPERATURE_MEDIAN</th>\n",
              "      <th>OXYGEN_SATURATION_MEDIAN</th>\n",
              "      <th>BLOODPRESSURE_DIASTOLIC_MIN</th>\n",
              "      <th>BLOODPRESSURE_SISTOLIC_MIN</th>\n",
              "      <th>HEART_RATE_MIN</th>\n",
              "      <th>RESPIRATORY_RATE_MIN</th>\n",
              "      <th>TEMPERATURE_MIN</th>\n",
              "      <th>OXYGEN_SATURATION_MIN</th>\n",
              "      <th>BLOODPRESSURE_DIASTOLIC_MAX</th>\n",
              "      <th>BLOODPRESSURE_SISTOLIC_MAX</th>\n",
              "      <th>HEART_RATE_MAX</th>\n",
              "      <th>RESPIRATORY_RATE_MAX</th>\n",
              "      <th>TEMPERATURE_MAX</th>\n",
              "      <th>OXYGEN_SATURATION_MAX</th>\n",
              "      <th>BLOODPRESSURE_DIASTOLIC_DIFF</th>\n",
              "      <th>BLOODPRESSURE_SISTOLIC_DIFF</th>\n",
              "      <th>HEART_RATE_DIFF</th>\n",
              "      <th>RESPIRATORY_RATE_DIFF</th>\n",
              "      <th>TEMPERATURE_DIFF</th>\n",
              "      <th>OXYGEN_SATURATION_DIFF</th>\n",
              "      <th>BLOODPRESSURE_DIASTOLIC_DIFF_REL</th>\n",
              "      <th>BLOODPRESSURE_SISTOLIC_DIFF_REL</th>\n",
              "      <th>HEART_RATE_DIFF_REL</th>\n",
              "      <th>RESPIRATORY_RATE_DIFF_REL</th>\n",
              "      <th>TEMPERATURE_DIFF_REL</th>\n",
              "      <th>OXYGEN_SATURATION_DIFF_REL</th>\n",
              "    </tr>\n",
              "  </thead>\n",
              "  <tbody>\n",
              "    <tr>\n",
              "      <th>DISEASE GROUPING 1</th>\n",
              "      <td>NaN</td>\n",
              "      <td>0.196347</td>\n",
              "      <td>0.278271</td>\n",
              "      <td>0.017529</td>\n",
              "      <td>0.340370</td>\n",
              "      <td>0.202849</td>\n",
              "      <td>0.489245</td>\n",
              "      <td>0.176224</td>\n",
              "      <td>0.153793</td>\n",
              "      <td>0.009174</td>\n",
              "      <td>0.009174</td>\n",
              "      <td>0.009174</td>\n",
              "      <td>0.009174</td>\n",
              "      <td>NaN</td>\n",
              "      <td>0.030413</td>\n",
              "      <td>0.030413</td>\n",
              "      <td>0.030413</td>\n",
              "      <td>0.030413</td>\n",
              "      <td>NaN</td>\n",
              "      <td>0.104179</td>\n",
              "      <td>0.104179</td>\n",
              "      <td>0.104179</td>\n",
              "      <td>0.104179</td>\n",
              "      <td>NaN</td>\n",
              "      <td>0.013215</td>\n",
              "      <td>0.013215</td>\n",
              "      <td>0.013215</td>\n",
              "      <td>0.013215</td>\n",
              "      <td>NaN</td>\n",
              "      <td>0.072771</td>\n",
              "      <td>0.072771</td>\n",
              "      <td>0.072771</td>\n",
              "      <td>0.072771</td>\n",
              "      <td>NaN</td>\n",
              "      <td>0.046671</td>\n",
              "      <td>0.046671</td>\n",
              "      <td>0.046671</td>\n",
              "      <td>0.046671</td>\n",
              "      <td>NaN</td>\n",
              "      <td>0.020510</td>\n",
              "      <td>...</td>\n",
              "      <td>0.005561</td>\n",
              "      <td>0.005561</td>\n",
              "      <td>0.005561</td>\n",
              "      <td>NaN</td>\n",
              "      <td>0.105965</td>\n",
              "      <td>0.112316</td>\n",
              "      <td>0.015686</td>\n",
              "      <td>0.089330</td>\n",
              "      <td>0.035513</td>\n",
              "      <td>0.025573</td>\n",
              "      <td>0.100418</td>\n",
              "      <td>0.110268</td>\n",
              "      <td>0.033409</td>\n",
              "      <td>0.092466</td>\n",
              "      <td>0.033773</td>\n",
              "      <td>0.031653</td>\n",
              "      <td>0.084358</td>\n",
              "      <td>0.124403</td>\n",
              "      <td>0.021311</td>\n",
              "      <td>0.094510</td>\n",
              "      <td>0.024580</td>\n",
              "      <td>0.037813</td>\n",
              "      <td>0.120437</td>\n",
              "      <td>0.099909</td>\n",
              "      <td>0.032427</td>\n",
              "      <td>0.073348</td>\n",
              "      <td>0.042184</td>\n",
              "      <td>0.008804</td>\n",
              "      <td>0.054710</td>\n",
              "      <td>0.053091</td>\n",
              "      <td>0.129220</td>\n",
              "      <td>0.028964</td>\n",
              "      <td>0.041099</td>\n",
              "      <td>0.056287</td>\n",
              "      <td>0.050070</td>\n",
              "      <td>0.054745</td>\n",
              "      <td>0.093512</td>\n",
              "      <td>0.052568</td>\n",
              "      <td>0.039692</td>\n",
              "      <td>0.056984</td>\n",
              "    </tr>\n",
              "    <tr>\n",
              "      <th>DISEASE GROUPING 2</th>\n",
              "      <td>NaN</td>\n",
              "      <td>NaN</td>\n",
              "      <td>0.084392</td>\n",
              "      <td>0.114818</td>\n",
              "      <td>0.112878</td>\n",
              "      <td>0.032173</td>\n",
              "      <td>0.118516</td>\n",
              "      <td>0.139947</td>\n",
              "      <td>0.068432</td>\n",
              "      <td>0.032245</td>\n",
              "      <td>0.032245</td>\n",
              "      <td>0.032245</td>\n",
              "      <td>0.032245</td>\n",
              "      <td>NaN</td>\n",
              "      <td>0.013532</td>\n",
              "      <td>0.013532</td>\n",
              "      <td>0.013532</td>\n",
              "      <td>0.013532</td>\n",
              "      <td>NaN</td>\n",
              "      <td>0.027544</td>\n",
              "      <td>0.027544</td>\n",
              "      <td>0.027544</td>\n",
              "      <td>0.027544</td>\n",
              "      <td>NaN</td>\n",
              "      <td>0.005880</td>\n",
              "      <td>0.005880</td>\n",
              "      <td>0.005880</td>\n",
              "      <td>0.005880</td>\n",
              "      <td>NaN</td>\n",
              "      <td>0.036119</td>\n",
              "      <td>0.036119</td>\n",
              "      <td>0.036119</td>\n",
              "      <td>0.036119</td>\n",
              "      <td>NaN</td>\n",
              "      <td>0.003539</td>\n",
              "      <td>0.003539</td>\n",
              "      <td>0.003539</td>\n",
              "      <td>0.003539</td>\n",
              "      <td>NaN</td>\n",
              "      <td>0.009126</td>\n",
              "      <td>...</td>\n",
              "      <td>0.048981</td>\n",
              "      <td>0.048981</td>\n",
              "      <td>0.048981</td>\n",
              "      <td>NaN</td>\n",
              "      <td>0.095532</td>\n",
              "      <td>0.031352</td>\n",
              "      <td>0.016813</td>\n",
              "      <td>0.020068</td>\n",
              "      <td>0.011225</td>\n",
              "      <td>0.032448</td>\n",
              "      <td>0.112696</td>\n",
              "      <td>0.024483</td>\n",
              "      <td>0.012664</td>\n",
              "      <td>0.021007</td>\n",
              "      <td>0.012416</td>\n",
              "      <td>0.059772</td>\n",
              "      <td>0.093647</td>\n",
              "      <td>0.026938</td>\n",
              "      <td>0.021756</td>\n",
              "      <td>0.019150</td>\n",
              "      <td>0.005121</td>\n",
              "      <td>0.038081</td>\n",
              "      <td>0.070772</td>\n",
              "      <td>0.041188</td>\n",
              "      <td>0.015483</td>\n",
              "      <td>0.018921</td>\n",
              "      <td>0.016164</td>\n",
              "      <td>0.006302</td>\n",
              "      <td>0.046677</td>\n",
              "      <td>0.029821</td>\n",
              "      <td>0.014222</td>\n",
              "      <td>0.001618</td>\n",
              "      <td>0.024705</td>\n",
              "      <td>0.085122</td>\n",
              "      <td>0.070419</td>\n",
              "      <td>0.016917</td>\n",
              "      <td>0.005102</td>\n",
              "      <td>0.003487</td>\n",
              "      <td>0.024682</td>\n",
              "      <td>0.099019</td>\n",
              "    </tr>\n",
              "    <tr>\n",
              "      <th>DISEASE GROUPING 3</th>\n",
              "      <td>NaN</td>\n",
              "      <td>NaN</td>\n",
              "      <td>NaN</td>\n",
              "      <td>0.308875</td>\n",
              "      <td>0.293259</td>\n",
              "      <td>0.275760</td>\n",
              "      <td>0.471039</td>\n",
              "      <td>0.075599</td>\n",
              "      <td>0.141903</td>\n",
              "      <td>0.035719</td>\n",
              "      <td>0.035719</td>\n",
              "      <td>0.035719</td>\n",
              "      <td>0.035719</td>\n",
              "      <td>NaN</td>\n",
              "      <td>0.028061</td>\n",
              "      <td>0.028061</td>\n",
              "      <td>0.028061</td>\n",
              "      <td>0.028061</td>\n",
              "      <td>NaN</td>\n",
              "      <td>0.078813</td>\n",
              "      <td>0.078813</td>\n",
              "      <td>0.078813</td>\n",
              "      <td>0.078813</td>\n",
              "      <td>NaN</td>\n",
              "      <td>0.121935</td>\n",
              "      <td>0.121935</td>\n",
              "      <td>0.121935</td>\n",
              "      <td>0.121935</td>\n",
              "      <td>NaN</td>\n",
              "      <td>0.058743</td>\n",
              "      <td>0.058743</td>\n",
              "      <td>0.058743</td>\n",
              "      <td>0.058743</td>\n",
              "      <td>NaN</td>\n",
              "      <td>0.006233</td>\n",
              "      <td>0.006233</td>\n",
              "      <td>0.006233</td>\n",
              "      <td>0.006233</td>\n",
              "      <td>NaN</td>\n",
              "      <td>0.165258</td>\n",
              "      <td>...</td>\n",
              "      <td>0.009263</td>\n",
              "      <td>0.009263</td>\n",
              "      <td>0.009263</td>\n",
              "      <td>NaN</td>\n",
              "      <td>0.046600</td>\n",
              "      <td>0.144381</td>\n",
              "      <td>0.050511</td>\n",
              "      <td>0.052495</td>\n",
              "      <td>0.095023</td>\n",
              "      <td>0.149534</td>\n",
              "      <td>0.055008</td>\n",
              "      <td>0.141602</td>\n",
              "      <td>0.047499</td>\n",
              "      <td>0.043561</td>\n",
              "      <td>0.093179</td>\n",
              "      <td>0.149762</td>\n",
              "      <td>0.039784</td>\n",
              "      <td>0.136814</td>\n",
              "      <td>0.048458</td>\n",
              "      <td>0.060394</td>\n",
              "      <td>0.093307</td>\n",
              "      <td>0.139419</td>\n",
              "      <td>0.044819</td>\n",
              "      <td>0.150604</td>\n",
              "      <td>0.053770</td>\n",
              "      <td>0.049369</td>\n",
              "      <td>0.088511</td>\n",
              "      <td>0.140484</td>\n",
              "      <td>0.005354</td>\n",
              "      <td>0.027667</td>\n",
              "      <td>0.015035</td>\n",
              "      <td>0.013900</td>\n",
              "      <td>0.000746</td>\n",
              "      <td>0.005011</td>\n",
              "      <td>0.004373</td>\n",
              "      <td>0.020683</td>\n",
              "      <td>0.011633</td>\n",
              "      <td>0.008895</td>\n",
              "      <td>0.003183</td>\n",
              "      <td>0.006110</td>\n",
              "    </tr>\n",
              "    <tr>\n",
              "      <th>DISEASE GROUPING 4</th>\n",
              "      <td>NaN</td>\n",
              "      <td>NaN</td>\n",
              "      <td>NaN</td>\n",
              "      <td>NaN</td>\n",
              "      <td>0.128287</td>\n",
              "      <td>0.171438</td>\n",
              "      <td>0.136472</td>\n",
              "      <td>0.103100</td>\n",
              "      <td>0.063919</td>\n",
              "      <td>0.049593</td>\n",
              "      <td>0.049593</td>\n",
              "      <td>0.049593</td>\n",
              "      <td>0.049593</td>\n",
              "      <td>NaN</td>\n",
              "      <td>0.012640</td>\n",
              "      <td>0.012640</td>\n",
              "      <td>0.012640</td>\n",
              "      <td>0.012640</td>\n",
              "      <td>NaN</td>\n",
              "      <td>0.051789</td>\n",
              "      <td>0.051789</td>\n",
              "      <td>0.051789</td>\n",
              "      <td>0.051789</td>\n",
              "      <td>NaN</td>\n",
              "      <td>0.005492</td>\n",
              "      <td>0.005492</td>\n",
              "      <td>0.005492</td>\n",
              "      <td>0.005492</td>\n",
              "      <td>NaN</td>\n",
              "      <td>0.072546</td>\n",
              "      <td>0.072546</td>\n",
              "      <td>0.072546</td>\n",
              "      <td>0.072546</td>\n",
              "      <td>NaN</td>\n",
              "      <td>0.028718</td>\n",
              "      <td>0.028718</td>\n",
              "      <td>0.028718</td>\n",
              "      <td>0.028718</td>\n",
              "      <td>NaN</td>\n",
              "      <td>0.008524</td>\n",
              "      <td>...</td>\n",
              "      <td>0.033033</td>\n",
              "      <td>0.033033</td>\n",
              "      <td>0.033033</td>\n",
              "      <td>NaN</td>\n",
              "      <td>0.019144</td>\n",
              "      <td>0.034627</td>\n",
              "      <td>0.034718</td>\n",
              "      <td>0.004610</td>\n",
              "      <td>0.051448</td>\n",
              "      <td>0.024472</td>\n",
              "      <td>0.019504</td>\n",
              "      <td>0.037214</td>\n",
              "      <td>0.030669</td>\n",
              "      <td>0.014016</td>\n",
              "      <td>0.052923</td>\n",
              "      <td>0.024739</td>\n",
              "      <td>0.004050</td>\n",
              "      <td>0.025055</td>\n",
              "      <td>0.031339</td>\n",
              "      <td>0.004614</td>\n",
              "      <td>0.058499</td>\n",
              "      <td>0.030767</td>\n",
              "      <td>0.032219</td>\n",
              "      <td>0.039058</td>\n",
              "      <td>0.040484</td>\n",
              "      <td>0.004397</td>\n",
              "      <td>0.040834</td>\n",
              "      <td>0.017660</td>\n",
              "      <td>0.047751</td>\n",
              "      <td>0.029316</td>\n",
              "      <td>0.023554</td>\n",
              "      <td>0.016131</td>\n",
              "      <td>0.032550</td>\n",
              "      <td>0.026121</td>\n",
              "      <td>0.043714</td>\n",
              "      <td>0.029596</td>\n",
              "      <td>0.034997</td>\n",
              "      <td>0.023616</td>\n",
              "      <td>0.034426</td>\n",
              "      <td>0.025072</td>\n",
              "    </tr>\n",
              "    <tr>\n",
              "      <th>DISEASE GROUPING 5</th>\n",
              "      <td>NaN</td>\n",
              "      <td>NaN</td>\n",
              "      <td>NaN</td>\n",
              "      <td>NaN</td>\n",
              "      <td>NaN</td>\n",
              "      <td>0.129836</td>\n",
              "      <td>0.459169</td>\n",
              "      <td>0.108849</td>\n",
              "      <td>0.149025</td>\n",
              "      <td>0.082353</td>\n",
              "      <td>0.082353</td>\n",
              "      <td>0.082353</td>\n",
              "      <td>0.082353</td>\n",
              "      <td>NaN</td>\n",
              "      <td>0.033974</td>\n",
              "      <td>0.033974</td>\n",
              "      <td>0.033974</td>\n",
              "      <td>0.033974</td>\n",
              "      <td>NaN</td>\n",
              "      <td>0.172121</td>\n",
              "      <td>0.172121</td>\n",
              "      <td>0.172121</td>\n",
              "      <td>0.172121</td>\n",
              "      <td>NaN</td>\n",
              "      <td>0.014763</td>\n",
              "      <td>0.014763</td>\n",
              "      <td>0.014763</td>\n",
              "      <td>0.014763</td>\n",
              "      <td>NaN</td>\n",
              "      <td>0.106352</td>\n",
              "      <td>0.106352</td>\n",
              "      <td>0.106352</td>\n",
              "      <td>0.106352</td>\n",
              "      <td>NaN</td>\n",
              "      <td>0.056465</td>\n",
              "      <td>0.056465</td>\n",
              "      <td>0.056465</td>\n",
              "      <td>0.056465</td>\n",
              "      <td>NaN</td>\n",
              "      <td>0.022911</td>\n",
              "      <td>...</td>\n",
              "      <td>0.107738</td>\n",
              "      <td>0.107738</td>\n",
              "      <td>0.107738</td>\n",
              "      <td>NaN</td>\n",
              "      <td>0.033291</td>\n",
              "      <td>0.172617</td>\n",
              "      <td>0.052666</td>\n",
              "      <td>0.119807</td>\n",
              "      <td>0.036462</td>\n",
              "      <td>0.044508</td>\n",
              "      <td>0.026296</td>\n",
              "      <td>0.167685</td>\n",
              "      <td>0.036575</td>\n",
              "      <td>0.114308</td>\n",
              "      <td>0.038221</td>\n",
              "      <td>0.039902</td>\n",
              "      <td>0.040379</td>\n",
              "      <td>0.182998</td>\n",
              "      <td>0.062681</td>\n",
              "      <td>0.130494</td>\n",
              "      <td>0.016953</td>\n",
              "      <td>0.072522</td>\n",
              "      <td>0.031325</td>\n",
              "      <td>0.158012</td>\n",
              "      <td>0.056816</td>\n",
              "      <td>0.098298</td>\n",
              "      <td>0.053493</td>\n",
              "      <td>0.022151</td>\n",
              "      <td>0.018744</td>\n",
              "      <td>0.054761</td>\n",
              "      <td>0.011404</td>\n",
              "      <td>0.045482</td>\n",
              "      <td>0.081749</td>\n",
              "      <td>0.098081</td>\n",
              "      <td>0.017232</td>\n",
              "      <td>0.059434</td>\n",
              "      <td>0.045113</td>\n",
              "      <td>0.058564</td>\n",
              "      <td>0.080693</td>\n",
              "      <td>0.097014</td>\n",
              "    </tr>\n",
              "    <tr>\n",
              "      <th>...</th>\n",
              "      <td>...</td>\n",
              "      <td>...</td>\n",
              "      <td>...</td>\n",
              "      <td>...</td>\n",
              "      <td>...</td>\n",
              "      <td>...</td>\n",
              "      <td>...</td>\n",
              "      <td>...</td>\n",
              "      <td>...</td>\n",
              "      <td>...</td>\n",
              "      <td>...</td>\n",
              "      <td>...</td>\n",
              "      <td>...</td>\n",
              "      <td>...</td>\n",
              "      <td>...</td>\n",
              "      <td>...</td>\n",
              "      <td>...</td>\n",
              "      <td>...</td>\n",
              "      <td>...</td>\n",
              "      <td>...</td>\n",
              "      <td>...</td>\n",
              "      <td>...</td>\n",
              "      <td>...</td>\n",
              "      <td>...</td>\n",
              "      <td>...</td>\n",
              "      <td>...</td>\n",
              "      <td>...</td>\n",
              "      <td>...</td>\n",
              "      <td>...</td>\n",
              "      <td>...</td>\n",
              "      <td>...</td>\n",
              "      <td>...</td>\n",
              "      <td>...</td>\n",
              "      <td>...</td>\n",
              "      <td>...</td>\n",
              "      <td>...</td>\n",
              "      <td>...</td>\n",
              "      <td>...</td>\n",
              "      <td>...</td>\n",
              "      <td>...</td>\n",
              "      <td>...</td>\n",
              "      <td>...</td>\n",
              "      <td>...</td>\n",
              "      <td>...</td>\n",
              "      <td>...</td>\n",
              "      <td>...</td>\n",
              "      <td>...</td>\n",
              "      <td>...</td>\n",
              "      <td>...</td>\n",
              "      <td>...</td>\n",
              "      <td>...</td>\n",
              "      <td>...</td>\n",
              "      <td>...</td>\n",
              "      <td>...</td>\n",
              "      <td>...</td>\n",
              "      <td>...</td>\n",
              "      <td>...</td>\n",
              "      <td>...</td>\n",
              "      <td>...</td>\n",
              "      <td>...</td>\n",
              "      <td>...</td>\n",
              "      <td>...</td>\n",
              "      <td>...</td>\n",
              "      <td>...</td>\n",
              "      <td>...</td>\n",
              "      <td>...</td>\n",
              "      <td>...</td>\n",
              "      <td>...</td>\n",
              "      <td>...</td>\n",
              "      <td>...</td>\n",
              "      <td>...</td>\n",
              "      <td>...</td>\n",
              "      <td>...</td>\n",
              "      <td>...</td>\n",
              "      <td>...</td>\n",
              "      <td>...</td>\n",
              "      <td>...</td>\n",
              "      <td>...</td>\n",
              "      <td>...</td>\n",
              "      <td>...</td>\n",
              "      <td>...</td>\n",
              "    </tr>\n",
              "    <tr>\n",
              "      <th>BLOODPRESSURE_SISTOLIC_DIFF_REL</th>\n",
              "      <td>NaN</td>\n",
              "      <td>NaN</td>\n",
              "      <td>NaN</td>\n",
              "      <td>NaN</td>\n",
              "      <td>NaN</td>\n",
              "      <td>NaN</td>\n",
              "      <td>NaN</td>\n",
              "      <td>NaN</td>\n",
              "      <td>NaN</td>\n",
              "      <td>NaN</td>\n",
              "      <td>NaN</td>\n",
              "      <td>NaN</td>\n",
              "      <td>NaN</td>\n",
              "      <td>NaN</td>\n",
              "      <td>NaN</td>\n",
              "      <td>NaN</td>\n",
              "      <td>NaN</td>\n",
              "      <td>NaN</td>\n",
              "      <td>NaN</td>\n",
              "      <td>NaN</td>\n",
              "      <td>NaN</td>\n",
              "      <td>NaN</td>\n",
              "      <td>NaN</td>\n",
              "      <td>NaN</td>\n",
              "      <td>NaN</td>\n",
              "      <td>NaN</td>\n",
              "      <td>NaN</td>\n",
              "      <td>NaN</td>\n",
              "      <td>NaN</td>\n",
              "      <td>NaN</td>\n",
              "      <td>NaN</td>\n",
              "      <td>NaN</td>\n",
              "      <td>NaN</td>\n",
              "      <td>NaN</td>\n",
              "      <td>NaN</td>\n",
              "      <td>NaN</td>\n",
              "      <td>NaN</td>\n",
              "      <td>NaN</td>\n",
              "      <td>NaN</td>\n",
              "      <td>NaN</td>\n",
              "      <td>...</td>\n",
              "      <td>NaN</td>\n",
              "      <td>NaN</td>\n",
              "      <td>NaN</td>\n",
              "      <td>NaN</td>\n",
              "      <td>NaN</td>\n",
              "      <td>NaN</td>\n",
              "      <td>NaN</td>\n",
              "      <td>NaN</td>\n",
              "      <td>NaN</td>\n",
              "      <td>NaN</td>\n",
              "      <td>NaN</td>\n",
              "      <td>NaN</td>\n",
              "      <td>NaN</td>\n",
              "      <td>NaN</td>\n",
              "      <td>NaN</td>\n",
              "      <td>NaN</td>\n",
              "      <td>NaN</td>\n",
              "      <td>NaN</td>\n",
              "      <td>NaN</td>\n",
              "      <td>NaN</td>\n",
              "      <td>NaN</td>\n",
              "      <td>NaN</td>\n",
              "      <td>NaN</td>\n",
              "      <td>NaN</td>\n",
              "      <td>NaN</td>\n",
              "      <td>NaN</td>\n",
              "      <td>NaN</td>\n",
              "      <td>NaN</td>\n",
              "      <td>NaN</td>\n",
              "      <td>NaN</td>\n",
              "      <td>NaN</td>\n",
              "      <td>NaN</td>\n",
              "      <td>NaN</td>\n",
              "      <td>NaN</td>\n",
              "      <td>NaN</td>\n",
              "      <td>NaN</td>\n",
              "      <td>0.418624</td>\n",
              "      <td>0.421228</td>\n",
              "      <td>0.422108</td>\n",
              "      <td>0.479010</td>\n",
              "    </tr>\n",
              "    <tr>\n",
              "      <th>HEART_RATE_DIFF_REL</th>\n",
              "      <td>NaN</td>\n",
              "      <td>NaN</td>\n",
              "      <td>NaN</td>\n",
              "      <td>NaN</td>\n",
              "      <td>NaN</td>\n",
              "      <td>NaN</td>\n",
              "      <td>NaN</td>\n",
              "      <td>NaN</td>\n",
              "      <td>NaN</td>\n",
              "      <td>NaN</td>\n",
              "      <td>NaN</td>\n",
              "      <td>NaN</td>\n",
              "      <td>NaN</td>\n",
              "      <td>NaN</td>\n",
              "      <td>NaN</td>\n",
              "      <td>NaN</td>\n",
              "      <td>NaN</td>\n",
              "      <td>NaN</td>\n",
              "      <td>NaN</td>\n",
              "      <td>NaN</td>\n",
              "      <td>NaN</td>\n",
              "      <td>NaN</td>\n",
              "      <td>NaN</td>\n",
              "      <td>NaN</td>\n",
              "      <td>NaN</td>\n",
              "      <td>NaN</td>\n",
              "      <td>NaN</td>\n",
              "      <td>NaN</td>\n",
              "      <td>NaN</td>\n",
              "      <td>NaN</td>\n",
              "      <td>NaN</td>\n",
              "      <td>NaN</td>\n",
              "      <td>NaN</td>\n",
              "      <td>NaN</td>\n",
              "      <td>NaN</td>\n",
              "      <td>NaN</td>\n",
              "      <td>NaN</td>\n",
              "      <td>NaN</td>\n",
              "      <td>NaN</td>\n",
              "      <td>NaN</td>\n",
              "      <td>...</td>\n",
              "      <td>NaN</td>\n",
              "      <td>NaN</td>\n",
              "      <td>NaN</td>\n",
              "      <td>NaN</td>\n",
              "      <td>NaN</td>\n",
              "      <td>NaN</td>\n",
              "      <td>NaN</td>\n",
              "      <td>NaN</td>\n",
              "      <td>NaN</td>\n",
              "      <td>NaN</td>\n",
              "      <td>NaN</td>\n",
              "      <td>NaN</td>\n",
              "      <td>NaN</td>\n",
              "      <td>NaN</td>\n",
              "      <td>NaN</td>\n",
              "      <td>NaN</td>\n",
              "      <td>NaN</td>\n",
              "      <td>NaN</td>\n",
              "      <td>NaN</td>\n",
              "      <td>NaN</td>\n",
              "      <td>NaN</td>\n",
              "      <td>NaN</td>\n",
              "      <td>NaN</td>\n",
              "      <td>NaN</td>\n",
              "      <td>NaN</td>\n",
              "      <td>NaN</td>\n",
              "      <td>NaN</td>\n",
              "      <td>NaN</td>\n",
              "      <td>NaN</td>\n",
              "      <td>NaN</td>\n",
              "      <td>NaN</td>\n",
              "      <td>NaN</td>\n",
              "      <td>NaN</td>\n",
              "      <td>NaN</td>\n",
              "      <td>NaN</td>\n",
              "      <td>NaN</td>\n",
              "      <td>NaN</td>\n",
              "      <td>0.343703</td>\n",
              "      <td>0.364743</td>\n",
              "      <td>0.350001</td>\n",
              "    </tr>\n",
              "    <tr>\n",
              "      <th>RESPIRATORY_RATE_DIFF_REL</th>\n",
              "      <td>NaN</td>\n",
              "      <td>NaN</td>\n",
              "      <td>NaN</td>\n",
              "      <td>NaN</td>\n",
              "      <td>NaN</td>\n",
              "      <td>NaN</td>\n",
              "      <td>NaN</td>\n",
              "      <td>NaN</td>\n",
              "      <td>NaN</td>\n",
              "      <td>NaN</td>\n",
              "      <td>NaN</td>\n",
              "      <td>NaN</td>\n",
              "      <td>NaN</td>\n",
              "      <td>NaN</td>\n",
              "      <td>NaN</td>\n",
              "      <td>NaN</td>\n",
              "      <td>NaN</td>\n",
              "      <td>NaN</td>\n",
              "      <td>NaN</td>\n",
              "      <td>NaN</td>\n",
              "      <td>NaN</td>\n",
              "      <td>NaN</td>\n",
              "      <td>NaN</td>\n",
              "      <td>NaN</td>\n",
              "      <td>NaN</td>\n",
              "      <td>NaN</td>\n",
              "      <td>NaN</td>\n",
              "      <td>NaN</td>\n",
              "      <td>NaN</td>\n",
              "      <td>NaN</td>\n",
              "      <td>NaN</td>\n",
              "      <td>NaN</td>\n",
              "      <td>NaN</td>\n",
              "      <td>NaN</td>\n",
              "      <td>NaN</td>\n",
              "      <td>NaN</td>\n",
              "      <td>NaN</td>\n",
              "      <td>NaN</td>\n",
              "      <td>NaN</td>\n",
              "      <td>NaN</td>\n",
              "      <td>...</td>\n",
              "      <td>NaN</td>\n",
              "      <td>NaN</td>\n",
              "      <td>NaN</td>\n",
              "      <td>NaN</td>\n",
              "      <td>NaN</td>\n",
              "      <td>NaN</td>\n",
              "      <td>NaN</td>\n",
              "      <td>NaN</td>\n",
              "      <td>NaN</td>\n",
              "      <td>NaN</td>\n",
              "      <td>NaN</td>\n",
              "      <td>NaN</td>\n",
              "      <td>NaN</td>\n",
              "      <td>NaN</td>\n",
              "      <td>NaN</td>\n",
              "      <td>NaN</td>\n",
              "      <td>NaN</td>\n",
              "      <td>NaN</td>\n",
              "      <td>NaN</td>\n",
              "      <td>NaN</td>\n",
              "      <td>NaN</td>\n",
              "      <td>NaN</td>\n",
              "      <td>NaN</td>\n",
              "      <td>NaN</td>\n",
              "      <td>NaN</td>\n",
              "      <td>NaN</td>\n",
              "      <td>NaN</td>\n",
              "      <td>NaN</td>\n",
              "      <td>NaN</td>\n",
              "      <td>NaN</td>\n",
              "      <td>NaN</td>\n",
              "      <td>NaN</td>\n",
              "      <td>NaN</td>\n",
              "      <td>NaN</td>\n",
              "      <td>NaN</td>\n",
              "      <td>NaN</td>\n",
              "      <td>NaN</td>\n",
              "      <td>NaN</td>\n",
              "      <td>0.313204</td>\n",
              "      <td>0.342852</td>\n",
              "    </tr>\n",
              "    <tr>\n",
              "      <th>TEMPERATURE_DIFF_REL</th>\n",
              "      <td>NaN</td>\n",
              "      <td>NaN</td>\n",
              "      <td>NaN</td>\n",
              "      <td>NaN</td>\n",
              "      <td>NaN</td>\n",
              "      <td>NaN</td>\n",
              "      <td>NaN</td>\n",
              "      <td>NaN</td>\n",
              "      <td>NaN</td>\n",
              "      <td>NaN</td>\n",
              "      <td>NaN</td>\n",
              "      <td>NaN</td>\n",
              "      <td>NaN</td>\n",
              "      <td>NaN</td>\n",
              "      <td>NaN</td>\n",
              "      <td>NaN</td>\n",
              "      <td>NaN</td>\n",
              "      <td>NaN</td>\n",
              "      <td>NaN</td>\n",
              "      <td>NaN</td>\n",
              "      <td>NaN</td>\n",
              "      <td>NaN</td>\n",
              "      <td>NaN</td>\n",
              "      <td>NaN</td>\n",
              "      <td>NaN</td>\n",
              "      <td>NaN</td>\n",
              "      <td>NaN</td>\n",
              "      <td>NaN</td>\n",
              "      <td>NaN</td>\n",
              "      <td>NaN</td>\n",
              "      <td>NaN</td>\n",
              "      <td>NaN</td>\n",
              "      <td>NaN</td>\n",
              "      <td>NaN</td>\n",
              "      <td>NaN</td>\n",
              "      <td>NaN</td>\n",
              "      <td>NaN</td>\n",
              "      <td>NaN</td>\n",
              "      <td>NaN</td>\n",
              "      <td>NaN</td>\n",
              "      <td>...</td>\n",
              "      <td>NaN</td>\n",
              "      <td>NaN</td>\n",
              "      <td>NaN</td>\n",
              "      <td>NaN</td>\n",
              "      <td>NaN</td>\n",
              "      <td>NaN</td>\n",
              "      <td>NaN</td>\n",
              "      <td>NaN</td>\n",
              "      <td>NaN</td>\n",
              "      <td>NaN</td>\n",
              "      <td>NaN</td>\n",
              "      <td>NaN</td>\n",
              "      <td>NaN</td>\n",
              "      <td>NaN</td>\n",
              "      <td>NaN</td>\n",
              "      <td>NaN</td>\n",
              "      <td>NaN</td>\n",
              "      <td>NaN</td>\n",
              "      <td>NaN</td>\n",
              "      <td>NaN</td>\n",
              "      <td>NaN</td>\n",
              "      <td>NaN</td>\n",
              "      <td>NaN</td>\n",
              "      <td>NaN</td>\n",
              "      <td>NaN</td>\n",
              "      <td>NaN</td>\n",
              "      <td>NaN</td>\n",
              "      <td>NaN</td>\n",
              "      <td>NaN</td>\n",
              "      <td>NaN</td>\n",
              "      <td>NaN</td>\n",
              "      <td>NaN</td>\n",
              "      <td>NaN</td>\n",
              "      <td>NaN</td>\n",
              "      <td>NaN</td>\n",
              "      <td>NaN</td>\n",
              "      <td>NaN</td>\n",
              "      <td>NaN</td>\n",
              "      <td>NaN</td>\n",
              "      <td>0.493818</td>\n",
              "    </tr>\n",
              "    <tr>\n",
              "      <th>OXYGEN_SATURATION_DIFF_REL</th>\n",
              "      <td>NaN</td>\n",
              "      <td>NaN</td>\n",
              "      <td>NaN</td>\n",
              "      <td>NaN</td>\n",
              "      <td>NaN</td>\n",
              "      <td>NaN</td>\n",
              "      <td>NaN</td>\n",
              "      <td>NaN</td>\n",
              "      <td>NaN</td>\n",
              "      <td>NaN</td>\n",
              "      <td>NaN</td>\n",
              "      <td>NaN</td>\n",
              "      <td>NaN</td>\n",
              "      <td>NaN</td>\n",
              "      <td>NaN</td>\n",
              "      <td>NaN</td>\n",
              "      <td>NaN</td>\n",
              "      <td>NaN</td>\n",
              "      <td>NaN</td>\n",
              "      <td>NaN</td>\n",
              "      <td>NaN</td>\n",
              "      <td>NaN</td>\n",
              "      <td>NaN</td>\n",
              "      <td>NaN</td>\n",
              "      <td>NaN</td>\n",
              "      <td>NaN</td>\n",
              "      <td>NaN</td>\n",
              "      <td>NaN</td>\n",
              "      <td>NaN</td>\n",
              "      <td>NaN</td>\n",
              "      <td>NaN</td>\n",
              "      <td>NaN</td>\n",
              "      <td>NaN</td>\n",
              "      <td>NaN</td>\n",
              "      <td>NaN</td>\n",
              "      <td>NaN</td>\n",
              "      <td>NaN</td>\n",
              "      <td>NaN</td>\n",
              "      <td>NaN</td>\n",
              "      <td>NaN</td>\n",
              "      <td>...</td>\n",
              "      <td>NaN</td>\n",
              "      <td>NaN</td>\n",
              "      <td>NaN</td>\n",
              "      <td>NaN</td>\n",
              "      <td>NaN</td>\n",
              "      <td>NaN</td>\n",
              "      <td>NaN</td>\n",
              "      <td>NaN</td>\n",
              "      <td>NaN</td>\n",
              "      <td>NaN</td>\n",
              "      <td>NaN</td>\n",
              "      <td>NaN</td>\n",
              "      <td>NaN</td>\n",
              "      <td>NaN</td>\n",
              "      <td>NaN</td>\n",
              "      <td>NaN</td>\n",
              "      <td>NaN</td>\n",
              "      <td>NaN</td>\n",
              "      <td>NaN</td>\n",
              "      <td>NaN</td>\n",
              "      <td>NaN</td>\n",
              "      <td>NaN</td>\n",
              "      <td>NaN</td>\n",
              "      <td>NaN</td>\n",
              "      <td>NaN</td>\n",
              "      <td>NaN</td>\n",
              "      <td>NaN</td>\n",
              "      <td>NaN</td>\n",
              "      <td>NaN</td>\n",
              "      <td>NaN</td>\n",
              "      <td>NaN</td>\n",
              "      <td>NaN</td>\n",
              "      <td>NaN</td>\n",
              "      <td>NaN</td>\n",
              "      <td>NaN</td>\n",
              "      <td>NaN</td>\n",
              "      <td>NaN</td>\n",
              "      <td>NaN</td>\n",
              "      <td>NaN</td>\n",
              "      <td>NaN</td>\n",
              "    </tr>\n",
              "  </tbody>\n",
              "</table>\n",
              "<p>225 rows × 225 columns</p>\n",
              "</div>"
            ],
            "text/plain": [
              "                                 DISEASE GROUPING 1  ...  OXYGEN_SATURATION_DIFF_REL\n",
              "DISEASE GROUPING 1                              NaN  ...                    0.056984\n",
              "DISEASE GROUPING 2                              NaN  ...                    0.099019\n",
              "DISEASE GROUPING 3                              NaN  ...                    0.006110\n",
              "DISEASE GROUPING 4                              NaN  ...                    0.025072\n",
              "DISEASE GROUPING 5                              NaN  ...                    0.097014\n",
              "...                                             ...  ...                         ...\n",
              "BLOODPRESSURE_SISTOLIC_DIFF_REL                 NaN  ...                    0.479010\n",
              "HEART_RATE_DIFF_REL                             NaN  ...                    0.350001\n",
              "RESPIRATORY_RATE_DIFF_REL                       NaN  ...                    0.342852\n",
              "TEMPERATURE_DIFF_REL                            NaN  ...                    0.493818\n",
              "OXYGEN_SATURATION_DIFF_REL                      NaN  ...                         NaN\n",
              "\n",
              "[225 rows x 225 columns]"
            ]
          },
          "metadata": {
            "tags": []
          },
          "execution_count": 54
        }
      ]
    },
    {
      "cell_type": "code",
      "metadata": {
        "colab": {
          "base_uri": "https://localhost:8080/"
        },
        "id": "26sLjyBBv5p3",
        "outputId": "dd7ef6d8-141e-41d7-f474-2b0065d48a0a"
      },
      "source": [
        "matrix_upper = matriz_corr.where(np.triu(np.ones(matriz_corr.shape),k=1).astype(np.bool))\r\n",
        "excluir  = [ coluna for coluna in matrix_upper.columns if any(matrix_upper[coluna] > alta_corr)]\r\n",
        "excluir"
      ],
      "execution_count": 55,
      "outputs": [
        {
          "output_type": "execute_result",
          "data": {
            "text/plain": [
              "['ALBUMIN_MEAN',\n",
              " 'ALBUMIN_MIN',\n",
              " 'ALBUMIN_MAX',\n",
              " 'BE_ARTERIAL_MEAN',\n",
              " 'BE_ARTERIAL_MIN',\n",
              " 'BE_ARTERIAL_MAX',\n",
              " 'BE_VENOUS_MEAN',\n",
              " 'BE_VENOUS_MIN',\n",
              " 'BE_VENOUS_MAX',\n",
              " 'BIC_ARTERIAL_MEAN',\n",
              " 'BIC_ARTERIAL_MIN',\n",
              " 'BIC_ARTERIAL_MAX',\n",
              " 'BIC_VENOUS_MEAN',\n",
              " 'BIC_VENOUS_MIN',\n",
              " 'BIC_VENOUS_MAX',\n",
              " 'BILLIRUBIN_MEAN',\n",
              " 'BILLIRUBIN_MIN',\n",
              " 'BILLIRUBIN_MAX',\n",
              " 'BLAST_MEAN',\n",
              " 'BLAST_MIN',\n",
              " 'BLAST_MAX',\n",
              " 'CALCIUM_MEAN',\n",
              " 'CALCIUM_MIN',\n",
              " 'CALCIUM_MAX',\n",
              " 'CREATININ_MEAN',\n",
              " 'CREATININ_MIN',\n",
              " 'CREATININ_MAX',\n",
              " 'FFA_MEAN',\n",
              " 'FFA_MIN',\n",
              " 'FFA_MAX',\n",
              " 'GGT_MEAN',\n",
              " 'GGT_MIN',\n",
              " 'GGT_MAX',\n",
              " 'GLUCOSE_MEAN',\n",
              " 'GLUCOSE_MIN',\n",
              " 'GLUCOSE_MAX',\n",
              " 'HEMATOCRITE_MEAN',\n",
              " 'HEMATOCRITE_MIN',\n",
              " 'HEMATOCRITE_MAX',\n",
              " 'HEMOGLOBIN_MEDIAN',\n",
              " 'HEMOGLOBIN_MEAN',\n",
              " 'HEMOGLOBIN_MIN',\n",
              " 'HEMOGLOBIN_MAX',\n",
              " 'INR_MEAN',\n",
              " 'INR_MIN',\n",
              " 'INR_MAX',\n",
              " 'LACTATE_MEAN',\n",
              " 'LACTATE_MIN',\n",
              " 'LACTATE_MAX',\n",
              " 'LEUKOCYTES_MEAN',\n",
              " 'LEUKOCYTES_MIN',\n",
              " 'LEUKOCYTES_MAX',\n",
              " 'LINFOCITOS_MEAN',\n",
              " 'LINFOCITOS_MIN',\n",
              " 'LINFOCITOS_MAX',\n",
              " 'NEUTROPHILES_MEDIAN',\n",
              " 'NEUTROPHILES_MEAN',\n",
              " 'NEUTROPHILES_MIN',\n",
              " 'NEUTROPHILES_MAX',\n",
              " 'P02_ARTERIAL_MEAN',\n",
              " 'P02_ARTERIAL_MIN',\n",
              " 'P02_ARTERIAL_MAX',\n",
              " 'P02_VENOUS_MEAN',\n",
              " 'P02_VENOUS_MIN',\n",
              " 'P02_VENOUS_MAX',\n",
              " 'PC02_ARTERIAL_MEAN',\n",
              " 'PC02_ARTERIAL_MIN',\n",
              " 'PC02_ARTERIAL_MAX',\n",
              " 'PC02_VENOUS_MEAN',\n",
              " 'PC02_VENOUS_MIN',\n",
              " 'PC02_VENOUS_MAX',\n",
              " 'PCR_MEAN',\n",
              " 'PCR_MIN',\n",
              " 'PCR_MAX',\n",
              " 'PH_ARTERIAL_MEAN',\n",
              " 'PH_ARTERIAL_MIN',\n",
              " 'PH_ARTERIAL_MAX',\n",
              " 'PH_VENOUS_MEAN',\n",
              " 'PH_VENOUS_MIN',\n",
              " 'PH_VENOUS_MAX',\n",
              " 'PLATELETS_MEAN',\n",
              " 'PLATELETS_MIN',\n",
              " 'PLATELETS_MAX',\n",
              " 'POTASSIUM_MEAN',\n",
              " 'POTASSIUM_MIN',\n",
              " 'POTASSIUM_MAX',\n",
              " 'SAT02_ARTERIAL_MEAN',\n",
              " 'SAT02_ARTERIAL_MIN',\n",
              " 'SAT02_ARTERIAL_MAX',\n",
              " 'SAT02_VENOUS_MEAN',\n",
              " 'SAT02_VENOUS_MIN',\n",
              " 'SAT02_VENOUS_MAX',\n",
              " 'SODIUM_MEAN',\n",
              " 'SODIUM_MIN',\n",
              " 'SODIUM_MAX',\n",
              " 'TGO_MEAN',\n",
              " 'TGO_MIN',\n",
              " 'TGO_MAX',\n",
              " 'TGP_MEAN',\n",
              " 'TGP_MIN',\n",
              " 'TGP_MAX',\n",
              " 'TTPA_MEAN',\n",
              " 'TTPA_MIN',\n",
              " 'TTPA_MAX',\n",
              " 'UREA_MEAN',\n",
              " 'UREA_MIN',\n",
              " 'UREA_MAX',\n",
              " 'DIMER_MEAN',\n",
              " 'DIMER_MIN',\n",
              " 'DIMER_MAX',\n",
              " 'BLOODPRESSURE_DIASTOLIC_MEDIAN',\n",
              " 'BLOODPRESSURE_SISTOLIC_MEDIAN',\n",
              " 'HEART_RATE_MEDIAN',\n",
              " 'RESPIRATORY_RATE_MEDIAN',\n",
              " 'TEMPERATURE_MEDIAN',\n",
              " 'OXYGEN_SATURATION_MEDIAN',\n",
              " 'BLOODPRESSURE_DIASTOLIC_MIN',\n",
              " 'BLOODPRESSURE_SISTOLIC_MIN',\n",
              " 'HEART_RATE_MIN',\n",
              " 'TEMPERATURE_MIN',\n",
              " 'OXYGEN_SATURATION_MIN',\n",
              " 'BLOODPRESSURE_SISTOLIC_MAX',\n",
              " 'HEART_RATE_MAX',\n",
              " 'RESPIRATORY_RATE_MAX',\n",
              " 'TEMPERATURE_MAX',\n",
              " 'OXYGEN_SATURATION_MAX',\n",
              " 'BLOODPRESSURE_DIASTOLIC_DIFF_REL',\n",
              " 'BLOODPRESSURE_SISTOLIC_DIFF_REL',\n",
              " 'RESPIRATORY_RATE_DIFF_REL',\n",
              " 'TEMPERATURE_DIFF_REL',\n",
              " 'OXYGEN_SATURATION_DIFF_REL']"
            ]
          },
          "metadata": {
            "tags": []
          },
          "execution_count": 55
        }
      ]
    },
    {
      "cell_type": "markdown",
      "metadata": {
        "id": "nlGzj5LPwzeX"
      },
      "source": [
        "Parece que agora deu finalmente certo"
      ]
    },
    {
      "cell_type": "code",
      "metadata": {
        "id": "6V_VZgw9wxeJ"
      },
      "source": [
        "def remove_corr_var(dados,valor_corte = .95):\r\n",
        "\r\n",
        "  matriz_corr = dados.iloc[:,4:-2].corr().abs()\r\n",
        "  matrix_upper = matriz_corr.where(np.triu(np.ones(matriz_corr.shape),k=1).astype(np.bool))\r\n",
        "  excluir  = [ coluna for coluna in matrix_upper.columns if any(matrix_upper[coluna] > valor_corte)]\r\n",
        "\r\n",
        "  return dados.drop(excluir,axis=1)"
      ],
      "execution_count": 56,
      "outputs": []
    },
    {
      "cell_type": "code",
      "metadata": {
        "colab": {
          "base_uri": "https://localhost:8080/",
          "height": 504
        },
        "id": "EIq6WTjFx1_0",
        "outputId": "40e82beb-3642-4e19-8b22-25e5d7a3ff1e"
      },
      "source": [
        "dados_limpos_sem_corr = remove_corr_var(dados_limpos,.95)\r\n",
        "dados_limpos_sem_corr"
      ],
      "execution_count": 57,
      "outputs": [
        {
          "output_type": "execute_result",
          "data": {
            "text/html": [
              "<div>\n",
              "<style scoped>\n",
              "    .dataframe tbody tr th:only-of-type {\n",
              "        vertical-align: middle;\n",
              "    }\n",
              "\n",
              "    .dataframe tbody tr th {\n",
              "        vertical-align: top;\n",
              "    }\n",
              "\n",
              "    .dataframe thead th {\n",
              "        text-align: right;\n",
              "    }\n",
              "</style>\n",
              "<table border=\"1\" class=\"dataframe\">\n",
              "  <thead>\n",
              "    <tr style=\"text-align: right;\">\n",
              "      <th></th>\n",
              "      <th></th>\n",
              "      <th>PATIENT_VISIT_IDENTIFIER</th>\n",
              "      <th>AGE_ABOVE65</th>\n",
              "      <th>AGE_PERCENTIL</th>\n",
              "      <th>GENDER</th>\n",
              "      <th>DISEASE GROUPING 1</th>\n",
              "      <th>DISEASE GROUPING 2</th>\n",
              "      <th>DISEASE GROUPING 3</th>\n",
              "      <th>DISEASE GROUPING 4</th>\n",
              "      <th>DISEASE GROUPING 5</th>\n",
              "      <th>DISEASE GROUPING 6</th>\n",
              "      <th>HTN</th>\n",
              "      <th>IMMUNOCOMPROMISED</th>\n",
              "      <th>OTHER</th>\n",
              "      <th>ALBUMIN_MEDIAN</th>\n",
              "      <th>ALBUMIN_DIFF</th>\n",
              "      <th>BE_ARTERIAL_MEDIAN</th>\n",
              "      <th>BE_ARTERIAL_DIFF</th>\n",
              "      <th>BE_VENOUS_MEDIAN</th>\n",
              "      <th>BE_VENOUS_DIFF</th>\n",
              "      <th>BIC_ARTERIAL_MEDIAN</th>\n",
              "      <th>BIC_ARTERIAL_DIFF</th>\n",
              "      <th>BIC_VENOUS_MEDIAN</th>\n",
              "      <th>BIC_VENOUS_DIFF</th>\n",
              "      <th>BILLIRUBIN_MEDIAN</th>\n",
              "      <th>BILLIRUBIN_DIFF</th>\n",
              "      <th>BLAST_MEDIAN</th>\n",
              "      <th>BLAST_DIFF</th>\n",
              "      <th>CALCIUM_MEDIAN</th>\n",
              "      <th>CALCIUM_DIFF</th>\n",
              "      <th>CREATININ_MEDIAN</th>\n",
              "      <th>CREATININ_DIFF</th>\n",
              "      <th>FFA_MEDIAN</th>\n",
              "      <th>FFA_DIFF</th>\n",
              "      <th>GGT_MEDIAN</th>\n",
              "      <th>GGT_DIFF</th>\n",
              "      <th>GLUCOSE_MEDIAN</th>\n",
              "      <th>GLUCOSE_DIFF</th>\n",
              "      <th>HEMATOCRITE_MEDIAN</th>\n",
              "      <th>HEMATOCRITE_DIFF</th>\n",
              "      <th>HEMOGLOBIN_DIFF</th>\n",
              "      <th>...</th>\n",
              "      <th>PH_ARTERIAL_DIFF</th>\n",
              "      <th>PH_VENOUS_MEDIAN</th>\n",
              "      <th>PH_VENOUS_DIFF</th>\n",
              "      <th>PLATELETS_MEDIAN</th>\n",
              "      <th>PLATELETS_DIFF</th>\n",
              "      <th>POTASSIUM_MEDIAN</th>\n",
              "      <th>POTASSIUM_DIFF</th>\n",
              "      <th>SAT02_ARTERIAL_MEDIAN</th>\n",
              "      <th>SAT02_ARTERIAL_DIFF</th>\n",
              "      <th>SAT02_VENOUS_MEDIAN</th>\n",
              "      <th>SAT02_VENOUS_DIFF</th>\n",
              "      <th>SODIUM_MEDIAN</th>\n",
              "      <th>SODIUM_DIFF</th>\n",
              "      <th>TGO_MEDIAN</th>\n",
              "      <th>TGO_DIFF</th>\n",
              "      <th>TGP_MEDIAN</th>\n",
              "      <th>TGP_DIFF</th>\n",
              "      <th>TTPA_MEDIAN</th>\n",
              "      <th>TTPA_DIFF</th>\n",
              "      <th>UREA_MEDIAN</th>\n",
              "      <th>UREA_DIFF</th>\n",
              "      <th>DIMER_MEDIAN</th>\n",
              "      <th>DIMER_DIFF</th>\n",
              "      <th>BLOODPRESSURE_DIASTOLIC_MEAN</th>\n",
              "      <th>BLOODPRESSURE_SISTOLIC_MEAN</th>\n",
              "      <th>HEART_RATE_MEAN</th>\n",
              "      <th>RESPIRATORY_RATE_MEAN</th>\n",
              "      <th>TEMPERATURE_MEAN</th>\n",
              "      <th>OXYGEN_SATURATION_MEAN</th>\n",
              "      <th>RESPIRATORY_RATE_MIN</th>\n",
              "      <th>BLOODPRESSURE_DIASTOLIC_MAX</th>\n",
              "      <th>BLOODPRESSURE_DIASTOLIC_DIFF</th>\n",
              "      <th>BLOODPRESSURE_SISTOLIC_DIFF</th>\n",
              "      <th>HEART_RATE_DIFF</th>\n",
              "      <th>RESPIRATORY_RATE_DIFF</th>\n",
              "      <th>TEMPERATURE_DIFF</th>\n",
              "      <th>OXYGEN_SATURATION_DIFF</th>\n",
              "      <th>HEART_RATE_DIFF_REL</th>\n",
              "      <th>WINDOW</th>\n",
              "      <th>ICU</th>\n",
              "    </tr>\n",
              "    <tr>\n",
              "      <th>PATIENT_VISIT_IDENTIFIER</th>\n",
              "      <th></th>\n",
              "      <th></th>\n",
              "      <th></th>\n",
              "      <th></th>\n",
              "      <th></th>\n",
              "      <th></th>\n",
              "      <th></th>\n",
              "      <th></th>\n",
              "      <th></th>\n",
              "      <th></th>\n",
              "      <th></th>\n",
              "      <th></th>\n",
              "      <th></th>\n",
              "      <th></th>\n",
              "      <th></th>\n",
              "      <th></th>\n",
              "      <th></th>\n",
              "      <th></th>\n",
              "      <th></th>\n",
              "      <th></th>\n",
              "      <th></th>\n",
              "      <th></th>\n",
              "      <th></th>\n",
              "      <th></th>\n",
              "      <th></th>\n",
              "      <th></th>\n",
              "      <th></th>\n",
              "      <th></th>\n",
              "      <th></th>\n",
              "      <th></th>\n",
              "      <th></th>\n",
              "      <th></th>\n",
              "      <th></th>\n",
              "      <th></th>\n",
              "      <th></th>\n",
              "      <th></th>\n",
              "      <th></th>\n",
              "      <th></th>\n",
              "      <th></th>\n",
              "      <th></th>\n",
              "      <th></th>\n",
              "      <th></th>\n",
              "      <th></th>\n",
              "      <th></th>\n",
              "      <th></th>\n",
              "      <th></th>\n",
              "      <th></th>\n",
              "      <th></th>\n",
              "      <th></th>\n",
              "      <th></th>\n",
              "      <th></th>\n",
              "      <th></th>\n",
              "      <th></th>\n",
              "      <th></th>\n",
              "      <th></th>\n",
              "      <th></th>\n",
              "      <th></th>\n",
              "      <th></th>\n",
              "      <th></th>\n",
              "      <th></th>\n",
              "      <th></th>\n",
              "      <th></th>\n",
              "      <th></th>\n",
              "      <th></th>\n",
              "      <th></th>\n",
              "      <th></th>\n",
              "      <th></th>\n",
              "      <th></th>\n",
              "      <th></th>\n",
              "      <th></th>\n",
              "      <th></th>\n",
              "      <th></th>\n",
              "      <th></th>\n",
              "      <th></th>\n",
              "      <th></th>\n",
              "      <th></th>\n",
              "      <th></th>\n",
              "      <th></th>\n",
              "      <th></th>\n",
              "      <th></th>\n",
              "      <th></th>\n",
              "      <th></th>\n",
              "    </tr>\n",
              "  </thead>\n",
              "  <tbody>\n",
              "    <tr>\n",
              "      <th>0</th>\n",
              "      <th>0</th>\n",
              "      <td>0</td>\n",
              "      <td>1</td>\n",
              "      <td>5</td>\n",
              "      <td>0</td>\n",
              "      <td>0.0</td>\n",
              "      <td>0.0</td>\n",
              "      <td>0.0</td>\n",
              "      <td>0.0</td>\n",
              "      <td>1.0</td>\n",
              "      <td>1.0</td>\n",
              "      <td>0.0</td>\n",
              "      <td>0.0</td>\n",
              "      <td>1.0</td>\n",
              "      <td>0.605263</td>\n",
              "      <td>-1.0</td>\n",
              "      <td>-1.0</td>\n",
              "      <td>-1.0</td>\n",
              "      <td>-1.000000</td>\n",
              "      <td>-1.0</td>\n",
              "      <td>-0.317073</td>\n",
              "      <td>-1.0</td>\n",
              "      <td>-0.317073</td>\n",
              "      <td>-1.0</td>\n",
              "      <td>-0.938950</td>\n",
              "      <td>-1.0</td>\n",
              "      <td>-1.0</td>\n",
              "      <td>-1.0</td>\n",
              "      <td>0.183673</td>\n",
              "      <td>-1.0</td>\n",
              "      <td>-0.868365</td>\n",
              "      <td>-1.0</td>\n",
              "      <td>-0.742004</td>\n",
              "      <td>-1.0</td>\n",
              "      <td>-0.945093</td>\n",
              "      <td>-1.0</td>\n",
              "      <td>-0.891993</td>\n",
              "      <td>-1.0</td>\n",
              "      <td>0.090147</td>\n",
              "      <td>-1.0</td>\n",
              "      <td>-1.0</td>\n",
              "      <td>...</td>\n",
              "      <td>-1.0</td>\n",
              "      <td>0.363636</td>\n",
              "      <td>-1.0</td>\n",
              "      <td>-0.540721</td>\n",
              "      <td>-1.0</td>\n",
              "      <td>-0.518519</td>\n",
              "      <td>-1.0</td>\n",
              "      <td>0.939394</td>\n",
              "      <td>-1.0</td>\n",
              "      <td>0.345679</td>\n",
              "      <td>-1.0</td>\n",
              "      <td>-0.028571</td>\n",
              "      <td>-1.0</td>\n",
              "      <td>-0.997201</td>\n",
              "      <td>-1.0</td>\n",
              "      <td>-0.990854</td>\n",
              "      <td>-1.0</td>\n",
              "      <td>-0.825613</td>\n",
              "      <td>-1.0</td>\n",
              "      <td>-0.836145</td>\n",
              "      <td>-1.0</td>\n",
              "      <td>-0.994912</td>\n",
              "      <td>-1.0</td>\n",
              "      <td>0.086420</td>\n",
              "      <td>-0.230769</td>\n",
              "      <td>-0.283019</td>\n",
              "      <td>-0.593220</td>\n",
              "      <td>-0.285714</td>\n",
              "      <td>0.736842</td>\n",
              "      <td>-0.500000</td>\n",
              "      <td>-0.247863</td>\n",
              "      <td>-1.000000</td>\n",
              "      <td>-1.000000</td>\n",
              "      <td>-1.000000</td>\n",
              "      <td>-1.000000</td>\n",
              "      <td>-1.000000</td>\n",
              "      <td>-1.000000</td>\n",
              "      <td>-1.000000</td>\n",
              "      <td>0-2</td>\n",
              "      <td>1</td>\n",
              "    </tr>\n",
              "    <tr>\n",
              "      <th>2</th>\n",
              "      <th>10</th>\n",
              "      <td>2</td>\n",
              "      <td>0</td>\n",
              "      <td>0</td>\n",
              "      <td>0</td>\n",
              "      <td>0.0</td>\n",
              "      <td>0.0</td>\n",
              "      <td>0.0</td>\n",
              "      <td>0.0</td>\n",
              "      <td>0.0</td>\n",
              "      <td>0.0</td>\n",
              "      <td>0.0</td>\n",
              "      <td>0.0</td>\n",
              "      <td>1.0</td>\n",
              "      <td>0.605263</td>\n",
              "      <td>-1.0</td>\n",
              "      <td>-1.0</td>\n",
              "      <td>-1.0</td>\n",
              "      <td>-1.000000</td>\n",
              "      <td>-1.0</td>\n",
              "      <td>-0.317073</td>\n",
              "      <td>-1.0</td>\n",
              "      <td>-0.317073</td>\n",
              "      <td>-1.0</td>\n",
              "      <td>-0.938950</td>\n",
              "      <td>-1.0</td>\n",
              "      <td>-1.0</td>\n",
              "      <td>-1.0</td>\n",
              "      <td>0.357143</td>\n",
              "      <td>-1.0</td>\n",
              "      <td>-0.912243</td>\n",
              "      <td>-1.0</td>\n",
              "      <td>-0.742004</td>\n",
              "      <td>-1.0</td>\n",
              "      <td>-0.958528</td>\n",
              "      <td>-1.0</td>\n",
              "      <td>-0.780261</td>\n",
              "      <td>-1.0</td>\n",
              "      <td>0.144654</td>\n",
              "      <td>-1.0</td>\n",
              "      <td>-1.0</td>\n",
              "      <td>...</td>\n",
              "      <td>-1.0</td>\n",
              "      <td>0.363636</td>\n",
              "      <td>-1.0</td>\n",
              "      <td>-0.399199</td>\n",
              "      <td>-1.0</td>\n",
              "      <td>-0.703704</td>\n",
              "      <td>-1.0</td>\n",
              "      <td>0.939394</td>\n",
              "      <td>-1.0</td>\n",
              "      <td>0.345679</td>\n",
              "      <td>-1.0</td>\n",
              "      <td>0.085714</td>\n",
              "      <td>-1.0</td>\n",
              "      <td>-0.995428</td>\n",
              "      <td>-1.0</td>\n",
              "      <td>-0.986662</td>\n",
              "      <td>-1.0</td>\n",
              "      <td>-0.846633</td>\n",
              "      <td>-1.0</td>\n",
              "      <td>-0.836145</td>\n",
              "      <td>-1.0</td>\n",
              "      <td>-0.978029</td>\n",
              "      <td>-1.0</td>\n",
              "      <td>-0.489712</td>\n",
              "      <td>-0.685470</td>\n",
              "      <td>-0.048218</td>\n",
              "      <td>-0.645951</td>\n",
              "      <td>0.357143</td>\n",
              "      <td>0.935673</td>\n",
              "      <td>-0.714286</td>\n",
              "      <td>-0.435897</td>\n",
              "      <td>-0.547826</td>\n",
              "      <td>-0.533742</td>\n",
              "      <td>-0.603053</td>\n",
              "      <td>-0.764706</td>\n",
              "      <td>-1.000000</td>\n",
              "      <td>-0.959596</td>\n",
              "      <td>-0.747001</td>\n",
              "      <td>0-2</td>\n",
              "      <td>1</td>\n",
              "    </tr>\n",
              "    <tr>\n",
              "      <th>3</th>\n",
              "      <th>15</th>\n",
              "      <td>3</td>\n",
              "      <td>0</td>\n",
              "      <td>3</td>\n",
              "      <td>1</td>\n",
              "      <td>0.0</td>\n",
              "      <td>0.0</td>\n",
              "      <td>0.0</td>\n",
              "      <td>0.0</td>\n",
              "      <td>0.0</td>\n",
              "      <td>0.0</td>\n",
              "      <td>0.0</td>\n",
              "      <td>1.0</td>\n",
              "      <td>1.0</td>\n",
              "      <td>-0.263158</td>\n",
              "      <td>-1.0</td>\n",
              "      <td>-1.0</td>\n",
              "      <td>-1.0</td>\n",
              "      <td>-1.000000</td>\n",
              "      <td>-1.0</td>\n",
              "      <td>-0.317073</td>\n",
              "      <td>-1.0</td>\n",
              "      <td>-0.317073</td>\n",
              "      <td>-1.0</td>\n",
              "      <td>-0.972789</td>\n",
              "      <td>-1.0</td>\n",
              "      <td>-1.0</td>\n",
              "      <td>-1.0</td>\n",
              "      <td>0.326531</td>\n",
              "      <td>-1.0</td>\n",
              "      <td>-0.968861</td>\n",
              "      <td>-1.0</td>\n",
              "      <td>-0.194030</td>\n",
              "      <td>-1.0</td>\n",
              "      <td>-0.316589</td>\n",
              "      <td>-1.0</td>\n",
              "      <td>-0.891993</td>\n",
              "      <td>-1.0</td>\n",
              "      <td>-0.203354</td>\n",
              "      <td>-1.0</td>\n",
              "      <td>-1.0</td>\n",
              "      <td>...</td>\n",
              "      <td>-1.0</td>\n",
              "      <td>0.363636</td>\n",
              "      <td>-1.0</td>\n",
              "      <td>-0.564753</td>\n",
              "      <td>-1.0</td>\n",
              "      <td>-0.777778</td>\n",
              "      <td>-1.0</td>\n",
              "      <td>0.939394</td>\n",
              "      <td>-1.0</td>\n",
              "      <td>0.580247</td>\n",
              "      <td>-1.0</td>\n",
              "      <td>0.200000</td>\n",
              "      <td>-1.0</td>\n",
              "      <td>-0.989549</td>\n",
              "      <td>-1.0</td>\n",
              "      <td>-0.956555</td>\n",
              "      <td>-1.0</td>\n",
              "      <td>-0.846633</td>\n",
              "      <td>-1.0</td>\n",
              "      <td>-0.937349</td>\n",
              "      <td>-1.0</td>\n",
              "      <td>-0.978029</td>\n",
              "      <td>-1.0</td>\n",
              "      <td>0.012346</td>\n",
              "      <td>-0.369231</td>\n",
              "      <td>-0.528302</td>\n",
              "      <td>-0.457627</td>\n",
              "      <td>-0.285714</td>\n",
              "      <td>0.684211</td>\n",
              "      <td>-0.357143</td>\n",
              "      <td>-0.299145</td>\n",
              "      <td>-1.000000</td>\n",
              "      <td>-1.000000</td>\n",
              "      <td>-1.000000</td>\n",
              "      <td>-1.000000</td>\n",
              "      <td>-1.000000</td>\n",
              "      <td>-1.000000</td>\n",
              "      <td>-1.000000</td>\n",
              "      <td>0-2</td>\n",
              "      <td>0</td>\n",
              "    </tr>\n",
              "    <tr>\n",
              "      <th>4</th>\n",
              "      <th>20</th>\n",
              "      <td>4</td>\n",
              "      <td>0</td>\n",
              "      <td>0</td>\n",
              "      <td>0</td>\n",
              "      <td>0.0</td>\n",
              "      <td>0.0</td>\n",
              "      <td>0.0</td>\n",
              "      <td>0.0</td>\n",
              "      <td>0.0</td>\n",
              "      <td>0.0</td>\n",
              "      <td>0.0</td>\n",
              "      <td>0.0</td>\n",
              "      <td>1.0</td>\n",
              "      <td>0.605263</td>\n",
              "      <td>-1.0</td>\n",
              "      <td>-1.0</td>\n",
              "      <td>-1.0</td>\n",
              "      <td>-1.000000</td>\n",
              "      <td>-1.0</td>\n",
              "      <td>-0.317073</td>\n",
              "      <td>-1.0</td>\n",
              "      <td>-0.317073</td>\n",
              "      <td>-1.0</td>\n",
              "      <td>-0.935113</td>\n",
              "      <td>-1.0</td>\n",
              "      <td>-1.0</td>\n",
              "      <td>-1.0</td>\n",
              "      <td>0.357143</td>\n",
              "      <td>-1.0</td>\n",
              "      <td>-0.913659</td>\n",
              "      <td>-1.0</td>\n",
              "      <td>-0.829424</td>\n",
              "      <td>-1.0</td>\n",
              "      <td>-0.938084</td>\n",
              "      <td>-1.0</td>\n",
              "      <td>-0.851024</td>\n",
              "      <td>-1.0</td>\n",
              "      <td>0.358491</td>\n",
              "      <td>-1.0</td>\n",
              "      <td>-1.0</td>\n",
              "      <td>...</td>\n",
              "      <td>-1.0</td>\n",
              "      <td>0.363636</td>\n",
              "      <td>-1.0</td>\n",
              "      <td>-0.457944</td>\n",
              "      <td>-1.0</td>\n",
              "      <td>-0.592593</td>\n",
              "      <td>-1.0</td>\n",
              "      <td>0.939394</td>\n",
              "      <td>-1.0</td>\n",
              "      <td>0.345679</td>\n",
              "      <td>-1.0</td>\n",
              "      <td>0.142857</td>\n",
              "      <td>-1.0</td>\n",
              "      <td>-0.998507</td>\n",
              "      <td>-1.0</td>\n",
              "      <td>-0.991235</td>\n",
              "      <td>-1.0</td>\n",
              "      <td>-0.846633</td>\n",
              "      <td>-1.0</td>\n",
              "      <td>-0.903614</td>\n",
              "      <td>-1.0</td>\n",
              "      <td>-1.000000</td>\n",
              "      <td>-1.0</td>\n",
              "      <td>0.333333</td>\n",
              "      <td>-0.153846</td>\n",
              "      <td>0.160377</td>\n",
              "      <td>-0.593220</td>\n",
              "      <td>0.285714</td>\n",
              "      <td>0.868421</td>\n",
              "      <td>-0.571429</td>\n",
              "      <td>-0.076923</td>\n",
              "      <td>-1.000000</td>\n",
              "      <td>-0.877301</td>\n",
              "      <td>-0.923664</td>\n",
              "      <td>-0.882353</td>\n",
              "      <td>-0.952381</td>\n",
              "      <td>-0.979798</td>\n",
              "      <td>-0.956805</td>\n",
              "      <td>0-2</td>\n",
              "      <td>0</td>\n",
              "    </tr>\n",
              "    <tr>\n",
              "      <th>5</th>\n",
              "      <th>25</th>\n",
              "      <td>5</td>\n",
              "      <td>0</td>\n",
              "      <td>0</td>\n",
              "      <td>0</td>\n",
              "      <td>0.0</td>\n",
              "      <td>0.0</td>\n",
              "      <td>0.0</td>\n",
              "      <td>0.0</td>\n",
              "      <td>0.0</td>\n",
              "      <td>0.0</td>\n",
              "      <td>0.0</td>\n",
              "      <td>0.0</td>\n",
              "      <td>1.0</td>\n",
              "      <td>0.605263</td>\n",
              "      <td>-1.0</td>\n",
              "      <td>-1.0</td>\n",
              "      <td>-1.0</td>\n",
              "      <td>-1.000000</td>\n",
              "      <td>-1.0</td>\n",
              "      <td>-0.317073</td>\n",
              "      <td>-1.0</td>\n",
              "      <td>-0.317073</td>\n",
              "      <td>-1.0</td>\n",
              "      <td>-0.938950</td>\n",
              "      <td>-1.0</td>\n",
              "      <td>-1.0</td>\n",
              "      <td>-1.0</td>\n",
              "      <td>0.357143</td>\n",
              "      <td>-1.0</td>\n",
              "      <td>-0.891012</td>\n",
              "      <td>-1.0</td>\n",
              "      <td>-0.742004</td>\n",
              "      <td>-1.0</td>\n",
              "      <td>-0.958528</td>\n",
              "      <td>-1.0</td>\n",
              "      <td>-0.891993</td>\n",
              "      <td>-1.0</td>\n",
              "      <td>0.291405</td>\n",
              "      <td>-1.0</td>\n",
              "      <td>-1.0</td>\n",
              "      <td>...</td>\n",
              "      <td>-1.0</td>\n",
              "      <td>0.363636</td>\n",
              "      <td>-1.0</td>\n",
              "      <td>-0.292390</td>\n",
              "      <td>-1.0</td>\n",
              "      <td>-0.666667</td>\n",
              "      <td>-1.0</td>\n",
              "      <td>0.939394</td>\n",
              "      <td>-1.0</td>\n",
              "      <td>0.345679</td>\n",
              "      <td>-1.0</td>\n",
              "      <td>0.085714</td>\n",
              "      <td>-1.0</td>\n",
              "      <td>-0.997947</td>\n",
              "      <td>-1.0</td>\n",
              "      <td>-0.988948</td>\n",
              "      <td>-1.0</td>\n",
              "      <td>-0.846633</td>\n",
              "      <td>-1.0</td>\n",
              "      <td>-0.884337</td>\n",
              "      <td>-1.0</td>\n",
              "      <td>-1.000000</td>\n",
              "      <td>-1.0</td>\n",
              "      <td>-0.037037</td>\n",
              "      <td>-0.538462</td>\n",
              "      <td>-0.537736</td>\n",
              "      <td>-0.525424</td>\n",
              "      <td>-0.196429</td>\n",
              "      <td>0.815789</td>\n",
              "      <td>-0.428571</td>\n",
              "      <td>-0.247863</td>\n",
              "      <td>-0.826087</td>\n",
              "      <td>-0.754601</td>\n",
              "      <td>-0.984733</td>\n",
              "      <td>-1.000000</td>\n",
              "      <td>-0.976190</td>\n",
              "      <td>-0.979798</td>\n",
              "      <td>-0.986481</td>\n",
              "      <td>0-2</td>\n",
              "      <td>0</td>\n",
              "    </tr>\n",
              "    <tr>\n",
              "      <th>...</th>\n",
              "      <th>...</th>\n",
              "      <td>...</td>\n",
              "      <td>...</td>\n",
              "      <td>...</td>\n",
              "      <td>...</td>\n",
              "      <td>...</td>\n",
              "      <td>...</td>\n",
              "      <td>...</td>\n",
              "      <td>...</td>\n",
              "      <td>...</td>\n",
              "      <td>...</td>\n",
              "      <td>...</td>\n",
              "      <td>...</td>\n",
              "      <td>...</td>\n",
              "      <td>...</td>\n",
              "      <td>...</td>\n",
              "      <td>...</td>\n",
              "      <td>...</td>\n",
              "      <td>...</td>\n",
              "      <td>...</td>\n",
              "      <td>...</td>\n",
              "      <td>...</td>\n",
              "      <td>...</td>\n",
              "      <td>...</td>\n",
              "      <td>...</td>\n",
              "      <td>...</td>\n",
              "      <td>...</td>\n",
              "      <td>...</td>\n",
              "      <td>...</td>\n",
              "      <td>...</td>\n",
              "      <td>...</td>\n",
              "      <td>...</td>\n",
              "      <td>...</td>\n",
              "      <td>...</td>\n",
              "      <td>...</td>\n",
              "      <td>...</td>\n",
              "      <td>...</td>\n",
              "      <td>...</td>\n",
              "      <td>...</td>\n",
              "      <td>...</td>\n",
              "      <td>...</td>\n",
              "      <td>...</td>\n",
              "      <td>...</td>\n",
              "      <td>...</td>\n",
              "      <td>...</td>\n",
              "      <td>...</td>\n",
              "      <td>...</td>\n",
              "      <td>...</td>\n",
              "      <td>...</td>\n",
              "      <td>...</td>\n",
              "      <td>...</td>\n",
              "      <td>...</td>\n",
              "      <td>...</td>\n",
              "      <td>...</td>\n",
              "      <td>...</td>\n",
              "      <td>...</td>\n",
              "      <td>...</td>\n",
              "      <td>...</td>\n",
              "      <td>...</td>\n",
              "      <td>...</td>\n",
              "      <td>...</td>\n",
              "      <td>...</td>\n",
              "      <td>...</td>\n",
              "      <td>...</td>\n",
              "      <td>...</td>\n",
              "      <td>...</td>\n",
              "      <td>...</td>\n",
              "      <td>...</td>\n",
              "      <td>...</td>\n",
              "      <td>...</td>\n",
              "      <td>...</td>\n",
              "      <td>...</td>\n",
              "      <td>...</td>\n",
              "      <td>...</td>\n",
              "      <td>...</td>\n",
              "      <td>...</td>\n",
              "      <td>...</td>\n",
              "      <td>...</td>\n",
              "      <td>...</td>\n",
              "      <td>...</td>\n",
              "      <td>...</td>\n",
              "      <td>...</td>\n",
              "    </tr>\n",
              "    <tr>\n",
              "      <th>380</th>\n",
              "      <th>1900</th>\n",
              "      <td>380</td>\n",
              "      <td>0</td>\n",
              "      <td>3</td>\n",
              "      <td>1</td>\n",
              "      <td>0.0</td>\n",
              "      <td>0.0</td>\n",
              "      <td>0.0</td>\n",
              "      <td>0.0</td>\n",
              "      <td>0.0</td>\n",
              "      <td>0.0</td>\n",
              "      <td>0.0</td>\n",
              "      <td>1.0</td>\n",
              "      <td>1.0</td>\n",
              "      <td>-0.578947</td>\n",
              "      <td>-1.0</td>\n",
              "      <td>-1.0</td>\n",
              "      <td>-1.0</td>\n",
              "      <td>-1.000000</td>\n",
              "      <td>-1.0</td>\n",
              "      <td>-0.317073</td>\n",
              "      <td>-1.0</td>\n",
              "      <td>-0.317073</td>\n",
              "      <td>-1.0</td>\n",
              "      <td>-0.293564</td>\n",
              "      <td>-1.0</td>\n",
              "      <td>-1.0</td>\n",
              "      <td>-1.0</td>\n",
              "      <td>0.326531</td>\n",
              "      <td>-1.0</td>\n",
              "      <td>-0.937721</td>\n",
              "      <td>-1.0</td>\n",
              "      <td>1.000000</td>\n",
              "      <td>-1.0</td>\n",
              "      <td>-0.147196</td>\n",
              "      <td>-1.0</td>\n",
              "      <td>-0.824953</td>\n",
              "      <td>-1.0</td>\n",
              "      <td>-0.253669</td>\n",
              "      <td>-1.0</td>\n",
              "      <td>-1.0</td>\n",
              "      <td>...</td>\n",
              "      <td>-1.0</td>\n",
              "      <td>0.363636</td>\n",
              "      <td>-1.0</td>\n",
              "      <td>-0.895861</td>\n",
              "      <td>-1.0</td>\n",
              "      <td>-0.629630</td>\n",
              "      <td>-1.0</td>\n",
              "      <td>0.939394</td>\n",
              "      <td>-1.0</td>\n",
              "      <td>0.345679</td>\n",
              "      <td>-1.0</td>\n",
              "      <td>-0.428571</td>\n",
              "      <td>-1.0</td>\n",
              "      <td>-0.925725</td>\n",
              "      <td>-1.0</td>\n",
              "      <td>-0.981326</td>\n",
              "      <td>-1.0</td>\n",
              "      <td>-0.629428</td>\n",
              "      <td>-1.0</td>\n",
              "      <td>-0.860241</td>\n",
              "      <td>-1.0</td>\n",
              "      <td>-0.978029</td>\n",
              "      <td>-1.0</td>\n",
              "      <td>-0.160494</td>\n",
              "      <td>-0.692308</td>\n",
              "      <td>0.339623</td>\n",
              "      <td>-0.457627</td>\n",
              "      <td>0.142857</td>\n",
              "      <td>0.736842</td>\n",
              "      <td>-0.357143</td>\n",
              "      <td>-0.418803</td>\n",
              "      <td>-1.000000</td>\n",
              "      <td>-1.000000</td>\n",
              "      <td>-1.000000</td>\n",
              "      <td>-1.000000</td>\n",
              "      <td>-1.000000</td>\n",
              "      <td>-1.000000</td>\n",
              "      <td>-1.000000</td>\n",
              "      <td>0-2</td>\n",
              "      <td>1</td>\n",
              "    </tr>\n",
              "    <tr>\n",
              "      <th>381</th>\n",
              "      <th>1905</th>\n",
              "      <td>381</td>\n",
              "      <td>1</td>\n",
              "      <td>9</td>\n",
              "      <td>0</td>\n",
              "      <td>0.0</td>\n",
              "      <td>0.0</td>\n",
              "      <td>0.0</td>\n",
              "      <td>0.0</td>\n",
              "      <td>0.0</td>\n",
              "      <td>0.0</td>\n",
              "      <td>0.0</td>\n",
              "      <td>1.0</td>\n",
              "      <td>1.0</td>\n",
              "      <td>0.605263</td>\n",
              "      <td>-1.0</td>\n",
              "      <td>-1.0</td>\n",
              "      <td>-1.0</td>\n",
              "      <td>-1.000000</td>\n",
              "      <td>-1.0</td>\n",
              "      <td>-0.317073</td>\n",
              "      <td>-1.0</td>\n",
              "      <td>-0.317073</td>\n",
              "      <td>-1.0</td>\n",
              "      <td>-0.938950</td>\n",
              "      <td>-1.0</td>\n",
              "      <td>-1.0</td>\n",
              "      <td>-1.0</td>\n",
              "      <td>0.285714</td>\n",
              "      <td>-1.0</td>\n",
              "      <td>-0.886766</td>\n",
              "      <td>-1.0</td>\n",
              "      <td>-0.742004</td>\n",
              "      <td>-1.0</td>\n",
              "      <td>-0.958528</td>\n",
              "      <td>-1.0</td>\n",
              "      <td>-0.891993</td>\n",
              "      <td>-1.0</td>\n",
              "      <td>-0.241090</td>\n",
              "      <td>-1.0</td>\n",
              "      <td>-1.0</td>\n",
              "      <td>...</td>\n",
              "      <td>-1.0</td>\n",
              "      <td>0.363636</td>\n",
              "      <td>-1.0</td>\n",
              "      <td>-0.516689</td>\n",
              "      <td>-1.0</td>\n",
              "      <td>-0.518519</td>\n",
              "      <td>-1.0</td>\n",
              "      <td>0.939394</td>\n",
              "      <td>-1.0</td>\n",
              "      <td>0.345679</td>\n",
              "      <td>-1.0</td>\n",
              "      <td>-0.314286</td>\n",
              "      <td>-1.0</td>\n",
              "      <td>-0.998507</td>\n",
              "      <td>-1.0</td>\n",
              "      <td>-0.995808</td>\n",
              "      <td>-1.0</td>\n",
              "      <td>-0.846633</td>\n",
              "      <td>-1.0</td>\n",
              "      <td>-0.855422</td>\n",
              "      <td>-1.0</td>\n",
              "      <td>-0.978029</td>\n",
              "      <td>-1.0</td>\n",
              "      <td>-0.407407</td>\n",
              "      <td>-0.692308</td>\n",
              "      <td>-0.283019</td>\n",
              "      <td>-0.457627</td>\n",
              "      <td>-0.059524</td>\n",
              "      <td>0.526316</td>\n",
              "      <td>-0.357143</td>\n",
              "      <td>-0.589744</td>\n",
              "      <td>-1.000000</td>\n",
              "      <td>-1.000000</td>\n",
              "      <td>-1.000000</td>\n",
              "      <td>-1.000000</td>\n",
              "      <td>-0.619048</td>\n",
              "      <td>-1.000000</td>\n",
              "      <td>-1.000000</td>\n",
              "      <td>0-2</td>\n",
              "      <td>0</td>\n",
              "    </tr>\n",
              "    <tr>\n",
              "      <th>382</th>\n",
              "      <th>1910</th>\n",
              "      <td>382</td>\n",
              "      <td>0</td>\n",
              "      <td>4</td>\n",
              "      <td>0</td>\n",
              "      <td>0.0</td>\n",
              "      <td>0.0</td>\n",
              "      <td>0.0</td>\n",
              "      <td>0.0</td>\n",
              "      <td>0.0</td>\n",
              "      <td>0.0</td>\n",
              "      <td>0.0</td>\n",
              "      <td>0.0</td>\n",
              "      <td>0.0</td>\n",
              "      <td>0.605263</td>\n",
              "      <td>-1.0</td>\n",
              "      <td>-1.0</td>\n",
              "      <td>-1.0</td>\n",
              "      <td>-1.000000</td>\n",
              "      <td>-1.0</td>\n",
              "      <td>-0.317073</td>\n",
              "      <td>-1.0</td>\n",
              "      <td>-0.317073</td>\n",
              "      <td>-1.0</td>\n",
              "      <td>-0.938950</td>\n",
              "      <td>-1.0</td>\n",
              "      <td>-1.0</td>\n",
              "      <td>-1.0</td>\n",
              "      <td>0.357143</td>\n",
              "      <td>-1.0</td>\n",
              "      <td>-0.905166</td>\n",
              "      <td>-1.0</td>\n",
              "      <td>-0.742004</td>\n",
              "      <td>-1.0</td>\n",
              "      <td>-0.958528</td>\n",
              "      <td>-1.0</td>\n",
              "      <td>-0.891993</td>\n",
              "      <td>-1.0</td>\n",
              "      <td>0.064990</td>\n",
              "      <td>-1.0</td>\n",
              "      <td>-1.0</td>\n",
              "      <td>...</td>\n",
              "      <td>-1.0</td>\n",
              "      <td>0.363636</td>\n",
              "      <td>-1.0</td>\n",
              "      <td>-0.658211</td>\n",
              "      <td>-1.0</td>\n",
              "      <td>-0.407407</td>\n",
              "      <td>-1.0</td>\n",
              "      <td>0.939394</td>\n",
              "      <td>-1.0</td>\n",
              "      <td>0.345679</td>\n",
              "      <td>-1.0</td>\n",
              "      <td>-0.085714</td>\n",
              "      <td>-1.0</td>\n",
              "      <td>-0.995428</td>\n",
              "      <td>-1.0</td>\n",
              "      <td>-0.986662</td>\n",
              "      <td>-1.0</td>\n",
              "      <td>-0.846633</td>\n",
              "      <td>-1.0</td>\n",
              "      <td>-0.787952</td>\n",
              "      <td>-1.0</td>\n",
              "      <td>-0.964461</td>\n",
              "      <td>-1.0</td>\n",
              "      <td>0.012346</td>\n",
              "      <td>-0.384615</td>\n",
              "      <td>-0.320755</td>\n",
              "      <td>-0.457627</td>\n",
              "      <td>-0.071429</td>\n",
              "      <td>0.894737</td>\n",
              "      <td>-0.357143</td>\n",
              "      <td>-0.299145</td>\n",
              "      <td>-1.000000</td>\n",
              "      <td>-1.000000</td>\n",
              "      <td>-1.000000</td>\n",
              "      <td>-1.000000</td>\n",
              "      <td>-1.000000</td>\n",
              "      <td>-1.000000</td>\n",
              "      <td>-1.000000</td>\n",
              "      <td>0-2</td>\n",
              "      <td>1</td>\n",
              "    </tr>\n",
              "    <tr>\n",
              "      <th>383</th>\n",
              "      <th>1915</th>\n",
              "      <td>383</td>\n",
              "      <td>0</td>\n",
              "      <td>3</td>\n",
              "      <td>1</td>\n",
              "      <td>0.0</td>\n",
              "      <td>0.0</td>\n",
              "      <td>0.0</td>\n",
              "      <td>0.0</td>\n",
              "      <td>0.0</td>\n",
              "      <td>0.0</td>\n",
              "      <td>0.0</td>\n",
              "      <td>0.0</td>\n",
              "      <td>0.0</td>\n",
              "      <td>0.605263</td>\n",
              "      <td>-1.0</td>\n",
              "      <td>-1.0</td>\n",
              "      <td>-1.0</td>\n",
              "      <td>-1.000000</td>\n",
              "      <td>-1.0</td>\n",
              "      <td>-0.317073</td>\n",
              "      <td>-1.0</td>\n",
              "      <td>-0.317073</td>\n",
              "      <td>-1.0</td>\n",
              "      <td>-0.938950</td>\n",
              "      <td>-1.0</td>\n",
              "      <td>-1.0</td>\n",
              "      <td>-1.0</td>\n",
              "      <td>0.357143</td>\n",
              "      <td>-1.0</td>\n",
              "      <td>-0.922151</td>\n",
              "      <td>-1.0</td>\n",
              "      <td>-0.742004</td>\n",
              "      <td>-1.0</td>\n",
              "      <td>-0.958528</td>\n",
              "      <td>-1.0</td>\n",
              "      <td>-0.843575</td>\n",
              "      <td>-1.0</td>\n",
              "      <td>-0.069182</td>\n",
              "      <td>-1.0</td>\n",
              "      <td>-1.0</td>\n",
              "      <td>...</td>\n",
              "      <td>-1.0</td>\n",
              "      <td>0.363636</td>\n",
              "      <td>-1.0</td>\n",
              "      <td>-0.623498</td>\n",
              "      <td>-1.0</td>\n",
              "      <td>-0.555556</td>\n",
              "      <td>-1.0</td>\n",
              "      <td>0.939394</td>\n",
              "      <td>-1.0</td>\n",
              "      <td>0.345679</td>\n",
              "      <td>-1.0</td>\n",
              "      <td>0.085714</td>\n",
              "      <td>-1.0</td>\n",
              "      <td>-0.995428</td>\n",
              "      <td>-1.0</td>\n",
              "      <td>-0.986662</td>\n",
              "      <td>-1.0</td>\n",
              "      <td>-0.846633</td>\n",
              "      <td>-1.0</td>\n",
              "      <td>-0.937349</td>\n",
              "      <td>-1.0</td>\n",
              "      <td>-0.978029</td>\n",
              "      <td>-1.0</td>\n",
              "      <td>0.086420</td>\n",
              "      <td>-0.230769</td>\n",
              "      <td>-0.301887</td>\n",
              "      <td>-0.661017</td>\n",
              "      <td>-0.107143</td>\n",
              "      <td>0.736842</td>\n",
              "      <td>-0.571429</td>\n",
              "      <td>-0.247863</td>\n",
              "      <td>-1.000000</td>\n",
              "      <td>-1.000000</td>\n",
              "      <td>-1.000000</td>\n",
              "      <td>-1.000000</td>\n",
              "      <td>-1.000000</td>\n",
              "      <td>-1.000000</td>\n",
              "      <td>-1.000000</td>\n",
              "      <td>0-2</td>\n",
              "      <td>0</td>\n",
              "    </tr>\n",
              "    <tr>\n",
              "      <th>384</th>\n",
              "      <th>1920</th>\n",
              "      <td>384</td>\n",
              "      <td>0</td>\n",
              "      <td>4</td>\n",
              "      <td>1</td>\n",
              "      <td>0.0</td>\n",
              "      <td>0.0</td>\n",
              "      <td>0.0</td>\n",
              "      <td>0.0</td>\n",
              "      <td>0.0</td>\n",
              "      <td>0.0</td>\n",
              "      <td>0.0</td>\n",
              "      <td>0.0</td>\n",
              "      <td>1.0</td>\n",
              "      <td>0.605263</td>\n",
              "      <td>-1.0</td>\n",
              "      <td>-1.0</td>\n",
              "      <td>-1.0</td>\n",
              "      <td>-0.717277</td>\n",
              "      <td>-1.0</td>\n",
              "      <td>-0.317073</td>\n",
              "      <td>-1.0</td>\n",
              "      <td>-0.170732</td>\n",
              "      <td>-1.0</td>\n",
              "      <td>-0.982208</td>\n",
              "      <td>-1.0</td>\n",
              "      <td>-1.0</td>\n",
              "      <td>-1.0</td>\n",
              "      <td>0.244898</td>\n",
              "      <td>-1.0</td>\n",
              "      <td>-0.934890</td>\n",
              "      <td>-1.0</td>\n",
              "      <td>-0.782516</td>\n",
              "      <td>-1.0</td>\n",
              "      <td>-0.960280</td>\n",
              "      <td>-1.0</td>\n",
              "      <td>-0.862197</td>\n",
              "      <td>-1.0</td>\n",
              "      <td>-0.064990</td>\n",
              "      <td>-1.0</td>\n",
              "      <td>-1.0</td>\n",
              "      <td>...</td>\n",
              "      <td>-1.0</td>\n",
              "      <td>0.424242</td>\n",
              "      <td>-1.0</td>\n",
              "      <td>-0.479306</td>\n",
              "      <td>-1.0</td>\n",
              "      <td>-0.333333</td>\n",
              "      <td>-1.0</td>\n",
              "      <td>0.939394</td>\n",
              "      <td>-1.0</td>\n",
              "      <td>-0.333333</td>\n",
              "      <td>-1.0</td>\n",
              "      <td>-0.085714</td>\n",
              "      <td>-1.0</td>\n",
              "      <td>-0.997387</td>\n",
              "      <td>-1.0</td>\n",
              "      <td>-0.992378</td>\n",
              "      <td>-1.0</td>\n",
              "      <td>-0.869210</td>\n",
              "      <td>-1.0</td>\n",
              "      <td>-0.879518</td>\n",
              "      <td>-1.0</td>\n",
              "      <td>-0.979571</td>\n",
              "      <td>-1.0</td>\n",
              "      <td>0.012346</td>\n",
              "      <td>-0.292308</td>\n",
              "      <td>0.056604</td>\n",
              "      <td>-0.525424</td>\n",
              "      <td>0.535714</td>\n",
              "      <td>0.789474</td>\n",
              "      <td>-0.428571</td>\n",
              "      <td>-0.299145</td>\n",
              "      <td>-1.000000</td>\n",
              "      <td>-1.000000</td>\n",
              "      <td>-1.000000</td>\n",
              "      <td>-1.000000</td>\n",
              "      <td>-1.000000</td>\n",
              "      <td>-1.000000</td>\n",
              "      <td>-1.000000</td>\n",
              "      <td>0-2</td>\n",
              "      <td>0</td>\n",
              "    </tr>\n",
              "  </tbody>\n",
              "</table>\n",
              "<p>352 rows × 100 columns</p>\n",
              "</div>"
            ],
            "text/plain": [
              "                               PATIENT_VISIT_IDENTIFIER  ...  ICU\n",
              "PATIENT_VISIT_IDENTIFIER                                 ...     \n",
              "0                        0                            0  ...    1\n",
              "2                        10                           2  ...    1\n",
              "3                        15                           3  ...    0\n",
              "4                        20                           4  ...    0\n",
              "5                        25                           5  ...    0\n",
              "...                                                 ...  ...  ...\n",
              "380                      1900                       380  ...    1\n",
              "381                      1905                       381  ...    0\n",
              "382                      1910                       382  ...    1\n",
              "383                      1915                       383  ...    0\n",
              "384                      1920                       384  ...    0\n",
              "\n",
              "[352 rows x 100 columns]"
            ]
          },
          "metadata": {
            "tags": []
          },
          "execution_count": 57
        }
      ]
    },
    {
      "cell_type": "markdown",
      "metadata": {
        "id": "gJMftt54yCX-"
      },
      "source": [
        "Feito então as mudanças e exclusões, vamos ver o quanto a falta de certas colunas com alta correlação, irão impactar nos resultados"
      ]
    },
    {
      "cell_type": "markdown",
      "metadata": {
        "id": "8pP0frDvyqTf"
      },
      "source": [
        "**Sem a retirada de colunas de alta correlação**"
      ]
    },
    {
      "cell_type": "markdown",
      "metadata": {
        "id": "alAhpPfn1U4W"
      },
      "source": [
        "####MODELO ARVORE"
      ]
    },
    {
      "cell_type": "markdown",
      "metadata": {
        "id": "TdDD-PkJ1js0"
      },
      "source": [
        "**Sem a retirada de colunas de alta correlação**"
      ]
    },
    {
      "cell_type": "code",
      "metadata": {
        "colab": {
          "base_uri": "https://localhost:8080/"
        },
        "id": "Ur_e9m43yWpA",
        "outputId": "6c799482-6a41-4f83-d3ed-2dcf0971af5b"
      },
      "source": [
        "roda_modelo_cv(modelo_arvore,dados_limpos,5,10)"
      ],
      "execution_count": 70,
      "outputs": [
        {
          "output_type": "stream",
          "text": [
            "AUC: 0.6250049571102202 -  1.0\n"
          ],
          "name": "stdout"
        },
        {
          "output_type": "execute_result",
          "data": {
            "text/plain": [
              "(0.6250049571102202, 1.0)"
            ]
          },
          "metadata": {
            "tags": []
          },
          "execution_count": 70
        }
      ]
    },
    {
      "cell_type": "markdown",
      "metadata": {
        "id": "wr6mTMhHy5y5"
      },
      "source": [
        "**Com a retirada de colunas de alta correlação**"
      ]
    },
    {
      "cell_type": "code",
      "metadata": {
        "colab": {
          "base_uri": "https://localhost:8080/"
        },
        "id": "V-BvhSQJx5dx",
        "outputId": "72854941-fe97-4498-c32e-04778a3562da"
      },
      "source": [
        "roda_modelo_cv(modelo_arvore,dados_limpos_sem_corr,5,10)"
      ],
      "execution_count": 71,
      "outputs": [
        {
          "output_type": "stream",
          "text": [
            "AUC: 0.633467727596017 -  1.0\n"
          ],
          "name": "stdout"
        },
        {
          "output_type": "execute_result",
          "data": {
            "text/plain": [
              "(0.633467727596017, 1.0)"
            ]
          },
          "metadata": {
            "tags": []
          },
          "execution_count": 71
        }
      ]
    },
    {
      "cell_type": "markdown",
      "metadata": {
        "id": "pM7t1mzg1fIz"
      },
      "source": [
        "####MODELO LOGISTICO"
      ]
    },
    {
      "cell_type": "markdown",
      "metadata": {
        "id": "Tqvff94d1o7y"
      },
      "source": [
        "**Sem a retirada de colunas de alta correlação**"
      ]
    },
    {
      "cell_type": "code",
      "metadata": {
        "colab": {
          "base_uri": "https://localhost:8080/"
        },
        "id": "BlxZPDqz1o8C",
        "outputId": "0b77f091-6c92-41f3-bf49-289268e2a06f"
      },
      "source": [
        "roda_modelo_cv(modelo,dados_limpos,5,10)"
      ],
      "execution_count": 72,
      "outputs": [
        {
          "output_type": "stream",
          "text": [
            "AUC: 0.7591737116901591 -  0.8649421285546367\n"
          ],
          "name": "stdout"
        },
        {
          "output_type": "execute_result",
          "data": {
            "text/plain": [
              "(0.7591737116901591, 0.8649421285546367)"
            ]
          },
          "metadata": {
            "tags": []
          },
          "execution_count": 72
        }
      ]
    },
    {
      "cell_type": "markdown",
      "metadata": {
        "id": "RVdAfsvn1o8E"
      },
      "source": [
        "**Com a retirada de colunas de alta correlação**"
      ]
    },
    {
      "cell_type": "code",
      "metadata": {
        "colab": {
          "base_uri": "https://localhost:8080/"
        },
        "id": "Nr9THSBb1o8E",
        "outputId": "2b165f75-70dc-47a8-b348-299f2d149e90"
      },
      "source": [
        "roda_modelo_cv(modelo,dados_limpos_sem_corr,5,10)"
      ],
      "execution_count": 73,
      "outputs": [
        {
          "output_type": "stream",
          "text": [
            "AUC: 0.7638141864951078 -  0.8498845127936329\n"
          ],
          "name": "stdout"
        },
        {
          "output_type": "execute_result",
          "data": {
            "text/plain": [
              "(0.7638141864951078, 0.8498845127936329)"
            ]
          },
          "metadata": {
            "tags": []
          },
          "execution_count": 73
        }
      ]
    },
    {
      "cell_type": "markdown",
      "metadata": {
        "id": "m8v6W2-I1y-u"
      },
      "source": [
        "####MODELO RANDOM FOREST"
      ]
    },
    {
      "cell_type": "markdown",
      "metadata": {
        "id": "teBG7yuE13uz"
      },
      "source": [
        ""
      ]
    },
    {
      "cell_type": "markdown",
      "metadata": {
        "id": "vj8S_4K4136-"
      },
      "source": [
        "**Sem a retirada de colunas de alta correlação**"
      ]
    },
    {
      "cell_type": "code",
      "metadata": {
        "colab": {
          "base_uri": "https://localhost:8080/"
        },
        "id": "MBhCNga0136_",
        "outputId": "baf3bbbe-860f-43c2-bce3-815c15c71a8e"
      },
      "source": [
        "roda_modelo_cv(modelo_random,dados_limpos,5,10)"
      ],
      "execution_count": 74,
      "outputs": [
        {
          "output_type": "stream",
          "text": [
            "AUC: 0.7888795516509332 -  1.0\n"
          ],
          "name": "stdout"
        },
        {
          "output_type": "execute_result",
          "data": {
            "text/plain": [
              "(0.7888795516509332, 1.0)"
            ]
          },
          "metadata": {
            "tags": []
          },
          "execution_count": 74
        }
      ]
    },
    {
      "cell_type": "markdown",
      "metadata": {
        "id": "PQz1OFX1137A"
      },
      "source": [
        "**Com a retirada de colunas de alta correlação**"
      ]
    },
    {
      "cell_type": "code",
      "metadata": {
        "colab": {
          "base_uri": "https://localhost:8080/"
        },
        "id": "7O-H_hRc137B",
        "outputId": "f2e4b9ef-6dbf-4e23-ed09-583a55b06462"
      },
      "source": [
        "roda_modelo_cv(modelo_random,dados_limpos_sem_corr,5,10)"
      ],
      "execution_count": 75,
      "outputs": [
        {
          "output_type": "stream",
          "text": [
            "AUC: 0.7989764645027804 -  1.0\n"
          ],
          "name": "stdout"
        },
        {
          "output_type": "execute_result",
          "data": {
            "text/plain": [
              "(0.7989764645027804, 1.0)"
            ]
          },
          "metadata": {
            "tags": []
          },
          "execution_count": 75
        }
      ]
    },
    {
      "cell_type": "markdown",
      "metadata": {
        "id": "1Ao1zjVx26NQ"
      },
      "source": [
        "### 📒 Desafio 14: Ler no Sklearn sobre feature selection, feature importance."
      ]
    },
    {
      "cell_type": "markdown",
      "metadata": {
        "id": "MF1A5tr426nu"
      },
      "source": [
        "### 📒 Desafio 15: Plotar também a matriz de confusão."
      ]
    },
    {
      "cell_type": "markdown",
      "metadata": {
        "id": "YiK8IFOz26T6"
      },
      "source": [
        "### 📒 Desafio 16: Repassar pelo desafio 12, com as bases de dados alteradas."
      ]
    },
    {
      "cell_type": "markdown",
      "metadata": {
        "id": "1X0RRXX126sI"
      },
      "source": [
        "### 📒 Desafio Extra: Criar um pipeline de treinamento."
      ]
    }
  ]
}