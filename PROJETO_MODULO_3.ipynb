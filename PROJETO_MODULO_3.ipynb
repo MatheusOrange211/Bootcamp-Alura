{
  "nbformat": 4,
  "nbformat_minor": 0,
  "metadata": {
    "colab": {
      "name": "PROJETO MODULO 3",
      "provenance": [],
      "collapsed_sections": [],
      "toc_visible": true,
      "mount_file_id": "1uBXNdJgbnQymZ3Qcdnt8MxhJYlzQ9QU6",
      "authorship_tag": "ABX9TyM0Wfx/YDttR9pz/MajuSE8",
      "include_colab_link": true
    },
    "kernelspec": {
      "display_name": "Python 3",
      "name": "python3"
    }
  },
  "cells": [
    {
      "cell_type": "markdown",
      "metadata": {
        "id": "view-in-github",
        "colab_type": "text"
      },
      "source": [
        "<a href=\"https://colab.research.google.com/github/MatheusOrange211/Bootcamp-Alura/blob/main/PROJETO_MODULO_3.ipynb\" target=\"_parent\"><img src=\"https://colab.research.google.com/assets/colab-badge.svg\" alt=\"Open In Colab\"/></a>"
      ]
    },
    {
      "cell_type": "markdown",
      "metadata": {
        "id": "Av5h7WXnRhxh"
      },
      "source": [
        "#**ANÁLISE DE DADOS DA PESQUISA NACIONAL DA SAÚDE DO ESCOLA: PeNSE - 2015**\r\n",
        "\r\n"
      ]
    },
    {
      "cell_type": "markdown",
      "metadata": {
        "id": "ey-uxbWjbGuy"
      },
      "source": [
        "Desenvolvido por Matheus Naranjo Corrêa:\r\n",
        ">**Contato**:\r\n",
        "* matheusnaranjocorrea@gmail.com\r\n",
        "* [LinkedIn](https://www.linkedin.com/in/matheus-naranjo-35ab22188/)\r\n",
        "* [GitHub](https://github.com/MatheusOrange211)\r\n",
        "* [Instagram](https://www.instagram.com/matt_naranjo07/)\r\n",
        "\r\n"
      ]
    },
    {
      "cell_type": "markdown",
      "metadata": {
        "id": "CBAvwutGbleI"
      },
      "source": [
        "#RESUMO\r\n",
        "Olá! Eu sou o  Matheus, aluno do curso de Ciências da Computação pela Universidade Federal de Roraima e pelo Centro Universitário Unifacvest e aluno do curso do Bootcamp Alura de DataScience Aplicada. Neste projeto, iremos mergulhar nos dados referentes ao PeNSE 2015, promovido pelo IBGE. O intuito é analisar um pouquinho as perguntas promovidas aos estudantes e entender melhor como andam os comportamentos dos jovens estudantes no Brasil. É importante destacar que essa **amostra** se refere ao ano de 2015, sendo a última pesquisa realizada até o momento.\r\n",
        "Neste projeto utilizamos a linguagem de programação **Python**, além da biblioteca para análise de dados **Pandas** além da biblioteca responsável por cálculos matemáticos **Numpy**, além do **MatPlotLib** e **Seaborn**. Além disso, para extração de arquivos zipados temos o uso da biblioteca **Zipfile**."
      ]
    },
    {
      "cell_type": "markdown",
      "metadata": {
        "id": "PXm2kapFdNeE"
      },
      "source": [
        "#O que é o PeNSE 2015?\r\n",
        ">Investiga informações que permitem conhecer e dimensionar os fatores de risco e proteção à saúde dos adolescentes. A pesquisa é realizada por amostragem, utilizando como referência para seleção o cadastro das escolas públicas e privadas do Instituto Nacional de Estudos e Pesquisas Educacionais Anísio Teixeira - INEP.  \r\n",
        "<br>\r\n",
        "A Pesquisa Nacional de Saúde do Escolar - PeNSE teve início em 2009, fruto de parceria com o Ministério da Saúde e apoio do Ministério da Educação. Na primeira edição, os escolares do 9o ano do ensino fundamental (antiga 8a série) das escolas públicas e privadas dos Municípios das Capitais constituíram sua população-alvo. A escolha do 9o ano do ensino fundamental, cabe destacar, teve como justificativa o mínimo da escolarização necessária para responder questionário autoaplicável e também a proximidade da idade de referência preconizada pela Organização Mundial da Saúde - OMS (World Health Organization - WHO), que é de 13 a 15 anos.<br>\r\n",
        "Em 2012, embora mantida sua população-alvo, a PeNSE passou a abarcar dados para o conjunto do País e as Grandes Regiões, e a investigar, também, algumas características do ambiente escolar e do entorno. Na edição de 2015, importantes inovações foram introduzidas na pesquisa, dentre as quais se destaca a disponibilização de informações oriundas de dois planos amostrais distintos: escolares frequentando o 9o ano do ensino fundamental e escolares de 13 a 17 anos de idade frequentando as etapas do 6o ao 9o ano do ensino fundamental (antigas 5a a 8a séries) e da 1a a 3a série do ensino médio.\r\n",
        "<br>Mais informações, clique [aqui](https://www.ibge.gov.br/estatisticas/sociais/educacao/9134-pesquisa-nacional-de-saude-do-escolar.html?=&t=o-que-e)"
      ]
    },
    {
      "cell_type": "markdown",
      "metadata": {
        "id": "WuKSaMPVai3n"
      },
      "source": [
        "#IMPORTANDO BIBLIOTECAS E CONFIGURAÇÕES INICIAIS"
      ]
    },
    {
      "cell_type": "markdown",
      "metadata": {
        "id": "sI9-4grgdtrr"
      },
      "source": [
        "Para baixar os dados, clique [aqui](https://www.ibge.gov.br/estatisticas/downloads-estatisticas.html?caminho=pense/2015/microdados/)"
      ]
    },
    {
      "cell_type": "code",
      "metadata": {
        "id": "O3xEO7GvAwJc"
      },
      "source": [
        "import pandas as pd\r\n",
        "import numpy as np\r\n",
        "from zipfile import ZipFile\r\n",
        "import matplotlib.pyplot as plt\r\n",
        "import matplotlib.ticker as ticker\r\n",
        "import seaborn as sns"
      ],
      "execution_count": 1,
      "outputs": []
    },
    {
      "cell_type": "code",
      "metadata": {
        "id": "EdnEsMnvbKzg"
      },
      "source": [
        "sns.set()"
      ],
      "execution_count": 2,
      "outputs": []
    },
    {
      "cell_type": "markdown",
      "metadata": {
        "id": "rwre5_9ZX0K1"
      },
      "source": [
        "#IMPORTANDO OS DADOS"
      ]
    },
    {
      "cell_type": "code",
      "metadata": {
        "id": "DdHhxJXwO9hq"
      },
      "source": [
        "arquivos = \"/content/drive/MyDrive/bootcamp-modulo3/PeNSE_2015_AMOSTRA2.zip\"\r\n",
        "zip = ZipFile(arquivos)\r\n",
        "amostra_alunoescola = zip.namelist()[1]"
      ],
      "execution_count": 3,
      "outputs": []
    },
    {
      "cell_type": "code",
      "metadata": {
        "colab": {
          "base_uri": "https://localhost:8080/",
          "height": 426
        },
        "id": "IWtgW2gXYY3c",
        "outputId": "2ed0cc4f-9b4d-48eb-f34b-2d9c13d831df"
      },
      "source": [
        "dados_aluno_escola = pd.read_csv(zip.open(amostra_alunoescola),sep=';',thousands='.',decimal=',')\r\n",
        "dados_aluno_escola"
      ],
      "execution_count": 4,
      "outputs": [
        {
          "output_type": "execute_result",
          "data": {
            "text/html": [
              "<div>\n",
              "<style scoped>\n",
              "    .dataframe tbody tr th:only-of-type {\n",
              "        vertical-align: middle;\n",
              "    }\n",
              "\n",
              "    .dataframe tbody tr th {\n",
              "        vertical-align: top;\n",
              "    }\n",
              "\n",
              "    .dataframe thead th {\n",
              "        text-align: right;\n",
              "    }\n",
              "</style>\n",
              "<table border=\"1\" class=\"dataframe\">\n",
              "  <thead>\n",
              "    <tr style=\"text-align: right;\">\n",
              "      <th></th>\n",
              "      <th>ANOPESQ</th>\n",
              "      <th>PAIS</th>\n",
              "      <th>REGEOGR</th>\n",
              "      <th>VB00004</th>\n",
              "      <th>VB01001</th>\n",
              "      <th>VB01002</th>\n",
              "      <th>VB01003</th>\n",
              "      <th>VB01004</th>\n",
              "      <th>VB01005</th>\n",
              "      <th>VB01006</th>\n",
              "      <th>VB01007</th>\n",
              "      <th>VB01008A</th>\n",
              "      <th>VB01010A</th>\n",
              "      <th>VB01011</th>\n",
              "      <th>VB01012</th>\n",
              "      <th>VB01013</th>\n",
              "      <th>VB01014</th>\n",
              "      <th>VB01015A</th>\n",
              "      <th>VB01016</th>\n",
              "      <th>VB01017</th>\n",
              "      <th>VB01018</th>\n",
              "      <th>VB01019</th>\n",
              "      <th>VB01020A</th>\n",
              "      <th>VB01021</th>\n",
              "      <th>VB01022</th>\n",
              "      <th>VB01023</th>\n",
              "      <th>VB01024</th>\n",
              "      <th>VB01025</th>\n",
              "      <th>VB01026</th>\n",
              "      <th>VB02001</th>\n",
              "      <th>VB02002</th>\n",
              "      <th>VB02004A</th>\n",
              "      <th>VB02010</th>\n",
              "      <th>VB02011</th>\n",
              "      <th>VB02013</th>\n",
              "      <th>VB02017A</th>\n",
              "      <th>VB02018A</th>\n",
              "      <th>VB02019A</th>\n",
              "      <th>VB02020A</th>\n",
              "      <th>VB02021</th>\n",
              "      <th>...</th>\n",
              "      <th>VB11005</th>\n",
              "      <th>VB11006</th>\n",
              "      <th>VB11007</th>\n",
              "      <th>VB12001</th>\n",
              "      <th>VB12002</th>\n",
              "      <th>VB12003</th>\n",
              "      <th>VB13001</th>\n",
              "      <th>VB13002A</th>\n",
              "      <th>VB13004A</th>\n",
              "      <th>VB13005</th>\n",
              "      <th>VB13006</th>\n",
              "      <th>VB13007</th>\n",
              "      <th>VB13008</th>\n",
              "      <th>VB13009</th>\n",
              "      <th>VB14001</th>\n",
              "      <th>VB14002</th>\n",
              "      <th>VB16001A01</th>\n",
              "      <th>VB16001A02</th>\n",
              "      <th>VB16001A03</th>\n",
              "      <th>VB16001A04</th>\n",
              "      <th>VB16001A05</th>\n",
              "      <th>VB16001A06</th>\n",
              "      <th>VB16001A07</th>\n",
              "      <th>VB16001A08</th>\n",
              "      <th>VB17001</th>\n",
              "      <th>VB17002</th>\n",
              "      <th>VB17003</th>\n",
              "      <th>VB17004</th>\n",
              "      <th>VB17005</th>\n",
              "      <th>VB17006</th>\n",
              "      <th>ESTRATO_EXP</th>\n",
              "      <th>ESTRATOGEOREG</th>\n",
              "      <th>PESO</th>\n",
              "      <th>V0006</th>\n",
              "      <th>V0007</th>\n",
              "      <th>V0008</th>\n",
              "      <th>V0041</th>\n",
              "      <th>aluno</th>\n",
              "      <th>escola</th>\n",
              "      <th>turma</th>\n",
              "    </tr>\n",
              "  </thead>\n",
              "  <tbody>\n",
              "    <tr>\n",
              "      <th>0</th>\n",
              "      <td>2015</td>\n",
              "      <td>76</td>\n",
              "      <td>1</td>\n",
              "      <td>1</td>\n",
              "      <td>2</td>\n",
              "      <td>1</td>\n",
              "      <td>13</td>\n",
              "      <td>7</td>\n",
              "      <td>7</td>\n",
              "      <td>1</td>\n",
              "      <td>2</td>\n",
              "      <td>7</td>\n",
              "      <td>3</td>\n",
              "      <td>2</td>\n",
              "      <td>-1</td>\n",
              "      <td>1</td>\n",
              "      <td>1</td>\n",
              "      <td>1</td>\n",
              "      <td>1</td>\n",
              "      <td>1</td>\n",
              "      <td>2</td>\n",
              "      <td>4</td>\n",
              "      <td>2</td>\n",
              "      <td>4</td>\n",
              "      <td>1</td>\n",
              "      <td>2</td>\n",
              "      <td>2</td>\n",
              "      <td>5</td>\n",
              "      <td>1</td>\n",
              "      <td>8</td>\n",
              "      <td>3</td>\n",
              "      <td>4</td>\n",
              "      <td>3</td>\n",
              "      <td>6</td>\n",
              "      <td>6</td>\n",
              "      <td>1</td>\n",
              "      <td>6</td>\n",
              "      <td>1</td>\n",
              "      <td>-1</td>\n",
              "      <td>2</td>\n",
              "      <td>...</td>\n",
              "      <td>2</td>\n",
              "      <td>1</td>\n",
              "      <td>2</td>\n",
              "      <td>1</td>\n",
              "      <td>1</td>\n",
              "      <td>4</td>\n",
              "      <td>2</td>\n",
              "      <td>-1</td>\n",
              "      <td>3</td>\n",
              "      <td>1</td>\n",
              "      <td>1</td>\n",
              "      <td>-1</td>\n",
              "      <td>1</td>\n",
              "      <td>1</td>\n",
              "      <td>2</td>\n",
              "      <td>2</td>\n",
              "      <td>1</td>\n",
              "      <td>2</td>\n",
              "      <td>2</td>\n",
              "      <td>2</td>\n",
              "      <td>2</td>\n",
              "      <td>2</td>\n",
              "      <td>2</td>\n",
              "      <td>2</td>\n",
              "      <td>371.0</td>\n",
              "      <td>1570.0</td>\n",
              "      <td>37.1</td>\n",
              "      <td>157.0</td>\n",
              "      <td>2</td>\n",
              "      <td>1</td>\n",
              "      <td>1223</td>\n",
              "      <td>1</td>\n",
              "      <td>299.735235</td>\n",
              "      <td>1</td>\n",
              "      <td>2</td>\n",
              "      <td>4</td>\n",
              "      <td>1</td>\n",
              "      <td>1</td>\n",
              "      <td>1</td>\n",
              "      <td>296</td>\n",
              "    </tr>\n",
              "    <tr>\n",
              "      <th>1</th>\n",
              "      <td>2015</td>\n",
              "      <td>76</td>\n",
              "      <td>1</td>\n",
              "      <td>1</td>\n",
              "      <td>2</td>\n",
              "      <td>1</td>\n",
              "      <td>14</td>\n",
              "      <td>4</td>\n",
              "      <td>7</td>\n",
              "      <td>1</td>\n",
              "      <td>1</td>\n",
              "      <td>7</td>\n",
              "      <td>3</td>\n",
              "      <td>2</td>\n",
              "      <td>-1</td>\n",
              "      <td>1</td>\n",
              "      <td>1</td>\n",
              "      <td>1</td>\n",
              "      <td>1</td>\n",
              "      <td>1</td>\n",
              "      <td>2</td>\n",
              "      <td>2</td>\n",
              "      <td>2</td>\n",
              "      <td>4</td>\n",
              "      <td>1</td>\n",
              "      <td>2</td>\n",
              "      <td>2</td>\n",
              "      <td>5</td>\n",
              "      <td>3</td>\n",
              "      <td>8</td>\n",
              "      <td>2</td>\n",
              "      <td>1</td>\n",
              "      <td>8</td>\n",
              "      <td>8</td>\n",
              "      <td>6</td>\n",
              "      <td>1</td>\n",
              "      <td>1</td>\n",
              "      <td>5</td>\n",
              "      <td>-1</td>\n",
              "      <td>2</td>\n",
              "      <td>...</td>\n",
              "      <td>2</td>\n",
              "      <td>3</td>\n",
              "      <td>2</td>\n",
              "      <td>4</td>\n",
              "      <td>4</td>\n",
              "      <td>4</td>\n",
              "      <td>1</td>\n",
              "      <td>2</td>\n",
              "      <td>3</td>\n",
              "      <td>3</td>\n",
              "      <td>1</td>\n",
              "      <td>-1</td>\n",
              "      <td>1</td>\n",
              "      <td>1</td>\n",
              "      <td>2</td>\n",
              "      <td>2</td>\n",
              "      <td>2</td>\n",
              "      <td>2</td>\n",
              "      <td>2</td>\n",
              "      <td>1</td>\n",
              "      <td>2</td>\n",
              "      <td>2</td>\n",
              "      <td>2</td>\n",
              "      <td>2</td>\n",
              "      <td>502.0</td>\n",
              "      <td>1520.0</td>\n",
              "      <td>50.2</td>\n",
              "      <td>152.0</td>\n",
              "      <td>2</td>\n",
              "      <td>2</td>\n",
              "      <td>1223</td>\n",
              "      <td>1</td>\n",
              "      <td>355.170081</td>\n",
              "      <td>1</td>\n",
              "      <td>2</td>\n",
              "      <td>4</td>\n",
              "      <td>1</td>\n",
              "      <td>2</td>\n",
              "      <td>1</td>\n",
              "      <td>296</td>\n",
              "    </tr>\n",
              "    <tr>\n",
              "      <th>2</th>\n",
              "      <td>2015</td>\n",
              "      <td>76</td>\n",
              "      <td>1</td>\n",
              "      <td>1</td>\n",
              "      <td>1</td>\n",
              "      <td>4</td>\n",
              "      <td>13</td>\n",
              "      <td>6</td>\n",
              "      <td>7</td>\n",
              "      <td>1</td>\n",
              "      <td>1</td>\n",
              "      <td>5</td>\n",
              "      <td>5</td>\n",
              "      <td>2</td>\n",
              "      <td>-1</td>\n",
              "      <td>2</td>\n",
              "      <td>1</td>\n",
              "      <td>1</td>\n",
              "      <td>1</td>\n",
              "      <td>1</td>\n",
              "      <td>2</td>\n",
              "      <td>3</td>\n",
              "      <td>1</td>\n",
              "      <td>4</td>\n",
              "      <td>1</td>\n",
              "      <td>2</td>\n",
              "      <td>2</td>\n",
              "      <td>5</td>\n",
              "      <td>3</td>\n",
              "      <td>2</td>\n",
              "      <td>3</td>\n",
              "      <td>1</td>\n",
              "      <td>8</td>\n",
              "      <td>2</td>\n",
              "      <td>8</td>\n",
              "      <td>1</td>\n",
              "      <td>1</td>\n",
              "      <td>5</td>\n",
              "      <td>5</td>\n",
              "      <td>1</td>\n",
              "      <td>...</td>\n",
              "      <td>2</td>\n",
              "      <td>1</td>\n",
              "      <td>2</td>\n",
              "      <td>1</td>\n",
              "      <td>2</td>\n",
              "      <td>3</td>\n",
              "      <td>1</td>\n",
              "      <td>2</td>\n",
              "      <td>1</td>\n",
              "      <td>2</td>\n",
              "      <td>5</td>\n",
              "      <td>99</td>\n",
              "      <td>1</td>\n",
              "      <td>-1</td>\n",
              "      <td>2</td>\n",
              "      <td>2</td>\n",
              "      <td>1</td>\n",
              "      <td>1</td>\n",
              "      <td>1</td>\n",
              "      <td>1</td>\n",
              "      <td>1</td>\n",
              "      <td>1</td>\n",
              "      <td>1</td>\n",
              "      <td>1</td>\n",
              "      <td>482.0</td>\n",
              "      <td>1614.0</td>\n",
              "      <td>48.2</td>\n",
              "      <td>161.4</td>\n",
              "      <td>2</td>\n",
              "      <td>2</td>\n",
              "      <td>1223</td>\n",
              "      <td>1</td>\n",
              "      <td>299.735235</td>\n",
              "      <td>1</td>\n",
              "      <td>2</td>\n",
              "      <td>4</td>\n",
              "      <td>1</td>\n",
              "      <td>3</td>\n",
              "      <td>1</td>\n",
              "      <td>296</td>\n",
              "    </tr>\n",
              "    <tr>\n",
              "      <th>3</th>\n",
              "      <td>2015</td>\n",
              "      <td>76</td>\n",
              "      <td>1</td>\n",
              "      <td>1</td>\n",
              "      <td>1</td>\n",
              "      <td>1</td>\n",
              "      <td>14</td>\n",
              "      <td>6</td>\n",
              "      <td>7</td>\n",
              "      <td>1</td>\n",
              "      <td>1</td>\n",
              "      <td>7</td>\n",
              "      <td>4</td>\n",
              "      <td>2</td>\n",
              "      <td>-1</td>\n",
              "      <td>1</td>\n",
              "      <td>1</td>\n",
              "      <td>1</td>\n",
              "      <td>1</td>\n",
              "      <td>1</td>\n",
              "      <td>2</td>\n",
              "      <td>4</td>\n",
              "      <td>2</td>\n",
              "      <td>4</td>\n",
              "      <td>1</td>\n",
              "      <td>2</td>\n",
              "      <td>2</td>\n",
              "      <td>6</td>\n",
              "      <td>3</td>\n",
              "      <td>2</td>\n",
              "      <td>4</td>\n",
              "      <td>1</td>\n",
              "      <td>3</td>\n",
              "      <td>2</td>\n",
              "      <td>7</td>\n",
              "      <td>1</td>\n",
              "      <td>5</td>\n",
              "      <td>1</td>\n",
              "      <td>-1</td>\n",
              "      <td>2</td>\n",
              "      <td>...</td>\n",
              "      <td>2</td>\n",
              "      <td>1</td>\n",
              "      <td>2</td>\n",
              "      <td>2</td>\n",
              "      <td>2</td>\n",
              "      <td>4</td>\n",
              "      <td>1</td>\n",
              "      <td>10</td>\n",
              "      <td>3</td>\n",
              "      <td>1</td>\n",
              "      <td>2</td>\n",
              "      <td>-1</td>\n",
              "      <td>1</td>\n",
              "      <td>-1</td>\n",
              "      <td>2</td>\n",
              "      <td>2</td>\n",
              "      <td>1</td>\n",
              "      <td>2</td>\n",
              "      <td>2</td>\n",
              "      <td>2</td>\n",
              "      <td>1</td>\n",
              "      <td>2</td>\n",
              "      <td>2</td>\n",
              "      <td>2</td>\n",
              "      <td>694.0</td>\n",
              "      <td>1725.0</td>\n",
              "      <td>69.4</td>\n",
              "      <td>172.5</td>\n",
              "      <td>2</td>\n",
              "      <td>3</td>\n",
              "      <td>1223</td>\n",
              "      <td>1</td>\n",
              "      <td>355.170081</td>\n",
              "      <td>1</td>\n",
              "      <td>2</td>\n",
              "      <td>4</td>\n",
              "      <td>1</td>\n",
              "      <td>4</td>\n",
              "      <td>1</td>\n",
              "      <td>296</td>\n",
              "    </tr>\n",
              "    <tr>\n",
              "      <th>4</th>\n",
              "      <td>2015</td>\n",
              "      <td>76</td>\n",
              "      <td>1</td>\n",
              "      <td>1</td>\n",
              "      <td>1</td>\n",
              "      <td>1</td>\n",
              "      <td>13</td>\n",
              "      <td>9</td>\n",
              "      <td>7</td>\n",
              "      <td>1</td>\n",
              "      <td>2</td>\n",
              "      <td>5</td>\n",
              "      <td>4</td>\n",
              "      <td>2</td>\n",
              "      <td>-1</td>\n",
              "      <td>2</td>\n",
              "      <td>1</td>\n",
              "      <td>1</td>\n",
              "      <td>1</td>\n",
              "      <td>1</td>\n",
              "      <td>2</td>\n",
              "      <td>5</td>\n",
              "      <td>1</td>\n",
              "      <td>4</td>\n",
              "      <td>1</td>\n",
              "      <td>2</td>\n",
              "      <td>2</td>\n",
              "      <td>6</td>\n",
              "      <td>5</td>\n",
              "      <td>6</td>\n",
              "      <td>3</td>\n",
              "      <td>5</td>\n",
              "      <td>2</td>\n",
              "      <td>6</td>\n",
              "      <td>2</td>\n",
              "      <td>1</td>\n",
              "      <td>5</td>\n",
              "      <td>1</td>\n",
              "      <td>5</td>\n",
              "      <td>1</td>\n",
              "      <td>...</td>\n",
              "      <td>2</td>\n",
              "      <td>1</td>\n",
              "      <td>4</td>\n",
              "      <td>2</td>\n",
              "      <td>2</td>\n",
              "      <td>4</td>\n",
              "      <td>1</td>\n",
              "      <td>3</td>\n",
              "      <td>2</td>\n",
              "      <td>2</td>\n",
              "      <td>2</td>\n",
              "      <td>13</td>\n",
              "      <td>1</td>\n",
              "      <td>-1</td>\n",
              "      <td>1</td>\n",
              "      <td>2</td>\n",
              "      <td>1</td>\n",
              "      <td>1</td>\n",
              "      <td>1</td>\n",
              "      <td>1</td>\n",
              "      <td>1</td>\n",
              "      <td>1</td>\n",
              "      <td>1</td>\n",
              "      <td>1</td>\n",
              "      <td>789.0</td>\n",
              "      <td>1675.0</td>\n",
              "      <td>78.9</td>\n",
              "      <td>167.5</td>\n",
              "      <td>2</td>\n",
              "      <td>4</td>\n",
              "      <td>1223</td>\n",
              "      <td>1</td>\n",
              "      <td>299.735235</td>\n",
              "      <td>1</td>\n",
              "      <td>2</td>\n",
              "      <td>4</td>\n",
              "      <td>1</td>\n",
              "      <td>5</td>\n",
              "      <td>1</td>\n",
              "      <td>296</td>\n",
              "    </tr>\n",
              "    <tr>\n",
              "      <th>...</th>\n",
              "      <td>...</td>\n",
              "      <td>...</td>\n",
              "      <td>...</td>\n",
              "      <td>...</td>\n",
              "      <td>...</td>\n",
              "      <td>...</td>\n",
              "      <td>...</td>\n",
              "      <td>...</td>\n",
              "      <td>...</td>\n",
              "      <td>...</td>\n",
              "      <td>...</td>\n",
              "      <td>...</td>\n",
              "      <td>...</td>\n",
              "      <td>...</td>\n",
              "      <td>...</td>\n",
              "      <td>...</td>\n",
              "      <td>...</td>\n",
              "      <td>...</td>\n",
              "      <td>...</td>\n",
              "      <td>...</td>\n",
              "      <td>...</td>\n",
              "      <td>...</td>\n",
              "      <td>...</td>\n",
              "      <td>...</td>\n",
              "      <td>...</td>\n",
              "      <td>...</td>\n",
              "      <td>...</td>\n",
              "      <td>...</td>\n",
              "      <td>...</td>\n",
              "      <td>...</td>\n",
              "      <td>...</td>\n",
              "      <td>...</td>\n",
              "      <td>...</td>\n",
              "      <td>...</td>\n",
              "      <td>...</td>\n",
              "      <td>...</td>\n",
              "      <td>...</td>\n",
              "      <td>...</td>\n",
              "      <td>...</td>\n",
              "      <td>...</td>\n",
              "      <td>...</td>\n",
              "      <td>...</td>\n",
              "      <td>...</td>\n",
              "      <td>...</td>\n",
              "      <td>...</td>\n",
              "      <td>...</td>\n",
              "      <td>...</td>\n",
              "      <td>...</td>\n",
              "      <td>...</td>\n",
              "      <td>...</td>\n",
              "      <td>...</td>\n",
              "      <td>...</td>\n",
              "      <td>...</td>\n",
              "      <td>...</td>\n",
              "      <td>...</td>\n",
              "      <td>...</td>\n",
              "      <td>...</td>\n",
              "      <td>...</td>\n",
              "      <td>...</td>\n",
              "      <td>...</td>\n",
              "      <td>...</td>\n",
              "      <td>...</td>\n",
              "      <td>...</td>\n",
              "      <td>...</td>\n",
              "      <td>...</td>\n",
              "      <td>...</td>\n",
              "      <td>...</td>\n",
              "      <td>...</td>\n",
              "      <td>...</td>\n",
              "      <td>...</td>\n",
              "      <td>...</td>\n",
              "      <td>...</td>\n",
              "      <td>...</td>\n",
              "      <td>...</td>\n",
              "      <td>...</td>\n",
              "      <td>...</td>\n",
              "      <td>...</td>\n",
              "      <td>...</td>\n",
              "      <td>...</td>\n",
              "      <td>...</td>\n",
              "      <td>...</td>\n",
              "    </tr>\n",
              "    <tr>\n",
              "      <th>16551</th>\n",
              "      <td>2015</td>\n",
              "      <td>76</td>\n",
              "      <td>5</td>\n",
              "      <td>1</td>\n",
              "      <td>2</td>\n",
              "      <td>4</td>\n",
              "      <td>12</td>\n",
              "      <td>8</td>\n",
              "      <td>8</td>\n",
              "      <td>1</td>\n",
              "      <td>1</td>\n",
              "      <td>7</td>\n",
              "      <td>5</td>\n",
              "      <td>2</td>\n",
              "      <td>-1</td>\n",
              "      <td>1</td>\n",
              "      <td>1</td>\n",
              "      <td>1</td>\n",
              "      <td>1</td>\n",
              "      <td>1</td>\n",
              "      <td>1</td>\n",
              "      <td>3</td>\n",
              "      <td>1</td>\n",
              "      <td>3</td>\n",
              "      <td>1</td>\n",
              "      <td>2</td>\n",
              "      <td>2</td>\n",
              "      <td>6</td>\n",
              "      <td>3</td>\n",
              "      <td>8</td>\n",
              "      <td>7</td>\n",
              "      <td>5</td>\n",
              "      <td>8</td>\n",
              "      <td>7</td>\n",
              "      <td>5</td>\n",
              "      <td>1</td>\n",
              "      <td>2</td>\n",
              "      <td>1</td>\n",
              "      <td>-1</td>\n",
              "      <td>2</td>\n",
              "      <td>...</td>\n",
              "      <td>2</td>\n",
              "      <td>1</td>\n",
              "      <td>1</td>\n",
              "      <td>1</td>\n",
              "      <td>1</td>\n",
              "      <td>4</td>\n",
              "      <td>1</td>\n",
              "      <td>2</td>\n",
              "      <td>1</td>\n",
              "      <td>1</td>\n",
              "      <td>1</td>\n",
              "      <td>7</td>\n",
              "      <td>1</td>\n",
              "      <td>1</td>\n",
              "      <td>2</td>\n",
              "      <td>2</td>\n",
              "      <td>2</td>\n",
              "      <td>2</td>\n",
              "      <td>2</td>\n",
              "      <td>2</td>\n",
              "      <td>1</td>\n",
              "      <td>2</td>\n",
              "      <td>2</td>\n",
              "      <td>2</td>\n",
              "      <td>567.0</td>\n",
              "      <td>1679.0</td>\n",
              "      <td>56.7</td>\n",
              "      <td>167.9</td>\n",
              "      <td>2</td>\n",
              "      <td>2</td>\n",
              "      <td>521</td>\n",
              "      <td>5</td>\n",
              "      <td>447.815539</td>\n",
              "      <td>1</td>\n",
              "      <td>2</td>\n",
              "      <td>4</td>\n",
              "      <td>1</td>\n",
              "      <td>16552</td>\n",
              "      <td>371</td>\n",
              "      <td>117</td>\n",
              "    </tr>\n",
              "    <tr>\n",
              "      <th>16552</th>\n",
              "      <td>2015</td>\n",
              "      <td>76</td>\n",
              "      <td>5</td>\n",
              "      <td>1</td>\n",
              "      <td>1</td>\n",
              "      <td>1</td>\n",
              "      <td>15</td>\n",
              "      <td>7</td>\n",
              "      <td>5</td>\n",
              "      <td>1</td>\n",
              "      <td>1</td>\n",
              "      <td>7</td>\n",
              "      <td>4</td>\n",
              "      <td>2</td>\n",
              "      <td>-1</td>\n",
              "      <td>2</td>\n",
              "      <td>1</td>\n",
              "      <td>1</td>\n",
              "      <td>1</td>\n",
              "      <td>1</td>\n",
              "      <td>1</td>\n",
              "      <td>3</td>\n",
              "      <td>1</td>\n",
              "      <td>3</td>\n",
              "      <td>1</td>\n",
              "      <td>1</td>\n",
              "      <td>2</td>\n",
              "      <td>5</td>\n",
              "      <td>4</td>\n",
              "      <td>6</td>\n",
              "      <td>2</td>\n",
              "      <td>4</td>\n",
              "      <td>1</td>\n",
              "      <td>6</td>\n",
              "      <td>1</td>\n",
              "      <td>1</td>\n",
              "      <td>6</td>\n",
              "      <td>4</td>\n",
              "      <td>-1</td>\n",
              "      <td>2</td>\n",
              "      <td>...</td>\n",
              "      <td>2</td>\n",
              "      <td>1</td>\n",
              "      <td>2</td>\n",
              "      <td>1</td>\n",
              "      <td>1</td>\n",
              "      <td>4</td>\n",
              "      <td>1</td>\n",
              "      <td>2</td>\n",
              "      <td>1</td>\n",
              "      <td>2</td>\n",
              "      <td>5</td>\n",
              "      <td>12</td>\n",
              "      <td>1</td>\n",
              "      <td>-1</td>\n",
              "      <td>2</td>\n",
              "      <td>2</td>\n",
              "      <td>1</td>\n",
              "      <td>2</td>\n",
              "      <td>2</td>\n",
              "      <td>2</td>\n",
              "      <td>2</td>\n",
              "      <td>2</td>\n",
              "      <td>2</td>\n",
              "      <td>2</td>\n",
              "      <td>619.0</td>\n",
              "      <td>1858.0</td>\n",
              "      <td>61.9</td>\n",
              "      <td>185.8</td>\n",
              "      <td>2</td>\n",
              "      <td>2</td>\n",
              "      <td>521</td>\n",
              "      <td>5</td>\n",
              "      <td>592.507440</td>\n",
              "      <td>1</td>\n",
              "      <td>2</td>\n",
              "      <td>4</td>\n",
              "      <td>1</td>\n",
              "      <td>16553</td>\n",
              "      <td>371</td>\n",
              "      <td>117</td>\n",
              "    </tr>\n",
              "    <tr>\n",
              "      <th>16553</th>\n",
              "      <td>2015</td>\n",
              "      <td>76</td>\n",
              "      <td>5</td>\n",
              "      <td>1</td>\n",
              "      <td>1</td>\n",
              "      <td>4</td>\n",
              "      <td>13</td>\n",
              "      <td>11</td>\n",
              "      <td>7</td>\n",
              "      <td>1</td>\n",
              "      <td>1</td>\n",
              "      <td>7</td>\n",
              "      <td>4</td>\n",
              "      <td>2</td>\n",
              "      <td>-1</td>\n",
              "      <td>1</td>\n",
              "      <td>2</td>\n",
              "      <td>1</td>\n",
              "      <td>1</td>\n",
              "      <td>1</td>\n",
              "      <td>2</td>\n",
              "      <td>3</td>\n",
              "      <td>1</td>\n",
              "      <td>3</td>\n",
              "      <td>1</td>\n",
              "      <td>2</td>\n",
              "      <td>2</td>\n",
              "      <td>5</td>\n",
              "      <td>4</td>\n",
              "      <td>8</td>\n",
              "      <td>1</td>\n",
              "      <td>8</td>\n",
              "      <td>2</td>\n",
              "      <td>8</td>\n",
              "      <td>1</td>\n",
              "      <td>1</td>\n",
              "      <td>5</td>\n",
              "      <td>5</td>\n",
              "      <td>-1</td>\n",
              "      <td>2</td>\n",
              "      <td>...</td>\n",
              "      <td>2</td>\n",
              "      <td>4</td>\n",
              "      <td>1</td>\n",
              "      <td>5</td>\n",
              "      <td>5</td>\n",
              "      <td>4</td>\n",
              "      <td>1</td>\n",
              "      <td>7</td>\n",
              "      <td>3</td>\n",
              "      <td>1</td>\n",
              "      <td>5</td>\n",
              "      <td>-1</td>\n",
              "      <td>1</td>\n",
              "      <td>-1</td>\n",
              "      <td>2</td>\n",
              "      <td>2</td>\n",
              "      <td>2</td>\n",
              "      <td>2</td>\n",
              "      <td>2</td>\n",
              "      <td>2</td>\n",
              "      <td>1</td>\n",
              "      <td>2</td>\n",
              "      <td>2</td>\n",
              "      <td>2</td>\n",
              "      <td>609.0</td>\n",
              "      <td>1594.0</td>\n",
              "      <td>60.9</td>\n",
              "      <td>159.4</td>\n",
              "      <td>2</td>\n",
              "      <td>3</td>\n",
              "      <td>521</td>\n",
              "      <td>5</td>\n",
              "      <td>401.131512</td>\n",
              "      <td>1</td>\n",
              "      <td>2</td>\n",
              "      <td>4</td>\n",
              "      <td>1</td>\n",
              "      <td>16554</td>\n",
              "      <td>371</td>\n",
              "      <td>117</td>\n",
              "    </tr>\n",
              "    <tr>\n",
              "      <th>16554</th>\n",
              "      <td>2015</td>\n",
              "      <td>76</td>\n",
              "      <td>5</td>\n",
              "      <td>1</td>\n",
              "      <td>1</td>\n",
              "      <td>4</td>\n",
              "      <td>14</td>\n",
              "      <td>8</td>\n",
              "      <td>6</td>\n",
              "      <td>1</td>\n",
              "      <td>1</td>\n",
              "      <td>7</td>\n",
              "      <td>4</td>\n",
              "      <td>2</td>\n",
              "      <td>-1</td>\n",
              "      <td>1</td>\n",
              "      <td>1</td>\n",
              "      <td>1</td>\n",
              "      <td>1</td>\n",
              "      <td>1</td>\n",
              "      <td>1</td>\n",
              "      <td>3</td>\n",
              "      <td>2</td>\n",
              "      <td>3</td>\n",
              "      <td>1</td>\n",
              "      <td>1</td>\n",
              "      <td>2</td>\n",
              "      <td>5</td>\n",
              "      <td>3</td>\n",
              "      <td>7</td>\n",
              "      <td>5</td>\n",
              "      <td>6</td>\n",
              "      <td>4</td>\n",
              "      <td>8</td>\n",
              "      <td>7</td>\n",
              "      <td>3</td>\n",
              "      <td>1</td>\n",
              "      <td>5</td>\n",
              "      <td>-1</td>\n",
              "      <td>2</td>\n",
              "      <td>...</td>\n",
              "      <td>2</td>\n",
              "      <td>3</td>\n",
              "      <td>2</td>\n",
              "      <td>3</td>\n",
              "      <td>4</td>\n",
              "      <td>4</td>\n",
              "      <td>2</td>\n",
              "      <td>-1</td>\n",
              "      <td>1</td>\n",
              "      <td>1</td>\n",
              "      <td>2</td>\n",
              "      <td>7</td>\n",
              "      <td>1</td>\n",
              "      <td>-1</td>\n",
              "      <td>1</td>\n",
              "      <td>1</td>\n",
              "      <td>2</td>\n",
              "      <td>2</td>\n",
              "      <td>2</td>\n",
              "      <td>2</td>\n",
              "      <td>1</td>\n",
              "      <td>2</td>\n",
              "      <td>2</td>\n",
              "      <td>2</td>\n",
              "      <td>473.0</td>\n",
              "      <td>1578.0</td>\n",
              "      <td>47.3</td>\n",
              "      <td>157.8</td>\n",
              "      <td>2</td>\n",
              "      <td>2</td>\n",
              "      <td>521</td>\n",
              "      <td>5</td>\n",
              "      <td>442.718091</td>\n",
              "      <td>1</td>\n",
              "      <td>2</td>\n",
              "      <td>4</td>\n",
              "      <td>1</td>\n",
              "      <td>16555</td>\n",
              "      <td>371</td>\n",
              "      <td>117</td>\n",
              "    </tr>\n",
              "    <tr>\n",
              "      <th>16555</th>\n",
              "      <td>2015</td>\n",
              "      <td>76</td>\n",
              "      <td>5</td>\n",
              "      <td>1</td>\n",
              "      <td>1</td>\n",
              "      <td>2</td>\n",
              "      <td>15</td>\n",
              "      <td>4</td>\n",
              "      <td>6</td>\n",
              "      <td>1</td>\n",
              "      <td>1</td>\n",
              "      <td>7</td>\n",
              "      <td>5</td>\n",
              "      <td>2</td>\n",
              "      <td>-1</td>\n",
              "      <td>1</td>\n",
              "      <td>1</td>\n",
              "      <td>1</td>\n",
              "      <td>1</td>\n",
              "      <td>1</td>\n",
              "      <td>1</td>\n",
              "      <td>3</td>\n",
              "      <td>2</td>\n",
              "      <td>3</td>\n",
              "      <td>1</td>\n",
              "      <td>2</td>\n",
              "      <td>2</td>\n",
              "      <td>4</td>\n",
              "      <td>4</td>\n",
              "      <td>8</td>\n",
              "      <td>2</td>\n",
              "      <td>6</td>\n",
              "      <td>8</td>\n",
              "      <td>8</td>\n",
              "      <td>5</td>\n",
              "      <td>1</td>\n",
              "      <td>6</td>\n",
              "      <td>1</td>\n",
              "      <td>-1</td>\n",
              "      <td>2</td>\n",
              "      <td>...</td>\n",
              "      <td>2</td>\n",
              "      <td>2</td>\n",
              "      <td>2</td>\n",
              "      <td>2</td>\n",
              "      <td>3</td>\n",
              "      <td>4</td>\n",
              "      <td>1</td>\n",
              "      <td>11</td>\n",
              "      <td>3</td>\n",
              "      <td>1</td>\n",
              "      <td>1</td>\n",
              "      <td>-1</td>\n",
              "      <td>1</td>\n",
              "      <td>-1</td>\n",
              "      <td>2</td>\n",
              "      <td>2</td>\n",
              "      <td>2</td>\n",
              "      <td>2</td>\n",
              "      <td>2</td>\n",
              "      <td>1</td>\n",
              "      <td>2</td>\n",
              "      <td>2</td>\n",
              "      <td>2</td>\n",
              "      <td>2</td>\n",
              "      <td>626.0</td>\n",
              "      <td>1639.0</td>\n",
              "      <td>62.6</td>\n",
              "      <td>163.9</td>\n",
              "      <td>2</td>\n",
              "      <td>3</td>\n",
              "      <td>521</td>\n",
              "      <td>5</td>\n",
              "      <td>592.507440</td>\n",
              "      <td>1</td>\n",
              "      <td>2</td>\n",
              "      <td>4</td>\n",
              "      <td>1</td>\n",
              "      <td>16556</td>\n",
              "      <td>371</td>\n",
              "      <td>117</td>\n",
              "    </tr>\n",
              "  </tbody>\n",
              "</table>\n",
              "<p>16556 rows × 181 columns</p>\n",
              "</div>"
            ],
            "text/plain": [
              "       ANOPESQ  PAIS  REGEOGR  VB00004  ...  V0041  aluno  escola  turma\n",
              "0         2015    76        1        1  ...      1      1       1    296\n",
              "1         2015    76        1        1  ...      1      2       1    296\n",
              "2         2015    76        1        1  ...      1      3       1    296\n",
              "3         2015    76        1        1  ...      1      4       1    296\n",
              "4         2015    76        1        1  ...      1      5       1    296\n",
              "...        ...   ...      ...      ...  ...    ...    ...     ...    ...\n",
              "16551     2015    76        5        1  ...      1  16552     371    117\n",
              "16552     2015    76        5        1  ...      1  16553     371    117\n",
              "16553     2015    76        5        1  ...      1  16554     371    117\n",
              "16554     2015    76        5        1  ...      1  16555     371    117\n",
              "16555     2015    76        5        1  ...      1  16556     371    117\n",
              "\n",
              "[16556 rows x 181 columns]"
            ]
          },
          "metadata": {
            "tags": []
          },
          "execution_count": 4
        }
      ]
    },
    {
      "cell_type": "code",
      "metadata": {
        "id": "6LYTOeid8T5D"
      },
      "source": [
        "arquivos = \"/content/drive/MyDrive/bootcamp-modulo3/PeNSE_2015_AMOSTRA2.zip\"\r\n",
        "zip = ZipFile(arquivos)\r\n",
        "amostra_alunoescola = zip.namelist()[3]"
      ],
      "execution_count": 5,
      "outputs": []
    },
    {
      "cell_type": "code",
      "metadata": {
        "colab": {
          "base_uri": "https://localhost:8080/",
          "height": 426
        },
        "id": "ca_luzSd8duZ",
        "outputId": "16a6e483-8d7a-44c2-d5e7-58ac5080fb26"
      },
      "source": [
        "dados = pd.read_csv(zip.open(amostra_alunoescola),sep=';',thousands='.',decimal=',')\r\n",
        "dados"
      ],
      "execution_count": 6,
      "outputs": [
        {
          "output_type": "execute_result",
          "data": {
            "text/html": [
              "<div>\n",
              "<style scoped>\n",
              "    .dataframe tbody tr th:only-of-type {\n",
              "        vertical-align: middle;\n",
              "    }\n",
              "\n",
              "    .dataframe tbody tr th {\n",
              "        vertical-align: top;\n",
              "    }\n",
              "\n",
              "    .dataframe thead th {\n",
              "        text-align: right;\n",
              "    }\n",
              "</style>\n",
              "<table border=\"1\" class=\"dataframe\">\n",
              "  <thead>\n",
              "    <tr style=\"text-align: right;\">\n",
              "      <th></th>\n",
              "      <th>ANOPESQ</th>\n",
              "      <th>PAIS</th>\n",
              "      <th>REGEOGR</th>\n",
              "      <th>V0006</th>\n",
              "      <th>V0007</th>\n",
              "      <th>V0008</th>\n",
              "      <th>VE01P3001</th>\n",
              "      <th>VE01P3002</th>\n",
              "      <th>VE01P3003</th>\n",
              "      <th>VE01P3004</th>\n",
              "      <th>VE01P31</th>\n",
              "      <th>VE01P32</th>\n",
              "      <th>VE01P03A01</th>\n",
              "      <th>VE01P03A02</th>\n",
              "      <th>VE01P03A03</th>\n",
              "      <th>VE01P03A04</th>\n",
              "      <th>VE01P02A</th>\n",
              "      <th>VE01P04A</th>\n",
              "      <th>VE01P01</th>\n",
              "      <th>VE01P05A</th>\n",
              "      <th>VE01P06A</th>\n",
              "      <th>VE01P33</th>\n",
              "      <th>VE01P09</th>\n",
              "      <th>VE01P10A</th>\n",
              "      <th>VE01P23</th>\n",
              "      <th>VE01P24A</th>\n",
              "      <th>VE01P34</th>\n",
              "      <th>VE01P35</th>\n",
              "      <th>VE01P15A</th>\n",
              "      <th>VE01P16A</th>\n",
              "      <th>VE01P17A</th>\n",
              "      <th>VE01P18A</th>\n",
              "      <th>VE01P20</th>\n",
              "      <th>VE01P19</th>\n",
              "      <th>VE01P36</th>\n",
              "      <th>VE01P21</th>\n",
              "      <th>VE01P37</th>\n",
              "      <th>VE01P22</th>\n",
              "      <th>VE01P38</th>\n",
              "      <th>VE01P39</th>\n",
              "      <th>...</th>\n",
              "      <th>VE01P14A07</th>\n",
              "      <th>VE01P14A08</th>\n",
              "      <th>VE01P14A09</th>\n",
              "      <th>VE01P14A10</th>\n",
              "      <th>VE01P14A11</th>\n",
              "      <th>VE01P49</th>\n",
              "      <th>VE01P50</th>\n",
              "      <th>VE01P51</th>\n",
              "      <th>VE01P52</th>\n",
              "      <th>VE01P53</th>\n",
              "      <th>VE01P54</th>\n",
              "      <th>VE01P55</th>\n",
              "      <th>VE01P56</th>\n",
              "      <th>VE01P57</th>\n",
              "      <th>VE01P58</th>\n",
              "      <th>VE01P25</th>\n",
              "      <th>VE01P59</th>\n",
              "      <th>VE01P60</th>\n",
              "      <th>VE01P61</th>\n",
              "      <th>VE01P62</th>\n",
              "      <th>VE01P63</th>\n",
              "      <th>VE01P64</th>\n",
              "      <th>VE01P65</th>\n",
              "      <th>VE01P66</th>\n",
              "      <th>VE01P67</th>\n",
              "      <th>VE01P26</th>\n",
              "      <th>VE01P27</th>\n",
              "      <th>VE01P28A</th>\n",
              "      <th>VE01P68</th>\n",
              "      <th>VE01P69</th>\n",
              "      <th>VE01P70</th>\n",
              "      <th>VE01P71</th>\n",
              "      <th>VE01P72</th>\n",
              "      <th>V0041</th>\n",
              "      <th>ESTRATO_EXP</th>\n",
              "      <th>ESTRATOGEOREG</th>\n",
              "      <th>PESO</th>\n",
              "      <th>aluno</th>\n",
              "      <th>escola</th>\n",
              "      <th>turma</th>\n",
              "    </tr>\n",
              "  </thead>\n",
              "  <tbody>\n",
              "    <tr>\n",
              "      <th>0</th>\n",
              "      <td>2015</td>\n",
              "      <td>76</td>\n",
              "      <td>1</td>\n",
              "      <td>1</td>\n",
              "      <td>2</td>\n",
              "      <td>4</td>\n",
              "      <td>1</td>\n",
              "      <td>2</td>\n",
              "      <td>1</td>\n",
              "      <td>1</td>\n",
              "      <td>2</td>\n",
              "      <td>2</td>\n",
              "      <td>1</td>\n",
              "      <td>1</td>\n",
              "      <td>1</td>\n",
              "      <td>2</td>\n",
              "      <td>6</td>\n",
              "      <td>5</td>\n",
              "      <td>3</td>\n",
              "      <td>1</td>\n",
              "      <td>1</td>\n",
              "      <td>5</td>\n",
              "      <td>1</td>\n",
              "      <td>1</td>\n",
              "      <td>1</td>\n",
              "      <td>4</td>\n",
              "      <td>1</td>\n",
              "      <td>2</td>\n",
              "      <td>1</td>\n",
              "      <td>2</td>\n",
              "      <td>3</td>\n",
              "      <td>3</td>\n",
              "      <td>3</td>\n",
              "      <td>2</td>\n",
              "      <td>1</td>\n",
              "      <td>3</td>\n",
              "      <td>-1</td>\n",
              "      <td>2</td>\n",
              "      <td>1</td>\n",
              "      <td>1</td>\n",
              "      <td>...</td>\n",
              "      <td>2</td>\n",
              "      <td>2</td>\n",
              "      <td>2</td>\n",
              "      <td>2</td>\n",
              "      <td>2</td>\n",
              "      <td>2</td>\n",
              "      <td>1</td>\n",
              "      <td>1</td>\n",
              "      <td>1</td>\n",
              "      <td>1</td>\n",
              "      <td>1</td>\n",
              "      <td>1</td>\n",
              "      <td>1</td>\n",
              "      <td>1</td>\n",
              "      <td>5</td>\n",
              "      <td>1</td>\n",
              "      <td>1</td>\n",
              "      <td>2</td>\n",
              "      <td>2</td>\n",
              "      <td>-1</td>\n",
              "      <td>2</td>\n",
              "      <td>2</td>\n",
              "      <td>2</td>\n",
              "      <td>1</td>\n",
              "      <td>1</td>\n",
              "      <td>2</td>\n",
              "      <td>2</td>\n",
              "      <td>1</td>\n",
              "      <td>1</td>\n",
              "      <td>1</td>\n",
              "      <td>1</td>\n",
              "      <td>1</td>\n",
              "      <td>1</td>\n",
              "      <td>1</td>\n",
              "      <td>1223</td>\n",
              "      <td>1</td>\n",
              "      <td>299.735235</td>\n",
              "      <td>1</td>\n",
              "      <td>1</td>\n",
              "      <td>296</td>\n",
              "    </tr>\n",
              "    <tr>\n",
              "      <th>1</th>\n",
              "      <td>2015</td>\n",
              "      <td>76</td>\n",
              "      <td>1</td>\n",
              "      <td>1</td>\n",
              "      <td>2</td>\n",
              "      <td>4</td>\n",
              "      <td>1</td>\n",
              "      <td>2</td>\n",
              "      <td>1</td>\n",
              "      <td>1</td>\n",
              "      <td>2</td>\n",
              "      <td>2</td>\n",
              "      <td>1</td>\n",
              "      <td>1</td>\n",
              "      <td>1</td>\n",
              "      <td>2</td>\n",
              "      <td>6</td>\n",
              "      <td>5</td>\n",
              "      <td>3</td>\n",
              "      <td>1</td>\n",
              "      <td>1</td>\n",
              "      <td>5</td>\n",
              "      <td>1</td>\n",
              "      <td>1</td>\n",
              "      <td>1</td>\n",
              "      <td>4</td>\n",
              "      <td>1</td>\n",
              "      <td>2</td>\n",
              "      <td>1</td>\n",
              "      <td>2</td>\n",
              "      <td>3</td>\n",
              "      <td>3</td>\n",
              "      <td>3</td>\n",
              "      <td>2</td>\n",
              "      <td>1</td>\n",
              "      <td>3</td>\n",
              "      <td>-1</td>\n",
              "      <td>2</td>\n",
              "      <td>1</td>\n",
              "      <td>1</td>\n",
              "      <td>...</td>\n",
              "      <td>2</td>\n",
              "      <td>2</td>\n",
              "      <td>2</td>\n",
              "      <td>2</td>\n",
              "      <td>2</td>\n",
              "      <td>2</td>\n",
              "      <td>1</td>\n",
              "      <td>1</td>\n",
              "      <td>1</td>\n",
              "      <td>1</td>\n",
              "      <td>1</td>\n",
              "      <td>1</td>\n",
              "      <td>1</td>\n",
              "      <td>1</td>\n",
              "      <td>5</td>\n",
              "      <td>1</td>\n",
              "      <td>1</td>\n",
              "      <td>2</td>\n",
              "      <td>2</td>\n",
              "      <td>-1</td>\n",
              "      <td>2</td>\n",
              "      <td>2</td>\n",
              "      <td>2</td>\n",
              "      <td>1</td>\n",
              "      <td>1</td>\n",
              "      <td>2</td>\n",
              "      <td>2</td>\n",
              "      <td>1</td>\n",
              "      <td>1</td>\n",
              "      <td>1</td>\n",
              "      <td>1</td>\n",
              "      <td>1</td>\n",
              "      <td>1</td>\n",
              "      <td>1</td>\n",
              "      <td>1223</td>\n",
              "      <td>1</td>\n",
              "      <td>355.170081</td>\n",
              "      <td>2</td>\n",
              "      <td>1</td>\n",
              "      <td>296</td>\n",
              "    </tr>\n",
              "    <tr>\n",
              "      <th>2</th>\n",
              "      <td>2015</td>\n",
              "      <td>76</td>\n",
              "      <td>1</td>\n",
              "      <td>1</td>\n",
              "      <td>2</td>\n",
              "      <td>4</td>\n",
              "      <td>1</td>\n",
              "      <td>2</td>\n",
              "      <td>1</td>\n",
              "      <td>1</td>\n",
              "      <td>2</td>\n",
              "      <td>2</td>\n",
              "      <td>1</td>\n",
              "      <td>1</td>\n",
              "      <td>1</td>\n",
              "      <td>2</td>\n",
              "      <td>6</td>\n",
              "      <td>5</td>\n",
              "      <td>3</td>\n",
              "      <td>1</td>\n",
              "      <td>1</td>\n",
              "      <td>5</td>\n",
              "      <td>1</td>\n",
              "      <td>1</td>\n",
              "      <td>1</td>\n",
              "      <td>4</td>\n",
              "      <td>1</td>\n",
              "      <td>2</td>\n",
              "      <td>1</td>\n",
              "      <td>2</td>\n",
              "      <td>3</td>\n",
              "      <td>3</td>\n",
              "      <td>3</td>\n",
              "      <td>2</td>\n",
              "      <td>1</td>\n",
              "      <td>3</td>\n",
              "      <td>-1</td>\n",
              "      <td>2</td>\n",
              "      <td>1</td>\n",
              "      <td>1</td>\n",
              "      <td>...</td>\n",
              "      <td>2</td>\n",
              "      <td>2</td>\n",
              "      <td>2</td>\n",
              "      <td>2</td>\n",
              "      <td>2</td>\n",
              "      <td>2</td>\n",
              "      <td>1</td>\n",
              "      <td>1</td>\n",
              "      <td>1</td>\n",
              "      <td>1</td>\n",
              "      <td>1</td>\n",
              "      <td>1</td>\n",
              "      <td>1</td>\n",
              "      <td>1</td>\n",
              "      <td>5</td>\n",
              "      <td>1</td>\n",
              "      <td>1</td>\n",
              "      <td>2</td>\n",
              "      <td>2</td>\n",
              "      <td>-1</td>\n",
              "      <td>2</td>\n",
              "      <td>2</td>\n",
              "      <td>2</td>\n",
              "      <td>1</td>\n",
              "      <td>1</td>\n",
              "      <td>2</td>\n",
              "      <td>2</td>\n",
              "      <td>1</td>\n",
              "      <td>1</td>\n",
              "      <td>1</td>\n",
              "      <td>1</td>\n",
              "      <td>1</td>\n",
              "      <td>1</td>\n",
              "      <td>1</td>\n",
              "      <td>1223</td>\n",
              "      <td>1</td>\n",
              "      <td>299.735235</td>\n",
              "      <td>3</td>\n",
              "      <td>1</td>\n",
              "      <td>296</td>\n",
              "    </tr>\n",
              "    <tr>\n",
              "      <th>3</th>\n",
              "      <td>2015</td>\n",
              "      <td>76</td>\n",
              "      <td>1</td>\n",
              "      <td>1</td>\n",
              "      <td>2</td>\n",
              "      <td>4</td>\n",
              "      <td>1</td>\n",
              "      <td>2</td>\n",
              "      <td>1</td>\n",
              "      <td>1</td>\n",
              "      <td>2</td>\n",
              "      <td>2</td>\n",
              "      <td>1</td>\n",
              "      <td>1</td>\n",
              "      <td>1</td>\n",
              "      <td>2</td>\n",
              "      <td>6</td>\n",
              "      <td>5</td>\n",
              "      <td>3</td>\n",
              "      <td>1</td>\n",
              "      <td>1</td>\n",
              "      <td>5</td>\n",
              "      <td>1</td>\n",
              "      <td>1</td>\n",
              "      <td>1</td>\n",
              "      <td>4</td>\n",
              "      <td>1</td>\n",
              "      <td>2</td>\n",
              "      <td>1</td>\n",
              "      <td>2</td>\n",
              "      <td>3</td>\n",
              "      <td>3</td>\n",
              "      <td>3</td>\n",
              "      <td>2</td>\n",
              "      <td>1</td>\n",
              "      <td>3</td>\n",
              "      <td>-1</td>\n",
              "      <td>2</td>\n",
              "      <td>1</td>\n",
              "      <td>1</td>\n",
              "      <td>...</td>\n",
              "      <td>2</td>\n",
              "      <td>2</td>\n",
              "      <td>2</td>\n",
              "      <td>2</td>\n",
              "      <td>2</td>\n",
              "      <td>2</td>\n",
              "      <td>1</td>\n",
              "      <td>1</td>\n",
              "      <td>1</td>\n",
              "      <td>1</td>\n",
              "      <td>1</td>\n",
              "      <td>1</td>\n",
              "      <td>1</td>\n",
              "      <td>1</td>\n",
              "      <td>5</td>\n",
              "      <td>1</td>\n",
              "      <td>1</td>\n",
              "      <td>2</td>\n",
              "      <td>2</td>\n",
              "      <td>-1</td>\n",
              "      <td>2</td>\n",
              "      <td>2</td>\n",
              "      <td>2</td>\n",
              "      <td>1</td>\n",
              "      <td>1</td>\n",
              "      <td>2</td>\n",
              "      <td>2</td>\n",
              "      <td>1</td>\n",
              "      <td>1</td>\n",
              "      <td>1</td>\n",
              "      <td>1</td>\n",
              "      <td>1</td>\n",
              "      <td>1</td>\n",
              "      <td>1</td>\n",
              "      <td>1223</td>\n",
              "      <td>1</td>\n",
              "      <td>355.170081</td>\n",
              "      <td>4</td>\n",
              "      <td>1</td>\n",
              "      <td>296</td>\n",
              "    </tr>\n",
              "    <tr>\n",
              "      <th>4</th>\n",
              "      <td>2015</td>\n",
              "      <td>76</td>\n",
              "      <td>1</td>\n",
              "      <td>1</td>\n",
              "      <td>2</td>\n",
              "      <td>4</td>\n",
              "      <td>1</td>\n",
              "      <td>2</td>\n",
              "      <td>1</td>\n",
              "      <td>1</td>\n",
              "      <td>2</td>\n",
              "      <td>2</td>\n",
              "      <td>1</td>\n",
              "      <td>1</td>\n",
              "      <td>1</td>\n",
              "      <td>2</td>\n",
              "      <td>6</td>\n",
              "      <td>5</td>\n",
              "      <td>3</td>\n",
              "      <td>1</td>\n",
              "      <td>1</td>\n",
              "      <td>5</td>\n",
              "      <td>1</td>\n",
              "      <td>1</td>\n",
              "      <td>1</td>\n",
              "      <td>4</td>\n",
              "      <td>1</td>\n",
              "      <td>2</td>\n",
              "      <td>1</td>\n",
              "      <td>2</td>\n",
              "      <td>3</td>\n",
              "      <td>3</td>\n",
              "      <td>3</td>\n",
              "      <td>2</td>\n",
              "      <td>1</td>\n",
              "      <td>3</td>\n",
              "      <td>-1</td>\n",
              "      <td>2</td>\n",
              "      <td>1</td>\n",
              "      <td>1</td>\n",
              "      <td>...</td>\n",
              "      <td>2</td>\n",
              "      <td>2</td>\n",
              "      <td>2</td>\n",
              "      <td>2</td>\n",
              "      <td>2</td>\n",
              "      <td>2</td>\n",
              "      <td>1</td>\n",
              "      <td>1</td>\n",
              "      <td>1</td>\n",
              "      <td>1</td>\n",
              "      <td>1</td>\n",
              "      <td>1</td>\n",
              "      <td>1</td>\n",
              "      <td>1</td>\n",
              "      <td>5</td>\n",
              "      <td>1</td>\n",
              "      <td>1</td>\n",
              "      <td>2</td>\n",
              "      <td>2</td>\n",
              "      <td>-1</td>\n",
              "      <td>2</td>\n",
              "      <td>2</td>\n",
              "      <td>2</td>\n",
              "      <td>1</td>\n",
              "      <td>1</td>\n",
              "      <td>2</td>\n",
              "      <td>2</td>\n",
              "      <td>1</td>\n",
              "      <td>1</td>\n",
              "      <td>1</td>\n",
              "      <td>1</td>\n",
              "      <td>1</td>\n",
              "      <td>1</td>\n",
              "      <td>1</td>\n",
              "      <td>1223</td>\n",
              "      <td>1</td>\n",
              "      <td>299.735235</td>\n",
              "      <td>5</td>\n",
              "      <td>1</td>\n",
              "      <td>296</td>\n",
              "    </tr>\n",
              "    <tr>\n",
              "      <th>...</th>\n",
              "      <td>...</td>\n",
              "      <td>...</td>\n",
              "      <td>...</td>\n",
              "      <td>...</td>\n",
              "      <td>...</td>\n",
              "      <td>...</td>\n",
              "      <td>...</td>\n",
              "      <td>...</td>\n",
              "      <td>...</td>\n",
              "      <td>...</td>\n",
              "      <td>...</td>\n",
              "      <td>...</td>\n",
              "      <td>...</td>\n",
              "      <td>...</td>\n",
              "      <td>...</td>\n",
              "      <td>...</td>\n",
              "      <td>...</td>\n",
              "      <td>...</td>\n",
              "      <td>...</td>\n",
              "      <td>...</td>\n",
              "      <td>...</td>\n",
              "      <td>...</td>\n",
              "      <td>...</td>\n",
              "      <td>...</td>\n",
              "      <td>...</td>\n",
              "      <td>...</td>\n",
              "      <td>...</td>\n",
              "      <td>...</td>\n",
              "      <td>...</td>\n",
              "      <td>...</td>\n",
              "      <td>...</td>\n",
              "      <td>...</td>\n",
              "      <td>...</td>\n",
              "      <td>...</td>\n",
              "      <td>...</td>\n",
              "      <td>...</td>\n",
              "      <td>...</td>\n",
              "      <td>...</td>\n",
              "      <td>...</td>\n",
              "      <td>...</td>\n",
              "      <td>...</td>\n",
              "      <td>...</td>\n",
              "      <td>...</td>\n",
              "      <td>...</td>\n",
              "      <td>...</td>\n",
              "      <td>...</td>\n",
              "      <td>...</td>\n",
              "      <td>...</td>\n",
              "      <td>...</td>\n",
              "      <td>...</td>\n",
              "      <td>...</td>\n",
              "      <td>...</td>\n",
              "      <td>...</td>\n",
              "      <td>...</td>\n",
              "      <td>...</td>\n",
              "      <td>...</td>\n",
              "      <td>...</td>\n",
              "      <td>...</td>\n",
              "      <td>...</td>\n",
              "      <td>...</td>\n",
              "      <td>...</td>\n",
              "      <td>...</td>\n",
              "      <td>...</td>\n",
              "      <td>...</td>\n",
              "      <td>...</td>\n",
              "      <td>...</td>\n",
              "      <td>...</td>\n",
              "      <td>...</td>\n",
              "      <td>...</td>\n",
              "      <td>...</td>\n",
              "      <td>...</td>\n",
              "      <td>...</td>\n",
              "      <td>...</td>\n",
              "      <td>...</td>\n",
              "      <td>...</td>\n",
              "      <td>...</td>\n",
              "      <td>...</td>\n",
              "      <td>...</td>\n",
              "      <td>...</td>\n",
              "      <td>...</td>\n",
              "      <td>...</td>\n",
              "    </tr>\n",
              "    <tr>\n",
              "      <th>16551</th>\n",
              "      <td>2015</td>\n",
              "      <td>76</td>\n",
              "      <td>5</td>\n",
              "      <td>1</td>\n",
              "      <td>2</td>\n",
              "      <td>4</td>\n",
              "      <td>1</td>\n",
              "      <td>2</td>\n",
              "      <td>1</td>\n",
              "      <td>2</td>\n",
              "      <td>2</td>\n",
              "      <td>2</td>\n",
              "      <td>1</td>\n",
              "      <td>1</td>\n",
              "      <td>2</td>\n",
              "      <td>2</td>\n",
              "      <td>3</td>\n",
              "      <td>1</td>\n",
              "      <td>3</td>\n",
              "      <td>1</td>\n",
              "      <td>1</td>\n",
              "      <td>3</td>\n",
              "      <td>1</td>\n",
              "      <td>1</td>\n",
              "      <td>1</td>\n",
              "      <td>1</td>\n",
              "      <td>2</td>\n",
              "      <td>-1</td>\n",
              "      <td>2</td>\n",
              "      <td>-1</td>\n",
              "      <td>-1</td>\n",
              "      <td>3</td>\n",
              "      <td>1</td>\n",
              "      <td>1</td>\n",
              "      <td>1</td>\n",
              "      <td>3</td>\n",
              "      <td>-1</td>\n",
              "      <td>1</td>\n",
              "      <td>1</td>\n",
              "      <td>1</td>\n",
              "      <td>...</td>\n",
              "      <td>-1</td>\n",
              "      <td>-1</td>\n",
              "      <td>-1</td>\n",
              "      <td>-1</td>\n",
              "      <td>-1</td>\n",
              "      <td>2</td>\n",
              "      <td>1</td>\n",
              "      <td>2</td>\n",
              "      <td>1</td>\n",
              "      <td>1</td>\n",
              "      <td>1</td>\n",
              "      <td>1</td>\n",
              "      <td>1</td>\n",
              "      <td>1</td>\n",
              "      <td>5</td>\n",
              "      <td>4</td>\n",
              "      <td>1</td>\n",
              "      <td>2</td>\n",
              "      <td>2</td>\n",
              "      <td>-1</td>\n",
              "      <td>2</td>\n",
              "      <td>2</td>\n",
              "      <td>1</td>\n",
              "      <td>1</td>\n",
              "      <td>1</td>\n",
              "      <td>2</td>\n",
              "      <td>2</td>\n",
              "      <td>1</td>\n",
              "      <td>1</td>\n",
              "      <td>1</td>\n",
              "      <td>1</td>\n",
              "      <td>1</td>\n",
              "      <td>1</td>\n",
              "      <td>1</td>\n",
              "      <td>521</td>\n",
              "      <td>5</td>\n",
              "      <td>447.815539</td>\n",
              "      <td>16552</td>\n",
              "      <td>371</td>\n",
              "      <td>117</td>\n",
              "    </tr>\n",
              "    <tr>\n",
              "      <th>16552</th>\n",
              "      <td>2015</td>\n",
              "      <td>76</td>\n",
              "      <td>5</td>\n",
              "      <td>1</td>\n",
              "      <td>2</td>\n",
              "      <td>4</td>\n",
              "      <td>1</td>\n",
              "      <td>2</td>\n",
              "      <td>1</td>\n",
              "      <td>2</td>\n",
              "      <td>2</td>\n",
              "      <td>2</td>\n",
              "      <td>1</td>\n",
              "      <td>1</td>\n",
              "      <td>2</td>\n",
              "      <td>2</td>\n",
              "      <td>3</td>\n",
              "      <td>1</td>\n",
              "      <td>3</td>\n",
              "      <td>1</td>\n",
              "      <td>1</td>\n",
              "      <td>3</td>\n",
              "      <td>1</td>\n",
              "      <td>1</td>\n",
              "      <td>1</td>\n",
              "      <td>1</td>\n",
              "      <td>2</td>\n",
              "      <td>-1</td>\n",
              "      <td>2</td>\n",
              "      <td>-1</td>\n",
              "      <td>-1</td>\n",
              "      <td>3</td>\n",
              "      <td>1</td>\n",
              "      <td>1</td>\n",
              "      <td>1</td>\n",
              "      <td>3</td>\n",
              "      <td>-1</td>\n",
              "      <td>1</td>\n",
              "      <td>1</td>\n",
              "      <td>1</td>\n",
              "      <td>...</td>\n",
              "      <td>-1</td>\n",
              "      <td>-1</td>\n",
              "      <td>-1</td>\n",
              "      <td>-1</td>\n",
              "      <td>-1</td>\n",
              "      <td>2</td>\n",
              "      <td>1</td>\n",
              "      <td>2</td>\n",
              "      <td>1</td>\n",
              "      <td>1</td>\n",
              "      <td>1</td>\n",
              "      <td>1</td>\n",
              "      <td>1</td>\n",
              "      <td>1</td>\n",
              "      <td>5</td>\n",
              "      <td>4</td>\n",
              "      <td>1</td>\n",
              "      <td>2</td>\n",
              "      <td>2</td>\n",
              "      <td>-1</td>\n",
              "      <td>2</td>\n",
              "      <td>2</td>\n",
              "      <td>1</td>\n",
              "      <td>1</td>\n",
              "      <td>1</td>\n",
              "      <td>2</td>\n",
              "      <td>2</td>\n",
              "      <td>1</td>\n",
              "      <td>1</td>\n",
              "      <td>1</td>\n",
              "      <td>1</td>\n",
              "      <td>1</td>\n",
              "      <td>1</td>\n",
              "      <td>1</td>\n",
              "      <td>521</td>\n",
              "      <td>5</td>\n",
              "      <td>592.507440</td>\n",
              "      <td>16553</td>\n",
              "      <td>371</td>\n",
              "      <td>117</td>\n",
              "    </tr>\n",
              "    <tr>\n",
              "      <th>16553</th>\n",
              "      <td>2015</td>\n",
              "      <td>76</td>\n",
              "      <td>5</td>\n",
              "      <td>1</td>\n",
              "      <td>2</td>\n",
              "      <td>4</td>\n",
              "      <td>1</td>\n",
              "      <td>2</td>\n",
              "      <td>1</td>\n",
              "      <td>2</td>\n",
              "      <td>2</td>\n",
              "      <td>2</td>\n",
              "      <td>1</td>\n",
              "      <td>1</td>\n",
              "      <td>2</td>\n",
              "      <td>2</td>\n",
              "      <td>3</td>\n",
              "      <td>1</td>\n",
              "      <td>3</td>\n",
              "      <td>1</td>\n",
              "      <td>1</td>\n",
              "      <td>3</td>\n",
              "      <td>1</td>\n",
              "      <td>1</td>\n",
              "      <td>1</td>\n",
              "      <td>1</td>\n",
              "      <td>2</td>\n",
              "      <td>-1</td>\n",
              "      <td>2</td>\n",
              "      <td>-1</td>\n",
              "      <td>-1</td>\n",
              "      <td>3</td>\n",
              "      <td>1</td>\n",
              "      <td>1</td>\n",
              "      <td>1</td>\n",
              "      <td>3</td>\n",
              "      <td>-1</td>\n",
              "      <td>1</td>\n",
              "      <td>1</td>\n",
              "      <td>1</td>\n",
              "      <td>...</td>\n",
              "      <td>-1</td>\n",
              "      <td>-1</td>\n",
              "      <td>-1</td>\n",
              "      <td>-1</td>\n",
              "      <td>-1</td>\n",
              "      <td>2</td>\n",
              "      <td>1</td>\n",
              "      <td>2</td>\n",
              "      <td>1</td>\n",
              "      <td>1</td>\n",
              "      <td>1</td>\n",
              "      <td>1</td>\n",
              "      <td>1</td>\n",
              "      <td>1</td>\n",
              "      <td>5</td>\n",
              "      <td>4</td>\n",
              "      <td>1</td>\n",
              "      <td>2</td>\n",
              "      <td>2</td>\n",
              "      <td>-1</td>\n",
              "      <td>2</td>\n",
              "      <td>2</td>\n",
              "      <td>1</td>\n",
              "      <td>1</td>\n",
              "      <td>1</td>\n",
              "      <td>2</td>\n",
              "      <td>2</td>\n",
              "      <td>1</td>\n",
              "      <td>1</td>\n",
              "      <td>1</td>\n",
              "      <td>1</td>\n",
              "      <td>1</td>\n",
              "      <td>1</td>\n",
              "      <td>1</td>\n",
              "      <td>521</td>\n",
              "      <td>5</td>\n",
              "      <td>401.131512</td>\n",
              "      <td>16554</td>\n",
              "      <td>371</td>\n",
              "      <td>117</td>\n",
              "    </tr>\n",
              "    <tr>\n",
              "      <th>16554</th>\n",
              "      <td>2015</td>\n",
              "      <td>76</td>\n",
              "      <td>5</td>\n",
              "      <td>1</td>\n",
              "      <td>2</td>\n",
              "      <td>4</td>\n",
              "      <td>1</td>\n",
              "      <td>2</td>\n",
              "      <td>1</td>\n",
              "      <td>2</td>\n",
              "      <td>2</td>\n",
              "      <td>2</td>\n",
              "      <td>1</td>\n",
              "      <td>1</td>\n",
              "      <td>2</td>\n",
              "      <td>2</td>\n",
              "      <td>3</td>\n",
              "      <td>1</td>\n",
              "      <td>3</td>\n",
              "      <td>1</td>\n",
              "      <td>1</td>\n",
              "      <td>3</td>\n",
              "      <td>1</td>\n",
              "      <td>1</td>\n",
              "      <td>1</td>\n",
              "      <td>1</td>\n",
              "      <td>2</td>\n",
              "      <td>-1</td>\n",
              "      <td>2</td>\n",
              "      <td>-1</td>\n",
              "      <td>-1</td>\n",
              "      <td>3</td>\n",
              "      <td>1</td>\n",
              "      <td>1</td>\n",
              "      <td>1</td>\n",
              "      <td>3</td>\n",
              "      <td>-1</td>\n",
              "      <td>1</td>\n",
              "      <td>1</td>\n",
              "      <td>1</td>\n",
              "      <td>...</td>\n",
              "      <td>-1</td>\n",
              "      <td>-1</td>\n",
              "      <td>-1</td>\n",
              "      <td>-1</td>\n",
              "      <td>-1</td>\n",
              "      <td>2</td>\n",
              "      <td>1</td>\n",
              "      <td>2</td>\n",
              "      <td>1</td>\n",
              "      <td>1</td>\n",
              "      <td>1</td>\n",
              "      <td>1</td>\n",
              "      <td>1</td>\n",
              "      <td>1</td>\n",
              "      <td>5</td>\n",
              "      <td>4</td>\n",
              "      <td>1</td>\n",
              "      <td>2</td>\n",
              "      <td>2</td>\n",
              "      <td>-1</td>\n",
              "      <td>2</td>\n",
              "      <td>2</td>\n",
              "      <td>1</td>\n",
              "      <td>1</td>\n",
              "      <td>1</td>\n",
              "      <td>2</td>\n",
              "      <td>2</td>\n",
              "      <td>1</td>\n",
              "      <td>1</td>\n",
              "      <td>1</td>\n",
              "      <td>1</td>\n",
              "      <td>1</td>\n",
              "      <td>1</td>\n",
              "      <td>1</td>\n",
              "      <td>521</td>\n",
              "      <td>5</td>\n",
              "      <td>442.718091</td>\n",
              "      <td>16555</td>\n",
              "      <td>371</td>\n",
              "      <td>117</td>\n",
              "    </tr>\n",
              "    <tr>\n",
              "      <th>16555</th>\n",
              "      <td>2015</td>\n",
              "      <td>76</td>\n",
              "      <td>5</td>\n",
              "      <td>1</td>\n",
              "      <td>2</td>\n",
              "      <td>4</td>\n",
              "      <td>1</td>\n",
              "      <td>2</td>\n",
              "      <td>1</td>\n",
              "      <td>2</td>\n",
              "      <td>2</td>\n",
              "      <td>2</td>\n",
              "      <td>1</td>\n",
              "      <td>1</td>\n",
              "      <td>2</td>\n",
              "      <td>2</td>\n",
              "      <td>3</td>\n",
              "      <td>1</td>\n",
              "      <td>3</td>\n",
              "      <td>1</td>\n",
              "      <td>1</td>\n",
              "      <td>3</td>\n",
              "      <td>1</td>\n",
              "      <td>1</td>\n",
              "      <td>1</td>\n",
              "      <td>1</td>\n",
              "      <td>2</td>\n",
              "      <td>-1</td>\n",
              "      <td>2</td>\n",
              "      <td>-1</td>\n",
              "      <td>-1</td>\n",
              "      <td>3</td>\n",
              "      <td>1</td>\n",
              "      <td>1</td>\n",
              "      <td>1</td>\n",
              "      <td>3</td>\n",
              "      <td>-1</td>\n",
              "      <td>1</td>\n",
              "      <td>1</td>\n",
              "      <td>1</td>\n",
              "      <td>...</td>\n",
              "      <td>-1</td>\n",
              "      <td>-1</td>\n",
              "      <td>-1</td>\n",
              "      <td>-1</td>\n",
              "      <td>-1</td>\n",
              "      <td>2</td>\n",
              "      <td>1</td>\n",
              "      <td>2</td>\n",
              "      <td>1</td>\n",
              "      <td>1</td>\n",
              "      <td>1</td>\n",
              "      <td>1</td>\n",
              "      <td>1</td>\n",
              "      <td>1</td>\n",
              "      <td>5</td>\n",
              "      <td>4</td>\n",
              "      <td>1</td>\n",
              "      <td>2</td>\n",
              "      <td>2</td>\n",
              "      <td>-1</td>\n",
              "      <td>2</td>\n",
              "      <td>2</td>\n",
              "      <td>1</td>\n",
              "      <td>1</td>\n",
              "      <td>1</td>\n",
              "      <td>2</td>\n",
              "      <td>2</td>\n",
              "      <td>1</td>\n",
              "      <td>1</td>\n",
              "      <td>1</td>\n",
              "      <td>1</td>\n",
              "      <td>1</td>\n",
              "      <td>1</td>\n",
              "      <td>1</td>\n",
              "      <td>521</td>\n",
              "      <td>5</td>\n",
              "      <td>592.507440</td>\n",
              "      <td>16556</td>\n",
              "      <td>371</td>\n",
              "      <td>117</td>\n",
              "    </tr>\n",
              "  </tbody>\n",
              "</table>\n",
              "<p>16556 rows × 128 columns</p>\n",
              "</div>"
            ],
            "text/plain": [
              "       ANOPESQ  PAIS  REGEOGR  V0006  ...        PESO  aluno  escola  turma\n",
              "0         2015    76        1      1  ...  299.735235      1       1    296\n",
              "1         2015    76        1      1  ...  355.170081      2       1    296\n",
              "2         2015    76        1      1  ...  299.735235      3       1    296\n",
              "3         2015    76        1      1  ...  355.170081      4       1    296\n",
              "4         2015    76        1      1  ...  299.735235      5       1    296\n",
              "...        ...   ...      ...    ...  ...         ...    ...     ...    ...\n",
              "16551     2015    76        5      1  ...  447.815539  16552     371    117\n",
              "16552     2015    76        5      1  ...  592.507440  16553     371    117\n",
              "16553     2015    76        5      1  ...  401.131512  16554     371    117\n",
              "16554     2015    76        5      1  ...  442.718091  16555     371    117\n",
              "16555     2015    76        5      1  ...  592.507440  16556     371    117\n",
              "\n",
              "[16556 rows x 128 columns]"
            ]
          },
          "metadata": {
            "tags": []
          },
          "execution_count": 6
        }
      ]
    },
    {
      "cell_type": "markdown",
      "metadata": {
        "id": "TrBeMIyzPR8s"
      },
      "source": [
        "#FUNÇÕES USADAS"
      ]
    },
    {
      "cell_type": "markdown",
      "metadata": {
        "id": "ACvBVmDZRKlT"
      },
      "source": [
        "Cria uma tabela com coluna de frequencia e porcentagem, podendo também aceitar um dicionário de dados para substituir campos com códigos da pergunta, além de um título."
      ]
    },
    {
      "cell_type": "code",
      "metadata": {
        "id": "YtTT6uGZQLjK"
      },
      "source": [
        "def formated_table(dataset : pd.DataFrame, dicionario : dict  = None, title_index :str = None):\r\n",
        "  frequency = dataset.value_counts()\r\n",
        "  percentage = (dataset.value_counts(normalize=True) * 100).round(3)\r\n",
        "  final_dataset = pd.DataFrame({\"Frequencia\":frequency,\"Porcentagem\":percentage})\r\n",
        "\r\n",
        "  if dicionario:\r\n",
        "    final_dataset.rename(index = dicionario, inplace = True)\r\n",
        "  \r\n",
        "  if title_index:\r\n",
        "    final_dataset.rename_axis(title_index,axis=1,inplace=True)\r\n",
        "  \r\n",
        "  return final_dataset"
      ],
      "execution_count": 7,
      "outputs": []
    },
    {
      "cell_type": "markdown",
      "metadata": {
        "id": "a1TazSJL_zh4"
      },
      "source": [
        "Função que realiza os crosstabs e já substitui os campos requeridos pelos respecitos dicionários "
      ]
    },
    {
      "cell_type": "code",
      "metadata": {
        "id": "R9hMiued_7R1"
      },
      "source": [
        "def crosstab_data(dataset1: pd.DataFrame, dataset2:pd.DataFrame,normal:str = \"index\",dicio1:dict= None, dicio2: dict = None):\r\n",
        "    dataframe = (pd.crosstab(dataset1,dataset2,normalize=f\"{normal}\")*100).round(2)\r\n",
        "    \r\n",
        "    if dicio1:\r\n",
        "      dataframe.rename(index=dicio1,inplace=True)\r\n",
        "\r\n",
        "    if dicio2:\r\n",
        "      dataframe = dataframe.rename(columns=dicio2)\r\n",
        "    \r\n",
        "    return dataframe"
      ],
      "execution_count": 8,
      "outputs": []
    },
    {
      "cell_type": "markdown",
      "metadata": {
        "id": "sjAdw1ei3HUw"
      },
      "source": [
        "#DICIONÁRIO COM AS PERGUNTAS"
      ]
    },
    {
      "cell_type": "code",
      "metadata": {
        "id": "HmbD3jG43Q4D"
      },
      "source": [
        "dicio_vb01001 = {1:\"MASCULINO\",2:\"FEMININO\"}\r\n",
        "\r\n",
        "dicio_vb01003 = {\r\n",
        "  11:\t\"11 anos ou menos\",\r\n",
        "  12:\t\"12 anos\",\r\n",
        "  13:\t\"13 anos\",\r\n",
        "  14:\t\"14 anos\",\r\n",
        "  15:\t\"15 anos\",\r\n",
        "  16:\t\"16 anos\", \r\n",
        "  17:\t\"17 anos\",\r\n",
        "  18:\t\"18 anos\",\r\n",
        "  19:\t\"19 anos ou mais\"\r\n",
        "}\r\n",
        "\r\n",
        "dicio_REGEOGR ={\r\n",
        "  1: \t\"Norte\",\r\n",
        "  2:\t\"Nordeste\",\r\n",
        "  3:\t\"Sudeste\",\r\n",
        "  4:\t\"Sul\",\r\n",
        "  5:\t\"Centro-Oeste\"\r\n",
        "}\r\n",
        "dicio_V008 = {\r\n",
        "    1 : \"Federal\",\r\n",
        "    2:  \"Estadual\",\r\n",
        "    3:  \"Municipal\",\r\n",
        "    4:  \"Privada\"\r\n",
        "}\r\n",
        "\r\n",
        "dicio_VE01P02A = {\r\n",
        "  -2: \"Dados não disponíveis\",\r\n",
        "  1\t: \"Até 50 alunos\",\r\n",
        "  2 :\t\"De 51 a 100 alunos\",\r\n",
        "  3\t: \"De 101 a 200 alunos\",\r\n",
        "  4 : \"De 201 a 500 alunos\",\r\n",
        "  5 :\t\"De 501 a 1.000 alunos\",\r\n",
        "  6 :\t\"Mais de 1.000 alunos\",\r\n",
        "  9 :\t\"Não informado\"\r\n",
        "}\r\n",
        "dicio_VE01P01 ={\r\n",
        "  -2:\"\tDados não disponíveis\",\r\n",
        "  -1:\t\"Não tem mensalidade\",\r\n",
        "  2:\t\"Até R$ 394,00\",\r\n",
        "  3:\t\"Mais de R$ 394,00 até R$ 788,00\",\r\n",
        "  4:\t\"Mais de R$ 788,00 até R$ 1.576,00\",\r\n",
        "  5:  \"Mais de R$ 1.576,00 até R$ 3.152,00\",\r\n",
        "  6:\t\"Mais de R$ 3.152,00 até R$ 6.304,00\",\r\n",
        "  7:\t\"Mais de R$ 6.304,00\",\r\n",
        "  9:\t\"Não informado\"\r\n",
        "}\r\n",
        "dicio_VE01P05A = {\r\n",
        "    1: \"sim\",\r\n",
        "    2: \"Não está em condição de uso\",\r\n",
        "    3: \"Não tem Biblioteca\"\r\n",
        "}\r\n",
        "\r\n",
        "dicio_VE01P06A = {\r\n",
        "    -2: \"Dados Não Disponíveis\",\r\n",
        "     1: \"sim\",\r\n",
        "     2: \"Não está em condições de uso\",\r\n",
        "     3: \"Não tem sala ou laboratório de Informática\",\r\n",
        "     9: \"Não informado\"\r\n",
        "}\r\n",
        "dicio_VE01P33 ={\r\n",
        "  -2:\t\"Dados não disponíveis\",\r\n",
        "  1:\t\"Não existem computadores em condições de uso para os alunos\",\r\n",
        "  2:\t\"Até 10 computadores\",\r\n",
        "  3:\t\"De 11 a 20 computadores\",\r\n",
        "  4:\t\"De 21 a 30 computadores\",\r\n",
        "  5:\t\"De 31 a 40 computadores\",\r\n",
        "  6:\t\"De 41 a 50 computadores\",\r\n",
        "  7:\t\"Mais de 50 computadores\",\r\n",
        "  9:\t\"Não informado\"\r\n",
        "}\r\n",
        "\r\n",
        "dicio_VE01P10A = {\r\n",
        "    -2: \"Dados Não Disponíveis\",\r\n",
        "     1: \"sim\",\r\n",
        "     2: \"Não está em condições de uso\",\r\n",
        "     3: \"Não tem sala de recursos de mídia/comunicação\",\r\n",
        "     9: \"Não informado\"\r\n",
        "}    \r\n",
        "dicio_VE01P15A = {\r\n",
        "  -2:\t\"Dados não disponíveis\",\r\n",
        "  1:  \"Sim\",\r\n",
        "  2:\t\"Não está em condições de uso\",\r\n",
        "  3:\t\"Não tem quadra de esportes\",\r\n",
        "  9:\t\"Não informado\"\r\n",
        "}\r\n",
        "dicio_VE01P40 = {\r\n",
        "  -2:\t\"Dados não disponíveis\",\r\n",
        "  1:\t\"Sim\",\r\n",
        "  2:\t\"Não\",\r\n",
        "  9:\t\"Não informado\"\r\n",
        "}\r\n",
        "dicio_VE01P4101 = {\r\n",
        "  -2:\t\"Dados não disponíveis\",\r\n",
        "  -1: \"Pulo no questionario\",\r\n",
        "  1:\t\"Sim\",\r\n",
        "  2:\t\"Não\",\r\n",
        "  9:\t\"Não informado\"\r\n",
        "}"
      ],
      "execution_count": 86,
      "outputs": []
    },
    {
      "cell_type": "markdown",
      "metadata": {
        "id": "46SeUi1XRfkx"
      },
      "source": [
        "#ANÁLISES"
      ]
    },
    {
      "cell_type": "markdown",
      "metadata": {
        "id": "yc3B1tZlVNeD"
      },
      "source": [
        "## 1 - **Quem são os nossos entrevistados?**"
      ]
    },
    {
      "cell_type": "markdown",
      "metadata": {
        "id": "K5BNmzD4Tf6q"
      },
      "source": [
        "**Percentual de alunos do sexo Masculino e Feminino**"
      ]
    },
    {
      "cell_type": "markdown",
      "metadata": {
        "id": "2ZrX3AXgsqm_"
      },
      "source": [
        "Primeiramente, precisamos deixar bem claro o que temos nos nossos dados. A informações abaixo nos mostram a distribuição dos nossos alunos em relação a sexo e idade. Essas são informações básicas que servirão para nos dar um entendimento inicial sobre o que estamos analisando com que público e com que idade."
      ]
    },
    {
      "cell_type": "code",
      "metadata": {
        "id": "RcbZI6enaglD",
        "colab": {
          "base_uri": "https://localhost:8080/",
          "height": 107
        },
        "outputId": "dd83abdd-8417-4a11-c900-7f424af9985d"
      },
      "source": [
        "DF_sexo_alunos = formated_table(dados_aluno_escola[\"VB01001\"],dicio_vb01001,\"Sexo\")\r\n",
        "DF_sexo_alunos"
      ],
      "execution_count": 10,
      "outputs": [
        {
          "output_type": "execute_result",
          "data": {
            "text/html": [
              "<div>\n",
              "<style scoped>\n",
              "    .dataframe tbody tr th:only-of-type {\n",
              "        vertical-align: middle;\n",
              "    }\n",
              "\n",
              "    .dataframe tbody tr th {\n",
              "        vertical-align: top;\n",
              "    }\n",
              "\n",
              "    .dataframe thead th {\n",
              "        text-align: right;\n",
              "    }\n",
              "</style>\n",
              "<table border=\"1\" class=\"dataframe\">\n",
              "  <thead>\n",
              "    <tr style=\"text-align: right;\">\n",
              "      <th>Sexo</th>\n",
              "      <th>Frequencia</th>\n",
              "      <th>Porcentagem</th>\n",
              "    </tr>\n",
              "  </thead>\n",
              "  <tbody>\n",
              "    <tr>\n",
              "      <th>MASCULINO</th>\n",
              "      <td>8287</td>\n",
              "      <td>50.054</td>\n",
              "    </tr>\n",
              "    <tr>\n",
              "      <th>FEMININO</th>\n",
              "      <td>8269</td>\n",
              "      <td>49.946</td>\n",
              "    </tr>\n",
              "  </tbody>\n",
              "</table>\n",
              "</div>"
            ],
            "text/plain": [
              "Sexo       Frequencia  Porcentagem\n",
              "MASCULINO        8287       50.054\n",
              "FEMININO         8269       49.946"
            ]
          },
          "metadata": {
            "tags": []
          },
          "execution_count": 10
        }
      ]
    },
    {
      "cell_type": "markdown",
      "metadata": {
        "id": "ZD9OzxbC60On"
      },
      "source": [
        "Quanto a idade dos alunos que foram entrevistados temos as seguintes informações"
      ]
    },
    {
      "cell_type": "code",
      "metadata": {
        "id": "jGozXfndN1vD",
        "colab": {
          "base_uri": "https://localhost:8080/",
          "height": 317
        },
        "outputId": "e76ccf42-8108-4847-9bb5-dc03f1de0b42"
      },
      "source": [
        "DF_idade_alunos = formated_table(dados_aluno_escola[\"VB01003\"],dicio_vb01003,\"Idade\")\r\n",
        "DF_idade_alunos"
      ],
      "execution_count": 11,
      "outputs": [
        {
          "output_type": "execute_result",
          "data": {
            "text/html": [
              "<div>\n",
              "<style scoped>\n",
              "    .dataframe tbody tr th:only-of-type {\n",
              "        vertical-align: middle;\n",
              "    }\n",
              "\n",
              "    .dataframe tbody tr th {\n",
              "        vertical-align: top;\n",
              "    }\n",
              "\n",
              "    .dataframe thead th {\n",
              "        text-align: right;\n",
              "    }\n",
              "</style>\n",
              "<table border=\"1\" class=\"dataframe\">\n",
              "  <thead>\n",
              "    <tr style=\"text-align: right;\">\n",
              "      <th>Idade</th>\n",
              "      <th>Frequencia</th>\n",
              "      <th>Porcentagem</th>\n",
              "    </tr>\n",
              "  </thead>\n",
              "  <tbody>\n",
              "    <tr>\n",
              "      <th>12 anos</th>\n",
              "      <td>2634</td>\n",
              "      <td>15.910</td>\n",
              "    </tr>\n",
              "    <tr>\n",
              "      <th>13 anos</th>\n",
              "      <td>2561</td>\n",
              "      <td>15.469</td>\n",
              "    </tr>\n",
              "    <tr>\n",
              "      <th>15 anos</th>\n",
              "      <td>2425</td>\n",
              "      <td>14.647</td>\n",
              "    </tr>\n",
              "    <tr>\n",
              "      <th>16 anos</th>\n",
              "      <td>2270</td>\n",
              "      <td>13.711</td>\n",
              "    </tr>\n",
              "    <tr>\n",
              "      <th>14 anos</th>\n",
              "      <td>2133</td>\n",
              "      <td>12.884</td>\n",
              "    </tr>\n",
              "    <tr>\n",
              "      <th>11 anos ou menos</th>\n",
              "      <td>2072</td>\n",
              "      <td>12.515</td>\n",
              "    </tr>\n",
              "    <tr>\n",
              "      <th>17 anos</th>\n",
              "      <td>1537</td>\n",
              "      <td>9.284</td>\n",
              "    </tr>\n",
              "    <tr>\n",
              "      <th>18 anos</th>\n",
              "      <td>563</td>\n",
              "      <td>3.401</td>\n",
              "    </tr>\n",
              "    <tr>\n",
              "      <th>19 anos ou mais</th>\n",
              "      <td>361</td>\n",
              "      <td>2.180</td>\n",
              "    </tr>\n",
              "  </tbody>\n",
              "</table>\n",
              "</div>"
            ],
            "text/plain": [
              "Idade             Frequencia  Porcentagem\n",
              "12 anos                 2634       15.910\n",
              "13 anos                 2561       15.469\n",
              "15 anos                 2425       14.647\n",
              "16 anos                 2270       13.711\n",
              "14 anos                 2133       12.884\n",
              "11 anos ou menos        2072       12.515\n",
              "17 anos                 1537        9.284\n",
              "18 anos                  563        3.401\n",
              "19 anos ou mais          361        2.180"
            ]
          },
          "metadata": {
            "tags": []
          },
          "execution_count": 11
        }
      ]
    },
    {
      "cell_type": "markdown",
      "metadata": {
        "id": "VH7ctadD66Df"
      },
      "source": [
        "Que visualmente podemos representar da seguinte forma"
      ]
    },
    {
      "cell_type": "code",
      "metadata": {
        "colab": {
          "base_uri": "https://localhost:8080/",
          "height": 582
        },
        "id": "GxtrsoyEKKV-",
        "outputId": "07000aa0-9688-45cc-9a6c-cb6d02df5111"
      },
      "source": [
        "plt.figure(figsize=(20,9))\r\n",
        "fig = sns.barplot(data=DF_idade_alunos,\r\n",
        "                  x=DF_idade_alunos.index, \r\n",
        "                  y= 'Porcentagem',\r\n",
        "                  palette= sns.color_palette(\"Blues_r\",15))\r\n",
        "fig.yaxis.set_major_formatter(ticker.StrMethodFormatter(\"{x:,.2f} %\"))\r\n",
        "plt.title(\"Disitribuição das Idades e sexo dos alunos entrevistados\",size=18)\r\n",
        "fig.set_ylabel(\"Porcentagem (%)\",size=18)\r\n",
        "fig.set_xlabel(\"Idades Entrevistadas\",size=18)\r\n",
        "\r\n",
        "fig;"
      ],
      "execution_count": 12,
      "outputs": [
        {
          "output_type": "display_data",
          "data": {
            "image/png": "[encoded data removed]",
            "text/plain": [
              "<Figure size 1440x648 with 1 Axes>"
            ]
          },
          "metadata": {
            "tags": []
          }
        }
      ]
    },
    {
      "cell_type": "markdown",
      "metadata": {
        "id": "6R2MFf51Slpj"
      },
      "source": [
        "Temos então acima uma boa forma de entender como estão distribuídos a idade dos alunos de toda a nossa amostra. A maioria são alunos na idade de 12 e 13 anos. Podemos entender melhor essa distribuição de idade também com relação ao sexo e idade, conforme vemos abaixo."
      ]
    },
    {
      "cell_type": "code",
      "metadata": {
        "id": "sQbDPnpy7L5K"
      },
      "source": [
        "DF_idade_pelo_sexo = (pd.crosstab(dados_aluno_escola['VB01003'],dados_aluno_escola['VB01001'],normalize='index') *100).round(2)\r\n",
        "DF_idade_pelo_sexo.rename(index=dicio_vb01003,inplace=True)\r\n",
        "DF_idade_pelo_sexo = DF_idade_pelo_sexo.rename(columns=dicio_vb01001)"
      ],
      "execution_count": 13,
      "outputs": []
    },
    {
      "cell_type": "code",
      "metadata": {
        "colab": {
          "base_uri": "https://localhost:8080/",
          "height": 673
        },
        "id": "yjcrIF7yTXP9",
        "outputId": "15280ac6-e851-4128-fffa-f4d66e6e99ce"
      },
      "source": [
        "fig = DF_idade_pelo_sexo.plot(kind='bar',figsize=(18,9),colormap='cividis_r')\r\n",
        "fig.yaxis.set_major_formatter(ticker.StrMethodFormatter(\"{x:,.2f} %\"))\r\n",
        "plt.title(\"Disitribuição das Idades e sexo dos alunos entrevistados\",size=18)\r\n",
        "fig.set_ylabel(\"Porcentagem (%)\",size=18)\r\n",
        "fig.set_xlabel(\"Idades Entrevistadas\",size=18)\r\n",
        "\r\n",
        "plt.legend(title='SEXO')\r\n",
        "\r\n",
        "fig;"
      ],
      "execution_count": 14,
      "outputs": [
        {
          "output_type": "display_data",
          "data": {
            "image/png": "[encoded data removed]",
            "text/plain": [
              "<Figure size 1296x648 with 1 Axes>"
            ]
          },
          "metadata": {
            "tags": []
          }
        }
      ]
    },
    {
      "cell_type": "markdown",
      "metadata": {
        "id": "dic16QWXsBQ3"
      },
      "source": [
        "Em nossa base, temos ainda a questão do número de escolas e número de alunos. Analisando a questão de alunos por escola, temos algumas informações:"
      ]
    },
    {
      "cell_type": "code",
      "metadata": {
        "colab": {
          "base_uri": "https://localhost:8080/",
          "height": 287
        },
        "id": "4-sYeFpysA3R",
        "outputId": "070251fc-171d-4abe-f390-65d939e2da94"
      },
      "source": [
        "aluno_por_escola = dados.groupby('escola')['aluno'].count()\r\n",
        "aluno_por_escola = pd.DataFrame(aluno_por_escola)\r\n",
        "aluno_por_escola.describe()"
      ],
      "execution_count": 15,
      "outputs": [
        {
          "output_type": "execute_result",
          "data": {
            "text/html": [
              "<div>\n",
              "<style scoped>\n",
              "    .dataframe tbody tr th:only-of-type {\n",
              "        vertical-align: middle;\n",
              "    }\n",
              "\n",
              "    .dataframe tbody tr th {\n",
              "        vertical-align: top;\n",
              "    }\n",
              "\n",
              "    .dataframe thead th {\n",
              "        text-align: right;\n",
              "    }\n",
              "</style>\n",
              "<table border=\"1\" class=\"dataframe\">\n",
              "  <thead>\n",
              "    <tr style=\"text-align: right;\">\n",
              "      <th></th>\n",
              "      <th>aluno</th>\n",
              "    </tr>\n",
              "  </thead>\n",
              "  <tbody>\n",
              "    <tr>\n",
              "      <th>count</th>\n",
              "      <td>371.000000</td>\n",
              "    </tr>\n",
              "    <tr>\n",
              "      <th>mean</th>\n",
              "      <td>44.625337</td>\n",
              "    </tr>\n",
              "    <tr>\n",
              "      <th>std</th>\n",
              "      <td>17.920916</td>\n",
              "    </tr>\n",
              "    <tr>\n",
              "      <th>min</th>\n",
              "      <td>4.000000</td>\n",
              "    </tr>\n",
              "    <tr>\n",
              "      <th>25%</th>\n",
              "      <td>33.000000</td>\n",
              "    </tr>\n",
              "    <tr>\n",
              "      <th>50%</th>\n",
              "      <td>48.000000</td>\n",
              "    </tr>\n",
              "    <tr>\n",
              "      <th>75%</th>\n",
              "      <td>57.000000</td>\n",
              "    </tr>\n",
              "    <tr>\n",
              "      <th>max</th>\n",
              "      <td>99.000000</td>\n",
              "    </tr>\n",
              "  </tbody>\n",
              "</table>\n",
              "</div>"
            ],
            "text/plain": [
              "            aluno\n",
              "count  371.000000\n",
              "mean    44.625337\n",
              "std     17.920916\n",
              "min      4.000000\n",
              "25%     33.000000\n",
              "50%     48.000000\n",
              "75%     57.000000\n",
              "max     99.000000"
            ]
          },
          "metadata": {
            "tags": []
          },
          "execution_count": 15
        }
      ]
    },
    {
      "cell_type": "markdown",
      "metadata": {
        "id": "ednjvdwKsuIy"
      },
      "source": [
        "* A média de aluno por escola é de 44.6;\r\n",
        "* O desvio padrão é de aproximadamente 17.92;\r\n",
        "* A mediana é 48;\r\n",
        "\r\n",
        "Abaixo, temos uma melhor visualização com o boxplot.\r\n"
      ]
    },
    {
      "cell_type": "code",
      "metadata": {
        "colab": {
          "base_uri": "https://localhost:8080/",
          "height": 562
        },
        "id": "OiVw4U8rtB7X",
        "outputId": "368e4c4a-2dd1-4208-deef-45837f68160a"
      },
      "source": [
        "fig,ax = plt.subplots()\r\n",
        "fig.set_size_inches(15,9)\r\n",
        "ax = sns.boxplot(data=aluno_por_escola,x = aluno_por_escola[\"aluno\"])\r\n",
        "ax.set_xlabel(\"Número de Alunos por Escola\",size=18)\r\n",
        "\r\n",
        "fig;"
      ],
      "execution_count": 16,
      "outputs": [
        {
          "output_type": "display_data",
          "data": {
            "image/png": "[encoded data removed]",
            "text/plain": [
              "<Figure size 1080x648 with 1 Axes>"
            ]
          },
          "metadata": {
            "tags": []
          }
        }
      ]
    },
    {
      "cell_type": "markdown",
      "metadata": {
        "id": "pAv6a4N1T7qc"
      },
      "source": [
        "###1.1 - Aonde se situam as escolas entrevistadas"
      ]
    },
    {
      "cell_type": "markdown",
      "metadata": {
        "id": "1Lmeavwt8xsg"
      },
      "source": [
        "Primeiro vamos descobrir aonde se situam a maioria das escolas entrevistadas"
      ]
    },
    {
      "cell_type": "code",
      "metadata": {
        "colab": {
          "base_uri": "https://localhost:8080/",
          "height": 197
        },
        "id": "UMQ2BEU68nTh",
        "outputId": "943f6e90-4876-40e0-ee24-49b4f4038295"
      },
      "source": [
        "formated_table(dados['REGEOGR'],dicio_REGEOGR,\"REGIÃO AONDE SE SITUA\")"
      ],
      "execution_count": 17,
      "outputs": [
        {
          "output_type": "execute_result",
          "data": {
            "text/html": [
              "<div>\n",
              "<style scoped>\n",
              "    .dataframe tbody tr th:only-of-type {\n",
              "        vertical-align: middle;\n",
              "    }\n",
              "\n",
              "    .dataframe tbody tr th {\n",
              "        vertical-align: top;\n",
              "    }\n",
              "\n",
              "    .dataframe thead th {\n",
              "        text-align: right;\n",
              "    }\n",
              "</style>\n",
              "<table border=\"1\" class=\"dataframe\">\n",
              "  <thead>\n",
              "    <tr style=\"text-align: right;\">\n",
              "      <th>REGIÃO AONDE SE SITUA</th>\n",
              "      <th>Frequencia</th>\n",
              "      <th>Porcentagem</th>\n",
              "    </tr>\n",
              "  </thead>\n",
              "  <tbody>\n",
              "    <tr>\n",
              "      <th>Nordeste</th>\n",
              "      <td>3465</td>\n",
              "      <td>20.929</td>\n",
              "    </tr>\n",
              "    <tr>\n",
              "      <th>Centro-Oeste</th>\n",
              "      <td>3420</td>\n",
              "      <td>20.657</td>\n",
              "    </tr>\n",
              "    <tr>\n",
              "      <th>Sudeste</th>\n",
              "      <td>3276</td>\n",
              "      <td>19.787</td>\n",
              "    </tr>\n",
              "    <tr>\n",
              "      <th>Sul</th>\n",
              "      <td>3207</td>\n",
              "      <td>19.371</td>\n",
              "    </tr>\n",
              "    <tr>\n",
              "      <th>Norte</th>\n",
              "      <td>3188</td>\n",
              "      <td>19.256</td>\n",
              "    </tr>\n",
              "  </tbody>\n",
              "</table>\n",
              "</div>"
            ],
            "text/plain": [
              "REGIÃO AONDE SE SITUA  Frequencia  Porcentagem\n",
              "Nordeste                     3465       20.929\n",
              "Centro-Oeste                 3420       20.657\n",
              "Sudeste                      3276       19.787\n",
              "Sul                          3207       19.371\n",
              "Norte                        3188       19.256"
            ]
          },
          "metadata": {
            "tags": []
          },
          "execution_count": 17
        }
      ]
    },
    {
      "cell_type": "markdown",
      "metadata": {
        "id": "-EuJ_-X6X4K0"
      },
      "source": [
        "#### 1.1.1 - Região Urbana X Região Rural"
      ]
    },
    {
      "cell_type": "markdown",
      "metadata": {
        "id": "qwhZSr879cor"
      },
      "source": [
        "Temos que a maioria das escolas, por uma pequena diferença de menos 1%, situa-se na região nordeste, logo seguido da região centro-oeste. Uma pergunta que já podemos fazer é: ** das escolas entrevistadas, quantas são de região urbana e região Rural?**"
      ]
    },
    {
      "cell_type": "code",
      "metadata": {
        "colab": {
          "base_uri": "https://localhost:8080/",
          "height": 227
        },
        "id": "IDNT12nL_Wsl",
        "outputId": "e9e2913e-3cfc-4f08-9f60-e6a7f882fb31"
      },
      "source": [
        "crosstab_data(dados['REGEOGR'],dados[\"V0006\"], dicio1=dicio_REGEOGR, dicio2={1:\"Urbano\",2:\"Rural\"})"
      ],
      "execution_count": 18,
      "outputs": [
        {
          "output_type": "execute_result",
          "data": {
            "text/html": [
              "<div>\n",
              "<style scoped>\n",
              "    .dataframe tbody tr th:only-of-type {\n",
              "        vertical-align: middle;\n",
              "    }\n",
              "\n",
              "    .dataframe tbody tr th {\n",
              "        vertical-align: top;\n",
              "    }\n",
              "\n",
              "    .dataframe thead th {\n",
              "        text-align: right;\n",
              "    }\n",
              "</style>\n",
              "<table border=\"1\" class=\"dataframe\">\n",
              "  <thead>\n",
              "    <tr style=\"text-align: right;\">\n",
              "      <th>V0006</th>\n",
              "      <th>Urbano</th>\n",
              "      <th>Rural</th>\n",
              "    </tr>\n",
              "    <tr>\n",
              "      <th>REGEOGR</th>\n",
              "      <th></th>\n",
              "      <th></th>\n",
              "    </tr>\n",
              "  </thead>\n",
              "  <tbody>\n",
              "    <tr>\n",
              "      <th>Norte</th>\n",
              "      <td>92.06</td>\n",
              "      <td>7.94</td>\n",
              "    </tr>\n",
              "    <tr>\n",
              "      <th>Nordeste</th>\n",
              "      <td>92.64</td>\n",
              "      <td>7.36</td>\n",
              "    </tr>\n",
              "    <tr>\n",
              "      <th>Sudeste</th>\n",
              "      <td>98.02</td>\n",
              "      <td>1.98</td>\n",
              "    </tr>\n",
              "    <tr>\n",
              "      <th>Sul</th>\n",
              "      <td>99.03</td>\n",
              "      <td>0.97</td>\n",
              "    </tr>\n",
              "    <tr>\n",
              "      <th>Centro-Oeste</th>\n",
              "      <td>92.78</td>\n",
              "      <td>7.22</td>\n",
              "    </tr>\n",
              "  </tbody>\n",
              "</table>\n",
              "</div>"
            ],
            "text/plain": [
              "V0006         Urbano  Rural\n",
              "REGEOGR                    \n",
              "Norte          92.06   7.94\n",
              "Nordeste       92.64   7.36\n",
              "Sudeste        98.02   1.98\n",
              "Sul            99.03   0.97\n",
              "Centro-Oeste   92.78   7.22"
            ]
          },
          "metadata": {
            "tags": []
          },
          "execution_count": 18
        }
      ]
    },
    {
      "cell_type": "markdown",
      "metadata": {
        "id": "_CytYVMOAXjP"
      },
      "source": [
        "Sabemos então que quase 8% das escolas das zona rural encontram-se na região norte e pouco menos de 1% na região sul. No total, **Quanto cada região (Norte, Nordeste...) representa no somatório total no que tange aos locais de ensino?**"
      ]
    },
    {
      "cell_type": "code",
      "metadata": {
        "colab": {
          "base_uri": "https://localhost:8080/",
          "height": 227
        },
        "id": "jvmdh3D6_m1f",
        "outputId": "128acf74-89d8-4edd-90c7-b25ddfa37497"
      },
      "source": [
        "crosstab_data(dados['REGEOGR'],dados[\"V0006\"], normal=\"columns\" ,dicio1=dicio_REGEOGR, dicio2={1:\"Urbano\",2:\"Rural\"})"
      ],
      "execution_count": 19,
      "outputs": [
        {
          "output_type": "execute_result",
          "data": {
            "text/html": [
              "<div>\n",
              "<style scoped>\n",
              "    .dataframe tbody tr th:only-of-type {\n",
              "        vertical-align: middle;\n",
              "    }\n",
              "\n",
              "    .dataframe tbody tr th {\n",
              "        vertical-align: top;\n",
              "    }\n",
              "\n",
              "    .dataframe thead th {\n",
              "        text-align: right;\n",
              "    }\n",
              "</style>\n",
              "<table border=\"1\" class=\"dataframe\">\n",
              "  <thead>\n",
              "    <tr style=\"text-align: right;\">\n",
              "      <th>V0006</th>\n",
              "      <th>Urbano</th>\n",
              "      <th>Rural</th>\n",
              "    </tr>\n",
              "    <tr>\n",
              "      <th>REGEOGR</th>\n",
              "      <th></th>\n",
              "      <th></th>\n",
              "    </tr>\n",
              "  </thead>\n",
              "  <tbody>\n",
              "    <tr>\n",
              "      <th>Norte</th>\n",
              "      <td>18.69</td>\n",
              "      <td>29.73</td>\n",
              "    </tr>\n",
              "    <tr>\n",
              "      <th>Nordeste</th>\n",
              "      <td>20.44</td>\n",
              "      <td>29.96</td>\n",
              "    </tr>\n",
              "    <tr>\n",
              "      <th>Sudeste</th>\n",
              "      <td>20.45</td>\n",
              "      <td>7.64</td>\n",
              "    </tr>\n",
              "    <tr>\n",
              "      <th>Sul</th>\n",
              "      <td>20.22</td>\n",
              "      <td>3.64</td>\n",
              "    </tr>\n",
              "    <tr>\n",
              "      <th>Centro-Oeste</th>\n",
              "      <td>20.20</td>\n",
              "      <td>29.02</td>\n",
              "    </tr>\n",
              "  </tbody>\n",
              "</table>\n",
              "</div>"
            ],
            "text/plain": [
              "V0006         Urbano  Rural\n",
              "REGEOGR                    \n",
              "Norte          18.69  29.73\n",
              "Nordeste       20.44  29.96\n",
              "Sudeste        20.45   7.64\n",
              "Sul            20.22   3.64\n",
              "Centro-Oeste   20.20  29.02"
            ]
          },
          "metadata": {
            "tags": []
          },
          "execution_count": 19
        }
      ]
    },
    {
      "cell_type": "markdown",
      "metadata": {
        "id": "jfOaly2hBqKg"
      },
      "source": [
        "De todas as escolas entrevistadas, 29.73% das escolas da zona rural se encontram situadas na região norte, seguido do centro-oeste. Em relação a zona urbana, a região norte possui a menor porcentagem.<br>\r\n"
      ]
    },
    {
      "cell_type": "markdown",
      "metadata": {
        "id": "I45V6lCpgAVB"
      },
      "source": [
        "### 1.2 - Rede de ensino Público e Privado"
      ]
    },
    {
      "cell_type": "markdown",
      "metadata": {
        "id": "FefuaHJYf-r4"
      },
      "source": [
        "Ainda em relação as escolas: **Qual a porcentagem das escolas públicas e privadas para cada região e qual a participação geral que cada região representa para cada tipo de escola?**"
      ]
    },
    {
      "cell_type": "code",
      "metadata": {
        "colab": {
          "base_uri": "https://localhost:8080/",
          "height": 227
        },
        "id": "YAr2vr65A8zY",
        "outputId": "1bb07e55-a185-43c4-d8b0-56906f15bb3f"
      },
      "source": [
        "escola_info = crosstab_data(dados['REGEOGR'],dados[\"V0007\"], normal=\"index\" ,\r\n",
        "                            dicio1=dicio_REGEOGR,\r\n",
        "                            dicio2={1:\"Público_regiao\",2:\"Privada_regiao\"})\r\n",
        "\r\n",
        "escola_info[[\"PUBLICO_GERAL\",\"PRIVADO_GERAL\"]] = crosstab_data(dados['REGEOGR'],\r\n",
        "                                                               dados[\"V0007\"], \r\n",
        "                                                               normal=\"columns\" ,\r\n",
        "                                                               dicio1=dicio_REGEOGR,\r\n",
        "                                                               dicio2={1:\"Público\",2:\"Privada\"})\r\n",
        "\r\n",
        "\r\n",
        "escola_info"
      ],
      "execution_count": 20,
      "outputs": [
        {
          "output_type": "execute_result",
          "data": {
            "text/html": [
              "<div>\n",
              "<style scoped>\n",
              "    .dataframe tbody tr th:only-of-type {\n",
              "        vertical-align: middle;\n",
              "    }\n",
              "\n",
              "    .dataframe tbody tr th {\n",
              "        vertical-align: top;\n",
              "    }\n",
              "\n",
              "    .dataframe thead th {\n",
              "        text-align: right;\n",
              "    }\n",
              "</style>\n",
              "<table border=\"1\" class=\"dataframe\">\n",
              "  <thead>\n",
              "    <tr style=\"text-align: right;\">\n",
              "      <th>V0007</th>\n",
              "      <th>Público_regiao</th>\n",
              "      <th>Privada_regiao</th>\n",
              "      <th>PUBLICO_GERAL</th>\n",
              "      <th>PRIVADO_GERAL</th>\n",
              "    </tr>\n",
              "    <tr>\n",
              "      <th>REGEOGR</th>\n",
              "      <th></th>\n",
              "      <th></th>\n",
              "      <th></th>\n",
              "      <th></th>\n",
              "    </tr>\n",
              "  </thead>\n",
              "  <tbody>\n",
              "    <tr>\n",
              "      <th>Norte</th>\n",
              "      <td>78.54</td>\n",
              "      <td>21.46</td>\n",
              "      <td>20.22</td>\n",
              "      <td>16.38</td>\n",
              "    </tr>\n",
              "    <tr>\n",
              "      <th>Nordeste</th>\n",
              "      <td>72.87</td>\n",
              "      <td>27.13</td>\n",
              "      <td>20.39</td>\n",
              "      <td>22.51</td>\n",
              "    </tr>\n",
              "    <tr>\n",
              "      <th>Sudeste</th>\n",
              "      <td>70.12</td>\n",
              "      <td>29.88</td>\n",
              "      <td>18.55</td>\n",
              "      <td>23.45</td>\n",
              "    </tr>\n",
              "    <tr>\n",
              "      <th>Sul</th>\n",
              "      <td>78.61</td>\n",
              "      <td>21.39</td>\n",
              "      <td>20.36</td>\n",
              "      <td>16.43</td>\n",
              "    </tr>\n",
              "    <tr>\n",
              "      <th>Centro-Oeste</th>\n",
              "      <td>74.09</td>\n",
              "      <td>25.91</td>\n",
              "      <td>20.47</td>\n",
              "      <td>21.22</td>\n",
              "    </tr>\n",
              "  </tbody>\n",
              "</table>\n",
              "</div>"
            ],
            "text/plain": [
              "V0007         Público_regiao  Privada_regiao  PUBLICO_GERAL  PRIVADO_GERAL\n",
              "REGEOGR                                                                   \n",
              "Norte                  78.54           21.46          20.22          16.38\n",
              "Nordeste               72.87           27.13          20.39          22.51\n",
              "Sudeste                70.12           29.88          18.55          23.45\n",
              "Sul                    78.61           21.39          20.36          16.43\n",
              "Centro-Oeste           74.09           25.91          20.47          21.22"
            ]
          },
          "metadata": {
            "tags": []
          },
          "execution_count": 20
        }
      ]
    },
    {
      "cell_type": "markdown",
      "metadata": {
        "id": "e-LB9pujD2w9"
      },
      "source": [
        "Temos muitas informações interessantes para analisar. Primeiramente, mais de 70% das escolas para todas as regiões, que foram entrevistadas, são da rede pública. No que tange a valores gerais, as escolas da rede pública da região sudeste, representam pouco mais de 18,50% do total de escolas públicas em todo território nacional que foram entrevistadas. Quantos as privadas, a região sudeste é a que teve mais escolas entrevistadas e é também a com maior participação no que tange ao número de escolas privadas geral (ou seja, somando todas as escolas privadas entrevistadas no Brasil), totalizando 23.45%. Abaixo, temos duas representaçõe que nos ajudam a entender melhor essa participação geral de cada região para cada rede de ensino."
      ]
    },
    {
      "cell_type": "code",
      "metadata": {
        "colab": {
          "base_uri": "https://localhost:8080/",
          "height": 465
        },
        "id": "g_UuJBILOGrB",
        "outputId": "fb37a9ac-fda7-41a6-de7f-879ea080bf6e"
      },
      "source": [
        "ax = escola_info[[\"PUBLICO_GERAL\",\"PRIVADO_GERAL\"]].plot(kind=\"bar\",figsize=(16,7),colormap=\"Dark2\")\r\n",
        "plt.legend(title=\"REDE DE ENSINO\",labels=[\"PÚBLICO\",\"PRIVADO\"])\r\n",
        "\r\n",
        "ax.yaxis.set_major_formatter(ticker.StrMethodFormatter(\"{x:,.2f} %\"))\r\n",
        "\r\n",
        "plt.xticks(rotation=0)\r\n",
        "plt.xlabel(\"REGIÕES BRASILEIRAS\")\r\n",
        "plt.ylim(0,30)\r\n",
        "plt.title(\"PARTICIPAÇÃO GERAL DAS REDES DE ENSINO NAS REGIÕES BRASILEIRAS\")\r\n",
        "plt.show()"
      ],
      "execution_count": 21,
      "outputs": [
        {
          "output_type": "display_data",
          "data": {
            "image/png": "[encoded data removed]",
            "text/plain": [
              "<Figure size 1152x504 with 1 Axes>"
            ]
          },
          "metadata": {
            "tags": []
          }
        }
      ]
    },
    {
      "cell_type": "code",
      "metadata": {
        "colab": {
          "base_uri": "https://localhost:8080/",
          "height": 547
        },
        "id": "Px55uMLiEvfR",
        "outputId": "c06bc4c5-b9a5-49ed-8577-cae86091347f"
      },
      "source": [
        "colors = ['#ff9999','#66b3ff','#99ff99','#ffcc99','#577590']\r\n",
        "\r\n",
        "fig,(ax1,ax2) = plt.subplots(1,2)\r\n",
        "fig = plt.gcf()\r\n",
        "fig.set_size_inches(15,9)\r\n",
        "\r\n",
        "ax1.pie(escola_info[\"PUBLICO_GERAL\"],colors=colors,labels=escola_info.index, autopct='%1.2f%%',startangle=90)\r\n",
        "ax1.set_title(\"PARTICIPAÇÃO GERAL DAS ESCOLA DE ENSINO PUBLICO\")\r\n",
        "\r\n",
        "ax2.pie(escola_info[\"PRIVADO_GERAL\"],colors=colors,labels=escola_info.index, autopct='%1.2f%%',startangle=90)\r\n",
        "ax2.set_title(\"PARTICIPAÇÃO GERAL DAS ESCOLA DE ENSINO PRIVADO\")\r\n",
        "\r\n",
        "plt.tight_layout()\r\n",
        "plt.show()"
      ],
      "execution_count": 22,
      "outputs": [
        {
          "output_type": "display_data",
          "data": {
            "image/png": "[encoded data removed]",
            "text/plain": [
              "<Figure size 1080x648 with 2 Axes>"
            ]
          },
          "metadata": {
            "tags": []
          }
        }
      ]
    },
    {
      "cell_type": "markdown",
      "metadata": {
        "id": "W3Fw0BJNjfJn"
      },
      "source": [
        "###1.3 - Esfera Administrativa da Escola"
      ]
    },
    {
      "cell_type": "markdown",
      "metadata": {
        "id": "EVtz0IImjv6V"
      },
      "source": [
        "Dentro da nossa Amostra, temos algumas boas informações relacionadas voltadas a esfera que administra cada uma das escolas da nossa pesquisa."
      ]
    },
    {
      "cell_type": "code",
      "metadata": {
        "colab": {
          "base_uri": "https://localhost:8080/",
          "height": 167
        },
        "id": "-k6gM7jljr8X",
        "outputId": "0065ccb6-7b7a-42ac-f76c-1654a2136f91"
      },
      "source": [
        "\r\n",
        "administracao_escola = formated_table(dados['V0008'],dicio_V006)\r\n",
        "administracao_escola "
      ],
      "execution_count": 23,
      "outputs": [
        {
          "output_type": "execute_result",
          "data": {
            "text/html": [
              "<div>\n",
              "<style scoped>\n",
              "    .dataframe tbody tr th:only-of-type {\n",
              "        vertical-align: middle;\n",
              "    }\n",
              "\n",
              "    .dataframe tbody tr th {\n",
              "        vertical-align: top;\n",
              "    }\n",
              "\n",
              "    .dataframe thead th {\n",
              "        text-align: right;\n",
              "    }\n",
              "</style>\n",
              "<table border=\"1\" class=\"dataframe\">\n",
              "  <thead>\n",
              "    <tr style=\"text-align: right;\">\n",
              "      <th></th>\n",
              "      <th>Frequencia</th>\n",
              "      <th>Porcentagem</th>\n",
              "    </tr>\n",
              "  </thead>\n",
              "  <tbody>\n",
              "    <tr>\n",
              "      <th>Estadual</th>\n",
              "      <td>9009</td>\n",
              "      <td>54.415</td>\n",
              "    </tr>\n",
              "    <tr>\n",
              "      <th>Privada</th>\n",
              "      <td>4175</td>\n",
              "      <td>25.217</td>\n",
              "    </tr>\n",
              "    <tr>\n",
              "      <th>Municipal</th>\n",
              "      <td>3072</td>\n",
              "      <td>18.555</td>\n",
              "    </tr>\n",
              "    <tr>\n",
              "      <th>Federal</th>\n",
              "      <td>300</td>\n",
              "      <td>1.812</td>\n",
              "    </tr>\n",
              "  </tbody>\n",
              "</table>\n",
              "</div>"
            ],
            "text/plain": [
              "           Frequencia  Porcentagem\n",
              "Estadual         9009       54.415\n",
              "Privada          4175       25.217\n",
              "Municipal        3072       18.555\n",
              "Federal           300        1.812"
            ]
          },
          "metadata": {
            "tags": []
          },
          "execution_count": 23
        }
      ]
    },
    {
      "cell_type": "markdown",
      "metadata": {
        "id": "i8mP1mqkkC8-"
      },
      "source": [
        "Mais da metade de toda amostra são escola estaduais. Apenas 1.8% são de administração Federal."
      ]
    },
    {
      "cell_type": "code",
      "metadata": {
        "colab": {
          "base_uri": "https://localhost:8080/",
          "height": 653
        },
        "id": "KTwBTk6CkSjx",
        "outputId": "6dcda303-af01-442f-e2cb-0323e1d04988"
      },
      "source": [
        "fig,ax1 = plt.subplots()\r\n",
        "fig.set_size_inches(17,9)\r\n",
        "ax1.pie(administracao_escola['Porcentagem'],\r\n",
        "        colors=[\"#ef476f\",\"#ffd166\",\"#06d6a0\",\"#118ab2\"],\r\n",
        "        labels=administracao_escola.index,\r\n",
        "        autopct='%1.2f%%',\r\n",
        "        startangle=90,\r\n",
        "        textprops={'fontsize': 18,\r\n",
        "                    'color':'black'})\r\n",
        "\r\n",
        "ax1.set_title(\"Esfera responsável pela Administração das Escolas entrevistadas\",\r\n",
        "              size=20)\r\n",
        "\r\n",
        "plt.tight_layout()\r\n",
        "ax1;"
      ],
      "execution_count": 24,
      "outputs": [
        {
          "output_type": "display_data",
          "data": {
            "image/png": "[encoded data removed]",
            "text/plain": [
              "<Figure size 1224x648 with 1 Axes>"
            ]
          },
          "metadata": {
            "tags": []
          }
        }
      ]
    },
    {
      "cell_type": "markdown",
      "metadata": {
        "id": "d3iKdWY9UXjR"
      },
      "source": [
        "### 1.4 - **Total de Alunos Matriculados nas Escolas**"
      ]
    },
    {
      "cell_type": "markdown",
      "metadata": {
        "id": "dMhIS022zAC3"
      },
      "source": [
        "Vejamos então algumas outras informações básicas sobre as escolas que fizeram parte da nossa entrevista. Por exemplo, **O total de alunos matriculados nas escolas**."
      ]
    },
    {
      "cell_type": "code",
      "metadata": {
        "id": "la2hOeb9JDBl",
        "colab": {
          "base_uri": "https://localhost:8080/",
          "height": 227
        },
        "outputId": "03153c15-b74f-45af-c65f-89b51c628d85"
      },
      "source": [
        "escola_quantindade_alunos = formated_table(dados[\"VE01P02A\"],dicio_VE01P02A)\r\n",
        "escola_quantindade_alunos"
      ],
      "execution_count": 25,
      "outputs": [
        {
          "output_type": "execute_result",
          "data": {
            "text/html": [
              "<div>\n",
              "<style scoped>\n",
              "    .dataframe tbody tr th:only-of-type {\n",
              "        vertical-align: middle;\n",
              "    }\n",
              "\n",
              "    .dataframe tbody tr th {\n",
              "        vertical-align: top;\n",
              "    }\n",
              "\n",
              "    .dataframe thead th {\n",
              "        text-align: right;\n",
              "    }\n",
              "</style>\n",
              "<table border=\"1\" class=\"dataframe\">\n",
              "  <thead>\n",
              "    <tr style=\"text-align: right;\">\n",
              "      <th></th>\n",
              "      <th>Frequencia</th>\n",
              "      <th>Porcentagem</th>\n",
              "    </tr>\n",
              "  </thead>\n",
              "  <tbody>\n",
              "    <tr>\n",
              "      <th>Mais de 1.000 alunos</th>\n",
              "      <td>7072</td>\n",
              "      <td>42.716</td>\n",
              "    </tr>\n",
              "    <tr>\n",
              "      <th>De 501 a 1.000 alunos</th>\n",
              "      <td>5927</td>\n",
              "      <td>35.800</td>\n",
              "    </tr>\n",
              "    <tr>\n",
              "      <th>De 201 a 500 alunos</th>\n",
              "      <td>3031</td>\n",
              "      <td>18.308</td>\n",
              "    </tr>\n",
              "    <tr>\n",
              "      <th>De 101 a 200 alunos</th>\n",
              "      <td>395</td>\n",
              "      <td>2.386</td>\n",
              "    </tr>\n",
              "    <tr>\n",
              "      <th>De 51 a 100 alunos</th>\n",
              "      <td>103</td>\n",
              "      <td>0.622</td>\n",
              "    </tr>\n",
              "    <tr>\n",
              "      <th>Até 50 alunos</th>\n",
              "      <td>28</td>\n",
              "      <td>0.169</td>\n",
              "    </tr>\n",
              "  </tbody>\n",
              "</table>\n",
              "</div>"
            ],
            "text/plain": [
              "                       Frequencia  Porcentagem\n",
              "Mais de 1.000 alunos         7072       42.716\n",
              "De 501 a 1.000 alunos        5927       35.800\n",
              "De 201 a 500 alunos          3031       18.308\n",
              "De 101 a 200 alunos           395        2.386\n",
              "De 51 a 100 alunos            103        0.622\n",
              "Até 50 alunos                  28        0.169"
            ]
          },
          "metadata": {
            "tags": []
          },
          "execution_count": 25
        }
      ]
    },
    {
      "cell_type": "markdown",
      "metadata": {
        "id": "l7S9AmyT2BNH"
      },
      "source": [
        "- Mais de 42% das escolas entrevistadas possuem mais de 1000 alunos\r\n",
        "- Mais de 54% das escolas possuem entre 201 até 1000 alunos.\r\n",
        "- Cerca de 3.18% das escolas tem até 200 alunos."
      ]
    },
    {
      "cell_type": "markdown",
      "metadata": {
        "id": "xkxoxLV9U0px"
      },
      "source": [
        "### 1.5 - **Qual a faixa de mensalidade das escolas privadas?**"
      ]
    },
    {
      "cell_type": "markdown",
      "metadata": {
        "id": "WbrFlc1n6Su4"
      },
      "source": [
        "Vamos investigar um dado curioso relacionado as mensalidades escolares de algumas escolas. A pergunta da enquente é: **Qual a faixa de valor da mensalidade do 9º ano na escola? (se não houver 9º ano, considerar 1º ano do Ensino Médio)**"
      ]
    },
    {
      "cell_type": "code",
      "metadata": {
        "colab": {
          "base_uri": "https://localhost:8080/",
          "height": 257
        },
        "id": "dxzCUkWo4dw6",
        "outputId": "ffbd024e-edff-4338-a26c-9145ceaa6d5d"
      },
      "source": [
        "crosstab_data(dados[\"VE01P01\"],dados[\"V0007\"],normal=\"columns\",dicio1=dicio_VE01P01,dicio2={1:\"PÚBLICO\",2:\"PRIVADO\"})"
      ],
      "execution_count": 26,
      "outputs": [
        {
          "output_type": "execute_result",
          "data": {
            "text/html": [
              "<div>\n",
              "<style scoped>\n",
              "    .dataframe tbody tr th:only-of-type {\n",
              "        vertical-align: middle;\n",
              "    }\n",
              "\n",
              "    .dataframe tbody tr th {\n",
              "        vertical-align: top;\n",
              "    }\n",
              "\n",
              "    .dataframe thead th {\n",
              "        text-align: right;\n",
              "    }\n",
              "</style>\n",
              "<table border=\"1\" class=\"dataframe\">\n",
              "  <thead>\n",
              "    <tr style=\"text-align: right;\">\n",
              "      <th>V0007</th>\n",
              "      <th>PÚBLICO</th>\n",
              "      <th>PRIVADO</th>\n",
              "    </tr>\n",
              "    <tr>\n",
              "      <th>VE01P01</th>\n",
              "      <th></th>\n",
              "      <th></th>\n",
              "    </tr>\n",
              "  </thead>\n",
              "  <tbody>\n",
              "    <tr>\n",
              "      <th>Não tem mensalidade</th>\n",
              "      <td>100.0</td>\n",
              "      <td>0.00</td>\n",
              "    </tr>\n",
              "    <tr>\n",
              "      <th>Até R$ 394,00</th>\n",
              "      <td>0.0</td>\n",
              "      <td>17.44</td>\n",
              "    </tr>\n",
              "    <tr>\n",
              "      <th>Mais de R$ 394,00 até R$ 788,00</th>\n",
              "      <td>0.0</td>\n",
              "      <td>53.94</td>\n",
              "    </tr>\n",
              "    <tr>\n",
              "      <th>Mais de R$ 788,00 até R$ 1.576,00</th>\n",
              "      <td>0.0</td>\n",
              "      <td>16.43</td>\n",
              "    </tr>\n",
              "    <tr>\n",
              "      <th>Mais de R$ 1.576,00 até R$ 3.152,00</th>\n",
              "      <td>0.0</td>\n",
              "      <td>4.19</td>\n",
              "    </tr>\n",
              "    <tr>\n",
              "      <th>Não informado</th>\n",
              "      <td>0.0</td>\n",
              "      <td>8.00</td>\n",
              "    </tr>\n",
              "  </tbody>\n",
              "</table>\n",
              "</div>"
            ],
            "text/plain": [
              "V0007                                PÚBLICO  PRIVADO\n",
              "VE01P01                                              \n",
              "Não tem mensalidade                    100.0     0.00\n",
              "Até R$ 394,00                            0.0    17.44\n",
              "Mais de R$ 394,00 até R$ 788,00          0.0    53.94\n",
              "Mais de R$ 788,00 até R$ 1.576,00        0.0    16.43\n",
              "Mais de R$ 1.576,00 até R$ 3.152,00      0.0     4.19\n",
              "Não informado                            0.0     8.00"
            ]
          },
          "metadata": {
            "tags": []
          },
          "execution_count": 26
        }
      ]
    },
    {
      "cell_type": "markdown",
      "metadata": {
        "id": "ioLR1fC59Rtw"
      },
      "source": [
        "Obviamente que escolas da rede pública não teriam cobrança de mensalidade e que escolas da rede privada teriam. Observando a tabela notamos que quase 54% escola de rede privada possuem mensalidades na faixa de 394,00 até R$788,00. "
      ]
    },
    {
      "cell_type": "markdown",
      "metadata": {
        "id": "A9OnmM00XnO0"
      },
      "source": [
        "#### 1.5.1 - Escolas com um número x de alunos e que pagam um intervalo y de mensalidades"
      ]
    },
    {
      "cell_type": "code",
      "metadata": {
        "colab": {
          "base_uri": "https://localhost:8080/",
          "height": 307
        },
        "id": "5ld04qAS-BYp",
        "outputId": "59d1378f-4a63-4e4b-90f0-613367f0b617"
      },
      "source": [
        "mensalidade_quantidade_alunos = crosstab_data(dados[\"VE01P01\"],dados[\"VE01P02A\"],dicio1= dicio_VE01P01,dicio2= dicio_VE01P02A)\r\n",
        "mensalidade_quantidade_alunos"
      ],
      "execution_count": 27,
      "outputs": [
        {
          "output_type": "execute_result",
          "data": {
            "text/html": [
              "<div>\n",
              "<style scoped>\n",
              "    .dataframe tbody tr th:only-of-type {\n",
              "        vertical-align: middle;\n",
              "    }\n",
              "\n",
              "    .dataframe tbody tr th {\n",
              "        vertical-align: top;\n",
              "    }\n",
              "\n",
              "    .dataframe thead th {\n",
              "        text-align: right;\n",
              "    }\n",
              "</style>\n",
              "<table border=\"1\" class=\"dataframe\">\n",
              "  <thead>\n",
              "    <tr style=\"text-align: right;\">\n",
              "      <th>VE01P02A</th>\n",
              "      <th>Até 50 alunos</th>\n",
              "      <th>De 51 a 100 alunos</th>\n",
              "      <th>De 101 a 200 alunos</th>\n",
              "      <th>De 201 a 500 alunos</th>\n",
              "      <th>De 501 a 1.000 alunos</th>\n",
              "      <th>Mais de 1.000 alunos</th>\n",
              "    </tr>\n",
              "    <tr>\n",
              "      <th>VE01P01</th>\n",
              "      <th></th>\n",
              "      <th></th>\n",
              "      <th></th>\n",
              "      <th></th>\n",
              "      <th></th>\n",
              "      <th></th>\n",
              "    </tr>\n",
              "  </thead>\n",
              "  <tbody>\n",
              "    <tr>\n",
              "      <th>Não tem mensalidade</th>\n",
              "      <td>0.12</td>\n",
              "      <td>0.83</td>\n",
              "      <td>2.20</td>\n",
              "      <td>16.57</td>\n",
              "      <td>37.36</td>\n",
              "      <td>42.91</td>\n",
              "    </tr>\n",
              "    <tr>\n",
              "      <th>Até R$ 394,00</th>\n",
              "      <td>0.00</td>\n",
              "      <td>0.00</td>\n",
              "      <td>13.74</td>\n",
              "      <td>37.36</td>\n",
              "      <td>19.64</td>\n",
              "      <td>29.26</td>\n",
              "    </tr>\n",
              "    <tr>\n",
              "      <th>Mais de R$ 394,00 até R$ 788,00</th>\n",
              "      <td>0.58</td>\n",
              "      <td>0.00</td>\n",
              "      <td>1.02</td>\n",
              "      <td>23.13</td>\n",
              "      <td>32.10</td>\n",
              "      <td>43.16</td>\n",
              "    </tr>\n",
              "    <tr>\n",
              "      <th>Mais de R$ 788,00 até R$ 1.576,00</th>\n",
              "      <td>0.00</td>\n",
              "      <td>0.00</td>\n",
              "      <td>0.00</td>\n",
              "      <td>8.89</td>\n",
              "      <td>23.32</td>\n",
              "      <td>67.78</td>\n",
              "    </tr>\n",
              "    <tr>\n",
              "      <th>Mais de R$ 1.576,00 até R$ 3.152,00</th>\n",
              "      <td>0.00</td>\n",
              "      <td>0.00</td>\n",
              "      <td>0.00</td>\n",
              "      <td>37.71</td>\n",
              "      <td>0.00</td>\n",
              "      <td>62.29</td>\n",
              "    </tr>\n",
              "    <tr>\n",
              "      <th>Não informado</th>\n",
              "      <td>0.00</td>\n",
              "      <td>0.00</td>\n",
              "      <td>0.00</td>\n",
              "      <td>17.66</td>\n",
              "      <td>82.34</td>\n",
              "      <td>0.00</td>\n",
              "    </tr>\n",
              "  </tbody>\n",
              "</table>\n",
              "</div>"
            ],
            "text/plain": [
              "VE01P02A                             Até 50 alunos  ...  Mais de 1.000 alunos\n",
              "VE01P01                                             ...                      \n",
              "Não tem mensalidade                           0.12  ...                 42.91\n",
              "Até R$ 394,00                                 0.00  ...                 29.26\n",
              "Mais de R$ 394,00 até R$ 788,00               0.58  ...                 43.16\n",
              "Mais de R$ 788,00 até R$ 1.576,00             0.00  ...                 67.78\n",
              "Mais de R$ 1.576,00 até R$ 3.152,00           0.00  ...                 62.29\n",
              "Não informado                                 0.00  ...                  0.00\n",
              "\n",
              "[6 rows x 6 columns]"
            ]
          },
          "metadata": {
            "tags": []
          },
          "execution_count": 27
        }
      ]
    },
    {
      "cell_type": "markdown",
      "metadata": {
        "id": "O7q2uxn8El2g"
      },
      "source": [
        "Temos um dataframe que nos indica a porcentagem de escolas com um número x de alunos e que pagam um intervalo y de mensalidades. Na primeira linha (\"NÃO TEM MENSALIDADE\") somos apresentados a dados de escolas públicas. Escols públicas de até 50 alunos ou de mais de mil alunos. Todas elas não possuem um valor mensal a ser compensado pelo frenquentamento. Diferentemente das outras linhas e com exceção da última, temos algumas porcentagens que nos revelam quantos porcento as escolas da rede privada de até 500 alunos, por exemplo, paga em média de mensalidade.\r\n",
        "Logo, Pagam em média os valores:\r\n",
        "* Na faixa Mensalidade de até 394,00 reais para escolas de 201 até 500 alunos: **37.36 %**\r\n",
        "* Na faixa de Mensalidade de Mais de R\\$ 788,00 até R\\$ 1.576,00 para escolas de Mais de 1000 alunos: **67.78 %**\r\n",
        "* Na faixa de Mensalidade de Mais de R\\$ 1.576,00 até R\\$ 3.152,00\t para escolas de Mais de 1000 alunos: **62.29 %**"
      ]
    },
    {
      "cell_type": "markdown",
      "metadata": {
        "id": "ebjGg590UluV"
      },
      "source": [
        "## 2- **Condições das Escolas**"
      ]
    },
    {
      "cell_type": "markdown",
      "metadata": {
        "id": "qy6Vc9orUq18"
      },
      "source": [
        "### 2.1 - A escola possui biblioteca?"
      ]
    },
    {
      "cell_type": "markdown",
      "metadata": {
        "id": "MKfssIqRRBKC"
      },
      "source": [
        "Continuando nossa análise, vamos ver uma pergunta que aborda a existência ou não de uma biblioteca nas escolas (EM CONDIÇÕES DE USO), seja pública ou particular."
      ]
    },
    {
      "cell_type": "code",
      "metadata": {
        "colab": {
          "base_uri": "https://localhost:8080/",
          "height": 137
        },
        "id": "GqSyZkQJB1I8",
        "outputId": "602eaa5c-f88e-4844-ea39-339508eed48d"
      },
      "source": [
        "escolas_bibliotecas = formated_table(dados['VE01P05A'],dicio_VE01P05A)\r\n",
        "escolas_bibliotecas"
      ],
      "execution_count": 28,
      "outputs": [
        {
          "output_type": "execute_result",
          "data": {
            "text/html": [
              "<div>\n",
              "<style scoped>\n",
              "    .dataframe tbody tr th:only-of-type {\n",
              "        vertical-align: middle;\n",
              "    }\n",
              "\n",
              "    .dataframe tbody tr th {\n",
              "        vertical-align: top;\n",
              "    }\n",
              "\n",
              "    .dataframe thead th {\n",
              "        text-align: right;\n",
              "    }\n",
              "</style>\n",
              "<table border=\"1\" class=\"dataframe\">\n",
              "  <thead>\n",
              "    <tr style=\"text-align: right;\">\n",
              "      <th></th>\n",
              "      <th>Frequencia</th>\n",
              "      <th>Porcentagem</th>\n",
              "    </tr>\n",
              "  </thead>\n",
              "  <tbody>\n",
              "    <tr>\n",
              "      <th>sim</th>\n",
              "      <td>13581</td>\n",
              "      <td>82.031</td>\n",
              "    </tr>\n",
              "    <tr>\n",
              "      <th>Não está em condição de uso</th>\n",
              "      <td>1691</td>\n",
              "      <td>10.214</td>\n",
              "    </tr>\n",
              "    <tr>\n",
              "      <th>Não tem Biblioteca</th>\n",
              "      <td>1284</td>\n",
              "      <td>7.755</td>\n",
              "    </tr>\n",
              "  </tbody>\n",
              "</table>\n",
              "</div>"
            ],
            "text/plain": [
              "                             Frequencia  Porcentagem\n",
              "sim                               13581       82.031\n",
              "Não está em condição de uso        1691       10.214\n",
              "Não tem Biblioteca                 1284        7.755"
            ]
          },
          "metadata": {
            "tags": []
          },
          "execution_count": 28
        }
      ]
    },
    {
      "cell_type": "code",
      "metadata": {
        "colab": {
          "base_uri": "https://localhost:8080/",
          "height": 448
        },
        "id": "my9zsDYNXOjk",
        "outputId": "14605553-5896-4e14-89c7-a8250f4ce81b"
      },
      "source": [
        "plt.figure(figsize=(16,7))\r\n",
        "fig = sns.barplot(data=escolas_bibliotecas,x = escolas_bibliotecas.index,y='Porcentagem')\r\n",
        "fig.set_xticklabels(labels = [\"SIM\",\"SEM CONDIÇÃO DE USO\",\"NÃO\"], rotation=0)\r\n",
        "fig.set_title(\"SUA ESCOLA POSSUI BIBLIOTECA?\")\r\n",
        "\r\n",
        "fig;"
      ],
      "execution_count": 29,
      "outputs": [
        {
          "output_type": "display_data",
          "data": {
            "image/png": "[encoded data removed]",
            "text/plain": [
              "<Figure size 1152x504 with 1 Axes>"
            ]
          },
          "metadata": {
            "tags": []
          }
        }
      ]
    },
    {
      "cell_type": "markdown",
      "metadata": {
        "id": "_l8SLnpcS7-B"
      },
      "source": [
        "Primeiramente temos que 82% das escolas (no geral) possuem bibliotecas. Entretanto, um dado preocupante e até mesmo assustador se levarmos em conta que mais de 16556 escolas foram entrevistadas, é que cerca de 17.9 % das escolas não possuem bibliotecas em condições de usou ou mesmo não possuem. Contudo, o impacto é ainda maior quando observamos as diferenças entre as escolas da rede pública e privada."
      ]
    },
    {
      "cell_type": "markdown",
      "metadata": {
        "id": "ive7TJLEXP-c"
      },
      "source": [
        "#### 2.1.1 - Rede de ensino Público X Rede de ensino Privado "
      ]
    },
    {
      "cell_type": "code",
      "metadata": {
        "colab": {
          "base_uri": "https://localhost:8080/",
          "height": 167
        },
        "id": "MMP8cxNQTQqX",
        "outputId": "a5af61e4-00b9-46a3-b8ac-f1592c4b9873"
      },
      "source": [
        "escolas_biblioteca_rede = crosstab_data(dados[\"VE01P05A\"],dados[\"V0007\"],normal=\"columns\",dicio1=dicio_VE01P05A,dicio2={1:\"PÚBLICO\",2:\"PRIVADO\"})\r\n",
        "escolas_biblioteca_rede"
      ],
      "execution_count": 30,
      "outputs": [
        {
          "output_type": "execute_result",
          "data": {
            "text/html": [
              "<div>\n",
              "<style scoped>\n",
              "    .dataframe tbody tr th:only-of-type {\n",
              "        vertical-align: middle;\n",
              "    }\n",
              "\n",
              "    .dataframe tbody tr th {\n",
              "        vertical-align: top;\n",
              "    }\n",
              "\n",
              "    .dataframe thead th {\n",
              "        text-align: right;\n",
              "    }\n",
              "</style>\n",
              "<table border=\"1\" class=\"dataframe\">\n",
              "  <thead>\n",
              "    <tr style=\"text-align: right;\">\n",
              "      <th>V0007</th>\n",
              "      <th>PÚBLICO</th>\n",
              "      <th>PRIVADO</th>\n",
              "    </tr>\n",
              "    <tr>\n",
              "      <th>VE01P05A</th>\n",
              "      <th></th>\n",
              "      <th></th>\n",
              "    </tr>\n",
              "  </thead>\n",
              "  <tbody>\n",
              "    <tr>\n",
              "      <th>sim</th>\n",
              "      <td>80.23</td>\n",
              "      <td>87.38</td>\n",
              "    </tr>\n",
              "    <tr>\n",
              "      <th>Não está em condição de uso</th>\n",
              "      <td>11.50</td>\n",
              "      <td>6.40</td>\n",
              "    </tr>\n",
              "    <tr>\n",
              "      <th>Não tem Biblioteca</th>\n",
              "      <td>8.27</td>\n",
              "      <td>6.23</td>\n",
              "    </tr>\n",
              "  </tbody>\n",
              "</table>\n",
              "</div>"
            ],
            "text/plain": [
              "V0007                        PÚBLICO  PRIVADO\n",
              "VE01P05A                                     \n",
              "sim                            80.23    87.38\n",
              "Não está em condição de uso    11.50     6.40\n",
              "Não tem Biblioteca              8.27     6.23"
            ]
          },
          "metadata": {
            "tags": []
          },
          "execution_count": 30
        }
      ]
    },
    {
      "cell_type": "code",
      "metadata": {
        "colab": {
          "base_uri": "https://localhost:8080/",
          "height": 451
        },
        "id": "fxAiXzbCVb8R",
        "outputId": "cbc87e7b-00ca-45df-ad00-02a9c36f0ffb"
      },
      "source": [
        "fig = escolas_biblioteca_rede[[\"PÚBLICO\",\"PRIVADO\"]].plot(kind=\"bar\",figsize=(16,7),colormap=\"Dark2\")\r\n",
        "fig.yaxis.set_major_formatter(ticker.StrMethodFormatter(\"{x:,.2f} %\"))\r\n",
        "plt.ylim(0,100)\r\n",
        "plt.xticks(rotation=0)\r\n",
        "plt.xlabel(\"\")\r\n",
        "plt.ylabel(\"Porcentagem (%)\",size=16)\r\n",
        "\r\n",
        "plt.legend(title=\"REDE DE ENSINO\")\r\n",
        "\r\n",
        "plt.title(\"SUA ESCOLA POSSUI BIBLIOTECA? - COMPARATIVO ENTRE REDE DE ENSINO PÚBLICO E PRIVADO\",size=18)\r\n",
        "plt.show()"
      ],
      "execution_count": 31,
      "outputs": [
        {
          "output_type": "display_data",
          "data": {
            "image/png": "[encoded data removed]",
            "text/plain": [
              "<Figure size 1152x504 with 1 Axes>"
            ]
          },
          "metadata": {
            "tags": []
          }
        }
      ]
    },
    {
      "cell_type": "markdown",
      "metadata": {
        "id": "1SVyl3aYc0SG"
      },
      "source": [
        "Ao que tudo indica, as escolas da rede privada possuem mais bibliotecas do que a da rede pública, uma vez que as verbas de escolas públicas não são bem aproveitadas do que os valores de mensalidade que são aplicados nas particulares E isso, apenas na nossa amostra."
      ]
    },
    {
      "cell_type": "markdown",
      "metadata": {
        "id": "yEgPfGXfg-Eh"
      },
      "source": [
        "#### 2.1.2 - Esfera administrativa de ensino"
      ]
    },
    {
      "cell_type": "markdown",
      "metadata": {
        "id": "CBZAPKO-hFrn"
      },
      "source": [
        "Vejamos como a questão da escola possuir ou não biblioteca é refletida quanto a esfera de ensino (Federal, estadual, Municipal e privada)."
      ]
    },
    {
      "cell_type": "code",
      "metadata": {
        "colab": {
          "base_uri": "https://localhost:8080/",
          "height": 167
        },
        "id": "3FlorJIrgnNg",
        "outputId": "87c73821-faa8-425b-ec06-d4843d40df5b"
      },
      "source": [
        "crosstab_data(dados[\"VE01P05A\"],dados[\"V0008\"],normal=\"columns\",dicio1=dicio_VE01P05A,dicio2=dicio_V008)"
      ],
      "execution_count": 32,
      "outputs": [
        {
          "output_type": "execute_result",
          "data": {
            "text/html": [
              "<div>\n",
              "<style scoped>\n",
              "    .dataframe tbody tr th:only-of-type {\n",
              "        vertical-align: middle;\n",
              "    }\n",
              "\n",
              "    .dataframe tbody tr th {\n",
              "        vertical-align: top;\n",
              "    }\n",
              "\n",
              "    .dataframe thead th {\n",
              "        text-align: right;\n",
              "    }\n",
              "</style>\n",
              "<table border=\"1\" class=\"dataframe\">\n",
              "  <thead>\n",
              "    <tr style=\"text-align: right;\">\n",
              "      <th>V0008</th>\n",
              "      <th>Federal</th>\n",
              "      <th>Estadual</th>\n",
              "      <th>Municipal</th>\n",
              "      <th>Privada</th>\n",
              "    </tr>\n",
              "    <tr>\n",
              "      <th>VE01P05A</th>\n",
              "      <th></th>\n",
              "      <th></th>\n",
              "      <th></th>\n",
              "      <th></th>\n",
              "    </tr>\n",
              "  </thead>\n",
              "  <tbody>\n",
              "    <tr>\n",
              "      <th>sim</th>\n",
              "      <td>100.0</td>\n",
              "      <td>82.16</td>\n",
              "      <td>72.62</td>\n",
              "      <td>87.38</td>\n",
              "    </tr>\n",
              "    <tr>\n",
              "      <th>Não está em condição de uso</th>\n",
              "      <td>0.0</td>\n",
              "      <td>10.94</td>\n",
              "      <td>14.26</td>\n",
              "      <td>6.40</td>\n",
              "    </tr>\n",
              "    <tr>\n",
              "      <th>Não tem Biblioteca</th>\n",
              "      <td>0.0</td>\n",
              "      <td>6.89</td>\n",
              "      <td>13.12</td>\n",
              "      <td>6.23</td>\n",
              "    </tr>\n",
              "  </tbody>\n",
              "</table>\n",
              "</div>"
            ],
            "text/plain": [
              "V0008                        Federal  Estadual  Municipal  Privada\n",
              "VE01P05A                                                          \n",
              "sim                            100.0     82.16      72.62    87.38\n",
              "Não está em condição de uso      0.0     10.94      14.26     6.40\n",
              "Não tem Biblioteca               0.0      6.89      13.12     6.23"
            ]
          },
          "metadata": {
            "tags": []
          },
          "execution_count": 32
        }
      ]
    },
    {
      "cell_type": "markdown",
      "metadata": {
        "id": "xxzL8YkCm_RZ"
      },
      "source": [
        "Não é nenhuma surpresa que todas as escolas de nível federal tenham bibliotecas. Mas vale observar que 13% das escolas municipais não possuem."
      ]
    },
    {
      "cell_type": "markdown",
      "metadata": {
        "id": "PFthyzkOn001"
      },
      "source": [
        "### 2.2 - A escola possui Sala ou Laboratório de Informática?"
      ]
    },
    {
      "cell_type": "markdown",
      "metadata": {
        "id": "OOlWycM9zLTx"
      },
      "source": [
        "Uma outra informação interessante de se analisar é com relação a pergunta de haver ou não salas/laboratório de informática nas escolas."
      ]
    },
    {
      "cell_type": "code",
      "metadata": {
        "id": "wPGWj1ePf-T0",
        "colab": {
          "base_uri": "https://localhost:8080/",
          "height": 137
        },
        "outputId": "161b048c-8648-4491-be91-1883b4755336"
      },
      "source": [
        "formated_table(dados[\"VE01P06A\"],dicio_VE01P06A)"
      ],
      "execution_count": 33,
      "outputs": [
        {
          "output_type": "execute_result",
          "data": {
            "text/html": [
              "<div>\n",
              "<style scoped>\n",
              "    .dataframe tbody tr th:only-of-type {\n",
              "        vertical-align: middle;\n",
              "    }\n",
              "\n",
              "    .dataframe tbody tr th {\n",
              "        vertical-align: top;\n",
              "    }\n",
              "\n",
              "    .dataframe thead th {\n",
              "        text-align: right;\n",
              "    }\n",
              "</style>\n",
              "<table border=\"1\" class=\"dataframe\">\n",
              "  <thead>\n",
              "    <tr style=\"text-align: right;\">\n",
              "      <th></th>\n",
              "      <th>Frequencia</th>\n",
              "      <th>Porcentagem</th>\n",
              "    </tr>\n",
              "  </thead>\n",
              "  <tbody>\n",
              "    <tr>\n",
              "      <th>sim</th>\n",
              "      <td>12114</td>\n",
              "      <td>73.170</td>\n",
              "    </tr>\n",
              "    <tr>\n",
              "      <th>Não está em condições de uso</th>\n",
              "      <td>2666</td>\n",
              "      <td>16.103</td>\n",
              "    </tr>\n",
              "    <tr>\n",
              "      <th>Não tem sala ou laboratório de Informática</th>\n",
              "      <td>1776</td>\n",
              "      <td>10.727</td>\n",
              "    </tr>\n",
              "  </tbody>\n",
              "</table>\n",
              "</div>"
            ],
            "text/plain": [
              "                                            Frequencia  Porcentagem\n",
              "sim                                              12114       73.170\n",
              "Não está em condições de uso                      2666       16.103\n",
              "Não tem sala ou laboratório de Informática        1776       10.727"
            ]
          },
          "metadata": {
            "tags": []
          },
          "execution_count": 33
        }
      ]
    },
    {
      "cell_type": "markdown",
      "metadata": {
        "id": "TXw7M1GgzwsZ"
      },
      "source": [
        "73% das escolas entrevistadas informaram possuir salas ou laboratórios de informática. Contudo 26.83% informaram não estar em condições de uso ou mesmo não possuir."
      ]
    },
    {
      "cell_type": "markdown",
      "metadata": {
        "id": "p7cnWvdx0DxC"
      },
      "source": [
        "#### 2.2.1 - Rede de Ensino Público X Rede de ensino Privado"
      ]
    },
    {
      "cell_type": "markdown",
      "metadata": {
        "id": "gJXQCy360Nqh"
      },
      "source": [
        "E como isso é refletido nas escolas de ensino público e privado?"
      ]
    },
    {
      "cell_type": "code",
      "metadata": {
        "colab": {
          "base_uri": "https://localhost:8080/",
          "height": 167
        },
        "id": "g11RqOw9rz42",
        "outputId": "0ce29c4a-e9f8-43a1-f9f6-a4b92b536506"
      },
      "source": [
        "escola_possui_sala_informatica = crosstab_data(dataset1=dados[\"VE01P06A\"],\r\n",
        "              dicio1=dicio_VE01P06A,\r\n",
        "              dataset2=dados[\"V0007\"],\r\n",
        "              dicio2={1:\"Público\",2:\"Privado\"},\r\n",
        "              normal=\"columns\")\r\n",
        "\r\n",
        "escola_possui_sala_informatica"
      ],
      "execution_count": 34,
      "outputs": [
        {
          "output_type": "execute_result",
          "data": {
            "text/html": [
              "<div>\n",
              "<style scoped>\n",
              "    .dataframe tbody tr th:only-of-type {\n",
              "        vertical-align: middle;\n",
              "    }\n",
              "\n",
              "    .dataframe tbody tr th {\n",
              "        vertical-align: top;\n",
              "    }\n",
              "\n",
              "    .dataframe thead th {\n",
              "        text-align: right;\n",
              "    }\n",
              "</style>\n",
              "<table border=\"1\" class=\"dataframe\">\n",
              "  <thead>\n",
              "    <tr style=\"text-align: right;\">\n",
              "      <th>V0007</th>\n",
              "      <th>Público</th>\n",
              "      <th>Privado</th>\n",
              "    </tr>\n",
              "    <tr>\n",
              "      <th>VE01P06A</th>\n",
              "      <th></th>\n",
              "      <th></th>\n",
              "    </tr>\n",
              "  </thead>\n",
              "  <tbody>\n",
              "    <tr>\n",
              "      <th>sim</th>\n",
              "      <td>73.82</td>\n",
              "      <td>71.23</td>\n",
              "    </tr>\n",
              "    <tr>\n",
              "      <th>Não está em condições de uso</th>\n",
              "      <td>19.90</td>\n",
              "      <td>4.84</td>\n",
              "    </tr>\n",
              "    <tr>\n",
              "      <th>Não tem sala ou laboratório de Informática</th>\n",
              "      <td>6.28</td>\n",
              "      <td>23.93</td>\n",
              "    </tr>\n",
              "  </tbody>\n",
              "</table>\n",
              "</div>"
            ],
            "text/plain": [
              "V0007                                       Público  Privado\n",
              "VE01P06A                                                    \n",
              "sim                                           73.82    71.23\n",
              "Não está em condições de uso                  19.90     4.84\n",
              "Não tem sala ou laboratório de Informática     6.28    23.93"
            ]
          },
          "metadata": {
            "tags": []
          },
          "execution_count": 34
        }
      ]
    },
    {
      "cell_type": "markdown",
      "metadata": {
        "id": "V7BWAV1H06MY"
      },
      "source": [
        "73% das escolas de ensino público informaram que possuem sim salas de informática em suas escolas. 71% das escolas de rede privada informaram que também possui. Curiosamente, quase 24% das escolas de rede privada informaram não possuir sala ou laboratório de informática."
      ]
    },
    {
      "cell_type": "markdown",
      "metadata": {
        "id": "ZYNnRvya2OQJ"
      },
      "source": [
        "ok, mas e quanto aos equipamentos?\r\n",
        "**Quantos computadores (desktops, laptops, notebooks, netbooks, tablets) da escola e EM CONDIÇÕES DE USO estão disponíveis para os alunos em sala ou salas específicas de informática?**"
      ]
    },
    {
      "cell_type": "code",
      "metadata": {
        "colab": {
          "base_uri": "https://localhost:8080/",
          "height": 257
        },
        "id": "Q7hWQK-V0vbo",
        "outputId": "2c4b19cd-7118-43ef-abfe-4d2559665df6"
      },
      "source": [
        "num_computadores_por_escola = formated_table(dados[\"VE01P33\"],dicio_VE01P33)\r\n",
        "num_computadores_por_escola"
      ],
      "execution_count": 35,
      "outputs": [
        {
          "output_type": "execute_result",
          "data": {
            "text/html": [
              "<div>\n",
              "<style scoped>\n",
              "    .dataframe tbody tr th:only-of-type {\n",
              "        vertical-align: middle;\n",
              "    }\n",
              "\n",
              "    .dataframe tbody tr th {\n",
              "        vertical-align: top;\n",
              "    }\n",
              "\n",
              "    .dataframe thead th {\n",
              "        text-align: right;\n",
              "    }\n",
              "</style>\n",
              "<table border=\"1\" class=\"dataframe\">\n",
              "  <thead>\n",
              "    <tr style=\"text-align: right;\">\n",
              "      <th></th>\n",
              "      <th>Frequencia</th>\n",
              "      <th>Porcentagem</th>\n",
              "    </tr>\n",
              "  </thead>\n",
              "  <tbody>\n",
              "    <tr>\n",
              "      <th>De 11 a 20 computadores</th>\n",
              "      <td>5402</td>\n",
              "      <td>32.629</td>\n",
              "    </tr>\n",
              "    <tr>\n",
              "      <th>Até 10 computadores</th>\n",
              "      <td>2609</td>\n",
              "      <td>15.759</td>\n",
              "    </tr>\n",
              "    <tr>\n",
              "      <th>Não existem computadores em condições de uso para os alunos</th>\n",
              "      <td>2450</td>\n",
              "      <td>14.798</td>\n",
              "    </tr>\n",
              "    <tr>\n",
              "      <th>De 21 a 30 computadores</th>\n",
              "      <td>2395</td>\n",
              "      <td>14.466</td>\n",
              "    </tr>\n",
              "    <tr>\n",
              "      <th>Mais de 50 computadores</th>\n",
              "      <td>1517</td>\n",
              "      <td>9.163</td>\n",
              "    </tr>\n",
              "    <tr>\n",
              "      <th>De 31 a 40 computadores</th>\n",
              "      <td>1204</td>\n",
              "      <td>7.272</td>\n",
              "    </tr>\n",
              "    <tr>\n",
              "      <th>De 41 a 50 computadores</th>\n",
              "      <td>979</td>\n",
              "      <td>5.913</td>\n",
              "    </tr>\n",
              "  </tbody>\n",
              "</table>\n",
              "</div>"
            ],
            "text/plain": [
              "                                                    Frequencia  Porcentagem\n",
              "De 11 a 20 computadores                                   5402       32.629\n",
              "Até 10 computadores                                       2609       15.759\n",
              "Não existem computadores em condições de uso pa...        2450       14.798\n",
              "De 21 a 30 computadores                                   2395       14.466\n",
              "Mais de 50 computadores                                   1517        9.163\n",
              "De 31 a 40 computadores                                   1204        7.272\n",
              "De 41 a 50 computadores                                    979        5.913"
            ]
          },
          "metadata": {
            "tags": []
          },
          "execution_count": 35
        }
      ]
    },
    {
      "cell_type": "markdown",
      "metadata": {
        "id": "SLHlpr576ECh"
      },
      "source": [
        "Acima temos algumas informações que mostram que 32.63% das escolas possuem 11 a 20 computadores e cerca de 14.47% não tem computadores em condição de uso. \r\n",
        "Abaixo, descartando a resposta de não haver computadores para condição de uso e de não ter computadores da escola, iremos realizar algumas contas."
      ]
    },
    {
      "cell_type": "code",
      "metadata": {
        "colab": {
          "base_uri": "https://localhost:8080/",
          "height": 257
        },
        "id": "7AGxinhN2iVb",
        "outputId": "071d0bde-44a1-4632-b6a4-ae88b41c9116"
      },
      "source": [
        "dados_pc_sala = dados.query(\"VE01P06A == 1 and VE01P33 != 1 and VE01P33 != -2\")\r\n",
        "num_computadores = formated_table(dados_pc_sala[\"VE01P33\"],dicio_VE01P33)\r\n",
        "num_computadores[\"k\"] = [\"11 - 20\",\"21-30\",\"<=10\",\" >50\",\"31-40\",\"41-50\"]\r\n",
        "num_computadores[\"ordem\"] = [1,2,0,5,3,4]\r\n",
        "num_computadores = num_computadores.reset_index()\r\n",
        "num_computadores = num_computadores.rename(columns={\"index\":\"Respostas\"})\r\n",
        "num_computadores = num_computadores.set_index('ordem')\r\n",
        "num_computadores = num_computadores.sort_index()\r\n",
        "num_computadores[\"Frequencia_Relativa_Acumulada (%)\"] = num_computadores[\"Porcentagem\"].cumsum()\r\n",
        "num_computadores"
      ],
      "execution_count": 36,
      "outputs": [
        {
          "output_type": "execute_result",
          "data": {
            "text/html": [
              "<div>\n",
              "<style scoped>\n",
              "    .dataframe tbody tr th:only-of-type {\n",
              "        vertical-align: middle;\n",
              "    }\n",
              "\n",
              "    .dataframe tbody tr th {\n",
              "        vertical-align: top;\n",
              "    }\n",
              "\n",
              "    .dataframe thead th {\n",
              "        text-align: right;\n",
              "    }\n",
              "</style>\n",
              "<table border=\"1\" class=\"dataframe\">\n",
              "  <thead>\n",
              "    <tr style=\"text-align: right;\">\n",
              "      <th></th>\n",
              "      <th>Respostas</th>\n",
              "      <th>Frequencia</th>\n",
              "      <th>Porcentagem</th>\n",
              "      <th>k</th>\n",
              "      <th>Frequencia_Relativa_Acumulada (%)</th>\n",
              "    </tr>\n",
              "    <tr>\n",
              "      <th>ordem</th>\n",
              "      <th></th>\n",
              "      <th></th>\n",
              "      <th></th>\n",
              "      <th></th>\n",
              "      <th></th>\n",
              "    </tr>\n",
              "  </thead>\n",
              "  <tbody>\n",
              "    <tr>\n",
              "      <th>0</th>\n",
              "      <td>Até 10 computadores</td>\n",
              "      <td>1299</td>\n",
              "      <td>10.956</td>\n",
              "      <td>&lt;=10</td>\n",
              "      <td>10.956</td>\n",
              "    </tr>\n",
              "    <tr>\n",
              "      <th>1</th>\n",
              "      <td>De 11 a 20 computadores</td>\n",
              "      <td>4853</td>\n",
              "      <td>40.929</td>\n",
              "      <td>11 - 20</td>\n",
              "      <td>51.885</td>\n",
              "    </tr>\n",
              "    <tr>\n",
              "      <th>2</th>\n",
              "      <td>De 21 a 30 computadores</td>\n",
              "      <td>2328</td>\n",
              "      <td>19.634</td>\n",
              "      <td>21-30</td>\n",
              "      <td>71.519</td>\n",
              "    </tr>\n",
              "    <tr>\n",
              "      <th>3</th>\n",
              "      <td>De 31 a 40 computadores</td>\n",
              "      <td>1113</td>\n",
              "      <td>9.387</td>\n",
              "      <td>31-40</td>\n",
              "      <td>80.906</td>\n",
              "    </tr>\n",
              "    <tr>\n",
              "      <th>4</th>\n",
              "      <td>De 41 a 50 computadores</td>\n",
              "      <td>979</td>\n",
              "      <td>8.257</td>\n",
              "      <td>41-50</td>\n",
              "      <td>89.163</td>\n",
              "    </tr>\n",
              "    <tr>\n",
              "      <th>5</th>\n",
              "      <td>Mais de 50 computadores</td>\n",
              "      <td>1285</td>\n",
              "      <td>10.837</td>\n",
              "      <td>&gt;50</td>\n",
              "      <td>100.000</td>\n",
              "    </tr>\n",
              "  </tbody>\n",
              "</table>\n",
              "</div>"
            ],
            "text/plain": [
              "                     Respostas  ...  Frequencia_Relativa_Acumulada (%)\n",
              "ordem                           ...                                   \n",
              "0          Até 10 computadores  ...                             10.956\n",
              "1      De 11 a 20 computadores  ...                             51.885\n",
              "2      De 21 a 30 computadores  ...                             71.519\n",
              "3      De 31 a 40 computadores  ...                             80.906\n",
              "4      De 41 a 50 computadores  ...                             89.163\n",
              "5      Mais de 50 computadores  ...                            100.000\n",
              "\n",
              "[6 rows x 5 columns]"
            ]
          },
          "metadata": {
            "tags": []
          },
          "execution_count": 36
        }
      ]
    },
    {
      "cell_type": "markdown",
      "metadata": {
        "id": "nHWW2YxyGvJi"
      },
      "source": [
        "A frequência relativa acumulada nos revela que as respostas referentes a  ter:\r\n",
        "* \"Até 10 computadores\"\r\n",
        "* \"De 11 a 20 Computadores\"\r\n",
        "* \"De 21 a 30 computadores\"\r\n",
        "\r\n",
        "representam 71.5% do total de respostas para esta pergunta no que tange as frequencias."
      ]
    },
    {
      "cell_type": "markdown",
      "metadata": {
        "id": "Dy_F271MN3FQ"
      },
      "source": [
        "###2.3 - A escola tem sala de recursos de mídia/comunicação EM CONDIÇÕES DE USO? (Exemplos: televisão, videocassete, dvd, projetor etc)\r\n"
      ]
    },
    {
      "cell_type": "code",
      "metadata": {
        "id": "bxLN_apyJOok",
        "colab": {
          "base_uri": "https://localhost:8080/",
          "height": 137
        },
        "outputId": "dc27eefa-c4fa-4321-b747-7e651ac7e361"
      },
      "source": [
        "formated_table(dados[\"VE01P10A\"],dicio_VE01P10A)"
      ],
      "execution_count": 42,
      "outputs": [
        {
          "output_type": "execute_result",
          "data": {
            "text/html": [
              "<div>\n",
              "<style scoped>\n",
              "    .dataframe tbody tr th:only-of-type {\n",
              "        vertical-align: middle;\n",
              "    }\n",
              "\n",
              "    .dataframe tbody tr th {\n",
              "        vertical-align: top;\n",
              "    }\n",
              "\n",
              "    .dataframe thead th {\n",
              "        text-align: right;\n",
              "    }\n",
              "</style>\n",
              "<table border=\"1\" class=\"dataframe\">\n",
              "  <thead>\n",
              "    <tr style=\"text-align: right;\">\n",
              "      <th></th>\n",
              "      <th>Frequencia</th>\n",
              "      <th>Porcentagem</th>\n",
              "    </tr>\n",
              "  </thead>\n",
              "  <tbody>\n",
              "    <tr>\n",
              "      <th>sim</th>\n",
              "      <td>12462</td>\n",
              "      <td>75.272</td>\n",
              "    </tr>\n",
              "    <tr>\n",
              "      <th>Não tem sala de recursos de mídia/comunicação</th>\n",
              "      <td>3658</td>\n",
              "      <td>22.095</td>\n",
              "    </tr>\n",
              "    <tr>\n",
              "      <th>Não está em condições de uso</th>\n",
              "      <td>436</td>\n",
              "      <td>2.633</td>\n",
              "    </tr>\n",
              "  </tbody>\n",
              "</table>\n",
              "</div>"
            ],
            "text/plain": [
              "                                               Frequencia  Porcentagem\n",
              "sim                                                 12462       75.272\n",
              "Não tem sala de recursos de mídia/comunicação        3658       22.095\n",
              "Não está em condições de uso                          436        2.633"
            ]
          },
          "metadata": {
            "tags": []
          },
          "execution_count": 42
        }
      ]
    },
    {
      "cell_type": "code",
      "metadata": {
        "colab": {
          "base_uri": "https://localhost:8080/",
          "height": 167
        },
        "id": "O9vc4LSmOlh3",
        "outputId": "2de2fc11-b676-48cd-e840-652e4ae4ba15"
      },
      "source": [
        "crosstab_data(dataset1=dados[\"VE01P10A\"],dataset2=dados[\"V0008\"],normal=\"columns\",dicio1=dicio_VE01P10A,dicio2=dicio_V008)"
      ],
      "execution_count": 51,
      "outputs": [
        {
          "output_type": "execute_result",
          "data": {
            "text/html": [
              "<div>\n",
              "<style scoped>\n",
              "    .dataframe tbody tr th:only-of-type {\n",
              "        vertical-align: middle;\n",
              "    }\n",
              "\n",
              "    .dataframe tbody tr th {\n",
              "        vertical-align: top;\n",
              "    }\n",
              "\n",
              "    .dataframe thead th {\n",
              "        text-align: right;\n",
              "    }\n",
              "</style>\n",
              "<table border=\"1\" class=\"dataframe\">\n",
              "  <thead>\n",
              "    <tr style=\"text-align: right;\">\n",
              "      <th>V0008</th>\n",
              "      <th>Federal</th>\n",
              "      <th>Estadual</th>\n",
              "      <th>Municipal</th>\n",
              "      <th>Privada</th>\n",
              "    </tr>\n",
              "    <tr>\n",
              "      <th>VE01P10A</th>\n",
              "      <th></th>\n",
              "      <th></th>\n",
              "      <th></th>\n",
              "      <th></th>\n",
              "    </tr>\n",
              "  </thead>\n",
              "  <tbody>\n",
              "    <tr>\n",
              "      <th>sim</th>\n",
              "      <td>78.33</td>\n",
              "      <td>70.97</td>\n",
              "      <td>66.11</td>\n",
              "      <td>91.07</td>\n",
              "    </tr>\n",
              "    <tr>\n",
              "      <th>Não está em condições de uso</th>\n",
              "      <td>0.00</td>\n",
              "      <td>4.11</td>\n",
              "      <td>2.15</td>\n",
              "      <td>0.00</td>\n",
              "    </tr>\n",
              "    <tr>\n",
              "      <th>Não tem sala de recursos de mídia/comunicação</th>\n",
              "      <td>21.67</td>\n",
              "      <td>24.92</td>\n",
              "      <td>31.74</td>\n",
              "      <td>8.93</td>\n",
              "    </tr>\n",
              "  </tbody>\n",
              "</table>\n",
              "</div>"
            ],
            "text/plain": [
              "V0008                                          Federal  ...  Privada\n",
              "VE01P10A                                                ...         \n",
              "sim                                              78.33  ...    91.07\n",
              "Não está em condições de uso                      0.00  ...     0.00\n",
              "Não tem sala de recursos de mídia/comunicação    21.67  ...     8.93\n",
              "\n",
              "[3 rows x 4 columns]"
            ]
          },
          "metadata": {
            "tags": []
          },
          "execution_count": 51
        }
      ]
    },
    {
      "cell_type": "markdown",
      "metadata": {
        "id": "IzY6TJu1QO6Z"
      },
      "source": [
        "Temos que, com exceção das redes municipais, responderam sim mais de 70% das escolas em relação a pergunta de ter uma sala de recursos."
      ]
    },
    {
      "cell_type": "markdown",
      "metadata": {
        "id": "_dOojefSSD3Q"
      },
      "source": [
        "### 2.4 - A escola tem quadra de esportes EM CONDIÇÕES DE USO?"
      ]
    },
    {
      "cell_type": "code",
      "metadata": {
        "colab": {
          "base_uri": "https://localhost:8080/",
          "height": 137
        },
        "id": "D64Jd8VuQ314",
        "outputId": "1eb0cf8f-563d-4c19-c073-f42183bfb472"
      },
      "source": [
        "formated_table(dados[\"VE01P15A\"],dicio_VE01P15A)"
      ],
      "execution_count": 61,
      "outputs": [
        {
          "output_type": "execute_result",
          "data": {
            "text/html": [
              "<div>\n",
              "<style scoped>\n",
              "    .dataframe tbody tr th:only-of-type {\n",
              "        vertical-align: middle;\n",
              "    }\n",
              "\n",
              "    .dataframe tbody tr th {\n",
              "        vertical-align: top;\n",
              "    }\n",
              "\n",
              "    .dataframe thead th {\n",
              "        text-align: right;\n",
              "    }\n",
              "</style>\n",
              "<table border=\"1\" class=\"dataframe\">\n",
              "  <thead>\n",
              "    <tr style=\"text-align: right;\">\n",
              "      <th></th>\n",
              "      <th>Frequencia</th>\n",
              "      <th>Porcentagem</th>\n",
              "    </tr>\n",
              "  </thead>\n",
              "  <tbody>\n",
              "    <tr>\n",
              "      <th>Sim</th>\n",
              "      <td>12716</td>\n",
              "      <td>76.806</td>\n",
              "    </tr>\n",
              "    <tr>\n",
              "      <th>Não tem quadra de esportes</th>\n",
              "      <td>2405</td>\n",
              "      <td>14.526</td>\n",
              "    </tr>\n",
              "    <tr>\n",
              "      <th>Não está em condições de uso</th>\n",
              "      <td>1435</td>\n",
              "      <td>8.668</td>\n",
              "    </tr>\n",
              "  </tbody>\n",
              "</table>\n",
              "</div>"
            ],
            "text/plain": [
              "                              Frequencia  Porcentagem\n",
              "Sim                                12716       76.806\n",
              "Não tem quadra de esportes          2405       14.526\n",
              "Não está em condições de uso        1435        8.668"
            ]
          },
          "metadata": {
            "tags": []
          },
          "execution_count": 61
        }
      ]
    },
    {
      "cell_type": "markdown",
      "metadata": {
        "id": "60pnazADSwGx"
      },
      "source": [
        "Com uma porcentagem de 76.80% das escolas possuem quadra. Pouco mais de 21% afirmaram não possuir."
      ]
    },
    {
      "cell_type": "markdown",
      "metadata": {
        "id": "fcpt_25fTwTA"
      },
      "source": [
        "Continuando ainda no tema. Respondendo sim para a pergunta anterior, em relação as quadras, independente da quantidade, todas são cobertas?\r\n"
      ]
    },
    {
      "cell_type": "code",
      "metadata": {
        "colab": {
          "base_uri": "https://localhost:8080/"
        },
        "id": "MCFhfQnoSRVt",
        "outputId": "a9f3ebb7-69b4-4430-f66b-b55c0160f523"
      },
      "source": [
        "num_quadra_coberta = dados.query(\"VE01P15A == 1 and VE01P17A == 5\")\r\n",
        "num_quadra_coberta = num_quadra_coberta.shape[0]\r\n",
        "print(f\"Temos que das 12716 escolas que responderam possuir quadra,\\n\\\r\n",
        "{num_quadra_coberta} delas são cobertas, independentemente da quantidade \\\r\n",
        "existente, representando  cerca de {(num_quadra_coberta/12716)*100:.2f} %.\")"
      ],
      "execution_count": 84,
      "outputs": [
        {
          "output_type": "stream",
          "text": [
            "Temos que das 12716 escolas que responderam possuir quadra,\n",
            "399 delas são cobertas, independentemente da quantidade existente, representando  cerca de 3.14 %.\n"
          ],
          "name": "stdout"
        }
      ]
    },
    {
      "cell_type": "markdown",
      "metadata": {
        "id": "8NPVjO-oWpjW"
      },
      "source": [
        "##3 - A escola e os alunos com atenção especial. Como é essa relação?"
      ]
    },
    {
      "cell_type": "markdown",
      "metadata": {
        "id": "-S4nftlnW13Q"
      },
      "source": [
        "Vamos entender um pouco melhor como as escolas responderam as perguntas referentes a alunos que necessitam de uma atenção maior. Perguntas do tipo: se o aluno possui deficiência, se a escola oferece atividades fisicas voltadas especificamente a criança e etc."
      ]
    },
    {
      "cell_type": "markdown",
      "metadata": {
        "id": "dfJ0YjXfX5-p"
      },
      "source": [
        "#### 3.1 - A escola possui alunos com deficiência ou com transtorno global do desenvolvimento?"
      ]
    },
    {
      "cell_type": "code",
      "metadata": {
        "colab": {
          "base_uri": "https://localhost:8080/",
          "height": 107
        },
        "id": "ucFq7vpqVgAu",
        "outputId": "e79f0040-fb22-4640-a63c-bc02a68b7b15"
      },
      "source": [
        "formated_table(dados[\"VE01P40\"],dicio_VE01P40)"
      ],
      "execution_count": 90,
      "outputs": [
        {
          "output_type": "execute_result",
          "data": {
            "text/html": [
              "<div>\n",
              "<style scoped>\n",
              "    .dataframe tbody tr th:only-of-type {\n",
              "        vertical-align: middle;\n",
              "    }\n",
              "\n",
              "    .dataframe tbody tr th {\n",
              "        vertical-align: top;\n",
              "    }\n",
              "\n",
              "    .dataframe thead th {\n",
              "        text-align: right;\n",
              "    }\n",
              "</style>\n",
              "<table border=\"1\" class=\"dataframe\">\n",
              "  <thead>\n",
              "    <tr style=\"text-align: right;\">\n",
              "      <th></th>\n",
              "      <th>Frequencia</th>\n",
              "      <th>Porcentagem</th>\n",
              "    </tr>\n",
              "  </thead>\n",
              "  <tbody>\n",
              "    <tr>\n",
              "      <th>Sim</th>\n",
              "      <td>14167</td>\n",
              "      <td>85.57</td>\n",
              "    </tr>\n",
              "    <tr>\n",
              "      <th>Não</th>\n",
              "      <td>2389</td>\n",
              "      <td>14.43</td>\n",
              "    </tr>\n",
              "  </tbody>\n",
              "</table>\n",
              "</div>"
            ],
            "text/plain": [
              "     Frequencia  Porcentagem\n",
              "Sim       14167        85.57\n",
              "Não        2389        14.43"
            ]
          },
          "metadata": {
            "tags": []
          },
          "execution_count": 90
        }
      ]
    },
    {
      "cell_type": "markdown",
      "metadata": {
        "id": "7Qhrfps8Yvlu"
      },
      "source": [
        "Temos então que 85.5% das escolas possuem alunos com deficiência. Mas especificamente estão em escolas de que tipo? rede pública ou privada?"
      ]
    },
    {
      "cell_type": "code",
      "metadata": {
        "colab": {
          "base_uri": "https://localhost:8080/",
          "height": 137
        },
        "id": "iFjTwNOeYoL0",
        "outputId": "9012a1c7-eb13-420a-d3de-1a86f0652485"
      },
      "source": [
        "escola_alunos_deficientes  = crosstab_data(dataset1=dados[\"VE01P40\"],\r\n",
        "              dicio1=dicio_VE01P40,\r\n",
        "              dataset2=dados[\"V0007\"],\r\n",
        "              dicio2={1:\"Público\",2:\"Privado\"})\r\n",
        "escola_alunos_deficientes"
      ],
      "execution_count": 98,
      "outputs": [
        {
          "output_type": "execute_result",
          "data": {
            "text/html": [
              "<div>\n",
              "<style scoped>\n",
              "    .dataframe tbody tr th:only-of-type {\n",
              "        vertical-align: middle;\n",
              "    }\n",
              "\n",
              "    .dataframe tbody tr th {\n",
              "        vertical-align: top;\n",
              "    }\n",
              "\n",
              "    .dataframe thead th {\n",
              "        text-align: right;\n",
              "    }\n",
              "</style>\n",
              "<table border=\"1\" class=\"dataframe\">\n",
              "  <thead>\n",
              "    <tr style=\"text-align: right;\">\n",
              "      <th>V0007</th>\n",
              "      <th>Público</th>\n",
              "      <th>Privado</th>\n",
              "    </tr>\n",
              "    <tr>\n",
              "      <th>VE01P40</th>\n",
              "      <th></th>\n",
              "      <th></th>\n",
              "    </tr>\n",
              "  </thead>\n",
              "  <tbody>\n",
              "    <tr>\n",
              "      <th>Sim</th>\n",
              "      <td>75.18</td>\n",
              "      <td>24.82</td>\n",
              "    </tr>\n",
              "    <tr>\n",
              "      <th>Não</th>\n",
              "      <td>72.42</td>\n",
              "      <td>27.58</td>\n",
              "    </tr>\n",
              "  </tbody>\n",
              "</table>\n",
              "</div>"
            ],
            "text/plain": [
              "V0007    Público  Privado\n",
              "VE01P40                  \n",
              "Sim        75.18    24.82\n",
              "Não        72.42    27.58"
            ]
          },
          "metadata": {
            "tags": []
          },
          "execution_count": 98
        }
      ]
    },
    {
      "cell_type": "markdown",
      "metadata": {
        "id": "FrYyu3XZZy0A"
      },
      "source": [
        "Temos então que responderam sim 75% das escolas de ensino Público e 24.82% da rede privada."
      ]
    },
    {
      "cell_type": "markdown",
      "metadata": {
        "id": "oGeigYPQupMX"
      },
      "source": [
        "Abaixo, temos algumas outras peruguntas que foram feitas com relação as escolas e alunos com deficiência\r\n"
      ]
    },
    {
      "cell_type": "markdown",
      "metadata": {
        "id": "FY62ymGAb4wO"
      },
      "source": [
        "A escola possui alunos com deficiência intelectual?"
      ]
    },
    {
      "cell_type": "code",
      "metadata": {
        "colab": {
          "base_uri": "https://localhost:8080/",
          "height": 137
        },
        "id": "1ga4Fe_hpb_H",
        "outputId": "384b75b2-8a0b-4355-ac94-d6df019ad135"
      },
      "source": [
        "formated_table(dados[\"VE01P4101\"],dicio_VE01P4101)"
      ],
      "execution_count": 123,
      "outputs": [
        {
          "output_type": "execute_result",
          "data": {
            "text/html": [
              "<div>\n",
              "<style scoped>\n",
              "    .dataframe tbody tr th:only-of-type {\n",
              "        vertical-align: middle;\n",
              "    }\n",
              "\n",
              "    .dataframe tbody tr th {\n",
              "        vertical-align: top;\n",
              "    }\n",
              "\n",
              "    .dataframe thead th {\n",
              "        text-align: right;\n",
              "    }\n",
              "</style>\n",
              "<table border=\"1\" class=\"dataframe\">\n",
              "  <thead>\n",
              "    <tr style=\"text-align: right;\">\n",
              "      <th></th>\n",
              "      <th>Frequencia</th>\n",
              "      <th>Porcentagem</th>\n",
              "    </tr>\n",
              "  </thead>\n",
              "  <tbody>\n",
              "    <tr>\n",
              "      <th>Sim</th>\n",
              "      <td>10010</td>\n",
              "      <td>60.461</td>\n",
              "    </tr>\n",
              "    <tr>\n",
              "      <th>Não</th>\n",
              "      <td>4157</td>\n",
              "      <td>25.109</td>\n",
              "    </tr>\n",
              "    <tr>\n",
              "      <th>Pulo no questionario</th>\n",
              "      <td>2389</td>\n",
              "      <td>14.430</td>\n",
              "    </tr>\n",
              "  </tbody>\n",
              "</table>\n",
              "</div>"
            ],
            "text/plain": [
              "                      Frequencia  Porcentagem\n",
              "Sim                        10010       60.461\n",
              "Não                         4157       25.109\n",
              "Pulo no questionario        2389       14.430"
            ]
          },
          "metadata": {
            "tags": []
          },
          "execution_count": 123
        }
      ]
    },
    {
      "cell_type": "markdown",
      "metadata": {
        "id": "SsntH3Hkpo5b"
      },
      "source": [
        "A escola possui alunos com transtornos do espectro do autismo?"
      ]
    },
    {
      "cell_type": "code",
      "metadata": {
        "colab": {
          "base_uri": "https://localhost:8080/",
          "height": 137
        },
        "id": "N6JwJkVqprzp",
        "outputId": "d0b2c703-2e44-4d8a-8d64-597467830ebe"
      },
      "source": [
        "formated_table(dados[\"VE01P4102\"],dicio_VE01P4101)"
      ],
      "execution_count": 124,
      "outputs": [
        {
          "output_type": "execute_result",
          "data": {
            "text/html": [
              "<div>\n",
              "<style scoped>\n",
              "    .dataframe tbody tr th:only-of-type {\n",
              "        vertical-align: middle;\n",
              "    }\n",
              "\n",
              "    .dataframe tbody tr th {\n",
              "        vertical-align: top;\n",
              "    }\n",
              "\n",
              "    .dataframe thead th {\n",
              "        text-align: right;\n",
              "    }\n",
              "</style>\n",
              "<table border=\"1\" class=\"dataframe\">\n",
              "  <thead>\n",
              "    <tr style=\"text-align: right;\">\n",
              "      <th></th>\n",
              "      <th>Frequencia</th>\n",
              "      <th>Porcentagem</th>\n",
              "    </tr>\n",
              "  </thead>\n",
              "  <tbody>\n",
              "    <tr>\n",
              "      <th>Não</th>\n",
              "      <td>7834</td>\n",
              "      <td>47.318</td>\n",
              "    </tr>\n",
              "    <tr>\n",
              "      <th>Sim</th>\n",
              "      <td>6333</td>\n",
              "      <td>38.252</td>\n",
              "    </tr>\n",
              "    <tr>\n",
              "      <th>Pulo no questionario</th>\n",
              "      <td>2389</td>\n",
              "      <td>14.430</td>\n",
              "    </tr>\n",
              "  </tbody>\n",
              "</table>\n",
              "</div>"
            ],
            "text/plain": [
              "                      Frequencia  Porcentagem\n",
              "Não                         7834       47.318\n",
              "Sim                         6333       38.252\n",
              "Pulo no questionario        2389       14.430"
            ]
          },
          "metadata": {
            "tags": []
          },
          "execution_count": 124
        }
      ]
    },
    {
      "cell_type": "markdown",
      "metadata": {
        "id": "XFG6RO-wpxvO"
      },
      "source": [
        "A escola possui alunos com transtornos mentais e de comportamento?"
      ]
    },
    {
      "cell_type": "code",
      "metadata": {
        "colab": {
          "base_uri": "https://localhost:8080/",
          "height": 137
        },
        "id": "XPLsDHICp2MI",
        "outputId": "4bf60b9f-fa50-4653-9b1f-7c949cbbaee0"
      },
      "source": [
        "formated_table(dados[\"VE01P4103\"],dicio_VE01P4101)"
      ],
      "execution_count": 125,
      "outputs": [
        {
          "output_type": "execute_result",
          "data": {
            "text/html": [
              "<div>\n",
              "<style scoped>\n",
              "    .dataframe tbody tr th:only-of-type {\n",
              "        vertical-align: middle;\n",
              "    }\n",
              "\n",
              "    .dataframe tbody tr th {\n",
              "        vertical-align: top;\n",
              "    }\n",
              "\n",
              "    .dataframe thead th {\n",
              "        text-align: right;\n",
              "    }\n",
              "</style>\n",
              "<table border=\"1\" class=\"dataframe\">\n",
              "  <thead>\n",
              "    <tr style=\"text-align: right;\">\n",
              "      <th></th>\n",
              "      <th>Frequencia</th>\n",
              "      <th>Porcentagem</th>\n",
              "    </tr>\n",
              "  </thead>\n",
              "  <tbody>\n",
              "    <tr>\n",
              "      <th>Sim</th>\n",
              "      <td>7110</td>\n",
              "      <td>42.945</td>\n",
              "    </tr>\n",
              "    <tr>\n",
              "      <th>Não</th>\n",
              "      <td>7057</td>\n",
              "      <td>42.625</td>\n",
              "    </tr>\n",
              "    <tr>\n",
              "      <th>Pulo no questionario</th>\n",
              "      <td>2389</td>\n",
              "      <td>14.430</td>\n",
              "    </tr>\n",
              "  </tbody>\n",
              "</table>\n",
              "</div>"
            ],
            "text/plain": [
              "                      Frequencia  Porcentagem\n",
              "Sim                         7110       42.945\n",
              "Não                         7057       42.625\n",
              "Pulo no questionario        2389       14.430"
            ]
          },
          "metadata": {
            "tags": []
          },
          "execution_count": 125
        }
      ]
    },
    {
      "cell_type": "markdown",
      "metadata": {
        "id": "VXcouKUkp5pD"
      },
      "source": [
        "A escola possui alunos com deficiência física?"
      ]
    },
    {
      "cell_type": "code",
      "metadata": {
        "colab": {
          "base_uri": "https://localhost:8080/",
          "height": 137
        },
        "id": "n0rVLurAp8qk",
        "outputId": "fcec7a7f-e388-4613-bc1c-de3b84cffe54"
      },
      "source": [
        "formated_table(dados[\"VE01P4104\"],dicio_VE01P4101)"
      ],
      "execution_count": 126,
      "outputs": [
        {
          "output_type": "execute_result",
          "data": {
            "text/html": [
              "<div>\n",
              "<style scoped>\n",
              "    .dataframe tbody tr th:only-of-type {\n",
              "        vertical-align: middle;\n",
              "    }\n",
              "\n",
              "    .dataframe tbody tr th {\n",
              "        vertical-align: top;\n",
              "    }\n",
              "\n",
              "    .dataframe thead th {\n",
              "        text-align: right;\n",
              "    }\n",
              "</style>\n",
              "<table border=\"1\" class=\"dataframe\">\n",
              "  <thead>\n",
              "    <tr style=\"text-align: right;\">\n",
              "      <th></th>\n",
              "      <th>Frequencia</th>\n",
              "      <th>Porcentagem</th>\n",
              "    </tr>\n",
              "  </thead>\n",
              "  <tbody>\n",
              "    <tr>\n",
              "      <th>Sim</th>\n",
              "      <td>8917</td>\n",
              "      <td>53.860</td>\n",
              "    </tr>\n",
              "    <tr>\n",
              "      <th>Não</th>\n",
              "      <td>5250</td>\n",
              "      <td>31.711</td>\n",
              "    </tr>\n",
              "    <tr>\n",
              "      <th>Pulo no questionario</th>\n",
              "      <td>2389</td>\n",
              "      <td>14.430</td>\n",
              "    </tr>\n",
              "  </tbody>\n",
              "</table>\n",
              "</div>"
            ],
            "text/plain": [
              "                      Frequencia  Porcentagem\n",
              "Sim                         8917       53.860\n",
              "Não                         5250       31.711\n",
              "Pulo no questionario        2389       14.430"
            ]
          },
          "metadata": {
            "tags": []
          },
          "execution_count": 126
        }
      ]
    },
    {
      "cell_type": "markdown",
      "metadata": {
        "id": "fLobVyKTqCNe"
      },
      "source": [
        "A escola possui alunos com deficiência auditiva?"
      ]
    },
    {
      "cell_type": "code",
      "metadata": {
        "colab": {
          "base_uri": "https://localhost:8080/",
          "height": 137
        },
        "id": "BoYtRoAYqFsH",
        "outputId": "c546d4e7-0a0d-412b-a403-d8577f2e5945"
      },
      "source": [
        "formated_table(dados[\"VE01P4105\"],dicio_VE01P4101)"
      ],
      "execution_count": 127,
      "outputs": [
        {
          "output_type": "execute_result",
          "data": {
            "text/html": [
              "<div>\n",
              "<style scoped>\n",
              "    .dataframe tbody tr th:only-of-type {\n",
              "        vertical-align: middle;\n",
              "    }\n",
              "\n",
              "    .dataframe tbody tr th {\n",
              "        vertical-align: top;\n",
              "    }\n",
              "\n",
              "    .dataframe thead th {\n",
              "        text-align: right;\n",
              "    }\n",
              "</style>\n",
              "<table border=\"1\" class=\"dataframe\">\n",
              "  <thead>\n",
              "    <tr style=\"text-align: right;\">\n",
              "      <th></th>\n",
              "      <th>Frequencia</th>\n",
              "      <th>Porcentagem</th>\n",
              "    </tr>\n",
              "  </thead>\n",
              "  <tbody>\n",
              "    <tr>\n",
              "      <th>Não</th>\n",
              "      <td>8350</td>\n",
              "      <td>50.435</td>\n",
              "    </tr>\n",
              "    <tr>\n",
              "      <th>Sim</th>\n",
              "      <td>5817</td>\n",
              "      <td>35.135</td>\n",
              "    </tr>\n",
              "    <tr>\n",
              "      <th>Pulo no questionario</th>\n",
              "      <td>2389</td>\n",
              "      <td>14.430</td>\n",
              "    </tr>\n",
              "  </tbody>\n",
              "</table>\n",
              "</div>"
            ],
            "text/plain": [
              "                      Frequencia  Porcentagem\n",
              "Não                         8350       50.435\n",
              "Sim                         5817       35.135\n",
              "Pulo no questionario        2389       14.430"
            ]
          },
          "metadata": {
            "tags": []
          },
          "execution_count": 127
        }
      ]
    },
    {
      "cell_type": "markdown",
      "metadata": {
        "id": "HzD6INluqL5k"
      },
      "source": [
        "A escola possui alunos com deficiência visual?"
      ]
    },
    {
      "cell_type": "code",
      "metadata": {
        "colab": {
          "base_uri": "https://localhost:8080/",
          "height": 137
        },
        "id": "CiqDNxTsqOU0",
        "outputId": "cf1623cc-1bb7-49c7-8b93-bdb60c4c8d93"
      },
      "source": [
        "formated_table(dados[\"VE01P4106\"],dicio_VE01P4101)"
      ],
      "execution_count": 128,
      "outputs": [
        {
          "output_type": "execute_result",
          "data": {
            "text/html": [
              "<div>\n",
              "<style scoped>\n",
              "    .dataframe tbody tr th:only-of-type {\n",
              "        vertical-align: middle;\n",
              "    }\n",
              "\n",
              "    .dataframe tbody tr th {\n",
              "        vertical-align: top;\n",
              "    }\n",
              "\n",
              "    .dataframe thead th {\n",
              "        text-align: right;\n",
              "    }\n",
              "</style>\n",
              "<table border=\"1\" class=\"dataframe\">\n",
              "  <thead>\n",
              "    <tr style=\"text-align: right;\">\n",
              "      <th></th>\n",
              "      <th>Frequencia</th>\n",
              "      <th>Porcentagem</th>\n",
              "    </tr>\n",
              "  </thead>\n",
              "  <tbody>\n",
              "    <tr>\n",
              "      <th>Não</th>\n",
              "      <td>9272</td>\n",
              "      <td>56.004</td>\n",
              "    </tr>\n",
              "    <tr>\n",
              "      <th>Sim</th>\n",
              "      <td>4895</td>\n",
              "      <td>29.566</td>\n",
              "    </tr>\n",
              "    <tr>\n",
              "      <th>Pulo no questionario</th>\n",
              "      <td>2389</td>\n",
              "      <td>14.430</td>\n",
              "    </tr>\n",
              "  </tbody>\n",
              "</table>\n",
              "</div>"
            ],
            "text/plain": [
              "                      Frequencia  Porcentagem\n",
              "Não                         9272       56.004\n",
              "Sim                         4895       29.566\n",
              "Pulo no questionario        2389       14.430"
            ]
          },
          "metadata": {
            "tags": []
          },
          "execution_count": 128
        }
      ]
    },
    {
      "cell_type": "markdown",
      "metadata": {
        "id": "odbgI8lMqSU9"
      },
      "source": [
        "A escola possui alunos com deficiência múltipla (2 ou mais deficiências ao mesmo tempo)?"
      ]
    },
    {
      "cell_type": "code",
      "metadata": {
        "colab": {
          "base_uri": "https://localhost:8080/",
          "height": 137
        },
        "id": "ggfePyrBqXWM",
        "outputId": "7fc76d98-0118-4019-cadd-d1f9318529da"
      },
      "source": [
        "formated_table(dados[\"VE01P4107\"],dicio_VE01P4101)"
      ],
      "execution_count": 129,
      "outputs": [
        {
          "output_type": "execute_result",
          "data": {
            "text/html": [
              "<div>\n",
              "<style scoped>\n",
              "    .dataframe tbody tr th:only-of-type {\n",
              "        vertical-align: middle;\n",
              "    }\n",
              "\n",
              "    .dataframe tbody tr th {\n",
              "        vertical-align: top;\n",
              "    }\n",
              "\n",
              "    .dataframe thead th {\n",
              "        text-align: right;\n",
              "    }\n",
              "</style>\n",
              "<table border=\"1\" class=\"dataframe\">\n",
              "  <thead>\n",
              "    <tr style=\"text-align: right;\">\n",
              "      <th></th>\n",
              "      <th>Frequencia</th>\n",
              "      <th>Porcentagem</th>\n",
              "    </tr>\n",
              "  </thead>\n",
              "  <tbody>\n",
              "    <tr>\n",
              "      <th>Não</th>\n",
              "      <td>10089</td>\n",
              "      <td>60.939</td>\n",
              "    </tr>\n",
              "    <tr>\n",
              "      <th>Sim</th>\n",
              "      <td>4078</td>\n",
              "      <td>24.632</td>\n",
              "    </tr>\n",
              "    <tr>\n",
              "      <th>Pulo no questionario</th>\n",
              "      <td>2389</td>\n",
              "      <td>14.430</td>\n",
              "    </tr>\n",
              "  </tbody>\n",
              "</table>\n",
              "</div>"
            ],
            "text/plain": [
              "                      Frequencia  Porcentagem\n",
              "Não                        10089       60.939\n",
              "Sim                         4078       24.632\n",
              "Pulo no questionario        2389       14.430"
            ]
          },
          "metadata": {
            "tags": []
          },
          "execution_count": 129
        }
      ]
    },
    {
      "cell_type": "markdown",
      "metadata": {
        "id": "Q-E6OI9cqcZb"
      },
      "source": [
        "A escola possui alunos com outras deficiências?"
      ]
    },
    {
      "cell_type": "code",
      "metadata": {
        "colab": {
          "base_uri": "https://localhost:8080/",
          "height": 137
        },
        "id": "PjGJMgelqdfr",
        "outputId": "7e1cb98b-9086-4150-d01e-8049ff8e3b3b"
      },
      "source": [
        "formated_table(dados[\"VE01P4108\"],dicio_VE01P4101)"
      ],
      "execution_count": 130,
      "outputs": [
        {
          "output_type": "execute_result",
          "data": {
            "text/html": [
              "<div>\n",
              "<style scoped>\n",
              "    .dataframe tbody tr th:only-of-type {\n",
              "        vertical-align: middle;\n",
              "    }\n",
              "\n",
              "    .dataframe tbody tr th {\n",
              "        vertical-align: top;\n",
              "    }\n",
              "\n",
              "    .dataframe thead th {\n",
              "        text-align: right;\n",
              "    }\n",
              "</style>\n",
              "<table border=\"1\" class=\"dataframe\">\n",
              "  <thead>\n",
              "    <tr style=\"text-align: right;\">\n",
              "      <th></th>\n",
              "      <th>Frequencia</th>\n",
              "      <th>Porcentagem</th>\n",
              "    </tr>\n",
              "  </thead>\n",
              "  <tbody>\n",
              "    <tr>\n",
              "      <th>Não</th>\n",
              "      <td>11555</td>\n",
              "      <td>69.793</td>\n",
              "    </tr>\n",
              "    <tr>\n",
              "      <th>Sim</th>\n",
              "      <td>2612</td>\n",
              "      <td>15.777</td>\n",
              "    </tr>\n",
              "    <tr>\n",
              "      <th>Pulo no questionario</th>\n",
              "      <td>2389</td>\n",
              "      <td>14.430</td>\n",
              "    </tr>\n",
              "  </tbody>\n",
              "</table>\n",
              "</div>"
            ],
            "text/plain": [
              "                      Frequencia  Porcentagem\n",
              "Não                        11555       69.793\n",
              "Sim                         2612       15.777\n",
              "Pulo no questionario        2389       14.430"
            ]
          },
          "metadata": {
            "tags": []
          },
          "execution_count": 130
        }
      ]
    },
    {
      "cell_type": "markdown",
      "metadata": {
        "id": "tKYXyIurqh2A"
      },
      "source": [
        "A escola oferece atividade física adaptada para alunos com deficiência?"
      ]
    },
    {
      "cell_type": "code",
      "metadata": {
        "colab": {
          "base_uri": "https://localhost:8080/",
          "height": 137
        },
        "id": "g3Ezh2Fwqjtk",
        "outputId": "091bd4cd-8d2c-44f1-c78f-e6ac1eed2226"
      },
      "source": [
        "formated_table(dados[\"VE01P42\"],dicio_VE01P4101)"
      ],
      "execution_count": 131,
      "outputs": [
        {
          "output_type": "execute_result",
          "data": {
            "text/html": [
              "<div>\n",
              "<style scoped>\n",
              "    .dataframe tbody tr th:only-of-type {\n",
              "        vertical-align: middle;\n",
              "    }\n",
              "\n",
              "    .dataframe tbody tr th {\n",
              "        vertical-align: top;\n",
              "    }\n",
              "\n",
              "    .dataframe thead th {\n",
              "        text-align: right;\n",
              "    }\n",
              "</style>\n",
              "<table border=\"1\" class=\"dataframe\">\n",
              "  <thead>\n",
              "    <tr style=\"text-align: right;\">\n",
              "      <th></th>\n",
              "      <th>Frequencia</th>\n",
              "      <th>Porcentagem</th>\n",
              "    </tr>\n",
              "  </thead>\n",
              "  <tbody>\n",
              "    <tr>\n",
              "      <th>Não</th>\n",
              "      <td>8228</td>\n",
              "      <td>49.698</td>\n",
              "    </tr>\n",
              "    <tr>\n",
              "      <th>Sim</th>\n",
              "      <td>5939</td>\n",
              "      <td>35.872</td>\n",
              "    </tr>\n",
              "    <tr>\n",
              "      <th>Pulo no questionario</th>\n",
              "      <td>2389</td>\n",
              "      <td>14.430</td>\n",
              "    </tr>\n",
              "  </tbody>\n",
              "</table>\n",
              "</div>"
            ],
            "text/plain": [
              "                      Frequencia  Porcentagem\n",
              "Não                         8228       49.698\n",
              "Sim                         5939       35.872\n",
              "Pulo no questionario        2389       14.430"
            ]
          },
          "metadata": {
            "tags": []
          },
          "execution_count": 131
        }
      ]
    },
    {
      "cell_type": "code",
      "metadata": {
        "id": "godi009dpJmf"
      },
      "source": [
        ""
      ],
      "execution_count": null,
      "outputs": []
    }
  ]
}