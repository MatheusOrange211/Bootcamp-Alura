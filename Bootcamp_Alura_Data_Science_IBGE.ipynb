{
  "nbformat": 4,
  "nbformat_minor": 0,
  "metadata": {
    "colab": {
      "name": "Bootcamp Alura Data Science IBGE",
      "provenance": [],
      "collapsed_sections": [
        "WBQmJgZTH5BI",
        "a9lklvYmH9mY"
      ],
      "mount_file_id": "1kZeLpsakJt_9lMnIDPlOkVlkOp-5QhkN",
      "authorship_tag": "ABX9TyPTBPdNOFEZYRwvndW1ipCl",
      "include_colab_link": true
    },
    "kernelspec": {
      "name": "python3",
      "display_name": "Python 3"
    }
  },
  "cells": [
    {
      "cell_type": "markdown",
      "metadata": {
        "id": "view-in-github",
        "colab_type": "text"
      },
      "source": [
        "<a href=\"https://colab.research.google.com/github/MatheusOrange211/Bootcamp-Alura/blob/main/Bootcamp_Alura_Data_Science_IBGE.ipynb\" target=\"_parent\"><img src=\"https://colab.research.google.com/assets/colab-badge.svg\" alt=\"Open In Colab\"/></a>"
      ]
    },
    {
      "cell_type": "markdown",
      "metadata": {
        "id": "WSxJndMzQeNM"
      },
      "source": [
        "# **ANALISANDO DADOS DO PenSE- IBGE**\n",
        "\n",
        ">estudando **ESTATÍSTICA** e usando a **Pesquisa Nacional de Saúde do Escolar** de **2015** disponível no site do [IBGE](https://www.ibge.gov.br/estatisticas/downloads-estatisticas.html?caminho=pense/2015/microdados/)<br>\n",
        "\n",
        "Autor: Matheus Naranjo Corrêa\n",
        "\n",
        "* [Linkedln](https://www.linkedin.com/in/matheus-naranjo-35ab22188/)\n",
        "* [Github](https://github.com/MatheusOrange211)\n",
        "\n",
        "\n",
        "\n",
        "**O que é o PenSE 2015** ?\n",
        ">Investiga informações que permitem conhecer e dimensionar os fatores de risco e proteção à saúde dos adolescentes. A pesquisa é realizada por amostragem, utilizando como referência para seleção o cadastro das escolas públicas e privadas do Instituto Nacional de Estudos e Pesquisas Educacionais Anísio Teixeira - INEP.  \n",
        "<br>\n",
        "A Pesquisa Nacional de Saúde do Escolar - PeNSE teve início em 2009, fruto de parceria com o Ministério da Saúde e apoio do Ministério da Educação. Na primeira edição, os escolares do 9o ano do ensino fundamental (antiga 8a série) das escolas públicas e privadas dos Municípios das Capitais constituíram sua população-alvo. A escolha do 9o ano do ensino fundamental, cabe destacar, teve como justificativa o mínimo da escolarização necessária para responder questionário autoaplicável e também a proximidade da idade de referência preconizada pela Organização Mundial da Saúde - OMS (World Health Organization - WHO), que é de 13 a 15 anos.<br>\n",
        "Em 2012, embora mantida sua população-alvo, a PeNSE passou a abarcar dados para o conjunto do País e as Grandes Regiões, e a investigar, também, algumas características do ambiente escolar e do entorno. Na edição de 2015, importantes inovações foram introduzidas na pesquisa, dentre as quais se destaca a disponibilização de informações oriundas de dois planos amostrais distintos: escolares frequentando o 9o ano do ensino fundamental e escolares de 13 a 17 anos de idade frequentando as etapas do 6o ao 9o ano do ensino fundamental (antigas 5a a 8a séries) e da 1a a 3a série do ensino médio.\n",
        "<br>Mais informações, clique [aqui](https://www.ibge.gov.br/estatisticas/sociais/educacao/9134-pesquisa-nacional-de-saude-do-escolar.html?=&t=o-que-e)"
      ]
    },
    {
      "cell_type": "markdown",
      "metadata": {
        "id": "GNtA37AG6R9O"
      },
      "source": [
        "# MODULO 4 📙\n",
        "---\n",
        "**ANÁLISE DESCRITIVA E TESTES ESTATÍSTICOS**"
      ]
    },
    {
      "cell_type": "markdown",
      "metadata": {
        "id": "3V6F_KDJ0dMg"
      },
      "source": [
        "## AULA 1 : Educação, Saúde e Tipo de dados\n",
        "---\n"
      ]
    },
    {
      "cell_type": "markdown",
      "metadata": {
        "id": "LVRj4W9vWT0e"
      },
      "source": [
        "> Importando bibliotecas e dados"
      ]
    },
    {
      "cell_type": "code",
      "metadata": {
        "id": "y5MjlTDaQZUF"
      },
      "source": [
        "import pandas as pd\n",
        "from zipfile import ZipFile #usaremos esta lib para descompactar arquivos\n",
        "import numpy as np\n",
        "import matplotlib.pyplot as plt\n",
        "from matplotlib import ticker\n",
        "import seaborn as sns"
      ],
      "execution_count": 1,
      "outputs": []
    },
    {
      "cell_type": "markdown",
      "metadata": {
        "id": "E3QjKKfbWae3"
      },
      "source": [
        "diferente dos outros módulos onde a gente puxava os arquivos diretamente do nosso github ou mesmo diretamente de um arquivo csv, aqui, por conta do tamanho do nosso arquivo que é maior que o limite de commits permitido pelo github(25 Mb), teremos que fazer o upload para nosso google drive, depois, iremos criar uma conexão do nosso Drive com o nosso Colab. Feito isso, copiamos o caminho. Agora, temos outro desafio: nosso arquivo está zipado, o que significa que um simples read_csv() não funcionará. Precisamos então descompactar ele com o zipfile."
      ]
    },
    {
      "cell_type": "code",
      "metadata": {
        "id": "vEwQqUMCRAWY"
      },
      "source": [
        "caminho = '/content/drive/MyDrive/bootcamp-modulo3/PeNSE_2015_AMOSTRA2.zip'\n",
        "zip = ZipFile(caminho)"
      ],
      "execution_count": 2,
      "outputs": []
    },
    {
      "cell_type": "markdown",
      "metadata": {
        "id": "ygfSqLYLYnGO"
      },
      "source": [
        "Precisamos então, antes de descompactar, saber o que temos no nosso .zip, afinal, com o que trabalharemos? que dados há ali dentro? que tipos de extensões? vamos então usar **ZipFile.namelist()** para descobrir isso!"
      ]
    },
    {
      "cell_type": "code",
      "metadata": {
        "colab": {
          "base_uri": "https://localhost:8080/"
        },
        "id": "pRB2CtwpY359",
        "outputId": "e4b02b9a-3ab2-4296-a1f9-7c0644ec52b7"
      },
      "source": [
        "zip.namelist()"
      ],
      "execution_count": 3,
      "outputs": [
        {
          "output_type": "execute_result",
          "data": {
            "text/plain": [
              "['arquivos csv/',\n",
              " 'arquivos csv/PENSE_AMOSTRA2_ALUNO.CSV',\n",
              " 'arquivos csv/PENSE_AMOSTRA2_ALUNOESCOLA.CSV',\n",
              " 'arquivos csv/PENSE_AMOSTRA2_ESCOLA.CSV',\n",
              " 'arquivos sas/',\n",
              " 'arquivos sas/pense_amostra2_aluno.sas7bdat',\n",
              " 'arquivos sas/pense_amostra2_alunoescola.sas7bdat',\n",
              " 'arquivos sas/pense_amostra2_escola.sas7bdat',\n",
              " 'arquivos xlsx/',\n",
              " 'arquivos xlsx/PENSE_AMOSTRA2_ALUNO.xlsx',\n",
              " 'arquivos xlsx/PENSE_AMOSTRA2_ALUNOESCOLA.xlsx',\n",
              " 'arquivos xlsx/PENSE_AMOSTRA2_ESCOLA.xlsx',\n",
              " 'Dicionario_PENSE_Microdados_AMOSTRA2.xls']"
            ]
          },
          "metadata": {
            "tags": []
          },
          "execution_count": 3
        }
      ]
    },
    {
      "cell_type": "markdown",
      "metadata": {
        "id": "WF90cZV6ZFtH"
      },
      "source": [
        "Nos é retornada uma lista de arquivos dos quais temos a nossa disposição. Agora, podemos finalmente usar o read_csv do pandas. Como temos uma lista aí, podemos pegar o elemento de indice [1] ou [2] e por ai vai."
      ]
    },
    {
      "cell_type": "code",
      "metadata": {
        "colab": {
          "base_uri": "https://localhost:8080/",
          "height": 253
        },
        "id": "PC5eKg6qY5uv",
        "outputId": "a6c86e26-b859-4079-ff45-e98f5b4c6d95"
      },
      "source": [
        "caminho_pasta_zipada = zip.namelist()[1]\n",
        "\n",
        "#zip.open abrirá o caminho, que está na variavel, que contem o nome do arquivo e a extensão, que será lido pelo pandas.\n",
        "#passamos então nosso separador, footer e outras coisas que sejam necessárias para leitura completa\n",
        "dados = pd.read_csv(zip.open(caminho_pasta_zipada),sep=';',thousands='.',decimal=',') \n",
        "dados.head()"
      ],
      "execution_count": 4,
      "outputs": [
        {
          "output_type": "execute_result",
          "data": {
            "text/html": [
              "<div>\n",
              "<style scoped>\n",
              "    .dataframe tbody tr th:only-of-type {\n",
              "        vertical-align: middle;\n",
              "    }\n",
              "\n",
              "    .dataframe tbody tr th {\n",
              "        vertical-align: top;\n",
              "    }\n",
              "\n",
              "    .dataframe thead th {\n",
              "        text-align: right;\n",
              "    }\n",
              "</style>\n",
              "<table border=\"1\" class=\"dataframe\">\n",
              "  <thead>\n",
              "    <tr style=\"text-align: right;\">\n",
              "      <th></th>\n",
              "      <th>ANOPESQ</th>\n",
              "      <th>PAIS</th>\n",
              "      <th>REGEOGR</th>\n",
              "      <th>VB00004</th>\n",
              "      <th>VB01001</th>\n",
              "      <th>VB01002</th>\n",
              "      <th>VB01003</th>\n",
              "      <th>VB01004</th>\n",
              "      <th>VB01005</th>\n",
              "      <th>VB01006</th>\n",
              "      <th>VB01007</th>\n",
              "      <th>VB01008A</th>\n",
              "      <th>VB01010A</th>\n",
              "      <th>VB01011</th>\n",
              "      <th>VB01012</th>\n",
              "      <th>VB01013</th>\n",
              "      <th>VB01014</th>\n",
              "      <th>VB01015A</th>\n",
              "      <th>VB01016</th>\n",
              "      <th>VB01017</th>\n",
              "      <th>VB01018</th>\n",
              "      <th>VB01019</th>\n",
              "      <th>VB01020A</th>\n",
              "      <th>VB01021</th>\n",
              "      <th>VB01022</th>\n",
              "      <th>VB01023</th>\n",
              "      <th>VB01024</th>\n",
              "      <th>VB01025</th>\n",
              "      <th>VB01026</th>\n",
              "      <th>VB02001</th>\n",
              "      <th>VB02002</th>\n",
              "      <th>VB02004A</th>\n",
              "      <th>VB02010</th>\n",
              "      <th>VB02011</th>\n",
              "      <th>VB02013</th>\n",
              "      <th>VB02017A</th>\n",
              "      <th>VB02018A</th>\n",
              "      <th>VB02019A</th>\n",
              "      <th>VB02020A</th>\n",
              "      <th>VB02021</th>\n",
              "      <th>...</th>\n",
              "      <th>VB11005</th>\n",
              "      <th>VB11006</th>\n",
              "      <th>VB11007</th>\n",
              "      <th>VB12001</th>\n",
              "      <th>VB12002</th>\n",
              "      <th>VB12003</th>\n",
              "      <th>VB13001</th>\n",
              "      <th>VB13002A</th>\n",
              "      <th>VB13004A</th>\n",
              "      <th>VB13005</th>\n",
              "      <th>VB13006</th>\n",
              "      <th>VB13007</th>\n",
              "      <th>VB13008</th>\n",
              "      <th>VB13009</th>\n",
              "      <th>VB14001</th>\n",
              "      <th>VB14002</th>\n",
              "      <th>VB16001A01</th>\n",
              "      <th>VB16001A02</th>\n",
              "      <th>VB16001A03</th>\n",
              "      <th>VB16001A04</th>\n",
              "      <th>VB16001A05</th>\n",
              "      <th>VB16001A06</th>\n",
              "      <th>VB16001A07</th>\n",
              "      <th>VB16001A08</th>\n",
              "      <th>VB17001</th>\n",
              "      <th>VB17002</th>\n",
              "      <th>VB17003</th>\n",
              "      <th>VB17004</th>\n",
              "      <th>VB17005</th>\n",
              "      <th>VB17006</th>\n",
              "      <th>ESTRATO_EXP</th>\n",
              "      <th>ESTRATOGEOREG</th>\n",
              "      <th>PESO</th>\n",
              "      <th>V0006</th>\n",
              "      <th>V0007</th>\n",
              "      <th>V0008</th>\n",
              "      <th>V0041</th>\n",
              "      <th>aluno</th>\n",
              "      <th>escola</th>\n",
              "      <th>turma</th>\n",
              "    </tr>\n",
              "  </thead>\n",
              "  <tbody>\n",
              "    <tr>\n",
              "      <th>0</th>\n",
              "      <td>2015</td>\n",
              "      <td>76</td>\n",
              "      <td>1</td>\n",
              "      <td>1</td>\n",
              "      <td>2</td>\n",
              "      <td>1</td>\n",
              "      <td>13</td>\n",
              "      <td>7</td>\n",
              "      <td>7</td>\n",
              "      <td>1</td>\n",
              "      <td>2</td>\n",
              "      <td>7</td>\n",
              "      <td>3</td>\n",
              "      <td>2</td>\n",
              "      <td>-1</td>\n",
              "      <td>1</td>\n",
              "      <td>1</td>\n",
              "      <td>1</td>\n",
              "      <td>1</td>\n",
              "      <td>1</td>\n",
              "      <td>2</td>\n",
              "      <td>4</td>\n",
              "      <td>2</td>\n",
              "      <td>4</td>\n",
              "      <td>1</td>\n",
              "      <td>2</td>\n",
              "      <td>2</td>\n",
              "      <td>5</td>\n",
              "      <td>1</td>\n",
              "      <td>8</td>\n",
              "      <td>3</td>\n",
              "      <td>4</td>\n",
              "      <td>3</td>\n",
              "      <td>6</td>\n",
              "      <td>6</td>\n",
              "      <td>1</td>\n",
              "      <td>6</td>\n",
              "      <td>1</td>\n",
              "      <td>-1</td>\n",
              "      <td>2</td>\n",
              "      <td>...</td>\n",
              "      <td>2</td>\n",
              "      <td>1</td>\n",
              "      <td>2</td>\n",
              "      <td>1</td>\n",
              "      <td>1</td>\n",
              "      <td>4</td>\n",
              "      <td>2</td>\n",
              "      <td>-1</td>\n",
              "      <td>3</td>\n",
              "      <td>1</td>\n",
              "      <td>1</td>\n",
              "      <td>-1</td>\n",
              "      <td>1</td>\n",
              "      <td>1</td>\n",
              "      <td>2</td>\n",
              "      <td>2</td>\n",
              "      <td>1</td>\n",
              "      <td>2</td>\n",
              "      <td>2</td>\n",
              "      <td>2</td>\n",
              "      <td>2</td>\n",
              "      <td>2</td>\n",
              "      <td>2</td>\n",
              "      <td>2</td>\n",
              "      <td>371.0</td>\n",
              "      <td>1570.0</td>\n",
              "      <td>37.1</td>\n",
              "      <td>157.0</td>\n",
              "      <td>2</td>\n",
              "      <td>1</td>\n",
              "      <td>1223</td>\n",
              "      <td>1</td>\n",
              "      <td>299.735235</td>\n",
              "      <td>1</td>\n",
              "      <td>2</td>\n",
              "      <td>4</td>\n",
              "      <td>1</td>\n",
              "      <td>1</td>\n",
              "      <td>1</td>\n",
              "      <td>296</td>\n",
              "    </tr>\n",
              "    <tr>\n",
              "      <th>1</th>\n",
              "      <td>2015</td>\n",
              "      <td>76</td>\n",
              "      <td>1</td>\n",
              "      <td>1</td>\n",
              "      <td>2</td>\n",
              "      <td>1</td>\n",
              "      <td>14</td>\n",
              "      <td>4</td>\n",
              "      <td>7</td>\n",
              "      <td>1</td>\n",
              "      <td>1</td>\n",
              "      <td>7</td>\n",
              "      <td>3</td>\n",
              "      <td>2</td>\n",
              "      <td>-1</td>\n",
              "      <td>1</td>\n",
              "      <td>1</td>\n",
              "      <td>1</td>\n",
              "      <td>1</td>\n",
              "      <td>1</td>\n",
              "      <td>2</td>\n",
              "      <td>2</td>\n",
              "      <td>2</td>\n",
              "      <td>4</td>\n",
              "      <td>1</td>\n",
              "      <td>2</td>\n",
              "      <td>2</td>\n",
              "      <td>5</td>\n",
              "      <td>3</td>\n",
              "      <td>8</td>\n",
              "      <td>2</td>\n",
              "      <td>1</td>\n",
              "      <td>8</td>\n",
              "      <td>8</td>\n",
              "      <td>6</td>\n",
              "      <td>1</td>\n",
              "      <td>1</td>\n",
              "      <td>5</td>\n",
              "      <td>-1</td>\n",
              "      <td>2</td>\n",
              "      <td>...</td>\n",
              "      <td>2</td>\n",
              "      <td>3</td>\n",
              "      <td>2</td>\n",
              "      <td>4</td>\n",
              "      <td>4</td>\n",
              "      <td>4</td>\n",
              "      <td>1</td>\n",
              "      <td>2</td>\n",
              "      <td>3</td>\n",
              "      <td>3</td>\n",
              "      <td>1</td>\n",
              "      <td>-1</td>\n",
              "      <td>1</td>\n",
              "      <td>1</td>\n",
              "      <td>2</td>\n",
              "      <td>2</td>\n",
              "      <td>2</td>\n",
              "      <td>2</td>\n",
              "      <td>2</td>\n",
              "      <td>1</td>\n",
              "      <td>2</td>\n",
              "      <td>2</td>\n",
              "      <td>2</td>\n",
              "      <td>2</td>\n",
              "      <td>502.0</td>\n",
              "      <td>1520.0</td>\n",
              "      <td>50.2</td>\n",
              "      <td>152.0</td>\n",
              "      <td>2</td>\n",
              "      <td>2</td>\n",
              "      <td>1223</td>\n",
              "      <td>1</td>\n",
              "      <td>355.170081</td>\n",
              "      <td>1</td>\n",
              "      <td>2</td>\n",
              "      <td>4</td>\n",
              "      <td>1</td>\n",
              "      <td>2</td>\n",
              "      <td>1</td>\n",
              "      <td>296</td>\n",
              "    </tr>\n",
              "    <tr>\n",
              "      <th>2</th>\n",
              "      <td>2015</td>\n",
              "      <td>76</td>\n",
              "      <td>1</td>\n",
              "      <td>1</td>\n",
              "      <td>1</td>\n",
              "      <td>4</td>\n",
              "      <td>13</td>\n",
              "      <td>6</td>\n",
              "      <td>7</td>\n",
              "      <td>1</td>\n",
              "      <td>1</td>\n",
              "      <td>5</td>\n",
              "      <td>5</td>\n",
              "      <td>2</td>\n",
              "      <td>-1</td>\n",
              "      <td>2</td>\n",
              "      <td>1</td>\n",
              "      <td>1</td>\n",
              "      <td>1</td>\n",
              "      <td>1</td>\n",
              "      <td>2</td>\n",
              "      <td>3</td>\n",
              "      <td>1</td>\n",
              "      <td>4</td>\n",
              "      <td>1</td>\n",
              "      <td>2</td>\n",
              "      <td>2</td>\n",
              "      <td>5</td>\n",
              "      <td>3</td>\n",
              "      <td>2</td>\n",
              "      <td>3</td>\n",
              "      <td>1</td>\n",
              "      <td>8</td>\n",
              "      <td>2</td>\n",
              "      <td>8</td>\n",
              "      <td>1</td>\n",
              "      <td>1</td>\n",
              "      <td>5</td>\n",
              "      <td>5</td>\n",
              "      <td>1</td>\n",
              "      <td>...</td>\n",
              "      <td>2</td>\n",
              "      <td>1</td>\n",
              "      <td>2</td>\n",
              "      <td>1</td>\n",
              "      <td>2</td>\n",
              "      <td>3</td>\n",
              "      <td>1</td>\n",
              "      <td>2</td>\n",
              "      <td>1</td>\n",
              "      <td>2</td>\n",
              "      <td>5</td>\n",
              "      <td>99</td>\n",
              "      <td>1</td>\n",
              "      <td>-1</td>\n",
              "      <td>2</td>\n",
              "      <td>2</td>\n",
              "      <td>1</td>\n",
              "      <td>1</td>\n",
              "      <td>1</td>\n",
              "      <td>1</td>\n",
              "      <td>1</td>\n",
              "      <td>1</td>\n",
              "      <td>1</td>\n",
              "      <td>1</td>\n",
              "      <td>482.0</td>\n",
              "      <td>1614.0</td>\n",
              "      <td>48.2</td>\n",
              "      <td>161.4</td>\n",
              "      <td>2</td>\n",
              "      <td>2</td>\n",
              "      <td>1223</td>\n",
              "      <td>1</td>\n",
              "      <td>299.735235</td>\n",
              "      <td>1</td>\n",
              "      <td>2</td>\n",
              "      <td>4</td>\n",
              "      <td>1</td>\n",
              "      <td>3</td>\n",
              "      <td>1</td>\n",
              "      <td>296</td>\n",
              "    </tr>\n",
              "    <tr>\n",
              "      <th>3</th>\n",
              "      <td>2015</td>\n",
              "      <td>76</td>\n",
              "      <td>1</td>\n",
              "      <td>1</td>\n",
              "      <td>1</td>\n",
              "      <td>1</td>\n",
              "      <td>14</td>\n",
              "      <td>6</td>\n",
              "      <td>7</td>\n",
              "      <td>1</td>\n",
              "      <td>1</td>\n",
              "      <td>7</td>\n",
              "      <td>4</td>\n",
              "      <td>2</td>\n",
              "      <td>-1</td>\n",
              "      <td>1</td>\n",
              "      <td>1</td>\n",
              "      <td>1</td>\n",
              "      <td>1</td>\n",
              "      <td>1</td>\n",
              "      <td>2</td>\n",
              "      <td>4</td>\n",
              "      <td>2</td>\n",
              "      <td>4</td>\n",
              "      <td>1</td>\n",
              "      <td>2</td>\n",
              "      <td>2</td>\n",
              "      <td>6</td>\n",
              "      <td>3</td>\n",
              "      <td>2</td>\n",
              "      <td>4</td>\n",
              "      <td>1</td>\n",
              "      <td>3</td>\n",
              "      <td>2</td>\n",
              "      <td>7</td>\n",
              "      <td>1</td>\n",
              "      <td>5</td>\n",
              "      <td>1</td>\n",
              "      <td>-1</td>\n",
              "      <td>2</td>\n",
              "      <td>...</td>\n",
              "      <td>2</td>\n",
              "      <td>1</td>\n",
              "      <td>2</td>\n",
              "      <td>2</td>\n",
              "      <td>2</td>\n",
              "      <td>4</td>\n",
              "      <td>1</td>\n",
              "      <td>10</td>\n",
              "      <td>3</td>\n",
              "      <td>1</td>\n",
              "      <td>2</td>\n",
              "      <td>-1</td>\n",
              "      <td>1</td>\n",
              "      <td>-1</td>\n",
              "      <td>2</td>\n",
              "      <td>2</td>\n",
              "      <td>1</td>\n",
              "      <td>2</td>\n",
              "      <td>2</td>\n",
              "      <td>2</td>\n",
              "      <td>1</td>\n",
              "      <td>2</td>\n",
              "      <td>2</td>\n",
              "      <td>2</td>\n",
              "      <td>694.0</td>\n",
              "      <td>1725.0</td>\n",
              "      <td>69.4</td>\n",
              "      <td>172.5</td>\n",
              "      <td>2</td>\n",
              "      <td>3</td>\n",
              "      <td>1223</td>\n",
              "      <td>1</td>\n",
              "      <td>355.170081</td>\n",
              "      <td>1</td>\n",
              "      <td>2</td>\n",
              "      <td>4</td>\n",
              "      <td>1</td>\n",
              "      <td>4</td>\n",
              "      <td>1</td>\n",
              "      <td>296</td>\n",
              "    </tr>\n",
              "    <tr>\n",
              "      <th>4</th>\n",
              "      <td>2015</td>\n",
              "      <td>76</td>\n",
              "      <td>1</td>\n",
              "      <td>1</td>\n",
              "      <td>1</td>\n",
              "      <td>1</td>\n",
              "      <td>13</td>\n",
              "      <td>9</td>\n",
              "      <td>7</td>\n",
              "      <td>1</td>\n",
              "      <td>2</td>\n",
              "      <td>5</td>\n",
              "      <td>4</td>\n",
              "      <td>2</td>\n",
              "      <td>-1</td>\n",
              "      <td>2</td>\n",
              "      <td>1</td>\n",
              "      <td>1</td>\n",
              "      <td>1</td>\n",
              "      <td>1</td>\n",
              "      <td>2</td>\n",
              "      <td>5</td>\n",
              "      <td>1</td>\n",
              "      <td>4</td>\n",
              "      <td>1</td>\n",
              "      <td>2</td>\n",
              "      <td>2</td>\n",
              "      <td>6</td>\n",
              "      <td>5</td>\n",
              "      <td>6</td>\n",
              "      <td>3</td>\n",
              "      <td>5</td>\n",
              "      <td>2</td>\n",
              "      <td>6</td>\n",
              "      <td>2</td>\n",
              "      <td>1</td>\n",
              "      <td>5</td>\n",
              "      <td>1</td>\n",
              "      <td>5</td>\n",
              "      <td>1</td>\n",
              "      <td>...</td>\n",
              "      <td>2</td>\n",
              "      <td>1</td>\n",
              "      <td>4</td>\n",
              "      <td>2</td>\n",
              "      <td>2</td>\n",
              "      <td>4</td>\n",
              "      <td>1</td>\n",
              "      <td>3</td>\n",
              "      <td>2</td>\n",
              "      <td>2</td>\n",
              "      <td>2</td>\n",
              "      <td>13</td>\n",
              "      <td>1</td>\n",
              "      <td>-1</td>\n",
              "      <td>1</td>\n",
              "      <td>2</td>\n",
              "      <td>1</td>\n",
              "      <td>1</td>\n",
              "      <td>1</td>\n",
              "      <td>1</td>\n",
              "      <td>1</td>\n",
              "      <td>1</td>\n",
              "      <td>1</td>\n",
              "      <td>1</td>\n",
              "      <td>789.0</td>\n",
              "      <td>1675.0</td>\n",
              "      <td>78.9</td>\n",
              "      <td>167.5</td>\n",
              "      <td>2</td>\n",
              "      <td>4</td>\n",
              "      <td>1223</td>\n",
              "      <td>1</td>\n",
              "      <td>299.735235</td>\n",
              "      <td>1</td>\n",
              "      <td>2</td>\n",
              "      <td>4</td>\n",
              "      <td>1</td>\n",
              "      <td>5</td>\n",
              "      <td>1</td>\n",
              "      <td>296</td>\n",
              "    </tr>\n",
              "  </tbody>\n",
              "</table>\n",
              "<p>5 rows × 181 columns</p>\n",
              "</div>"
            ],
            "text/plain": [
              "   ANOPESQ  PAIS  REGEOGR  VB00004  VB01001  ...  V0008  V0041  aluno  escola  turma\n",
              "0     2015    76        1        1        2  ...      4      1      1       1    296\n",
              "1     2015    76        1        1        2  ...      4      1      2       1    296\n",
              "2     2015    76        1        1        1  ...      4      1      3       1    296\n",
              "3     2015    76        1        1        1  ...      4      1      4       1    296\n",
              "4     2015    76        1        1        1  ...      4      1      5       1    296\n",
              "\n",
              "[5 rows x 181 columns]"
            ]
          },
          "metadata": {
            "tags": []
          },
          "execution_count": 4
        }
      ]
    },
    {
      "cell_type": "markdown",
      "metadata": {
        "id": "HB3rao0Dstb7"
      },
      "source": [
        "vejamos os tipos de dados que nós temos em nosso dataset"
      ]
    },
    {
      "cell_type": "code",
      "metadata": {
        "id": "4HbdWgJbbV0N",
        "colab": {
          "base_uri": "https://localhost:8080/"
        },
        "outputId": "65a6003d-c5e9-453c-8f05-2b08de4a9e6c"
      },
      "source": [
        "dados.info()"
      ],
      "execution_count": 5,
      "outputs": [
        {
          "output_type": "stream",
          "text": [
            "<class 'pandas.core.frame.DataFrame'>\n",
            "RangeIndex: 16556 entries, 0 to 16555\n",
            "Columns: 181 entries, ANOPESQ to turma\n",
            "dtypes: float64(10), int64(171)\n",
            "memory usage: 22.9 MB\n"
          ],
          "name": "stdout"
        }
      ]
    },
    {
      "cell_type": "markdown",
      "metadata": {
        "id": "jGyZIUu5utci"
      },
      "source": [
        "vamos ver mais de perto essas 3 colunas reconhecidas como `object`\n",
        "**Nota**: Originalmente, tinhamos 3 colunas do tipo `objects`, contudo, adicionando o `thousands` e `decimal` para converter os valores para o padrão americano, essas infos são modificadas para float."
      ]
    },
    {
      "cell_type": "code",
      "metadata": {
        "id": "DgQ5OEetsy1J"
      },
      "source": [
        "# dados.select_dtypes(include='object')"
      ],
      "execution_count": 6,
      "outputs": []
    },
    {
      "cell_type": "markdown",
      "metadata": {
        "id": "88FrxLON5ssT"
      },
      "source": [
        "### AULA 01 - DESAFIO 01\n",
        "> Descompactar a pasta zipada usando outro método (Dica Allan, é utilizar comandos Bash)"
      ]
    },
    {
      "cell_type": "code",
      "metadata": {
        "colab": {
          "base_uri": "https://localhost:8080/"
        },
        "id": "EjhSgWOd5vI6",
        "outputId": "17d00b6b-d31a-43cf-99e2-058019981823"
      },
      "source": [
        "!ls /content/drive/MyDrive/bootcamp-modulo3  #me retorna o arquivo dentro do diretório que está zipado\n",
        "! unzip /content/drive/MyDrive/bootcamp-modulo3/PeNSE_2015_AMOSTRA2.zip  #descompacta o arquivo"
      ],
      "execution_count": 7,
      "outputs": [
        {
          "output_type": "stream",
          "text": [
            "PeNSE_2015_AMOSTRA2.zip\n",
            "Archive:  /content/drive/MyDrive/bootcamp-modulo3/PeNSE_2015_AMOSTRA2.zip\n",
            "   creating: arquivos csv/\n",
            "  inflating: arquivos csv/PENSE_AMOSTRA2_ALUNO.CSV  \n",
            "  inflating: arquivos csv/PENSE_AMOSTRA2_ALUNOESCOLA.CSV  \n",
            "  inflating: arquivos csv/PENSE_AMOSTRA2_ESCOLA.CSV  \n",
            "   creating: arquivos sas/\n",
            "  inflating: arquivos sas/pense_amostra2_aluno.sas7bdat  \n",
            "  inflating: arquivos sas/pense_amostra2_alunoescola.sas7bdat  \n",
            "  inflating: arquivos sas/pense_amostra2_escola.sas7bdat  \n",
            "   creating: arquivos xlsx/\n",
            "  inflating: arquivos xlsx/PENSE_AMOSTRA2_ALUNO.xlsx  \n",
            "  inflating: arquivos xlsx/PENSE_AMOSTRA2_ALUNOESCOLA.xlsx  \n",
            "  inflating: arquivos xlsx/PENSE_AMOSTRA2_ESCOLA.xlsx  \n",
            "  inflating: Dicionario_PENSE_Microdados_AMOSTRA2.xls  \n"
          ],
          "name": "stdout"
        }
      ]
    },
    {
      "cell_type": "code",
      "metadata": {
        "colab": {
          "base_uri": "https://localhost:8080/"
        },
        "id": "IBQakHvgCkyM",
        "outputId": "a401b89f-4eef-4d3b-ec12-1df326190a78"
      },
      "source": [
        "!ls arquivos\\ csv #o contrabarra veio por conta do espaço (?), alem disso !ls lista  o conteudo de dentro do diretório 'arquivos csv'"
      ],
      "execution_count": 8,
      "outputs": [
        {
          "output_type": "stream",
          "text": [
            "PENSE_AMOSTRA2_ALUNO.CSV\tPENSE_AMOSTRA2_ESCOLA.CSV\n",
            "PENSE_AMOSTRA2_ALUNOESCOLA.CSV\n"
          ],
          "name": "stdout"
        }
      ]
    },
    {
      "cell_type": "code",
      "metadata": {
        "colab": {
          "base_uri": "https://localhost:8080/",
          "height": 439
        },
        "id": "OMyNo7VcCtQD",
        "outputId": "19d5f389-c653-4f5c-f53a-c0c66434b9f2"
      },
      "source": [
        "pd.read_csv('arquivos csv/PENSE_AMOSTRA2_ALUNO.CSV',sep=';') #passo o caminho e o nome do arquivo que desejo ler!"
      ],
      "execution_count": 9,
      "outputs": [
        {
          "output_type": "execute_result",
          "data": {
            "text/html": [
              "<div>\n",
              "<style scoped>\n",
              "    .dataframe tbody tr th:only-of-type {\n",
              "        vertical-align: middle;\n",
              "    }\n",
              "\n",
              "    .dataframe tbody tr th {\n",
              "        vertical-align: top;\n",
              "    }\n",
              "\n",
              "    .dataframe thead th {\n",
              "        text-align: right;\n",
              "    }\n",
              "</style>\n",
              "<table border=\"1\" class=\"dataframe\">\n",
              "  <thead>\n",
              "    <tr style=\"text-align: right;\">\n",
              "      <th></th>\n",
              "      <th>ANOPESQ</th>\n",
              "      <th>PAIS</th>\n",
              "      <th>REGEOGR</th>\n",
              "      <th>VB00004</th>\n",
              "      <th>VB01001</th>\n",
              "      <th>VB01002</th>\n",
              "      <th>VB01003</th>\n",
              "      <th>VB01004</th>\n",
              "      <th>VB01005</th>\n",
              "      <th>VB01006</th>\n",
              "      <th>VB01007</th>\n",
              "      <th>VB01008A</th>\n",
              "      <th>VB01010A</th>\n",
              "      <th>VB01011</th>\n",
              "      <th>VB01012</th>\n",
              "      <th>VB01013</th>\n",
              "      <th>VB01014</th>\n",
              "      <th>VB01015A</th>\n",
              "      <th>VB01016</th>\n",
              "      <th>VB01017</th>\n",
              "      <th>VB01018</th>\n",
              "      <th>VB01019</th>\n",
              "      <th>VB01020A</th>\n",
              "      <th>VB01021</th>\n",
              "      <th>VB01022</th>\n",
              "      <th>VB01023</th>\n",
              "      <th>VB01024</th>\n",
              "      <th>VB01025</th>\n",
              "      <th>VB01026</th>\n",
              "      <th>VB02001</th>\n",
              "      <th>VB02002</th>\n",
              "      <th>VB02004A</th>\n",
              "      <th>VB02010</th>\n",
              "      <th>VB02011</th>\n",
              "      <th>VB02013</th>\n",
              "      <th>VB02017A</th>\n",
              "      <th>VB02018A</th>\n",
              "      <th>VB02019A</th>\n",
              "      <th>VB02020A</th>\n",
              "      <th>VB02021</th>\n",
              "      <th>...</th>\n",
              "      <th>VB11005</th>\n",
              "      <th>VB11006</th>\n",
              "      <th>VB11007</th>\n",
              "      <th>VB12001</th>\n",
              "      <th>VB12002</th>\n",
              "      <th>VB12003</th>\n",
              "      <th>VB13001</th>\n",
              "      <th>VB13002A</th>\n",
              "      <th>VB13004A</th>\n",
              "      <th>VB13005</th>\n",
              "      <th>VB13006</th>\n",
              "      <th>VB13007</th>\n",
              "      <th>VB13008</th>\n",
              "      <th>VB13009</th>\n",
              "      <th>VB14001</th>\n",
              "      <th>VB14002</th>\n",
              "      <th>VB16001A01</th>\n",
              "      <th>VB16001A02</th>\n",
              "      <th>VB16001A03</th>\n",
              "      <th>VB16001A04</th>\n",
              "      <th>VB16001A05</th>\n",
              "      <th>VB16001A06</th>\n",
              "      <th>VB16001A07</th>\n",
              "      <th>VB16001A08</th>\n",
              "      <th>VB17001</th>\n",
              "      <th>VB17002</th>\n",
              "      <th>VB17003</th>\n",
              "      <th>VB17004</th>\n",
              "      <th>VB17005</th>\n",
              "      <th>VB17006</th>\n",
              "      <th>ESTRATO_EXP</th>\n",
              "      <th>ESTRATOGEOREG</th>\n",
              "      <th>PESO</th>\n",
              "      <th>V0006</th>\n",
              "      <th>V0007</th>\n",
              "      <th>V0008</th>\n",
              "      <th>V0041</th>\n",
              "      <th>aluno</th>\n",
              "      <th>escola</th>\n",
              "      <th>turma</th>\n",
              "    </tr>\n",
              "  </thead>\n",
              "  <tbody>\n",
              "    <tr>\n",
              "      <th>0</th>\n",
              "      <td>2015</td>\n",
              "      <td>76</td>\n",
              "      <td>1</td>\n",
              "      <td>1</td>\n",
              "      <td>2</td>\n",
              "      <td>1</td>\n",
              "      <td>13</td>\n",
              "      <td>7</td>\n",
              "      <td>7</td>\n",
              "      <td>1</td>\n",
              "      <td>2</td>\n",
              "      <td>7</td>\n",
              "      <td>3</td>\n",
              "      <td>2</td>\n",
              "      <td>-1</td>\n",
              "      <td>1</td>\n",
              "      <td>1</td>\n",
              "      <td>1</td>\n",
              "      <td>1</td>\n",
              "      <td>1</td>\n",
              "      <td>2</td>\n",
              "      <td>4</td>\n",
              "      <td>2</td>\n",
              "      <td>4</td>\n",
              "      <td>1</td>\n",
              "      <td>2</td>\n",
              "      <td>2</td>\n",
              "      <td>5</td>\n",
              "      <td>1</td>\n",
              "      <td>8</td>\n",
              "      <td>3</td>\n",
              "      <td>4</td>\n",
              "      <td>3</td>\n",
              "      <td>6</td>\n",
              "      <td>6</td>\n",
              "      <td>1</td>\n",
              "      <td>6</td>\n",
              "      <td>1</td>\n",
              "      <td>-1</td>\n",
              "      <td>2</td>\n",
              "      <td>...</td>\n",
              "      <td>2</td>\n",
              "      <td>1</td>\n",
              "      <td>2</td>\n",
              "      <td>1</td>\n",
              "      <td>1</td>\n",
              "      <td>4</td>\n",
              "      <td>2</td>\n",
              "      <td>-1</td>\n",
              "      <td>3</td>\n",
              "      <td>1</td>\n",
              "      <td>1</td>\n",
              "      <td>-1</td>\n",
              "      <td>1</td>\n",
              "      <td>1</td>\n",
              "      <td>2</td>\n",
              "      <td>2</td>\n",
              "      <td>1</td>\n",
              "      <td>2</td>\n",
              "      <td>2</td>\n",
              "      <td>2</td>\n",
              "      <td>2</td>\n",
              "      <td>2</td>\n",
              "      <td>2</td>\n",
              "      <td>2</td>\n",
              "      <td>371.0</td>\n",
              "      <td>1570.0</td>\n",
              "      <td>37,1</td>\n",
              "      <td>157</td>\n",
              "      <td>2</td>\n",
              "      <td>1</td>\n",
              "      <td>1223</td>\n",
              "      <td>1</td>\n",
              "      <td>299,735235</td>\n",
              "      <td>1</td>\n",
              "      <td>2</td>\n",
              "      <td>4</td>\n",
              "      <td>1</td>\n",
              "      <td>1</td>\n",
              "      <td>1</td>\n",
              "      <td>296</td>\n",
              "    </tr>\n",
              "    <tr>\n",
              "      <th>1</th>\n",
              "      <td>2015</td>\n",
              "      <td>76</td>\n",
              "      <td>1</td>\n",
              "      <td>1</td>\n",
              "      <td>2</td>\n",
              "      <td>1</td>\n",
              "      <td>14</td>\n",
              "      <td>4</td>\n",
              "      <td>7</td>\n",
              "      <td>1</td>\n",
              "      <td>1</td>\n",
              "      <td>7</td>\n",
              "      <td>3</td>\n",
              "      <td>2</td>\n",
              "      <td>-1</td>\n",
              "      <td>1</td>\n",
              "      <td>1</td>\n",
              "      <td>1</td>\n",
              "      <td>1</td>\n",
              "      <td>1</td>\n",
              "      <td>2</td>\n",
              "      <td>2</td>\n",
              "      <td>2</td>\n",
              "      <td>4</td>\n",
              "      <td>1</td>\n",
              "      <td>2</td>\n",
              "      <td>2</td>\n",
              "      <td>5</td>\n",
              "      <td>3</td>\n",
              "      <td>8</td>\n",
              "      <td>2</td>\n",
              "      <td>1</td>\n",
              "      <td>8</td>\n",
              "      <td>8</td>\n",
              "      <td>6</td>\n",
              "      <td>1</td>\n",
              "      <td>1</td>\n",
              "      <td>5</td>\n",
              "      <td>-1</td>\n",
              "      <td>2</td>\n",
              "      <td>...</td>\n",
              "      <td>2</td>\n",
              "      <td>3</td>\n",
              "      <td>2</td>\n",
              "      <td>4</td>\n",
              "      <td>4</td>\n",
              "      <td>4</td>\n",
              "      <td>1</td>\n",
              "      <td>2</td>\n",
              "      <td>3</td>\n",
              "      <td>3</td>\n",
              "      <td>1</td>\n",
              "      <td>-1</td>\n",
              "      <td>1</td>\n",
              "      <td>1</td>\n",
              "      <td>2</td>\n",
              "      <td>2</td>\n",
              "      <td>2</td>\n",
              "      <td>2</td>\n",
              "      <td>2</td>\n",
              "      <td>1</td>\n",
              "      <td>2</td>\n",
              "      <td>2</td>\n",
              "      <td>2</td>\n",
              "      <td>2</td>\n",
              "      <td>502.0</td>\n",
              "      <td>1520.0</td>\n",
              "      <td>50,2</td>\n",
              "      <td>152</td>\n",
              "      <td>2</td>\n",
              "      <td>2</td>\n",
              "      <td>1223</td>\n",
              "      <td>1</td>\n",
              "      <td>355,170081</td>\n",
              "      <td>1</td>\n",
              "      <td>2</td>\n",
              "      <td>4</td>\n",
              "      <td>1</td>\n",
              "      <td>2</td>\n",
              "      <td>1</td>\n",
              "      <td>296</td>\n",
              "    </tr>\n",
              "    <tr>\n",
              "      <th>2</th>\n",
              "      <td>2015</td>\n",
              "      <td>76</td>\n",
              "      <td>1</td>\n",
              "      <td>1</td>\n",
              "      <td>1</td>\n",
              "      <td>4</td>\n",
              "      <td>13</td>\n",
              "      <td>6</td>\n",
              "      <td>7</td>\n",
              "      <td>1</td>\n",
              "      <td>1</td>\n",
              "      <td>5</td>\n",
              "      <td>5</td>\n",
              "      <td>2</td>\n",
              "      <td>-1</td>\n",
              "      <td>2</td>\n",
              "      <td>1</td>\n",
              "      <td>1</td>\n",
              "      <td>1</td>\n",
              "      <td>1</td>\n",
              "      <td>2</td>\n",
              "      <td>3</td>\n",
              "      <td>1</td>\n",
              "      <td>4</td>\n",
              "      <td>1</td>\n",
              "      <td>2</td>\n",
              "      <td>2</td>\n",
              "      <td>5</td>\n",
              "      <td>3</td>\n",
              "      <td>2</td>\n",
              "      <td>3</td>\n",
              "      <td>1</td>\n",
              "      <td>8</td>\n",
              "      <td>2</td>\n",
              "      <td>8</td>\n",
              "      <td>1</td>\n",
              "      <td>1</td>\n",
              "      <td>5</td>\n",
              "      <td>5</td>\n",
              "      <td>1</td>\n",
              "      <td>...</td>\n",
              "      <td>2</td>\n",
              "      <td>1</td>\n",
              "      <td>2</td>\n",
              "      <td>1</td>\n",
              "      <td>2</td>\n",
              "      <td>3</td>\n",
              "      <td>1</td>\n",
              "      <td>2</td>\n",
              "      <td>1</td>\n",
              "      <td>2</td>\n",
              "      <td>5</td>\n",
              "      <td>99</td>\n",
              "      <td>1</td>\n",
              "      <td>-1</td>\n",
              "      <td>2</td>\n",
              "      <td>2</td>\n",
              "      <td>1</td>\n",
              "      <td>1</td>\n",
              "      <td>1</td>\n",
              "      <td>1</td>\n",
              "      <td>1</td>\n",
              "      <td>1</td>\n",
              "      <td>1</td>\n",
              "      <td>1</td>\n",
              "      <td>482.0</td>\n",
              "      <td>1614.0</td>\n",
              "      <td>48,2</td>\n",
              "      <td>161,4</td>\n",
              "      <td>2</td>\n",
              "      <td>2</td>\n",
              "      <td>1223</td>\n",
              "      <td>1</td>\n",
              "      <td>299,735235</td>\n",
              "      <td>1</td>\n",
              "      <td>2</td>\n",
              "      <td>4</td>\n",
              "      <td>1</td>\n",
              "      <td>3</td>\n",
              "      <td>1</td>\n",
              "      <td>296</td>\n",
              "    </tr>\n",
              "    <tr>\n",
              "      <th>3</th>\n",
              "      <td>2015</td>\n",
              "      <td>76</td>\n",
              "      <td>1</td>\n",
              "      <td>1</td>\n",
              "      <td>1</td>\n",
              "      <td>1</td>\n",
              "      <td>14</td>\n",
              "      <td>6</td>\n",
              "      <td>7</td>\n",
              "      <td>1</td>\n",
              "      <td>1</td>\n",
              "      <td>7</td>\n",
              "      <td>4</td>\n",
              "      <td>2</td>\n",
              "      <td>-1</td>\n",
              "      <td>1</td>\n",
              "      <td>1</td>\n",
              "      <td>1</td>\n",
              "      <td>1</td>\n",
              "      <td>1</td>\n",
              "      <td>2</td>\n",
              "      <td>4</td>\n",
              "      <td>2</td>\n",
              "      <td>4</td>\n",
              "      <td>1</td>\n",
              "      <td>2</td>\n",
              "      <td>2</td>\n",
              "      <td>6</td>\n",
              "      <td>3</td>\n",
              "      <td>2</td>\n",
              "      <td>4</td>\n",
              "      <td>1</td>\n",
              "      <td>3</td>\n",
              "      <td>2</td>\n",
              "      <td>7</td>\n",
              "      <td>1</td>\n",
              "      <td>5</td>\n",
              "      <td>1</td>\n",
              "      <td>-1</td>\n",
              "      <td>2</td>\n",
              "      <td>...</td>\n",
              "      <td>2</td>\n",
              "      <td>1</td>\n",
              "      <td>2</td>\n",
              "      <td>2</td>\n",
              "      <td>2</td>\n",
              "      <td>4</td>\n",
              "      <td>1</td>\n",
              "      <td>10</td>\n",
              "      <td>3</td>\n",
              "      <td>1</td>\n",
              "      <td>2</td>\n",
              "      <td>-1</td>\n",
              "      <td>1</td>\n",
              "      <td>-1</td>\n",
              "      <td>2</td>\n",
              "      <td>2</td>\n",
              "      <td>1</td>\n",
              "      <td>2</td>\n",
              "      <td>2</td>\n",
              "      <td>2</td>\n",
              "      <td>1</td>\n",
              "      <td>2</td>\n",
              "      <td>2</td>\n",
              "      <td>2</td>\n",
              "      <td>694.0</td>\n",
              "      <td>1725.0</td>\n",
              "      <td>69,4</td>\n",
              "      <td>172,5</td>\n",
              "      <td>2</td>\n",
              "      <td>3</td>\n",
              "      <td>1223</td>\n",
              "      <td>1</td>\n",
              "      <td>355,170081</td>\n",
              "      <td>1</td>\n",
              "      <td>2</td>\n",
              "      <td>4</td>\n",
              "      <td>1</td>\n",
              "      <td>4</td>\n",
              "      <td>1</td>\n",
              "      <td>296</td>\n",
              "    </tr>\n",
              "    <tr>\n",
              "      <th>4</th>\n",
              "      <td>2015</td>\n",
              "      <td>76</td>\n",
              "      <td>1</td>\n",
              "      <td>1</td>\n",
              "      <td>1</td>\n",
              "      <td>1</td>\n",
              "      <td>13</td>\n",
              "      <td>9</td>\n",
              "      <td>7</td>\n",
              "      <td>1</td>\n",
              "      <td>2</td>\n",
              "      <td>5</td>\n",
              "      <td>4</td>\n",
              "      <td>2</td>\n",
              "      <td>-1</td>\n",
              "      <td>2</td>\n",
              "      <td>1</td>\n",
              "      <td>1</td>\n",
              "      <td>1</td>\n",
              "      <td>1</td>\n",
              "      <td>2</td>\n",
              "      <td>5</td>\n",
              "      <td>1</td>\n",
              "      <td>4</td>\n",
              "      <td>1</td>\n",
              "      <td>2</td>\n",
              "      <td>2</td>\n",
              "      <td>6</td>\n",
              "      <td>5</td>\n",
              "      <td>6</td>\n",
              "      <td>3</td>\n",
              "      <td>5</td>\n",
              "      <td>2</td>\n",
              "      <td>6</td>\n",
              "      <td>2</td>\n",
              "      <td>1</td>\n",
              "      <td>5</td>\n",
              "      <td>1</td>\n",
              "      <td>5</td>\n",
              "      <td>1</td>\n",
              "      <td>...</td>\n",
              "      <td>2</td>\n",
              "      <td>1</td>\n",
              "      <td>4</td>\n",
              "      <td>2</td>\n",
              "      <td>2</td>\n",
              "      <td>4</td>\n",
              "      <td>1</td>\n",
              "      <td>3</td>\n",
              "      <td>2</td>\n",
              "      <td>2</td>\n",
              "      <td>2</td>\n",
              "      <td>13</td>\n",
              "      <td>1</td>\n",
              "      <td>-1</td>\n",
              "      <td>1</td>\n",
              "      <td>2</td>\n",
              "      <td>1</td>\n",
              "      <td>1</td>\n",
              "      <td>1</td>\n",
              "      <td>1</td>\n",
              "      <td>1</td>\n",
              "      <td>1</td>\n",
              "      <td>1</td>\n",
              "      <td>1</td>\n",
              "      <td>789.0</td>\n",
              "      <td>1675.0</td>\n",
              "      <td>78,9</td>\n",
              "      <td>167,5</td>\n",
              "      <td>2</td>\n",
              "      <td>4</td>\n",
              "      <td>1223</td>\n",
              "      <td>1</td>\n",
              "      <td>299,735235</td>\n",
              "      <td>1</td>\n",
              "      <td>2</td>\n",
              "      <td>4</td>\n",
              "      <td>1</td>\n",
              "      <td>5</td>\n",
              "      <td>1</td>\n",
              "      <td>296</td>\n",
              "    </tr>\n",
              "    <tr>\n",
              "      <th>...</th>\n",
              "      <td>...</td>\n",
              "      <td>...</td>\n",
              "      <td>...</td>\n",
              "      <td>...</td>\n",
              "      <td>...</td>\n",
              "      <td>...</td>\n",
              "      <td>...</td>\n",
              "      <td>...</td>\n",
              "      <td>...</td>\n",
              "      <td>...</td>\n",
              "      <td>...</td>\n",
              "      <td>...</td>\n",
              "      <td>...</td>\n",
              "      <td>...</td>\n",
              "      <td>...</td>\n",
              "      <td>...</td>\n",
              "      <td>...</td>\n",
              "      <td>...</td>\n",
              "      <td>...</td>\n",
              "      <td>...</td>\n",
              "      <td>...</td>\n",
              "      <td>...</td>\n",
              "      <td>...</td>\n",
              "      <td>...</td>\n",
              "      <td>...</td>\n",
              "      <td>...</td>\n",
              "      <td>...</td>\n",
              "      <td>...</td>\n",
              "      <td>...</td>\n",
              "      <td>...</td>\n",
              "      <td>...</td>\n",
              "      <td>...</td>\n",
              "      <td>...</td>\n",
              "      <td>...</td>\n",
              "      <td>...</td>\n",
              "      <td>...</td>\n",
              "      <td>...</td>\n",
              "      <td>...</td>\n",
              "      <td>...</td>\n",
              "      <td>...</td>\n",
              "      <td>...</td>\n",
              "      <td>...</td>\n",
              "      <td>...</td>\n",
              "      <td>...</td>\n",
              "      <td>...</td>\n",
              "      <td>...</td>\n",
              "      <td>...</td>\n",
              "      <td>...</td>\n",
              "      <td>...</td>\n",
              "      <td>...</td>\n",
              "      <td>...</td>\n",
              "      <td>...</td>\n",
              "      <td>...</td>\n",
              "      <td>...</td>\n",
              "      <td>...</td>\n",
              "      <td>...</td>\n",
              "      <td>...</td>\n",
              "      <td>...</td>\n",
              "      <td>...</td>\n",
              "      <td>...</td>\n",
              "      <td>...</td>\n",
              "      <td>...</td>\n",
              "      <td>...</td>\n",
              "      <td>...</td>\n",
              "      <td>...</td>\n",
              "      <td>...</td>\n",
              "      <td>...</td>\n",
              "      <td>...</td>\n",
              "      <td>...</td>\n",
              "      <td>...</td>\n",
              "      <td>...</td>\n",
              "      <td>...</td>\n",
              "      <td>...</td>\n",
              "      <td>...</td>\n",
              "      <td>...</td>\n",
              "      <td>...</td>\n",
              "      <td>...</td>\n",
              "      <td>...</td>\n",
              "      <td>...</td>\n",
              "      <td>...</td>\n",
              "      <td>...</td>\n",
              "    </tr>\n",
              "    <tr>\n",
              "      <th>16551</th>\n",
              "      <td>2015</td>\n",
              "      <td>76</td>\n",
              "      <td>5</td>\n",
              "      <td>1</td>\n",
              "      <td>2</td>\n",
              "      <td>4</td>\n",
              "      <td>12</td>\n",
              "      <td>8</td>\n",
              "      <td>8</td>\n",
              "      <td>1</td>\n",
              "      <td>1</td>\n",
              "      <td>7</td>\n",
              "      <td>5</td>\n",
              "      <td>2</td>\n",
              "      <td>-1</td>\n",
              "      <td>1</td>\n",
              "      <td>1</td>\n",
              "      <td>1</td>\n",
              "      <td>1</td>\n",
              "      <td>1</td>\n",
              "      <td>1</td>\n",
              "      <td>3</td>\n",
              "      <td>1</td>\n",
              "      <td>3</td>\n",
              "      <td>1</td>\n",
              "      <td>2</td>\n",
              "      <td>2</td>\n",
              "      <td>6</td>\n",
              "      <td>3</td>\n",
              "      <td>8</td>\n",
              "      <td>7</td>\n",
              "      <td>5</td>\n",
              "      <td>8</td>\n",
              "      <td>7</td>\n",
              "      <td>5</td>\n",
              "      <td>1</td>\n",
              "      <td>2</td>\n",
              "      <td>1</td>\n",
              "      <td>-1</td>\n",
              "      <td>2</td>\n",
              "      <td>...</td>\n",
              "      <td>2</td>\n",
              "      <td>1</td>\n",
              "      <td>1</td>\n",
              "      <td>1</td>\n",
              "      <td>1</td>\n",
              "      <td>4</td>\n",
              "      <td>1</td>\n",
              "      <td>2</td>\n",
              "      <td>1</td>\n",
              "      <td>1</td>\n",
              "      <td>1</td>\n",
              "      <td>7</td>\n",
              "      <td>1</td>\n",
              "      <td>1</td>\n",
              "      <td>2</td>\n",
              "      <td>2</td>\n",
              "      <td>2</td>\n",
              "      <td>2</td>\n",
              "      <td>2</td>\n",
              "      <td>2</td>\n",
              "      <td>1</td>\n",
              "      <td>2</td>\n",
              "      <td>2</td>\n",
              "      <td>2</td>\n",
              "      <td>567.0</td>\n",
              "      <td>1679.0</td>\n",
              "      <td>56,7</td>\n",
              "      <td>167,9</td>\n",
              "      <td>2</td>\n",
              "      <td>2</td>\n",
              "      <td>521</td>\n",
              "      <td>5</td>\n",
              "      <td>447,815539</td>\n",
              "      <td>1</td>\n",
              "      <td>2</td>\n",
              "      <td>4</td>\n",
              "      <td>1</td>\n",
              "      <td>16552</td>\n",
              "      <td>371</td>\n",
              "      <td>117</td>\n",
              "    </tr>\n",
              "    <tr>\n",
              "      <th>16552</th>\n",
              "      <td>2015</td>\n",
              "      <td>76</td>\n",
              "      <td>5</td>\n",
              "      <td>1</td>\n",
              "      <td>1</td>\n",
              "      <td>1</td>\n",
              "      <td>15</td>\n",
              "      <td>7</td>\n",
              "      <td>5</td>\n",
              "      <td>1</td>\n",
              "      <td>1</td>\n",
              "      <td>7</td>\n",
              "      <td>4</td>\n",
              "      <td>2</td>\n",
              "      <td>-1</td>\n",
              "      <td>2</td>\n",
              "      <td>1</td>\n",
              "      <td>1</td>\n",
              "      <td>1</td>\n",
              "      <td>1</td>\n",
              "      <td>1</td>\n",
              "      <td>3</td>\n",
              "      <td>1</td>\n",
              "      <td>3</td>\n",
              "      <td>1</td>\n",
              "      <td>1</td>\n",
              "      <td>2</td>\n",
              "      <td>5</td>\n",
              "      <td>4</td>\n",
              "      <td>6</td>\n",
              "      <td>2</td>\n",
              "      <td>4</td>\n",
              "      <td>1</td>\n",
              "      <td>6</td>\n",
              "      <td>1</td>\n",
              "      <td>1</td>\n",
              "      <td>6</td>\n",
              "      <td>4</td>\n",
              "      <td>-1</td>\n",
              "      <td>2</td>\n",
              "      <td>...</td>\n",
              "      <td>2</td>\n",
              "      <td>1</td>\n",
              "      <td>2</td>\n",
              "      <td>1</td>\n",
              "      <td>1</td>\n",
              "      <td>4</td>\n",
              "      <td>1</td>\n",
              "      <td>2</td>\n",
              "      <td>1</td>\n",
              "      <td>2</td>\n",
              "      <td>5</td>\n",
              "      <td>12</td>\n",
              "      <td>1</td>\n",
              "      <td>-1</td>\n",
              "      <td>2</td>\n",
              "      <td>2</td>\n",
              "      <td>1</td>\n",
              "      <td>2</td>\n",
              "      <td>2</td>\n",
              "      <td>2</td>\n",
              "      <td>2</td>\n",
              "      <td>2</td>\n",
              "      <td>2</td>\n",
              "      <td>2</td>\n",
              "      <td>619.0</td>\n",
              "      <td>1858.0</td>\n",
              "      <td>61,9</td>\n",
              "      <td>185,8</td>\n",
              "      <td>2</td>\n",
              "      <td>2</td>\n",
              "      <td>521</td>\n",
              "      <td>5</td>\n",
              "      <td>592,50744</td>\n",
              "      <td>1</td>\n",
              "      <td>2</td>\n",
              "      <td>4</td>\n",
              "      <td>1</td>\n",
              "      <td>16553</td>\n",
              "      <td>371</td>\n",
              "      <td>117</td>\n",
              "    </tr>\n",
              "    <tr>\n",
              "      <th>16553</th>\n",
              "      <td>2015</td>\n",
              "      <td>76</td>\n",
              "      <td>5</td>\n",
              "      <td>1</td>\n",
              "      <td>1</td>\n",
              "      <td>4</td>\n",
              "      <td>13</td>\n",
              "      <td>11</td>\n",
              "      <td>7</td>\n",
              "      <td>1</td>\n",
              "      <td>1</td>\n",
              "      <td>7</td>\n",
              "      <td>4</td>\n",
              "      <td>2</td>\n",
              "      <td>-1</td>\n",
              "      <td>1</td>\n",
              "      <td>2</td>\n",
              "      <td>1</td>\n",
              "      <td>1</td>\n",
              "      <td>1</td>\n",
              "      <td>2</td>\n",
              "      <td>3</td>\n",
              "      <td>1</td>\n",
              "      <td>3</td>\n",
              "      <td>1</td>\n",
              "      <td>2</td>\n",
              "      <td>2</td>\n",
              "      <td>5</td>\n",
              "      <td>4</td>\n",
              "      <td>8</td>\n",
              "      <td>1</td>\n",
              "      <td>8</td>\n",
              "      <td>2</td>\n",
              "      <td>8</td>\n",
              "      <td>1</td>\n",
              "      <td>1</td>\n",
              "      <td>5</td>\n",
              "      <td>5</td>\n",
              "      <td>-1</td>\n",
              "      <td>2</td>\n",
              "      <td>...</td>\n",
              "      <td>2</td>\n",
              "      <td>4</td>\n",
              "      <td>1</td>\n",
              "      <td>5</td>\n",
              "      <td>5</td>\n",
              "      <td>4</td>\n",
              "      <td>1</td>\n",
              "      <td>7</td>\n",
              "      <td>3</td>\n",
              "      <td>1</td>\n",
              "      <td>5</td>\n",
              "      <td>-1</td>\n",
              "      <td>1</td>\n",
              "      <td>-1</td>\n",
              "      <td>2</td>\n",
              "      <td>2</td>\n",
              "      <td>2</td>\n",
              "      <td>2</td>\n",
              "      <td>2</td>\n",
              "      <td>2</td>\n",
              "      <td>1</td>\n",
              "      <td>2</td>\n",
              "      <td>2</td>\n",
              "      <td>2</td>\n",
              "      <td>609.0</td>\n",
              "      <td>1594.0</td>\n",
              "      <td>60,9</td>\n",
              "      <td>159,4</td>\n",
              "      <td>2</td>\n",
              "      <td>3</td>\n",
              "      <td>521</td>\n",
              "      <td>5</td>\n",
              "      <td>401,131512</td>\n",
              "      <td>1</td>\n",
              "      <td>2</td>\n",
              "      <td>4</td>\n",
              "      <td>1</td>\n",
              "      <td>16554</td>\n",
              "      <td>371</td>\n",
              "      <td>117</td>\n",
              "    </tr>\n",
              "    <tr>\n",
              "      <th>16554</th>\n",
              "      <td>2015</td>\n",
              "      <td>76</td>\n",
              "      <td>5</td>\n",
              "      <td>1</td>\n",
              "      <td>1</td>\n",
              "      <td>4</td>\n",
              "      <td>14</td>\n",
              "      <td>8</td>\n",
              "      <td>6</td>\n",
              "      <td>1</td>\n",
              "      <td>1</td>\n",
              "      <td>7</td>\n",
              "      <td>4</td>\n",
              "      <td>2</td>\n",
              "      <td>-1</td>\n",
              "      <td>1</td>\n",
              "      <td>1</td>\n",
              "      <td>1</td>\n",
              "      <td>1</td>\n",
              "      <td>1</td>\n",
              "      <td>1</td>\n",
              "      <td>3</td>\n",
              "      <td>2</td>\n",
              "      <td>3</td>\n",
              "      <td>1</td>\n",
              "      <td>1</td>\n",
              "      <td>2</td>\n",
              "      <td>5</td>\n",
              "      <td>3</td>\n",
              "      <td>7</td>\n",
              "      <td>5</td>\n",
              "      <td>6</td>\n",
              "      <td>4</td>\n",
              "      <td>8</td>\n",
              "      <td>7</td>\n",
              "      <td>3</td>\n",
              "      <td>1</td>\n",
              "      <td>5</td>\n",
              "      <td>-1</td>\n",
              "      <td>2</td>\n",
              "      <td>...</td>\n",
              "      <td>2</td>\n",
              "      <td>3</td>\n",
              "      <td>2</td>\n",
              "      <td>3</td>\n",
              "      <td>4</td>\n",
              "      <td>4</td>\n",
              "      <td>2</td>\n",
              "      <td>-1</td>\n",
              "      <td>1</td>\n",
              "      <td>1</td>\n",
              "      <td>2</td>\n",
              "      <td>7</td>\n",
              "      <td>1</td>\n",
              "      <td>-1</td>\n",
              "      <td>1</td>\n",
              "      <td>1</td>\n",
              "      <td>2</td>\n",
              "      <td>2</td>\n",
              "      <td>2</td>\n",
              "      <td>2</td>\n",
              "      <td>1</td>\n",
              "      <td>2</td>\n",
              "      <td>2</td>\n",
              "      <td>2</td>\n",
              "      <td>473.0</td>\n",
              "      <td>1578.0</td>\n",
              "      <td>47,3</td>\n",
              "      <td>157,8</td>\n",
              "      <td>2</td>\n",
              "      <td>2</td>\n",
              "      <td>521</td>\n",
              "      <td>5</td>\n",
              "      <td>442,718091</td>\n",
              "      <td>1</td>\n",
              "      <td>2</td>\n",
              "      <td>4</td>\n",
              "      <td>1</td>\n",
              "      <td>16555</td>\n",
              "      <td>371</td>\n",
              "      <td>117</td>\n",
              "    </tr>\n",
              "    <tr>\n",
              "      <th>16555</th>\n",
              "      <td>2015</td>\n",
              "      <td>76</td>\n",
              "      <td>5</td>\n",
              "      <td>1</td>\n",
              "      <td>1</td>\n",
              "      <td>2</td>\n",
              "      <td>15</td>\n",
              "      <td>4</td>\n",
              "      <td>6</td>\n",
              "      <td>1</td>\n",
              "      <td>1</td>\n",
              "      <td>7</td>\n",
              "      <td>5</td>\n",
              "      <td>2</td>\n",
              "      <td>-1</td>\n",
              "      <td>1</td>\n",
              "      <td>1</td>\n",
              "      <td>1</td>\n",
              "      <td>1</td>\n",
              "      <td>1</td>\n",
              "      <td>1</td>\n",
              "      <td>3</td>\n",
              "      <td>2</td>\n",
              "      <td>3</td>\n",
              "      <td>1</td>\n",
              "      <td>2</td>\n",
              "      <td>2</td>\n",
              "      <td>4</td>\n",
              "      <td>4</td>\n",
              "      <td>8</td>\n",
              "      <td>2</td>\n",
              "      <td>6</td>\n",
              "      <td>8</td>\n",
              "      <td>8</td>\n",
              "      <td>5</td>\n",
              "      <td>1</td>\n",
              "      <td>6</td>\n",
              "      <td>1</td>\n",
              "      <td>-1</td>\n",
              "      <td>2</td>\n",
              "      <td>...</td>\n",
              "      <td>2</td>\n",
              "      <td>2</td>\n",
              "      <td>2</td>\n",
              "      <td>2</td>\n",
              "      <td>3</td>\n",
              "      <td>4</td>\n",
              "      <td>1</td>\n",
              "      <td>11</td>\n",
              "      <td>3</td>\n",
              "      <td>1</td>\n",
              "      <td>1</td>\n",
              "      <td>-1</td>\n",
              "      <td>1</td>\n",
              "      <td>-1</td>\n",
              "      <td>2</td>\n",
              "      <td>2</td>\n",
              "      <td>2</td>\n",
              "      <td>2</td>\n",
              "      <td>2</td>\n",
              "      <td>1</td>\n",
              "      <td>2</td>\n",
              "      <td>2</td>\n",
              "      <td>2</td>\n",
              "      <td>2</td>\n",
              "      <td>626.0</td>\n",
              "      <td>1639.0</td>\n",
              "      <td>62,6</td>\n",
              "      <td>163,9</td>\n",
              "      <td>2</td>\n",
              "      <td>3</td>\n",
              "      <td>521</td>\n",
              "      <td>5</td>\n",
              "      <td>592,50744</td>\n",
              "      <td>1</td>\n",
              "      <td>2</td>\n",
              "      <td>4</td>\n",
              "      <td>1</td>\n",
              "      <td>16556</td>\n",
              "      <td>371</td>\n",
              "      <td>117</td>\n",
              "    </tr>\n",
              "  </tbody>\n",
              "</table>\n",
              "<p>16556 rows × 181 columns</p>\n",
              "</div>"
            ],
            "text/plain": [
              "       ANOPESQ  PAIS  REGEOGR  VB00004  ...  V0041  aluno  escola  turma\n",
              "0         2015    76        1        1  ...      1      1       1    296\n",
              "1         2015    76        1        1  ...      1      2       1    296\n",
              "2         2015    76        1        1  ...      1      3       1    296\n",
              "3         2015    76        1        1  ...      1      4       1    296\n",
              "4         2015    76        1        1  ...      1      5       1    296\n",
              "...        ...   ...      ...      ...  ...    ...    ...     ...    ...\n",
              "16551     2015    76        5        1  ...      1  16552     371    117\n",
              "16552     2015    76        5        1  ...      1  16553     371    117\n",
              "16553     2015    76        5        1  ...      1  16554     371    117\n",
              "16554     2015    76        5        1  ...      1  16555     371    117\n",
              "16555     2015    76        5        1  ...      1  16556     371    117\n",
              "\n",
              "[16556 rows x 181 columns]"
            ]
          },
          "metadata": {
            "tags": []
          },
          "execution_count": 9
        }
      ]
    },
    {
      "cell_type": "markdown",
      "metadata": {
        "id": "Hb2cxb-g93wc"
      },
      "source": [
        "### AULA 01 - DESAFIO 02 \n",
        "> Estudar sobre a base de dados que vamos trabalhar. (PeNSE - 2015 Amostra 2)"
      ]
    },
    {
      "cell_type": "markdown",
      "metadata": {
        "id": "_qOkAyl5EoeE"
      },
      "source": [
        "Temos algumas informações interessantes nos seguintes links que nos ajudarão a entender melhor o funcionamento não só do dataset mas também do próprio PenSE 2015:\n",
        "\n",
        "* [O que é?](https://www.ibge.gov.br/estatisticas/sociais/educacao/9134-pesquisa-nacional-de-saude-do-escolar.html?=&t=o-que-e)\n",
        "* [Vídeo explicando o PenSE 2015](https://www.youtube.com/watch?v=z4BBCHZUvD4)\n"
      ]
    },
    {
      "cell_type": "markdown",
      "metadata": {
        "id": "h7gay3xZ93t_"
      },
      "source": [
        "###AULA 01 - DESAFIO 03\n",
        "> Classificar algumas perguntas como QualitativaXQuantitativa"
      ]
    },
    {
      "cell_type": "code",
      "metadata": {
        "colab": {
          "base_uri": "https://localhost:8080/",
          "height": 471
        },
        "id": "tLGfzvtM-MgZ",
        "outputId": "a204f411-b7ae-4a7b-f3fb-3daae3ee0c91"
      },
      "source": [
        "%%html\n",
        "<img src='https://i.ytimg.com/vi/1zy6DTHQDzM/maxresdefault.jpg' width='800px' heigth='800px'/>"
      ],
      "execution_count": 10,
      "outputs": [
        {
          "output_type": "display_data",
          "data": {
            "text/html": [
              "<img src='https://i.ytimg.com/vi/1zy6DTHQDzM/maxresdefault.jpg' width='800px' heigth='800px'/>"
            ],
            "text/plain": [
              "<IPython.core.display.HTML object>"
            ]
          },
          "metadata": {
            "tags": []
          }
        }
      ]
    },
    {
      "cell_type": "markdown",
      "metadata": {
        "id": "IXDwEvcoMLfG"
      },
      "source": [
        "**QUALITATIVAS**\n",
        "é um tipo de método de investigação de base linguístico-semiótica usada principalmente em ciências sociais."
      ]
    },
    {
      "cell_type": "markdown",
      "metadata": {
        "id": "G4anTJ86MG8w"
      },
      "source": [
        "**QUALITATIVAS NOMINAL** \n",
        "não existe ordenação dentre as *categorias*"
      ]
    },
    {
      "cell_type": "code",
      "metadata": {
        "colab": {
          "base_uri": "https://localhost:8080/",
          "height": 419
        },
        "id": "fPAkQCWWHdp8",
        "outputId": "1eb42cbf-d7f8-4962-a8e8-aeee346104ae"
      },
      "source": [
        "dados[['REGEOGR','VB01001','VB01002','VB04009','VB04003','VB04002','VB11001']]"
      ],
      "execution_count": 11,
      "outputs": [
        {
          "output_type": "execute_result",
          "data": {
            "text/html": [
              "<div>\n",
              "<style scoped>\n",
              "    .dataframe tbody tr th:only-of-type {\n",
              "        vertical-align: middle;\n",
              "    }\n",
              "\n",
              "    .dataframe tbody tr th {\n",
              "        vertical-align: top;\n",
              "    }\n",
              "\n",
              "    .dataframe thead th {\n",
              "        text-align: right;\n",
              "    }\n",
              "</style>\n",
              "<table border=\"1\" class=\"dataframe\">\n",
              "  <thead>\n",
              "    <tr style=\"text-align: right;\">\n",
              "      <th></th>\n",
              "      <th>REGEOGR</th>\n",
              "      <th>VB01001</th>\n",
              "      <th>VB01002</th>\n",
              "      <th>VB04009</th>\n",
              "      <th>VB04003</th>\n",
              "      <th>VB04002</th>\n",
              "      <th>VB11001</th>\n",
              "    </tr>\n",
              "  </thead>\n",
              "  <tbody>\n",
              "    <tr>\n",
              "      <th>0</th>\n",
              "      <td>1</td>\n",
              "      <td>2</td>\n",
              "      <td>1</td>\n",
              "      <td>-1</td>\n",
              "      <td>-1</td>\n",
              "      <td>-1</td>\n",
              "      <td>1</td>\n",
              "    </tr>\n",
              "    <tr>\n",
              "      <th>1</th>\n",
              "      <td>1</td>\n",
              "      <td>2</td>\n",
              "      <td>1</td>\n",
              "      <td>-1</td>\n",
              "      <td>-1</td>\n",
              "      <td>-1</td>\n",
              "      <td>3</td>\n",
              "    </tr>\n",
              "    <tr>\n",
              "      <th>2</th>\n",
              "      <td>1</td>\n",
              "      <td>1</td>\n",
              "      <td>4</td>\n",
              "      <td>-1</td>\n",
              "      <td>-1</td>\n",
              "      <td>-1</td>\n",
              "      <td>3</td>\n",
              "    </tr>\n",
              "    <tr>\n",
              "      <th>3</th>\n",
              "      <td>1</td>\n",
              "      <td>1</td>\n",
              "      <td>1</td>\n",
              "      <td>-1</td>\n",
              "      <td>-1</td>\n",
              "      <td>-1</td>\n",
              "      <td>3</td>\n",
              "    </tr>\n",
              "    <tr>\n",
              "      <th>4</th>\n",
              "      <td>1</td>\n",
              "      <td>1</td>\n",
              "      <td>1</td>\n",
              "      <td>-1</td>\n",
              "      <td>-1</td>\n",
              "      <td>-1</td>\n",
              "      <td>4</td>\n",
              "    </tr>\n",
              "    <tr>\n",
              "      <th>...</th>\n",
              "      <td>...</td>\n",
              "      <td>...</td>\n",
              "      <td>...</td>\n",
              "      <td>...</td>\n",
              "      <td>...</td>\n",
              "      <td>...</td>\n",
              "      <td>...</td>\n",
              "    </tr>\n",
              "    <tr>\n",
              "      <th>16551</th>\n",
              "      <td>5</td>\n",
              "      <td>2</td>\n",
              "      <td>4</td>\n",
              "      <td>-1</td>\n",
              "      <td>-1</td>\n",
              "      <td>-1</td>\n",
              "      <td>3</td>\n",
              "    </tr>\n",
              "    <tr>\n",
              "      <th>16552</th>\n",
              "      <td>5</td>\n",
              "      <td>1</td>\n",
              "      <td>1</td>\n",
              "      <td>-1</td>\n",
              "      <td>-1</td>\n",
              "      <td>-1</td>\n",
              "      <td>2</td>\n",
              "    </tr>\n",
              "    <tr>\n",
              "      <th>16553</th>\n",
              "      <td>5</td>\n",
              "      <td>1</td>\n",
              "      <td>4</td>\n",
              "      <td>-1</td>\n",
              "      <td>-1</td>\n",
              "      <td>-1</td>\n",
              "      <td>3</td>\n",
              "    </tr>\n",
              "    <tr>\n",
              "      <th>16554</th>\n",
              "      <td>5</td>\n",
              "      <td>1</td>\n",
              "      <td>4</td>\n",
              "      <td>-1</td>\n",
              "      <td>-1</td>\n",
              "      <td>-1</td>\n",
              "      <td>2</td>\n",
              "    </tr>\n",
              "    <tr>\n",
              "      <th>16555</th>\n",
              "      <td>5</td>\n",
              "      <td>1</td>\n",
              "      <td>2</td>\n",
              "      <td>-1</td>\n",
              "      <td>-1</td>\n",
              "      <td>-1</td>\n",
              "      <td>2</td>\n",
              "    </tr>\n",
              "  </tbody>\n",
              "</table>\n",
              "<p>16556 rows × 7 columns</p>\n",
              "</div>"
            ],
            "text/plain": [
              "       REGEOGR  VB01001  VB01002  VB04009  VB04003  VB04002  VB11001\n",
              "0            1        2        1       -1       -1       -1        1\n",
              "1            1        2        1       -1       -1       -1        3\n",
              "2            1        1        4       -1       -1       -1        3\n",
              "3            1        1        1       -1       -1       -1        3\n",
              "4            1        1        1       -1       -1       -1        4\n",
              "...        ...      ...      ...      ...      ...      ...      ...\n",
              "16551        5        2        4       -1       -1       -1        3\n",
              "16552        5        1        1       -1       -1       -1        2\n",
              "16553        5        1        4       -1       -1       -1        3\n",
              "16554        5        1        4       -1       -1       -1        2\n",
              "16555        5        1        2       -1       -1       -1        2\n",
              "\n",
              "[16556 rows x 7 columns]"
            ]
          },
          "metadata": {
            "tags": []
          },
          "execution_count": 11
        }
      ]
    },
    {
      "cell_type": "markdown",
      "metadata": {
        "id": "EsxE0-FzPXob"
      },
      "source": [
        "**QUALITATIVAS ORDINAL** \n",
        "existe ordenação dentre as *categorias*"
      ]
    },
    {
      "cell_type": "code",
      "metadata": {
        "colab": {
          "base_uri": "https://localhost:8080/",
          "height": 419
        },
        "id": "cJn45e68MAnj",
        "outputId": "051e38ff-2809-4e66-fad8-b7491939c391"
      },
      "source": [
        "dados[['VB01003','VB01004','VB01005','VB01021','VB01022','VB03011A','VB03007']]"
      ],
      "execution_count": 12,
      "outputs": [
        {
          "output_type": "execute_result",
          "data": {
            "text/html": [
              "<div>\n",
              "<style scoped>\n",
              "    .dataframe tbody tr th:only-of-type {\n",
              "        vertical-align: middle;\n",
              "    }\n",
              "\n",
              "    .dataframe tbody tr th {\n",
              "        vertical-align: top;\n",
              "    }\n",
              "\n",
              "    .dataframe thead th {\n",
              "        text-align: right;\n",
              "    }\n",
              "</style>\n",
              "<table border=\"1\" class=\"dataframe\">\n",
              "  <thead>\n",
              "    <tr style=\"text-align: right;\">\n",
              "      <th></th>\n",
              "      <th>VB01003</th>\n",
              "      <th>VB01004</th>\n",
              "      <th>VB01005</th>\n",
              "      <th>VB01021</th>\n",
              "      <th>VB01022</th>\n",
              "      <th>VB03011A</th>\n",
              "      <th>VB03007</th>\n",
              "    </tr>\n",
              "  </thead>\n",
              "  <tbody>\n",
              "    <tr>\n",
              "      <th>0</th>\n",
              "      <td>13</td>\n",
              "      <td>7</td>\n",
              "      <td>7</td>\n",
              "      <td>4</td>\n",
              "      <td>1</td>\n",
              "      <td>2</td>\n",
              "      <td>1</td>\n",
              "    </tr>\n",
              "    <tr>\n",
              "      <th>1</th>\n",
              "      <td>14</td>\n",
              "      <td>4</td>\n",
              "      <td>7</td>\n",
              "      <td>4</td>\n",
              "      <td>1</td>\n",
              "      <td>6</td>\n",
              "      <td>7</td>\n",
              "    </tr>\n",
              "    <tr>\n",
              "      <th>2</th>\n",
              "      <td>13</td>\n",
              "      <td>6</td>\n",
              "      <td>7</td>\n",
              "      <td>4</td>\n",
              "      <td>1</td>\n",
              "      <td>8</td>\n",
              "      <td>7</td>\n",
              "    </tr>\n",
              "    <tr>\n",
              "      <th>3</th>\n",
              "      <td>14</td>\n",
              "      <td>6</td>\n",
              "      <td>7</td>\n",
              "      <td>4</td>\n",
              "      <td>1</td>\n",
              "      <td>1</td>\n",
              "      <td>-1</td>\n",
              "    </tr>\n",
              "    <tr>\n",
              "      <th>4</th>\n",
              "      <td>13</td>\n",
              "      <td>9</td>\n",
              "      <td>7</td>\n",
              "      <td>4</td>\n",
              "      <td>1</td>\n",
              "      <td>2</td>\n",
              "      <td>5</td>\n",
              "    </tr>\n",
              "    <tr>\n",
              "      <th>...</th>\n",
              "      <td>...</td>\n",
              "      <td>...</td>\n",
              "      <td>...</td>\n",
              "      <td>...</td>\n",
              "      <td>...</td>\n",
              "      <td>...</td>\n",
              "      <td>...</td>\n",
              "    </tr>\n",
              "    <tr>\n",
              "      <th>16551</th>\n",
              "      <td>12</td>\n",
              "      <td>8</td>\n",
              "      <td>8</td>\n",
              "      <td>3</td>\n",
              "      <td>1</td>\n",
              "      <td>5</td>\n",
              "      <td>7</td>\n",
              "    </tr>\n",
              "    <tr>\n",
              "      <th>16552</th>\n",
              "      <td>15</td>\n",
              "      <td>7</td>\n",
              "      <td>5</td>\n",
              "      <td>3</td>\n",
              "      <td>1</td>\n",
              "      <td>5</td>\n",
              "      <td>7</td>\n",
              "    </tr>\n",
              "    <tr>\n",
              "      <th>16553</th>\n",
              "      <td>13</td>\n",
              "      <td>11</td>\n",
              "      <td>7</td>\n",
              "      <td>3</td>\n",
              "      <td>1</td>\n",
              "      <td>2</td>\n",
              "      <td>-1</td>\n",
              "    </tr>\n",
              "    <tr>\n",
              "      <th>16554</th>\n",
              "      <td>14</td>\n",
              "      <td>8</td>\n",
              "      <td>6</td>\n",
              "      <td>3</td>\n",
              "      <td>1</td>\n",
              "      <td>3</td>\n",
              "      <td>4</td>\n",
              "    </tr>\n",
              "    <tr>\n",
              "      <th>16555</th>\n",
              "      <td>15</td>\n",
              "      <td>4</td>\n",
              "      <td>6</td>\n",
              "      <td>3</td>\n",
              "      <td>1</td>\n",
              "      <td>7</td>\n",
              "      <td>7</td>\n",
              "    </tr>\n",
              "  </tbody>\n",
              "</table>\n",
              "<p>16556 rows × 7 columns</p>\n",
              "</div>"
            ],
            "text/plain": [
              "       VB01003  VB01004  VB01005  VB01021  VB01022  VB03011A  VB03007\n",
              "0           13        7        7        4        1         2        1\n",
              "1           14        4        7        4        1         6        7\n",
              "2           13        6        7        4        1         8        7\n",
              "3           14        6        7        4        1         1       -1\n",
              "4           13        9        7        4        1         2        5\n",
              "...        ...      ...      ...      ...      ...       ...      ...\n",
              "16551       12        8        8        3        1         5        7\n",
              "16552       15        7        5        3        1         5        7\n",
              "16553       13       11        7        3        1         2       -1\n",
              "16554       14        8        6        3        1         3        4\n",
              "16555       15        4        6        3        1         7        7\n",
              "\n",
              "[16556 rows x 7 columns]"
            ]
          },
          "metadata": {
            "tags": []
          },
          "execution_count": 12
        }
      ]
    },
    {
      "cell_type": "markdown",
      "metadata": {
        "id": "GCUgrCaKQdE5"
      },
      "source": [
        "**QUANTITATIVAS**\n",
        ">é a pesquisa científica na qual os resultados podem ser quantificados, diferindo da pesquisa qualitativa. A pesquisa quantitativa recorre a linguagem matemática para descrever as causas de um fenômeno, relações entre variáveis, entre outras aplicações."
      ]
    },
    {
      "cell_type": "markdown",
      "metadata": {
        "id": "QdzSLcGlQhpb"
      },
      "source": [
        "**DISCRETAS**  quando o conjunto de resultados possíveis é finito ou enumerável. Exemplo: número de filhos, alunos numa escola etc. Contínuas: quando os valores são expressos como intervalo ou união de números reais."
      ]
    },
    {
      "cell_type": "code",
      "metadata": {
        "colab": {
          "base_uri": "https://localhost:8080/",
          "height": 419
        },
        "id": "rDZoUwfXQMIf",
        "outputId": "0afbf68c-0175-49f4-d071-ea6e842a4ee1"
      },
      "source": [
        "dados[['VB01003','VB01005','VB01010A']]"
      ],
      "execution_count": 13,
      "outputs": [
        {
          "output_type": "execute_result",
          "data": {
            "text/html": [
              "<div>\n",
              "<style scoped>\n",
              "    .dataframe tbody tr th:only-of-type {\n",
              "        vertical-align: middle;\n",
              "    }\n",
              "\n",
              "    .dataframe tbody tr th {\n",
              "        vertical-align: top;\n",
              "    }\n",
              "\n",
              "    .dataframe thead th {\n",
              "        text-align: right;\n",
              "    }\n",
              "</style>\n",
              "<table border=\"1\" class=\"dataframe\">\n",
              "  <thead>\n",
              "    <tr style=\"text-align: right;\">\n",
              "      <th></th>\n",
              "      <th>VB01003</th>\n",
              "      <th>VB01005</th>\n",
              "      <th>VB01010A</th>\n",
              "    </tr>\n",
              "  </thead>\n",
              "  <tbody>\n",
              "    <tr>\n",
              "      <th>0</th>\n",
              "      <td>13</td>\n",
              "      <td>7</td>\n",
              "      <td>3</td>\n",
              "    </tr>\n",
              "    <tr>\n",
              "      <th>1</th>\n",
              "      <td>14</td>\n",
              "      <td>7</td>\n",
              "      <td>3</td>\n",
              "    </tr>\n",
              "    <tr>\n",
              "      <th>2</th>\n",
              "      <td>13</td>\n",
              "      <td>7</td>\n",
              "      <td>5</td>\n",
              "    </tr>\n",
              "    <tr>\n",
              "      <th>3</th>\n",
              "      <td>14</td>\n",
              "      <td>7</td>\n",
              "      <td>4</td>\n",
              "    </tr>\n",
              "    <tr>\n",
              "      <th>4</th>\n",
              "      <td>13</td>\n",
              "      <td>7</td>\n",
              "      <td>4</td>\n",
              "    </tr>\n",
              "    <tr>\n",
              "      <th>...</th>\n",
              "      <td>...</td>\n",
              "      <td>...</td>\n",
              "      <td>...</td>\n",
              "    </tr>\n",
              "    <tr>\n",
              "      <th>16551</th>\n",
              "      <td>12</td>\n",
              "      <td>8</td>\n",
              "      <td>5</td>\n",
              "    </tr>\n",
              "    <tr>\n",
              "      <th>16552</th>\n",
              "      <td>15</td>\n",
              "      <td>5</td>\n",
              "      <td>4</td>\n",
              "    </tr>\n",
              "    <tr>\n",
              "      <th>16553</th>\n",
              "      <td>13</td>\n",
              "      <td>7</td>\n",
              "      <td>4</td>\n",
              "    </tr>\n",
              "    <tr>\n",
              "      <th>16554</th>\n",
              "      <td>14</td>\n",
              "      <td>6</td>\n",
              "      <td>4</td>\n",
              "    </tr>\n",
              "    <tr>\n",
              "      <th>16555</th>\n",
              "      <td>15</td>\n",
              "      <td>6</td>\n",
              "      <td>5</td>\n",
              "    </tr>\n",
              "  </tbody>\n",
              "</table>\n",
              "<p>16556 rows × 3 columns</p>\n",
              "</div>"
            ],
            "text/plain": [
              "       VB01003  VB01005  VB01010A\n",
              "0           13        7         3\n",
              "1           14        7         3\n",
              "2           13        7         5\n",
              "3           14        7         4\n",
              "4           13        7         4\n",
              "...        ...      ...       ...\n",
              "16551       12        8         5\n",
              "16552       15        5         4\n",
              "16553       13        7         4\n",
              "16554       14        6         4\n",
              "16555       15        6         5\n",
              "\n",
              "[16556 rows x 3 columns]"
            ]
          },
          "metadata": {
            "tags": []
          },
          "execution_count": 13
        }
      ]
    },
    {
      "cell_type": "markdown",
      "metadata": {
        "id": "CP7KASp5RAoV"
      },
      "source": [
        "**CONTÍNUA** quando os valores são expressos como intervalo ou união de números reais."
      ]
    },
    {
      "cell_type": "code",
      "metadata": {
        "colab": {
          "base_uri": "https://localhost:8080/",
          "height": 419
        },
        "id": "pTMGZksqQ_vd",
        "outputId": "3dde5d57-03ee-4057-8c7a-bccfa9d1ab5a"
      },
      "source": [
        "dados[['VB01003','VB01005','VB01010A','PESO']]"
      ],
      "execution_count": 14,
      "outputs": [
        {
          "output_type": "execute_result",
          "data": {
            "text/html": [
              "<div>\n",
              "<style scoped>\n",
              "    .dataframe tbody tr th:only-of-type {\n",
              "        vertical-align: middle;\n",
              "    }\n",
              "\n",
              "    .dataframe tbody tr th {\n",
              "        vertical-align: top;\n",
              "    }\n",
              "\n",
              "    .dataframe thead th {\n",
              "        text-align: right;\n",
              "    }\n",
              "</style>\n",
              "<table border=\"1\" class=\"dataframe\">\n",
              "  <thead>\n",
              "    <tr style=\"text-align: right;\">\n",
              "      <th></th>\n",
              "      <th>VB01003</th>\n",
              "      <th>VB01005</th>\n",
              "      <th>VB01010A</th>\n",
              "      <th>PESO</th>\n",
              "    </tr>\n",
              "  </thead>\n",
              "  <tbody>\n",
              "    <tr>\n",
              "      <th>0</th>\n",
              "      <td>13</td>\n",
              "      <td>7</td>\n",
              "      <td>3</td>\n",
              "      <td>299.735235</td>\n",
              "    </tr>\n",
              "    <tr>\n",
              "      <th>1</th>\n",
              "      <td>14</td>\n",
              "      <td>7</td>\n",
              "      <td>3</td>\n",
              "      <td>355.170081</td>\n",
              "    </tr>\n",
              "    <tr>\n",
              "      <th>2</th>\n",
              "      <td>13</td>\n",
              "      <td>7</td>\n",
              "      <td>5</td>\n",
              "      <td>299.735235</td>\n",
              "    </tr>\n",
              "    <tr>\n",
              "      <th>3</th>\n",
              "      <td>14</td>\n",
              "      <td>7</td>\n",
              "      <td>4</td>\n",
              "      <td>355.170081</td>\n",
              "    </tr>\n",
              "    <tr>\n",
              "      <th>4</th>\n",
              "      <td>13</td>\n",
              "      <td>7</td>\n",
              "      <td>4</td>\n",
              "      <td>299.735235</td>\n",
              "    </tr>\n",
              "    <tr>\n",
              "      <th>...</th>\n",
              "      <td>...</td>\n",
              "      <td>...</td>\n",
              "      <td>...</td>\n",
              "      <td>...</td>\n",
              "    </tr>\n",
              "    <tr>\n",
              "      <th>16551</th>\n",
              "      <td>12</td>\n",
              "      <td>8</td>\n",
              "      <td>5</td>\n",
              "      <td>447.815539</td>\n",
              "    </tr>\n",
              "    <tr>\n",
              "      <th>16552</th>\n",
              "      <td>15</td>\n",
              "      <td>5</td>\n",
              "      <td>4</td>\n",
              "      <td>592.507440</td>\n",
              "    </tr>\n",
              "    <tr>\n",
              "      <th>16553</th>\n",
              "      <td>13</td>\n",
              "      <td>7</td>\n",
              "      <td>4</td>\n",
              "      <td>401.131512</td>\n",
              "    </tr>\n",
              "    <tr>\n",
              "      <th>16554</th>\n",
              "      <td>14</td>\n",
              "      <td>6</td>\n",
              "      <td>4</td>\n",
              "      <td>442.718091</td>\n",
              "    </tr>\n",
              "    <tr>\n",
              "      <th>16555</th>\n",
              "      <td>15</td>\n",
              "      <td>6</td>\n",
              "      <td>5</td>\n",
              "      <td>592.507440</td>\n",
              "    </tr>\n",
              "  </tbody>\n",
              "</table>\n",
              "<p>16556 rows × 4 columns</p>\n",
              "</div>"
            ],
            "text/plain": [
              "       VB01003  VB01005  VB01010A        PESO\n",
              "0           13        7         3  299.735235\n",
              "1           14        7         3  355.170081\n",
              "2           13        7         5  299.735235\n",
              "3           14        7         4  355.170081\n",
              "4           13        7         4  299.735235\n",
              "...        ...      ...       ...         ...\n",
              "16551       12        8         5  447.815539\n",
              "16552       15        5         4  592.507440\n",
              "16553       13        7         4  401.131512\n",
              "16554       14        6         4  442.718091\n",
              "16555       15        6         5  592.507440\n",
              "\n",
              "[16556 rows x 4 columns]"
            ]
          },
          "metadata": {
            "tags": []
          },
          "execution_count": 14
        }
      ]
    },
    {
      "cell_type": "markdown",
      "metadata": {
        "id": "nRerKLj8P1Lw"
      },
      "source": [
        "##AULA 2 : Dados Qualitativos e Tabelas de Frequências\r\n",
        "---"
      ]
    },
    {
      "cell_type": "markdown",
      "metadata": {
        "id": "zJyvHFskQDmS"
      },
      "source": [
        "Vamos fazer uma tabela de frequência. Ver quantas vezes, determinadas perguntas foram respondidas. Qual a frequencia de alunos que responderam 'a','b','c' e por ai vai..."
      ]
    },
    {
      "cell_type": "code",
      "metadata": {
        "colab": {
          "base_uri": "https://localhost:8080/"
        },
        "id": "S74SN_-NQCMq",
        "outputId": "7e6b2935-518a-4cbb-dbc9-b0ae65e15263"
      },
      "source": [
        "#pergunta relacionada\r\n",
        "dados['VB01001'].value_counts()"
      ],
      "execution_count": 15,
      "outputs": [
        {
          "output_type": "execute_result",
          "data": {
            "text/plain": [
              "1    8287\n",
              "2    8269\n",
              "Name: VB01001, dtype: int64"
            ]
          },
          "metadata": {
            "tags": []
          },
          "execution_count": 15
        }
      ]
    },
    {
      "cell_type": "markdown",
      "metadata": {
        "id": "gztaKltGTynZ"
      },
      "source": [
        "temos então a frequencia das nossas respostas. Essa pergunta se refere ao sexo dos estudantes (1 - Masculino, 2- Feminino). Os dados são quase iguais. Usemos então o  `normalize`igual a `True` para converter as porcentagens"
      ]
    },
    {
      "cell_type": "code",
      "metadata": {
        "colab": {
          "base_uri": "https://localhost:8080/"
        },
        "id": "9isM3_7XTmpZ",
        "outputId": "b6d97305-7d18-40fc-9a74-ce5a5c74149b"
      },
      "source": [
        "dados['VB01001'].value_counts(normalize=True) *100"
      ],
      "execution_count": 16,
      "outputs": [
        {
          "output_type": "execute_result",
          "data": {
            "text/plain": [
              "1    50.054361\n",
              "2    49.945639\n",
              "Name: VB01001, dtype: float64"
            ]
          },
          "metadata": {
            "tags": []
          },
          "execution_count": 16
        }
      ]
    },
    {
      "cell_type": "markdown",
      "metadata": {
        "id": "wH-62WH7UvdC"
      },
      "source": [
        "Legal! Sabemos então que a pesquisa foi bem distribuída entre os estudantes. Maaaas, lembre-se, essa distribuição aí foi proposital. O que o PenSE quer é não entrar em nenhum viés de confirmação, logo é proposital que a distribuição seja bem feita. Contudo, quanto as respostas dos estudantes para questões como  *Você está satisfeito com o seu corpo?*, a pesquisa não possui controle e é isso que iremos ver melhor agora.<br>\r\n",
        "No dicionário de dados temos que cada valor corresponde a:\r\n",
        "\r\n",
        "![image.png](data:image/png;base64,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)\r\n",
        "<br> Temos dados qualitativos nominal (pois temos uma ordem de preferencia: satisfeito, muito satisfeito...)"
      ]
    },
    {
      "cell_type": "code",
      "metadata": {
        "colab": {
          "base_uri": "https://localhost:8080/"
        },
        "id": "CNlWaLMZUYKN",
        "outputId": "05cb8469-56cf-4d24-dc76-f555819c69e1"
      },
      "source": [
        "frequencia = dados['VB11007'].value_counts()\r\n",
        "frequencia"
      ],
      "execution_count": 17,
      "outputs": [
        {
          "output_type": "execute_result",
          "data": {
            "text/plain": [
              "2     6920\n",
              "1     4608\n",
              "4     2326\n",
              "3     1807\n",
              "5      714\n",
              "99     181\n",
              "Name: VB11007, dtype: int64"
            ]
          },
          "metadata": {
            "tags": []
          },
          "execution_count": 17
        }
      ]
    },
    {
      "cell_type": "code",
      "metadata": {
        "colab": {
          "base_uri": "https://localhost:8080/"
        },
        "id": "HLI_EncZVkw6",
        "outputId": "e991676f-c63e-40dc-b36c-c905e7afe996"
      },
      "source": [
        "percentual = dados['VB11007'].value_counts(normalize=True) * 100\r\n",
        "percentual"
      ],
      "execution_count": 18,
      "outputs": [
        {
          "output_type": "execute_result",
          "data": {
            "text/plain": [
              "2     41.797536\n",
              "1     27.832810\n",
              "4     14.049287\n",
              "3     10.914472\n",
              "5      4.312636\n",
              "99     1.093259\n",
              "Name: VB11007, dtype: float64"
            ]
          },
          "metadata": {
            "tags": []
          },
          "execution_count": 18
        }
      ]
    },
    {
      "cell_type": "markdown",
      "metadata": {
        "id": "UQyNZwg_XGqc"
      },
      "source": [
        "Montamos por fim, uma estrura de DataFrame para entender melhor essas informações. Passamos uma estrutura de dicionário onde a key são o nome das colunas e os values as Series"
      ]
    },
    {
      "cell_type": "code",
      "metadata": {
        "colab": {
          "base_uri": "https://localhost:8080/",
          "height": 235
        },
        "id": "JhTe8DUdWtKI",
        "outputId": "f456c75f-4856-4aa1-ef97-dec2844fe10e"
      },
      "source": [
        "respostas = {\r\n",
        "    1: 'Muito Satisfeito (a)',\r\n",
        "    2: 'Satisfeito (a)',\r\n",
        "    3: 'Indiferente',\r\n",
        "    4: 'Insatisfeito (a)',\r\n",
        "    5: 'Muito Insatisfeito (a)',\r\n",
        "    99: 'Não Informado'\r\n",
        "}\r\n",
        "\r\n",
        "dist_freq = pd.DataFrame({\"frequencia\":frequencia,\"percentual\":percentual})\r\n",
        "dist_freq.rename(index = respostas, inplace = True) #substituindo os valores pelos nomes\r\n",
        "dist_freq.rename_axis(\"Como você se sente em relação ao seu corpo?\",axis=1,inplace=True) #dando um nome para o nosso index\r\n",
        "dist_freq"
      ],
      "execution_count": 19,
      "outputs": [
        {
          "output_type": "execute_result",
          "data": {
            "text/html": [
              "<div>\n",
              "<style scoped>\n",
              "    .dataframe tbody tr th:only-of-type {\n",
              "        vertical-align: middle;\n",
              "    }\n",
              "\n",
              "    .dataframe tbody tr th {\n",
              "        vertical-align: top;\n",
              "    }\n",
              "\n",
              "    .dataframe thead th {\n",
              "        text-align: right;\n",
              "    }\n",
              "</style>\n",
              "<table border=\"1\" class=\"dataframe\">\n",
              "  <thead>\n",
              "    <tr style=\"text-align: right;\">\n",
              "      <th>Como você se sente em relação ao seu corpo?</th>\n",
              "      <th>frequencia</th>\n",
              "      <th>percentual</th>\n",
              "    </tr>\n",
              "  </thead>\n",
              "  <tbody>\n",
              "    <tr>\n",
              "      <th>Satisfeito (a)</th>\n",
              "      <td>6920</td>\n",
              "      <td>41.797536</td>\n",
              "    </tr>\n",
              "    <tr>\n",
              "      <th>Muito Satisfeito (a)</th>\n",
              "      <td>4608</td>\n",
              "      <td>27.832810</td>\n",
              "    </tr>\n",
              "    <tr>\n",
              "      <th>Insatisfeito (a)</th>\n",
              "      <td>2326</td>\n",
              "      <td>14.049287</td>\n",
              "    </tr>\n",
              "    <tr>\n",
              "      <th>Indiferente</th>\n",
              "      <td>1807</td>\n",
              "      <td>10.914472</td>\n",
              "    </tr>\n",
              "    <tr>\n",
              "      <th>Muito Insatisfeito (a)</th>\n",
              "      <td>714</td>\n",
              "      <td>4.312636</td>\n",
              "    </tr>\n",
              "    <tr>\n",
              "      <th>Não Informado</th>\n",
              "      <td>181</td>\n",
              "      <td>1.093259</td>\n",
              "    </tr>\n",
              "  </tbody>\n",
              "</table>\n",
              "</div>"
            ],
            "text/plain": [
              "Como você se sente em relação ao seu corpo?  frequencia  percentual\n",
              "Satisfeito (a)                                     6920   41.797536\n",
              "Muito Satisfeito (a)                               4608   27.832810\n",
              "Insatisfeito (a)                                   2326   14.049287\n",
              "Indiferente                                        1807   10.914472\n",
              "Muito Insatisfeito (a)                              714    4.312636\n",
              "Não Informado                                       181    1.093259"
            ]
          },
          "metadata": {
            "tags": []
          },
          "execution_count": 19
        }
      ]
    },
    {
      "cell_type": "markdown",
      "metadata": {
        "id": "URmGs4TmaDnH"
      },
      "source": [
        "###AULA 02 - DESAFIO 01 <br>\r\n",
        ">Criar uma função para gerar as tabelas de frequência e fazer a análise de outras informações. Compartilhar no discord suas análises"
      ]
    },
    {
      "cell_type": "code",
      "metadata": {
        "id": "HZl7cZNwXjl_"
      },
      "source": [
        "def tab_freq(dataset : pd.DataFrame, dicionario : dict = None, titulo_index : str = None):\r\n",
        "  frequencia = dataset.value_counts()\r\n",
        "  percentual = dataset.value_counts(normalize=True) *100\r\n",
        "  dataset_final = pd.DataFrame({\"Frequencia\": frequencia, \"Percentual\": percentual})\r\n",
        "\r\n",
        "  if dicionario:\r\n",
        "    dataset_final.rename(index=dicionario, inplace =True)\r\n",
        "  \r\n",
        "  if titulo_index:\r\n",
        "    dataset_final.rename_axis(titulo_index,axis=1,inplace=True)\r\n",
        "    \r\n",
        "  return dataset_final"
      ],
      "execution_count": 20,
      "outputs": []
    },
    {
      "cell_type": "code",
      "metadata": {
        "colab": {
          "base_uri": "https://localhost:8080/",
          "height": 204
        },
        "id": "fZg2jmn7cALR",
        "outputId": "446d7c69-39bf-4bae-d2ca-0ca37b0b130d"
      },
      "source": [
        "respostas1 = {\r\n",
        "    1: 'Muito Importante',\r\n",
        "    2: 'Importante',\r\n",
        "    3: 'Pouco Importante',\r\n",
        "    4: 'Sem Importância',\r\n",
        "    99: 'Não Informado'\r\n",
        "}\r\n",
        "teste1 = tab_freq(dados[\"VB11006\"],respostas1,\"Você considera sua imagem corporal como sendo algo\")\r\n",
        "teste1"
      ],
      "execution_count": 21,
      "outputs": [
        {
          "output_type": "execute_result",
          "data": {
            "text/html": [
              "<div>\n",
              "<style scoped>\n",
              "    .dataframe tbody tr th:only-of-type {\n",
              "        vertical-align: middle;\n",
              "    }\n",
              "\n",
              "    .dataframe tbody tr th {\n",
              "        vertical-align: top;\n",
              "    }\n",
              "\n",
              "    .dataframe thead th {\n",
              "        text-align: right;\n",
              "    }\n",
              "</style>\n",
              "<table border=\"1\" class=\"dataframe\">\n",
              "  <thead>\n",
              "    <tr style=\"text-align: right;\">\n",
              "      <th>Você considera sua imagem corporal como sendo algo</th>\n",
              "      <th>Frequencia</th>\n",
              "      <th>Percentual</th>\n",
              "    </tr>\n",
              "  </thead>\n",
              "  <tbody>\n",
              "    <tr>\n",
              "      <th>Muito Importante</th>\n",
              "      <td>7102</td>\n",
              "      <td>42.896835</td>\n",
              "    </tr>\n",
              "    <tr>\n",
              "      <th>Importante</th>\n",
              "      <td>6604</td>\n",
              "      <td>39.888862</td>\n",
              "    </tr>\n",
              "    <tr>\n",
              "      <th>Pouco Importante</th>\n",
              "      <td>1969</td>\n",
              "      <td>11.892969</td>\n",
              "    </tr>\n",
              "    <tr>\n",
              "      <th>Sem Importância</th>\n",
              "      <td>726</td>\n",
              "      <td>4.385117</td>\n",
              "    </tr>\n",
              "    <tr>\n",
              "      <th>Não Informado</th>\n",
              "      <td>155</td>\n",
              "      <td>0.936216</td>\n",
              "    </tr>\n",
              "  </tbody>\n",
              "</table>\n",
              "</div>"
            ],
            "text/plain": [
              "Você considera sua imagem corporal como sendo algo  Frequencia  Percentual\n",
              "Muito Importante                                          7102   42.896835\n",
              "Importante                                                6604   39.888862\n",
              "Pouco Importante                                          1969   11.892969\n",
              "Sem Importância                                            726    4.385117\n",
              "Não Informado                                              155    0.936216"
            ]
          },
          "metadata": {
            "tags": []
          },
          "execution_count": 21
        }
      ]
    },
    {
      "cell_type": "code",
      "metadata": {
        "colab": {
          "base_uri": "https://localhost:8080/",
          "height": 514
        },
        "id": "yrP6WUz4jibJ",
        "outputId": "17220de5-9bf3-4980-b529-a29a22163d6a"
      },
      "source": [
        "respostas2 = {\r\n",
        "    -1: \"Pulo no questionário\",\r\n",
        "    1: \"Apoio para controle de peso (ganhar ou perder)\",\r\n",
        "    2: \"Apoio para parar de fumar\",\r\n",
        "    3: \"Acidente ou lesão\",\r\n",
        "    4: \"Reabilitação ou terapia\",\r\n",
        "    5: \"Doença\",\r\n",
        "    6: \"Problema odontológico\",\r\n",
        "    7: \"Vacinação\",\r\n",
        "    8: \"Consulta para métodos contraceptivos (preservativos, pílula, DIU etc)\",\r\n",
        "    9: \"Buscar contracepção de emergência (pílula do dia seguinte)\",\r\n",
        "    10: \"Teste para HIV, Sífilis ou Hepatite B\",\r\n",
        "    11:\"Pré-natal / Teste para gravidez\",\r\n",
        "    12: \"Solicitação de atestado médico\",\r\n",
        "    13: \"Outro\",\r\n",
        "    99: 'Não Informado'\r\n",
        "}\r\n",
        "tab_freq(dados[\"VB13007\"],respostas2,\"Qual foi o PRINCIPAL MOTIVO da sua procura na UBS\")"
      ],
      "execution_count": 22,
      "outputs": [
        {
          "output_type": "execute_result",
          "data": {
            "text/html": [
              "<div>\n",
              "<style scoped>\n",
              "    .dataframe tbody tr th:only-of-type {\n",
              "        vertical-align: middle;\n",
              "    }\n",
              "\n",
              "    .dataframe tbody tr th {\n",
              "        vertical-align: top;\n",
              "    }\n",
              "\n",
              "    .dataframe thead th {\n",
              "        text-align: right;\n",
              "    }\n",
              "</style>\n",
              "<table border=\"1\" class=\"dataframe\">\n",
              "  <thead>\n",
              "    <tr style=\"text-align: right;\">\n",
              "      <th>Qual foi o PRINCIPAL MOTIVO da sua procura na UBS</th>\n",
              "      <th>Frequencia</th>\n",
              "      <th>Percentual</th>\n",
              "    </tr>\n",
              "  </thead>\n",
              "  <tbody>\n",
              "    <tr>\n",
              "      <th>Pulo no questionário</th>\n",
              "      <td>5526</td>\n",
              "      <td>33.377627</td>\n",
              "    </tr>\n",
              "    <tr>\n",
              "      <th>Doença</th>\n",
              "      <td>2642</td>\n",
              "      <td>15.957961</td>\n",
              "    </tr>\n",
              "    <tr>\n",
              "      <th>Apoio para controle de peso (ganhar ou perder)</th>\n",
              "      <td>2171</td>\n",
              "      <td>13.113071</td>\n",
              "    </tr>\n",
              "    <tr>\n",
              "      <th>Vacinação</th>\n",
              "      <td>2018</td>\n",
              "      <td>12.188935</td>\n",
              "    </tr>\n",
              "    <tr>\n",
              "      <th>Outro</th>\n",
              "      <td>1994</td>\n",
              "      <td>12.043972</td>\n",
              "    </tr>\n",
              "    <tr>\n",
              "      <th>Acidente ou lesão</th>\n",
              "      <td>680</td>\n",
              "      <td>4.107272</td>\n",
              "    </tr>\n",
              "    <tr>\n",
              "      <th>Problema odontológico</th>\n",
              "      <td>444</td>\n",
              "      <td>2.681807</td>\n",
              "    </tr>\n",
              "    <tr>\n",
              "      <th>Solicitação de atestado médico</th>\n",
              "      <td>296</td>\n",
              "      <td>1.787871</td>\n",
              "    </tr>\n",
              "    <tr>\n",
              "      <th>Não Informado</th>\n",
              "      <td>235</td>\n",
              "      <td>1.419425</td>\n",
              "    </tr>\n",
              "    <tr>\n",
              "      <th>Consulta para métodos contraceptivos (preservativos, pílula, DIU etc)</th>\n",
              "      <td>168</td>\n",
              "      <td>1.014738</td>\n",
              "    </tr>\n",
              "    <tr>\n",
              "      <th>Apoio para parar de fumar</th>\n",
              "      <td>144</td>\n",
              "      <td>0.869775</td>\n",
              "    </tr>\n",
              "    <tr>\n",
              "      <th>Reabilitação ou terapia</th>\n",
              "      <td>89</td>\n",
              "      <td>0.537569</td>\n",
              "    </tr>\n",
              "    <tr>\n",
              "      <th>Teste para HIV, Sífilis ou Hepatite B</th>\n",
              "      <td>80</td>\n",
              "      <td>0.483209</td>\n",
              "    </tr>\n",
              "    <tr>\n",
              "      <th>Buscar contracepção de emergência (pílula do dia seguinte)</th>\n",
              "      <td>46</td>\n",
              "      <td>0.277845</td>\n",
              "    </tr>\n",
              "    <tr>\n",
              "      <th>Pré-natal / Teste para gravidez</th>\n",
              "      <td>23</td>\n",
              "      <td>0.138922</td>\n",
              "    </tr>\n",
              "  </tbody>\n",
              "</table>\n",
              "</div>"
            ],
            "text/plain": [
              "Qual foi o PRINCIPAL MOTIVO da sua procura na UBS   Frequencia  Percentual\n",
              "Pulo no questionário                                      5526   33.377627\n",
              "Doença                                                    2642   15.957961\n",
              "Apoio para controle de peso (ganhar ou perder)            2171   13.113071\n",
              "Vacinação                                                 2018   12.188935\n",
              "Outro                                                     1994   12.043972\n",
              "Acidente ou lesão                                          680    4.107272\n",
              "Problema odontológico                                      444    2.681807\n",
              "Solicitação de atestado médico                             296    1.787871\n",
              "Não Informado                                              235    1.419425\n",
              "Consulta para métodos contraceptivos (preservat...         168    1.014738\n",
              "Apoio para parar de fumar                                  144    0.869775\n",
              "Reabilitação ou terapia                                     89    0.537569\n",
              "Teste para HIV, Sífilis ou Hepatite B                       80    0.483209\n",
              "Buscar contracepção de emergência (pílula do di...          46    0.277845\n",
              "Pré-natal / Teste para gravidez                             23    0.138922"
            ]
          },
          "metadata": {
            "tags": []
          },
          "execution_count": 22
        }
      ]
    },
    {
      "cell_type": "markdown",
      "metadata": {
        "id": "vnlJLPWbZpVt"
      },
      "source": [
        "##AULA 03 - Frequência em Dados Contínuos e Pandas Crosstab\r\n",
        "---"
      ]
    },
    {
      "cell_type": "markdown",
      "metadata": {
        "id": "q38ViP8sbuIU"
      },
      "source": [
        "Continuando nossas análises, vamos ver uma coluna que trata das alturas dos alunos. Esse tipo de informação não contém, diferente de outros casos, uma \"classificação\". E agora ? que coisas podemos fazer?"
      ]
    },
    {
      "cell_type": "code",
      "metadata": {
        "colab": {
          "base_uri": "https://localhost:8080/"
        },
        "id": "SiMiiLMPaUgF",
        "outputId": "cb14ec37-d1c1-4902-f213-69e852d179e0"
      },
      "source": [
        "dados['VB17004']"
      ],
      "execution_count": 23,
      "outputs": [
        {
          "output_type": "execute_result",
          "data": {
            "text/plain": [
              "0        157.0\n",
              "1        152.0\n",
              "2        161.4\n",
              "3        172.5\n",
              "4        167.5\n",
              "         ...  \n",
              "16551    167.9\n",
              "16552    185.8\n",
              "16553    159.4\n",
              "16554    157.8\n",
              "16555    163.9\n",
              "Name: VB17004, Length: 16556, dtype: float64"
            ]
          },
          "metadata": {
            "tags": []
          },
          "execution_count": 23
        }
      ]
    },
    {
      "cell_type": "markdown",
      "metadata": {
        "id": "Ev52TRp4dQyG"
      },
      "source": [
        "Vamos calcular o IMC? não temos muito o que fazer só com a altura, mas analisando o peso por exemplo, podemos calcular o imc, cuja fórmula é:\r\n",
        "\r\n",
        "\\begin{equation}\r\n",
        "IMC =\\dfrac{PESO}{ALTURA ^2}\r\n",
        "\\end{equation}\r\n",
        "<br>\r\n",
        "Lembrando que no IMC, calculamos a altura em metros. Nossa coluna está em centrímetros, logo, dividiremos por 100."
      ]
    },
    {
      "cell_type": "code",
      "metadata": {
        "colab": {
          "base_uri": "https://localhost:8080/"
        },
        "id": "NjusIxuRb_Ch",
        "outputId": "05748d94-4991-4fd6-835d-4e141f726200"
      },
      "source": [
        "dados['IMC'] = dados['VB17003'] / ((dados['VB17004'] / 100) **2)\r\n",
        "dados['IMC']"
      ],
      "execution_count": 24,
      "outputs": [
        {
          "output_type": "execute_result",
          "data": {
            "text/plain": [
              "0        15.051321\n",
              "1        21.727839\n",
              "2        18.502907\n",
              "3        23.322831\n",
              "4        28.122076\n",
              "           ...    \n",
              "16551    20.113223\n",
              "16552    17.930782\n",
              "16553    23.968489\n",
              "16554    18.995343\n",
              "16555    23.303246\n",
              "Name: IMC, Length: 16556, dtype: float64"
            ]
          },
          "metadata": {
            "tags": []
          },
          "execution_count": 24
        }
      ]
    },
    {
      "cell_type": "markdown",
      "metadata": {
        "id": "G42ldMWqhjiP"
      },
      "source": [
        "Muito bom! mas sabe o que seria melhor? se nós tivéssemos como por a qual grupo cada um dos valores pertence no imc. Com o pd.cut(), nós vamos conseguir isso! Observe a explicação do que ele faz:\r\n",
        "\r\n",
        "> Use o cut quando você deseja  segmentar e ordenar os valores dos dados de acordo com o `bins`. Essa função também é usada para ir de uma variável contínua para uma variável categórica. Por exemplo, por meio do **cut**, podemos converter idades em faixa etárias 👶 👧 👩 👩‍🦳 👵.<br>\r\n",
        "Abaixo, um esquema para relembrar os tipos de dados\r\n",
        "\r\n",
        "<img src=\"https://static.docsity.com/documents_pages/notas/2012/11/22/2672b74e300a6c8138c474faf4be55f1.png\"  width='400px' heigth='400px'>"
      ]
    },
    {
      "cell_type": "code",
      "metadata": {
        "id": "qlaI9iN0fPkr"
      },
      "source": [
        "classes =[0,18.5,25,30,60]\r\n",
        "labels=[\"abaixo\",\"normal\",\"sobrepeso\",\"obesidade\"]\r\n",
        "\r\n",
        "dados['CLASSE_IMC'] = pd.cut(x=dados['IMC'],\r\n",
        "       bins = classes,\r\n",
        "       labels=labels,\r\n",
        "       include_lowest=True) #esse aqui funciona da seguinte forma: inclui o intervalo mais baixo como fechado, e o mais alto como aberto"
      ],
      "execution_count": 25,
      "outputs": []
    },
    {
      "cell_type": "code",
      "metadata": {
        "colab": {
          "base_uri": "https://localhost:8080/",
          "height": 419
        },
        "id": "Ie_itq6alD63",
        "outputId": "7a58b891-ef54-4f5d-dfc4-1258916892d6"
      },
      "source": [
        "dados[['IMC','CLASSE_IMC']]"
      ],
      "execution_count": 26,
      "outputs": [
        {
          "output_type": "execute_result",
          "data": {
            "text/html": [
              "<div>\n",
              "<style scoped>\n",
              "    .dataframe tbody tr th:only-of-type {\n",
              "        vertical-align: middle;\n",
              "    }\n",
              "\n",
              "    .dataframe tbody tr th {\n",
              "        vertical-align: top;\n",
              "    }\n",
              "\n",
              "    .dataframe thead th {\n",
              "        text-align: right;\n",
              "    }\n",
              "</style>\n",
              "<table border=\"1\" class=\"dataframe\">\n",
              "  <thead>\n",
              "    <tr style=\"text-align: right;\">\n",
              "      <th></th>\n",
              "      <th>IMC</th>\n",
              "      <th>CLASSE_IMC</th>\n",
              "    </tr>\n",
              "  </thead>\n",
              "  <tbody>\n",
              "    <tr>\n",
              "      <th>0</th>\n",
              "      <td>15.051321</td>\n",
              "      <td>abaixo</td>\n",
              "    </tr>\n",
              "    <tr>\n",
              "      <th>1</th>\n",
              "      <td>21.727839</td>\n",
              "      <td>normal</td>\n",
              "    </tr>\n",
              "    <tr>\n",
              "      <th>2</th>\n",
              "      <td>18.502907</td>\n",
              "      <td>normal</td>\n",
              "    </tr>\n",
              "    <tr>\n",
              "      <th>3</th>\n",
              "      <td>23.322831</td>\n",
              "      <td>normal</td>\n",
              "    </tr>\n",
              "    <tr>\n",
              "      <th>4</th>\n",
              "      <td>28.122076</td>\n",
              "      <td>sobrepeso</td>\n",
              "    </tr>\n",
              "    <tr>\n",
              "      <th>...</th>\n",
              "      <td>...</td>\n",
              "      <td>...</td>\n",
              "    </tr>\n",
              "    <tr>\n",
              "      <th>16551</th>\n",
              "      <td>20.113223</td>\n",
              "      <td>normal</td>\n",
              "    </tr>\n",
              "    <tr>\n",
              "      <th>16552</th>\n",
              "      <td>17.930782</td>\n",
              "      <td>abaixo</td>\n",
              "    </tr>\n",
              "    <tr>\n",
              "      <th>16553</th>\n",
              "      <td>23.968489</td>\n",
              "      <td>normal</td>\n",
              "    </tr>\n",
              "    <tr>\n",
              "      <th>16554</th>\n",
              "      <td>18.995343</td>\n",
              "      <td>normal</td>\n",
              "    </tr>\n",
              "    <tr>\n",
              "      <th>16555</th>\n",
              "      <td>23.303246</td>\n",
              "      <td>normal</td>\n",
              "    </tr>\n",
              "  </tbody>\n",
              "</table>\n",
              "<p>16556 rows × 2 columns</p>\n",
              "</div>"
            ],
            "text/plain": [
              "             IMC CLASSE_IMC\n",
              "0      15.051321     abaixo\n",
              "1      21.727839     normal\n",
              "2      18.502907     normal\n",
              "3      23.322831     normal\n",
              "4      28.122076  sobrepeso\n",
              "...          ...        ...\n",
              "16551  20.113223     normal\n",
              "16552  17.930782     abaixo\n",
              "16553  23.968489     normal\n",
              "16554  18.995343     normal\n",
              "16555  23.303246     normal\n",
              "\n",
              "[16556 rows x 2 columns]"
            ]
          },
          "metadata": {
            "tags": []
          },
          "execution_count": 26
        }
      ]
    },
    {
      "cell_type": "markdown",
      "metadata": {
        "id": "DAkR78Riml2B"
      },
      "source": [
        "Com a função criada no desafio anterior, podemos ver a frequencia e o percentual"
      ]
    },
    {
      "cell_type": "code",
      "metadata": {
        "colab": {
          "base_uri": "https://localhost:8080/",
          "height": 173
        },
        "id": "Qa0HoKtOlT_9",
        "outputId": "ba7e6bfb-8b2c-49ac-d960-c1093ebc1ac1"
      },
      "source": [
        "tab_freq(dados['CLASSE_IMC'],None,\"IMC FREQUENCIA\")"
      ],
      "execution_count": 27,
      "outputs": [
        {
          "output_type": "execute_result",
          "data": {
            "text/html": [
              "<div>\n",
              "<style scoped>\n",
              "    .dataframe tbody tr th:only-of-type {\n",
              "        vertical-align: middle;\n",
              "    }\n",
              "\n",
              "    .dataframe tbody tr th {\n",
              "        vertical-align: top;\n",
              "    }\n",
              "\n",
              "    .dataframe thead th {\n",
              "        text-align: right;\n",
              "    }\n",
              "</style>\n",
              "<table border=\"1\" class=\"dataframe\">\n",
              "  <thead>\n",
              "    <tr style=\"text-align: right;\">\n",
              "      <th>IMC FREQUENCIA</th>\n",
              "      <th>Frequencia</th>\n",
              "      <th>Percentual</th>\n",
              "    </tr>\n",
              "  </thead>\n",
              "  <tbody>\n",
              "    <tr>\n",
              "      <th>normal</th>\n",
              "      <td>9188</td>\n",
              "      <td>55.496497</td>\n",
              "    </tr>\n",
              "    <tr>\n",
              "      <th>abaixo</th>\n",
              "      <td>4975</td>\n",
              "      <td>30.049529</td>\n",
              "    </tr>\n",
              "    <tr>\n",
              "      <th>sobrepeso</th>\n",
              "      <td>1760</td>\n",
              "      <td>10.630587</td>\n",
              "    </tr>\n",
              "    <tr>\n",
              "      <th>obesidade</th>\n",
              "      <td>633</td>\n",
              "      <td>3.823387</td>\n",
              "    </tr>\n",
              "  </tbody>\n",
              "</table>\n",
              "</div>"
            ],
            "text/plain": [
              "IMC FREQUENCIA  Frequencia  Percentual\n",
              "normal                9188   55.496497\n",
              "abaixo                4975   30.049529\n",
              "sobrepeso             1760   10.630587\n",
              "obesidade              633    3.823387"
            ]
          },
          "metadata": {
            "tags": []
          },
          "execution_count": 27
        }
      ]
    },
    {
      "cell_type": "markdown",
      "metadata": {
        "id": "lbZDgreNIJxm"
      },
      "source": [
        "Continuando a aula, surge a necessidade de vincular diferentes colunas umas com as outras ou mesmo de cruzar colunas. Com o **pandas.crosstab()** isso é possível. Temos nele que : *Calcular uma simples tabulação cruzada de dois (ou mais) fatores. Por padrão, uma tabela de frequência dos fatores, a menos que uma matriz de valores e uma função de agregação sejam passadas.*\r\n",
        "\r\n"
      ]
    },
    {
      "cell_type": "code",
      "metadata": {
        "colab": {
          "base_uri": "https://localhost:8080/",
          "height": 266
        },
        "id": "j4Wf9mE0ghIb",
        "outputId": "6316d5f9-0ac4-4b9f-bb19-8206a8755497"
      },
      "source": [
        "frequencia_cruzada = pd.crosstab(dados['VB11007'],dados['VB01001']) #estamos cruzando a coluna de satisfação com o corpo e a coluna sexo\r\n",
        "frequencia_cruzada"
      ],
      "execution_count": 28,
      "outputs": [
        {
          "output_type": "execute_result",
          "data": {
            "text/html": [
              "<div>\n",
              "<style scoped>\n",
              "    .dataframe tbody tr th:only-of-type {\n",
              "        vertical-align: middle;\n",
              "    }\n",
              "\n",
              "    .dataframe tbody tr th {\n",
              "        vertical-align: top;\n",
              "    }\n",
              "\n",
              "    .dataframe thead th {\n",
              "        text-align: right;\n",
              "    }\n",
              "</style>\n",
              "<table border=\"1\" class=\"dataframe\">\n",
              "  <thead>\n",
              "    <tr style=\"text-align: right;\">\n",
              "      <th>VB01001</th>\n",
              "      <th>1</th>\n",
              "      <th>2</th>\n",
              "    </tr>\n",
              "    <tr>\n",
              "      <th>VB11007</th>\n",
              "      <th></th>\n",
              "      <th></th>\n",
              "    </tr>\n",
              "  </thead>\n",
              "  <tbody>\n",
              "    <tr>\n",
              "      <th>1</th>\n",
              "      <td>2682</td>\n",
              "      <td>1926</td>\n",
              "    </tr>\n",
              "    <tr>\n",
              "      <th>2</th>\n",
              "      <td>3490</td>\n",
              "      <td>3430</td>\n",
              "    </tr>\n",
              "    <tr>\n",
              "      <th>3</th>\n",
              "      <td>950</td>\n",
              "      <td>857</td>\n",
              "    </tr>\n",
              "    <tr>\n",
              "      <th>4</th>\n",
              "      <td>786</td>\n",
              "      <td>1540</td>\n",
              "    </tr>\n",
              "    <tr>\n",
              "      <th>5</th>\n",
              "      <td>260</td>\n",
              "      <td>454</td>\n",
              "    </tr>\n",
              "    <tr>\n",
              "      <th>99</th>\n",
              "      <td>119</td>\n",
              "      <td>62</td>\n",
              "    </tr>\n",
              "  </tbody>\n",
              "</table>\n",
              "</div>"
            ],
            "text/plain": [
              "VB01001     1     2\n",
              "VB11007            \n",
              "1        2682  1926\n",
              "2        3490  3430\n",
              "3         950   857\n",
              "4         786  1540\n",
              "5         260   454\n",
              "99        119    62"
            ]
          },
          "metadata": {
            "tags": []
          },
          "execution_count": 28
        }
      ]
    },
    {
      "cell_type": "code",
      "metadata": {
        "colab": {
          "base_uri": "https://localhost:8080/",
          "height": 266
        },
        "id": "aDXTtKbkmKbP",
        "outputId": "3eb30ca5-097f-410d-d9d4-0759ada070fe"
      },
      "source": [
        "#De forma mais organizada temos:\r\n",
        "frequencia_cruzada = pd.crosstab(dados['VB11007'],dados['VB01001'],normalize=True) *100\r\n",
        "frequencia_cruzada.rename(index=respostas,inplace=True)\r\n",
        "frequencia_cruzada.rename(columns={1:\"Masculino\",2:\"Feminino\"},inplace=True)\r\n",
        "frequencia_cruzada.rename_axis(index=\"Satisfação com o corpo em relação ao sexo\",axis=1,inplace=True)\r\n",
        "frequencia_cruzada"
      ],
      "execution_count": 29,
      "outputs": [
        {
          "output_type": "execute_result",
          "data": {
            "text/html": [
              "<div>\n",
              "<style scoped>\n",
              "    .dataframe tbody tr th:only-of-type {\n",
              "        vertical-align: middle;\n",
              "    }\n",
              "\n",
              "    .dataframe tbody tr th {\n",
              "        vertical-align: top;\n",
              "    }\n",
              "\n",
              "    .dataframe thead th {\n",
              "        text-align: right;\n",
              "    }\n",
              "</style>\n",
              "<table border=\"1\" class=\"dataframe\">\n",
              "  <thead>\n",
              "    <tr style=\"text-align: right;\">\n",
              "      <th>VB01001</th>\n",
              "      <th>Masculino</th>\n",
              "      <th>Feminino</th>\n",
              "    </tr>\n",
              "    <tr>\n",
              "      <th>Satisfação com o corpo em relação ao sexo</th>\n",
              "      <th></th>\n",
              "      <th></th>\n",
              "    </tr>\n",
              "  </thead>\n",
              "  <tbody>\n",
              "    <tr>\n",
              "      <th>Muito Satisfeito (a)</th>\n",
              "      <td>16.199565</td>\n",
              "      <td>11.633245</td>\n",
              "    </tr>\n",
              "    <tr>\n",
              "      <th>Satisfeito (a)</th>\n",
              "      <td>21.079971</td>\n",
              "      <td>20.717565</td>\n",
              "    </tr>\n",
              "    <tr>\n",
              "      <th>Indiferente</th>\n",
              "      <td>5.738101</td>\n",
              "      <td>5.176371</td>\n",
              "    </tr>\n",
              "    <tr>\n",
              "      <th>Insatisfeito (a)</th>\n",
              "      <td>4.747524</td>\n",
              "      <td>9.301764</td>\n",
              "    </tr>\n",
              "    <tr>\n",
              "      <th>Muito Insatisfeito (a)</th>\n",
              "      <td>1.570428</td>\n",
              "      <td>2.742208</td>\n",
              "    </tr>\n",
              "    <tr>\n",
              "      <th>Não Informado</th>\n",
              "      <td>0.718773</td>\n",
              "      <td>0.374487</td>\n",
              "    </tr>\n",
              "  </tbody>\n",
              "</table>\n",
              "</div>"
            ],
            "text/plain": [
              "VB01001                                    Masculino   Feminino\n",
              "Satisfação com o corpo em relação ao sexo                      \n",
              "Muito Satisfeito (a)                       16.199565  11.633245\n",
              "Satisfeito (a)                             21.079971  20.717565\n",
              "Indiferente                                 5.738101   5.176371\n",
              "Insatisfeito (a)                            4.747524   9.301764\n",
              "Muito Insatisfeito (a)                      1.570428   2.742208\n",
              "Não Informado                               0.718773   0.374487"
            ]
          },
          "metadata": {
            "tags": []
          },
          "execution_count": 29
        }
      ]
    },
    {
      "cell_type": "markdown",
      "metadata": {
        "id": "RLAJiTqInlFU"
      },
      "source": [
        "Observe que usando o normalize, ele aplica a porcentagem de acordo com o total dos valores. Na verdade, o que desejamos é que seja apresentado a porcentagem de acordo com cada coluna. Porcentagem de satisfeitos do sexo masculino por exemplo. Com o próprio crosstab, resolvemos isso"
      ]
    },
    {
      "cell_type": "code",
      "metadata": {
        "colab": {
          "base_uri": "https://localhost:8080/",
          "height": 266
        },
        "id": "Um7iK_K9n3qA",
        "outputId": "26be1103-3f53-4993-eb98-8c6386f7f229"
      },
      "source": [
        "frequencia_cruzada = pd.crosstab(dados['VB11007'],dados['VB01001'],normalize=\"columns\") *100\r\n",
        "frequencia_cruzada.rename(index=respostas,inplace=True)\r\n",
        "frequencia_cruzada.rename(columns={1:\"Masculino\",2:\"Feminino\"},inplace=True)\r\n",
        "frequencia_cruzada.rename_axis(index=\"Satisfação com o corpo em relação ao sexo\",axis=1,inplace=True)\r\n",
        "frequencia_cruzada"
      ],
      "execution_count": 30,
      "outputs": [
        {
          "output_type": "execute_result",
          "data": {
            "text/html": [
              "<div>\n",
              "<style scoped>\n",
              "    .dataframe tbody tr th:only-of-type {\n",
              "        vertical-align: middle;\n",
              "    }\n",
              "\n",
              "    .dataframe tbody tr th {\n",
              "        vertical-align: top;\n",
              "    }\n",
              "\n",
              "    .dataframe thead th {\n",
              "        text-align: right;\n",
              "    }\n",
              "</style>\n",
              "<table border=\"1\" class=\"dataframe\">\n",
              "  <thead>\n",
              "    <tr style=\"text-align: right;\">\n",
              "      <th>VB01001</th>\n",
              "      <th>Masculino</th>\n",
              "      <th>Feminino</th>\n",
              "    </tr>\n",
              "    <tr>\n",
              "      <th>Satisfação com o corpo em relação ao sexo</th>\n",
              "      <th></th>\n",
              "      <th></th>\n",
              "    </tr>\n",
              "  </thead>\n",
              "  <tbody>\n",
              "    <tr>\n",
              "      <th>Muito Satisfeito (a)</th>\n",
              "      <td>32.363944</td>\n",
              "      <td>23.291813</td>\n",
              "    </tr>\n",
              "    <tr>\n",
              "      <th>Satisfeito (a)</th>\n",
              "      <td>42.114155</td>\n",
              "      <td>41.480227</td>\n",
              "    </tr>\n",
              "    <tr>\n",
              "      <th>Indiferente</th>\n",
              "      <td>11.463738</td>\n",
              "      <td>10.364010</td>\n",
              "    </tr>\n",
              "    <tr>\n",
              "      <th>Insatisfeito (a)</th>\n",
              "      <td>9.484735</td>\n",
              "      <td>18.623776</td>\n",
              "    </tr>\n",
              "    <tr>\n",
              "      <th>Muito Insatisfeito (a)</th>\n",
              "      <td>3.137444</td>\n",
              "      <td>5.490386</td>\n",
              "    </tr>\n",
              "    <tr>\n",
              "      <th>Não Informado</th>\n",
              "      <td>1.435984</td>\n",
              "      <td>0.749788</td>\n",
              "    </tr>\n",
              "  </tbody>\n",
              "</table>\n",
              "</div>"
            ],
            "text/plain": [
              "VB01001                                    Masculino   Feminino\n",
              "Satisfação com o corpo em relação ao sexo                      \n",
              "Muito Satisfeito (a)                       32.363944  23.291813\n",
              "Satisfeito (a)                             42.114155  41.480227\n",
              "Indiferente                                11.463738  10.364010\n",
              "Insatisfeito (a)                            9.484735  18.623776\n",
              "Muito Insatisfeito (a)                      3.137444   5.490386\n",
              "Não Informado                               1.435984   0.749788"
            ]
          },
          "metadata": {
            "tags": []
          },
          "execution_count": 30
        }
      ]
    },
    {
      "cell_type": "markdown",
      "metadata": {
        "id": "oijdEzrsovz0"
      },
      "source": [
        "Podemos também fazer para as linhas. Podemos, por exemplo levantar a seguinte hipótese: **Quantos porcento das pessoas estão satisfeitas com seu corpo?**"
      ]
    },
    {
      "cell_type": "code",
      "metadata": {
        "colab": {
          "base_uri": "https://localhost:8080/",
          "height": 266
        },
        "id": "AbCmD5hMo9SS",
        "outputId": "8bcc982a-840f-47d1-8a8f-2cfd001f2941"
      },
      "source": [
        "frequencia_cruzada = pd.crosstab(dados['VB11007'],dados['VB01001'],normalize=\"index\") *100\r\n",
        "frequencia_cruzada.rename(index=respostas,inplace=True)\r\n",
        "frequencia_cruzada.rename(columns={1:\"Masculino\",2:\"Feminino\"},inplace=True)\r\n",
        "frequencia_cruzada.rename_axis(index=\"Satisfação com o corpo em relação ao sexo\",axis=1,inplace=True)\r\n",
        "frequencia_cruzada"
      ],
      "execution_count": 31,
      "outputs": [
        {
          "output_type": "execute_result",
          "data": {
            "text/html": [
              "<div>\n",
              "<style scoped>\n",
              "    .dataframe tbody tr th:only-of-type {\n",
              "        vertical-align: middle;\n",
              "    }\n",
              "\n",
              "    .dataframe tbody tr th {\n",
              "        vertical-align: top;\n",
              "    }\n",
              "\n",
              "    .dataframe thead th {\n",
              "        text-align: right;\n",
              "    }\n",
              "</style>\n",
              "<table border=\"1\" class=\"dataframe\">\n",
              "  <thead>\n",
              "    <tr style=\"text-align: right;\">\n",
              "      <th>VB01001</th>\n",
              "      <th>Masculino</th>\n",
              "      <th>Feminino</th>\n",
              "    </tr>\n",
              "    <tr>\n",
              "      <th>Satisfação com o corpo em relação ao sexo</th>\n",
              "      <th></th>\n",
              "      <th></th>\n",
              "    </tr>\n",
              "  </thead>\n",
              "  <tbody>\n",
              "    <tr>\n",
              "      <th>Muito Satisfeito (a)</th>\n",
              "      <td>58.203125</td>\n",
              "      <td>41.796875</td>\n",
              "    </tr>\n",
              "    <tr>\n",
              "      <th>Satisfeito (a)</th>\n",
              "      <td>50.433526</td>\n",
              "      <td>49.566474</td>\n",
              "    </tr>\n",
              "    <tr>\n",
              "      <th>Indiferente</th>\n",
              "      <td>52.573326</td>\n",
              "      <td>47.426674</td>\n",
              "    </tr>\n",
              "    <tr>\n",
              "      <th>Insatisfeito (a)</th>\n",
              "      <td>33.791917</td>\n",
              "      <td>66.208083</td>\n",
              "    </tr>\n",
              "    <tr>\n",
              "      <th>Muito Insatisfeito (a)</th>\n",
              "      <td>36.414566</td>\n",
              "      <td>63.585434</td>\n",
              "    </tr>\n",
              "    <tr>\n",
              "      <th>Não Informado</th>\n",
              "      <td>65.745856</td>\n",
              "      <td>34.254144</td>\n",
              "    </tr>\n",
              "  </tbody>\n",
              "</table>\n",
              "</div>"
            ],
            "text/plain": [
              "VB01001                                    Masculino   Feminino\n",
              "Satisfação com o corpo em relação ao sexo                      \n",
              "Muito Satisfeito (a)                       58.203125  41.796875\n",
              "Satisfeito (a)                             50.433526  49.566474\n",
              "Indiferente                                52.573326  47.426674\n",
              "Insatisfeito (a)                           33.791917  66.208083\n",
              "Muito Insatisfeito (a)                     36.414566  63.585434\n",
              "Não Informado                              65.745856  34.254144"
            ]
          },
          "metadata": {
            "tags": []
          },
          "execution_count": 31
        }
      ]
    },
    {
      "cell_type": "markdown",
      "metadata": {
        "id": "f3Up7AmkpBUw"
      },
      "source": [
        "E então temos a resposta: quanto a pergunta relacionada a satisfação com o corpo, 50,43% das pessoas que responderam estar satisfeitas com o seu corpo são do sexo masculino. Com relação a satisfação com o corpo, 66,20% das pessoas que responderam estarem insatisfeitas são do sexo feminino, praticamente o dobro em comparação a 33,79% do sexo masculino."
      ]
    },
    {
      "cell_type": "markdown",
      "metadata": {
        "id": "WseYOgrktHVN"
      },
      "source": [
        "###EXPLICAÇÃO MATEMATICA : REGRA DE STURGES"
      ]
    },
    {
      "cell_type": "markdown",
      "metadata": {
        "id": "1fFoyg24nbng"
      },
      "source": [
        "Esse assunto é abordado em aula e em um desafio, vamos entender ele melhor.\r\n",
        "<br>\r\n",
        "<br>\r\n",
        "Pois bem. A chamada **Regra de Sturges** é um critério usado para determinar o número de classes ou intervalos necessários para representar graficamente um conjunto de dados estatísticos. Esta regra foi enunciada em 1926 pelo matemático alemão Herbert Sturges.\r\n",
        "<br>\r\n",
        "Sturges propôs um método simples, baseado no número de amostras x que permitiria encontrar o número de classes e seu alcance. A regra Sturges é amplamente usada, especialmente na área de estatística, especificamente para criar histogramas de frequência.\r\n",
        "<br>Para calcular ela, precisamos passar por algumas etapas. Primeiro temos que calcular o  valor **K** que vai ser o tamanho da nossa amostra ou número de observações:\r\n",
        "\r\n",
        "\\begin{equation}\r\n",
        "K = 1 + 3,322 \\times \\log_{10}({N})\r\n",
        "\\end{equation}\r\n",
        "<br>\r\n",
        "Nesta expressão:\r\n",
        "\r\n",
        "– k é o número de classes.\r\n",
        "\r\n",
        "– N é o número total de observações na amostra.\r\n",
        "\r\n",
        "– Log é o logaritmo comum da base 10.\r\n",
        "\r\n",
        "**NOTA**: Os resultados de **K** devem ser arredondados para **INTEIRO**\r\n",
        "\r\n",
        "<br>\r\n",
        "A regra Sturges é aplicada principalmente em estatística, pois permite que seja feita uma distribuição de frequência através do cálculo do número de classes (k), bem como do comprimento de cada uma delas, também conhecida como amplitude.A amplitude é a diferença do limite superior e inferior da classe, dividida pelo número de classes, e é expressa:\r\n",
        "\r\n",
        "\\begin{equation}\r\n",
        "Amplitude = \\dfrac{{Limite \\space Superior }-{Limite \\space Inferior}}{K}\r\n",
        "\\end{equation}\r\n",
        "\r\n"
      ]
    },
    {
      "cell_type": "markdown",
      "metadata": {
        "id": "6-hc0cSrvBJF"
      },
      "source": [
        "Para calcular os intervalos, teremos que :\r\n",
        "\r\n",
        "\\begin{equation}\r\n",
        "Limite\\space Inferior = Limite \\space Superior + 1 \r\n",
        "\\end{equation}\r\n",
        "\r\n",
        "\\begin{equation}\r\n",
        "Limite\\space Superior = Limite \\space Inferior + Amplitude -  1 \r\n",
        "\\end{equation}\r\n",
        "<br> Supondo então que nossa Amplitude = 6 , nosso limite inferior  inicial  = 13, teremos o seguinte intervalo:\r\n",
        "\r\n",
        "\\begin{equation}\r\n",
        "Limite\\space Superior = 13 + 6 -  1 \r\n",
        "\\end{equation}\r\n",
        "\r\n",
        "\\begin{equation}\r\n",
        "Limite \\space Superior = 18 \r\n",
        "\\end{equation}\r\n",
        "\r\n",
        "\\begin{equation}\r\n",
        "\\big[...\\big]\r\n",
        "\\end{equation}\r\n",
        "<br>\r\n",
        "<br>\r\n",
        "<img src =\"https://maestrovirtuale.com/wp-content/uploads/2019/10/Regla-de-Sturges-2-e1525352158650.jpg\"\r\n",
        "align=\"right\"> <br> Agora  fica a dúvida de como fazer isso em programação"
      ]
    },
    {
      "cell_type": "markdown",
      "metadata": {
        "id": "bcUJTMSnnSs4"
      },
      "source": [
        "###AULA 03 - DESAFIO 01\r\n",
        "> Criar uma tabela de frequência para o peso seguindo a regra de Sturges."
      ]
    },
    {
      "cell_type": "markdown",
      "metadata": {
        "id": "3lonTXWfzuqH"
      },
      "source": [
        "Com base na resposta [aqui](https://pt.stackoverflow.com/questions/270580/como-fazer-uma-tabela-de-distribui%C3%A7%C3%A3o-de-frequ%C3%AAncia-em-python) temos:\r\n",
        "<br>1 - Pegaremos nossa coluna `PESO`"
      ]
    },
    {
      "cell_type": "code",
      "metadata": {
        "colab": {
          "base_uri": "https://localhost:8080/"
        },
        "id": "hwn_4Cc6nbDo",
        "outputId": "56bc4a48-ff65-4542-e7f5-4fcd73f5bda2"
      },
      "source": [
        "dados['VB17003']"
      ],
      "execution_count": 32,
      "outputs": [
        {
          "output_type": "execute_result",
          "data": {
            "text/plain": [
              "0        37.1\n",
              "1        50.2\n",
              "2        48.2\n",
              "3        69.4\n",
              "4        78.9\n",
              "         ... \n",
              "16551    56.7\n",
              "16552    61.9\n",
              "16553    60.9\n",
              "16554    47.3\n",
              "16555    62.6\n",
              "Name: VB17003, Length: 16556, dtype: float64"
            ]
          },
          "metadata": {
            "tags": []
          },
          "execution_count": 32
        }
      ]
    },
    {
      "cell_type": "markdown",
      "metadata": {
        "id": "QOPsM7KrFPs3"
      },
      "source": [
        "Fazemos uma leitura de quantos dados tempos a respeito de peso. No caso, temos 16556 registros de peso"
      ]
    },
    {
      "cell_type": "code",
      "metadata": {
        "colab": {
          "base_uri": "https://localhost:8080/"
        },
        "id": "tfp-OvyeEDWH",
        "outputId": "2ff28990-eeb2-4a64-ff69-ea1b0658f774"
      },
      "source": [
        "len(dados['VB17003'])"
      ],
      "execution_count": 33,
      "outputs": [
        {
          "output_type": "execute_result",
          "data": {
            "text/plain": [
              "16556"
            ]
          },
          "metadata": {
            "tags": []
          },
          "execution_count": 33
        }
      ]
    },
    {
      "cell_type": "markdown",
      "metadata": {
        "id": "raygRwyfFhsF"
      },
      "source": [
        "Importamos a biblioteca Math do python, depois aplicamoms a fórmula para calcular K que corresponde ao Intervalo da nossa amostra segundo regra de Sturges:\r\n",
        "<br>\r\n",
        "\r\n",
        "\\begin{equation}\r\n",
        "K = 1 + 3,322 \\times \\log_{10}({N})\r\n",
        "\\end{equation}"
      ]
    },
    {
      "cell_type": "code",
      "metadata": {
        "colab": {
          "base_uri": "https://localhost:8080/"
        },
        "id": "uIK1yhav01WV",
        "outputId": "e6433823-e2ea-4b46-b5d0-eed850bacb2c"
      },
      "source": [
        "import math \r\n",
        "k = round(1 + 3.322 * math.log10(len(dados['VB17003'])))\r\n",
        "k"
      ],
      "execution_count": 34,
      "outputs": [
        {
          "output_type": "execute_result",
          "data": {
            "text/plain": [
              "15"
            ]
          },
          "metadata": {
            "tags": []
          },
          "execution_count": 34
        }
      ]
    },
    {
      "cell_type": "markdown",
      "metadata": {
        "id": "14SYFQ8QGIli"
      },
      "source": [
        "Criamos uma nova coluna e aplicamos o pd.cut():\r\n",
        "* Passamos a nossa Series Peso;\r\n",
        "* Passamos a variável K, que contem o valor 15. Este valor corresponde ao Bins que aplicaremos nos dados. A cada peso, num intervalo de valor 15, separamos as classes.\r\n",
        "* Incluir include_lowest: Se o Primeiro Intervalo deve ser de esquerda ou não.\r\n",
        "* Passo minha função para criar a coluna frequencia e porcentagem e adicionar os valores de Peso_Intervalo como meu index."
      ]
    },
    {
      "cell_type": "code",
      "metadata": {
        "colab": {
          "base_uri": "https://localhost:8080/",
          "height": 514
        },
        "id": "z13jwtzIBfQ-",
        "outputId": "62609921-7dcd-421d-868e-14f99efcac09"
      },
      "source": [
        "dados['PESO_INTERVALO'] = pd.cut(x=dados['VB17003'],\r\n",
        "                                  bins = k,\r\n",
        "                                  include_lowest=True)\r\n",
        "\r\n",
        "tab_freq(dados['PESO_INTERVALO'],None,\"Intervalo - PESO\")"
      ],
      "execution_count": 35,
      "outputs": [
        {
          "output_type": "execute_result",
          "data": {
            "text/html": [
              "<div>\n",
              "<style scoped>\n",
              "    .dataframe tbody tr th:only-of-type {\n",
              "        vertical-align: middle;\n",
              "    }\n",
              "\n",
              "    .dataframe tbody tr th {\n",
              "        vertical-align: top;\n",
              "    }\n",
              "\n",
              "    .dataframe thead th {\n",
              "        text-align: right;\n",
              "    }\n",
              "</style>\n",
              "<table border=\"1\" class=\"dataframe\">\n",
              "  <thead>\n",
              "    <tr style=\"text-align: right;\">\n",
              "      <th>Intervalo - PESO</th>\n",
              "      <th>Frequencia</th>\n",
              "      <th>Percentual</th>\n",
              "    </tr>\n",
              "  </thead>\n",
              "  <tbody>\n",
              "    <tr>\n",
              "      <th>(46.32, 57.7]</th>\n",
              "      <td>5754</td>\n",
              "      <td>34.754772</td>\n",
              "    </tr>\n",
              "    <tr>\n",
              "      <th>(34.94, 46.32]</th>\n",
              "      <td>3852</td>\n",
              "      <td>23.266489</td>\n",
              "    </tr>\n",
              "    <tr>\n",
              "      <th>(57.7, 69.08]</th>\n",
              "      <td>3724</td>\n",
              "      <td>22.493356</td>\n",
              "    </tr>\n",
              "    <tr>\n",
              "      <th>(69.08, 80.46]</th>\n",
              "      <td>1425</td>\n",
              "      <td>8.607151</td>\n",
              "    </tr>\n",
              "    <tr>\n",
              "      <th>(23.56, 34.94]</th>\n",
              "      <td>927</td>\n",
              "      <td>5.599179</td>\n",
              "    </tr>\n",
              "    <tr>\n",
              "      <th>(80.46, 91.84]</th>\n",
              "      <td>544</td>\n",
              "      <td>3.285818</td>\n",
              "    </tr>\n",
              "    <tr>\n",
              "      <th>(91.84, 103.22]</th>\n",
              "      <td>202</td>\n",
              "      <td>1.220101</td>\n",
              "    </tr>\n",
              "    <tr>\n",
              "      <th>(103.22, 114.6]</th>\n",
              "      <td>77</td>\n",
              "      <td>0.465088</td>\n",
              "    </tr>\n",
              "    <tr>\n",
              "      <th>(114.6, 125.98]</th>\n",
              "      <td>20</td>\n",
              "      <td>0.120802</td>\n",
              "    </tr>\n",
              "    <tr>\n",
              "      <th>(125.98, 137.36]</th>\n",
              "      <td>15</td>\n",
              "      <td>0.090602</td>\n",
              "    </tr>\n",
              "    <tr>\n",
              "      <th>(137.36, 148.74]</th>\n",
              "      <td>6</td>\n",
              "      <td>0.036241</td>\n",
              "    </tr>\n",
              "    <tr>\n",
              "      <th>(148.74, 160.12]</th>\n",
              "      <td>4</td>\n",
              "      <td>0.024160</td>\n",
              "    </tr>\n",
              "    <tr>\n",
              "      <th>(12.18, 23.56]</th>\n",
              "      <td>3</td>\n",
              "      <td>0.018120</td>\n",
              "    </tr>\n",
              "    <tr>\n",
              "      <th>(160.12, 171.5]</th>\n",
              "      <td>2</td>\n",
              "      <td>0.012080</td>\n",
              "    </tr>\n",
              "    <tr>\n",
              "      <th>(0.628, 12.18]</th>\n",
              "      <td>1</td>\n",
              "      <td>0.006040</td>\n",
              "    </tr>\n",
              "  </tbody>\n",
              "</table>\n",
              "</div>"
            ],
            "text/plain": [
              "Intervalo - PESO  Frequencia  Percentual\n",
              "(46.32, 57.7]           5754   34.754772\n",
              "(34.94, 46.32]          3852   23.266489\n",
              "(57.7, 69.08]           3724   22.493356\n",
              "(69.08, 80.46]          1425    8.607151\n",
              "(23.56, 34.94]           927    5.599179\n",
              "(80.46, 91.84]           544    3.285818\n",
              "(91.84, 103.22]          202    1.220101\n",
              "(103.22, 114.6]           77    0.465088\n",
              "(114.6, 125.98]           20    0.120802\n",
              "(125.98, 137.36]          15    0.090602\n",
              "(137.36, 148.74]           6    0.036241\n",
              "(148.74, 160.12]           4    0.024160\n",
              "(12.18, 23.56]             3    0.018120\n",
              "(160.12, 171.5]            2    0.012080\n",
              "(0.628, 12.18]             1    0.006040"
            ]
          },
          "metadata": {
            "tags": []
          },
          "execution_count": 35
        }
      ]
    },
    {
      "cell_type": "markdown",
      "metadata": {
        "id": "WBQmJgZTH5BI"
      },
      "source": [
        "###AULA 03 - DESAFIO 02\r\n",
        ">Criar outros CrossTabs para analisar outras variáveis, além das abordadas em aulas. Pesquisar sobre o parâmetro aggfunc e testar em pelo menos uma tabela criada."
      ]
    },
    {
      "cell_type": "code",
      "metadata": {
        "id": "8tHyEDQIH9Ft",
        "colab": {
          "base_uri": "https://localhost:8080/",
          "height": 0
        },
        "outputId": "c978cbaa-7db6-46b5-9325-26d7fc8fba1b"
      },
      "source": [
        "dicio_pretencao_escolaridade = {\r\n",
        "  1:\"Ensino Fundamental\",\r\n",
        "  2:\"Ensino Médio\",\r\n",
        "  3:\"Ensino Médio-Técnico\",\r\n",
        "  4:\"Ensino Superior\",\r\n",
        "  5:\"Pós-Graduação\",\r\n",
        "  6:\"Não sei\",\r\n",
        "  99:\"Não Informado\"    \r\n",
        "}\r\n",
        "\r\n",
        "pretensao_escolaridade = pd.crosstab(dados['VB01025'],dados['VB01003'],normalize=\"columns\") *100\r\n",
        "pretensao_escolaridade.rename(index=dicio_pretencao_escolaridade,inplace=True)\r\n",
        "pretensao_escolaridade.round(2)"
      ],
      "execution_count": 36,
      "outputs": [
        {
          "output_type": "execute_result",
          "data": {
            "text/html": [
              "<div>\n",
              "<style scoped>\n",
              "    .dataframe tbody tr th:only-of-type {\n",
              "        vertical-align: middle;\n",
              "    }\n",
              "\n",
              "    .dataframe tbody tr th {\n",
              "        vertical-align: top;\n",
              "    }\n",
              "\n",
              "    .dataframe thead th {\n",
              "        text-align: right;\n",
              "    }\n",
              "</style>\n",
              "<table border=\"1\" class=\"dataframe\">\n",
              "  <thead>\n",
              "    <tr style=\"text-align: right;\">\n",
              "      <th>VB01003</th>\n",
              "      <th>11</th>\n",
              "      <th>12</th>\n",
              "      <th>13</th>\n",
              "      <th>14</th>\n",
              "      <th>15</th>\n",
              "      <th>16</th>\n",
              "      <th>17</th>\n",
              "      <th>18</th>\n",
              "      <th>19</th>\n",
              "    </tr>\n",
              "    <tr>\n",
              "      <th>VB01025</th>\n",
              "      <th></th>\n",
              "      <th></th>\n",
              "      <th></th>\n",
              "      <th></th>\n",
              "      <th></th>\n",
              "      <th></th>\n",
              "      <th></th>\n",
              "      <th></th>\n",
              "      <th></th>\n",
              "    </tr>\n",
              "  </thead>\n",
              "  <tbody>\n",
              "    <tr>\n",
              "      <th>Ensino Fundamental</th>\n",
              "      <td>19.26</td>\n",
              "      <td>13.14</td>\n",
              "      <td>11.48</td>\n",
              "      <td>7.22</td>\n",
              "      <td>3.59</td>\n",
              "      <td>2.51</td>\n",
              "      <td>0.78</td>\n",
              "      <td>1.78</td>\n",
              "      <td>2.77</td>\n",
              "    </tr>\n",
              "    <tr>\n",
              "      <th>Ensino Médio</th>\n",
              "      <td>9.36</td>\n",
              "      <td>10.90</td>\n",
              "      <td>9.72</td>\n",
              "      <td>11.44</td>\n",
              "      <td>9.32</td>\n",
              "      <td>8.02</td>\n",
              "      <td>8.85</td>\n",
              "      <td>11.19</td>\n",
              "      <td>16.62</td>\n",
              "    </tr>\n",
              "    <tr>\n",
              "      <th>Ensino Médio-Técnico</th>\n",
              "      <td>3.23</td>\n",
              "      <td>3.23</td>\n",
              "      <td>3.48</td>\n",
              "      <td>3.56</td>\n",
              "      <td>3.92</td>\n",
              "      <td>4.01</td>\n",
              "      <td>5.47</td>\n",
              "      <td>6.04</td>\n",
              "      <td>9.97</td>\n",
              "    </tr>\n",
              "    <tr>\n",
              "      <th>Ensino Superior</th>\n",
              "      <td>13.42</td>\n",
              "      <td>13.36</td>\n",
              "      <td>13.71</td>\n",
              "      <td>13.69</td>\n",
              "      <td>15.22</td>\n",
              "      <td>16.92</td>\n",
              "      <td>20.75</td>\n",
              "      <td>22.91</td>\n",
              "      <td>24.93</td>\n",
              "    </tr>\n",
              "    <tr>\n",
              "      <th>Pós-Graduação</th>\n",
              "      <td>28.47</td>\n",
              "      <td>35.46</td>\n",
              "      <td>35.57</td>\n",
              "      <td>41.12</td>\n",
              "      <td>52.66</td>\n",
              "      <td>54.89</td>\n",
              "      <td>51.66</td>\n",
              "      <td>43.16</td>\n",
              "      <td>30.19</td>\n",
              "    </tr>\n",
              "    <tr>\n",
              "      <th>Não sei</th>\n",
              "      <td>26.06</td>\n",
              "      <td>23.84</td>\n",
              "      <td>25.97</td>\n",
              "      <td>22.83</td>\n",
              "      <td>15.30</td>\n",
              "      <td>13.57</td>\n",
              "      <td>12.43</td>\n",
              "      <td>14.92</td>\n",
              "      <td>15.51</td>\n",
              "    </tr>\n",
              "    <tr>\n",
              "      <th>Não Informado</th>\n",
              "      <td>0.19</td>\n",
              "      <td>0.08</td>\n",
              "      <td>0.08</td>\n",
              "      <td>0.14</td>\n",
              "      <td>0.00</td>\n",
              "      <td>0.09</td>\n",
              "      <td>0.07</td>\n",
              "      <td>0.00</td>\n",
              "      <td>0.00</td>\n",
              "    </tr>\n",
              "  </tbody>\n",
              "</table>\n",
              "</div>"
            ],
            "text/plain": [
              "VB01003                  11     12     13     14  ...     16     17     18     19\n",
              "VB01025                                           ...                            \n",
              "Ensino Fundamental    19.26  13.14  11.48   7.22  ...   2.51   0.78   1.78   2.77\n",
              "Ensino Médio           9.36  10.90   9.72  11.44  ...   8.02   8.85  11.19  16.62\n",
              "Ensino Médio-Técnico   3.23   3.23   3.48   3.56  ...   4.01   5.47   6.04   9.97\n",
              "Ensino Superior       13.42  13.36  13.71  13.69  ...  16.92  20.75  22.91  24.93\n",
              "Pós-Graduação         28.47  35.46  35.57  41.12  ...  54.89  51.66  43.16  30.19\n",
              "Não sei               26.06  23.84  25.97  22.83  ...  13.57  12.43  14.92  15.51\n",
              "Não Informado          0.19   0.08   0.08   0.14  ...   0.09   0.07   0.00   0.00\n",
              "\n",
              "[7 rows x 9 columns]"
            ]
          },
          "metadata": {
            "tags": []
          },
          "execution_count": 36
        }
      ]
    },
    {
      "cell_type": "markdown",
      "metadata": {
        "id": "GV5WYdxg41Gb"
      },
      "source": [
        "Na tabela acima temos, na faixa de 11 a 19 anos (colunas), o percentual de cada faixa etária quanto a pretensão de estudos que almeja ao longo de sua vida."
      ]
    },
    {
      "cell_type": "code",
      "metadata": {
        "colab": {
          "base_uri": "https://localhost:8080/",
          "height": 0
        },
        "id": "bDFLjGhr6CeS",
        "outputId": "47e44c22-d977-4d1f-abe3-85f56351fdc2"
      },
      "source": [
        "pretensao_escolaridade = pd.crosstab(dados['VB01025'],dados['VB01001'],normalize=\"index\") *100\r\n",
        "pretensao_escolaridade.rename(index=dicio_pretencao_escolaridade,inplace=True)\r\n",
        "pretensao_escolaridade.rename(columns={1:\"Masculino\",2:\"Feminino\"},inplace=True)\r\n",
        "print(\"Você pretende ir até aonde nos estudos?\")\r\n",
        "pretensao_escolaridade.round(2)"
      ],
      "execution_count": 37,
      "outputs": [
        {
          "output_type": "stream",
          "text": [
            "Você pretende ir até aonde nos estudos?\n"
          ],
          "name": "stdout"
        },
        {
          "output_type": "execute_result",
          "data": {
            "text/html": [
              "<div>\n",
              "<style scoped>\n",
              "    .dataframe tbody tr th:only-of-type {\n",
              "        vertical-align: middle;\n",
              "    }\n",
              "\n",
              "    .dataframe tbody tr th {\n",
              "        vertical-align: top;\n",
              "    }\n",
              "\n",
              "    .dataframe thead th {\n",
              "        text-align: right;\n",
              "    }\n",
              "</style>\n",
              "<table border=\"1\" class=\"dataframe\">\n",
              "  <thead>\n",
              "    <tr style=\"text-align: right;\">\n",
              "      <th>VB01001</th>\n",
              "      <th>Masculino</th>\n",
              "      <th>Feminino</th>\n",
              "    </tr>\n",
              "    <tr>\n",
              "      <th>VB01025</th>\n",
              "      <th></th>\n",
              "      <th></th>\n",
              "    </tr>\n",
              "  </thead>\n",
              "  <tbody>\n",
              "    <tr>\n",
              "      <th>Ensino Fundamental</th>\n",
              "      <td>58.88</td>\n",
              "      <td>41.12</td>\n",
              "    </tr>\n",
              "    <tr>\n",
              "      <th>Ensino Médio</th>\n",
              "      <td>53.08</td>\n",
              "      <td>46.92</td>\n",
              "    </tr>\n",
              "    <tr>\n",
              "      <th>Ensino Médio-Técnico</th>\n",
              "      <td>61.80</td>\n",
              "      <td>38.20</td>\n",
              "    </tr>\n",
              "    <tr>\n",
              "      <th>Ensino Superior</th>\n",
              "      <td>53.00</td>\n",
              "      <td>47.00</td>\n",
              "    </tr>\n",
              "    <tr>\n",
              "      <th>Pós-Graduação</th>\n",
              "      <td>44.58</td>\n",
              "      <td>55.42</td>\n",
              "    </tr>\n",
              "    <tr>\n",
              "      <th>Não sei</th>\n",
              "      <td>51.86</td>\n",
              "      <td>48.14</td>\n",
              "    </tr>\n",
              "    <tr>\n",
              "      <th>Não Informado</th>\n",
              "      <td>42.86</td>\n",
              "      <td>57.14</td>\n",
              "    </tr>\n",
              "  </tbody>\n",
              "</table>\n",
              "</div>"
            ],
            "text/plain": [
              "VB01001               Masculino  Feminino\n",
              "VB01025                                  \n",
              "Ensino Fundamental        58.88     41.12\n",
              "Ensino Médio              53.08     46.92\n",
              "Ensino Médio-Técnico      61.80     38.20\n",
              "Ensino Superior           53.00     47.00\n",
              "Pós-Graduação             44.58     55.42\n",
              "Não sei                   51.86     48.14\n",
              "Não Informado             42.86     57.14"
            ]
          },
          "metadata": {
            "tags": []
          },
          "execution_count": 37
        }
      ]
    },
    {
      "cell_type": "markdown",
      "metadata": {
        "id": "6Qv0_5GA6YR4"
      },
      "source": [
        "Temos aqui a mesma pergunta, mas agora, vamos analisar por sexo. Vemos que quanto a ensino superior, o sexo feminino encontra-se \"mais decidido\" a concluir."
      ]
    },
    {
      "cell_type": "code",
      "metadata": {
        "colab": {
          "base_uri": "https://localhost:8080/",
          "height": 0
        },
        "id": "ZRsiTf0R7hRp",
        "outputId": "9d3e8659-b19e-4218-92e5-78ec457a0e70"
      },
      "source": [
        "pretensao_escolaridade = pd.crosstab(dados['VB01025'],dados['VB01001'],normalize=\"index\").round(2) *100\r\n",
        "pretensao_escolaridade.rename(index=dicio_pretencao_escolaridade,inplace=True)\r\n",
        "pretensao_escolaridade.rename(columns={1:\"Masculino\",2:\"Feminino\"},inplace=True)\r\n",
        "print(\"Você pretende ir até aonde nos estudos?\")\r\n",
        "pretensao_escolaridade"
      ],
      "execution_count": 38,
      "outputs": [
        {
          "output_type": "stream",
          "text": [
            "Você pretende ir até aonde nos estudos?\n"
          ],
          "name": "stdout"
        },
        {
          "output_type": "execute_result",
          "data": {
            "text/html": [
              "<div>\n",
              "<style scoped>\n",
              "    .dataframe tbody tr th:only-of-type {\n",
              "        vertical-align: middle;\n",
              "    }\n",
              "\n",
              "    .dataframe tbody tr th {\n",
              "        vertical-align: top;\n",
              "    }\n",
              "\n",
              "    .dataframe thead th {\n",
              "        text-align: right;\n",
              "    }\n",
              "</style>\n",
              "<table border=\"1\" class=\"dataframe\">\n",
              "  <thead>\n",
              "    <tr style=\"text-align: right;\">\n",
              "      <th>VB01001</th>\n",
              "      <th>Masculino</th>\n",
              "      <th>Feminino</th>\n",
              "    </tr>\n",
              "    <tr>\n",
              "      <th>VB01025</th>\n",
              "      <th></th>\n",
              "      <th></th>\n",
              "    </tr>\n",
              "  </thead>\n",
              "  <tbody>\n",
              "    <tr>\n",
              "      <th>Ensino Fundamental</th>\n",
              "      <td>59.0</td>\n",
              "      <td>41.0</td>\n",
              "    </tr>\n",
              "    <tr>\n",
              "      <th>Ensino Médio</th>\n",
              "      <td>53.0</td>\n",
              "      <td>47.0</td>\n",
              "    </tr>\n",
              "    <tr>\n",
              "      <th>Ensino Médio-Técnico</th>\n",
              "      <td>62.0</td>\n",
              "      <td>38.0</td>\n",
              "    </tr>\n",
              "    <tr>\n",
              "      <th>Ensino Superior</th>\n",
              "      <td>53.0</td>\n",
              "      <td>47.0</td>\n",
              "    </tr>\n",
              "    <tr>\n",
              "      <th>Pós-Graduação</th>\n",
              "      <td>45.0</td>\n",
              "      <td>55.0</td>\n",
              "    </tr>\n",
              "    <tr>\n",
              "      <th>Não sei</th>\n",
              "      <td>52.0</td>\n",
              "      <td>48.0</td>\n",
              "    </tr>\n",
              "    <tr>\n",
              "      <th>Não Informado</th>\n",
              "      <td>43.0</td>\n",
              "      <td>57.0</td>\n",
              "    </tr>\n",
              "  </tbody>\n",
              "</table>\n",
              "</div>"
            ],
            "text/plain": [
              "VB01001               Masculino  Feminino\n",
              "VB01025                                  \n",
              "Ensino Fundamental         59.0      41.0\n",
              "Ensino Médio               53.0      47.0\n",
              "Ensino Médio-Técnico       62.0      38.0\n",
              "Ensino Superior            53.0      47.0\n",
              "Pós-Graduação              45.0      55.0\n",
              "Não sei                    52.0      48.0\n",
              "Não Informado              43.0      57.0"
            ]
          },
          "metadata": {
            "tags": []
          },
          "execution_count": 38
        }
      ]
    },
    {
      "cell_type": "markdown",
      "metadata": {
        "id": "XueDNZ-p_sI_"
      },
      "source": [
        "Vamos analisar alguns dados olhandos pelas regioes brasileiras"
      ]
    },
    {
      "cell_type": "code",
      "metadata": {
        "colab": {
          "base_uri": "https://localhost:8080/",
          "height": 0
        },
        "id": "W3SNcwzu_wk1",
        "outputId": "3c165049-a75b-487b-a444-bdb39feeea89"
      },
      "source": [
        "tempo_pra_chegar_na_escola = {\r\n",
        "  -1:\"Pulo no questionário\",\r\n",
        "  1: \"Menos de 10 minutos por dia\",\r\n",
        "  2:\t\"10 a 19 minutos por dia\",\r\n",
        "  3:\t\"20 a 29 minutos por dia\",\r\n",
        "  4:\t\"30 a 39 minutos por dia\",\r\n",
        "  5:\t\"40 a 49 minutos por dia\",\r\n",
        "  6:\t\"50 a 59 minutos por dia\",\r\n",
        "  7:\t\"1 hora ou mais por dia\",\r\n",
        "  99:\t\"Não informado\"\r\n",
        "}\r\n",
        "regioes = {\r\n",
        "    1:\t\"Norte\",\r\n",
        "    2:\t\"Nordeste\",\r\n",
        "    3:\t\"Sudeste\",\r\n",
        "    4:\t\"Sul\",\r\n",
        "    5:\t\"Centro-Oeste\"\r\n",
        "}\r\n",
        "\r\n",
        "tempo_pe_ou_bike_escola = pd.crosstab(dados[\"VB03002A1\"],dados[\"REGEOGR\"],normalize=\"columns\").round(2) *100\r\n",
        "tempo_pe_ou_bike_escola.rename(index= tempo_pra_chegar_na_escola,inplace=True)\r\n",
        "tempo_pe_ou_bike_escola.rename(columns = regioes,inplace=True)\r\n",
        "tempo_pe_ou_bike_escola\r\n"
      ],
      "execution_count": 39,
      "outputs": [
        {
          "output_type": "execute_result",
          "data": {
            "text/html": [
              "<div>\n",
              "<style scoped>\n",
              "    .dataframe tbody tr th:only-of-type {\n",
              "        vertical-align: middle;\n",
              "    }\n",
              "\n",
              "    .dataframe tbody tr th {\n",
              "        vertical-align: top;\n",
              "    }\n",
              "\n",
              "    .dataframe thead th {\n",
              "        text-align: right;\n",
              "    }\n",
              "</style>\n",
              "<table border=\"1\" class=\"dataframe\">\n",
              "  <thead>\n",
              "    <tr style=\"text-align: right;\">\n",
              "      <th>REGEOGR</th>\n",
              "      <th>Norte</th>\n",
              "      <th>Nordeste</th>\n",
              "      <th>Sudeste</th>\n",
              "      <th>Sul</th>\n",
              "      <th>Centro-Oeste</th>\n",
              "    </tr>\n",
              "    <tr>\n",
              "      <th>VB03002A1</th>\n",
              "      <th></th>\n",
              "      <th></th>\n",
              "      <th></th>\n",
              "      <th></th>\n",
              "      <th></th>\n",
              "    </tr>\n",
              "  </thead>\n",
              "  <tbody>\n",
              "    <tr>\n",
              "      <th>Pulo no questionário</th>\n",
              "      <td>43.0</td>\n",
              "      <td>49.0</td>\n",
              "      <td>46.0</td>\n",
              "      <td>46.0</td>\n",
              "      <td>49.0</td>\n",
              "    </tr>\n",
              "    <tr>\n",
              "      <th>Menos de 10 minutos por dia</th>\n",
              "      <td>28.0</td>\n",
              "      <td>23.0</td>\n",
              "      <td>26.0</td>\n",
              "      <td>28.0</td>\n",
              "      <td>24.0</td>\n",
              "    </tr>\n",
              "    <tr>\n",
              "      <th>10 a 19 minutos por dia</th>\n",
              "      <td>16.0</td>\n",
              "      <td>16.0</td>\n",
              "      <td>16.0</td>\n",
              "      <td>15.0</td>\n",
              "      <td>14.0</td>\n",
              "    </tr>\n",
              "    <tr>\n",
              "      <th>20 a 29 minutos por dia</th>\n",
              "      <td>6.0</td>\n",
              "      <td>6.0</td>\n",
              "      <td>6.0</td>\n",
              "      <td>5.0</td>\n",
              "      <td>6.0</td>\n",
              "    </tr>\n",
              "    <tr>\n",
              "      <th>30 a 39 minutos por dia</th>\n",
              "      <td>3.0</td>\n",
              "      <td>3.0</td>\n",
              "      <td>3.0</td>\n",
              "      <td>3.0</td>\n",
              "      <td>2.0</td>\n",
              "    </tr>\n",
              "    <tr>\n",
              "      <th>40 a 49 minutos por dia</th>\n",
              "      <td>1.0</td>\n",
              "      <td>1.0</td>\n",
              "      <td>1.0</td>\n",
              "      <td>1.0</td>\n",
              "      <td>2.0</td>\n",
              "    </tr>\n",
              "    <tr>\n",
              "      <th>50 a 59 minutos por dia</th>\n",
              "      <td>1.0</td>\n",
              "      <td>1.0</td>\n",
              "      <td>1.0</td>\n",
              "      <td>0.0</td>\n",
              "      <td>1.0</td>\n",
              "    </tr>\n",
              "    <tr>\n",
              "      <th>1 hora ou mais por dia</th>\n",
              "      <td>1.0</td>\n",
              "      <td>1.0</td>\n",
              "      <td>2.0</td>\n",
              "      <td>1.0</td>\n",
              "      <td>1.0</td>\n",
              "    </tr>\n",
              "    <tr>\n",
              "      <th>Não informado</th>\n",
              "      <td>0.0</td>\n",
              "      <td>0.0</td>\n",
              "      <td>0.0</td>\n",
              "      <td>0.0</td>\n",
              "      <td>0.0</td>\n",
              "    </tr>\n",
              "  </tbody>\n",
              "</table>\n",
              "</div>"
            ],
            "text/plain": [
              "REGEOGR                      Norte  Nordeste  Sudeste   Sul  Centro-Oeste\n",
              "VB03002A1                                                                \n",
              "Pulo no questionário          43.0      49.0     46.0  46.0          49.0\n",
              "Menos de 10 minutos por dia   28.0      23.0     26.0  28.0          24.0\n",
              "10 a 19 minutos por dia       16.0      16.0     16.0  15.0          14.0\n",
              "20 a 29 minutos por dia        6.0       6.0      6.0   5.0           6.0\n",
              "30 a 39 minutos por dia        3.0       3.0      3.0   3.0           2.0\n",
              "40 a 49 minutos por dia        1.0       1.0      1.0   1.0           2.0\n",
              "50 a 59 minutos por dia        1.0       1.0      1.0   0.0           1.0\n",
              "1 hora ou mais por dia         1.0       1.0      2.0   1.0           1.0\n",
              "Não informado                  0.0       0.0      0.0   0.0           0.0"
            ]
          },
          "metadata": {
            "tags": []
          },
          "execution_count": 39
        }
      ]
    },
    {
      "cell_type": "markdown",
      "metadata": {
        "id": "a9lklvYmH9mY"
      },
      "source": [
        "##AULA 4\r\n",
        "---"
      ]
    },
    {
      "cell_type": "markdown",
      "metadata": {
        "id": "wzf_dlkYsMyU"
      },
      "source": [
        "Vamos utilizar alguns gráficos para visualizar de maneira melhor os nossos gráficos. Com o uso de histogramas podemos ter maiores dimensionalidades de faixa etária, e outros valores que queiramos saber."
      ]
    },
    {
      "cell_type": "code",
      "metadata": {
        "id": "c4zK8ciJH_0x",
        "colab": {
          "base_uri": "https://localhost:8080/",
          "height": 421
        },
        "outputId": "ffec7045-fa4a-42c0-956c-538f1b0b65a7"
      },
      "source": [
        "ax =sns.histplot(data = dados, x=dados[\"VB17004\"])\r\n",
        "ax.figure.set_size_inches(12,6)\r\n",
        "ax.set_title(\"Distribuição de Frequência\")\r\n",
        "ax.set_xlabel(\"Altura\")\r\n",
        "\r\n",
        "ax"
      ],
      "execution_count": 40,
      "outputs": [
        {
          "output_type": "execute_result",
          "data": {
            "text/plain": [
              "<matplotlib.axes._subplots.AxesSubplot at 0x7f373631c518>"
            ]
          },
          "metadata": {
            "tags": []
          },
          "execution_count": 40
        },
        {
          "output_type": "display_data",
          "data": {
            "image/png": "[encoded data removed]",
            "text/plain": [
              "<Figure size 864x432 with 1 Axes>"
            ]
          },
          "metadata": {
            "tags": [],
            "needs_background": "light"
          }
        }
      ]
    },
    {
      "cell_type": "markdown",
      "metadata": {
        "id": "aN5rWDjL3ggi"
      },
      "source": [
        "podemos plotar nosso histograma ainda com apenas as 15 classes da regra de Sturges. Ficando assim:"
      ]
    },
    {
      "cell_type": "code",
      "metadata": {
        "colab": {
          "base_uri": "https://localhost:8080/",
          "height": 421
        },
        "id": "h8NCudWPs38c",
        "outputId": "c1923103-a9c2-4e55-ec05-cfc43e824c41"
      },
      "source": [
        "ax =sns.histplot(data = dados, x=dados[\"VB17004\"],bins = 15)\r\n",
        "ax.figure.set_size_inches(12,6)\r\n",
        "ax.set_title(\"Distribuição de Frequência\")\r\n",
        "ax.set_xlabel(\"Altura\")\r\n",
        "\r\n",
        "ax"
      ],
      "execution_count": 41,
      "outputs": [
        {
          "output_type": "execute_result",
          "data": {
            "text/plain": [
              "<matplotlib.axes._subplots.AxesSubplot at 0x7f3734785e48>"
            ]
          },
          "metadata": {
            "tags": []
          },
          "execution_count": 41
        },
        {
          "output_type": "display_data",
          "data": {
            "image/png": "[encoded data removed]",
            "text/plain": [
              "<Figure size 864x432 with 1 Axes>"
            ]
          },
          "metadata": {
            "tags": [],
            "needs_background": "light"
          }
        }
      ]
    },
    {
      "cell_type": "markdown",
      "metadata": {
        "id": "sJKgd_mI3rZV"
      },
      "source": [
        "Adicinamos ainda com o kde=True a linha que mostra a curvatura média da relação altura X quantidade, gerando essa aparência."
      ]
    },
    {
      "cell_type": "code",
      "metadata": {
        "colab": {
          "base_uri": "https://localhost:8080/",
          "height": 421
        },
        "id": "cwjRW5skvc8I",
        "outputId": "587ad23c-7afa-4891-ef7a-b0ae829d1b92"
      },
      "source": [
        "ax =sns.histplot(data = dados, x=dados[\"VB17004\"],kde=True)\r\n",
        "ax.figure.set_size_inches(12,6)\r\n",
        "ax.set_title(\"Distribuição de Frequência\")\r\n",
        "ax.set_xlabel(\"Altura\")\r\n",
        "\r\n",
        "ax"
      ],
      "execution_count": 42,
      "outputs": [
        {
          "output_type": "execute_result",
          "data": {
            "text/plain": [
              "<matplotlib.axes._subplots.AxesSubplot at 0x7f3734804c18>"
            ]
          },
          "metadata": {
            "tags": []
          },
          "execution_count": 42
        },
        {
          "output_type": "display_data",
          "data": {
            "image/png": "[encoded data removed]",
            "text/plain": [
              "<Figure size 864x432 with 1 Axes>"
            ]
          },
          "metadata": {
            "tags": [],
            "needs_background": "light"
          }
        }
      ]
    },
    {
      "cell_type": "markdown",
      "metadata": {
        "id": "gwersmCp353p"
      },
      "source": [
        "E se quisermos plotar os gráficos de alturas mas analisando os sexos? Podemos fazer isso!<br>Com  o hue, passamos a coluna da qual usaremos para determinar este comportamento. O resultado são histogramas, com suas respectivas linhas de  distribuição, para assim, entendermos de forma individual o comportamento de cada uma."
      ]
    },
    {
      "cell_type": "code",
      "metadata": {
        "colab": {
          "base_uri": "https://localhost:8080/",
          "height": 421
        },
        "id": "TW1EqZTYvjU6",
        "outputId": "b6ca0adc-367f-4b11-e01c-61c5f38e40f9"
      },
      "source": [
        "ax =sns.histplot(data = dados, x=dados[\"VB17004\"],kde=True,hue='VB01001')\r\n",
        "ax.figure.set_size_inches(12,6)\r\n",
        "ax.set_title(\"Distribuição de Frequência\")\r\n",
        "ax.set_xlabel(\"Altura\")\r\n",
        "\r\n",
        "ax"
      ],
      "execution_count": 43,
      "outputs": [
        {
          "output_type": "execute_result",
          "data": {
            "text/plain": [
              "<matplotlib.axes._subplots.AxesSubplot at 0x7f373195fac8>"
            ]
          },
          "metadata": {
            "tags": []
          },
          "execution_count": 43
        },
        {
          "output_type": "display_data",
          "data": {
            "image/png": "[encoded data removed]",
            "text/plain": [
              "<Figure size 864x432 with 1 Axes>"
            ]
          },
          "metadata": {
            "tags": [],
            "needs_background": "light"
          }
        }
      ]
    },
    {
      "cell_type": "markdown",
      "metadata": {
        "id": "xnlJ3oWN4d_6"
      },
      "source": [
        "fazendo a mesma análise de altura, mas com o hue relacionado as idades. Podemos analisar o comportamento da altura conforme a faixa etária. Temos isso então:"
      ]
    },
    {
      "cell_type": "code",
      "metadata": {
        "colab": {
          "base_uri": "https://localhost:8080/",
          "height": 404
        },
        "id": "xp-_4RJawQH1",
        "outputId": "226e4b1c-b663-4f63-97a9-a7c9528e1f03"
      },
      "source": [
        "ax =sns.histplot(data = dados, x=dados[\"VB17004\"],kde=True,hue='VB01003',palette='plasma')\r\n",
        "ax.figure.set_size_inches(12,6)\r\n",
        "ax.set_title(\"Distribuição de Frequência\")\r\n",
        "ax.set_xlabel(\"Altura\")\r\n",
        "\r\n",
        "ax; #mesmo que plt.show()"
      ],
      "execution_count": 44,
      "outputs": [
        {
          "output_type": "display_data",
          "data": {
            "image/png": "[encoded data removed]",
            "text/plain": [
              "<Figure size 864x432 with 1 Axes>"
            ]
          },
          "metadata": {
            "tags": [],
            "needs_background": "light"
          }
        }
      ]
    },
    {
      "cell_type": "markdown",
      "metadata": {
        "id": "sEq-r3N74w_Z"
      },
      "source": [
        "Se analisarmos bem nosso histograma com várias \"hue\", notamos uma poluição que atrapalha totalmente a análise dos nossos dados. Utilizemos então o chamado boxplot."
      ]
    },
    {
      "cell_type": "code",
      "metadata": {
        "id": "flAZ1bO8xdWE",
        "colab": {
          "base_uri": "https://localhost:8080/",
          "height": 404
        },
        "outputId": "ead9181b-dc03-4f90-a474-1cf13cd41521"
      },
      "source": [
        "ax= sns.boxplot(data =dados,x='VB17004')\r\n",
        "ax.figure.set_size_inches(12,6)\r\n",
        "ax.set_title(\"Boxplot da Altura\")\r\n",
        "ax.set_xlabel(\"Altura\")\r\n",
        "\r\n",
        "ax;"
      ],
      "execution_count": 47,
      "outputs": [
        {
          "output_type": "display_data",
          "data": {
            "image/png": "[encoded data removed]",
            "text/plain": [
              "<Figure size 864x432 with 1 Axes>"
            ]
          },
          "metadata": {
            "tags": [],
            "needs_background": "light"
          }
        }
      ]
    },
    {
      "cell_type": "markdown",
      "metadata": {
        "id": "5X1hioPSJ1PV"
      },
      "source": [
        "Vamos fazer mais um boxplot, mas em relação ao sexo da pessoa."
      ]
    },
    {
      "cell_type": "code",
      "metadata": {
        "colab": {
          "base_uri": "https://localhost:8080/",
          "height": 404
        },
        "id": "4EI7ny_qJJRK",
        "outputId": "9a057b34-baa5-42ae-b97c-fd25dd38d9a8"
      },
      "source": [
        "ax= sns.boxplot(data =dados,x='VB17004',y='VB01001')\r\n",
        "ax.figure.set_size_inches(12,6)\r\n",
        "ax.set_title(\"Boxplot da Altura\")\r\n",
        "ax.set_xlabel(\"Altura\")\r\n",
        "\r\n",
        "ax;"
      ],
      "execution_count": 51,
      "outputs": [
        {
          "output_type": "display_data",
          "data": {
            "image/png": "[encoded data removed]",
            "text/plain": [
              "<Figure size 864x432 with 1 Axes>"
            ]
          },
          "metadata": {
            "tags": [],
            "needs_background": "light"
          }
        }
      ]
    },
    {
      "cell_type": "markdown",
      "metadata": {
        "id": "2zb-qMKYKSOj"
      },
      "source": [
        "WTF! o que aconteceu?!!!\r\n",
        "se você prestar atenção, nossa intenção é no eixo-y de zero a dois, termos os sexos, no eixo-x as alturas. Precisamos *orientar* nosso boxplot"
      ]
    },
    {
      "cell_type": "code",
      "metadata": {
        "colab": {
          "base_uri": "https://localhost:8080/",
          "height": 404
        },
        "id": "t1eg8V_aKsT9",
        "outputId": "e000d965-b208-4129-bcee-5628e7ec0c36"
      },
      "source": [
        "ax= sns.boxplot(data =dados,x='VB17004',y='VB01001',orient='h')\r\n",
        "ax.figure.set_size_inches(12,6)\r\n",
        "ax.set_title(\"Boxplot da Altura\")\r\n",
        "ax.set_xlabel(\"Altura\")\r\n",
        "\r\n",
        "ax;"
      ],
      "execution_count": 52,
      "outputs": [
        {
          "output_type": "display_data",
          "data": {
            "image/png": "[encoded data removed]",
            "text/plain": [
              "<Figure size 864x432 with 1 Axes>"
            ]
          },
          "metadata": {
            "tags": [],
            "needs_background": "light"
          }
        }
      ]
    },
    {
      "cell_type": "code",
      "metadata": {
        "colab": {
          "base_uri": "https://localhost:8080/",
          "height": 404
        },
        "id": "XCw4IRRcMnSx",
        "outputId": "36806dc7-6b2c-42f9-d868-937b2d05e480"
      },
      "source": [
        "ax= sns.boxplot(data =dados,y='VB17004',x='VB01003',orient='v')\r\n",
        "ax.figure.set_size_inches(12,6)\r\n",
        "ax.set_title(\"Boxplot da Altura em relação a idade\")\r\n",
        "ax.set_xlabel(\"idade\")\r\n",
        "ax.set_ylabel(\"Altura\")\r\n",
        "\r\n",
        "ax;"
      ],
      "execution_count": 54,
      "outputs": [
        {
          "output_type": "display_data",
          "data": {
            "image/png": "[encoded data removed]",
            "text/plain": [
              "<Figure size 864x432 with 1 Axes>"
            ]
          },
          "metadata": {
            "tags": [],
            "needs_background": "light"
          }
        }
      ]
    },
    {
      "cell_type": "markdown",
      "metadata": {
        "id": "rrXvA9siNun1"
      },
      "source": [
        "Acima, comparamos a altura das pessoas em relação a idade. O boxplot deu uma bela ajudada para entender a altura de cada uma das faixas etárias pesquisadas. Mas dá pra fazer isso também olhando pelo sexo."
      ]
    },
    {
      "cell_type": "markdown",
      "metadata": {
        "id": "UOjjAm_bOE17"
      },
      "source": [
        "Agora temos um boxplot da altura em relação a idade para os sexos masculino e feminino."
      ]
    },
    {
      "cell_type": "code",
      "metadata": {
        "colab": {
          "base_uri": "https://localhost:8080/",
          "height": 404
        },
        "id": "IRgZ-sjnN_LG",
        "outputId": "910f838f-0fee-40ef-ed9f-ee958b536978"
      },
      "source": [
        "ax= sns.boxplot(data =dados,y='VB17004',x='VB01003',orient='v',hue=\"VB01001\")\r\n",
        "ax.figure.set_size_inches(12,6)\r\n",
        "ax.set_title(\"Boxplot da Altura em relação a idade\")\r\n",
        "ax.set_xlabel(\"idade\")\r\n",
        "ax.set_ylabel(\"Altura\")\r\n",
        "\r\n",
        "ax;"
      ],
      "execution_count": 55,
      "outputs": [
        {
          "output_type": "display_data",
          "data": {
            "image/png": "[encoded data removed]",
            "text/plain": [
              "<Figure size 864x432 with 1 Axes>"
            ]
          },
          "metadata": {
            "tags": [],
            "needs_background": "light"
          }
        }
      ]
    },
    {
      "cell_type": "markdown",
      "metadata": {
        "id": "9JjMD5rEP52R"
      },
      "source": [
        "Podemos plotar um histograma acumululado"
      ]
    },
    {
      "cell_type": "code",
      "metadata": {
        "colab": {
          "base_uri": "https://localhost:8080/",
          "height": 404
        },
        "id": "wYAdmK6oQCv9",
        "outputId": "e0942c31-f674-4907-89fc-56c8ec088594"
      },
      "source": [
        "ax= sns.histplot(data =dados,x='VB17004',kde=True,cumulative=True)\r\n",
        "ax.figure.set_size_inches(12,6)\r\n",
        "ax.set_title(\"Histograma Acumulado\")\r\n",
        "ax.set_xlabel(\"Altura\")\r\n",
        "\r\n",
        "ax;"
      ],
      "execution_count": 58,
      "outputs": [
        {
          "output_type": "display_data",
          "data": {
            "image/png": "[encoded data removed]",
            "text/plain": [
              "<Figure size 864x432 with 1 Axes>"
            ]
          },
          "metadata": {
            "tags": [],
            "needs_background": "light"
          }
        }
      ]
    },
    {
      "cell_type": "markdown",
      "metadata": {
        "id": "rgaYQ25oSskS"
      },
      "source": [
        "Podemos analisar melhor este gráfico a partir da densidade, usando o próprio seaborn."
      ]
    },
    {
      "cell_type": "code",
      "metadata": {
        "colab": {
          "base_uri": "https://localhost:8080/",
          "height": 404
        },
        "id": "HLHV3T_US0ey",
        "outputId": "20b60d82-f98d-4349-93ed-d0a6208df2ac"
      },
      "source": [
        "ax= sns.histplot(data =dados,x='VB17004',\r\n",
        "                 kde=True,\r\n",
        "                 cumulative=True,\r\n",
        "                 stat=\"density\",bins =5)\r\n",
        "plt.grid()\r\n",
        "ax.figure.set_size_inches(12,6)\r\n",
        "ax.set_title(\"Histograma Acumulado\")\r\n",
        "ax.set_xlabel(\"Altura\")\r\n",
        "\r\n",
        "ax;"
      ],
      "execution_count": 63,
      "outputs": [
        {
          "output_type": "display_data",
          "data": {
            "image/png": "[encoded data removed]",
            "text/plain": [
              "<Figure size 864x432 with 1 Axes>"
            ]
          },
          "metadata": {
            "tags": [],
            "needs_background": "light"
          }
        }
      ]
    },
    {
      "cell_type": "markdown",
      "metadata": {
        "id": "VQtrRkhETemc"
      },
      "source": [
        "Podemos ver que a densidade de 20%  corresponde a 1,50m"
      ]
    },
    {
      "cell_type": "markdown",
      "metadata": {
        "id": "6b_4t-qN8LM7"
      },
      "source": [
        "###**EXPLICAÇÃO MATEMÁTICA: DIAGRAMA DE CAIXA - BOXPLOT**\r\n",
        "Na estatística descritiva, um boxplot ou diagrama de caixa , é uma forma de análise gráfica que possui o mesmo intuito de um histograma, com a diferença que nele trabalhamos com os chamados **quartis**. O boxplot é divido da seguinte forma: <br>\r\n",
        "- Whisker ou fio de bigode: é a linha vertical ou horizontal que se extende do limite inferior até o limite superior. Configura a área que o boxplot toma para mostrar a variabilidade.\r\n",
        "- Limite Inferior: é a linha vertical que se encontra na esquerda. A partir de uma série de cálculos, o boxplot encontra o valor \"mínimo\" do nosso conjunto de dados. O que está fora dele são os chamados **Outliers**.\r\n",
        "- Limite Superior: é a linha vertical ou horizontal que se encontra na direita. Delimita o valor \"máximo\" que o boxplot define. O que está fora dele é chamado de **Outliers**.\r\n",
        "\r\n",
        "Analisando agora a caixa em si, termos que ela possui 3 linhas, seja na vertical ou horizontal. Cada uma dessas linhas possui um propósito:\r\n",
        " -  **Primeiro Quartil ou Q1** :  corresponde a 25% dos nossos dados. Ele crava o valor que, no nosso conjunto de dados de X valores, possui como valor que corresponda a 1/4. Há uma forma de calcular essa criação. Veremos mais abaixo.\r\n",
        "\r\n",
        " - **MEDIANA ou Segundo Quartil ou Q2**: a linha central da \"caixa\" é a mediana. É dela que temos o valor que corresponde a 50% dos nossos dados, que crava a real metade de tudo que temos em um determinado conjunto de dados. **Obs**: Não confundir com média.\r\n",
        "\r\n",
        " - **Tereeiro Quartil ou Q3**: corresponde a 75% dos nossos dados. Funciona na  mesma ideia que o primeiro quartil.\r\n",
        " - Outliers: são os nossos valores discrepantes. Pontos fora da curva. Correspondem aquelas bolinhas que ou estão acima e abaixo dos limites superior e inferior ou que estão mais ao lado, como excluídos. Representam valores que não identificados como \"normais\" no conjunto de dados. \r\n",
        "\r\n",
        "Exemplo das partes de um boxplot.  \r\n",
        "\r\n",
        "<img src= \"http://www.portalaction.com.br/sites/default/files/resize/EstatisticaBasica/figuras/boxplot1-700x354.png\">\r\n",
        "\r\n",
        "Vamos entender um pouco melhor a questão de construção de um boxplot. Temos que para a construção de um boxplot, primeiramente:\r\n",
        "* Calcular a mediana e os quartis. Supondo um conjunto de dados, temos que a mediana (em vermelho) é 3, o quartil inferior (verde) é {1} e  o quartil superior (azul) é {5}:\r\n",
        "\\begin{equation} A = \\big\\{-2,\\color{green}1,2,\\color{red}3,4,\\color{blue}5,6 \\big\\}\r\n",
        "\\end{equation}\r\n",
        "\r\n",
        "* Caixa representa 50% de todos os valores observados, concentrados na chamada **tendência central dos valores**. Para calcular o posicionamento seja na vertical  ou horizontal, calcularemos o chamado **amplitude interquartil** **AIQ**. Essa amplitude nada mais é do que a diferença de um quartil pro outro. Assim, temos que:\r\n",
        "\r\n",
        "\\begin{equation}\r\n",
        "Quartil \\space Superior =  5 \\\\\r\n",
        "Quartil \\space Inferior =  1 \\\\\r\n",
        "AIQ = Quartil \\space Superior - Quartil \\space Inferior \\\\\r\n",
        "AIQ = 5 -1 \\\\\r\n",
        "AIQ = 4 \r\n",
        "\\end{equation}\r\n",
        "\r\n",
        "Para definir os limites do **fio de bigode** devemos realizar os seguintes cálculos. Lembrando que os limites dos fio de bigode são os limites superior (LS) e Inferior (LI), logo assim:\r\n",
        "\r\n",
        "\\begin{equation}\r\n",
        "c = 1,5 \\\\\r\n",
        "LI = Q_1 - c  \\times AIQ \\\\\r\n",
        "LS = Q_3 + c \\times AIQ\r\n",
        "\\end{equation}\r\n",
        "**Nota**: Este **C** representa uma constante pertencente ao conjunto dos números Reais, pondendo assumir qualquer valor, mas geralmente utiliza-se 1,5.<br>\r\n",
        "No pandas, para que possamos descobrir quem são média, mediana, min,max, e por ai vai, usamos o pd.describe(). Podemos ainda, para verificar os quartis, usar o pd.quartile():\r\n",
        "\r\n",
        "```\r\n",
        "dados[\"VB17004\"].quartile(.25)  #Primeiro quartil\r\n",
        "dados[\"VB17004\"].quartile(.50)  #Segundo quartil ou  MEDIANA\r\n",
        "dados[\"VB17004\"].quartile(.75)  #Terceiro quartil\r\n",
        "\r\n",
        "```\r\n",
        "ou como dito anteriormente, usar **pd.decribe()**:\r\n",
        "```\r\n",
        "dados[\"VB17004\"].describe()\r\n",
        "\r\n",
        ">>>count    16556.000000\r\n",
        "mean       160.713113\r\n",
        "std         10.340070\r\n",
        "min        124.100000\r\n",
        "25%        153.800000\r\n",
        "50%        160.400000\r\n",
        "75%        167.900000\r\n",
        "max        195.300000\r\n",
        "Name: VB17004, dtype: float64\r\n",
        "```\r\n",
        "\r\n"
      ]
    }
  ]
}